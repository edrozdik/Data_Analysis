{
 "cells": [
  {
   "cell_type": "markdown",
   "metadata": {},
   "source": [
    "<div class=\"alert alert-success\">\n",
    "  <b> ✔️Комментарий ревьюера ✔️</b>\n",
    "\n",
    "Привет, Елена! Меня зовут Михаил, я буду проверять твой проект. Предлагаю общаться на 'ты' :)\n",
    "Однако, если это неудобно - сообщи, и мы перейдем на 'Вы'. Моя главная цель —  поделиться с тобой своим опытом и помочь тебе стать крутым специалистом, а не только указать на совершенные тобой ошибки.\n",
    "\n",
    "Видно, что к проекту приложен большой труд. Все ключевые этапы в работе выполнены, статистическое исследование проведено качественно. Так что в целом справиться с задачей тебе удалось.\n",
    "\n",
    "Есть несколько аспектов, которые **требуют** твоего **внимания**. Комментарии по ним помечены красным цветом и символами ❌. После их доработки проект будет принят, осталось совсем немного :) \n",
    "    \n",
    "\n",
    "Давай работать над проектом в диалоге: если **ты что-то меняешь** в проекте по моим рекомендациям — **пиши об этом**. Мне будет легче отследить изменения, если ты будешь использовать синюю форму, которую я прикреплю ниже. Пожалуйста, **не перемещай, не изменяй и не удаляй мои комментарии**. Всё это поможет выполнить повторную проверку твоего проекта оперативнее. \n",
    "\n",
    "\n",
    "\n",
    "Жду проект на повторное ревью. Успехов в изучении!\n",
    "\n",
    "<div class=\"alert alert-block alert-info\">\n",
    "  \n",
    "  <b>Комментарий cтудента</b>\n",
    "    \n",
    "  Михаил, привет! спасибо! поправила где были замечания\n",
    "</div>\n",
    "\n",
    "\n",
    "</div>\n",
    "<div class=\"alert alert-block alert-danger\"> <b>❌ Комментарий ревьюера ❌</b> \n",
    "    Так я выделяю моменты, которые требуют особого внимания. Нужно будет учесть их и внести корректировки в свою работу. </div>\n",
    "<div class=\"alert alert-block alert-warning\"> <b>⚠️ Комментарий ревьюера ⚠️</b> \n",
    "    Желтым я отмечу рекомендации, которые, могут быть полезными при твоей работе. Они носят рекомендационный характер, но будет классно, если ты будешь учитывать их при работе.</div>\n",
    "<div class=\"alert alert-block alert-success\"> <b>✔️ Комментарий ревьюера ✔️</b>\n",
    "    Так я выделяю удачные и элегантные решения, на которые можно опираться в будущих проектах.</div>\n",
    "<div class=\"alert alert-block alert-info\">\n",
    "    \n",
    "А в таком блоке ты можешь оставить комментарии для меня \n",
    "    \n",
    "</div>"
   ]
  },
  {
   "cell_type": "markdown",
   "metadata": {},
   "source": [
    "**Описание проекта**\n",
    "==\n",
    "\n",
    "Стартап продаёт продукты питания. Нужно разобраться, как ведут себя пользователи вашего мобильного приложения. \n",
    "\n",
    "Необходимо изучить воронку продаж. Узнайть, как пользователи доходят до покупки. Сколько пользователей доходит до покупки, а сколько — «застревает» на предыдущих шагах? На каких именно?  \n",
    "\n",
    "После этого необходимо исследовать результаты A/A/B-эксперимента.  \n",
    "\n",
    "Дизайнеры захотели поменять шрифты во всём приложении, а менеджеры испугались, что пользователям будет непривычно. Договорились принять решение по результатам A/A/B-теста. Пользователей разбили на 3 группы: 2 контрольные со старыми шрифтами и одну экспериментальную — с новыми. Необходимо выяснить, какой шрифт лучше."
   ]
  },
  {
   "cell_type": "markdown",
   "metadata": {},
   "source": [
    "<div class=\"alert alert-warning\">\n",
    "\n",
    "**⚠️ Комментарий ревьюера ⚠️**\n",
    "   \n",
    "   Рекомендую добавить к работе небольшой план работы, написанный своими словами - навык составления ТЗ пригодится в будущем\n",
    "\n",
    "</div>\n"
   ]
  },
  {
   "cell_type": "markdown",
   "metadata": {},
   "source": [
    "### Импортируем библиотеки"
   ]
  },
  {
   "cell_type": "code",
   "execution_count": 1,
   "metadata": {},
   "outputs": [
    {
     "name": "stdout",
     "output_type": "stream",
     "text": [
      "Requirement already satisfied: colorama in /opt/conda/lib/python3.9/site-packages (0.4.6)\r\n"
     ]
    }
   ],
   "source": [
    "!pip install colorama"
   ]
  },
  {
   "cell_type": "code",
   "execution_count": 2,
   "metadata": {},
   "outputs": [],
   "source": [
    "import pandas as pd\n",
    "import matplotlib.pyplot as plt\n",
    "import numpy as np\n",
    "import seaborn as sns\n",
    "from datetime import datetime, timedelta\n",
    "from scipy import stats as st\n",
    "import math as mth\n",
    "from colorama import Fore, Style, init"
   ]
  },
  {
   "cell_type": "markdown",
   "metadata": {},
   "source": [
    "### Открытие файла с данными и изучение общей информации"
   ]
  },
  {
   "cell_type": "code",
   "execution_count": 3,
   "metadata": {},
   "outputs": [],
   "source": [
    "data = pd.read_csv('/datasets/logs_exp.csv', sep = '\\t')"
   ]
  },
  {
   "cell_type": "code",
   "execution_count": 4,
   "metadata": {},
   "outputs": [],
   "source": [
    "#Функция получения первичной информации о датафрейме\n",
    "\n",
    "from colorama import Fore, Style, init\n",
    "\n",
    "# Инициализация colorama (для Windows это особенно важно)\n",
    "init(autoreset=True)\n",
    "\n",
    "def first_look(data):\n",
    "    print('---------Первые 10 строк-----------')\n",
    "    display(data.head(10))\n",
    "    print('---------Последние 10 строк---------')\n",
    "    display(data.tail(10))\n",
    "    print('---------Типы данных---------------\\n')\n",
    "    display(data.info())\n",
    "    print('---------Статистическая сводка---------------')\n",
    "    display(data.describe())\n",
    "    print('---------Пропуски-----------\\n')\n",
    "    display(data.isna().sum())\n",
    "    print('\\n---------Процент пропусков от всего датасета-----------')\n",
    "    display(data.isna().mean().sort_values(ascending=False)*100)\n",
    "    print('\\n---------Дубликаты-----------\\n')\n",
    "    \n",
    "    if data.duplicated().sum() > 0:\n",
    "        # Вывод количества дубликатов красным цветом\n",
    "        print(Fore.RED + 'Дубликатов: ', data.duplicated().sum())\n",
    "    else:\n",
    "        print('Дубликатов НЕТ')"
   ]
  },
  {
   "cell_type": "markdown",
   "metadata": {},
   "source": [
    "<div class=\"alert alert-block alert-info\">\n",
    "  \n",
    "  <b>Комментарий cтудента</b>\n",
    "    \n",
    "  я хотела, чтобы \"Дубликатов: \" подсветилось красным цветом. но у меня почему-то не получилось, хотя библиотеку я загрузила. Подскажите, пожалуйста, в чем проблема?\n",
    "<div class=\"alert alert-success\">\n",
    "\n",
    "**✔️ Комментарий ревьюера ✔️**\n",
    "   \n",
    "   Я данной библиотекой не пользовался, но, судя по данному мануалу: https://pythonru.com/biblioteki/tsvetnoj-vyvod-teksta-v-python-colorama нужна более тонкая настройка. Предположу, что проблемы могут возникнуть из-за особенностей платформы. У тебя на локальной машине код работает? В случае вопросов по твоему коду лучше обращаться к преподавателю по проекту.\n",
    "\n",
    "</div>\n",
    "    \n",
    "</div>"
   ]
  },
  {
   "cell_type": "code",
   "execution_count": 5,
   "metadata": {},
   "outputs": [
    {
     "name": "stdout",
     "output_type": "stream",
     "text": [
      "---------Первые 10 строк-----------\n"
     ]
    },
    {
     "data": {
      "text/html": [
       "<div>\n",
       "<style scoped>\n",
       "    .dataframe tbody tr th:only-of-type {\n",
       "        vertical-align: middle;\n",
       "    }\n",
       "\n",
       "    .dataframe tbody tr th {\n",
       "        vertical-align: top;\n",
       "    }\n",
       "\n",
       "    .dataframe thead th {\n",
       "        text-align: right;\n",
       "    }\n",
       "</style>\n",
       "<table border=\"1\" class=\"dataframe\">\n",
       "  <thead>\n",
       "    <tr style=\"text-align: right;\">\n",
       "      <th></th>\n",
       "      <th>EventName</th>\n",
       "      <th>DeviceIDHash</th>\n",
       "      <th>EventTimestamp</th>\n",
       "      <th>ExpId</th>\n",
       "    </tr>\n",
       "  </thead>\n",
       "  <tbody>\n",
       "    <tr>\n",
       "      <th>0</th>\n",
       "      <td>MainScreenAppear</td>\n",
       "      <td>4575588528974610257</td>\n",
       "      <td>1564029816</td>\n",
       "      <td>246</td>\n",
       "    </tr>\n",
       "    <tr>\n",
       "      <th>1</th>\n",
       "      <td>MainScreenAppear</td>\n",
       "      <td>7416695313311560658</td>\n",
       "      <td>1564053102</td>\n",
       "      <td>246</td>\n",
       "    </tr>\n",
       "    <tr>\n",
       "      <th>2</th>\n",
       "      <td>PaymentScreenSuccessful</td>\n",
       "      <td>3518123091307005509</td>\n",
       "      <td>1564054127</td>\n",
       "      <td>248</td>\n",
       "    </tr>\n",
       "    <tr>\n",
       "      <th>3</th>\n",
       "      <td>CartScreenAppear</td>\n",
       "      <td>3518123091307005509</td>\n",
       "      <td>1564054127</td>\n",
       "      <td>248</td>\n",
       "    </tr>\n",
       "    <tr>\n",
       "      <th>4</th>\n",
       "      <td>PaymentScreenSuccessful</td>\n",
       "      <td>6217807653094995999</td>\n",
       "      <td>1564055322</td>\n",
       "      <td>248</td>\n",
       "    </tr>\n",
       "    <tr>\n",
       "      <th>5</th>\n",
       "      <td>CartScreenAppear</td>\n",
       "      <td>6217807653094995999</td>\n",
       "      <td>1564055323</td>\n",
       "      <td>248</td>\n",
       "    </tr>\n",
       "    <tr>\n",
       "      <th>6</th>\n",
       "      <td>OffersScreenAppear</td>\n",
       "      <td>8351860793733343758</td>\n",
       "      <td>1564066242</td>\n",
       "      <td>246</td>\n",
       "    </tr>\n",
       "    <tr>\n",
       "      <th>7</th>\n",
       "      <td>MainScreenAppear</td>\n",
       "      <td>5682100281902512875</td>\n",
       "      <td>1564085677</td>\n",
       "      <td>246</td>\n",
       "    </tr>\n",
       "    <tr>\n",
       "      <th>8</th>\n",
       "      <td>MainScreenAppear</td>\n",
       "      <td>1850981295691852772</td>\n",
       "      <td>1564086702</td>\n",
       "      <td>247</td>\n",
       "    </tr>\n",
       "    <tr>\n",
       "      <th>9</th>\n",
       "      <td>MainScreenAppear</td>\n",
       "      <td>5407636962369102641</td>\n",
       "      <td>1564112112</td>\n",
       "      <td>246</td>\n",
       "    </tr>\n",
       "  </tbody>\n",
       "</table>\n",
       "</div>"
      ],
      "text/plain": [
       "                 EventName         DeviceIDHash  EventTimestamp  ExpId\n",
       "0         MainScreenAppear  4575588528974610257      1564029816    246\n",
       "1         MainScreenAppear  7416695313311560658      1564053102    246\n",
       "2  PaymentScreenSuccessful  3518123091307005509      1564054127    248\n",
       "3         CartScreenAppear  3518123091307005509      1564054127    248\n",
       "4  PaymentScreenSuccessful  6217807653094995999      1564055322    248\n",
       "5         CartScreenAppear  6217807653094995999      1564055323    248\n",
       "6       OffersScreenAppear  8351860793733343758      1564066242    246\n",
       "7         MainScreenAppear  5682100281902512875      1564085677    246\n",
       "8         MainScreenAppear  1850981295691852772      1564086702    247\n",
       "9         MainScreenAppear  5407636962369102641      1564112112    246"
      ]
     },
     "metadata": {},
     "output_type": "display_data"
    },
    {
     "name": "stdout",
     "output_type": "stream",
     "text": [
      "---------Последние 10 строк---------\n"
     ]
    },
    {
     "data": {
      "text/html": [
       "<div>\n",
       "<style scoped>\n",
       "    .dataframe tbody tr th:only-of-type {\n",
       "        vertical-align: middle;\n",
       "    }\n",
       "\n",
       "    .dataframe tbody tr th {\n",
       "        vertical-align: top;\n",
       "    }\n",
       "\n",
       "    .dataframe thead th {\n",
       "        text-align: right;\n",
       "    }\n",
       "</style>\n",
       "<table border=\"1\" class=\"dataframe\">\n",
       "  <thead>\n",
       "    <tr style=\"text-align: right;\">\n",
       "      <th></th>\n",
       "      <th>EventName</th>\n",
       "      <th>DeviceIDHash</th>\n",
       "      <th>EventTimestamp</th>\n",
       "      <th>ExpId</th>\n",
       "    </tr>\n",
       "  </thead>\n",
       "  <tbody>\n",
       "    <tr>\n",
       "      <th>244116</th>\n",
       "      <td>MainScreenAppear</td>\n",
       "      <td>3105221168899168702</td>\n",
       "      <td>1565212210</td>\n",
       "      <td>246</td>\n",
       "    </tr>\n",
       "    <tr>\n",
       "      <th>244117</th>\n",
       "      <td>MainScreenAppear</td>\n",
       "      <td>3105221168899168702</td>\n",
       "      <td>1565212213</td>\n",
       "      <td>246</td>\n",
       "    </tr>\n",
       "    <tr>\n",
       "      <th>244118</th>\n",
       "      <td>MainScreenAppear</td>\n",
       "      <td>3105221168899168702</td>\n",
       "      <td>1565212224</td>\n",
       "      <td>246</td>\n",
       "    </tr>\n",
       "    <tr>\n",
       "      <th>244119</th>\n",
       "      <td>MainScreenAppear</td>\n",
       "      <td>5746969938801999050</td>\n",
       "      <td>1565212315</td>\n",
       "      <td>246</td>\n",
       "    </tr>\n",
       "    <tr>\n",
       "      <th>244120</th>\n",
       "      <td>MainScreenAppear</td>\n",
       "      <td>5746969938801999050</td>\n",
       "      <td>1565212331</td>\n",
       "      <td>246</td>\n",
       "    </tr>\n",
       "    <tr>\n",
       "      <th>244121</th>\n",
       "      <td>MainScreenAppear</td>\n",
       "      <td>4599628364049201812</td>\n",
       "      <td>1565212345</td>\n",
       "      <td>247</td>\n",
       "    </tr>\n",
       "    <tr>\n",
       "      <th>244122</th>\n",
       "      <td>MainScreenAppear</td>\n",
       "      <td>5849806612437486590</td>\n",
       "      <td>1565212439</td>\n",
       "      <td>246</td>\n",
       "    </tr>\n",
       "    <tr>\n",
       "      <th>244123</th>\n",
       "      <td>MainScreenAppear</td>\n",
       "      <td>5746969938801999050</td>\n",
       "      <td>1565212483</td>\n",
       "      <td>246</td>\n",
       "    </tr>\n",
       "    <tr>\n",
       "      <th>244124</th>\n",
       "      <td>MainScreenAppear</td>\n",
       "      <td>5746969938801999050</td>\n",
       "      <td>1565212498</td>\n",
       "      <td>246</td>\n",
       "    </tr>\n",
       "    <tr>\n",
       "      <th>244125</th>\n",
       "      <td>OffersScreenAppear</td>\n",
       "      <td>5746969938801999050</td>\n",
       "      <td>1565212517</td>\n",
       "      <td>246</td>\n",
       "    </tr>\n",
       "  </tbody>\n",
       "</table>\n",
       "</div>"
      ],
      "text/plain": [
       "                 EventName         DeviceIDHash  EventTimestamp  ExpId\n",
       "244116    MainScreenAppear  3105221168899168702      1565212210    246\n",
       "244117    MainScreenAppear  3105221168899168702      1565212213    246\n",
       "244118    MainScreenAppear  3105221168899168702      1565212224    246\n",
       "244119    MainScreenAppear  5746969938801999050      1565212315    246\n",
       "244120    MainScreenAppear  5746969938801999050      1565212331    246\n",
       "244121    MainScreenAppear  4599628364049201812      1565212345    247\n",
       "244122    MainScreenAppear  5849806612437486590      1565212439    246\n",
       "244123    MainScreenAppear  5746969938801999050      1565212483    246\n",
       "244124    MainScreenAppear  5746969938801999050      1565212498    246\n",
       "244125  OffersScreenAppear  5746969938801999050      1565212517    246"
      ]
     },
     "metadata": {},
     "output_type": "display_data"
    },
    {
     "name": "stdout",
     "output_type": "stream",
     "text": [
      "---------Типы данных---------------\n",
      "\n",
      "<class 'pandas.core.frame.DataFrame'>\n",
      "RangeIndex: 244126 entries, 0 to 244125\n",
      "Data columns (total 4 columns):\n",
      " #   Column          Non-Null Count   Dtype \n",
      "---  ------          --------------   ----- \n",
      " 0   EventName       244126 non-null  object\n",
      " 1   DeviceIDHash    244126 non-null  int64 \n",
      " 2   EventTimestamp  244126 non-null  int64 \n",
      " 3   ExpId           244126 non-null  int64 \n",
      "dtypes: int64(3), object(1)\n",
      "memory usage: 7.5+ MB\n"
     ]
    },
    {
     "data": {
      "text/plain": [
       "None"
      ]
     },
     "metadata": {},
     "output_type": "display_data"
    },
    {
     "name": "stdout",
     "output_type": "stream",
     "text": [
      "---------Статистическая сводка---------------\n"
     ]
    },
    {
     "data": {
      "text/html": [
       "<div>\n",
       "<style scoped>\n",
       "    .dataframe tbody tr th:only-of-type {\n",
       "        vertical-align: middle;\n",
       "    }\n",
       "\n",
       "    .dataframe tbody tr th {\n",
       "        vertical-align: top;\n",
       "    }\n",
       "\n",
       "    .dataframe thead th {\n",
       "        text-align: right;\n",
       "    }\n",
       "</style>\n",
       "<table border=\"1\" class=\"dataframe\">\n",
       "  <thead>\n",
       "    <tr style=\"text-align: right;\">\n",
       "      <th></th>\n",
       "      <th>DeviceIDHash</th>\n",
       "      <th>EventTimestamp</th>\n",
       "      <th>ExpId</th>\n",
       "    </tr>\n",
       "  </thead>\n",
       "  <tbody>\n",
       "    <tr>\n",
       "      <th>count</th>\n",
       "      <td>2.441260e+05</td>\n",
       "      <td>2.441260e+05</td>\n",
       "      <td>244126.000000</td>\n",
       "    </tr>\n",
       "    <tr>\n",
       "      <th>mean</th>\n",
       "      <td>4.627568e+18</td>\n",
       "      <td>1.564914e+09</td>\n",
       "      <td>247.022296</td>\n",
       "    </tr>\n",
       "    <tr>\n",
       "      <th>std</th>\n",
       "      <td>2.642425e+18</td>\n",
       "      <td>1.771343e+05</td>\n",
       "      <td>0.824434</td>\n",
       "    </tr>\n",
       "    <tr>\n",
       "      <th>min</th>\n",
       "      <td>6.888747e+15</td>\n",
       "      <td>1.564030e+09</td>\n",
       "      <td>246.000000</td>\n",
       "    </tr>\n",
       "    <tr>\n",
       "      <th>25%</th>\n",
       "      <td>2.372212e+18</td>\n",
       "      <td>1.564757e+09</td>\n",
       "      <td>246.000000</td>\n",
       "    </tr>\n",
       "    <tr>\n",
       "      <th>50%</th>\n",
       "      <td>4.623192e+18</td>\n",
       "      <td>1.564919e+09</td>\n",
       "      <td>247.000000</td>\n",
       "    </tr>\n",
       "    <tr>\n",
       "      <th>75%</th>\n",
       "      <td>6.932517e+18</td>\n",
       "      <td>1.565075e+09</td>\n",
       "      <td>248.000000</td>\n",
       "    </tr>\n",
       "    <tr>\n",
       "      <th>max</th>\n",
       "      <td>9.222603e+18</td>\n",
       "      <td>1.565213e+09</td>\n",
       "      <td>248.000000</td>\n",
       "    </tr>\n",
       "  </tbody>\n",
       "</table>\n",
       "</div>"
      ],
      "text/plain": [
       "       DeviceIDHash  EventTimestamp          ExpId\n",
       "count  2.441260e+05    2.441260e+05  244126.000000\n",
       "mean   4.627568e+18    1.564914e+09     247.022296\n",
       "std    2.642425e+18    1.771343e+05       0.824434\n",
       "min    6.888747e+15    1.564030e+09     246.000000\n",
       "25%    2.372212e+18    1.564757e+09     246.000000\n",
       "50%    4.623192e+18    1.564919e+09     247.000000\n",
       "75%    6.932517e+18    1.565075e+09     248.000000\n",
       "max    9.222603e+18    1.565213e+09     248.000000"
      ]
     },
     "metadata": {},
     "output_type": "display_data"
    },
    {
     "name": "stdout",
     "output_type": "stream",
     "text": [
      "---------Пропуски-----------\n",
      "\n"
     ]
    },
    {
     "data": {
      "text/plain": [
       "EventName         0\n",
       "DeviceIDHash      0\n",
       "EventTimestamp    0\n",
       "ExpId             0\n",
       "dtype: int64"
      ]
     },
     "metadata": {},
     "output_type": "display_data"
    },
    {
     "name": "stdout",
     "output_type": "stream",
     "text": [
      "\n",
      "---------Процент пропусков от всего датасета-----------\n"
     ]
    },
    {
     "data": {
      "text/plain": [
       "EventName         0.0\n",
       "DeviceIDHash      0.0\n",
       "EventTimestamp    0.0\n",
       "ExpId             0.0\n",
       "dtype: float64"
      ]
     },
     "metadata": {},
     "output_type": "display_data"
    },
    {
     "name": "stdout",
     "output_type": "stream",
     "text": [
      "\n",
      "---------Дубликаты-----------\n",
      "\n",
      "Дубликатов:  413\n"
     ]
    }
   ],
   "source": [
    "first_look(data)"
   ]
  },
  {
   "cell_type": "markdown",
   "metadata": {},
   "source": [
    "Строки в таблице отображаются корректно, в таблице 244 126 записей.  \n",
    "Судя по тому, что кол-во строк одинаково для кажого столбца, можно предварительно сказать, что пропусков нет.\n",
    "\n",
    "В типах данных есть ошибка в виде не корректного отображения даты и времени.  \n",
    "Проведем предобработку данных:"
   ]
  },
  {
   "cell_type": "markdown",
   "metadata": {},
   "source": [
    "#### Заменим названия столбцов на удобные"
   ]
  },
  {
   "cell_type": "code",
   "execution_count": 6,
   "metadata": {},
   "outputs": [],
   "source": [
    "data.columns = ['event_name', 'user_id', 'time', 'group']"
   ]
  },
  {
   "cell_type": "code",
   "execution_count": 7,
   "metadata": {},
   "outputs": [
    {
     "data": {
      "text/html": [
       "<div>\n",
       "<style scoped>\n",
       "    .dataframe tbody tr th:only-of-type {\n",
       "        vertical-align: middle;\n",
       "    }\n",
       "\n",
       "    .dataframe tbody tr th {\n",
       "        vertical-align: top;\n",
       "    }\n",
       "\n",
       "    .dataframe thead th {\n",
       "        text-align: right;\n",
       "    }\n",
       "</style>\n",
       "<table border=\"1\" class=\"dataframe\">\n",
       "  <thead>\n",
       "    <tr style=\"text-align: right;\">\n",
       "      <th></th>\n",
       "      <th>event_name</th>\n",
       "      <th>user_id</th>\n",
       "      <th>time</th>\n",
       "      <th>group</th>\n",
       "    </tr>\n",
       "  </thead>\n",
       "  <tbody>\n",
       "    <tr>\n",
       "      <th>0</th>\n",
       "      <td>MainScreenAppear</td>\n",
       "      <td>4575588528974610257</td>\n",
       "      <td>1564029816</td>\n",
       "      <td>246</td>\n",
       "    </tr>\n",
       "    <tr>\n",
       "      <th>1</th>\n",
       "      <td>MainScreenAppear</td>\n",
       "      <td>7416695313311560658</td>\n",
       "      <td>1564053102</td>\n",
       "      <td>246</td>\n",
       "    </tr>\n",
       "    <tr>\n",
       "      <th>2</th>\n",
       "      <td>PaymentScreenSuccessful</td>\n",
       "      <td>3518123091307005509</td>\n",
       "      <td>1564054127</td>\n",
       "      <td>248</td>\n",
       "    </tr>\n",
       "    <tr>\n",
       "      <th>3</th>\n",
       "      <td>CartScreenAppear</td>\n",
       "      <td>3518123091307005509</td>\n",
       "      <td>1564054127</td>\n",
       "      <td>248</td>\n",
       "    </tr>\n",
       "    <tr>\n",
       "      <th>4</th>\n",
       "      <td>PaymentScreenSuccessful</td>\n",
       "      <td>6217807653094995999</td>\n",
       "      <td>1564055322</td>\n",
       "      <td>248</td>\n",
       "    </tr>\n",
       "  </tbody>\n",
       "</table>\n",
       "</div>"
      ],
      "text/plain": [
       "                event_name              user_id        time  group\n",
       "0         MainScreenAppear  4575588528974610257  1564029816    246\n",
       "1         MainScreenAppear  7416695313311560658  1564053102    246\n",
       "2  PaymentScreenSuccessful  3518123091307005509  1564054127    248\n",
       "3         CartScreenAppear  3518123091307005509  1564054127    248\n",
       "4  PaymentScreenSuccessful  6217807653094995999  1564055322    248"
      ]
     },
     "execution_count": 7,
     "metadata": {},
     "output_type": "execute_result"
    }
   ],
   "source": [
    "data.head(5)"
   ]
  },
  {
   "cell_type": "markdown",
   "metadata": {},
   "source": [
    "#### Добавим столбец с датой и временей, а также отдельный столбец с датой"
   ]
  },
  {
   "cell_type": "code",
   "execution_count": 8,
   "metadata": {},
   "outputs": [],
   "source": [
    "data['date_time'] = pd.to_datetime(data['time'],unit='s')"
   ]
  },
  {
   "cell_type": "code",
   "execution_count": 9,
   "metadata": {},
   "outputs": [],
   "source": [
    "data['date'] = pd.to_datetime(data['date_time'].dt.date)"
   ]
  },
  {
   "cell_type": "code",
   "execution_count": 10,
   "metadata": {},
   "outputs": [
    {
     "data": {
      "text/html": [
       "<div>\n",
       "<style scoped>\n",
       "    .dataframe tbody tr th:only-of-type {\n",
       "        vertical-align: middle;\n",
       "    }\n",
       "\n",
       "    .dataframe tbody tr th {\n",
       "        vertical-align: top;\n",
       "    }\n",
       "\n",
       "    .dataframe thead th {\n",
       "        text-align: right;\n",
       "    }\n",
       "</style>\n",
       "<table border=\"1\" class=\"dataframe\">\n",
       "  <thead>\n",
       "    <tr style=\"text-align: right;\">\n",
       "      <th></th>\n",
       "      <th>event_name</th>\n",
       "      <th>user_id</th>\n",
       "      <th>time</th>\n",
       "      <th>group</th>\n",
       "      <th>date_time</th>\n",
       "      <th>date</th>\n",
       "    </tr>\n",
       "  </thead>\n",
       "  <tbody>\n",
       "    <tr>\n",
       "      <th>0</th>\n",
       "      <td>MainScreenAppear</td>\n",
       "      <td>4575588528974610257</td>\n",
       "      <td>1564029816</td>\n",
       "      <td>246</td>\n",
       "      <td>2019-07-25 04:43:36</td>\n",
       "      <td>2019-07-25</td>\n",
       "    </tr>\n",
       "    <tr>\n",
       "      <th>1</th>\n",
       "      <td>MainScreenAppear</td>\n",
       "      <td>7416695313311560658</td>\n",
       "      <td>1564053102</td>\n",
       "      <td>246</td>\n",
       "      <td>2019-07-25 11:11:42</td>\n",
       "      <td>2019-07-25</td>\n",
       "    </tr>\n",
       "    <tr>\n",
       "      <th>2</th>\n",
       "      <td>PaymentScreenSuccessful</td>\n",
       "      <td>3518123091307005509</td>\n",
       "      <td>1564054127</td>\n",
       "      <td>248</td>\n",
       "      <td>2019-07-25 11:28:47</td>\n",
       "      <td>2019-07-25</td>\n",
       "    </tr>\n",
       "    <tr>\n",
       "      <th>3</th>\n",
       "      <td>CartScreenAppear</td>\n",
       "      <td>3518123091307005509</td>\n",
       "      <td>1564054127</td>\n",
       "      <td>248</td>\n",
       "      <td>2019-07-25 11:28:47</td>\n",
       "      <td>2019-07-25</td>\n",
       "    </tr>\n",
       "    <tr>\n",
       "      <th>4</th>\n",
       "      <td>PaymentScreenSuccessful</td>\n",
       "      <td>6217807653094995999</td>\n",
       "      <td>1564055322</td>\n",
       "      <td>248</td>\n",
       "      <td>2019-07-25 11:48:42</td>\n",
       "      <td>2019-07-25</td>\n",
       "    </tr>\n",
       "  </tbody>\n",
       "</table>\n",
       "</div>"
      ],
      "text/plain": [
       "                event_name              user_id        time  group  \\\n",
       "0         MainScreenAppear  4575588528974610257  1564029816    246   \n",
       "1         MainScreenAppear  7416695313311560658  1564053102    246   \n",
       "2  PaymentScreenSuccessful  3518123091307005509  1564054127    248   \n",
       "3         CartScreenAppear  3518123091307005509  1564054127    248   \n",
       "4  PaymentScreenSuccessful  6217807653094995999  1564055322    248   \n",
       "\n",
       "            date_time       date  \n",
       "0 2019-07-25 04:43:36 2019-07-25  \n",
       "1 2019-07-25 11:11:42 2019-07-25  \n",
       "2 2019-07-25 11:28:47 2019-07-25  \n",
       "3 2019-07-25 11:28:47 2019-07-25  \n",
       "4 2019-07-25 11:48:42 2019-07-25  "
      ]
     },
     "execution_count": 10,
     "metadata": {},
     "output_type": "execute_result"
    }
   ],
   "source": [
    "data.head()"
   ]
  },
  {
   "cell_type": "code",
   "execution_count": 11,
   "metadata": {},
   "outputs": [
    {
     "name": "stdout",
     "output_type": "stream",
     "text": [
      "MainScreenAppear\n",
      "PaymentScreenSuccessful\n",
      "CartScreenAppear\n",
      "OffersScreenAppear\n",
      "Tutorial\n"
     ]
    }
   ],
   "source": [
    "# Посмотрим уникальные записи в столбце 'EventName'\n",
    "for value in data['event_name'].unique():\n",
    "    print(value)"
   ]
  },
  {
   "cell_type": "code",
   "execution_count": 12,
   "metadata": {},
   "outputs": [
    {
     "data": {
      "text/plain": [
       "array([246, 248, 247])"
      ]
     },
     "execution_count": 12,
     "metadata": {},
     "output_type": "execute_result"
    }
   ],
   "source": [
    "# группы: 246 и 247 — контрольные группы, а 248 — экспериментальная.\n",
    "data['group'].unique()"
   ]
  },
  {
   "cell_type": "markdown",
   "metadata": {},
   "source": [
    "<div class=\"alert alert-success\">\n",
    "\n",
    "**✔️ Комментарий ревьюера ✔️**\n",
    "   \n",
    "   Хорошо. Приступим к предобработке\n",
    "\n",
    "</div>\n"
   ]
  },
  {
   "cell_type": "markdown",
   "metadata": {},
   "source": [
    "### Изучим и проверим данные"
   ]
  },
  {
   "cell_type": "code",
   "execution_count": 13,
   "metadata": {},
   "outputs": [
    {
     "data": {
      "text/plain": [
       "7551"
      ]
     },
     "execution_count": 13,
     "metadata": {},
     "output_type": "execute_result"
    }
   ],
   "source": [
    "# Сколько всего пользователей в логе?\n",
    "data['user_id'].nunique()"
   ]
  },
  {
   "cell_type": "code",
   "execution_count": 14,
   "metadata": {},
   "outputs": [],
   "source": [
    "def remove_duplicates(data):\n",
    "    # Поиск дубликатов\n",
    "    duplicates = data[data.duplicated()]\n",
    "    \n",
    "    # Проверка на наличие дубликатов\n",
    "    if len(duplicates) > 0:\n",
    "        print(f'Найдено дубликатов: {len(duplicates)}')\n",
    "        print('---------Первые 5 дубликатов-----------')\n",
    "        display(duplicates.head())\n",
    "        \n",
    "        # Удаление дубликатов\n",
    "        data_cleaned = data.drop_duplicates()\n",
    "        print(f'Количество строк после удаления дубликатов: {len(data_cleaned)}')\n",
    "        \n",
    "        return data_cleaned\n",
    "    else:\n",
    "        print('Дубликатов не найдено')\n",
    "        return data"
   ]
  },
  {
   "cell_type": "code",
   "execution_count": 15,
   "metadata": {},
   "outputs": [
    {
     "name": "stdout",
     "output_type": "stream",
     "text": [
      "Найдено дубликатов: 413\n",
      "---------Первые 5 дубликатов-----------\n"
     ]
    },
    {
     "data": {
      "text/html": [
       "<div>\n",
       "<style scoped>\n",
       "    .dataframe tbody tr th:only-of-type {\n",
       "        vertical-align: middle;\n",
       "    }\n",
       "\n",
       "    .dataframe tbody tr th {\n",
       "        vertical-align: top;\n",
       "    }\n",
       "\n",
       "    .dataframe thead th {\n",
       "        text-align: right;\n",
       "    }\n",
       "</style>\n",
       "<table border=\"1\" class=\"dataframe\">\n",
       "  <thead>\n",
       "    <tr style=\"text-align: right;\">\n",
       "      <th></th>\n",
       "      <th>event_name</th>\n",
       "      <th>user_id</th>\n",
       "      <th>time</th>\n",
       "      <th>group</th>\n",
       "      <th>date_time</th>\n",
       "      <th>date</th>\n",
       "    </tr>\n",
       "  </thead>\n",
       "  <tbody>\n",
       "    <tr>\n",
       "      <th>453</th>\n",
       "      <td>MainScreenAppear</td>\n",
       "      <td>5613408041324010552</td>\n",
       "      <td>1564474784</td>\n",
       "      <td>248</td>\n",
       "      <td>2019-07-30 08:19:44</td>\n",
       "      <td>2019-07-30</td>\n",
       "    </tr>\n",
       "    <tr>\n",
       "      <th>2350</th>\n",
       "      <td>CartScreenAppear</td>\n",
       "      <td>1694940645335807244</td>\n",
       "      <td>1564609899</td>\n",
       "      <td>248</td>\n",
       "      <td>2019-07-31 21:51:39</td>\n",
       "      <td>2019-07-31</td>\n",
       "    </tr>\n",
       "    <tr>\n",
       "      <th>3573</th>\n",
       "      <td>MainScreenAppear</td>\n",
       "      <td>434103746454591587</td>\n",
       "      <td>1564628377</td>\n",
       "      <td>248</td>\n",
       "      <td>2019-08-01 02:59:37</td>\n",
       "      <td>2019-08-01</td>\n",
       "    </tr>\n",
       "    <tr>\n",
       "      <th>4076</th>\n",
       "      <td>MainScreenAppear</td>\n",
       "      <td>3761373764179762633</td>\n",
       "      <td>1564631266</td>\n",
       "      <td>247</td>\n",
       "      <td>2019-08-01 03:47:46</td>\n",
       "      <td>2019-08-01</td>\n",
       "    </tr>\n",
       "    <tr>\n",
       "      <th>4803</th>\n",
       "      <td>MainScreenAppear</td>\n",
       "      <td>2835328739789306622</td>\n",
       "      <td>1564634641</td>\n",
       "      <td>248</td>\n",
       "      <td>2019-08-01 04:44:01</td>\n",
       "      <td>2019-08-01</td>\n",
       "    </tr>\n",
       "  </tbody>\n",
       "</table>\n",
       "</div>"
      ],
      "text/plain": [
       "            event_name              user_id        time  group  \\\n",
       "453   MainScreenAppear  5613408041324010552  1564474784    248   \n",
       "2350  CartScreenAppear  1694940645335807244  1564609899    248   \n",
       "3573  MainScreenAppear   434103746454591587  1564628377    248   \n",
       "4076  MainScreenAppear  3761373764179762633  1564631266    247   \n",
       "4803  MainScreenAppear  2835328739789306622  1564634641    248   \n",
       "\n",
       "               date_time       date  \n",
       "453  2019-07-30 08:19:44 2019-07-30  \n",
       "2350 2019-07-31 21:51:39 2019-07-31  \n",
       "3573 2019-08-01 02:59:37 2019-08-01  \n",
       "4076 2019-08-01 03:47:46 2019-08-01  \n",
       "4803 2019-08-01 04:44:01 2019-08-01  "
      ]
     },
     "metadata": {},
     "output_type": "display_data"
    },
    {
     "name": "stdout",
     "output_type": "stream",
     "text": [
      "Количество строк после удаления дубликатов: 243713\n"
     ]
    }
   ],
   "source": [
    "# Вызов функции для удаления дубликатов\n",
    "data_cleaned = remove_duplicates(data)"
   ]
  },
  {
   "cell_type": "code",
   "execution_count": 16,
   "metadata": {},
   "outputs": [
    {
     "name": "stdout",
     "output_type": "stream",
     "text": [
      "243713\n"
     ]
    }
   ],
   "source": [
    "# Теперь можем работать с data_cleaned\n",
    "print(data_cleaned['event_name'].count())"
   ]
  },
  {
   "cell_type": "code",
   "execution_count": 17,
   "metadata": {},
   "outputs": [
    {
     "name": "stdout",
     "output_type": "stream",
     "text": [
      "Пересекающиеся пользователи между группами 246 и 247: set()\n",
      "Пересекающиеся пользователи между группами 246 и 248: set()\n",
      "Пересекающиеся пользователи между группами 247 и 248: set()\n",
      "Пересекающиеся пользователи во всех группах: set()\n"
     ]
    }
   ],
   "source": [
    "# Создаем множества пользователей для каждой группы\n",
    "users_group_246 = set(data_cleaned[data_cleaned['group'] == 246]['user_id'])\n",
    "users_group_247 = set(data_cleaned[data_cleaned['group'] == 247]['user_id'])\n",
    "users_group_248 = set(data_cleaned[data_cleaned['group'] == 248]['user_id'])\n",
    "\n",
    "# Найдем пересекающихся пользователей между группами\n",
    "intersect_246_247 = users_group_246.intersection(users_group_247)\n",
    "intersect_246_248 = users_group_246.intersection(users_group_248)\n",
    "intersect_247_248 = users_group_247.intersection(users_group_248)\n",
    "\n",
    "# Проверка пересечений между всеми тремя группами\n",
    "intersect_all_groups = users_group_246.intersection(users_group_247, users_group_248)\n",
    "\n",
    "# Вывод результатов\n",
    "print(f'Пересекающиеся пользователи между группами 246 и 247: {intersect_246_247}')\n",
    "print(f'Пересекающиеся пользователи между группами 246 и 248: {intersect_246_248}')\n",
    "print(f'Пересекающиеся пользователи между группами 247 и 248: {intersect_247_248}')\n",
    "print(f'Пересекающиеся пользователи во всех группах: {intersect_all_groups}')"
   ]
  },
  {
   "cell_type": "markdown",
   "metadata": {},
   "source": [
    "Датафрейм пуст, следовательно каждый пользователь состоит только в 1й группе"
   ]
  },
  {
   "cell_type": "markdown",
   "metadata": {},
   "source": [
    "<div class=\"alert alert-success\">\n",
    "\n",
    "**✔️ Комментарий ревьюера ✔️**\n",
    "   \n",
    "   Очень хорошо, что не забываешь проверять данные на наличие пропусков, дубликатов, а также пользователей, которые могли попасть в несколько групп одновременно.  Молодец, что приводишь даты к нужному формату - предобработка проведена отлично.\n",
    "\n",
    "</div>"
   ]
  },
  {
   "cell_type": "markdown",
   "metadata": {},
   "source": [
    "Узнаем, сколько в среднем приходится событий на пользователя. Вызовем метод discribe()"
   ]
  },
  {
   "cell_type": "code",
   "execution_count": 18,
   "metadata": {},
   "outputs": [
    {
     "data": {
      "text/html": [
       "<div>\n",
       "<style scoped>\n",
       "    .dataframe tbody tr th:only-of-type {\n",
       "        vertical-align: middle;\n",
       "    }\n",
       "\n",
       "    .dataframe tbody tr th {\n",
       "        vertical-align: top;\n",
       "    }\n",
       "\n",
       "    .dataframe thead th {\n",
       "        text-align: right;\n",
       "    }\n",
       "</style>\n",
       "<table border=\"1\" class=\"dataframe\">\n",
       "  <thead>\n",
       "    <tr style=\"text-align: right;\">\n",
       "      <th></th>\n",
       "      <th>event_name</th>\n",
       "    </tr>\n",
       "  </thead>\n",
       "  <tbody>\n",
       "    <tr>\n",
       "      <th>count</th>\n",
       "      <td>7551.000000</td>\n",
       "    </tr>\n",
       "    <tr>\n",
       "      <th>mean</th>\n",
       "      <td>32.275593</td>\n",
       "    </tr>\n",
       "    <tr>\n",
       "      <th>std</th>\n",
       "      <td>65.154219</td>\n",
       "    </tr>\n",
       "    <tr>\n",
       "      <th>min</th>\n",
       "      <td>1.000000</td>\n",
       "    </tr>\n",
       "    <tr>\n",
       "      <th>25%</th>\n",
       "      <td>9.000000</td>\n",
       "    </tr>\n",
       "    <tr>\n",
       "      <th>50%</th>\n",
       "      <td>20.000000</td>\n",
       "    </tr>\n",
       "    <tr>\n",
       "      <th>75%</th>\n",
       "      <td>37.000000</td>\n",
       "    </tr>\n",
       "    <tr>\n",
       "      <th>max</th>\n",
       "      <td>2307.000000</td>\n",
       "    </tr>\n",
       "  </tbody>\n",
       "</table>\n",
       "</div>"
      ],
      "text/plain": [
       "        event_name\n",
       "count  7551.000000\n",
       "mean     32.275593\n",
       "std      65.154219\n",
       "min       1.000000\n",
       "25%       9.000000\n",
       "50%      20.000000\n",
       "75%      37.000000\n",
       "max    2307.000000"
      ]
     },
     "execution_count": 18,
     "metadata": {},
     "output_type": "execute_result"
    }
   ],
   "source": [
    "data_cleaned.groupby('user_id').agg({'event_name': 'count'}).describe()"
   ]
  },
  {
   "cell_type": "markdown",
   "metadata": {},
   "source": [
    "- **count:** Количество уникальных пользователей - 7551  \n",
    "- **mean:** Среднее количество событий на пользователя - 32,27  \n",
    "- **std:** Стандартное отклонение (разброс) количества событий на пользователя - 65,1   \n",
    "- **min:** Минимальное количество событий у одного пользователя - 1,0  \n",
    "- **25%:** Первый квартиль (значение, ниже которого находится 25% данных) - 9,0  \n",
    "- **50% (median):** Медианное количество событий (центральное значение) - 20,0  \n",
    "- **75%:** Третий квартиль (значение, ниже которого находится 75% данных) - 37,0  \n",
    "- **max:** Максимальное количество событий у одного пользователя - 2307,0  "
   ]
  },
  {
   "cell_type": "markdown",
   "metadata": {},
   "source": [
    "Колличество событий для пользователей сильно разнится - это видно по минимальному значению в единицу и максимальному - в 2307, а также высокому стандартному отклонению.  \n",
    "Поэтому для оценки того, как часто пользователи совершают действия на сайте, будет корректно использовать медиану."
   ]
  },
  {
   "cell_type": "code",
   "execution_count": 19,
   "metadata": {},
   "outputs": [
    {
     "name": "stdout",
     "output_type": "stream",
     "text": [
      "Минимальная дата: 2019-07-25\n",
      "Максимальная дата: 2019-08-07\n",
      "Временной промежуток - 13 дней\n"
     ]
    }
   ],
   "source": [
    "print ('Минимальная дата:', data_cleaned['date'].min().date())\n",
    "print ('Максимальная дата:', data_cleaned['date'].max().date()) \n",
    "print('Временной промежуток -', (data_cleaned['date'].max() - data_cleaned['date'].min()).days, 'дней')"
   ]
  },
  {
   "cell_type": "code",
   "execution_count": 20,
   "metadata": {},
   "outputs": [
    {
     "data": {
      "image/png": "[encoded data removed]",
      "text/plain": [
       "<Figure size 720x432 with 1 Axes>"
      ]
     },
     "metadata": {
      "needs_background": "light"
     },
     "output_type": "display_data"
    }
   ],
   "source": [
    "#зададим параметры и подписи, построим гистограмму\n",
    "plt.figure(figsize=(10,6))   \n",
    "data_cleaned['date'].hist(bins=13)\n",
    "plt.xticks(rotation=45)\n",
    "plt.xlabel('Дата')\n",
    "plt.ylabel('Кол-во событий') \n",
    "plt.title('Распредление кол-ва собыий по дням') \n",
    "plt.show() "
   ]
  },
  {
   "cell_type": "markdown",
   "metadata": {},
   "source": [
    "Даны данные с 25.07.19 по 07.08.2019, однако на гистограмме видно, что полноценными данными мы обладаем только с 01.08.19."
   ]
  },
  {
   "cell_type": "code",
   "execution_count": 21,
   "metadata": {},
   "outputs": [],
   "source": [
    "#отбросим период с неполными датами:\n",
    "data_act = data_cleaned.query('date >= \"2019-08-01\"')"
   ]
  },
  {
   "cell_type": "code",
   "execution_count": 22,
   "metadata": {},
   "outputs": [
    {
     "data": {
      "text/plain": [
       "2826"
      ]
     },
     "execution_count": 22,
     "metadata": {},
     "output_type": "execute_result"
    }
   ],
   "source": [
    "#посчитаем потерю событий:\n",
    "len(data_cleaned) - len(data_act)"
   ]
  },
  {
   "cell_type": "code",
   "execution_count": 23,
   "metadata": {},
   "outputs": [
    {
     "name": "stdout",
     "output_type": "stream",
     "text": [
      "доля потерянных событий 1.2%\n"
     ]
    }
   ],
   "source": [
    "print(f\"доля потерянных событий {(len(data_cleaned) - len(data_act))/len(data_cleaned):.1%}\")"
   ]
  },
  {
   "cell_type": "code",
   "execution_count": 24,
   "metadata": {},
   "outputs": [
    {
     "data": {
      "text/plain": [
       "17"
      ]
     },
     "execution_count": 24,
     "metadata": {},
     "output_type": "execute_result"
    }
   ],
   "source": [
    "#посчитаем потерю пользователей:\n",
    "data_cleaned['user_id'].nunique()-data_act['user_id'].nunique()"
   ]
  },
  {
   "cell_type": "code",
   "execution_count": 25,
   "metadata": {},
   "outputs": [
    {
     "name": "stdout",
     "output_type": "stream",
     "text": [
      "доля потерянных пользователей 0.2%\n"
     ]
    }
   ],
   "source": [
    "print(f\"доля потерянных пользователей {(data_cleaned['user_id'].nunique()-data_act['user_id'].nunique())/data_cleaned['user_id'].nunique():.1%}\")"
   ]
  },
  {
   "cell_type": "code",
   "execution_count": 26,
   "metadata": {},
   "outputs": [
    {
     "data": {
      "text/plain": [
       "7534"
      ]
     },
     "execution_count": 26,
     "metadata": {},
     "output_type": "execute_result"
    }
   ],
   "source": [
    "data_act.query('date >= \"2019-08-01\"')['user_id'].nunique()"
   ]
  },
  {
   "cell_type": "code",
   "execution_count": 27,
   "metadata": {},
   "outputs": [
    {
     "name": "stdout",
     "output_type": "stream",
     "text": [
      "group\n",
      "246    2484\n",
      "247    2513\n",
      "248    2537\n",
      "Name: user_id, dtype: int64\n"
     ]
    }
   ],
   "source": [
    "# Подсчитаем количество уникальных пользователей в каждой группе после 2019-08-01\n",
    "group_distribution = (\n",
    "    data_act.query('date >= \"2019-08-01\"')\n",
    "    .groupby('group')['user_id']\n",
    "    .nunique()\n",
    ")\n",
    "\n",
    "# Вывод результатов\n",
    "print(group_distribution)"
   ]
  },
  {
   "cell_type": "markdown",
   "metadata": {},
   "source": [
    "<div class=\"alert alert-danger\">\n",
    "\n",
    "**❌ Комментарий ревьюера ❌**\n",
    "   \n",
    "   Здесь нас интересуют именно пользователи (user_id)\n",
    "\n",
    "</div>\n",
    "\n",
    "<div class=\"alert alert-block alert-info\">\n",
    "  \n",
    "  <b>Комментарий cтудента</b>\n",
    "    \n",
    "  добавила\n",
    "</div>"
   ]
  },
  {
   "cell_type": "markdown",
   "metadata": {},
   "source": [
    "<div class=\"alert alert-danger\">\n",
    "\n",
    "**❌ Комментарий ревьюера v2❌**\n",
    "   \n",
    "   Важно показать, что именно пользователи, а не события сохранены по каждой из трех групп после фильтрации\n",
    "\n",
    "</div>\n",
    "\n",
    "<div class=\"alert alert-block alert-info\">\n",
    "  \n",
    "  <b>Комментарий cтудента</b>\n",
    "    \n",
    "  сейчас правильно?\n",
    "<div class=\"alert alert-success\">\n",
    "\n",
    "**✔️ Комментарий ревьюера v3✔️**\n",
    "   \n",
    "   Теперь верно👍\n",
    "\n",
    "</div>\n",
    "    \n",
    "</div>"
   ]
  },
  {
   "cell_type": "markdown",
   "metadata": {},
   "source": [
    "**Выводы:**  \n",
    "На 3 шаге мы:\n",
    "\n",
    "- посчитали, сколько событий в дата сете: 243 713;\n",
    "\n",
    "- посчитали количество уникальных пользователей: 7 551;\n",
    "\n",
    "- посчитали сколько событий в среднем приходится на пользователя: 20;\n",
    "\n",
    "- определили минимальную и максимальную дату событий: 2019-07-25 и 2019-08-07 соответственно, однако полные данные оказались лишь 2019-08-01 по 2019-08-07;\n",
    "\n",
    "- обросили неполные данные и посчитали потери:  \n",
    "\n",
    "  а) потеря событий всего 2 826 из 243 713 (1,2%)\n",
    "\n",
    "  б) потеря пользователей 17 из 7551 (0,2%)"
   ]
  },
  {
   "cell_type": "markdown",
   "metadata": {},
   "source": [
    "<div class=\"alert alert-success\">\n",
    "\n",
    "**✔️ Комментарий ревьюера ✔️**\n",
    "   \n",
    "   Хорошо👍 Мы убедились, что доля потерь мала - приступим к изучению воронки\n",
    "\n",
    "</div>\n"
   ]
  },
  {
   "cell_type": "markdown",
   "metadata": {},
   "source": [
    "### Изучим воронку событий"
   ]
  },
  {
   "cell_type": "markdown",
   "metadata": {},
   "source": [
    "Посмотрим, какие события есть в логах, как часто они встречаются. Отсортируем события по частоте"
   ]
  },
  {
   "cell_type": "code",
   "execution_count": 28,
   "metadata": {},
   "outputs": [
    {
     "name": "stdout",
     "output_type": "stream",
     "text": [
      "Вариантов событий: 5\n"
     ]
    },
    {
     "data": {
      "text/plain": [
       "MainScreenAppear           117328\n",
       "OffersScreenAppear          46333\n",
       "CartScreenAppear            42303\n",
       "PaymentScreenSuccessful     33918\n",
       "Tutorial                     1005\n",
       "Name: event_name, dtype: int64"
      ]
     },
     "metadata": {},
     "output_type": "display_data"
    }
   ],
   "source": [
    "print('Вариантов событий:', data_act['event_name'].value_counts().shape[0]) \n",
    "display(data_act['event_name'].value_counts())  "
   ]
  },
  {
   "cell_type": "markdown",
   "metadata": {},
   "source": [
    "Посчитаем, сколько пользователей совершали каждое из этих событий.  \n",
    "Отсортируем события по числу пользователей. Посчитаем долю пользователей, которые хоть раз совершали событие"
   ]
  },
  {
   "cell_type": "markdown",
   "metadata": {},
   "source": [
    "Всего 5 вариантов событий:\n",
    "\n",
    "MainScreenAppear - заход на главную страницу  \n",
    "OffersScreenAppear - заход на рекомендованную страницу  \n",
    "CartScreenAppear - заход на страницу с оплатой  \n",
    "PaymentScreenSuccessful - попадание на страницу с успешной оплатой  \n",
    "Tutorial - попадание на страницу c обучением  "
   ]
  },
  {
   "cell_type": "markdown",
   "metadata": {},
   "source": [
    "В событийной воронке нет расхождений - все пользователи сначала попадают на главный экран, поэтому их больше всего, на рекомендуемые страницы попдает примерно в 3 раза меньше, далее воронка сужается до попадания на старницу с оплатой и старницу с сообщением об успешной оплате."
   ]
  },
  {
   "cell_type": "markdown",
   "metadata": {},
   "source": [
    "Посчитаем, сколько пользователей совершали каждое из этих событий. Отсортируем события по числу пользователей. Посчитаем долю пользователей, которые хоть раз совершали событие."
   ]
  },
  {
   "cell_type": "code",
   "execution_count": 29,
   "metadata": {},
   "outputs": [
    {
     "data": {
      "text/html": [
       "<div>\n",
       "<style scoped>\n",
       "    .dataframe tbody tr th:only-of-type {\n",
       "        vertical-align: middle;\n",
       "    }\n",
       "\n",
       "    .dataframe tbody tr th {\n",
       "        vertical-align: top;\n",
       "    }\n",
       "\n",
       "    .dataframe thead th {\n",
       "        text-align: right;\n",
       "    }\n",
       "</style>\n",
       "<table border=\"1\" class=\"dataframe\">\n",
       "  <thead>\n",
       "    <tr style=\"text-align: right;\">\n",
       "      <th></th>\n",
       "      <th>users</th>\n",
       "      <th>ratio</th>\n",
       "    </tr>\n",
       "    <tr>\n",
       "      <th>event_name</th>\n",
       "      <th></th>\n",
       "      <th></th>\n",
       "    </tr>\n",
       "  </thead>\n",
       "  <tbody>\n",
       "    <tr>\n",
       "      <th>MainScreenAppear</th>\n",
       "      <td>7419</td>\n",
       "      <td>98.47</td>\n",
       "    </tr>\n",
       "    <tr>\n",
       "      <th>OffersScreenAppear</th>\n",
       "      <td>4593</td>\n",
       "      <td>60.96</td>\n",
       "    </tr>\n",
       "    <tr>\n",
       "      <th>CartScreenAppear</th>\n",
       "      <td>3734</td>\n",
       "      <td>49.56</td>\n",
       "    </tr>\n",
       "    <tr>\n",
       "      <th>PaymentScreenSuccessful</th>\n",
       "      <td>3539</td>\n",
       "      <td>46.97</td>\n",
       "    </tr>\n",
       "    <tr>\n",
       "      <th>Tutorial</th>\n",
       "      <td>840</td>\n",
       "      <td>11.15</td>\n",
       "    </tr>\n",
       "  </tbody>\n",
       "</table>\n",
       "</div>"
      ],
      "text/plain": [
       "                         users  ratio\n",
       "event_name                           \n",
       "MainScreenAppear          7419  98.47\n",
       "OffersScreenAppear        4593  60.96\n",
       "CartScreenAppear          3734  49.56\n",
       "PaymentScreenSuccessful   3539  46.97\n",
       "Tutorial                   840  11.15"
      ]
     },
     "execution_count": 29,
     "metadata": {},
     "output_type": "execute_result"
    }
   ],
   "source": [
    "user_per_event = data_act.groupby('event_name').agg(users=('user_id','nunique')).sort_values('users', ascending=False)\n",
    "user_per_event['ratio'] = round(user_per_event['users']/data_act['user_id'].nunique() * 100, 2)\n",
    "user_per_event"
   ]
  },
  {
   "cell_type": "markdown",
   "metadata": {},
   "source": [
    "По воронке событий посчитаем, какая доля пользователей проходит на следующий шаг воронки (от числа пользователей на предыдущем).  \n",
    "То есть для последовательности событий A → B → C посчитаем отношение числа пользователей с событием B к количеству пользователей с событием A, а также отношение числа пользователей с событием C к количеству пользователей с событием B."
   ]
  },
  {
   "cell_type": "code",
   "execution_count": 30,
   "metadata": {},
   "outputs": [
    {
     "name": "stdout",
     "output_type": "stream",
     "text": [
      "Доля пользователей, перешедших с MainScreenAppear на OffersScreenAppear: 61.91%\n",
      "Доля пользователей, перешедших с OffersScreenAppear на CartScreenAppear: 81.30%\n",
      "Доля пользователей, перешедших с CartScreenAppear на PaymentScreenSuccessful: 94.78%\n"
     ]
    }
   ],
   "source": [
    "# Получаем уникальных пользователей для каждого события\n",
    "users_main_screen = set(data_act[data_act['event_name'] == 'MainScreenAppear']['user_id'])\n",
    "users_offers_screen = set(data_act[data_act['event_name'] == 'OffersScreenAppear']['user_id'])\n",
    "users_cart_screen = set(data_act[data_act['event_name'] == 'CartScreenAppear']['user_id'])\n",
    "users_payment_success = set(data_act[data_act['event_name'] == 'PaymentScreenSuccessful']['user_id'])\n",
    "\n",
    "# Расчёт доли перехода с одного шага на следующий\n",
    "offers_ratio = len(users_offers_screen) / len(users_main_screen) * 100\n",
    "cart_ratio = len(users_cart_screen) / len(users_offers_screen) * 100\n",
    "payment_ratio = len(users_payment_success) / len(users_cart_screen) * 100\n",
    "\n",
    "# Вывод результатов\n",
    "print(f'Доля пользователей, перешедших с MainScreenAppear на OffersScreenAppear: {offers_ratio:.2f}%')\n",
    "print(f'Доля пользователей, перешедших с OffersScreenAppear на CartScreenAppear: {cart_ratio:.2f}%')\n",
    "print(f'Доля пользователей, перешедших с CartScreenAppear на PaymentScreenSuccessful: {payment_ratio:.2f}%')"
   ]
  },
  {
   "cell_type": "markdown",
   "metadata": {},
   "source": [
    "Из этих данных видно, что наибольшая потеря пользователей происходит на первом шаге — переходе с MainScreenAppear на OffersScreenAppear (61.94%). Это самый низкий процент перехода, значит, здесь теряется больше всего пользователей."
   ]
  },
  {
   "cell_type": "code",
   "execution_count": 31,
   "metadata": {},
   "outputs": [
    {
     "name": "stdout",
     "output_type": "stream",
     "text": [
      "Наибольшая потеря пользователей происходит на шаге: MainScreenAppear -> OffersScreenAppear (61.91%)\n"
     ]
    }
   ],
   "source": [
    "# Создаем список с долями переходов между шагами\n",
    "ratios = {\n",
    "    'MainScreenAppear -> OffersScreenAppear': offers_ratio,\n",
    "    'OffersScreenAppear -> CartScreenAppear': cart_ratio,\n",
    "    'CartScreenAppear -> PaymentScreenSuccessful': payment_ratio\n",
    "}\n",
    "\n",
    "# Определяем шаг с наименьшим процентом перехода\n",
    "max_loss_step = min(ratios, key=ratios.get)\n",
    "max_loss_value = min(ratios.values())\n",
    "\n",
    "# Вывод результата\n",
    "print(f'Наибольшая потеря пользователей происходит на шаге: {max_loss_step} ({max_loss_value:.2f}%)')\n"
   ]
  },
  {
   "cell_type": "markdown",
   "metadata": {},
   "source": [
    "Проверим, какая доля пользователей доходит от первого события до оплаты?"
   ]
  },
  {
   "cell_type": "code",
   "execution_count": 32,
   "metadata": {},
   "outputs": [
    {
     "name": "stdout",
     "output_type": "stream",
     "text": [
      "Доля пользователей, дошедших от первого события до оплаты: 46.38%\n"
     ]
    }
   ],
   "source": [
    "# Получаем уникальных пользователей для первого события (MainScreenAppear) и оплаты (PaymentScreenSuccessful)\n",
    "users_main_screen = set(data_act[data_act['event_name'] == 'MainScreenAppear']['user_id'])\n",
    "users_payment_success = set(data_act[data_act['event_name'] == 'PaymentScreenSuccessful']['user_id'])\n",
    "\n",
    "# Рассчитываем долю пользователей, которые дошли от первого события до оплаты\n",
    "users_who_reached_payment = users_payment_success.intersection(users_main_screen)\n",
    "payment_completion_ratio = len(users_who_reached_payment) / len(users_main_screen) * 100\n",
    "\n",
    "# Вывод результата\n",
    "print(f'Доля пользователей, дошедших от первого события до оплаты: {payment_completion_ratio:.2f}%')"
   ]
  },
  {
   "cell_type": "markdown",
   "metadata": {},
   "source": [
    "<div class=\"alert alert-success\">\n",
    "\n",
    "**✔️ Комментарий ревьюера ✔️** \n",
    "   \n",
    "   Очень хорошо - проблема обнаружена - провал на первом шаге: от `MainScreenAppear` к `OffersScreenAppear`. Вероятно, нужно лучше прорабатывать механику, чтобы пользователи переходили к `OffersScreen`.\n",
    "    \n",
    "`Tutorial`, действительно, можно просто пропустить.\n",
    "</div>\n"
   ]
  },
  {
   "cell_type": "markdown",
   "metadata": {},
   "source": [
    "<div class=\"alert alert-danger\">\n",
    "\n",
    "**❌ Комментарий ревьюера ❌**\n",
    "   \n",
    "   Воронку необходимо визуализировать с помощью графика - можно использовать любой тип графика, подходящий для решения задачи, или воспользоваться инструкцией по plotly ниже\n",
    "\n",
    "</div>\n",
    "<div class=\"alert alert-warning\">\n",
    "\n",
    "**⚠️ Комментарий ревьюера ⚠️**\n",
    "   \n",
    "   \n",
    "   На данном этапе рекомендую ознакомиться с инструментом `plotly` для построения воронок - пригодится в дальнейшей работе: https://habr.com/ru/company/otus/blog/588190/ Не забудь исключить tutorial с визуализации и добавить заголовок у воронки.\n",
    "\n",
    "</div>\n",
    "\n",
    "<div class=\"alert alert-block alert-info\">\n",
    "  \n",
    "  <b>Комментарий cтудента</b>\n",
    "    \n",
    "  добавила график ниже\n",
    "</div>"
   ]
  },
  {
   "cell_type": "code",
   "execution_count": 33,
   "metadata": {},
   "outputs": [
    {
     "data": {
      "image/png": "[encoded data removed]",
      "text/plain": [
       "<Figure size 720x432 with 1 Axes>"
      ]
     },
     "metadata": {
      "needs_background": "light"
     },
     "output_type": "display_data"
    }
   ],
   "source": [
    "# Шаги воронки (события)\n",
    "steps = ['MainScreenAppear', 'OffersScreenAppear', 'CartScreenAppear', 'PaymentScreenSuccessful']\n",
    "\n",
    "# Подсчитаем количество уникальных пользователей на каждом шаге воронки\n",
    "users_per_step = []\n",
    "for step in steps:\n",
    "    users_per_step.append(data_act[data_act['event_name'] == step]['user_id'].nunique())\n",
    "\n",
    "# Построим график воронки\n",
    "plt.figure(figsize=(10, 6))\n",
    "plt.plot(steps, users_per_step, marker='o', linestyle='-', color='b')\n",
    "\n",
    "# Подписи осей\n",
    "plt.xlabel('Шаги воронки', fontsize=12)\n",
    "plt.ylabel('Количество пользователей', fontsize=12)\n",
    "\n",
    "# Добавляем заголовок\n",
    "plt.title('Воронка продаж: Переход пользователей по шагам', fontsize=14)\n",
    "\n",
    "# Показываем график\n",
    "plt.grid(True)\n",
    "plt.show()"
   ]
  },
  {
   "cell_type": "markdown",
   "metadata": {},
   "source": [
    "<div class=\"alert alert-danger\">\n",
    "\n",
    "**❌ Комментарий ревьюера v2❌**\n",
    "   \n",
    "   Не стоит прописывать числа для построения графика самостоятельно c клавиатуры ([7419, 4593, 3734, 3539] ) - легко допустить ошибку, и график будет построен по неактуальным данным. Если же мы получим число непосредственно из данных с помощью кода - такой проблемы не будет \n",
    "   \n",
    "\n",
    "</div>\n",
    "\n",
    "\n",
    "<div class=\"alert alert-block alert-info\">\n",
    "  \n",
    "  <b>Комментарий cтудента</b>\n",
    "    \n",
    "  переделала\n",
    "<div class=\"alert alert-success\">\n",
    "\n",
    "**✔️ Комментарий ревьюера v3✔️**\n",
    "   \n",
    "   👍\n",
    "\n",
    "</div>\n",
    "    \n",
    "</div>"
   ]
  },
  {
   "cell_type": "markdown",
   "metadata": {},
   "source": [
    "### Изучим результаты эксперимента"
   ]
  },
  {
   "cell_type": "markdown",
   "metadata": {},
   "source": [
    "Рассчитаем сколько пользователей в каждой экспериментальной группе"
   ]
  },
  {
   "cell_type": "code",
   "execution_count": 34,
   "metadata": {},
   "outputs": [
    {
     "name": "stdout",
     "output_type": "stream",
     "text": [
      "group\n",
      "246    2484\n",
      "247    2513\n",
      "248    2537\n",
      "Name: user_id, dtype: int64\n"
     ]
    }
   ],
   "source": [
    "# Подсчет уникальных пользователей в каждой группе\n",
    "users_per_group = data_act.groupby('group')['user_id'].nunique()\n",
    "\n",
    "# Вывод результата\n",
    "print(users_per_group)"
   ]
  },
  {
   "cell_type": "markdown",
   "metadata": {},
   "source": [
    "Есть 2 контрольные группы для А/А-эксперимента, чтобы проверить корректность всех механизмов и расчётов. Проверим, находят ли статистические критерии разницу между выборками 246 и 247"
   ]
  },
  {
   "cell_type": "markdown",
   "metadata": {},
   "source": [
    "Для того, что бы убедиться в корректности расчётов сравним группы 246 и 247 из групп А.\n",
    "\n",
    "Посчитаем сколько уникальных пользователей, есть в каждом событии:"
   ]
  },
  {
   "cell_type": "code",
   "execution_count": 35,
   "metadata": {},
   "outputs": [
    {
     "name": "stdout",
     "output_type": "stream",
     "text": [
      "Уникальные пользователи в каждом событии для группы 246:\n",
      "                event_name  unique_users_246\n",
      "0         CartScreenAppear              1266\n",
      "1         MainScreenAppear              2450\n",
      "2       OffersScreenAppear              1542\n",
      "3  PaymentScreenSuccessful              1200\n",
      "4                 Tutorial               278\n",
      "\n",
      "Уникальные пользователи в каждом событии для группы 247:\n",
      "                event_name  unique_users_247\n",
      "0         CartScreenAppear              1238\n",
      "1         MainScreenAppear              2476\n",
      "2       OffersScreenAppear              1520\n",
      "3  PaymentScreenSuccessful              1158\n",
      "4                 Tutorial               283\n"
     ]
    }
   ],
   "source": [
    "# Для группы 246\n",
    "group_246_unique_users = (\n",
    "    data_act[data_act['group'] == 246]\n",
    "    .groupby('event_name')['user_id']\n",
    "    .nunique()\n",
    "    .reset_index(name='unique_users_246')\n",
    ")\n",
    "\n",
    "# Для группы 247\n",
    "group_247_unique_users = (\n",
    "    data_act[data_act['group'] == 247]\n",
    "    .groupby('event_name')['user_id']\n",
    "    .nunique()\n",
    "    .reset_index(name='unique_users_247')\n",
    ")\n",
    "\n",
    "# Вывод результатов\n",
    "print(\"Уникальные пользователи в каждом событии для группы 246:\")\n",
    "print(group_246_unique_users)\n",
    "\n",
    "print(\"\\nУникальные пользователи в каждом событии для группы 247:\")\n",
    "print(group_247_unique_users)"
   ]
  },
  {
   "cell_type": "code",
   "execution_count": 36,
   "metadata": {},
   "outputs": [
    {
     "name": "stdout",
     "output_type": "stream",
     "text": [
      "                event_name  unique_users_246  unique_users_247  unique_users_248\n",
      "0         CartScreenAppear              1266              1238              1230\n",
      "1         MainScreenAppear              2450              2476              2493\n",
      "2       OffersScreenAppear              1542              1520              1531\n",
      "3  PaymentScreenSuccessful              1200              1158              1181\n",
      "4                 Tutorial               278               283               279\n"
     ]
    }
   ],
   "source": [
    "# Настраиваем вывод, чтобы таблица не переносилась\n",
    "pd.set_option('display.max_columns', None)  # Показывать все столбцы\n",
    "pd.set_option('display.expand_frame_repr', False)  # Не переносить строки\n",
    "\n",
    "# Подсчет уникальных пользователей для группы 246\n",
    "group_246_unique_users = (\n",
    "    data_act[data_act['group'] == 246]\n",
    "    .groupby('event_name')['user_id']\n",
    "    .nunique()\n",
    "    .reset_index(name='unique_users_246')\n",
    ")\n",
    "\n",
    "# Подсчет уникальных пользователей для группы 247\n",
    "group_247_unique_users = (\n",
    "    data_act[data_act['group'] == 247]\n",
    "    .groupby('event_name')['user_id']\n",
    "    .nunique()\n",
    "    .reset_index(name='unique_users_247')\n",
    ")\n",
    "\n",
    "# Подсчет уникальных пользователей для группы 248\n",
    "group_248_unique_users = (\n",
    "    data_act[data_act['group'] == 248]\n",
    "    .groupby('event_name')['user_id']\n",
    "    .nunique()\n",
    "    .reset_index(name='unique_users_248')\n",
    ")\n",
    "\n",
    "# Объединение результатов в одну таблицу по 'event_name'\n",
    "merged_groups = (group_246_unique_users\n",
    "                 .merge(group_247_unique_users, on='event_name', how='inner')\n",
    "                 .merge(group_248_unique_users, on='event_name', how='inner'))\n",
    "\n",
    "# Вывод объединенной таблицы\n",
    "print(merged_groups)"
   ]
  },
  {
   "cell_type": "markdown",
   "metadata": {},
   "source": [
    "Для проверки равенства двух доллей будем использовать z-test. Сформилируем гипотезы:\n",
    "\n",
    "H0: Разницы между долями групп нет  \n",
    "Н1: Разница между долями групп есть  \n",
    "α: 0.05  \n",
    "Для проведения теста по нескольким событиям напишем функцию:"
   ]
  },
  {
   "cell_type": "code",
   "execution_count": 37,
   "metadata": {},
   "outputs": [
    {
     "name": "stdout",
     "output_type": "stream",
     "text": [
      "Событие: MainScreenAppear\n",
      "p-значение: 0.7571\n",
      "Не получилось отвергнуть нулевую гипотезу: нет оснований считать доли разными.\n",
      "-------------------------------\n",
      "\n",
      "Событие: OffersScreenAppear\n",
      "p-значение: 0.2481\n",
      "Не получилось отвергнуть нулевую гипотезу: нет оснований считать доли разными.\n",
      "-------------------------------\n",
      "\n",
      "Событие: CartScreenAppear\n",
      "p-значение: 0.2288\n",
      "Не получилось отвергнуть нулевую гипотезу: нет оснований считать доли разными.\n",
      "-------------------------------\n",
      "\n",
      "Событие: PaymentScreenSuccessful\n",
      "p-значение: 0.1146\n",
      "Не получилось отвергнуть нулевую гипотезу: нет оснований считать доли разными.\n",
      "-------------------------------\n",
      "\n",
      "Событие: Tutorial\n",
      "p-значение: 0.9377\n",
      "Не получилось отвергнуть нулевую гипотезу: нет оснований считать доли разными.\n",
      "-------------------------------\n",
      "\n"
     ]
    }
   ],
   "source": [
    "# Функция для проведения z-теста\n",
    "def z_test(exp_group_1, exp_group_2, event, data):\n",
    "    # Выбираем данные для двух групп\n",
    "    group_1 = data[data['group'] == exp_group_1]\n",
    "    group_2 = data[data['group'] == exp_group_2]\n",
    "    \n",
    "    # Подсчитываем количество уникальных пользователей в событии\n",
    "    successes = np.array([\n",
    "        len(group_1[group_1['event_name'] == event]['user_id'].unique()),\n",
    "        len(group_2[group_2['event_name'] == event]['user_id'].unique())\n",
    "    ])\n",
    "    \n",
    "    # Общее количество пользователей в каждой группе\n",
    "    trials = np.array([group_1['user_id'].nunique(), group_2['user_id'].nunique()])\n",
    "    \n",
    "    # Пропорция успехов в каждой группе\n",
    "    p1 = successes[0] / trials[0]\n",
    "    p2 = successes[1] / trials[1]\n",
    "    \n",
    "    # Общая пропорция успехов\n",
    "    p_combined = (successes[0] + successes[1]) / (trials[0] + trials[1])\n",
    "    \n",
    "    # Разница между долями\n",
    "    difference = p1 - p2\n",
    "    \n",
    "    # Стандартное отклонение\n",
    "    z_value = difference / mth.sqrt(p_combined * (1 - p_combined) * (1 / trials[0] + 1 / trials[1]))\n",
    "    \n",
    "    # p-value\n",
    "    distr = st.norm(0, 1)\n",
    "    p_value = (1 - distr.cdf(abs(z_value))) * 2\n",
    "    \n",
    "    # Вывод результата\n",
    "    print(f'Событие: {event}')\n",
    "    print(f'p-значение: {p_value:.4f}')\n",
    "    \n",
    "    # Проверка значимости\n",
    "    alpha = 0.05\n",
    "    if p_value < alpha:\n",
    "        print('Отвергаем нулевую гипотезу: между долями есть значимая разница')\n",
    "    else:\n",
    "        print('Не получилось отвергнуть нулевую гипотезу: нет оснований считать доли разными.')\n",
    "    print('-------------------------------\\n')\n",
    "\n",
    "# Пример использования\n",
    "# Для каждого события используем функцию z-теста между группами 246 и 247\n",
    "events = ['MainScreenAppear', 'OffersScreenAppear', 'CartScreenAppear', 'PaymentScreenSuccessful', 'Tutorial']\n",
    "\n",
    "for event in events:\n",
    "    z_test(246, 247, event, data_act)"
   ]
  },
  {
   "cell_type": "markdown",
   "metadata": {},
   "source": [
    "<div class=\"alert alert-warning\">\n",
    "\n",
    "**⚠️ Комментарий ревьюера ⚠️**\n",
    "   \n",
    "   tutorial можно не проверять, данный этап не является обязательным\n",
    "\n",
    "</div>\n",
    "\n",
    "<div class=\"alert alert-block alert-info\">\n",
    "  \n",
    "  <b>Комментарий cтудента</b>\n",
    "    \n",
    "  да, хорошо, можно я не буду сейчас удалять, чтобы ничего не сломалось?\n",
    "<div class=\"alert alert-success\">\n",
    "\n",
    "**✔️ Комментарий ревьюера v2✔️**\n",
    "   \n",
    "   Да, можно оставить\n",
    "\n",
    "</div>\n",
    "    \n",
    "</div>\n"
   ]
  },
  {
   "cell_type": "code",
   "execution_count": 38,
   "metadata": {},
   "outputs": [
    {
     "name": "stdout",
     "output_type": "stream",
     "text": [
      "Самое популярное событие: MainScreenAppear, количество уникальных пользователей: 7419\n"
     ]
    }
   ],
   "source": [
    "# Подсчитаем количество уникальных пользователей для каждого события\n",
    "popular_event = data_act.groupby('event_name')['user_id'].nunique().reset_index()\n",
    "\n",
    "# Найдем самое популярное событие (с максимальным количеством пользователей)\n",
    "most_popular_event = popular_event.loc[popular_event['user_id'].idxmax()]\n",
    "\n",
    "# Вывод результата\n",
    "print(f\"Самое популярное событие: {most_popular_event['event_name']}, количество уникальных пользователей: {most_popular_event['user_id']}\")"
   ]
  },
  {
   "cell_type": "code",
   "execution_count": 39,
   "metadata": {},
   "outputs": [
    {
     "name": "stdout",
     "output_type": "stream",
     "text": [
      "Самое популярное событие: MainScreenAppear\n",
      "Число пользователей, совершивших событие 'MainScreenAppear' в каждой группе:\n",
      "   group  unique_users\n",
      "0    246          2450\n",
      "1    247          2476\n",
      "2    248          2493\n"
     ]
    }
   ],
   "source": [
    "# Шаг 1: Найдем самое популярное событие\n",
    "popular_event = data_act.groupby('event_name')['user_id'].nunique().reset_index()\n",
    "most_popular_event = popular_event.loc[popular_event['user_id'].idxmax()]['event_name']\n",
    "\n",
    "print(f\"Самое популярное событие: {most_popular_event}\")\n",
    "\n",
    "# Шаг 2: Подсчитаем число уникальных пользователей, совершивших это событие в каждой контрольной группе\n",
    "users_per_group = (\n",
    "    data_act[data_act['event_name'] == most_popular_event]\n",
    "    .groupby('group')['user_id']\n",
    "    .nunique()\n",
    "    .reset_index(name='unique_users')\n",
    ")\n",
    "\n",
    "# Вывод результата\n",
    "print(f\"Число пользователей, совершивших событие '{most_popular_event}' в каждой группе:\")\n",
    "print(users_per_group)"
   ]
  },
  {
   "cell_type": "code",
   "execution_count": 40,
   "metadata": {},
   "outputs": [
    {
     "name": "stdout",
     "output_type": "stream",
     "text": [
      "Доля пользователей, совершивших событие 'MainScreenAppear' в каждой группе:\n",
      "   group  unique_users  total_users  user_ratio\n",
      "0    246          2450         2484   98.631240\n",
      "1    247          2476         2513   98.527656\n",
      "2    248          2493         2537   98.265668\n"
     ]
    }
   ],
   "source": [
    "# Шаг 1: Подсчитаем число уникальных пользователей, совершивших событие в каждой группе\n",
    "users_per_group = (\n",
    "    data_act[data_act['event_name'] == most_popular_event]\n",
    "    .groupby('group')['user_id']\n",
    "    .nunique()\n",
    "    .reset_index(name='unique_users')\n",
    ")\n",
    "\n",
    "# Шаг 2: Подсчитаем общее количество уникальных пользователей в каждой группе\n",
    "total_users_per_group = (\n",
    "    data_act.groupby('group')['user_id']\n",
    "    .nunique()\n",
    "    .reset_index(name='total_users')\n",
    ")\n",
    "\n",
    "# Шаг 3: Объединим данные о пользователях, совершивших событие, с общим количеством пользователей\n",
    "merged_data = users_per_group.merge(total_users_per_group, on='group')\n",
    "\n",
    "# Шаг 4: Объединим данные о пользователях, совершивших событие, с общим количеством пользователей\n",
    "merged_data = users_per_group.merge(total_users_per_group, on='group')\n",
    "\n",
    "# Шаг 5: Рассчитаем долю пользователей, совершивших событие\n",
    "merged_data['user_ratio'] = (merged_data['unique_users'] / merged_data['total_users']) * 100\n",
    "\n",
    "# Вывод результата\n",
    "print(f\"Доля пользователей, совершивших событие '{most_popular_event}' в каждой группе:\")\n",
    "print(merged_data[['group', 'unique_users', 'total_users', 'user_ratio']])\n"
   ]
  },
  {
   "cell_type": "markdown",
   "metadata": {},
   "source": [
    "<div class=\"alert alert-danger\">\n",
    "\n",
    "**❌ Комментарий ревьюера ❌**\n",
    "   \n",
    "   Здесь код упал с ошибкой: NameError: name 'total_users_per_group' is not defined Исправь ее, и продолжим проверку\n",
    "\n",
    "</div>\n"
   ]
  },
  {
   "cell_type": "markdown",
   "metadata": {},
   "source": [
    "<div class=\"alert alert-block alert-info\">\n",
    "  \n",
    "  <b>Комментарий cтудента</b>\n",
    "    \n",
    "  да, поправила, спасибо\n",
    "</div>"
   ]
  },
  {
   "cell_type": "code",
   "execution_count": 41,
   "metadata": {},
   "outputs": [
    {
     "name": "stdout",
     "output_type": "stream",
     "text": [
      "Z-статистика: 0.3093, p-значение: 0.7571\n",
      "Статистически значимой разницы между группами 246 и 247 нет.\n"
     ]
    }
   ],
   "source": [
    "def z_test_proportions(group_1_successes, group_1_total, group_2_successes, group_2_total):\n",
    "    # Пропорция успехов в каждой группе\n",
    "    p1 = group_1_successes / group_1_total\n",
    "    p2 = group_2_successes / group_2_total\n",
    "    \n",
    "    # Общая пропорция успехов для двух групп\n",
    "    p_combined = (group_1_successes + group_2_successes) / (group_1_total + group_2_total)\n",
    "    \n",
    "    # Разница между долями\n",
    "    difference = p1 - p2\n",
    "    \n",
    "    # Стандартное отклонение для z-статистики\n",
    "    z_value = difference / mth.sqrt(p_combined * (1 - p_combined) * (1 / group_1_total + 1 / group_2_total))\n",
    "    \n",
    "    # p-value\n",
    "    distr = st.norm(0, 1)\n",
    "    p_value = (1 - distr.cdf(abs(z_value))) * 2\n",
    "    \n",
    "    return z_value, p_value\n",
    "\n",
    "# Шаг 3: Применим z-тест для групп 246 и 247\n",
    "z_value, p_value = z_test_proportions(\n",
    "    merged_data.loc[merged_data['group'] == 246, 'unique_users'].values[0],\n",
    "    merged_data.loc[merged_data['group'] == 246, 'total_users'].values[0],\n",
    "    merged_data.loc[merged_data['group'] == 247, 'unique_users'].values[0],\n",
    "    merged_data.loc[merged_data['group'] == 247, 'total_users'].values[0]\n",
    ")\n",
    "\n",
    "# Вывод результата\n",
    "print(f'Z-статистика: {z_value:.4f}, p-значение: {p_value:.4f}')\n",
    "alpha = 0.05\n",
    "if p_value < alpha:\n",
    "    print('Между группами 246 и 247 есть статистически значимая разница.')\n",
    "else:\n",
    "    print('Статистически значимой разницы между группами 246 и 247 нет.')\n"
   ]
  },
  {
   "cell_type": "code",
   "execution_count": 42,
   "metadata": {},
   "outputs": [
    {
     "name": "stdout",
     "output_type": "stream",
     "text": [
      "Событие: Tutorial\n",
      "Z-статистика: -0.0782, p-значение: 0.9377\n",
      "Статистически значимой разницы между группами 246 и 247 для события Tutorial нет.\n",
      "-------------------------------\n",
      "Событие: MainScreenAppear\n",
      "Z-статистика: 0.3093, p-значение: 0.7571\n",
      "Статистически значимой разницы между группами 246 и 247 для события MainScreenAppear нет.\n",
      "-------------------------------\n",
      "Событие: OffersScreenAppear\n",
      "Z-статистика: 1.1550, p-значение: 0.2481\n",
      "Статистически значимой разницы между группами 246 и 247 для события OffersScreenAppear нет.\n",
      "-------------------------------\n",
      "Событие: CartScreenAppear\n",
      "Z-статистика: 1.2034, p-значение: 0.2288\n",
      "Статистически значимой разницы между группами 246 и 247 для события CartScreenAppear нет.\n",
      "-------------------------------\n",
      "Событие: PaymentScreenSuccessful\n",
      "Z-статистика: 1.5780, p-значение: 0.1146\n",
      "Статистически значимой разницы между группами 246 и 247 для события PaymentScreenSuccessful нет.\n",
      "-------------------------------\n"
     ]
    }
   ],
   "source": [
    "# Функция для проведения z-теста для всех событий\n",
    "def z_test_for_all_events(group_1, group_2, data_act):\n",
    "    # Найдем список всех событий\n",
    "    events = data_act['event_name'].unique()\n",
    "\n",
    "    # Для каждого события проведем z-тест\n",
    "    for event in events:\n",
    "        z_value, p_value = perform_z_test(group_1, group_2, event, data_act)\n",
    "\n",
    "        # Вывод результата для каждого события\n",
    "        print(f'Событие: {event}')\n",
    "        print(f'Z-статистика: {z_value:.4f}, p-значение: {p_value:.4f}')\n",
    "        \n",
    "        alpha = 0.05\n",
    "        if p_value < alpha:\n",
    "            print(f'Между группами {group_1} и {group_2} есть статистически значимая разница для события {event}.')\n",
    "        else:\n",
    "            print(f'Статистически значимой разницы между группами {group_1} и {group_2} для события {event} нет.')\n",
    "        print('-------------------------------')\n",
    "\n",
    "# Функция для проведения z-теста для одного события\n",
    "def perform_z_test(group_1, group_2, event, data_act):\n",
    "    # Подсчитываем количество уникальных пользователей, совершивших это событие в каждой группе\n",
    "    users_per_group = (\n",
    "        data_act[data_act['event_name'] == event]\n",
    "        .groupby('group')['user_id']\n",
    "        .nunique()\n",
    "        .reset_index(name='unique_users')\n",
    "    )\n",
    "\n",
    "    # Подсчитываем общее количество уникальных пользователей в каждой группе\n",
    "    total_users_per_group = (\n",
    "        data_act.groupby('group')['user_id']\n",
    "        .nunique()\n",
    "        .reset_index(name='total_users')\n",
    "    )\n",
    "\n",
    "    # Объединение данных по группам\n",
    "    merged_data = users_per_group.merge(total_users_per_group, on='group')\n",
    "\n",
    "    # Получаем значения для групп\n",
    "    group_1_successes = merged_data.loc[merged_data['group'] == group_1, 'unique_users'].values[0]\n",
    "    group_1_total = merged_data.loc[merged_data['group'] == group_1, 'total_users'].values[0]\n",
    "    group_2_successes = merged_data.loc[merged_data['group'] == group_2, 'unique_users'].values[0]\n",
    "    group_2_total = merged_data.loc[merged_data['group'] == group_2, 'total_users'].values[0]\n",
    "\n",
    "    # Применяем z-тест для пропорций\n",
    "    z_value, p_value = z_test_proportions(group_1_successes, group_1_total, group_2_successes, group_2_total)\n",
    "\n",
    "    return z_value, p_value\n",
    "\n",
    "# Функция для проведения z-теста для пропорций\n",
    "def z_test_proportions(group_1_successes, group_1_total, group_2_successes, group_2_total):\n",
    "    # Пропорция успехов в каждой группе\n",
    "    p1 = group_1_successes / group_1_total\n",
    "    p2 = group_2_successes / group_2_total\n",
    "    \n",
    "    # Общая пропорция успехов для двух групп\n",
    "    p_combined = (group_1_successes + group_2_successes) / (group_1_total + group_2_total)\n",
    "    \n",
    "    # Разница между долями\n",
    "    difference = p1 - p2\n",
    "    \n",
    "    # Стандартное отклонение для z-статистики\n",
    "    z_value = difference / mth.sqrt(p_combined * (1 - p_combined) * (1 / group_1_total + 1 / group_2_total))\n",
    "    \n",
    "    # p-value\n",
    "    distr = st.norm(0, 1)\n",
    "    p_value = (1 - distr.cdf(abs(z_value))) * 2\n",
    "    \n",
    "    return z_value, p_value\n",
    "\n",
    "# Пример использования для групп 246 и 247\n",
    "z_test_for_all_events(246, 247, data_act)"
   ]
  },
  {
   "cell_type": "markdown",
   "metadata": {},
   "source": [
    "### Проведение А-B теста"
   ]
  },
  {
   "cell_type": "markdown",
   "metadata": {},
   "source": [
    "Теперь проведем сравнение контрольных групп с эксперементальной, т.е. групп со старым шрифтом и группы в, которой тестируется новый. По каждому событию проведем следующие сравнения:\n",
    "\n",
    "группа 246 (А) и 248 (B)  \n",
    "группа 247 (А) и 248 (B)  \n",
    "группа 247 (А) + группа 246 (А) и 248 (B)"
   ]
  },
  {
   "cell_type": "code",
   "execution_count": 43,
   "metadata": {},
   "outputs": [
    {
     "name": "stdout",
     "output_type": "stream",
     "text": [
      "Сравнение группа 246 (А) и 248 (B):\n",
      "Событие: Tutorial\n",
      "Z-статистика: 0.2193, p-значение: 0.8264\n",
      "Статистически значимой разницы между контрольной группой(ами) 246 и группой 248 для события Tutorial нет.\n",
      "-------------------------------\n",
      "Событие: MainScreenAppear\n",
      "Z-статистика: 1.0473, p-значение: 0.2950\n",
      "Статистически значимой разницы между контрольной группой(ами) 246 и группой 248 для события MainScreenAppear нет.\n",
      "-------------------------------\n",
      "Событие: OffersScreenAppear\n",
      "Z-статистика: 1.2581, p-значение: 0.2084\n",
      "Статистически значимой разницы между контрольной группой(ами) 246 и группой 248 для события OffersScreenAppear нет.\n",
      "-------------------------------\n",
      "Событие: CartScreenAppear\n",
      "Z-статистика: 1.7599, p-значение: 0.0784\n",
      "Статистически значимой разницы между контрольной группой(ами) 246 и группой 248 для события CartScreenAppear нет.\n",
      "-------------------------------\n",
      "Событие: PaymentScreenSuccessful\n",
      "Z-статистика: 1.2474, p-значение: 0.2123\n",
      "Статистически значимой разницы между контрольной группой(ами) 246 и группой 248 для события PaymentScreenSuccessful нет.\n",
      "-------------------------------\n",
      "\n",
      "Сравнение группа 247 (А) и 248 (B):\n",
      "Событие: Tutorial\n",
      "Z-статистика: 0.2985, p-значение: 0.7653\n",
      "Статистически значимой разницы между контрольной группой(ами) 247 и группой 248 для события Tutorial нет.\n",
      "-------------------------------\n",
      "Событие: MainScreenAppear\n",
      "Z-статистика: 0.7410, p-значение: 0.4587\n",
      "Статистически значимой разницы между контрольной группой(ами) 247 и группой 248 для события MainScreenAppear нет.\n",
      "-------------------------------\n",
      "Событие: OffersScreenAppear\n",
      "Z-статистика: 0.1007, p-значение: 0.9198\n",
      "Статистически значимой разницы между контрольной группой(ами) 247 и группой 248 для события OffersScreenAppear нет.\n",
      "-------------------------------\n",
      "Событие: CartScreenAppear\n",
      "Z-статистика: 0.5554, p-значение: 0.5786\n",
      "Статистически значимой разницы между контрольной группой(ами) 247 и группой 248 для события CartScreenAppear нет.\n",
      "-------------------------------\n",
      "Событие: PaymentScreenSuccessful\n",
      "Z-статистика: -0.3354, p-значение: 0.7373\n",
      "Статистически значимой разницы между контрольной группой(ами) 247 и группой 248 для события PaymentScreenSuccessful нет.\n",
      "-------------------------------\n",
      "\n",
      "Сравнение объединенные группы 246 (А) и 247 (А) против 248 (B):\n",
      "Событие: Tutorial\n",
      "Z-статистика: 0.2991, p-значение: 0.7649\n",
      "Статистически значимой разницы между контрольной группой(ами) [246, 247] и группой 248 для события Tutorial нет.\n",
      "-------------------------------\n",
      "Событие: MainScreenAppear\n",
      "Z-статистика: 1.0489, p-значение: 0.2942\n",
      "Статистически значимой разницы между контрольной группой(ами) [246, 247] и группой 248 для события MainScreenAppear нет.\n",
      "-------------------------------\n",
      "Событие: OffersScreenAppear\n",
      "Z-статистика: 0.7819, p-значение: 0.4343\n",
      "Статистически значимой разницы между контрольной группой(ами) [246, 247] и группой 248 для события OffersScreenAppear нет.\n",
      "-------------------------------\n",
      "Событие: CartScreenAppear\n",
      "Z-статистика: 1.3354, p-значение: 0.1818\n",
      "Статистически значимой разницы между контрольной группой(ами) [246, 247] и группой 248 для события CartScreenAppear нет.\n",
      "-------------------------------\n",
      "Событие: PaymentScreenSuccessful\n",
      "Z-статистика: 0.5238, p-значение: 0.6004\n",
      "Статистически значимой разницы между контрольной группой(ами) [246, 247] и группой 248 для события PaymentScreenSuccessful нет.\n",
      "-------------------------------\n"
     ]
    }
   ],
   "source": [
    "# Функция для объединения групп и проведения z-теста\n",
    "def z_test_for_combined_groups(group_1_list, group_2, data_act):\n",
    "    # Найдем список всех событий\n",
    "    events = data_act['event_name'].unique()\n",
    "\n",
    "    # Объединяем контрольные группы 246 и 247, если необходимо\n",
    "    if isinstance(group_1_list, list):\n",
    "        data_group_1 = data_act[data_act['group'].isin(group_1_list)]\n",
    "    else:\n",
    "        data_group_1 = data_act[data_act['group'] == group_1_list]\n",
    "    \n",
    "    # Для каждого события проведем z-тест\n",
    "    for event in events:\n",
    "        z_value, p_value = perform_z_test_combined(data_group_1, group_2, event, data_act)\n",
    "\n",
    "        # Вывод результата для каждого события\n",
    "        print(f'Событие: {event}')\n",
    "        print(f'Z-статистика: {z_value:.4f}, p-значение: {p_value:.4f}')\n",
    "        \n",
    "        alpha = 0.05\n",
    "        if p_value < alpha:\n",
    "            print(f'Между контрольной группой(ами) {group_1_list} и группой {group_2} есть статистически значимая разница для события {event}.')\n",
    "        else:\n",
    "            print(f'Статистически значимой разницы между контрольной группой(ами) {group_1_list} и группой {group_2} для события {event} нет.')\n",
    "        print('-------------------------------')\n",
    "\n",
    "# Функция для проведения z-теста для комбинированной группы\n",
    "def perform_z_test_combined(data_group_1, group_2, event, data_act):\n",
    "    # Подсчитываем количество уникальных пользователей, совершивших это событие в каждой группе\n",
    "    group_1_users = (\n",
    "        data_group_1[data_group_1['event_name'] == event]\n",
    "        .groupby('group')['user_id']\n",
    "        .nunique()\n",
    "        .sum()  # Для объединенной группы 246 и 247 считаем сумму\n",
    "    )\n",
    "\n",
    "    # Подсчитываем количество уникальных пользователей для группы 248 (экспериментальная группа)\n",
    "    group_2_users = (\n",
    "        data_act[(data_act['group'] == group_2) & (data_act['event_name'] == event)]\n",
    "        .groupby('group')['user_id']\n",
    "        .nunique()\n",
    "        .values[0]\n",
    "    )\n",
    "\n",
    "    # Подсчитываем общее количество уникальных пользователей для контрольных групп\n",
    "    total_group_1_users = (\n",
    "        data_group_1.groupby('group')['user_id']\n",
    "        .nunique()\n",
    "        .sum()\n",
    "    )\n",
    "\n",
    "    # Общее количество пользователей в экспериментальной группе (248)\n",
    "    total_group_2_users = (\n",
    "        data_act[data_act['group'] == group_2]\n",
    "        .groupby('group')['user_id']\n",
    "        .nunique()\n",
    "        .values[0]\n",
    "    )\n",
    "\n",
    "    # Применяем z-тест для пропорций\n",
    "    z_value, p_value = z_test_proportions(group_1_users, total_group_1_users, group_2_users, total_group_2_users)\n",
    "\n",
    "    return z_value, p_value\n",
    "\n",
    "# Функция для проведения z-теста для пропорций\n",
    "def z_test_proportions(group_1_successes, group_1_total, group_2_successes, group_2_total):\n",
    "    # Пропорция успехов в каждой группе\n",
    "    p1 = group_1_successes / group_1_total\n",
    "    p2 = group_2_successes / group_2_total\n",
    "    \n",
    "    # Общая пропорция успехов для двух групп\n",
    "    p_combined = (group_1_successes + group_2_successes) / (group_1_total + group_2_total)\n",
    "    \n",
    "    # Разница между долями\n",
    "    difference = p1 - p2\n",
    "    \n",
    "    # Стандартное отклонение для z-статистики\n",
    "    z_value = difference / mth.sqrt(p_combined * (1 - p_combined) * (1 / group_1_total + 1 / group_2_total))\n",
    "    \n",
    "    # p-value\n",
    "    distr = st.norm(0, 1)\n",
    "    p_value = (1 - distr.cdf(abs(z_value))) * 2\n",
    "    \n",
    "    return z_value, p_value\n",
    "\n",
    "# Пример использования для групп:\n",
    "print(\"Сравнение группа 246 (А) и 248 (B):\")\n",
    "z_test_for_combined_groups(246, 248, data_act)\n",
    "\n",
    "print(\"\\nСравнение группа 247 (А) и 248 (B):\")\n",
    "z_test_for_combined_groups(247, 248, data_act)\n",
    "\n",
    "print(\"\\nСравнение объединенные группы 246 (А) и 247 (А) против 248 (B):\")\n",
    "z_test_for_combined_groups([246, 247], 248, data_act)\n",
    " "
   ]
  },
  {
   "cell_type": "markdown",
   "metadata": {},
   "source": [
    "В данных тестах, также не была отвергунта нулевая гипотеза, поэтому можем сказать о том, что тест проведен верно"
   ]
  },
  {
   "cell_type": "markdown",
   "metadata": {},
   "source": [
    "**Вывод по этапу 5 и 6:**\n",
    "\n",
    "- Просмотрели, сколько пользователей в каждой группе:\n",
    "\n",
    "    в 246 группе 2484 пользователей\n",
    "\n",
    "    в 247 группе 2513 пользователей\n",
    "\n",
    "    в 248 группе 2537 пользователей\n",
    "\n",
    "- Проверили группы на корректность всех механизмов и расчётов\n",
    "\n",
    "- Посчитали число пользователей (и их долю), совершивших каждое событие в каждой из контрольных групп. Проверили, будет ли отличие между группами статистически достоверным.\n",
    "\n",
    "    Отличий между группами 246 и 247 по событиям нет. Разбиение на группы работает корректно-\n",
    "\n",
    "- АТакже поступили с группой 248 (с изменённым шрифтом). Сравнили результаты с каждой из контрольных групп в отдельности по каждому событию. Сравнили результаты с объединённой контрольной группой.\n",
    "\n",
    "    Отличий между группами 246 и 248 по событиям нет-\n",
    "\n",
    "    Отличий между группами 247 и 248 по событиям нет-\n",
    "\n",
    "    Отличий между объединёнными группами 246,247, в сравнении с 248 по событиям нет\n",
    "\n",
    "По результатам А/В теста, получаем, что размер и стиль шрифта не имеет значения для пользователей.\n",
    "\n",
    "При проверке статистических гипотез, уровень значимости был выбран, равный 0.05, из этого следует, что мы можем получить ошибку первого рода в одном из 20 случаев.\n",
    "\n",
    "Было проведено 20 проверок. Уровень значимости был выбран верно (0.05) так как, в случае выбора большего уровня значимости, например 0.1, будет увеличиваться шанс проявления ложнопоказательного результата."
   ]
  },
  {
   "cell_type": "markdown",
   "metadata": {},
   "source": [
    "<div class=\"alert alert-warning\">\n",
    "\n",
    "**⚠️ Комментарий ревьюера v2⚠️**\n",
    "   \n",
    "   \n",
    "\n",
    "\n",
    "   \n",
    "\n",
    "\n",
    "   В этом проекте мы столкнулись с множественной проверкой гипотез. Рекомендую ознакомиться с поправками на множественную проверку гипотез: https://studfile.net/preview/10706903/page:19/ и изучить, как можно корректировать уровень альфа.\n",
    "Также рекомендую статью: https://habr.com/ru/company/yandex/blog/476826/ - в ней описывается применение метода Холма из библиотеки `statsmodels` - пригодится в дальнейшем                    \n",
    "\n",
    "</div>\n",
    "\n",
    "\n"
   ]
  },
  {
   "cell_type": "markdown",
   "metadata": {},
   "source": [
    "**Общий вывод:**\n",
    "==="
   ]
  },
  {
   "cell_type": "markdown",
   "metadata": {},
   "source": [
    "**Выполнены следующие работы:**\n",
    "\n",
    "1) Прочитали и сделали предобработку данных:  \n",
    "данные имеют 4 столбца, 244 126 строк;  \n",
    "Присутсвует деление по трём изучаемым группам;  \n",
    "В процессе работы заменили названия столбцов, проверили данные на пропуски и дубликаты;    \n",
    "Дубликаты удалили (осталось 243 713 строк), так как процент мал и не повлиял на данные. Добавили два столбца с временными показателями.\n",
    "\n",
    "2) Изученили и проверили данные:   \n",
    "Посчитали колличество пользователей - 7 551%;\n",
    "\n",
    "Посчитали средний показатель событий приходящий на одного пользователя - 20;\n",
    "\n",
    "Узнали максимальную (2019-08-07) и минимальную дату(2019-07-25) в изучаемом датафрейме;\n",
    "\n",
    "Построили столбчатую диаграмму, по которой сделали выводы, что полные данные имеем с 1 августа 2019 по 7 августа 2019.\n",
    "\n",
    "Отбросили данные не входящие в период, по этой причине произошла потеря неполных данных в кол-ве 2826 событий и 17 пользователей.  \n",
    "\n",
    "3) Изучили воронку событий - доля пользователей, которые доходят от главной страницы до оплаты, составляет 47%.  \n",
    "\n",
    "Посмотрели какие события есть в логах:\n",
    "Всего 5 вариантов событий:\n",
    "\n",
    "    MainScreenAppear - заход на главную страницу\n",
    "    OffersScreenAppear - заход на рекомендованную страницу\n",
    "    CartScreenAppear - заход на страницу с оплатой\n",
    "    PaymentScreenSuccessful - попадание на страницу с успешной оплатой\n",
    "    Tutorial - попадание на страницу c обучением\n",
    "    \n",
    "Посмотрели как часто эти события встречаются.   \n",
    "Посчитали количество пользователей совершивших каждое из этих событий и их долю:\n",
    "\n",
    "    MainScreenAppear кол-во 7419 доля 0.9847\n",
    "    OffersScreenAppear кол-во 4593 доля 0.6096\n",
    "    CartScreenAppear кол-во 3734 доля 0.4956\n",
    "    PaymentScreenSuccessful кол-во 3539 доля 0.4697\n",
    "    Tutorial кол-во 840 доля 0.1115\n",
    "\n",
    "Предположили, в каком порядке происходят события:\n",
    "\n",
    "    MainScreenAppear - сначала на главный экран;\n",
    "    OffersScreenAppear - после, поиск и просмотр товаров;\n",
    "    СartScreenAppear - страница с корзиной;\n",
    "    PaymentScreenSuccessful - страница с оплатой;\n",
    "    \n",
    "Посчитали, какая доля пользователей проходит на следующий шаг(от числа пользователей на предыдущем):\n",
    "\n",
    "    MainScreenAppear - -\n",
    "    OffersScreenAppear - 61.91%\n",
    "    CartScreenAppear - 81.30%\n",
    "    PaymentScreenSuccessful - 94.78%\n",
    "\n",
    "Посчитали, на каком этапе происходит самая большая потеря пользователей - при переходе на страницу просмотра и поиска товаров).\n",
    "\n",
    "Посчитали, какая доля пользователей доходит от первого события до оплаты - 47%.  \n",
    "\n",
    "Просмотрели, сколько пользователей в каждой группе:\n",
    "\n",
    "- в 246 группе 2484 пользователей\n",
    "\n",
    "- в 247 группе 2513 пользователей\n",
    "\n",
    "- в 248 группе 2537 пользователей.\n",
    "\n",
    "Посчитали число пользователей (и их долю), совершивших каждое событие в каждой из контрольных групп. Проверили, будет ли отличие между группами статистически достоверным.\n",
    "\n",
    "Отличий между группами 246 и 247 по событиям нет. Разбиение на группы работает корректно-\n",
    "\n",
    "Также поступили с группой 248 (с изменённым шрифтом). Сравнили результаты с каждой из контрольных групп в отдельности по каждому событию. Сравнили результаты с объединённой контрольной группой.\n",
    "\n",
    "Отличий между группами 246 и 248 по событиям нет-\n",
    "\n",
    "Отличий между группами 247 и 248 по событиям нет-\n",
    "\n",
    "Отличий между объединёнными группами 246,247, в сравнении с 248 по событиям нет\n",
    "\n",
    "По результатам А/В теста, получаем, что размер и стиль шрифта не имеет значения для пользователей.\n",
    "\n",
    "При проверке статистических гипотез, уровень значимости был выбран, равный 0.05, из этого следует, что мы можем получить ошибку первого рода в одном из 20 случаев.\n",
    "\n",
    "**По результатам эксперемента можем сделать вывод, что изменение шрифтов не влияет на поведение пользователей.**\n"
   ]
  },
  {
   "cell_type": "markdown",
   "metadata": {},
   "source": [
    "<div class=\"alert alert-success\">\n",
    "\n",
    "**✔️ Комментарий ревьюера v2✔️**\n",
    "   \n",
    "   Елена, проведен основательный и подробный анализ. Все наглядно - графики и гистограммы подтверждают обоснованные выводы. Учти мои замечания. Возможно, придется немного подправить выводы. Жду твой проект на повторное ревью. Успехов!\n",
    "\n",
    "</div>\n"
   ]
  },
  {
   "cell_type": "markdown",
   "metadata": {},
   "source": [
    "<div class=\"alert alert-success\">\n",
    "\n",
    "**✔️ Комментарий ревьюера v3✔️**\n",
    "   \n",
    "   Елена, замечания устранены 👍. Уверен, мои советы пригодятся тебе в новых проектах. Успехов в обучении! 😉 \n",
    "\n",
    "</div>"
   ]
  },
  {
   "cell_type": "code",
   "execution_count": null,
   "metadata": {},
   "outputs": [],
   "source": []
  }
 ],
 "metadata": {
  "ExecuteTimeLog": [
   {
    "duration": 1318,
    "start_time": "2024-09-24T16:34:23.796Z"
   },
   {
    "duration": 3,
    "start_time": "2024-09-24T16:35:02.634Z"
   },
   {
    "duration": 983,
    "start_time": "2024-09-24T16:40:23.014Z"
   },
   {
    "duration": 23,
    "start_time": "2024-09-24T16:40:41.874Z"
   },
   {
    "duration": 10,
    "start_time": "2024-09-24T16:42:25.422Z"
   },
   {
    "duration": 92,
    "start_time": "2024-09-24T16:44:23.494Z"
   },
   {
    "duration": 19,
    "start_time": "2024-09-24T16:44:39.234Z"
   },
   {
    "duration": 28,
    "start_time": "2024-09-24T16:47:45.413Z"
   },
   {
    "duration": 4,
    "start_time": "2024-09-24T16:51:40.066Z"
   },
   {
    "duration": 1086,
    "start_time": "2024-09-24T16:51:54.535Z"
   },
   {
    "duration": 180,
    "start_time": "2024-09-24T16:51:55.623Z"
   },
   {
    "duration": 23,
    "start_time": "2024-09-24T16:51:55.805Z"
   },
   {
    "duration": 11,
    "start_time": "2024-09-24T16:51:55.829Z"
   },
   {
    "duration": 5,
    "start_time": "2024-09-24T16:51:55.842Z"
   },
   {
    "duration": 43,
    "start_time": "2024-09-24T16:51:55.848Z"
   },
   {
    "duration": 208,
    "start_time": "2024-09-24T16:52:55.909Z"
   },
   {
    "duration": 1152,
    "start_time": "2024-09-24T16:53:51.330Z"
   },
   {
    "duration": 179,
    "start_time": "2024-09-24T16:53:52.484Z"
   },
   {
    "duration": 4,
    "start_time": "2024-09-24T16:53:52.665Z"
   },
   {
    "duration": 237,
    "start_time": "2024-09-24T16:53:52.671Z"
   },
   {
    "duration": 17,
    "start_time": "2024-09-24T16:53:52.910Z"
   },
   {
    "duration": 92,
    "start_time": "2024-09-24T16:56:45.952Z"
   },
   {
    "duration": 1175,
    "start_time": "2024-09-24T16:57:00.752Z"
   },
   {
    "duration": 0,
    "start_time": "2024-09-24T16:57:01.929Z"
   },
   {
    "duration": 0,
    "start_time": "2024-09-24T16:57:01.930Z"
   },
   {
    "duration": 0,
    "start_time": "2024-09-24T16:57:01.931Z"
   },
   {
    "duration": 0,
    "start_time": "2024-09-24T16:57:01.932Z"
   },
   {
    "duration": 3098,
    "start_time": "2024-09-24T16:58:35.812Z"
   },
   {
    "duration": 2307,
    "start_time": "2024-09-24T16:58:53.529Z"
   },
   {
    "duration": 1056,
    "start_time": "2024-09-24T16:58:55.839Z"
   },
   {
    "duration": 173,
    "start_time": "2024-09-24T16:58:56.897Z"
   },
   {
    "duration": 4,
    "start_time": "2024-09-24T16:58:57.072Z"
   },
   {
    "duration": 227,
    "start_time": "2024-09-24T16:58:57.078Z"
   },
   {
    "duration": 18,
    "start_time": "2024-09-24T16:58:57.307Z"
   },
   {
    "duration": 4,
    "start_time": "2024-09-24T16:59:47.809Z"
   },
   {
    "duration": 2273,
    "start_time": "2024-09-24T17:00:21.887Z"
   },
   {
    "duration": 1139,
    "start_time": "2024-09-24T17:00:24.162Z"
   },
   {
    "duration": 184,
    "start_time": "2024-09-24T17:00:25.302Z"
   },
   {
    "duration": 5,
    "start_time": "2024-09-24T17:00:25.489Z"
   },
   {
    "duration": 266,
    "start_time": "2024-09-24T17:00:25.496Z"
   },
   {
    "duration": 30,
    "start_time": "2024-09-24T17:00:25.764Z"
   },
   {
    "duration": 3,
    "start_time": "2024-09-24T17:07:05.906Z"
   },
   {
    "duration": 11,
    "start_time": "2024-09-24T17:07:54.232Z"
   },
   {
    "duration": 103,
    "start_time": "2024-09-24T17:15:08.392Z"
   },
   {
    "duration": 10,
    "start_time": "2024-09-24T17:15:16.144Z"
   },
   {
    "duration": 7,
    "start_time": "2024-09-24T17:16:46.913Z"
   },
   {
    "duration": 102,
    "start_time": "2024-09-24T17:17:06.404Z"
   },
   {
    "duration": 10,
    "start_time": "2024-09-24T17:18:22.175Z"
   },
   {
    "duration": 5,
    "start_time": "2024-09-24T17:19:47.253Z"
   },
   {
    "duration": 2340,
    "start_time": "2024-09-24T17:23:29.151Z"
   },
   {
    "duration": 1199,
    "start_time": "2024-09-24T17:23:31.493Z"
   },
   {
    "duration": 176,
    "start_time": "2024-09-24T17:23:32.693Z"
   },
   {
    "duration": 5,
    "start_time": "2024-09-24T17:23:32.871Z"
   },
   {
    "duration": 257,
    "start_time": "2024-09-24T17:23:32.878Z"
   },
   {
    "duration": 3,
    "start_time": "2024-09-24T17:23:33.137Z"
   },
   {
    "duration": 9,
    "start_time": "2024-09-24T17:23:33.141Z"
   },
   {
    "duration": 7,
    "start_time": "2024-09-24T17:23:33.152Z"
   },
   {
    "duration": 142,
    "start_time": "2024-09-24T17:23:33.161Z"
   },
   {
    "duration": 39,
    "start_time": "2024-09-24T17:23:33.304Z"
   },
   {
    "duration": 23,
    "start_time": "2024-09-24T17:23:33.344Z"
   },
   {
    "duration": 5,
    "start_time": "2024-09-24T17:23:33.368Z"
   },
   {
    "duration": 9,
    "start_time": "2024-09-24T17:24:18.209Z"
   },
   {
    "duration": 4,
    "start_time": "2024-09-24T17:32:46.841Z"
   },
   {
    "duration": 95,
    "start_time": "2024-09-24T17:33:53.833Z"
   },
   {
    "duration": 15,
    "start_time": "2024-09-24T17:34:02.829Z"
   },
   {
    "duration": 8,
    "start_time": "2024-09-24T17:35:14.901Z"
   },
   {
    "duration": 13,
    "start_time": "2024-09-24T17:38:06.283Z"
   },
   {
    "duration": 152,
    "start_time": "2024-09-24T17:39:42.804Z"
   },
   {
    "duration": 15,
    "start_time": "2024-09-24T17:40:12.802Z"
   },
   {
    "duration": 48,
    "start_time": "2024-09-24T17:46:13.303Z"
   },
   {
    "duration": 415,
    "start_time": "2024-09-24T17:48:09.875Z"
   },
   {
    "duration": 54,
    "start_time": "2024-09-25T09:08:59.756Z"
   },
   {
    "duration": 3605,
    "start_time": "2024-09-25T09:10:27.431Z"
   },
   {
    "duration": 1499,
    "start_time": "2024-09-25T09:10:31.039Z"
   },
   {
    "duration": 707,
    "start_time": "2024-09-25T09:10:32.540Z"
   },
   {
    "duration": 5,
    "start_time": "2024-09-25T09:10:33.249Z"
   },
   {
    "duration": 311,
    "start_time": "2024-09-25T09:10:33.257Z"
   },
   {
    "duration": 3,
    "start_time": "2024-09-25T09:10:33.570Z"
   },
   {
    "duration": 37,
    "start_time": "2024-09-25T09:10:33.575Z"
   },
   {
    "duration": 13,
    "start_time": "2024-09-25T09:10:33.614Z"
   },
   {
    "duration": 131,
    "start_time": "2024-09-25T09:10:33.629Z"
   },
   {
    "duration": 10,
    "start_time": "2024-09-25T09:10:33.762Z"
   },
   {
    "duration": 170,
    "start_time": "2024-09-25T09:10:33.774Z"
   },
   {
    "duration": 13,
    "start_time": "2024-09-25T09:10:33.946Z"
   },
   {
    "duration": 25,
    "start_time": "2024-09-25T09:10:33.961Z"
   },
   {
    "duration": 11,
    "start_time": "2024-09-25T09:10:33.989Z"
   },
   {
    "duration": 203,
    "start_time": "2024-09-25T09:10:34.002Z"
   },
   {
    "duration": 15,
    "start_time": "2024-09-25T09:10:34.206Z"
   },
   {
    "duration": 85,
    "start_time": "2024-09-25T09:10:34.223Z"
   },
   {
    "duration": 31,
    "start_time": "2024-09-25T09:10:34.310Z"
   },
   {
    "duration": 1129,
    "start_time": "2024-09-25T10:39:15.478Z"
   },
   {
    "duration": 17,
    "start_time": "2024-09-25T10:42:14.788Z"
   },
   {
    "duration": 347,
    "start_time": "2024-09-25T10:44:48.587Z"
   },
   {
    "duration": 38,
    "start_time": "2024-09-25T11:08:08.822Z"
   },
   {
    "duration": 31,
    "start_time": "2024-09-25T11:08:54.441Z"
   },
   {
    "duration": 19,
    "start_time": "2024-09-25T11:09:18.154Z"
   },
   {
    "duration": 9,
    "start_time": "2024-09-25T11:09:46.130Z"
   },
   {
    "duration": 4,
    "start_time": "2024-09-25T11:10:04.105Z"
   },
   {
    "duration": 4,
    "start_time": "2024-09-25T11:10:58.884Z"
   },
   {
    "duration": 15,
    "start_time": "2024-09-25T11:11:40.812Z"
   },
   {
    "duration": 16,
    "start_time": "2024-09-25T11:12:32.508Z"
   },
   {
    "duration": 31,
    "start_time": "2024-09-25T11:19:35.161Z"
   },
   {
    "duration": 25,
    "start_time": "2024-09-25T11:31:33.300Z"
   },
   {
    "duration": 52,
    "start_time": "2024-09-25T11:54:33.113Z"
   },
   {
    "duration": 95,
    "start_time": "2024-09-25T12:51:21.149Z"
   },
   {
    "duration": 116,
    "start_time": "2024-09-25T13:04:19.252Z"
   },
   {
    "duration": 5,
    "start_time": "2024-09-25T13:07:44.789Z"
   },
   {
    "duration": 64,
    "start_time": "2024-09-25T13:10:40.563Z"
   },
   {
    "duration": 36,
    "start_time": "2024-09-25T13:21:43.412Z"
   },
   {
    "duration": 1036,
    "start_time": "2024-09-25T13:26:07.906Z"
   },
   {
    "duration": 20,
    "start_time": "2024-09-25T13:27:40.425Z"
   },
   {
    "duration": 130,
    "start_time": "2024-09-25T13:28:00.704Z"
   },
   {
    "duration": 5877,
    "start_time": "2024-09-25T13:31:38.708Z"
   },
   {
    "duration": 46,
    "start_time": "2024-09-25T13:32:04.811Z"
   },
   {
    "duration": 106,
    "start_time": "2024-09-25T13:33:15.772Z"
   },
   {
    "duration": 124,
    "start_time": "2024-09-25T13:33:32.945Z"
   },
   {
    "duration": 60,
    "start_time": "2024-09-25T13:48:08.741Z"
   },
   {
    "duration": 56,
    "start_time": "2024-09-25T13:53:01.290Z"
   },
   {
    "duration": 78,
    "start_time": "2024-09-25T14:09:31.954Z"
   },
   {
    "duration": 79,
    "start_time": "2024-09-25T14:11:17.002Z"
   },
   {
    "duration": 17,
    "start_time": "2024-09-25T14:15:11.653Z"
   },
   {
    "duration": 14,
    "start_time": "2024-09-25T14:16:18.744Z"
   },
   {
    "duration": 190,
    "start_time": "2024-09-25T14:17:35.989Z"
   },
   {
    "duration": 59,
    "start_time": "2024-09-25T14:21:04.943Z"
   },
   {
    "duration": 107,
    "start_time": "2024-09-25T14:22:17.652Z"
   },
   {
    "duration": 149,
    "start_time": "2024-09-25T14:23:59.074Z"
   },
   {
    "duration": 14,
    "start_time": "2024-09-25T14:24:49.659Z"
   },
   {
    "duration": 68,
    "start_time": "2024-09-25T14:26:39.689Z"
   },
   {
    "duration": 14,
    "start_time": "2024-09-25T14:28:20.968Z"
   },
   {
    "duration": 382,
    "start_time": "2024-09-25T14:34:27.015Z"
   },
   {
    "duration": 12,
    "start_time": "2024-09-25T14:47:02.177Z"
   },
   {
    "duration": 10,
    "start_time": "2024-09-25T14:48:04.723Z"
   },
   {
    "duration": 10,
    "start_time": "2024-09-25T14:48:58.336Z"
   },
   {
    "duration": 1181,
    "start_time": "2024-09-25T14:51:22.705Z"
   },
   {
    "duration": 3031,
    "start_time": "2024-09-26T11:47:39.964Z"
   },
   {
    "duration": 1292,
    "start_time": "2024-09-26T11:47:42.997Z"
   },
   {
    "duration": 994,
    "start_time": "2024-09-26T11:47:44.291Z"
   },
   {
    "duration": 6,
    "start_time": "2024-09-26T11:47:45.287Z"
   },
   {
    "duration": 246,
    "start_time": "2024-09-26T11:47:45.294Z"
   },
   {
    "duration": 3,
    "start_time": "2024-09-26T11:47:45.542Z"
   },
   {
    "duration": 8,
    "start_time": "2024-09-26T11:47:45.546Z"
   },
   {
    "duration": 6,
    "start_time": "2024-09-26T11:47:45.556Z"
   },
   {
    "duration": 155,
    "start_time": "2024-09-26T11:47:45.563Z"
   },
   {
    "duration": 8,
    "start_time": "2024-09-26T11:47:45.720Z"
   },
   {
    "duration": 29,
    "start_time": "2024-09-26T11:47:45.730Z"
   },
   {
    "duration": 5,
    "start_time": "2024-09-26T11:47:45.760Z"
   },
   {
    "duration": 28,
    "start_time": "2024-09-26T11:47:45.766Z"
   },
   {
    "duration": 4,
    "start_time": "2024-09-26T11:47:45.796Z"
   },
   {
    "duration": 158,
    "start_time": "2024-09-26T11:47:45.801Z"
   },
   {
    "duration": 29,
    "start_time": "2024-09-26T11:47:45.961Z"
   },
   {
    "duration": 48,
    "start_time": "2024-09-26T11:47:45.992Z"
   },
   {
    "duration": 53,
    "start_time": "2024-09-26T11:47:46.042Z"
   },
   {
    "duration": 15,
    "start_time": "2024-09-26T11:47:46.097Z"
   },
   {
    "duration": 305,
    "start_time": "2024-09-26T11:47:46.113Z"
   },
   {
    "duration": 16,
    "start_time": "2024-09-26T11:47:46.420Z"
   },
   {
    "duration": 9,
    "start_time": "2024-09-26T11:47:46.437Z"
   },
   {
    "duration": 4,
    "start_time": "2024-09-26T11:47:46.447Z"
   },
   {
    "duration": 14,
    "start_time": "2024-09-26T11:47:46.452Z"
   },
   {
    "duration": 12,
    "start_time": "2024-09-26T11:47:46.490Z"
   },
   {
    "duration": 18,
    "start_time": "2024-09-26T11:47:46.504Z"
   },
   {
    "duration": 67,
    "start_time": "2024-09-26T11:47:46.524Z"
   },
   {
    "duration": 76,
    "start_time": "2024-09-26T11:47:46.594Z"
   },
   {
    "duration": 109,
    "start_time": "2024-09-26T11:47:46.671Z"
   },
   {
    "duration": 10,
    "start_time": "2024-09-26T11:47:46.781Z"
   },
   {
    "duration": 56,
    "start_time": "2024-09-26T11:47:46.793Z"
   },
   {
    "duration": 98,
    "start_time": "2024-09-26T11:47:46.851Z"
   },
   {
    "duration": 48,
    "start_time": "2024-09-26T11:47:46.951Z"
   },
   {
    "duration": 65,
    "start_time": "2024-09-26T11:47:47.001Z"
   },
   {
    "duration": 179,
    "start_time": "2024-09-26T11:47:47.068Z"
   },
   {
    "duration": 83,
    "start_time": "2024-09-26T11:47:47.249Z"
   },
   {
    "duration": 93,
    "start_time": "2024-09-26T11:47:47.333Z"
   },
   {
    "duration": 107,
    "start_time": "2024-09-26T11:47:47.427Z"
   },
   {
    "duration": 0,
    "start_time": "2024-09-26T11:47:47.535Z"
   },
   {
    "duration": 0,
    "start_time": "2024-09-26T11:47:47.537Z"
   },
   {
    "duration": 0,
    "start_time": "2024-09-26T11:47:47.538Z"
   },
   {
    "duration": 3344,
    "start_time": "2024-09-26T12:35:25.578Z"
   },
   {
    "duration": 1262,
    "start_time": "2024-09-26T12:35:28.924Z"
   },
   {
    "duration": 190,
    "start_time": "2024-09-26T12:35:30.188Z"
   },
   {
    "duration": 6,
    "start_time": "2024-09-26T12:35:30.381Z"
   },
   {
    "duration": 295,
    "start_time": "2024-09-26T12:35:30.389Z"
   },
   {
    "duration": 3,
    "start_time": "2024-09-26T12:35:30.686Z"
   },
   {
    "duration": 58,
    "start_time": "2024-09-26T12:35:30.691Z"
   },
   {
    "duration": 82,
    "start_time": "2024-09-26T12:35:30.751Z"
   },
   {
    "duration": 122,
    "start_time": "2024-09-26T12:35:30.834Z"
   },
   {
    "duration": 11,
    "start_time": "2024-09-26T12:35:30.959Z"
   },
   {
    "duration": 59,
    "start_time": "2024-09-26T12:35:30.972Z"
   },
   {
    "duration": 10,
    "start_time": "2024-09-26T12:35:31.033Z"
   },
   {
    "duration": 10,
    "start_time": "2024-09-26T12:35:31.045Z"
   },
   {
    "duration": 24,
    "start_time": "2024-09-26T12:35:31.057Z"
   },
   {
    "duration": 203,
    "start_time": "2024-09-26T12:35:31.082Z"
   },
   {
    "duration": 16,
    "start_time": "2024-09-26T12:35:31.287Z"
   },
   {
    "duration": 50,
    "start_time": "2024-09-26T12:35:31.321Z"
   },
   {
    "duration": 51,
    "start_time": "2024-09-26T12:35:31.373Z"
   },
   {
    "duration": 17,
    "start_time": "2024-09-26T12:35:31.425Z"
   },
   {
    "duration": 345,
    "start_time": "2024-09-26T12:35:31.444Z"
   },
   {
    "duration": 17,
    "start_time": "2024-09-26T12:35:31.790Z"
   },
   {
    "duration": 52,
    "start_time": "2024-09-26T12:35:31.809Z"
   },
   {
    "duration": 17,
    "start_time": "2024-09-26T12:35:31.863Z"
   },
   {
    "duration": 48,
    "start_time": "2024-09-26T12:35:31.882Z"
   },
   {
    "duration": 36,
    "start_time": "2024-09-26T12:35:31.931Z"
   },
   {
    "duration": 33,
    "start_time": "2024-09-26T12:35:31.968Z"
   },
   {
    "duration": 56,
    "start_time": "2024-09-26T12:35:32.004Z"
   },
   {
    "duration": 101,
    "start_time": "2024-09-26T12:35:32.064Z"
   },
   {
    "duration": 123,
    "start_time": "2024-09-26T12:35:32.166Z"
   },
   {
    "duration": 6,
    "start_time": "2024-09-26T12:35:32.290Z"
   },
   {
    "duration": 76,
    "start_time": "2024-09-26T12:35:32.297Z"
   },
   {
    "duration": 34,
    "start_time": "2024-09-26T12:35:32.374Z"
   },
   {
    "duration": 55,
    "start_time": "2024-09-26T12:35:32.421Z"
   },
   {
    "duration": 106,
    "start_time": "2024-09-26T12:35:32.478Z"
   },
   {
    "duration": 190,
    "start_time": "2024-09-26T12:35:32.586Z"
   },
   {
    "duration": 81,
    "start_time": "2024-09-26T12:35:32.778Z"
   },
   {
    "duration": 106,
    "start_time": "2024-09-26T12:35:32.861Z"
   },
   {
    "duration": 121,
    "start_time": "2024-09-26T12:35:32.969Z"
   },
   {
    "duration": 0,
    "start_time": "2024-09-26T12:35:33.092Z"
   },
   {
    "duration": 0,
    "start_time": "2024-09-26T12:35:33.093Z"
   },
   {
    "duration": 0,
    "start_time": "2024-09-26T12:35:33.094Z"
   },
   {
    "duration": 2765,
    "start_time": "2024-09-26T12:43:40.708Z"
   },
   {
    "duration": 1291,
    "start_time": "2024-09-26T12:43:43.476Z"
   },
   {
    "duration": 192,
    "start_time": "2024-09-26T12:43:44.769Z"
   },
   {
    "duration": 5,
    "start_time": "2024-09-26T12:43:44.963Z"
   },
   {
    "duration": 307,
    "start_time": "2024-09-26T12:43:44.970Z"
   },
   {
    "duration": 4,
    "start_time": "2024-09-26T12:43:45.279Z"
   },
   {
    "duration": 42,
    "start_time": "2024-09-26T12:43:45.284Z"
   },
   {
    "duration": 38,
    "start_time": "2024-09-26T12:43:45.328Z"
   },
   {
    "duration": 143,
    "start_time": "2024-09-26T12:43:45.368Z"
   },
   {
    "duration": 9,
    "start_time": "2024-09-26T12:43:45.515Z"
   },
   {
    "duration": 59,
    "start_time": "2024-09-26T12:43:45.526Z"
   },
   {
    "duration": 5,
    "start_time": "2024-09-26T12:43:45.587Z"
   },
   {
    "duration": 26,
    "start_time": "2024-09-26T12:43:45.594Z"
   },
   {
    "duration": 5,
    "start_time": "2024-09-26T12:43:45.622Z"
   },
   {
    "duration": 226,
    "start_time": "2024-09-26T12:43:45.629Z"
   },
   {
    "duration": 15,
    "start_time": "2024-09-26T12:43:45.857Z"
   },
   {
    "duration": 78,
    "start_time": "2024-09-26T12:43:45.873Z"
   },
   {
    "duration": 32,
    "start_time": "2024-09-26T12:43:45.953Z"
   },
   {
    "duration": 48,
    "start_time": "2024-09-26T12:43:45.986Z"
   },
   {
    "duration": 352,
    "start_time": "2024-09-26T12:43:46.036Z"
   },
   {
    "duration": 16,
    "start_time": "2024-09-26T12:43:46.390Z"
   },
   {
    "duration": 15,
    "start_time": "2024-09-26T12:43:46.408Z"
   },
   {
    "duration": 53,
    "start_time": "2024-09-26T12:43:46.425Z"
   },
   {
    "duration": 23,
    "start_time": "2024-09-26T12:43:46.480Z"
   },
   {
    "duration": 15,
    "start_time": "2024-09-26T12:43:46.506Z"
   },
   {
    "duration": 39,
    "start_time": "2024-09-26T12:43:46.522Z"
   },
   {
    "duration": 71,
    "start_time": "2024-09-26T12:43:46.570Z"
   },
   {
    "duration": 108,
    "start_time": "2024-09-26T12:43:46.647Z"
   },
   {
    "duration": 127,
    "start_time": "2024-09-26T12:43:46.756Z"
   },
   {
    "duration": 5,
    "start_time": "2024-09-26T12:43:46.884Z"
   },
   {
    "duration": 84,
    "start_time": "2024-09-26T12:43:46.891Z"
   },
   {
    "duration": 56,
    "start_time": "2024-09-26T12:43:46.977Z"
   },
   {
    "duration": 52,
    "start_time": "2024-09-26T12:43:47.035Z"
   },
   {
    "duration": 96,
    "start_time": "2024-09-26T12:43:47.089Z"
   },
   {
    "duration": 253,
    "start_time": "2024-09-26T12:43:47.187Z"
   },
   {
    "duration": 97,
    "start_time": "2024-09-26T12:43:47.442Z"
   },
   {
    "duration": 112,
    "start_time": "2024-09-26T12:43:47.541Z"
   },
   {
    "duration": 122,
    "start_time": "2024-09-26T12:43:47.654Z"
   },
   {
    "duration": 0,
    "start_time": "2024-09-26T12:43:47.777Z"
   },
   {
    "duration": 0,
    "start_time": "2024-09-26T12:43:47.780Z"
   },
   {
    "duration": 0,
    "start_time": "2024-09-26T12:43:47.782Z"
   },
   {
    "duration": 3359,
    "start_time": "2024-09-28T11:15:46.881Z"
   },
   {
    "duration": 1440,
    "start_time": "2024-09-28T11:15:50.242Z"
   },
   {
    "duration": 792,
    "start_time": "2024-09-28T11:15:51.684Z"
   },
   {
    "duration": 6,
    "start_time": "2024-09-28T11:15:52.478Z"
   },
   {
    "duration": 263,
    "start_time": "2024-09-28T11:15:52.485Z"
   },
   {
    "duration": 3,
    "start_time": "2024-09-28T11:15:52.750Z"
   },
   {
    "duration": 8,
    "start_time": "2024-09-28T11:15:52.755Z"
   },
   {
    "duration": 17,
    "start_time": "2024-09-28T11:15:52.765Z"
   },
   {
    "duration": 129,
    "start_time": "2024-09-28T11:15:52.784Z"
   },
   {
    "duration": 69,
    "start_time": "2024-09-28T11:15:52.922Z"
   },
   {
    "duration": 62,
    "start_time": "2024-09-28T11:15:52.993Z"
   },
   {
    "duration": 11,
    "start_time": "2024-09-28T11:15:53.056Z"
   },
   {
    "duration": 87,
    "start_time": "2024-09-28T11:15:53.069Z"
   },
   {
    "duration": 13,
    "start_time": "2024-09-28T11:15:53.157Z"
   },
   {
    "duration": 206,
    "start_time": "2024-09-28T11:15:53.172Z"
   },
   {
    "duration": 15,
    "start_time": "2024-09-28T11:15:53.380Z"
   },
   {
    "duration": 76,
    "start_time": "2024-09-28T11:15:53.396Z"
   },
   {
    "duration": 58,
    "start_time": "2024-09-28T11:15:53.474Z"
   },
   {
    "duration": 18,
    "start_time": "2024-09-28T11:15:53.534Z"
   },
   {
    "duration": 365,
    "start_time": "2024-09-28T11:15:53.554Z"
   },
   {
    "duration": 15,
    "start_time": "2024-09-28T11:15:53.921Z"
   },
   {
    "duration": 4,
    "start_time": "2024-09-28T11:15:53.938Z"
   },
   {
    "duration": 6,
    "start_time": "2024-09-28T11:15:53.943Z"
   },
   {
    "duration": 19,
    "start_time": "2024-09-28T11:15:53.950Z"
   },
   {
    "duration": 14,
    "start_time": "2024-09-28T11:15:53.971Z"
   },
   {
    "duration": 52,
    "start_time": "2024-09-28T11:15:53.987Z"
   },
   {
    "duration": 23,
    "start_time": "2024-09-28T11:15:54.041Z"
   },
   {
    "duration": 76,
    "start_time": "2024-09-28T11:15:54.068Z"
   },
   {
    "duration": 98,
    "start_time": "2024-09-28T11:15:54.146Z"
   },
   {
    "duration": 117,
    "start_time": "2024-09-28T11:15:54.245Z"
   },
   {
    "duration": 4,
    "start_time": "2024-09-28T11:15:54.364Z"
   },
   {
    "duration": 87,
    "start_time": "2024-09-28T11:15:54.370Z"
   },
   {
    "duration": 34,
    "start_time": "2024-09-28T11:15:54.459Z"
   },
   {
    "duration": 72,
    "start_time": "2024-09-28T11:15:54.495Z"
   },
   {
    "duration": 99,
    "start_time": "2024-09-28T11:15:54.568Z"
   },
   {
    "duration": 214,
    "start_time": "2024-09-28T11:15:54.669Z"
   },
   {
    "duration": 97,
    "start_time": "2024-09-28T11:15:54.885Z"
   },
   {
    "duration": 143,
    "start_time": "2024-09-28T11:15:54.984Z"
   },
   {
    "duration": 120,
    "start_time": "2024-09-28T11:15:55.130Z"
   },
   {
    "duration": 0,
    "start_time": "2024-09-28T11:15:55.251Z"
   },
   {
    "duration": 0,
    "start_time": "2024-09-28T11:15:55.253Z"
   },
   {
    "duration": 0,
    "start_time": "2024-09-28T11:15:55.255Z"
   },
   {
    "duration": 23,
    "start_time": "2024-09-28T11:19:29.685Z"
   },
   {
    "duration": 64,
    "start_time": "2024-09-29T15:22:53.633Z"
   },
   {
    "duration": 5186,
    "start_time": "2024-09-29T15:23:02.921Z"
   },
   {
    "duration": 1402,
    "start_time": "2024-09-29T15:23:08.111Z"
   },
   {
    "duration": 715,
    "start_time": "2024-09-29T15:23:09.515Z"
   },
   {
    "duration": 5,
    "start_time": "2024-09-29T15:23:10.232Z"
   },
   {
    "duration": 265,
    "start_time": "2024-09-29T15:23:10.239Z"
   },
   {
    "duration": 4,
    "start_time": "2024-09-29T15:23:10.505Z"
   },
   {
    "duration": 8,
    "start_time": "2024-09-29T15:23:10.510Z"
   },
   {
    "duration": 7,
    "start_time": "2024-09-29T15:23:10.520Z"
   },
   {
    "duration": 133,
    "start_time": "2024-09-29T15:23:10.529Z"
   },
   {
    "duration": 9,
    "start_time": "2024-09-29T15:23:10.665Z"
   },
   {
    "duration": 52,
    "start_time": "2024-09-29T15:23:10.676Z"
   },
   {
    "duration": 5,
    "start_time": "2024-09-29T15:23:10.729Z"
   },
   {
    "duration": 11,
    "start_time": "2024-09-29T15:23:10.736Z"
   },
   {
    "duration": 5,
    "start_time": "2024-09-29T15:23:10.755Z"
   },
   {
    "duration": 207,
    "start_time": "2024-09-29T15:23:10.761Z"
   },
   {
    "duration": 16,
    "start_time": "2024-09-29T15:23:10.970Z"
   },
   {
    "duration": 75,
    "start_time": "2024-09-29T15:23:10.988Z"
   },
   {
    "duration": 32,
    "start_time": "2024-09-29T15:23:11.065Z"
   },
   {
    "duration": 57,
    "start_time": "2024-09-29T15:23:11.098Z"
   },
   {
    "duration": 338,
    "start_time": "2024-09-29T15:23:11.157Z"
   },
   {
    "duration": 17,
    "start_time": "2024-09-29T15:23:11.497Z"
   },
   {
    "duration": 4,
    "start_time": "2024-09-29T15:23:11.516Z"
   },
   {
    "duration": 7,
    "start_time": "2024-09-29T15:23:11.521Z"
   },
   {
    "duration": 40,
    "start_time": "2024-09-29T15:23:11.529Z"
   },
   {
    "duration": 15,
    "start_time": "2024-09-29T15:23:11.570Z"
   },
   {
    "duration": 21,
    "start_time": "2024-09-29T15:23:11.587Z"
   },
   {
    "duration": 47,
    "start_time": "2024-09-29T15:23:11.610Z"
   },
   {
    "duration": 52,
    "start_time": "2024-09-29T15:23:11.660Z"
   },
   {
    "duration": 116,
    "start_time": "2024-09-29T15:23:11.713Z"
   },
   {
    "duration": 124,
    "start_time": "2024-09-29T15:23:11.831Z"
   },
   {
    "duration": 4,
    "start_time": "2024-09-29T15:23:11.958Z"
   },
   {
    "duration": 76,
    "start_time": "2024-09-29T15:23:11.964Z"
   },
   {
    "duration": 169,
    "start_time": "2024-09-29T15:23:12.042Z"
   },
   {
    "duration": 49,
    "start_time": "2024-09-29T15:23:12.212Z"
   },
   {
    "duration": 52,
    "start_time": "2024-09-29T15:23:12.263Z"
   },
   {
    "duration": 98,
    "start_time": "2024-09-29T15:23:12.317Z"
   },
   {
    "duration": 240,
    "start_time": "2024-09-29T15:23:12.417Z"
   },
   {
    "duration": 55,
    "start_time": "2024-09-29T15:23:12.659Z"
   },
   {
    "duration": 116,
    "start_time": "2024-09-29T15:23:12.716Z"
   },
   {
    "duration": 127,
    "start_time": "2024-09-29T15:23:12.834Z"
   },
   {
    "duration": 0,
    "start_time": "2024-09-29T15:23:12.963Z"
   },
   {
    "duration": 0,
    "start_time": "2024-09-29T15:23:12.965Z"
   },
   {
    "duration": 0,
    "start_time": "2024-09-29T15:23:12.967Z"
   },
   {
    "duration": 2699,
    "start_time": "2024-09-29T15:29:12.317Z"
   },
   {
    "duration": 1171,
    "start_time": "2024-09-29T15:29:15.019Z"
   },
   {
    "duration": 190,
    "start_time": "2024-09-29T15:29:16.192Z"
   },
   {
    "duration": 6,
    "start_time": "2024-09-29T15:29:16.384Z"
   },
   {
    "duration": 286,
    "start_time": "2024-09-29T15:29:16.393Z"
   },
   {
    "duration": 3,
    "start_time": "2024-09-29T15:29:16.681Z"
   },
   {
    "duration": 9,
    "start_time": "2024-09-29T15:29:16.686Z"
   },
   {
    "duration": 22,
    "start_time": "2024-09-29T15:29:16.696Z"
   },
   {
    "duration": 119,
    "start_time": "2024-09-29T15:29:16.720Z"
   },
   {
    "duration": 15,
    "start_time": "2024-09-29T15:29:16.841Z"
   },
   {
    "duration": 24,
    "start_time": "2024-09-29T15:29:16.858Z"
   },
   {
    "duration": 5,
    "start_time": "2024-09-29T15:29:16.884Z"
   },
   {
    "duration": 21,
    "start_time": "2024-09-29T15:29:16.891Z"
   },
   {
    "duration": 18,
    "start_time": "2024-09-29T15:29:16.913Z"
   },
   {
    "duration": 196,
    "start_time": "2024-09-29T15:29:16.932Z"
   },
   {
    "duration": 15,
    "start_time": "2024-09-29T15:29:17.130Z"
   },
   {
    "duration": 67,
    "start_time": "2024-09-29T15:29:17.156Z"
   },
   {
    "duration": 58,
    "start_time": "2024-09-29T15:29:17.226Z"
   },
   {
    "duration": 15,
    "start_time": "2024-09-29T15:29:17.286Z"
   },
   {
    "duration": 384,
    "start_time": "2024-09-29T15:29:17.302Z"
   },
   {
    "duration": 17,
    "start_time": "2024-09-29T15:29:17.687Z"
   },
   {
    "duration": 72,
    "start_time": "2024-09-29T15:29:17.705Z"
   },
   {
    "duration": 23,
    "start_time": "2024-09-29T15:29:17.779Z"
   },
   {
    "duration": 20,
    "start_time": "2024-09-29T15:29:17.804Z"
   },
   {
    "duration": 18,
    "start_time": "2024-09-29T15:29:17.826Z"
   },
   {
    "duration": 22,
    "start_time": "2024-09-29T15:29:17.845Z"
   },
   {
    "duration": 23,
    "start_time": "2024-09-29T15:29:17.868Z"
   },
   {
    "duration": 77,
    "start_time": "2024-09-29T15:29:17.895Z"
   },
   {
    "duration": 100,
    "start_time": "2024-09-29T15:29:17.973Z"
   },
   {
    "duration": 117,
    "start_time": "2024-09-29T15:29:18.075Z"
   },
   {
    "duration": 5,
    "start_time": "2024-09-29T15:29:18.193Z"
   },
   {
    "duration": 82,
    "start_time": "2024-09-29T15:29:18.199Z"
   },
   {
    "duration": 182,
    "start_time": "2024-09-29T15:29:18.283Z"
   },
   {
    "duration": 35,
    "start_time": "2024-09-29T15:29:18.467Z"
   },
   {
    "duration": 67,
    "start_time": "2024-09-29T15:29:18.503Z"
   },
   {
    "duration": 91,
    "start_time": "2024-09-29T15:29:18.572Z"
   },
   {
    "duration": 207,
    "start_time": "2024-09-29T15:29:18.665Z"
   },
   {
    "duration": 57,
    "start_time": "2024-09-29T15:29:18.874Z"
   },
   {
    "duration": 115,
    "start_time": "2024-09-29T15:29:18.956Z"
   },
   {
    "duration": 124,
    "start_time": "2024-09-29T15:29:19.073Z"
   },
   {
    "duration": 0,
    "start_time": "2024-09-29T15:29:19.199Z"
   },
   {
    "duration": 0,
    "start_time": "2024-09-29T15:29:19.201Z"
   },
   {
    "duration": 0,
    "start_time": "2024-09-29T15:29:19.202Z"
   },
   {
    "duration": 2703,
    "start_time": "2024-09-29T15:30:13.066Z"
   },
   {
    "duration": 1215,
    "start_time": "2024-09-29T15:30:15.772Z"
   },
   {
    "duration": 207,
    "start_time": "2024-09-29T15:30:16.989Z"
   },
   {
    "duration": 5,
    "start_time": "2024-09-29T15:30:17.198Z"
   },
   {
    "duration": 286,
    "start_time": "2024-09-29T15:30:17.205Z"
   },
   {
    "duration": 3,
    "start_time": "2024-09-29T15:30:17.492Z"
   },
   {
    "duration": 16,
    "start_time": "2024-09-29T15:30:17.497Z"
   },
   {
    "duration": 14,
    "start_time": "2024-09-29T15:30:17.515Z"
   },
   {
    "duration": 144,
    "start_time": "2024-09-29T15:30:17.531Z"
   },
   {
    "duration": 9,
    "start_time": "2024-09-29T15:30:17.678Z"
   },
   {
    "duration": 26,
    "start_time": "2024-09-29T15:30:17.689Z"
   },
   {
    "duration": 53,
    "start_time": "2024-09-29T15:30:17.716Z"
   },
   {
    "duration": 23,
    "start_time": "2024-09-29T15:30:17.771Z"
   },
   {
    "duration": 4,
    "start_time": "2024-09-29T15:30:17.796Z"
   },
   {
    "duration": 181,
    "start_time": "2024-09-29T15:30:17.802Z"
   },
   {
    "duration": 15,
    "start_time": "2024-09-29T15:30:17.985Z"
   },
   {
    "duration": 78,
    "start_time": "2024-09-29T15:30:18.002Z"
   },
   {
    "duration": 29,
    "start_time": "2024-09-29T15:30:18.082Z"
   },
   {
    "duration": 45,
    "start_time": "2024-09-29T15:30:18.113Z"
   },
   {
    "duration": 348,
    "start_time": "2024-09-29T15:30:18.160Z"
   },
   {
    "duration": 15,
    "start_time": "2024-09-29T15:30:18.510Z"
   },
   {
    "duration": 4,
    "start_time": "2024-09-29T15:30:18.527Z"
   },
   {
    "duration": 24,
    "start_time": "2024-09-29T15:30:18.533Z"
   },
   {
    "duration": 15,
    "start_time": "2024-09-29T15:30:18.559Z"
   },
   {
    "duration": 14,
    "start_time": "2024-09-29T15:30:18.576Z"
   },
   {
    "duration": 20,
    "start_time": "2024-09-29T15:30:18.592Z"
   },
   {
    "duration": 54,
    "start_time": "2024-09-29T15:30:18.614Z"
   },
   {
    "duration": 58,
    "start_time": "2024-09-29T15:30:18.672Z"
   },
   {
    "duration": 101,
    "start_time": "2024-09-29T15:30:18.731Z"
   },
   {
    "duration": 124,
    "start_time": "2024-09-29T15:30:18.834Z"
   },
   {
    "duration": 4,
    "start_time": "2024-09-29T15:30:18.960Z"
   },
   {
    "duration": 59,
    "start_time": "2024-09-29T15:30:18.966Z"
   },
   {
    "duration": 205,
    "start_time": "2024-09-29T15:30:19.027Z"
   },
   {
    "duration": 43,
    "start_time": "2024-09-29T15:30:19.234Z"
   },
   {
    "duration": 52,
    "start_time": "2024-09-29T15:30:19.279Z"
   },
   {
    "duration": 74,
    "start_time": "2024-09-29T15:30:19.354Z"
   },
   {
    "duration": 251,
    "start_time": "2024-09-29T15:30:19.430Z"
   },
   {
    "duration": 75,
    "start_time": "2024-09-29T15:30:19.683Z"
   },
   {
    "duration": 108,
    "start_time": "2024-09-29T15:30:19.760Z"
   },
   {
    "duration": 103,
    "start_time": "2024-09-29T15:30:19.869Z"
   },
   {
    "duration": 16,
    "start_time": "2024-09-29T15:30:19.974Z"
   },
   {
    "duration": 398,
    "start_time": "2024-09-29T15:30:19.991Z"
   },
   {
    "duration": 1177,
    "start_time": "2024-09-29T15:30:20.391Z"
   },
   {
    "duration": 10430,
    "start_time": "2024-09-29T16:20:37.381Z"
   },
   {
    "duration": 1403,
    "start_time": "2024-09-29T16:20:47.814Z"
   },
   {
    "duration": 682,
    "start_time": "2024-09-29T16:20:49.219Z"
   },
   {
    "duration": 8,
    "start_time": "2024-09-29T16:20:49.904Z"
   },
   {
    "duration": 274,
    "start_time": "2024-09-29T16:20:49.914Z"
   },
   {
    "duration": 3,
    "start_time": "2024-09-29T16:20:50.190Z"
   },
   {
    "duration": 48,
    "start_time": "2024-09-29T16:20:50.195Z"
   },
   {
    "duration": 9,
    "start_time": "2024-09-29T16:20:50.245Z"
   },
   {
    "duration": 110,
    "start_time": "2024-09-29T16:20:50.256Z"
   },
   {
    "duration": 9,
    "start_time": "2024-09-29T16:20:50.369Z"
   },
   {
    "duration": 37,
    "start_time": "2024-09-29T16:20:50.380Z"
   },
   {
    "duration": 44,
    "start_time": "2024-09-29T16:20:50.420Z"
   },
   {
    "duration": 10,
    "start_time": "2024-09-29T16:20:50.466Z"
   },
   {
    "duration": 4,
    "start_time": "2024-09-29T16:20:50.477Z"
   },
   {
    "duration": 181,
    "start_time": "2024-09-29T16:20:50.482Z"
   },
   {
    "duration": 14,
    "start_time": "2024-09-29T16:20:50.665Z"
   },
   {
    "duration": 69,
    "start_time": "2024-09-29T16:20:50.680Z"
   },
   {
    "duration": 29,
    "start_time": "2024-09-29T16:20:50.751Z"
   },
   {
    "duration": 43,
    "start_time": "2024-09-29T16:20:50.782Z"
   },
   {
    "duration": 330,
    "start_time": "2024-09-29T16:20:50.827Z"
   },
   {
    "duration": 16,
    "start_time": "2024-09-29T16:20:51.159Z"
   },
   {
    "duration": 4,
    "start_time": "2024-09-29T16:20:51.176Z"
   },
   {
    "duration": 15,
    "start_time": "2024-09-29T16:20:51.182Z"
   },
   {
    "duration": 36,
    "start_time": "2024-09-29T16:20:51.198Z"
   },
   {
    "duration": 15,
    "start_time": "2024-09-29T16:20:51.235Z"
   },
   {
    "duration": 20,
    "start_time": "2024-09-29T16:20:51.252Z"
   },
   {
    "duration": 49,
    "start_time": "2024-09-29T16:20:51.274Z"
   },
   {
    "duration": 51,
    "start_time": "2024-09-29T16:20:51.327Z"
   },
   {
    "duration": 108,
    "start_time": "2024-09-29T16:20:51.380Z"
   },
   {
    "duration": 112,
    "start_time": "2024-09-29T16:20:51.490Z"
   },
   {
    "duration": 18,
    "start_time": "2024-09-29T16:20:51.604Z"
   },
   {
    "duration": 72,
    "start_time": "2024-09-29T16:20:51.624Z"
   },
   {
    "duration": 174,
    "start_time": "2024-09-29T16:20:51.698Z"
   },
   {
    "duration": 36,
    "start_time": "2024-09-29T16:20:51.874Z"
   },
   {
    "duration": 53,
    "start_time": "2024-09-29T16:20:51.921Z"
   },
   {
    "duration": 106,
    "start_time": "2024-09-29T16:20:51.976Z"
   },
   {
    "duration": 181,
    "start_time": "2024-09-29T16:20:52.084Z"
   },
   {
    "duration": 87,
    "start_time": "2024-09-29T16:20:52.267Z"
   },
   {
    "duration": 106,
    "start_time": "2024-09-29T16:20:52.355Z"
   },
   {
    "duration": 96,
    "start_time": "2024-09-29T16:20:52.463Z"
   },
   {
    "duration": 11,
    "start_time": "2024-09-29T16:20:52.561Z"
   },
   {
    "duration": 386,
    "start_time": "2024-09-29T16:20:52.574Z"
   },
   {
    "duration": 1105,
    "start_time": "2024-09-29T16:20:52.962Z"
   },
   {
    "duration": 2642,
    "start_time": "2024-09-29T21:59:51.269Z"
   },
   {
    "duration": 1291,
    "start_time": "2024-09-29T21:59:53.913Z"
   },
   {
    "duration": 225,
    "start_time": "2024-09-29T21:59:55.206Z"
   },
   {
    "duration": 6,
    "start_time": "2024-09-29T21:59:55.433Z"
   },
   {
    "duration": 301,
    "start_time": "2024-09-29T21:59:55.441Z"
   },
   {
    "duration": 4,
    "start_time": "2024-09-29T21:59:55.744Z"
   },
   {
    "duration": 13,
    "start_time": "2024-09-29T21:59:55.751Z"
   },
   {
    "duration": 10,
    "start_time": "2024-09-29T21:59:55.765Z"
   },
   {
    "duration": 151,
    "start_time": "2024-09-29T21:59:55.776Z"
   },
   {
    "duration": 20,
    "start_time": "2024-09-29T21:59:55.930Z"
   },
   {
    "duration": 29,
    "start_time": "2024-09-29T21:59:55.952Z"
   },
   {
    "duration": 5,
    "start_time": "2024-09-29T21:59:55.983Z"
   },
   {
    "duration": 38,
    "start_time": "2024-09-29T21:59:55.990Z"
   },
   {
    "duration": 6,
    "start_time": "2024-09-29T21:59:56.030Z"
   },
   {
    "duration": 208,
    "start_time": "2024-09-29T21:59:56.038Z"
   },
   {
    "duration": 16,
    "start_time": "2024-09-29T21:59:56.248Z"
   },
   {
    "duration": 79,
    "start_time": "2024-09-29T21:59:56.266Z"
   },
   {
    "duration": 30,
    "start_time": "2024-09-29T21:59:56.347Z"
   },
   {
    "duration": 47,
    "start_time": "2024-09-29T21:59:56.379Z"
   },
   {
    "duration": 349,
    "start_time": "2024-09-29T21:59:56.428Z"
   },
   {
    "duration": 16,
    "start_time": "2024-09-29T21:59:56.779Z"
   },
   {
    "duration": 4,
    "start_time": "2024-09-29T21:59:56.797Z"
   },
   {
    "duration": 24,
    "start_time": "2024-09-29T21:59:56.802Z"
   },
   {
    "duration": 16,
    "start_time": "2024-09-29T21:59:56.828Z"
   },
   {
    "duration": 26,
    "start_time": "2024-09-29T21:59:56.846Z"
   },
   {
    "duration": 22,
    "start_time": "2024-09-29T21:59:56.874Z"
   },
   {
    "duration": 42,
    "start_time": "2024-09-29T21:59:56.897Z"
   },
   {
    "duration": 77,
    "start_time": "2024-09-29T21:59:56.943Z"
   },
   {
    "duration": 85,
    "start_time": "2024-09-29T21:59:57.023Z"
   },
   {
    "duration": 120,
    "start_time": "2024-09-29T21:59:57.120Z"
   },
   {
    "duration": 5,
    "start_time": "2024-09-29T21:59:57.241Z"
   },
   {
    "duration": 96,
    "start_time": "2024-09-29T21:59:57.248Z"
   },
   {
    "duration": 194,
    "start_time": "2024-09-29T21:59:57.346Z"
   },
   {
    "duration": 41,
    "start_time": "2024-09-29T21:59:57.543Z"
   },
   {
    "duration": 81,
    "start_time": "2024-09-29T21:59:57.586Z"
   },
   {
    "duration": 95,
    "start_time": "2024-09-29T21:59:57.669Z"
   },
   {
    "duration": 213,
    "start_time": "2024-09-29T21:59:57.766Z"
   },
   {
    "duration": 92,
    "start_time": "2024-09-29T21:59:57.981Z"
   },
   {
    "duration": 122,
    "start_time": "2024-09-29T21:59:58.075Z"
   },
   {
    "duration": 94,
    "start_time": "2024-09-29T21:59:58.199Z"
   },
   {
    "duration": 31,
    "start_time": "2024-09-29T21:59:58.296Z"
   },
   {
    "duration": 442,
    "start_time": "2024-09-29T21:59:58.329Z"
   },
   {
    "duration": 1216,
    "start_time": "2024-09-29T21:59:58.773Z"
   },
   {
    "duration": 50,
    "start_time": "2024-09-30T06:52:05.010Z"
   },
   {
    "duration": 3191,
    "start_time": "2024-09-30T06:52:20.605Z"
   },
   {
    "duration": 1419,
    "start_time": "2024-09-30T06:52:23.798Z"
   },
   {
    "duration": 837,
    "start_time": "2024-09-30T06:52:25.220Z"
   },
   {
    "duration": 5,
    "start_time": "2024-09-30T06:52:26.059Z"
   },
   {
    "duration": 269,
    "start_time": "2024-09-30T06:52:26.066Z"
   },
   {
    "duration": 4,
    "start_time": "2024-09-30T06:52:26.337Z"
   },
   {
    "duration": 9,
    "start_time": "2024-09-30T06:52:26.343Z"
   },
   {
    "duration": 28,
    "start_time": "2024-09-30T06:52:26.354Z"
   },
   {
    "duration": 122,
    "start_time": "2024-09-30T06:52:26.384Z"
   },
   {
    "duration": 9,
    "start_time": "2024-09-30T06:52:26.509Z"
   },
   {
    "duration": 25,
    "start_time": "2024-09-30T06:52:26.520Z"
   },
   {
    "duration": 32,
    "start_time": "2024-09-30T06:52:26.547Z"
   },
   {
    "duration": 11,
    "start_time": "2024-09-30T06:52:26.581Z"
   },
   {
    "duration": 6,
    "start_time": "2024-09-30T06:52:26.594Z"
   },
   {
    "duration": 206,
    "start_time": "2024-09-30T06:52:26.602Z"
   },
   {
    "duration": 14,
    "start_time": "2024-09-30T06:52:26.810Z"
   },
   {
    "duration": 65,
    "start_time": "2024-09-30T06:52:26.826Z"
   },
   {
    "duration": 29,
    "start_time": "2024-09-30T06:52:26.893Z"
   },
   {
    "duration": 13,
    "start_time": "2024-09-30T06:52:26.924Z"
   },
   {
    "duration": 358,
    "start_time": "2024-09-30T06:52:26.938Z"
   },
   {
    "duration": 15,
    "start_time": "2024-09-30T06:52:27.298Z"
   },
   {
    "duration": 28,
    "start_time": "2024-09-30T06:52:27.315Z"
   },
   {
    "duration": 20,
    "start_time": "2024-09-30T06:52:27.345Z"
   },
   {
    "duration": 19,
    "start_time": "2024-09-30T06:52:27.366Z"
   },
   {
    "duration": 13,
    "start_time": "2024-09-30T06:52:27.387Z"
   },
   {
    "duration": 21,
    "start_time": "2024-09-30T06:52:27.402Z"
   },
   {
    "duration": 22,
    "start_time": "2024-09-30T06:52:27.424Z"
   },
   {
    "duration": 74,
    "start_time": "2024-09-30T06:52:27.450Z"
   },
   {
    "duration": 70,
    "start_time": "2024-09-30T06:52:27.526Z"
   },
   {
    "duration": 102,
    "start_time": "2024-09-30T06:52:27.598Z"
   },
   {
    "duration": 114,
    "start_time": "2024-09-30T06:52:27.701Z"
   },
   {
    "duration": 4,
    "start_time": "2024-09-30T06:52:27.817Z"
   },
   {
    "duration": 83,
    "start_time": "2024-09-30T06:52:27.822Z"
   },
   {
    "duration": 173,
    "start_time": "2024-09-30T06:52:27.906Z"
   },
   {
    "duration": 34,
    "start_time": "2024-09-30T06:52:28.081Z"
   },
   {
    "duration": 72,
    "start_time": "2024-09-30T06:52:28.117Z"
   },
   {
    "duration": 106,
    "start_time": "2024-09-30T06:52:28.191Z"
   },
   {
    "duration": 199,
    "start_time": "2024-09-30T06:52:28.299Z"
   },
   {
    "duration": 77,
    "start_time": "2024-09-30T06:52:28.500Z"
   },
   {
    "duration": 105,
    "start_time": "2024-09-30T06:52:28.578Z"
   },
   {
    "duration": 92,
    "start_time": "2024-09-30T06:52:28.684Z"
   },
   {
    "duration": 11,
    "start_time": "2024-09-30T06:52:28.778Z"
   },
   {
    "duration": 406,
    "start_time": "2024-09-30T06:52:28.790Z"
   },
   {
    "duration": 1046,
    "start_time": "2024-09-30T06:52:29.197Z"
   },
   {
    "duration": 2491,
    "start_time": "2024-09-30T07:02:26.894Z"
   },
   {
    "duration": 1220,
    "start_time": "2024-09-30T07:02:29.388Z"
   },
   {
    "duration": 193,
    "start_time": "2024-09-30T07:02:30.610Z"
   },
   {
    "duration": 6,
    "start_time": "2024-09-30T07:02:30.806Z"
   },
   {
    "duration": 288,
    "start_time": "2024-09-30T07:02:30.813Z"
   },
   {
    "duration": 3,
    "start_time": "2024-09-30T07:02:31.102Z"
   },
   {
    "duration": 12,
    "start_time": "2024-09-30T07:02:31.106Z"
   },
   {
    "duration": 12,
    "start_time": "2024-09-30T07:02:31.119Z"
   },
   {
    "duration": 122,
    "start_time": "2024-09-30T07:02:31.133Z"
   },
   {
    "duration": 9,
    "start_time": "2024-09-30T07:02:31.258Z"
   },
   {
    "duration": 34,
    "start_time": "2024-09-30T07:02:31.277Z"
   },
   {
    "duration": 76,
    "start_time": "2024-09-30T07:02:31.313Z"
   },
   {
    "duration": 13,
    "start_time": "2024-09-30T07:02:31.391Z"
   },
   {
    "duration": 9,
    "start_time": "2024-09-30T07:02:31.405Z"
   },
   {
    "duration": 203,
    "start_time": "2024-09-30T07:02:31.415Z"
   },
   {
    "duration": 14,
    "start_time": "2024-09-30T07:02:31.620Z"
   },
   {
    "duration": 69,
    "start_time": "2024-09-30T07:02:31.636Z"
   },
   {
    "duration": 30,
    "start_time": "2024-09-30T07:02:31.707Z"
   },
   {
    "duration": 91,
    "start_time": "2024-09-30T07:02:31.738Z"
   },
   {
    "duration": 311,
    "start_time": "2024-09-30T07:02:31.830Z"
   },
   {
    "duration": 15,
    "start_time": "2024-09-30T07:02:32.143Z"
   },
   {
    "duration": 16,
    "start_time": "2024-09-30T07:02:32.160Z"
   },
   {
    "duration": 4,
    "start_time": "2024-09-30T07:02:32.178Z"
   },
   {
    "duration": 21,
    "start_time": "2024-09-30T07:02:32.183Z"
   },
   {
    "duration": 15,
    "start_time": "2024-09-30T07:02:32.206Z"
   },
   {
    "duration": 22,
    "start_time": "2024-09-30T07:02:32.223Z"
   },
   {
    "duration": 51,
    "start_time": "2024-09-30T07:02:32.276Z"
   },
   {
    "duration": 71,
    "start_time": "2024-09-30T07:02:32.330Z"
   },
   {
    "duration": 102,
    "start_time": "2024-09-30T07:02:32.403Z"
   },
   {
    "duration": 116,
    "start_time": "2024-09-30T07:02:32.507Z"
   },
   {
    "duration": 4,
    "start_time": "2024-09-30T07:02:32.625Z"
   },
   {
    "duration": 78,
    "start_time": "2024-09-30T07:02:32.631Z"
   },
   {
    "duration": 175,
    "start_time": "2024-09-30T07:02:32.711Z"
   },
   {
    "duration": 35,
    "start_time": "2024-09-30T07:02:32.888Z"
   },
   {
    "duration": 74,
    "start_time": "2024-09-30T07:02:32.925Z"
   },
   {
    "duration": 91,
    "start_time": "2024-09-30T07:02:33.000Z"
   },
   {
    "duration": 204,
    "start_time": "2024-09-30T07:02:33.093Z"
   },
   {
    "duration": 88,
    "start_time": "2024-09-30T07:02:33.299Z"
   },
   {
    "duration": 113,
    "start_time": "2024-09-30T07:02:33.389Z"
   },
   {
    "duration": 91,
    "start_time": "2024-09-30T07:02:33.504Z"
   },
   {
    "duration": 12,
    "start_time": "2024-09-30T07:02:33.596Z"
   },
   {
    "duration": 388,
    "start_time": "2024-09-30T07:02:33.609Z"
   },
   {
    "duration": 1102,
    "start_time": "2024-09-30T07:02:33.999Z"
   },
   {
    "duration": 2499,
    "start_time": "2024-09-30T07:14:52.968Z"
   },
   {
    "duration": 1229,
    "start_time": "2024-09-30T07:14:55.469Z"
   },
   {
    "duration": 185,
    "start_time": "2024-09-30T07:14:56.700Z"
   },
   {
    "duration": 6,
    "start_time": "2024-09-30T07:14:56.888Z"
   },
   {
    "duration": 293,
    "start_time": "2024-09-30T07:14:56.895Z"
   },
   {
    "duration": 4,
    "start_time": "2024-09-30T07:14:57.190Z"
   },
   {
    "duration": 26,
    "start_time": "2024-09-30T07:14:57.196Z"
   },
   {
    "duration": 10,
    "start_time": "2024-09-30T07:14:57.224Z"
   },
   {
    "duration": 120,
    "start_time": "2024-09-30T07:14:57.236Z"
   },
   {
    "duration": 18,
    "start_time": "2024-09-30T07:14:57.359Z"
   },
   {
    "duration": 27,
    "start_time": "2024-09-30T07:14:57.379Z"
   },
   {
    "duration": 7,
    "start_time": "2024-09-30T07:14:57.408Z"
   },
   {
    "duration": 10,
    "start_time": "2024-09-30T07:14:57.417Z"
   },
   {
    "duration": 4,
    "start_time": "2024-09-30T07:14:57.429Z"
   },
   {
    "duration": 175,
    "start_time": "2024-09-30T07:14:57.476Z"
   },
   {
    "duration": 26,
    "start_time": "2024-09-30T07:14:57.653Z"
   },
   {
    "duration": 59,
    "start_time": "2024-09-30T07:14:57.681Z"
   },
   {
    "duration": 50,
    "start_time": "2024-09-30T07:14:57.741Z"
   },
   {
    "duration": 14,
    "start_time": "2024-09-30T07:14:57.793Z"
   },
   {
    "duration": 346,
    "start_time": "2024-09-30T07:14:57.808Z"
   },
   {
    "duration": 25,
    "start_time": "2024-09-30T07:14:58.156Z"
   },
   {
    "duration": 5,
    "start_time": "2024-09-30T07:14:58.184Z"
   },
   {
    "duration": 15,
    "start_time": "2024-09-30T07:14:58.192Z"
   },
   {
    "duration": 28,
    "start_time": "2024-09-30T07:14:58.209Z"
   },
   {
    "duration": 18,
    "start_time": "2024-09-30T07:14:58.239Z"
   },
   {
    "duration": 36,
    "start_time": "2024-09-30T07:14:58.258Z"
   },
   {
    "duration": 51,
    "start_time": "2024-09-30T07:14:58.296Z"
   },
   {
    "duration": 63,
    "start_time": "2024-09-30T07:14:58.351Z"
   },
   {
    "duration": 98,
    "start_time": "2024-09-30T07:14:58.415Z"
   },
   {
    "duration": 118,
    "start_time": "2024-09-30T07:14:58.515Z"
   },
   {
    "duration": 5,
    "start_time": "2024-09-30T07:14:58.634Z"
   },
   {
    "duration": 78,
    "start_time": "2024-09-30T07:14:58.641Z"
   },
   {
    "duration": 175,
    "start_time": "2024-09-30T07:14:58.720Z"
   },
   {
    "duration": 244,
    "start_time": "2024-09-30T07:14:58.897Z"
   },
   {
    "duration": 43,
    "start_time": "2024-09-30T07:14:59.143Z"
   },
   {
    "duration": 52,
    "start_time": "2024-09-30T07:14:59.188Z"
   },
   {
    "duration": 102,
    "start_time": "2024-09-30T07:14:59.241Z"
   },
   {
    "duration": 188,
    "start_time": "2024-09-30T07:14:59.344Z"
   },
   {
    "duration": 88,
    "start_time": "2024-09-30T07:14:59.533Z"
   },
   {
    "duration": 105,
    "start_time": "2024-09-30T07:14:59.623Z"
   },
   {
    "duration": 92,
    "start_time": "2024-09-30T07:14:59.730Z"
   },
   {
    "duration": 12,
    "start_time": "2024-09-30T07:14:59.824Z"
   },
   {
    "duration": 395,
    "start_time": "2024-09-30T07:14:59.837Z"
   },
   {
    "duration": 1118,
    "start_time": "2024-09-30T07:15:00.234Z"
   },
   {
    "duration": 2480,
    "start_time": "2024-09-30T07:37:57.471Z"
   },
   {
    "duration": 1242,
    "start_time": "2024-09-30T07:37:59.954Z"
   },
   {
    "duration": 186,
    "start_time": "2024-09-30T07:38:01.198Z"
   },
   {
    "duration": 5,
    "start_time": "2024-09-30T07:38:01.387Z"
   },
   {
    "duration": 276,
    "start_time": "2024-09-30T07:38:01.393Z"
   },
   {
    "duration": 5,
    "start_time": "2024-09-30T07:38:01.671Z"
   },
   {
    "duration": 24,
    "start_time": "2024-09-30T07:38:01.677Z"
   },
   {
    "duration": 16,
    "start_time": "2024-09-30T07:38:01.703Z"
   },
   {
    "duration": 136,
    "start_time": "2024-09-30T07:38:01.721Z"
   },
   {
    "duration": 9,
    "start_time": "2024-09-30T07:38:01.860Z"
   },
   {
    "duration": 40,
    "start_time": "2024-09-30T07:38:01.871Z"
   },
   {
    "duration": 12,
    "start_time": "2024-09-30T07:38:01.913Z"
   },
   {
    "duration": 27,
    "start_time": "2024-09-30T07:38:01.927Z"
   },
   {
    "duration": 7,
    "start_time": "2024-09-30T07:38:01.956Z"
   },
   {
    "duration": 302,
    "start_time": "2024-09-30T07:38:01.965Z"
   },
   {
    "duration": 15,
    "start_time": "2024-09-30T07:38:02.276Z"
   },
   {
    "duration": 86,
    "start_time": "2024-09-30T07:38:02.293Z"
   },
   {
    "duration": 41,
    "start_time": "2024-09-30T07:38:02.381Z"
   },
   {
    "duration": 28,
    "start_time": "2024-09-30T07:38:02.423Z"
   },
   {
    "duration": 320,
    "start_time": "2024-09-30T07:38:02.476Z"
   },
   {
    "duration": 16,
    "start_time": "2024-09-30T07:38:02.798Z"
   },
   {
    "duration": 22,
    "start_time": "2024-09-30T07:38:02.815Z"
   },
   {
    "duration": 38,
    "start_time": "2024-09-30T07:38:02.839Z"
   },
   {
    "duration": 125,
    "start_time": "2024-09-30T07:38:02.880Z"
   },
   {
    "duration": 16,
    "start_time": "2024-09-30T07:38:03.007Z"
   },
   {
    "duration": 22,
    "start_time": "2024-09-30T07:38:03.025Z"
   },
   {
    "duration": 57,
    "start_time": "2024-09-30T07:38:03.048Z"
   },
   {
    "duration": 73,
    "start_time": "2024-09-30T07:38:03.108Z"
   },
   {
    "duration": 97,
    "start_time": "2024-09-30T07:38:03.183Z"
   },
   {
    "duration": 115,
    "start_time": "2024-09-30T07:38:03.282Z"
   },
   {
    "duration": 5,
    "start_time": "2024-09-30T07:38:03.398Z"
   },
   {
    "duration": 122,
    "start_time": "2024-09-30T07:38:03.404Z"
   },
   {
    "duration": 257,
    "start_time": "2024-09-30T07:38:03.528Z"
   },
   {
    "duration": 35,
    "start_time": "2024-09-30T07:38:03.786Z"
   },
   {
    "duration": 76,
    "start_time": "2024-09-30T07:38:03.823Z"
   },
   {
    "duration": 88,
    "start_time": "2024-09-30T07:38:03.901Z"
   },
   {
    "duration": 215,
    "start_time": "2024-09-30T07:38:03.990Z"
   },
   {
    "duration": 71,
    "start_time": "2024-09-30T07:38:04.207Z"
   },
   {
    "duration": 106,
    "start_time": "2024-09-30T07:38:04.280Z"
   },
   {
    "duration": 93,
    "start_time": "2024-09-30T07:38:04.388Z"
   },
   {
    "duration": 11,
    "start_time": "2024-09-30T07:38:04.483Z"
   },
   {
    "duration": 411,
    "start_time": "2024-09-30T07:38:04.496Z"
   },
   {
    "duration": 1108,
    "start_time": "2024-09-30T07:38:04.909Z"
   }
  ],
  "kernelspec": {
   "display_name": "Python 3 (ipykernel)",
   "language": "python",
   "name": "python3"
  },
  "language_info": {
   "codemirror_mode": {
    "name": "ipython",
    "version": 3
   },
   "file_extension": ".py",
   "mimetype": "text/x-python",
   "name": "python",
   "nbconvert_exporter": "python",
   "pygments_lexer": "ipython3",
   "version": "3.9.5"
  },
  "toc": {
   "base_numbering": 1,
   "nav_menu": {},
   "number_sections": true,
   "sideBar": true,
   "skip_h1_title": true,
   "title_cell": "Table of Contents",
   "title_sidebar": "Contents",
   "toc_cell": false,
   "toc_position": {},
   "toc_section_display": true,
   "toc_window_display": false
  }
 },
 "nbformat": 4,
 "nbformat_minor": 2
}
