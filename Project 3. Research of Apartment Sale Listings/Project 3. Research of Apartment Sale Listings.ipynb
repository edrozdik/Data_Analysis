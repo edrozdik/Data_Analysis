{
 "cells": [
  {
   "cell_type": "markdown",
   "metadata": {
    "id": "-VFbjcb3Awb7"
   },
   "source": [
    "# Research of Apartment Sale Listings\n",
    "\n",
    "We have at our disposal data from the Yandex.Real Estate service—an archive of apartment sale listings in Saint Petersburg and nearby localities over several years. You need to learn how to determine the market value of real estate properties. Your task is to establish the parameters. This will enable the construction of an automated system: it will detect anomalies and fraudulent activities.\n",
    "\n",
    "For each apartment on sale, two types of data are available. The first is entered by the user, and the second is obtained automatically based on mapping data. For example, the distance to the city center, airport, nearest park, and body of water.\n",
    "\n",
    "\n",
    "# Table of Contents\n",
    "\n",
    "- [Introduction](#Introduction)\n",
    "- [Chapter 1](#ИStudying-General-Information)\n",
    "- [Chapter 2](#Data-preprocessing)\n",
    "- [Chapter 3](#Dataset-enrichment) \n",
    "- [Chapter 4](#ИExploratory-Data-Analysis)\n",
    "- [Chapter 5](#The-speed-of-apartment-sales)\n",
    "- [Chapter 6](#ОDetermining-factors-influencing-the-total-price-of-the-property.)\n",
    "- [Chapter 7](#Top-10-cities-with-the-most-advertisements)\n",
    "  \n",
    "- [Conclusion](#General-conclusion)"
   ]
  },
  {
   "cell_type": "markdown",
   "metadata": {},
   "source": [
    "# Introduction\n",
    "Project: Exploratory Data Analysis\n",
    "\n",
    "Research of Apartment Sale Listings\n",
    "\n",
    "For the exploratory data analysis, we will use data from the Yandex Real Estate service—an archive of apartment sale listings in Saint Petersburg and nearby localities over several years.\n",
    "\n",
    "We need to learn how to determine the market value of real estate properties. To do this, we will conduct an exploratory data analysis and establish the parameters affecting the price of the properties.\n",
    "\n",
    "Our work will consist of the following stages:\n",
    "\n",
    "Studying general information about the received dataframe;\n",
    "Data preprocessing (finding and filling in missing values, changing data types where necessary, eliminating duplicates);\n",
    "Enriching the table with new data;\n",
    "Conducting an exploratory data analysis (how quickly apartments were sold, determining the factors that most affect the total (full) cost of the property, finding the price dependence on specified parameters).\n",
    "General conclusion on the work done.\n"
   ]
  },
  {
   "cell_type": "markdown",
   "metadata": {
    "id": "aeFLH07FAwb9"
   },
   "source": [
    "## Studying General Information"
   ]
  },
  {
   "cell_type": "code",
   "execution_count": 208,
   "metadata": {
    "id": "7MZxY65pAwb9"
   },
   "outputs": [],
   "source": [
    "import pandas as pd\n",
    "import matplotlib.pyplot as plt\n",
    "\n",
    "\n",
    "\n"
   ]
  },
  {
   "cell_type": "markdown",
   "metadata": {},
   "source": [
    "Let's read the file real_estate_data.csv and save it in the variable data. Then, we will display the general information about the dataset."
   ]
  },
  {
   "cell_type": "code",
   "execution_count": 209,
   "metadata": {
    "scrolled": true
   },
   "outputs": [
    {
     "name": "stdout",
     "output_type": "stream",
     "text": [
      "<class 'pandas.core.frame.DataFrame'>\n",
      "RangeIndex: 23699 entries, 0 to 23698\n",
      "Data columns (total 22 columns):\n",
      " #   Column                Non-Null Count  Dtype  \n",
      "---  ------                --------------  -----  \n",
      " 0   total_images          23699 non-null  int64  \n",
      " 1   last_price            23699 non-null  float64\n",
      " 2   total_area            23699 non-null  float64\n",
      " 3   first_day_exposition  23699 non-null  object \n",
      " 4   rooms                 23699 non-null  int64  \n",
      " 5   ceiling_height        14504 non-null  float64\n",
      " 6   floors_total          23613 non-null  float64\n",
      " 7   living_area           21796 non-null  float64\n",
      " 8   floor                 23699 non-null  int64  \n",
      " 9   is_apartment          2775 non-null   object \n",
      " 10  studio                23699 non-null  bool   \n",
      " 11  open_plan             23699 non-null  bool   \n",
      " 12  kitchen_area          21421 non-null  float64\n",
      " 13  balcony               12180 non-null  float64\n",
      " 14  locality_name         23650 non-null  object \n",
      " 15  airports_nearest      18157 non-null  float64\n",
      " 16  cityCenters_nearest   18180 non-null  float64\n",
      " 17  parks_around3000      18181 non-null  float64\n",
      " 18  parks_nearest         8079 non-null   float64\n",
      " 19  ponds_around3000      18181 non-null  float64\n",
      " 20  ponds_nearest         9110 non-null   float64\n",
      " 21  days_exposition       20518 non-null  float64\n",
      "dtypes: bool(2), float64(14), int64(3), object(3)\n",
      "memory usage: 3.7+ MB\n"
     ]
    }
   ],
   "source": [
    "data = pd.read_csv('/datasets/real_estate_data.csv', sep='\\t')\n",
    "data.info()"
   ]
  },
  {
   "cell_type": "markdown",
   "metadata": {},
   "source": [
    "Let's examine the obtained information in more detail.\n",
    "\n",
    "The table contains a total of 22 columns with the following data types: bool (2), float64 (14), int64 (3), object (3)."
   ]
  },
  {
   "cell_type": "markdown",
   "metadata": {},
   "source": [
    "Let's specify the number of explicit duplicates."
   ]
  },
  {
   "cell_type": "code",
   "execution_count": 210,
   "metadata": {},
   "outputs": [
    {
     "data": {
      "text/plain": [
       "0"
      ]
     },
     "execution_count": 210,
     "metadata": {},
     "output_type": "execute_result"
    }
   ],
   "source": [
    "data.duplicated().sum()"
   ]
  },
  {
   "cell_type": "markdown",
   "metadata": {},
   "source": [
    "Let's output the first 20 lines of the dataset."
   ]
  },
  {
   "cell_type": "code",
   "execution_count": 211,
   "metadata": {
    "scrolled": true
   },
   "outputs": [
    {
     "data": {
      "text/html": [
       "<div>\n",
       "<style scoped>\n",
       "    .dataframe tbody tr th:only-of-type {\n",
       "        vertical-align: middle;\n",
       "    }\n",
       "\n",
       "    .dataframe tbody tr th {\n",
       "        vertical-align: top;\n",
       "    }\n",
       "\n",
       "    .dataframe thead th {\n",
       "        text-align: right;\n",
       "    }\n",
       "</style>\n",
       "<table border=\"1\" class=\"dataframe\">\n",
       "  <thead>\n",
       "    <tr style=\"text-align: right;\">\n",
       "      <th></th>\n",
       "      <th>total_images</th>\n",
       "      <th>last_price</th>\n",
       "      <th>total_area</th>\n",
       "      <th>first_day_exposition</th>\n",
       "      <th>rooms</th>\n",
       "      <th>ceiling_height</th>\n",
       "      <th>floors_total</th>\n",
       "      <th>living_area</th>\n",
       "      <th>floor</th>\n",
       "      <th>is_apartment</th>\n",
       "      <th>...</th>\n",
       "      <th>kitchen_area</th>\n",
       "      <th>balcony</th>\n",
       "      <th>locality_name</th>\n",
       "      <th>airports_nearest</th>\n",
       "      <th>cityCenters_nearest</th>\n",
       "      <th>parks_around3000</th>\n",
       "      <th>parks_nearest</th>\n",
       "      <th>ponds_around3000</th>\n",
       "      <th>ponds_nearest</th>\n",
       "      <th>days_exposition</th>\n",
       "    </tr>\n",
       "  </thead>\n",
       "  <tbody>\n",
       "    <tr>\n",
       "      <th>0</th>\n",
       "      <td>20</td>\n",
       "      <td>13000000.0</td>\n",
       "      <td>108.00</td>\n",
       "      <td>2019-03-07T00:00:00</td>\n",
       "      <td>3</td>\n",
       "      <td>2.70</td>\n",
       "      <td>16.0</td>\n",
       "      <td>51.00</td>\n",
       "      <td>8</td>\n",
       "      <td>NaN</td>\n",
       "      <td>...</td>\n",
       "      <td>25.00</td>\n",
       "      <td>NaN</td>\n",
       "      <td>Санкт-Петербург</td>\n",
       "      <td>18863.0</td>\n",
       "      <td>16028.0</td>\n",
       "      <td>1.0</td>\n",
       "      <td>482.0</td>\n",
       "      <td>2.0</td>\n",
       "      <td>755.0</td>\n",
       "      <td>NaN</td>\n",
       "    </tr>\n",
       "    <tr>\n",
       "      <th>1</th>\n",
       "      <td>7</td>\n",
       "      <td>3350000.0</td>\n",
       "      <td>40.40</td>\n",
       "      <td>2018-12-04T00:00:00</td>\n",
       "      <td>1</td>\n",
       "      <td>NaN</td>\n",
       "      <td>11.0</td>\n",
       "      <td>18.60</td>\n",
       "      <td>1</td>\n",
       "      <td>NaN</td>\n",
       "      <td>...</td>\n",
       "      <td>11.00</td>\n",
       "      <td>2.0</td>\n",
       "      <td>посёлок Шушары</td>\n",
       "      <td>12817.0</td>\n",
       "      <td>18603.0</td>\n",
       "      <td>0.0</td>\n",
       "      <td>NaN</td>\n",
       "      <td>0.0</td>\n",
       "      <td>NaN</td>\n",
       "      <td>81.0</td>\n",
       "    </tr>\n",
       "    <tr>\n",
       "      <th>2</th>\n",
       "      <td>10</td>\n",
       "      <td>5196000.0</td>\n",
       "      <td>56.00</td>\n",
       "      <td>2015-08-20T00:00:00</td>\n",
       "      <td>2</td>\n",
       "      <td>NaN</td>\n",
       "      <td>5.0</td>\n",
       "      <td>34.30</td>\n",
       "      <td>4</td>\n",
       "      <td>NaN</td>\n",
       "      <td>...</td>\n",
       "      <td>8.30</td>\n",
       "      <td>0.0</td>\n",
       "      <td>Санкт-Петербург</td>\n",
       "      <td>21741.0</td>\n",
       "      <td>13933.0</td>\n",
       "      <td>1.0</td>\n",
       "      <td>90.0</td>\n",
       "      <td>2.0</td>\n",
       "      <td>574.0</td>\n",
       "      <td>558.0</td>\n",
       "    </tr>\n",
       "    <tr>\n",
       "      <th>3</th>\n",
       "      <td>0</td>\n",
       "      <td>64900000.0</td>\n",
       "      <td>159.00</td>\n",
       "      <td>2015-07-24T00:00:00</td>\n",
       "      <td>3</td>\n",
       "      <td>NaN</td>\n",
       "      <td>14.0</td>\n",
       "      <td>NaN</td>\n",
       "      <td>9</td>\n",
       "      <td>NaN</td>\n",
       "      <td>...</td>\n",
       "      <td>NaN</td>\n",
       "      <td>0.0</td>\n",
       "      <td>Санкт-Петербург</td>\n",
       "      <td>28098.0</td>\n",
       "      <td>6800.0</td>\n",
       "      <td>2.0</td>\n",
       "      <td>84.0</td>\n",
       "      <td>3.0</td>\n",
       "      <td>234.0</td>\n",
       "      <td>424.0</td>\n",
       "    </tr>\n",
       "    <tr>\n",
       "      <th>4</th>\n",
       "      <td>2</td>\n",
       "      <td>10000000.0</td>\n",
       "      <td>100.00</td>\n",
       "      <td>2018-06-19T00:00:00</td>\n",
       "      <td>2</td>\n",
       "      <td>3.03</td>\n",
       "      <td>14.0</td>\n",
       "      <td>32.00</td>\n",
       "      <td>13</td>\n",
       "      <td>NaN</td>\n",
       "      <td>...</td>\n",
       "      <td>41.00</td>\n",
       "      <td>NaN</td>\n",
       "      <td>Санкт-Петербург</td>\n",
       "      <td>31856.0</td>\n",
       "      <td>8098.0</td>\n",
       "      <td>2.0</td>\n",
       "      <td>112.0</td>\n",
       "      <td>1.0</td>\n",
       "      <td>48.0</td>\n",
       "      <td>121.0</td>\n",
       "    </tr>\n",
       "    <tr>\n",
       "      <th>5</th>\n",
       "      <td>10</td>\n",
       "      <td>2890000.0</td>\n",
       "      <td>30.40</td>\n",
       "      <td>2018-09-10T00:00:00</td>\n",
       "      <td>1</td>\n",
       "      <td>NaN</td>\n",
       "      <td>12.0</td>\n",
       "      <td>14.40</td>\n",
       "      <td>5</td>\n",
       "      <td>NaN</td>\n",
       "      <td>...</td>\n",
       "      <td>9.10</td>\n",
       "      <td>NaN</td>\n",
       "      <td>городской посёлок Янино-1</td>\n",
       "      <td>NaN</td>\n",
       "      <td>NaN</td>\n",
       "      <td>NaN</td>\n",
       "      <td>NaN</td>\n",
       "      <td>NaN</td>\n",
       "      <td>NaN</td>\n",
       "      <td>55.0</td>\n",
       "    </tr>\n",
       "    <tr>\n",
       "      <th>6</th>\n",
       "      <td>6</td>\n",
       "      <td>3700000.0</td>\n",
       "      <td>37.30</td>\n",
       "      <td>2017-11-02T00:00:00</td>\n",
       "      <td>1</td>\n",
       "      <td>NaN</td>\n",
       "      <td>26.0</td>\n",
       "      <td>10.60</td>\n",
       "      <td>6</td>\n",
       "      <td>NaN</td>\n",
       "      <td>...</td>\n",
       "      <td>14.40</td>\n",
       "      <td>1.0</td>\n",
       "      <td>посёлок Парголово</td>\n",
       "      <td>52996.0</td>\n",
       "      <td>19143.0</td>\n",
       "      <td>0.0</td>\n",
       "      <td>NaN</td>\n",
       "      <td>0.0</td>\n",
       "      <td>NaN</td>\n",
       "      <td>155.0</td>\n",
       "    </tr>\n",
       "    <tr>\n",
       "      <th>7</th>\n",
       "      <td>5</td>\n",
       "      <td>7915000.0</td>\n",
       "      <td>71.60</td>\n",
       "      <td>2019-04-18T00:00:00</td>\n",
       "      <td>2</td>\n",
       "      <td>NaN</td>\n",
       "      <td>24.0</td>\n",
       "      <td>NaN</td>\n",
       "      <td>22</td>\n",
       "      <td>NaN</td>\n",
       "      <td>...</td>\n",
       "      <td>18.90</td>\n",
       "      <td>2.0</td>\n",
       "      <td>Санкт-Петербург</td>\n",
       "      <td>23982.0</td>\n",
       "      <td>11634.0</td>\n",
       "      <td>0.0</td>\n",
       "      <td>NaN</td>\n",
       "      <td>0.0</td>\n",
       "      <td>NaN</td>\n",
       "      <td>NaN</td>\n",
       "    </tr>\n",
       "    <tr>\n",
       "      <th>8</th>\n",
       "      <td>20</td>\n",
       "      <td>2900000.0</td>\n",
       "      <td>33.16</td>\n",
       "      <td>2018-05-23T00:00:00</td>\n",
       "      <td>1</td>\n",
       "      <td>NaN</td>\n",
       "      <td>27.0</td>\n",
       "      <td>15.43</td>\n",
       "      <td>26</td>\n",
       "      <td>NaN</td>\n",
       "      <td>...</td>\n",
       "      <td>8.81</td>\n",
       "      <td>NaN</td>\n",
       "      <td>посёлок Мурино</td>\n",
       "      <td>NaN</td>\n",
       "      <td>NaN</td>\n",
       "      <td>NaN</td>\n",
       "      <td>NaN</td>\n",
       "      <td>NaN</td>\n",
       "      <td>NaN</td>\n",
       "      <td>189.0</td>\n",
       "    </tr>\n",
       "    <tr>\n",
       "      <th>9</th>\n",
       "      <td>18</td>\n",
       "      <td>5400000.0</td>\n",
       "      <td>61.00</td>\n",
       "      <td>2017-02-26T00:00:00</td>\n",
       "      <td>3</td>\n",
       "      <td>2.50</td>\n",
       "      <td>9.0</td>\n",
       "      <td>43.60</td>\n",
       "      <td>7</td>\n",
       "      <td>NaN</td>\n",
       "      <td>...</td>\n",
       "      <td>6.50</td>\n",
       "      <td>2.0</td>\n",
       "      <td>Санкт-Петербург</td>\n",
       "      <td>50898.0</td>\n",
       "      <td>15008.0</td>\n",
       "      <td>0.0</td>\n",
       "      <td>NaN</td>\n",
       "      <td>0.0</td>\n",
       "      <td>NaN</td>\n",
       "      <td>289.0</td>\n",
       "    </tr>\n",
       "    <tr>\n",
       "      <th>10</th>\n",
       "      <td>5</td>\n",
       "      <td>5050000.0</td>\n",
       "      <td>39.60</td>\n",
       "      <td>2017-11-16T00:00:00</td>\n",
       "      <td>1</td>\n",
       "      <td>2.67</td>\n",
       "      <td>12.0</td>\n",
       "      <td>20.30</td>\n",
       "      <td>3</td>\n",
       "      <td>NaN</td>\n",
       "      <td>...</td>\n",
       "      <td>8.50</td>\n",
       "      <td>NaN</td>\n",
       "      <td>Санкт-Петербург</td>\n",
       "      <td>38357.0</td>\n",
       "      <td>13878.0</td>\n",
       "      <td>1.0</td>\n",
       "      <td>310.0</td>\n",
       "      <td>2.0</td>\n",
       "      <td>553.0</td>\n",
       "      <td>137.0</td>\n",
       "    </tr>\n",
       "    <tr>\n",
       "      <th>11</th>\n",
       "      <td>9</td>\n",
       "      <td>3300000.0</td>\n",
       "      <td>44.00</td>\n",
       "      <td>2018-08-27T00:00:00</td>\n",
       "      <td>2</td>\n",
       "      <td>NaN</td>\n",
       "      <td>5.0</td>\n",
       "      <td>31.00</td>\n",
       "      <td>4</td>\n",
       "      <td>False</td>\n",
       "      <td>...</td>\n",
       "      <td>6.00</td>\n",
       "      <td>1.0</td>\n",
       "      <td>Ломоносов</td>\n",
       "      <td>48252.0</td>\n",
       "      <td>51677.0</td>\n",
       "      <td>0.0</td>\n",
       "      <td>NaN</td>\n",
       "      <td>0.0</td>\n",
       "      <td>NaN</td>\n",
       "      <td>7.0</td>\n",
       "    </tr>\n",
       "    <tr>\n",
       "      <th>12</th>\n",
       "      <td>10</td>\n",
       "      <td>3890000.0</td>\n",
       "      <td>54.00</td>\n",
       "      <td>2016-06-30T00:00:00</td>\n",
       "      <td>2</td>\n",
       "      <td>NaN</td>\n",
       "      <td>5.0</td>\n",
       "      <td>30.00</td>\n",
       "      <td>5</td>\n",
       "      <td>NaN</td>\n",
       "      <td>...</td>\n",
       "      <td>9.00</td>\n",
       "      <td>0.0</td>\n",
       "      <td>Сертолово</td>\n",
       "      <td>NaN</td>\n",
       "      <td>NaN</td>\n",
       "      <td>NaN</td>\n",
       "      <td>NaN</td>\n",
       "      <td>NaN</td>\n",
       "      <td>NaN</td>\n",
       "      <td>90.0</td>\n",
       "    </tr>\n",
       "    <tr>\n",
       "      <th>13</th>\n",
       "      <td>20</td>\n",
       "      <td>3550000.0</td>\n",
       "      <td>42.80</td>\n",
       "      <td>2017-07-01T00:00:00</td>\n",
       "      <td>2</td>\n",
       "      <td>2.56</td>\n",
       "      <td>5.0</td>\n",
       "      <td>27.00</td>\n",
       "      <td>5</td>\n",
       "      <td>NaN</td>\n",
       "      <td>...</td>\n",
       "      <td>5.20</td>\n",
       "      <td>1.0</td>\n",
       "      <td>Петергоф</td>\n",
       "      <td>37868.0</td>\n",
       "      <td>33058.0</td>\n",
       "      <td>1.0</td>\n",
       "      <td>294.0</td>\n",
       "      <td>3.0</td>\n",
       "      <td>298.0</td>\n",
       "      <td>366.0</td>\n",
       "    </tr>\n",
       "    <tr>\n",
       "      <th>14</th>\n",
       "      <td>1</td>\n",
       "      <td>4400000.0</td>\n",
       "      <td>36.00</td>\n",
       "      <td>2016-06-23T00:00:00</td>\n",
       "      <td>1</td>\n",
       "      <td>NaN</td>\n",
       "      <td>6.0</td>\n",
       "      <td>17.00</td>\n",
       "      <td>1</td>\n",
       "      <td>NaN</td>\n",
       "      <td>...</td>\n",
       "      <td>8.00</td>\n",
       "      <td>0.0</td>\n",
       "      <td>Пушкин</td>\n",
       "      <td>20782.0</td>\n",
       "      <td>30759.0</td>\n",
       "      <td>0.0</td>\n",
       "      <td>NaN</td>\n",
       "      <td>1.0</td>\n",
       "      <td>96.0</td>\n",
       "      <td>203.0</td>\n",
       "    </tr>\n",
       "    <tr>\n",
       "      <th>15</th>\n",
       "      <td>16</td>\n",
       "      <td>4650000.0</td>\n",
       "      <td>39.00</td>\n",
       "      <td>2017-11-18T00:00:00</td>\n",
       "      <td>1</td>\n",
       "      <td>NaN</td>\n",
       "      <td>14.0</td>\n",
       "      <td>20.50</td>\n",
       "      <td>5</td>\n",
       "      <td>NaN</td>\n",
       "      <td>...</td>\n",
       "      <td>7.60</td>\n",
       "      <td>1.0</td>\n",
       "      <td>Санкт-Петербург</td>\n",
       "      <td>12900.0</td>\n",
       "      <td>14259.0</td>\n",
       "      <td>1.0</td>\n",
       "      <td>590.0</td>\n",
       "      <td>1.0</td>\n",
       "      <td>296.0</td>\n",
       "      <td>19.0</td>\n",
       "    </tr>\n",
       "    <tr>\n",
       "      <th>16</th>\n",
       "      <td>11</td>\n",
       "      <td>6700000.0</td>\n",
       "      <td>82.00</td>\n",
       "      <td>2017-11-23T00:00:00</td>\n",
       "      <td>3</td>\n",
       "      <td>3.05</td>\n",
       "      <td>5.0</td>\n",
       "      <td>55.60</td>\n",
       "      <td>1</td>\n",
       "      <td>NaN</td>\n",
       "      <td>...</td>\n",
       "      <td>9.00</td>\n",
       "      <td>NaN</td>\n",
       "      <td>Санкт-Петербург</td>\n",
       "      <td>22108.0</td>\n",
       "      <td>10698.0</td>\n",
       "      <td>3.0</td>\n",
       "      <td>420.0</td>\n",
       "      <td>0.0</td>\n",
       "      <td>NaN</td>\n",
       "      <td>397.0</td>\n",
       "    </tr>\n",
       "    <tr>\n",
       "      <th>17</th>\n",
       "      <td>6</td>\n",
       "      <td>4180000.0</td>\n",
       "      <td>36.00</td>\n",
       "      <td>2016-09-09T00:00:00</td>\n",
       "      <td>1</td>\n",
       "      <td>NaN</td>\n",
       "      <td>17.0</td>\n",
       "      <td>16.50</td>\n",
       "      <td>7</td>\n",
       "      <td>NaN</td>\n",
       "      <td>...</td>\n",
       "      <td>11.00</td>\n",
       "      <td>1.0</td>\n",
       "      <td>Санкт-Петербург</td>\n",
       "      <td>33564.0</td>\n",
       "      <td>14616.0</td>\n",
       "      <td>0.0</td>\n",
       "      <td>NaN</td>\n",
       "      <td>1.0</td>\n",
       "      <td>859.0</td>\n",
       "      <td>571.0</td>\n",
       "    </tr>\n",
       "    <tr>\n",
       "      <th>18</th>\n",
       "      <td>8</td>\n",
       "      <td>3250000.0</td>\n",
       "      <td>31.00</td>\n",
       "      <td>2017-01-27T00:00:00</td>\n",
       "      <td>1</td>\n",
       "      <td>2.50</td>\n",
       "      <td>5.0</td>\n",
       "      <td>19.40</td>\n",
       "      <td>2</td>\n",
       "      <td>NaN</td>\n",
       "      <td>...</td>\n",
       "      <td>5.60</td>\n",
       "      <td>1.0</td>\n",
       "      <td>Санкт-Петербург</td>\n",
       "      <td>44060.0</td>\n",
       "      <td>10842.0</td>\n",
       "      <td>1.0</td>\n",
       "      <td>759.0</td>\n",
       "      <td>0.0</td>\n",
       "      <td>NaN</td>\n",
       "      <td>168.0</td>\n",
       "    </tr>\n",
       "    <tr>\n",
       "      <th>19</th>\n",
       "      <td>16</td>\n",
       "      <td>14200000.0</td>\n",
       "      <td>121.00</td>\n",
       "      <td>2019-01-09T00:00:00</td>\n",
       "      <td>3</td>\n",
       "      <td>2.75</td>\n",
       "      <td>16.0</td>\n",
       "      <td>76.00</td>\n",
       "      <td>8</td>\n",
       "      <td>NaN</td>\n",
       "      <td>...</td>\n",
       "      <td>12.00</td>\n",
       "      <td>NaN</td>\n",
       "      <td>Санкт-Петербург</td>\n",
       "      <td>38900.0</td>\n",
       "      <td>12843.0</td>\n",
       "      <td>0.0</td>\n",
       "      <td>NaN</td>\n",
       "      <td>0.0</td>\n",
       "      <td>NaN</td>\n",
       "      <td>97.0</td>\n",
       "    </tr>\n",
       "  </tbody>\n",
       "</table>\n",
       "<p>20 rows × 22 columns</p>\n",
       "</div>"
      ],
      "text/plain": [
       "    total_images  last_price  total_area first_day_exposition  rooms  \\\n",
       "0             20  13000000.0      108.00  2019-03-07T00:00:00      3   \n",
       "1              7   3350000.0       40.40  2018-12-04T00:00:00      1   \n",
       "2             10   5196000.0       56.00  2015-08-20T00:00:00      2   \n",
       "3              0  64900000.0      159.00  2015-07-24T00:00:00      3   \n",
       "4              2  10000000.0      100.00  2018-06-19T00:00:00      2   \n",
       "5             10   2890000.0       30.40  2018-09-10T00:00:00      1   \n",
       "6              6   3700000.0       37.30  2017-11-02T00:00:00      1   \n",
       "7              5   7915000.0       71.60  2019-04-18T00:00:00      2   \n",
       "8             20   2900000.0       33.16  2018-05-23T00:00:00      1   \n",
       "9             18   5400000.0       61.00  2017-02-26T00:00:00      3   \n",
       "10             5   5050000.0       39.60  2017-11-16T00:00:00      1   \n",
       "11             9   3300000.0       44.00  2018-08-27T00:00:00      2   \n",
       "12            10   3890000.0       54.00  2016-06-30T00:00:00      2   \n",
       "13            20   3550000.0       42.80  2017-07-01T00:00:00      2   \n",
       "14             1   4400000.0       36.00  2016-06-23T00:00:00      1   \n",
       "15            16   4650000.0       39.00  2017-11-18T00:00:00      1   \n",
       "16            11   6700000.0       82.00  2017-11-23T00:00:00      3   \n",
       "17             6   4180000.0       36.00  2016-09-09T00:00:00      1   \n",
       "18             8   3250000.0       31.00  2017-01-27T00:00:00      1   \n",
       "19            16  14200000.0      121.00  2019-01-09T00:00:00      3   \n",
       "\n",
       "    ceiling_height  floors_total  living_area  floor is_apartment  ...  \\\n",
       "0             2.70          16.0        51.00      8          NaN  ...   \n",
       "1              NaN          11.0        18.60      1          NaN  ...   \n",
       "2              NaN           5.0        34.30      4          NaN  ...   \n",
       "3              NaN          14.0          NaN      9          NaN  ...   \n",
       "4             3.03          14.0        32.00     13          NaN  ...   \n",
       "5              NaN          12.0        14.40      5          NaN  ...   \n",
       "6              NaN          26.0        10.60      6          NaN  ...   \n",
       "7              NaN          24.0          NaN     22          NaN  ...   \n",
       "8              NaN          27.0        15.43     26          NaN  ...   \n",
       "9             2.50           9.0        43.60      7          NaN  ...   \n",
       "10            2.67          12.0        20.30      3          NaN  ...   \n",
       "11             NaN           5.0        31.00      4        False  ...   \n",
       "12             NaN           5.0        30.00      5          NaN  ...   \n",
       "13            2.56           5.0        27.00      5          NaN  ...   \n",
       "14             NaN           6.0        17.00      1          NaN  ...   \n",
       "15             NaN          14.0        20.50      5          NaN  ...   \n",
       "16            3.05           5.0        55.60      1          NaN  ...   \n",
       "17             NaN          17.0        16.50      7          NaN  ...   \n",
       "18            2.50           5.0        19.40      2          NaN  ...   \n",
       "19            2.75          16.0        76.00      8          NaN  ...   \n",
       "\n",
       "    kitchen_area  balcony              locality_name  airports_nearest  \\\n",
       "0          25.00      NaN            Санкт-Петербург           18863.0   \n",
       "1          11.00      2.0             посёлок Шушары           12817.0   \n",
       "2           8.30      0.0            Санкт-Петербург           21741.0   \n",
       "3            NaN      0.0            Санкт-Петербург           28098.0   \n",
       "4          41.00      NaN            Санкт-Петербург           31856.0   \n",
       "5           9.10      NaN  городской посёлок Янино-1               NaN   \n",
       "6          14.40      1.0          посёлок Парголово           52996.0   \n",
       "7          18.90      2.0            Санкт-Петербург           23982.0   \n",
       "8           8.81      NaN             посёлок Мурино               NaN   \n",
       "9           6.50      2.0            Санкт-Петербург           50898.0   \n",
       "10          8.50      NaN            Санкт-Петербург           38357.0   \n",
       "11          6.00      1.0                  Ломоносов           48252.0   \n",
       "12          9.00      0.0                  Сертолово               NaN   \n",
       "13          5.20      1.0                   Петергоф           37868.0   \n",
       "14          8.00      0.0                     Пушкин           20782.0   \n",
       "15          7.60      1.0            Санкт-Петербург           12900.0   \n",
       "16          9.00      NaN            Санкт-Петербург           22108.0   \n",
       "17         11.00      1.0            Санкт-Петербург           33564.0   \n",
       "18          5.60      1.0            Санкт-Петербург           44060.0   \n",
       "19         12.00      NaN            Санкт-Петербург           38900.0   \n",
       "\n",
       "   cityCenters_nearest  parks_around3000  parks_nearest  ponds_around3000  \\\n",
       "0              16028.0               1.0          482.0               2.0   \n",
       "1              18603.0               0.0            NaN               0.0   \n",
       "2              13933.0               1.0           90.0               2.0   \n",
       "3               6800.0               2.0           84.0               3.0   \n",
       "4               8098.0               2.0          112.0               1.0   \n",
       "5                  NaN               NaN            NaN               NaN   \n",
       "6              19143.0               0.0            NaN               0.0   \n",
       "7              11634.0               0.0            NaN               0.0   \n",
       "8                  NaN               NaN            NaN               NaN   \n",
       "9              15008.0               0.0            NaN               0.0   \n",
       "10             13878.0               1.0          310.0               2.0   \n",
       "11             51677.0               0.0            NaN               0.0   \n",
       "12                 NaN               NaN            NaN               NaN   \n",
       "13             33058.0               1.0          294.0               3.0   \n",
       "14             30759.0               0.0            NaN               1.0   \n",
       "15             14259.0               1.0          590.0               1.0   \n",
       "16             10698.0               3.0          420.0               0.0   \n",
       "17             14616.0               0.0            NaN               1.0   \n",
       "18             10842.0               1.0          759.0               0.0   \n",
       "19             12843.0               0.0            NaN               0.0   \n",
       "\n",
       "    ponds_nearest  days_exposition  \n",
       "0           755.0              NaN  \n",
       "1             NaN             81.0  \n",
       "2           574.0            558.0  \n",
       "3           234.0            424.0  \n",
       "4            48.0            121.0  \n",
       "5             NaN             55.0  \n",
       "6             NaN            155.0  \n",
       "7             NaN              NaN  \n",
       "8             NaN            189.0  \n",
       "9             NaN            289.0  \n",
       "10          553.0            137.0  \n",
       "11            NaN              7.0  \n",
       "12            NaN             90.0  \n",
       "13          298.0            366.0  \n",
       "14           96.0            203.0  \n",
       "15          296.0             19.0  \n",
       "16            NaN            397.0  \n",
       "17          859.0            571.0  \n",
       "18            NaN            168.0  \n",
       "19            NaN             97.0  \n",
       "\n",
       "[20 rows x 22 columns]"
      ]
     },
     "execution_count": 211,
     "metadata": {},
     "output_type": "execute_result"
    }
   ],
   "source": [
    "data.head(20)"
   ]
  },
  {
   "cell_type": "markdown",
   "metadata": {},
   "source": [
    "Let's plot histograms for all numerical columns.\n",
    "\n",
    "'plt.tight_layout()' is used to automatically adjust the layout of the plots on the figure so that they do not overlap."
   ]
  },
  {
   "cell_type": "code",
   "execution_count": 212,
   "metadata": {},
   "outputs": [
    {
     "data": {
      "image/png": "[encoded data removed]",
      "text/plain": [
       "<Figure size 1080x1440 with 20 Axes>"
      ]
     },
     "metadata": {
      "needs_background": "light"
     },
     "output_type": "display_data"
    }
   ],
   "source": [
    "data.hist(figsize=(15, 20), bins=50, edgecolor='black')\n",
    "plt.tight_layout()\n",
    "plt.show()\n",
    "\n"
   ]
  },
  {
   "cell_type": "markdown",
   "metadata": {},
   "source": [
    "**Conclusion:**\n",
    "\n",
    "There are 23,699 records in the data. Some columns have missing values and incorrect data types.\n",
    "\n",
    "From the histograms, it is evident that there are anomalous values in the data. There are no explicit duplicates. The data is deemed complete and sufficient for analysis."
   ]
  },
  {
   "cell_type": "markdown",
   "metadata": {
    "id": "-O5NtivEAwb9"
   },
   "source": [
    "## Data preprocessing"
   ]
  },
  {
   "cell_type": "markdown",
   "metadata": {
    "id": "7v3vAeTuAwb-"
   },
   "source": [
    "Let's clarify the number of missing values."
   ]
  },
  {
   "cell_type": "code",
   "execution_count": 213,
   "metadata": {},
   "outputs": [
    {
     "data": {
      "text/plain": [
       "total_images                0\n",
       "last_price                  0\n",
       "total_area                  0\n",
       "first_day_exposition        0\n",
       "rooms                       0\n",
       "ceiling_height           9195\n",
       "floors_total               86\n",
       "living_area              1903\n",
       "floor                       0\n",
       "is_apartment            20924\n",
       "studio                      0\n",
       "open_plan                   0\n",
       "kitchen_area             2278\n",
       "balcony                 11519\n",
       "locality_name              49\n",
       "airports_nearest         5542\n",
       "cityCenters_nearest      5519\n",
       "parks_around3000         5518\n",
       "parks_nearest           15620\n",
       "ponds_around3000         5518\n",
       "ponds_nearest           14589\n",
       "days_exposition          3181\n",
       "dtype: int64"
      ]
     },
     "execution_count": 213,
     "metadata": {},
     "output_type": "execute_result"
    }
   ],
   "source": [
    "data.isna().sum()"
   ]
  },
  {
   "cell_type": "code",
   "execution_count": 214,
   "metadata": {},
   "outputs": [],
   "source": [
    "missing_values = data.isna().sum()\n",
    "missing_percentage = (data.isna().sum() / len(data)) * 100"
   ]
  },
  {
   "cell_type": "code",
   "execution_count": 215,
   "metadata": {},
   "outputs": [
    {
     "name": "stdout",
     "output_type": "stream",
     "text": [
      "                      missing_values  missing_percentage\n",
      "is_apartment                   20924           88.290645\n",
      "parks_nearest                  15620           65.909954\n",
      "ponds_nearest                  14589           61.559559\n",
      "balcony                        11519           48.605426\n",
      "ceiling_height                  9195           38.799105\n",
      "airports_nearest                5542           23.384953\n",
      "cityCenters_nearest             5519           23.287902\n",
      "ponds_around3000                5518           23.283683\n",
      "parks_around3000                5518           23.283683\n",
      "days_exposition                 3181           13.422507\n",
      "kitchen_area                    2278            9.612220\n",
      "living_area                     1903            8.029875\n",
      "floors_total                      86            0.362885\n",
      "locality_name                     49            0.206760\n",
      "total_images                       0            0.000000\n",
      "last_price                         0            0.000000\n",
      "studio                             0            0.000000\n",
      "floor                              0            0.000000\n",
      "rooms                              0            0.000000\n",
      "first_day_exposition               0            0.000000\n",
      "total_area                         0            0.000000\n",
      "open_plan                          0            0.000000\n"
     ]
    }
   ],
   "source": [
    "# Создание DataFrame для удобного отображения\n",
    "missing_data = pd.DataFrame({\n",
    "    'missing_values': missing_values,\n",
    "    'missing_percentage': missing_percentage\n",
    "})\n",
    "\n",
    "# Сортировка по количеству пропусков\n",
    "missing_data_sorted = missing_data.sort_values(by='missing_values', ascending=False)\n",
    "\n",
    "# Вывод результата\n",
    "print(missing_data_sorted)"
   ]
  },
  {
   "cell_type": "markdown",
   "metadata": {},
   "source": [
    "In the \"balcony\" column, we can assume that users did not specify the number of balconies because there are none. Therefore, we will replace such missing values with 0"
   ]
  },
  {
   "cell_type": "code",
   "execution_count": 216,
   "metadata": {},
   "outputs": [
    {
     "data": {
      "text/plain": [
       "total_images                0\n",
       "last_price                  0\n",
       "total_area                  0\n",
       "first_day_exposition        0\n",
       "rooms                       0\n",
       "ceiling_height           9195\n",
       "floors_total               86\n",
       "living_area              1903\n",
       "floor                       0\n",
       "is_apartment            20924\n",
       "studio                      0\n",
       "open_plan                   0\n",
       "kitchen_area             2278\n",
       "balcony                     0\n",
       "locality_name              49\n",
       "airports_nearest         5542\n",
       "cityCenters_nearest      5519\n",
       "parks_around3000         5518\n",
       "parks_nearest           15620\n",
       "ponds_around3000         5518\n",
       "ponds_nearest           14589\n",
       "days_exposition          3181\n",
       "dtype: int64"
      ]
     },
     "execution_count": 216,
     "metadata": {},
     "output_type": "execute_result"
    }
   ],
   "source": [
    "data['balcony'] = data['balcony'].fillna(0)\n",
    "data.isnull().sum()"
   ]
  },
  {
   "cell_type": "markdown",
   "metadata": {},
   "source": [
    "Первая строка кода выполняет следующие действия:\n",
    "\n",
    "data['balcony']: Обращается к столбцу balcony в DataFrame data.\n",
    ".fillna(0): Метод fillna() используется для замены всех значений NaN (отсутствующих значений) в столбце balcony на 0.\n",
    "data['balcony'] = ...: Присваивает результат обратно в столбец balcony, обновляя его.\n",
    "\n",
    "\n",
    "Вторая строка кода следующие действия:\n",
    "\n",
    "1) data.isnull(): Метод isnull() создает DataFrame того же размера, что и data, где каждое значение — это булево значение: True если значение пропущено (NaN), и False в противном случае.\n",
    "\n",
    "2) .sum(): Метод sum() примененный к DataFrame с булевыми значениями подсчитывает количество True (т.е. количество пропущенных значений) для каждого столбца.\n",
    "\n",
    "То есть эта строка кода возвращает серию, где индексами являются имена столбцов, а значениями — количество пропущенных значений в каждом столбце.    "
   ]
  },
  {
   "cell_type": "markdown",
   "metadata": {},
   "source": [
    "Переименуем название столбца cityCenters_nearest на city_centers_nearest"
   ]
  },
  {
   "cell_type": "code",
   "execution_count": 217,
   "metadata": {},
   "outputs": [],
   "source": [
    "data.rename(columns = {'cityCenters_nearest':'city_centers_nearest'}, inplace = True )"
   ]
  },
  {
   "cell_type": "code",
   "execution_count": 218,
   "metadata": {},
   "outputs": [],
   "source": [
    "data.rename(columns = {'ponds_around3000':'ponds_around_3000'}, inplace = True )"
   ]
  },
  {
   "cell_type": "code",
   "execution_count": 219,
   "metadata": {},
   "outputs": [],
   "source": [
    "data.rename(columns = {'parks_around3000':'parks_around_3000'}, inplace = True )"
   ]
  },
  {
   "cell_type": "markdown",
   "metadata": {},
   "source": [
    "Let's change the data type of the 'last_price' column to integer."
   ]
  },
  {
   "cell_type": "code",
   "execution_count": 220,
   "metadata": {},
   "outputs": [],
   "source": [
    "data['last_price'] = data['last_price'].astype(int)"
   ]
  },
  {
   "cell_type": "code",
   "execution_count": 221,
   "metadata": {},
   "outputs": [],
   "source": [
    "data['last_price'] = data['last_price'].fillna(data['last_price'].median())"
   ]
  },
  {
   "cell_type": "markdown",
   "metadata": {},
   "source": [
    "В столбце first_day_exposition округлим дату и время."
   ]
  },
  {
   "cell_type": "code",
   "execution_count": 222,
   "metadata": {},
   "outputs": [],
   "source": [
    "data['first_day_exposition'] = pd.to_datetime(data['first_day_exposition'], format='%Y-%m-%dT%H:%M')\n",
    "data['first_day_exposition'] = data['first_day_exposition'].dt.ceil('1H')"
   ]
  },
  {
   "cell_type": "markdown",
   "metadata": {},
   "source": [
    "Первая строка кода выполняет следующие действия:\n",
    "\n",
    "pd.to_datetime(): Эта функция используется для преобразования столбца или серии значений в формат даты и времени (datetime).\n",
    "data['first_day_exposition']: Указывает, что нужно преобразовать значения в столбце first_day_exposition DataFrame data.\n",
    "format='%Y-%m-%dT%H:%M': Задает формат входных данных для правильного их преобразования\n",
    "\n",
    "Вторая строка кода округляет каждое значение в столбце first_day_exposition до ближайшего часа:\n",
    "\n",
    "\n",
    "data['first_day_exposition']: Обращается к столбцу first_day_exposition в DataFrame data, который теперь содержит объекты datetime.\n",
    ".dt: Доступ к атрибутам datetime в pandas Series.\n",
    ".ceil('1H'): Округляет значения даты и времени вверх до ближайшего часа.\n"
   ]
  },
  {
   "cell_type": "markdown",
   "metadata": {},
   "source": [
    "We will replace missing values in the 'ceiling_height' column with the median value and round to 1 decimal place."
   ]
  },
  {
   "cell_type": "code",
   "execution_count": 223,
   "metadata": {},
   "outputs": [],
   "source": [
    "data['ceiling_height'] = data['ceiling_height'].fillna(data['ceiling_height'].median())\n",
    "data['ceiling_height'] = data['ceiling_height'].round(1)"
   ]
  },
  {
   "cell_type": "markdown",
   "metadata": {},
   "source": [
    "We will remove rows with missing values in the 'floors_total' column from the dataset. "
   ]
  },
  {
   "cell_type": "code",
   "execution_count": 224,
   "metadata": {},
   "outputs": [
    {
     "data": {
      "text/plain": [
       "0"
      ]
     },
     "execution_count": 224,
     "metadata": {},
     "output_type": "execute_result"
    }
   ],
   "source": [
    "data.dropna(subset = ['floors_total'], inplace = True)\n",
    "data['floors_total'].isnull().sum()"
   ]
  },
  {
   "cell_type": "markdown",
   "metadata": {},
   "source": [
    "We will replace missing values in the 'living_area' column with the mean ratio of living area to total area and change the data type to integer."
   ]
  },
  {
   "cell_type": "code",
   "execution_count": 225,
   "metadata": {},
   "outputs": [],
   "source": [
    "mean_living_for_total = ((data['living_area'] / data['total_area']).mean())"
   ]
  },
  {
   "cell_type": "code",
   "execution_count": 226,
   "metadata": {},
   "outputs": [
    {
     "data": {
      "text/html": [
       "<div>\n",
       "<style scoped>\n",
       "    .dataframe tbody tr th:only-of-type {\n",
       "        vertical-align: middle;\n",
       "    }\n",
       "\n",
       "    .dataframe tbody tr th {\n",
       "        vertical-align: top;\n",
       "    }\n",
       "\n",
       "    .dataframe thead th {\n",
       "        text-align: right;\n",
       "    }\n",
       "</style>\n",
       "<table border=\"1\" class=\"dataframe\">\n",
       "  <thead>\n",
       "    <tr style=\"text-align: right;\">\n",
       "      <th></th>\n",
       "      <th>total_images</th>\n",
       "      <th>last_price</th>\n",
       "      <th>total_area</th>\n",
       "      <th>first_day_exposition</th>\n",
       "      <th>rooms</th>\n",
       "      <th>ceiling_height</th>\n",
       "      <th>floors_total</th>\n",
       "      <th>living_area</th>\n",
       "      <th>floor</th>\n",
       "      <th>is_apartment</th>\n",
       "      <th>...</th>\n",
       "      <th>kitchen_area</th>\n",
       "      <th>balcony</th>\n",
       "      <th>locality_name</th>\n",
       "      <th>airports_nearest</th>\n",
       "      <th>city_centers_nearest</th>\n",
       "      <th>parks_around_3000</th>\n",
       "      <th>parks_nearest</th>\n",
       "      <th>ponds_around_3000</th>\n",
       "      <th>ponds_nearest</th>\n",
       "      <th>days_exposition</th>\n",
       "    </tr>\n",
       "  </thead>\n",
       "  <tbody>\n",
       "    <tr>\n",
       "      <th>0</th>\n",
       "      <td>20</td>\n",
       "      <td>13000000</td>\n",
       "      <td>108.00</td>\n",
       "      <td>2019-03-07</td>\n",
       "      <td>3</td>\n",
       "      <td>2.7</td>\n",
       "      <td>16.0</td>\n",
       "      <td>51.0</td>\n",
       "      <td>8</td>\n",
       "      <td>NaN</td>\n",
       "      <td>...</td>\n",
       "      <td>25.00</td>\n",
       "      <td>0.0</td>\n",
       "      <td>Санкт-Петербург</td>\n",
       "      <td>18863.0</td>\n",
       "      <td>16028.0</td>\n",
       "      <td>1.0</td>\n",
       "      <td>482.0</td>\n",
       "      <td>2.0</td>\n",
       "      <td>755.0</td>\n",
       "      <td>NaN</td>\n",
       "    </tr>\n",
       "    <tr>\n",
       "      <th>1</th>\n",
       "      <td>7</td>\n",
       "      <td>3350000</td>\n",
       "      <td>40.40</td>\n",
       "      <td>2018-12-04</td>\n",
       "      <td>1</td>\n",
       "      <td>2.6</td>\n",
       "      <td>11.0</td>\n",
       "      <td>19.0</td>\n",
       "      <td>1</td>\n",
       "      <td>NaN</td>\n",
       "      <td>...</td>\n",
       "      <td>11.00</td>\n",
       "      <td>2.0</td>\n",
       "      <td>посёлок Шушары</td>\n",
       "      <td>12817.0</td>\n",
       "      <td>18603.0</td>\n",
       "      <td>0.0</td>\n",
       "      <td>NaN</td>\n",
       "      <td>0.0</td>\n",
       "      <td>NaN</td>\n",
       "      <td>81.0</td>\n",
       "    </tr>\n",
       "    <tr>\n",
       "      <th>2</th>\n",
       "      <td>10</td>\n",
       "      <td>5196000</td>\n",
       "      <td>56.00</td>\n",
       "      <td>2015-08-20</td>\n",
       "      <td>2</td>\n",
       "      <td>2.6</td>\n",
       "      <td>5.0</td>\n",
       "      <td>34.0</td>\n",
       "      <td>4</td>\n",
       "      <td>NaN</td>\n",
       "      <td>...</td>\n",
       "      <td>8.30</td>\n",
       "      <td>0.0</td>\n",
       "      <td>Санкт-Петербург</td>\n",
       "      <td>21741.0</td>\n",
       "      <td>13933.0</td>\n",
       "      <td>1.0</td>\n",
       "      <td>90.0</td>\n",
       "      <td>2.0</td>\n",
       "      <td>574.0</td>\n",
       "      <td>558.0</td>\n",
       "    </tr>\n",
       "    <tr>\n",
       "      <th>3</th>\n",
       "      <td>0</td>\n",
       "      <td>64900000</td>\n",
       "      <td>159.00</td>\n",
       "      <td>2015-07-24</td>\n",
       "      <td>3</td>\n",
       "      <td>2.6</td>\n",
       "      <td>14.0</td>\n",
       "      <td>90.0</td>\n",
       "      <td>9</td>\n",
       "      <td>NaN</td>\n",
       "      <td>...</td>\n",
       "      <td>NaN</td>\n",
       "      <td>0.0</td>\n",
       "      <td>Санкт-Петербург</td>\n",
       "      <td>28098.0</td>\n",
       "      <td>6800.0</td>\n",
       "      <td>2.0</td>\n",
       "      <td>84.0</td>\n",
       "      <td>3.0</td>\n",
       "      <td>234.0</td>\n",
       "      <td>424.0</td>\n",
       "    </tr>\n",
       "    <tr>\n",
       "      <th>4</th>\n",
       "      <td>2</td>\n",
       "      <td>10000000</td>\n",
       "      <td>100.00</td>\n",
       "      <td>2018-06-19</td>\n",
       "      <td>2</td>\n",
       "      <td>3.0</td>\n",
       "      <td>14.0</td>\n",
       "      <td>32.0</td>\n",
       "      <td>13</td>\n",
       "      <td>NaN</td>\n",
       "      <td>...</td>\n",
       "      <td>41.00</td>\n",
       "      <td>0.0</td>\n",
       "      <td>Санкт-Петербург</td>\n",
       "      <td>31856.0</td>\n",
       "      <td>8098.0</td>\n",
       "      <td>2.0</td>\n",
       "      <td>112.0</td>\n",
       "      <td>1.0</td>\n",
       "      <td>48.0</td>\n",
       "      <td>121.0</td>\n",
       "    </tr>\n",
       "    <tr>\n",
       "      <th>...</th>\n",
       "      <td>...</td>\n",
       "      <td>...</td>\n",
       "      <td>...</td>\n",
       "      <td>...</td>\n",
       "      <td>...</td>\n",
       "      <td>...</td>\n",
       "      <td>...</td>\n",
       "      <td>...</td>\n",
       "      <td>...</td>\n",
       "      <td>...</td>\n",
       "      <td>...</td>\n",
       "      <td>...</td>\n",
       "      <td>...</td>\n",
       "      <td>...</td>\n",
       "      <td>...</td>\n",
       "      <td>...</td>\n",
       "      <td>...</td>\n",
       "      <td>...</td>\n",
       "      <td>...</td>\n",
       "      <td>...</td>\n",
       "      <td>...</td>\n",
       "    </tr>\n",
       "    <tr>\n",
       "      <th>23694</th>\n",
       "      <td>9</td>\n",
       "      <td>9700000</td>\n",
       "      <td>133.81</td>\n",
       "      <td>2017-03-21</td>\n",
       "      <td>3</td>\n",
       "      <td>3.7</td>\n",
       "      <td>5.0</td>\n",
       "      <td>73.0</td>\n",
       "      <td>3</td>\n",
       "      <td>NaN</td>\n",
       "      <td>...</td>\n",
       "      <td>13.83</td>\n",
       "      <td>0.0</td>\n",
       "      <td>Санкт-Петербург</td>\n",
       "      <td>24665.0</td>\n",
       "      <td>4232.0</td>\n",
       "      <td>1.0</td>\n",
       "      <td>796.0</td>\n",
       "      <td>3.0</td>\n",
       "      <td>381.0</td>\n",
       "      <td>NaN</td>\n",
       "    </tr>\n",
       "    <tr>\n",
       "      <th>23695</th>\n",
       "      <td>14</td>\n",
       "      <td>3100000</td>\n",
       "      <td>59.00</td>\n",
       "      <td>2018-01-15</td>\n",
       "      <td>3</td>\n",
       "      <td>2.6</td>\n",
       "      <td>5.0</td>\n",
       "      <td>38.0</td>\n",
       "      <td>4</td>\n",
       "      <td>NaN</td>\n",
       "      <td>...</td>\n",
       "      <td>8.50</td>\n",
       "      <td>0.0</td>\n",
       "      <td>Тосно</td>\n",
       "      <td>NaN</td>\n",
       "      <td>NaN</td>\n",
       "      <td>NaN</td>\n",
       "      <td>NaN</td>\n",
       "      <td>NaN</td>\n",
       "      <td>NaN</td>\n",
       "      <td>45.0</td>\n",
       "    </tr>\n",
       "    <tr>\n",
       "      <th>23696</th>\n",
       "      <td>18</td>\n",
       "      <td>2500000</td>\n",
       "      <td>56.70</td>\n",
       "      <td>2018-02-11</td>\n",
       "      <td>2</td>\n",
       "      <td>2.6</td>\n",
       "      <td>3.0</td>\n",
       "      <td>30.0</td>\n",
       "      <td>1</td>\n",
       "      <td>NaN</td>\n",
       "      <td>...</td>\n",
       "      <td>NaN</td>\n",
       "      <td>0.0</td>\n",
       "      <td>село Рождествено</td>\n",
       "      <td>NaN</td>\n",
       "      <td>NaN</td>\n",
       "      <td>NaN</td>\n",
       "      <td>NaN</td>\n",
       "      <td>NaN</td>\n",
       "      <td>NaN</td>\n",
       "      <td>NaN</td>\n",
       "    </tr>\n",
       "    <tr>\n",
       "      <th>23697</th>\n",
       "      <td>13</td>\n",
       "      <td>11475000</td>\n",
       "      <td>76.75</td>\n",
       "      <td>2017-03-28</td>\n",
       "      <td>2</td>\n",
       "      <td>3.0</td>\n",
       "      <td>17.0</td>\n",
       "      <td>43.0</td>\n",
       "      <td>12</td>\n",
       "      <td>NaN</td>\n",
       "      <td>...</td>\n",
       "      <td>23.30</td>\n",
       "      <td>2.0</td>\n",
       "      <td>Санкт-Петербург</td>\n",
       "      <td>39140.0</td>\n",
       "      <td>10364.0</td>\n",
       "      <td>2.0</td>\n",
       "      <td>173.0</td>\n",
       "      <td>3.0</td>\n",
       "      <td>196.0</td>\n",
       "      <td>602.0</td>\n",
       "    </tr>\n",
       "    <tr>\n",
       "      <th>23698</th>\n",
       "      <td>4</td>\n",
       "      <td>1350000</td>\n",
       "      <td>32.30</td>\n",
       "      <td>2017-07-21</td>\n",
       "      <td>1</td>\n",
       "      <td>2.5</td>\n",
       "      <td>5.0</td>\n",
       "      <td>12.0</td>\n",
       "      <td>1</td>\n",
       "      <td>NaN</td>\n",
       "      <td>...</td>\n",
       "      <td>9.00</td>\n",
       "      <td>0.0</td>\n",
       "      <td>поселок Новый Учхоз</td>\n",
       "      <td>NaN</td>\n",
       "      <td>NaN</td>\n",
       "      <td>NaN</td>\n",
       "      <td>NaN</td>\n",
       "      <td>NaN</td>\n",
       "      <td>NaN</td>\n",
       "      <td>NaN</td>\n",
       "    </tr>\n",
       "  </tbody>\n",
       "</table>\n",
       "<p>23613 rows × 22 columns</p>\n",
       "</div>"
      ],
      "text/plain": [
       "       total_images  last_price  total_area first_day_exposition  rooms  \\\n",
       "0                20    13000000      108.00           2019-03-07      3   \n",
       "1                 7     3350000       40.40           2018-12-04      1   \n",
       "2                10     5196000       56.00           2015-08-20      2   \n",
       "3                 0    64900000      159.00           2015-07-24      3   \n",
       "4                 2    10000000      100.00           2018-06-19      2   \n",
       "...             ...         ...         ...                  ...    ...   \n",
       "23694             9     9700000      133.81           2017-03-21      3   \n",
       "23695            14     3100000       59.00           2018-01-15      3   \n",
       "23696            18     2500000       56.70           2018-02-11      2   \n",
       "23697            13    11475000       76.75           2017-03-28      2   \n",
       "23698             4     1350000       32.30           2017-07-21      1   \n",
       "\n",
       "       ceiling_height  floors_total  living_area  floor is_apartment  ...  \\\n",
       "0                 2.7          16.0         51.0      8          NaN  ...   \n",
       "1                 2.6          11.0         19.0      1          NaN  ...   \n",
       "2                 2.6           5.0         34.0      4          NaN  ...   \n",
       "3                 2.6          14.0         90.0      9          NaN  ...   \n",
       "4                 3.0          14.0         32.0     13          NaN  ...   \n",
       "...               ...           ...          ...    ...          ...  ...   \n",
       "23694             3.7           5.0         73.0      3          NaN  ...   \n",
       "23695             2.6           5.0         38.0      4          NaN  ...   \n",
       "23696             2.6           3.0         30.0      1          NaN  ...   \n",
       "23697             3.0          17.0         43.0     12          NaN  ...   \n",
       "23698             2.5           5.0         12.0      1          NaN  ...   \n",
       "\n",
       "       kitchen_area  balcony        locality_name  airports_nearest  \\\n",
       "0             25.00      0.0      Санкт-Петербург           18863.0   \n",
       "1             11.00      2.0       посёлок Шушары           12817.0   \n",
       "2              8.30      0.0      Санкт-Петербург           21741.0   \n",
       "3               NaN      0.0      Санкт-Петербург           28098.0   \n",
       "4             41.00      0.0      Санкт-Петербург           31856.0   \n",
       "...             ...      ...                  ...               ...   \n",
       "23694         13.83      0.0      Санкт-Петербург           24665.0   \n",
       "23695          8.50      0.0                Тосно               NaN   \n",
       "23696           NaN      0.0     село Рождествено               NaN   \n",
       "23697         23.30      2.0      Санкт-Петербург           39140.0   \n",
       "23698          9.00      0.0  поселок Новый Учхоз               NaN   \n",
       "\n",
       "      city_centers_nearest  parks_around_3000  parks_nearest  \\\n",
       "0                  16028.0                1.0          482.0   \n",
       "1                  18603.0                0.0            NaN   \n",
       "2                  13933.0                1.0           90.0   \n",
       "3                   6800.0                2.0           84.0   \n",
       "4                   8098.0                2.0          112.0   \n",
       "...                    ...                ...            ...   \n",
       "23694               4232.0                1.0          796.0   \n",
       "23695                  NaN                NaN            NaN   \n",
       "23696                  NaN                NaN            NaN   \n",
       "23697              10364.0                2.0          173.0   \n",
       "23698                  NaN                NaN            NaN   \n",
       "\n",
       "       ponds_around_3000  ponds_nearest  days_exposition  \n",
       "0                    2.0          755.0              NaN  \n",
       "1                    0.0            NaN             81.0  \n",
       "2                    2.0          574.0            558.0  \n",
       "3                    3.0          234.0            424.0  \n",
       "4                    1.0           48.0            121.0  \n",
       "...                  ...            ...              ...  \n",
       "23694                3.0          381.0              NaN  \n",
       "23695                NaN            NaN             45.0  \n",
       "23696                NaN            NaN              NaN  \n",
       "23697                3.0          196.0            602.0  \n",
       "23698                NaN            NaN              NaN  \n",
       "\n",
       "[23613 rows x 22 columns]"
      ]
     },
     "execution_count": 226,
     "metadata": {},
     "output_type": "execute_result"
    }
   ],
   "source": [
    "data['living_area'] = data['living_area'].fillna(value=(mean_living_for_total * data['total_area'])).round(0)\n",
    "data"
   ]
  },
  {
   "cell_type": "markdown",
   "metadata": {},
   "source": [
    "Missing values in the 'is_apartment' column can also be replaced with 0, assuming users left this field empty due to a lack of understanding of what an apartment is."
   ]
  },
  {
   "cell_type": "code",
   "execution_count": 227,
   "metadata": {},
   "outputs": [],
   "source": [
    "data['is_apartment'] = data['is_apartment'].fillna(0)"
   ]
  },
  {
   "cell_type": "markdown",
   "metadata": {},
   "source": [
    "We will replace missing values in the 'kitchen_area' column with the mean ratio of kitchen area to total area."
   ]
  },
  {
   "cell_type": "code",
   "execution_count": 228,
   "metadata": {},
   "outputs": [
    {
     "data": {
      "text/plain": [
       "0"
      ]
     },
     "execution_count": 228,
     "metadata": {},
     "output_type": "execute_result"
    }
   ],
   "source": [
    "data.dropna(subset = ['kitchen_area'], inplace = True)\n",
    "data['kitchen_area'].isnull().sum()"
   ]
  },
  {
   "cell_type": "code",
   "execution_count": 229,
   "metadata": {},
   "outputs": [],
   "source": [
    "# Создание нового столбца для суммы площадей\n",
    "data['sum_areas'] = data['kitchen_area'] + data['living_area']"
   ]
  },
  {
   "cell_type": "code",
   "execution_count": 230,
   "metadata": {},
   "outputs": [],
   "source": [
    "# Проверка, где сумма площадей превышает общую площадь\n",
    "data['exceeds_total_area'] = data['sum_areas'] > data['total_area']"
   ]
  },
  {
   "cell_type": "code",
   "execution_count": 231,
   "metadata": {},
   "outputs": [
    {
     "name": "stdout",
     "output_type": "stream",
     "text": [
      "       total_images  last_price  total_area first_day_exposition  rooms  \\\n",
      "184               7     2600000       30.20           2018-02-14      1   \n",
      "545               9     4700000       23.80           2018-12-28      1   \n",
      "551               8     3100000       31.59           2018-03-08      1   \n",
      "601              12     5600000       53.70           2017-04-18      2   \n",
      "696               1     3364930       34.69           2014-11-27      1   \n",
      "...             ...         ...         ...                  ...    ...   \n",
      "21915            14    11990000       91.40           2016-05-16      2   \n",
      "21956             0     5200000       46.00           2018-07-20      2   \n",
      "22399            12      850000       54.80           2019-01-26      3   \n",
      "23108             4     2950000       33.95           2019-02-12      1   \n",
      "23202            13     4919880       67.92           2018-10-23      2   \n",
      "\n",
      "       ceiling_height  floors_total  living_area  floor is_apartment  ...  \\\n",
      "184               2.6           9.0         26.0      5            0  ...   \n",
      "545               2.6          18.0         20.0      9            0  ...   \n",
      "551               2.7          19.0         31.0      2            0  ...   \n",
      "601               2.5          12.0         48.0      5            0  ...   \n",
      "696               2.6          25.0         23.0     25            0  ...   \n",
      "...               ...           ...          ...    ...          ...  ...   \n",
      "21915             2.6          16.0         62.0     12            0  ...   \n",
      "21956             2.6           5.0         44.0      5            0  ...   \n",
      "22399             2.5           5.0         40.0      3            0  ...   \n",
      "23108             2.6          19.0         22.0     11            0  ...   \n",
      "23202             2.6           3.0         63.0      3            0  ...   \n",
      "\n",
      "         locality_name  airports_nearest  city_centers_nearest  \\\n",
      "184    Санкт-Петербург           13952.0               15031.0   \n",
      "545    Санкт-Петербург            9731.0               11849.0   \n",
      "551     посёлок Мурино               NaN                   NaN   \n",
      "601    Санкт-Петербург           50477.0               13252.0   \n",
      "696    Санкт-Петербург           43396.0               12153.0   \n",
      "...                ...               ...                   ...   \n",
      "21915  Санкт-Петербург           10934.0               12551.0   \n",
      "21956  Санкт-Петербург           14103.0               15182.0   \n",
      "22399           Сланцы               NaN                   NaN   \n",
      "23108           Мурино               NaN                   NaN   \n",
      "23202       Всеволожск               NaN                   NaN   \n",
      "\n",
      "       parks_around_3000 parks_nearest  ponds_around_3000  ponds_nearest  \\\n",
      "184                  0.0           NaN                1.0          824.0   \n",
      "545                  0.0           NaN                0.0            NaN   \n",
      "551                  NaN           NaN                NaN            NaN   \n",
      "601                  2.0         220.0                1.0         1250.0   \n",
      "696                  0.0           NaN                0.0            NaN   \n",
      "...                  ...           ...                ...            ...   \n",
      "21915                0.0           NaN                0.0            NaN   \n",
      "21956                1.0         488.0                0.0            NaN   \n",
      "22399                NaN           NaN                NaN            NaN   \n",
      "23108                NaN           NaN                NaN            NaN   \n",
      "23202                NaN           NaN                NaN            NaN   \n",
      "\n",
      "       days_exposition  sum_areas  exceeds_total_area  \n",
      "184               12.0      32.20                True  \n",
      "545              108.0      25.00                True  \n",
      "551               70.0      40.28                True  \n",
      "601              167.0      55.00                True  \n",
      "696              574.0      46.43                True  \n",
      "...                ...        ...                 ...  \n",
      "21915             93.0      94.40                True  \n",
      "21956              7.0      52.00                True  \n",
      "22399              NaN      55.30                True  \n",
      "23108              NaN      34.00                True  \n",
      "23202             60.0      76.04                True  \n",
      "\n",
      "[79 rows x 24 columns]\n"
     ]
    }
   ],
   "source": [
    "# Вывод строк, где сумма площадей превышает общую площадь\n",
    "exceeds_total = data[data['exceeds_total_area']]\n",
    "\n",
    "print(exceeds_total)"
   ]
  },
  {
   "cell_type": "markdown",
   "metadata": {},
   "source": [
    "Let's delete rows with missing values in the 'locality_name' column."
   ]
  },
  {
   "cell_type": "code",
   "execution_count": 232,
   "metadata": {},
   "outputs": [
    {
     "data": {
      "text/plain": [
       "0"
      ]
     },
     "execution_count": 232,
     "metadata": {},
     "output_type": "execute_result"
    }
   ],
   "source": [
    "data.dropna(subset = ['locality_name'], inplace = True)\n",
    "data['locality_name'].isnull().sum()"
   ]
  },
  {
   "cell_type": "markdown",
   "metadata": {},
   "source": [
    "We will leave missing values in the 'airports_nearest' column unchanged. The absence of filled values likely indicates that either there is no airport in the locality or it is located very far away."
   ]
  },
  {
   "cell_type": "code",
   "execution_count": 233,
   "metadata": {},
   "outputs": [
    {
     "data": {
      "text/plain": [
       "0        18863.0\n",
       "1        12817.0\n",
       "2        21741.0\n",
       "4        31856.0\n",
       "5            NaN\n",
       "          ...   \n",
       "23693    45602.0\n",
       "23694    24665.0\n",
       "23695        NaN\n",
       "23697    39140.0\n",
       "23698        NaN\n",
       "Name: airports_nearest, Length: 21343, dtype: float64"
      ]
     },
     "execution_count": 233,
     "metadata": {},
     "output_type": "execute_result"
    }
   ],
   "source": [
    "data['airports_nearest'].round(2)"
   ]
  },
  {
   "cell_type": "markdown",
   "metadata": {},
   "source": [
    "We will leave missing values in the 'citycenters_nearest' column unchanged for now."
   ]
  },
  {
   "cell_type": "code",
   "execution_count": 234,
   "metadata": {},
   "outputs": [
    {
     "data": {
      "text/plain": [
       "0        16028.0\n",
       "1        18603.0\n",
       "2        13933.0\n",
       "4         8098.0\n",
       "5            NaN\n",
       "          ...   \n",
       "23693    34104.0\n",
       "23694     4232.0\n",
       "23695        NaN\n",
       "23697    10364.0\n",
       "23698        NaN\n",
       "Name: city_centers_nearest, Length: 21343, dtype: float64"
      ]
     },
     "execution_count": 234,
     "metadata": {},
     "output_type": "execute_result"
    }
   ],
   "source": [
    "data['city_centers_nearest'].round(2)"
   ]
  },
  {
   "cell_type": "markdown",
   "metadata": {},
   "source": [
    "Missing values in the 'parks_around3000' column, indicating the number of parks within a 3 km radius, suggest that there are likely no parks within this distance. We can fill these missing values with 0."
   ]
  },
  {
   "cell_type": "code",
   "execution_count": 235,
   "metadata": {},
   "outputs": [],
   "source": [
    "data['parks_around_3000'] = data['parks_around_3000'].fillna(0)\n",
    "data['parks_around_3000'] = data['parks_around_3000'].astype(int)"
   ]
  },
  {
   "cell_type": "markdown",
   "metadata": {},
   "source": [
    "Missing values in the 'parks_nearest' column, indicating the distance to the nearest park in meters, suggest that there are likely no parks within this distance. We can fill these missing values with 0."
   ]
  },
  {
   "cell_type": "code",
   "execution_count": 236,
   "metadata": {},
   "outputs": [],
   "source": [
    "data['parks_nearest'] = data['parks_nearest'].fillna(0)\n",
    "data['parks_nearest'] = data['parks_nearest'].astype(int)"
   ]
  },
  {
   "cell_type": "markdown",
   "metadata": {},
   "source": [
    "Missing values in the 'ponds_around3000' column, indicating the number of ponds within a 3 km radius, likely suggest that there are no ponds within this distance. We can fill these missing values with 0."
   ]
  },
  {
   "cell_type": "code",
   "execution_count": 237,
   "metadata": {},
   "outputs": [],
   "source": [
    "data['ponds_around3000'] = data['ponds_around_3000'].fillna(0)\n",
    "data['ponds_around3000'] = data['ponds_around3000'].astype(int)"
   ]
  },
  {
   "cell_type": "markdown",
   "metadata": {},
   "source": [
    "Missing values in the 'ponds_nearest' column, indicating the distance to the nearest pond in meters, likely suggest that there are no ponds within this distance. We can fill these missing values with 0."
   ]
  },
  {
   "cell_type": "code",
   "execution_count": 238,
   "metadata": {
    "scrolled": true
   },
   "outputs": [],
   "source": [
    "data['ponds_nearest'] = data['ponds_nearest'].fillna(0)\n",
    "data['ponds_nearest'] = data['ponds_nearest'].astype(int)"
   ]
  },
  {
   "cell_type": "markdown",
   "metadata": {},
   "source": [
    "Missing values in the 'days_exposition' column might indicate that the listing is still active. Therefore, we will replace these missing values with 0."
   ]
  },
  {
   "cell_type": "code",
   "execution_count": 239,
   "metadata": {},
   "outputs": [],
   "source": [
    "data['days_exposition'] = data['days_exposition'].fillna(0)"
   ]
  },
  {
   "cell_type": "code",
   "execution_count": 240,
   "metadata": {},
   "outputs": [
    {
     "data": {
      "text/plain": [
       "total_images               0\n",
       "last_price                 0\n",
       "total_area                 0\n",
       "first_day_exposition       0\n",
       "rooms                      0\n",
       "ceiling_height             0\n",
       "floors_total               0\n",
       "living_area                0\n",
       "floor                      0\n",
       "is_apartment               0\n",
       "studio                     0\n",
       "open_plan                  0\n",
       "kitchen_area               0\n",
       "balcony                    0\n",
       "locality_name              0\n",
       "airports_nearest        4816\n",
       "city_centers_nearest    4795\n",
       "parks_around_3000          0\n",
       "parks_nearest              0\n",
       "ponds_around_3000       4794\n",
       "ponds_nearest              0\n",
       "days_exposition            0\n",
       "sum_areas                  0\n",
       "exceeds_total_area         0\n",
       "ponds_around3000           0\n",
       "dtype: int64"
      ]
     },
     "execution_count": 240,
     "metadata": {},
     "output_type": "execute_result"
    }
   ],
   "source": [
    "data.isna().sum()"
   ]
  },
  {
   "cell_type": "markdown",
   "metadata": {},
   "source": [
    "Let's display all unique values in the 'locality_name' column and then keep only the names."
   ]
  },
  {
   "cell_type": "code",
   "execution_count": 241,
   "metadata": {},
   "outputs": [
    {
     "name": "stdout",
     "output_type": "stream",
     "text": [
      "['Санкт-Петербург' 'посёлок Шушары' 'городской посёлок Янино-1'\n",
      " 'посёлок Парголово' 'посёлок Мурино' 'Ломоносов' 'Сертолово' 'Петергоф'\n",
      " 'Пушкин' 'деревня Кудрово' 'Колпино' 'Гатчина' 'поселок Мурино'\n",
      " 'деревня Фёдоровское' 'Выборг' 'Кронштадт' 'Кировск'\n",
      " 'деревня Новое Девяткино' 'посёлок Металлострой'\n",
      " 'посёлок городского типа Лебяжье' 'посёлок городского типа Сиверский'\n",
      " 'поселок Молодцово' 'поселок городского типа Кузьмоловский'\n",
      " 'садовое товарищество Новая Ропша' 'Павловск' 'деревня Пикколово'\n",
      " 'Всеволожск' 'Волхов' 'Кингисепп' 'Приозерск' 'Сестрорецк'\n",
      " 'деревня Куттузи' 'посёлок Аннино' 'деревня Заклинье' 'поселок Торковичи'\n",
      " 'поселок Первомайское' 'Красное Село' 'посёлок Понтонный'\n",
      " 'деревня Старая' 'деревня Лесколово' 'село Путилово' 'Ивангород' 'Мурино'\n",
      " 'Сланцы' 'Шлиссельбург' 'Сясьстрой' 'Никольское' 'Зеленогорск'\n",
      " 'Сосновый Бор' 'поселок Новый Свет' 'деревня Оржицы' 'деревня Кальтино'\n",
      " 'Кудрово' 'поселок Романовка' 'посёлок Бугры' 'поселок Бугры'\n",
      " 'поселок городского типа Рощино' 'Кириши' 'Луга' 'Волосово' 'Отрадное'\n",
      " 'село Павлово' 'поселок Оредеж' 'посёлок городского типа Красный Бор'\n",
      " 'Коммунар' 'посёлок Молодёжное' 'посёлок Победа' 'деревня Нурма'\n",
      " 'поселок городского типа Синявино' 'Тосно' 'посёлок Новый Свет'\n",
      " 'посёлок городского типа Кузьмоловский' 'посёлок Стрельна' 'Бокситогорск'\n",
      " 'посёлок Александровская' 'деревня Лопухинка' 'поселок Терволово'\n",
      " 'поселок городского типа Советский' 'Подпорожье' 'посёлок Петровское'\n",
      " 'посёлок городского типа Токсово' 'поселок Сельцо'\n",
      " 'посёлок городского типа Вырица' 'деревня Келози' 'деревня Вартемяги'\n",
      " 'посёлок Тельмана' 'городской поселок Большая Ижора' 'Тихвин'\n",
      " 'деревня Агалатово' 'посёлок Новогорелово'\n",
      " 'городской посёлок Лесогорский' 'деревня Лаголово' 'поселок Цвелодубово'\n",
      " 'поселок городского типа Рахья' 'поселок городского типа Вырица'\n",
      " 'деревня Белогорка' 'поселок Заводской' 'городской посёлок Новоселье'\n",
      " 'деревня Большие Колпаны' 'деревня Горбунки' 'деревня Заневка' 'Приморск'\n",
      " 'городской посёлок Фёдоровское' 'деревня Мистолово' 'Новая Ладога'\n",
      " 'поселок Зимитицы' 'поселок Барышево' 'деревня Разметелево'\n",
      " 'поселок городского типа имени Свердлова' 'деревня Пеники'\n",
      " 'поселок Рябово' 'деревня Пудомяги' 'деревня Бегуницы' 'посёлок Поляны'\n",
      " 'городской посёлок Мга' 'поселок Елизаветино'\n",
      " 'посёлок городского типа Кузнечное' 'деревня Колтуши'\n",
      " 'поселок Запорожское' 'посёлок городского типа Рощино'\n",
      " 'деревня Гостилицы' 'деревня Малое Карлино' 'посёлок Мичуринское'\n",
      " 'посёлок городского типа имени Морозова' 'посёлок Песочный'\n",
      " 'посёлок Сосново' 'деревня Аро' 'поселок Ильичёво'\n",
      " 'посёлок городского типа Тайцы' 'деревня Малое Верево' 'деревня Извара'\n",
      " 'поселок станции Вещево' 'деревня Калитино'\n",
      " 'посёлок городского типа Ульяновка' 'деревня Чудской Бор'\n",
      " 'поселок городского типа Дубровка' 'деревня Мины' 'поселок Войсковицы'\n",
      " 'посёлок городского типа имени Свердлова' 'деревня Коркино'\n",
      " 'посёлок Ропша' 'поселок городского типа Приладожский' 'посёлок Щеглово'\n",
      " 'посёлок Гаврилово' 'Лодейное Поле' 'Пикалёво' 'деревня Рабитицы'\n",
      " 'деревня Кузьмолово' 'деревня Малые Колпаны' 'поселок Тельмана'\n",
      " 'городской посёлок Назия' 'посёлок Репино' 'городской посёлок Павлово'\n",
      " 'посёлок Ильичёво' 'поселок Углово' 'деревня Низино'\n",
      " 'поселок Старая Малукса' 'садовое товарищество Рахья' 'поселок Аннино'\n",
      " 'поселок Победа' 'деревня Меньково' 'деревня Старые Бегуницы'\n",
      " 'посёлок Сапёрный' 'поселок Семрино' 'поселок Гаврилово'\n",
      " 'поселок Глажево' 'поселок Кобринское' 'деревня Гарболово' 'деревня Юкки'\n",
      " 'поселок станции Приветнинское' 'деревня Мануйлово' 'деревня Пчева'\n",
      " 'поселок Поляны' 'поселок Цвылёво' 'поселок Мельниково'\n",
      " 'посёлок Плодовое' 'посёлок Пудость' 'посёлок Усть-Луга' 'Светогорск'\n",
      " 'Любань' 'поселок Селезнёво' 'поселок городского типа Рябово'\n",
      " 'Каменногорск' 'деревня Кривко' 'поселок Глебычево' 'деревня Парицы'\n",
      " 'поселок Жилпосёлок' 'посёлок городского типа Мга'\n",
      " 'городской поселок Янино-1' 'посёлок Войскорово' 'село Никольское'\n",
      " 'посёлок Терволово' 'поселок Стеклянный' 'посёлок Мыза-Ивановка'\n",
      " 'село Русско-Высоцкое' 'поселок городского типа Лебяжье'\n",
      " 'поселок городского типа Форносово' 'поселок Житково'\n",
      " 'поселок городского типа Красный Бор' 'городской посёлок Виллози'\n",
      " 'деревня Лампово' 'деревня Шпаньково' 'деревня Кипень' 'посёлок Сумино'\n",
      " 'посёлок Возрождение' 'деревня Старосиверская' 'посёлок Кикерино'\n",
      " 'поселок Возрождение' 'деревня Старое Хинколово' 'посёлок Пригородный'\n",
      " 'посёлок Торфяное' 'городской посёлок Будогощь' 'поселок Суходолье'\n",
      " 'поселок Красная Долина' 'деревня Хапо-Ое'\n",
      " 'поселок городского типа Дружная Горка' 'поселок Лисий Нос'\n",
      " 'деревня Яльгелево' 'посёлок Стеклянный' 'село Рождествено'\n",
      " 'деревня Сяськелево' 'деревня Камышовка'\n",
      " 'садоводческое некоммерческое товарищество Лесная Поляна'\n",
      " 'поселок Жилгородок' 'посёлок городского типа Павлово' 'деревня Ялгино'\n",
      " 'деревня Батово' 'поселок Новый Учхоз' 'поселок Гончарово'\n",
      " 'поселок Почап' 'посёлок Сапёрное' 'посёлок Платформа 69-й километр'\n",
      " 'поселок Каложицы' 'деревня Фалилеево' 'деревня Пельгора'\n",
      " 'поселок городского типа Лесогорский' 'деревня Торошковичи'\n",
      " 'посёлок Белоостров' 'посёлок Алексеевка'\n",
      " 'посёлок городского типа Важины' 'поселок Лукаши' 'поселок Петровское'\n",
      " 'деревня Щеглово' 'городской посёлок Рощино'\n",
      " 'поселок городского типа Никольский' 'поселок Кингисеппский'\n",
      " 'посёлок при железнодорожной станции Вещево' 'поселок Ушаки'\n",
      " 'деревня Старополье' 'деревня Котлы' 'деревня Сижно' 'деревня Торосово'\n",
      " 'посёлок Форт Красная Горка' 'деревня Новолисино'\n",
      " 'посёлок станции Громово' 'поселок городского типа Ефимовский'\n",
      " 'деревня Глинка' 'посёлок Мельниково' 'поселок городского типа Назия'\n",
      " 'деревня Старая Пустошь' 'поселок Коммунары' 'поселок Починок'\n",
      " 'деревня Разбегаево' 'посёлок городского типа Рябово' 'поселок Гладкое'\n",
      " 'посёлок при железнодорожной станции Приветнинское' 'поселок Тёсово-4'\n",
      " 'посёлок Жилгородок' 'деревня Бор' 'посёлок Коробицыно'\n",
      " 'деревня Большая Вруда' 'деревня Курковицы' 'посёлок Лисий Нос'\n",
      " 'поселок Серебрянский' 'городской посёлок Советский' 'посёлок Кобралово'\n",
      " 'деревня Суоранда' 'поселок Кобралово'\n",
      " 'поселок городского типа Кондратьево' 'село Копорье' 'поселок Любань'\n",
      " 'деревня Реброво' 'деревня Зимитицы' 'деревня Тойворово'\n",
      " 'поселок Семиозерье' 'поселок Лесное' 'поселок Совхозный'\n",
      " 'поселок Усть-Луга' 'посёлок Суйда' 'посёлок городского типа Форносово'\n",
      " 'деревня Нижние Осельки' 'поселок Мичуринское' 'поселок Перово' 'Высоцк'\n",
      " 'поселок Гарболово' 'село Шум' 'поселок Котельский' 'посёлок Ленинское'\n",
      " 'деревня Большая Пустомержа' 'деревня Пижма'\n",
      " 'коттеджный поселок Кивеннапа Север' 'поселок Коробицыно'\n",
      " 'поселок Ромашки' 'деревня Каськово' 'деревня Куровицы' 'поселок Сумино'\n",
      " 'поселок городского типа Большая Ижора' 'поселок Кирпичное'\n",
      " 'деревня Ям-Тесово' 'деревня Терпилицы'\n",
      " 'посёлок городского типа Вознесенье' 'поселок городского типа Токсово'\n",
      " 'посёлок Шугозеро' 'деревня Ваганово' 'поселок Пушное'\n",
      " 'садовое товарищество Садко' 'деревня Выскатка' 'поселок Громово'\n",
      " 'посёлок станции Свирь' 'деревня Кисельня' 'село Старая Ладога'\n",
      " 'посёлок Старая Малукса' 'поселок Калитино' 'посёлок Высокоключевой'\n",
      " 'садовое товарищество Приладожский' 'посёлок Пансионат Зелёный Бор'\n",
      " 'посёлок Перово' 'деревня Ненимяки' 'поселок Пансионат Зелёный Бор'\n",
      " 'деревня Снегирёвка' 'деревня Рапполово' 'деревня Пустынка'\n",
      " 'поселок Рабитицы' 'деревня Большой Сабск' 'посёлок Усть-Ижора'\n",
      " 'деревня Лупполово' 'деревня Большое Рейзино' 'деревня Малая Романовка'\n",
      " 'поселок Дружноселье' 'село Паша' 'поселок Володарское' 'деревня Нижняя'\n",
      " 'коттеджный посёлок Лесное' 'деревня Тихковицы' 'деревня Борисова Грива'\n",
      " 'посёлок Дзержинского']\n"
     ]
    }
   ],
   "source": [
    "unique_values = data['locality_name'].unique()\n",
    "print(unique_values)"
   ]
  },
  {
   "cell_type": "code",
   "execution_count": 242,
   "metadata": {},
   "outputs": [],
   "source": [
    "# 1) перевод в строчные буквы\n",
    "data['locality_name'] = data['locality_name'].str.lower()"
   ]
  },
  {
   "cell_type": "code",
   "execution_count": 243,
   "metadata": {
    "scrolled": false
   },
   "outputs": [
    {
     "data": {
      "text/plain": [
       "{'69-й километр',\n",
       " 'агалатово',\n",
       " 'александровская',\n",
       " 'алексеевка',\n",
       " 'аннино',\n",
       " 'аро',\n",
       " 'барышево',\n",
       " 'батово',\n",
       " 'бегуницы',\n",
       " 'белогорка',\n",
       " 'белоостров',\n",
       " 'бокситогорск',\n",
       " 'большая вруда',\n",
       " 'большая ижора',\n",
       " 'большая пустомержа',\n",
       " 'большие колпаны',\n",
       " 'большое рейзино',\n",
       " 'большой сабск',\n",
       " 'бор',\n",
       " 'борисова грива',\n",
       " 'бугры',\n",
       " 'ваганово',\n",
       " 'важины',\n",
       " 'вартемяги',\n",
       " 'вещево',\n",
       " 'вознесенье',\n",
       " 'возрождение',\n",
       " 'войсковицы',\n",
       " 'войскорово',\n",
       " 'володарское',\n",
       " 'волосово',\n",
       " 'волхов',\n",
       " 'всеволожск',\n",
       " 'выборг',\n",
       " 'вырица',\n",
       " 'выскатка',\n",
       " 'высокоключевой',\n",
       " 'высоцк',\n",
       " 'гаврилово',\n",
       " 'гарболово',\n",
       " 'гатчина',\n",
       " 'гладкое',\n",
       " 'глажево',\n",
       " 'глебычево',\n",
       " 'глинка',\n",
       " 'гончарово',\n",
       " 'горбунки',\n",
       " 'городской большая ижора',\n",
       " 'городской будогощь',\n",
       " 'городской виллози',\n",
       " 'городской лесогорский',\n",
       " 'городской мга',\n",
       " 'городской назия',\n",
       " 'городской новоселье',\n",
       " 'городской павлово',\n",
       " 'городской рощино',\n",
       " 'городской советский',\n",
       " 'городской федоровское',\n",
       " 'городской янино-1',\n",
       " 'гостилицы',\n",
       " 'громово',\n",
       " 'дзержинского',\n",
       " 'дружная горка',\n",
       " 'дружноселье',\n",
       " 'дубровка',\n",
       " 'елизаветино',\n",
       " 'ефимовский',\n",
       " 'жилгородок',\n",
       " 'жилпоселок',\n",
       " 'житково',\n",
       " 'заводской',\n",
       " 'заклинье',\n",
       " 'заневка',\n",
       " 'запорожское',\n",
       " 'зеленогорск',\n",
       " 'зеленый бор',\n",
       " 'зимитицы',\n",
       " 'ивангород',\n",
       " 'извара',\n",
       " 'ильичево',\n",
       " 'имени морозова',\n",
       " 'имени свердлова',\n",
       " 'калитино',\n",
       " 'каложицы',\n",
       " 'кальтино',\n",
       " 'каменногорск',\n",
       " 'камышовка',\n",
       " 'каськово',\n",
       " 'келози',\n",
       " 'кикерино',\n",
       " 'кингисепп',\n",
       " 'кингисеппский',\n",
       " 'кипень',\n",
       " 'кириши',\n",
       " 'кировск',\n",
       " 'кирпичное',\n",
       " 'кисельня',\n",
       " 'кобралово',\n",
       " 'кобринское',\n",
       " 'колпино',\n",
       " 'колтуши',\n",
       " 'коммунар',\n",
       " 'коммунары',\n",
       " 'кондратьево',\n",
       " 'копорье',\n",
       " 'коркино',\n",
       " 'коробицыно',\n",
       " 'котельский',\n",
       " 'котлы',\n",
       " 'коттеджный кивеннапа север',\n",
       " 'коттеджный лесное',\n",
       " 'красная долина',\n",
       " 'красное село',\n",
       " 'красный бор',\n",
       " 'кривко',\n",
       " 'кронштадт',\n",
       " 'кудрово',\n",
       " 'кузнечное',\n",
       " 'кузьмолово',\n",
       " 'кузьмоловский',\n",
       " 'курковицы',\n",
       " 'куровицы',\n",
       " 'куттузи',\n",
       " 'лаголово',\n",
       " 'лампово',\n",
       " 'лебяжье',\n",
       " 'ленинское',\n",
       " 'лесколово',\n",
       " 'лесное',\n",
       " 'лесогорский',\n",
       " 'лисий нос',\n",
       " 'лодейное поле',\n",
       " 'ломоносов',\n",
       " 'лопухинка',\n",
       " 'луга',\n",
       " 'лукаши',\n",
       " 'лупполово',\n",
       " 'любань',\n",
       " 'малая романовка',\n",
       " 'малое верево',\n",
       " 'малое карлино',\n",
       " 'малые колпаны',\n",
       " 'мануйлово',\n",
       " 'мга',\n",
       " 'мельниково',\n",
       " 'меньково',\n",
       " 'металлострой',\n",
       " 'мины',\n",
       " 'мистолово',\n",
       " 'мичуринское',\n",
       " 'молодежное',\n",
       " 'молодцово',\n",
       " 'мурино',\n",
       " 'мыза-ивановка',\n",
       " 'назия',\n",
       " 'ненимяки',\n",
       " 'нижние осельки',\n",
       " 'нижняя',\n",
       " 'низино',\n",
       " 'никольский',\n",
       " 'никольское',\n",
       " 'новая ладога',\n",
       " 'новая ропша',\n",
       " 'новогорелово',\n",
       " 'новое девяткино',\n",
       " 'новолисино',\n",
       " 'новый свет',\n",
       " 'новый учхоз',\n",
       " 'нурма',\n",
       " 'оредеж',\n",
       " 'оржицы',\n",
       " 'отрадное',\n",
       " 'павлово',\n",
       " 'павловск',\n",
       " 'парголово',\n",
       " 'парицы',\n",
       " 'паша',\n",
       " 'пельгора',\n",
       " 'пеники',\n",
       " 'первомайское',\n",
       " 'перово',\n",
       " 'песочный',\n",
       " 'петергоф',\n",
       " 'петровское',\n",
       " 'пижма',\n",
       " 'пикалево',\n",
       " 'пикколово',\n",
       " 'плодовое',\n",
       " 'победа',\n",
       " 'подпорожье',\n",
       " 'поляны',\n",
       " 'понтонный',\n",
       " 'почап',\n",
       " 'починок',\n",
       " 'при железнодорожной вещево',\n",
       " 'при железнодорожной приветнинское',\n",
       " 'приветнинское',\n",
       " 'пригородный',\n",
       " 'приладожский',\n",
       " 'приморск',\n",
       " 'приозерск',\n",
       " 'пудомяги',\n",
       " 'пудость',\n",
       " 'пустынка',\n",
       " 'путилово',\n",
       " 'пушкин',\n",
       " 'пушное',\n",
       " 'пчева',\n",
       " 'рабитицы',\n",
       " 'разбегаево',\n",
       " 'разметелево',\n",
       " 'рапполово',\n",
       " 'рахья',\n",
       " 'реброво',\n",
       " 'репино',\n",
       " 'рождествено',\n",
       " 'романовка',\n",
       " 'ромашки',\n",
       " 'ропша',\n",
       " 'рощино',\n",
       " 'русско-высоцкое',\n",
       " 'рябово',\n",
       " 'садко',\n",
       " 'садоводческое некоммерческое товарищество лесная поляна',\n",
       " 'санкт-петербург',\n",
       " 'саперное',\n",
       " 'саперный',\n",
       " 'светогорск',\n",
       " 'свирь',\n",
       " 'селезнево',\n",
       " 'сельцо',\n",
       " 'семиозерье',\n",
       " 'семрино',\n",
       " 'серебрянский',\n",
       " 'сертолово',\n",
       " 'сестрорецк',\n",
       " 'сиверский',\n",
       " 'сижно',\n",
       " 'синявино',\n",
       " 'сланцы',\n",
       " 'снегиревка',\n",
       " 'советский',\n",
       " 'совхозный',\n",
       " 'сосново',\n",
       " 'сосновый бор',\n",
       " 'старая',\n",
       " 'старая ладога',\n",
       " 'старая малукса',\n",
       " 'старая пустошь',\n",
       " 'старое хинколово',\n",
       " 'старополье',\n",
       " 'старосиверская',\n",
       " 'старые бегуницы',\n",
       " 'стеклянный',\n",
       " 'стрельна',\n",
       " 'суйда',\n",
       " 'сумино',\n",
       " 'суоранда',\n",
       " 'суходолье',\n",
       " 'сяськелево',\n",
       " 'сясьстрой',\n",
       " 'тайцы',\n",
       " 'тельмана',\n",
       " 'терволово',\n",
       " 'терпилицы',\n",
       " 'тесово-4',\n",
       " 'тихвин',\n",
       " 'тихковицы',\n",
       " 'тойворово',\n",
       " 'токсово',\n",
       " 'торковичи',\n",
       " 'торосово',\n",
       " 'торошковичи',\n",
       " 'торфяное',\n",
       " 'тосно',\n",
       " 'углово',\n",
       " 'ульяновка',\n",
       " 'усть-ижора',\n",
       " 'усть-луга',\n",
       " 'ушаки',\n",
       " 'фалилеево',\n",
       " 'федоровское',\n",
       " 'форносово',\n",
       " 'форт красная горка',\n",
       " 'хапо-ое',\n",
       " 'цвелодубово',\n",
       " 'цвылево',\n",
       " 'чудской бор',\n",
       " 'шлиссельбург',\n",
       " 'шпаньково',\n",
       " 'шугозеро',\n",
       " 'шум',\n",
       " 'шушары',\n",
       " 'щеглово',\n",
       " 'юкки',\n",
       " 'ялгино',\n",
       " 'яльгелево',\n",
       " 'ям-тесово'}"
      ]
     },
     "execution_count": 243,
     "metadata": {},
     "output_type": "execute_result"
    }
   ],
   "source": [
    "# 2) Оставим только названия\n",
    "data['locality_name'] = (\n",
    "    data['locality_name']\n",
    "    .str.replace('ё','е')\n",
    "    .replace(['поселок ','при ж/д станции ', 'платформа ', 'СНТ ',\n",
    "             'садовое товарищество ', 'станции ', 'село ', 'пансионат ', 'городского типа ',\n",
    "             'деревня ', 'городской поселок '], '', regex=True)\n",
    ")\n",
    "# 3) Уникальные значения в алфавитном порядке\n",
    "set(data['locality_name'].unique())\n",
    "\n"
   ]
  },
  {
   "cell_type": "markdown",
   "metadata": {},
   "source": [
    "**ВConclusion:**\n",
    "\n",
    "During the data preprocessing:\n",
    "\n",
    "- Renamed the column 'cityCenters_nearest' to 'city_centers_nearest'.\n",
    "- Filled explicit missing values in the table (filled missing values in columns: ceiling_height, floors_total, living_area, is_apartment, kitchen_area, locality_name, parks_around3000, ponds_around3000, days_exposition), rounding values to significant figures.\n",
    "- Adjusted data types according to the data present in the columns."
   ]
  },
  {
   "cell_type": "markdown",
   "metadata": {
    "id": "QCcvyY6YAwb-"
   },
   "source": [
    "## Dataset enrichment"
   ]
  },
  {
   "cell_type": "markdown",
   "metadata": {
    "id": "Z8eJek3IAwb-"
   },
   "source": [
    "Add a column 'price_square_meter' with the price per square meter of the property, rounded to two decimal places"
   ]
  },
  {
   "cell_type": "code",
   "execution_count": 244,
   "metadata": {},
   "outputs": [
    {
     "data": {
      "text/plain": [
       "array([120370.37,  82920.79,  92785.71, ...,  52542.37, 149511.4 ,\n",
       "        41795.67])"
      ]
     },
     "execution_count": 244,
     "metadata": {},
     "output_type": "execute_result"
    }
   ],
   "source": [
    "data['price_square_meter'] = (data['last_price'] / data['total_area']).round(2)\n",
    "data['price_square_meter'].unique()"
   ]
  },
  {
   "cell_type": "markdown",
   "metadata": {},
   "source": [
    "Add columns for the day of the week, month, and year of the publication of the advertisement"
   ]
  },
  {
   "cell_type": "code",
   "execution_count": 245,
   "metadata": {},
   "outputs": [],
   "source": [
    "data['day_publication'] = data['first_day_exposition'].dt.day\n",
    "data['month_publication'] = data['first_day_exposition'].dt.month\n",
    "data['year_publication'] = data['first_day_exposition'].dt.year"
   ]
  },
  {
   "cell_type": "markdown",
   "metadata": {},
   "source": [
    "Verify the resulting values"
   ]
  },
  {
   "cell_type": "code",
   "execution_count": 246,
   "metadata": {},
   "outputs": [
    {
     "data": {
      "text/plain": [
       "array([ 7,  4, 20, 19, 10,  2, 18, 23, 26, 16, 27, 30,  1,  9, 28, 14, 24,\n",
       "       29, 31, 12, 13, 22, 15, 25,  8,  3, 17,  5, 11,  6, 21])"
      ]
     },
     "execution_count": 246,
     "metadata": {},
     "output_type": "execute_result"
    }
   ],
   "source": [
    "data['day_publication'].unique()"
   ]
  },
  {
   "cell_type": "code",
   "execution_count": 247,
   "metadata": {},
   "outputs": [
    {
     "data": {
      "text/plain": [
       "array([ 3, 12,  8,  6,  9, 11,  4,  5,  2,  7,  1, 10])"
      ]
     },
     "execution_count": 247,
     "metadata": {},
     "output_type": "execute_result"
    }
   ],
   "source": [
    "data['month_publication'].unique()"
   ]
  },
  {
   "cell_type": "code",
   "execution_count": 248,
   "metadata": {},
   "outputs": [
    {
     "data": {
      "text/plain": [
       "array([2019, 2018, 2015, 2017, 2016, 2014])"
      ]
     },
     "execution_count": 248,
     "metadata": {},
     "output_type": "execute_result"
    }
   ],
   "source": [
    "data['year_publication'].unique()"
   ]
  },
  {
   "cell_type": "markdown",
   "metadata": {},
   "source": [
    "Add a column to the table indicating the floor of the apartment with categories: \"first\", \"last\", or \"other\"."
   ]
  },
  {
   "cell_type": "code",
   "execution_count": 249,
   "metadata": {},
   "outputs": [],
   "source": [
    "#Создадим функцию, которая будет возвращать этаж квартиры, сгрупированный по вариантам — первый, последний, другой\n",
    "def floor_group(row):\n",
    "    if row['floor'] == 1:\n",
    "        return 'первый'\n",
    "    elif row['floor'] == row['floors_total']:\n",
    "        return 'последний'\n",
    "    else:\n",
    "        return 'другой'"
   ]
  },
  {
   "cell_type": "code",
   "execution_count": 250,
   "metadata": {},
   "outputs": [
    {
     "data": {
      "text/plain": [
       "array(['другой', 'первый', 'последний'], dtype=object)"
      ]
     },
     "execution_count": 250,
     "metadata": {},
     "output_type": "execute_result"
    }
   ],
   "source": [
    "data['floor_group'] = data.apply(floor_group, axis=1) \n",
    "data['floor_group'].unique()"
   ]
  },
  {
   "cell_type": "markdown",
   "metadata": {},
   "source": [
    "Add a column 'distance_city_center' indicating the distance to the city center in kilometers (convert from meters to kilometers and round to the nearest integer)."
   ]
  },
  {
   "cell_type": "code",
   "execution_count": 251,
   "metadata": {},
   "outputs": [
    {
     "data": {
      "text/plain": [
       "array([16., 19., 14.,  8., nan, 12., 15., 52., 33., 31., 11., 13., 10.,\n",
       "        2., 32.,  4., 17., 30.,  7.,  5., 51., 50., 24.,  9., 28.,  3.,\n",
       "        6., 27., 21., 49., 35., 36., 34., 18.,  1., 29., 26., 53., 22.,\n",
       "       55., 20., 23., 25.,  0., 66., 47., 40., 57., 37., 43., 48., 62.,\n",
       "       60., 39., 42., 65., 41., 54., 59., 61., 63.])"
      ]
     },
     "execution_count": 251,
     "metadata": {},
     "output_type": "execute_result"
    }
   ],
   "source": [
    "data['distance_city_center'] = (data['city_centers_nearest'] / 1000).round(0)\n",
    "data['distance_city_center'].unique()"
   ]
  },
  {
   "cell_type": "markdown",
   "metadata": {},
   "source": [
    "**Вывод**\n",
    "1. Calculated and added a column for the price per square meter of each property (price_square_meter).\n",
    "2. Extracted day, month, and year of publication into separate columns (day_publication, month_publication, year_publication).\n",
    "3. Added information about the floor type of the apartment (first, last, other) to the table.\n",
    "4. Calculated and added a column for the distance to the city center in kilometers."
   ]
  },
  {
   "cell_type": "markdown",
   "metadata": {
    "id": "pPyxrKWTAwb-"
   },
   "source": [
    "## Exploratory Data Analysis"
   ]
  },
  {
   "cell_type": "markdown",
   "metadata": {},
   "source": [
    "Studying and describing the dependence of the number of apartments for sale on specific parameters:\n",
    "\n",
    "Analysis of total area"
   ]
  },
  {
   "cell_type": "code",
   "execution_count": 252,
   "metadata": {},
   "outputs": [
    {
     "data": {
      "text/plain": [
       "count    21343.000000\n",
       "mean        60.708130\n",
       "std         35.018318\n",
       "min         14.000000\n",
       "25%         40.530000\n",
       "50%         52.390000\n",
       "75%         70.000000\n",
       "max        900.000000\n",
       "Name: total_area, dtype: float64"
      ]
     },
     "execution_count": 252,
     "metadata": {},
     "output_type": "execute_result"
    }
   ],
   "source": [
    "data['total_area'].describe()"
   ]
  },
  {
   "cell_type": "code",
   "execution_count": 253,
   "metadata": {},
   "outputs": [
    {
     "data": {
      "image/png": "[encoded data removed]",
      "text/plain": [
       "<Figure size 432x288 with 1 Axes>"
      ]
     },
     "metadata": {
      "needs_background": "light"
     },
     "output_type": "display_data"
    }
   ],
   "source": [
    "plt.hist(data['total_area'], bins=100, range=(12,100), edgecolor='black')\n",
    "plt.grid(True)\n",
    "\n",
    "plt.title('зависимость квартир в продаже от площади квартир')\n",
    "plt.xlabel('квадратные метры')\n",
    "plt.ylabel('количество квартир')\n",
    "plt.show()"
   ]
  },
  {
   "cell_type": "markdown",
   "metadata": {},
   "source": [
    "The largest supply of apartments on the market is in the range of 40 to 69 square meters, with a peak around 52 square meters"
   ]
  },
  {
   "cell_type": "markdown",
   "metadata": {},
   "source": [
    "Analysis of living area"
   ]
  },
  {
   "cell_type": "code",
   "execution_count": 254,
   "metadata": {},
   "outputs": [
    {
     "data": {
      "text/plain": [
       "count    21343.000000\n",
       "mean        34.737291\n",
       "std         22.150563\n",
       "min          2.000000\n",
       "25%         19.000000\n",
       "50%         30.000000\n",
       "75%         42.000000\n",
       "max        410.000000\n",
       "Name: living_area, dtype: float64"
      ]
     },
     "execution_count": 254,
     "metadata": {},
     "output_type": "execute_result"
    }
   ],
   "source": [
    "data['living_area'].describe()"
   ]
  },
  {
   "cell_type": "code",
   "execution_count": 255,
   "metadata": {},
   "outputs": [
    {
     "data": {
      "image/png": "[encoded data removed]",
      "text/plain": [
       "<Figure size 432x288 with 1 Axes>"
      ]
     },
     "metadata": {
      "needs_background": "light"
     },
     "output_type": "display_data"
    }
   ],
   "source": [
    "plt.hist(data['living_area'], bins=100, range=(2,100))\n",
    "plt.grid(True)\n",
    "plt.title('зависимость квартир в продаже от жилой площади')\n",
    "plt.xlabel('квадратные метры')\n",
    "plt.ylabel('количество квартир')\n",
    "plt.show()"
   ]
  },
  {
   "cell_type": "markdown",
   "metadata": {},
   "source": [
    "Conclusion:\n",
    "\n",
    "The highest number of apartments for sale have a living area of approximately 18 square meters and 30-40 square meters."
   ]
  },
  {
   "cell_type": "markdown",
   "metadata": {},
   "source": [
    "Analysis of kitchen area"
   ]
  },
  {
   "cell_type": "code",
   "execution_count": 256,
   "metadata": {},
   "outputs": [
    {
     "data": {
      "text/plain": [
       "count    21343.000000\n",
       "mean        10.560994\n",
       "std          5.900630\n",
       "min          1.300000\n",
       "25%          7.000000\n",
       "50%          9.100000\n",
       "75%         12.000000\n",
       "max        112.000000\n",
       "Name: kitchen_area, dtype: float64"
      ]
     },
     "execution_count": 256,
     "metadata": {},
     "output_type": "execute_result"
    }
   ],
   "source": [
    "data['kitchen_area'].describe()"
   ]
  },
  {
   "cell_type": "code",
   "execution_count": 257,
   "metadata": {},
   "outputs": [
    {
     "data": {
      "image/png": "[encoded data removed]",
      "text/plain": [
       "<Figure size 432x288 with 1 Axes>"
      ]
     },
     "metadata": {
      "needs_background": "light"
     },
     "output_type": "display_data"
    }
   ],
   "source": [
    "plt.hist(data['kitchen_area'], bins=100, range=(1,12))\n",
    "plt.grid(True)\n",
    "plt.title('зависимость квартир в продаже от площади кухни')\n",
    "plt.xlabel('квадратные метры')\n",
    "plt.ylabel('количество квартир')\n",
    "plt.show()"
   ]
  },
  {
   "cell_type": "markdown",
   "metadata": {},
   "source": [
    "Conclusion:\n",
    "\n",
    "The majority of apartments for sale have kitchen areas of 6 and 8 square meters. Following these are apartments with kitchen areas of 10-12 square meters."
   ]
  },
  {
   "cell_type": "markdown",
   "metadata": {},
   "source": [
    "Analysis of price"
   ]
  },
  {
   "cell_type": "code",
   "execution_count": 258,
   "metadata": {},
   "outputs": [
    {
     "data": {
      "text/plain": [
       "count    2.134300e+04\n",
       "mean     6.540169e+06\n",
       "std      9.737580e+06\n",
       "min      1.219000e+04\n",
       "25%      3.500000e+06\n",
       "50%      4.700000e+06\n",
       "75%      6.800000e+06\n",
       "max      4.200000e+08\n",
       "Name: last_price, dtype: float64"
      ]
     },
     "execution_count": 258,
     "metadata": {},
     "output_type": "execute_result"
    }
   ],
   "source": [
    "data['last_price'].describe()"
   ]
  },
  {
   "cell_type": "code",
   "execution_count": 259,
   "metadata": {},
   "outputs": [
    {
     "data": {
      "image/png": "[encoded data removed]",
      "text/plain": [
       "<Figure size 432x288 with 1 Axes>"
      ]
     },
     "metadata": {
      "needs_background": "light"
     },
     "output_type": "display_data"
    }
   ],
   "source": [
    "plt.hist(data['last_price'], bins=100, range=(1.219000e+04,9.00000e+06))\n",
    "plt.grid(True)\n",
    "plt.title('зависимость квартир в продаже от цены')\n",
    "plt.xlabel('цена в млн. руб.')\n",
    "plt.ylabel('количество квартир')\n",
    "plt.show()"
   ]
  },
  {
   "cell_type": "markdown",
   "metadata": {},
   "source": [
    "Conclusion:\n",
    "\n",
    "From the histogram, it is evident that the most common price range for properties is between 3 to 5 million rubles."
   ]
  },
  {
   "cell_type": "markdown",
   "metadata": {},
   "source": [
    "Number of rooms"
   ]
  },
  {
   "cell_type": "code",
   "execution_count": 260,
   "metadata": {},
   "outputs": [
    {
     "data": {
      "image/png": "[encoded data removed]",
      "text/plain": [
       "<Figure size 432x288 with 1 Axes>"
      ]
     },
     "metadata": {
      "needs_background": "light"
     },
     "output_type": "display_data"
    }
   ],
   "source": [
    "plt.hist(data['rooms'], bins=7, range=(0,7))\n",
    "plt.grid(True)\n",
    "plt.title('зависимость квартир в продаже от количества комнат')\n",
    "plt.xlabel('количество комнат')\n",
    "plt.ylabel('количество квартир')\n",
    "plt.show()"
   ]
  },
  {
   "cell_type": "markdown",
   "metadata": {},
   "source": [
    "Conclusion\n",
    "\n",
    "Among the listings, there are the most offers for 1-room, 2-room, and 3-room apartments."
   ]
  },
  {
   "cell_type": "markdown",
   "metadata": {},
   "source": [
    "Ceiling height"
   ]
  },
  {
   "cell_type": "code",
   "execution_count": 261,
   "metadata": {},
   "outputs": [
    {
     "data": {
      "text/plain": [
       "count    21343.000000\n",
       "mean         2.707440\n",
       "std          0.988529\n",
       "min          1.000000\n",
       "25%          2.600000\n",
       "50%          2.600000\n",
       "75%          2.700000\n",
       "max        100.000000\n",
       "Name: ceiling_height, dtype: float64"
      ]
     },
     "execution_count": 261,
     "metadata": {},
     "output_type": "execute_result"
    }
   ],
   "source": [
    "data['ceiling_height'].describe()"
   ]
  },
  {
   "cell_type": "code",
   "execution_count": 262,
   "metadata": {},
   "outputs": [
    {
     "data": {
      "image/png": "[encoded data removed]",
      "text/plain": [
       "<Figure size 432x288 with 1 Axes>"
      ]
     },
     "metadata": {
      "needs_background": "light"
     },
     "output_type": "display_data"
    }
   ],
   "source": [
    "plt.hist(data['ceiling_height'], bins=50, range=(1,3))\n",
    "plt.grid(True)\n",
    "plt.title('зависимость квартир в продаже от высоты потолков')\n",
    "plt.xlabel('метры')\n",
    "plt.ylabel('количество квартир')\n",
    "plt.show()"
   ]
  },
  {
   "cell_type": "markdown",
   "metadata": {},
   "source": [
    "Conclusion:\n",
    "\n",
    "The majority of listings consist of apartments with ceiling heights between 2.50 to 2.60 meters."
   ]
  },
  {
   "cell_type": "markdown",
   "metadata": {},
   "source": [
    "Floor type of the apartment (\"first\", \"last\", \"other\")"
   ]
  },
  {
   "cell_type": "code",
   "execution_count": 263,
   "metadata": {},
   "outputs": [
    {
     "data": {
      "image/png": "[encoded data removed]",
      "text/plain": [
       "<Figure size 360x360 with 1 Axes>"
      ]
     },
     "metadata": {
      "needs_background": "light"
     },
     "output_type": "display_data"
    }
   ],
   "source": [
    "(\n",
    "    data.pivot_table(index='floor_group', values='last_price', aggfunc='median').sort_values(by='last_price', ascending=False)\n",
    "    .plot(grid=True, style='o-', figsize=(5, 5), title='Зависимость цены от этажа расположения квартиры')\n",
    ")\n",
    "plt.xlabel('Расположение квартиры по этажам ')\n",
    "plt.ylabel('Цена')\n",
    "plt.show()"
   ]
  },
  {
   "cell_type": "code",
   "execution_count": 264,
   "metadata": {},
   "outputs": [
    {
     "data": {
      "image/png": "[encoded data removed]",
      "text/plain": [
       "<Figure size 720x504 with 1 Axes>"
      ]
     },
     "metadata": {},
     "output_type": "display_data"
    }
   ],
   "source": [
    "data.pivot_table(index='floor_group',values='last_price',aggfunc='count') \\\n",
    "  .plot.pie(y='last_price', figsize=(10,7), label='', autopct='%1.1f%%', title='Диаграмма количественного отношения распределения предложений в зависимости от этажа')\n",
    "          \n",
    "plt.show()"
   ]
  },
  {
   "cell_type": "markdown",
   "metadata": {},
   "source": [
    "Conclusion:\n",
    "\n",
    "Listings for apartments on the first and last floors are less common. These listings account for slightly more than 25% of the total number of listings."
   ]
  },
  {
   "cell_type": "markdown",
   "metadata": {},
   "source": [
    "Total number of floors in the building"
   ]
  },
  {
   "cell_type": "code",
   "execution_count": 265,
   "metadata": {},
   "outputs": [
    {
     "data": {
      "text/plain": [
       "count    21343.000000\n",
       "mean        10.588671\n",
       "std          6.532087\n",
       "min          1.000000\n",
       "25%          5.000000\n",
       "50%          9.000000\n",
       "75%         15.000000\n",
       "max         60.000000\n",
       "Name: floors_total, dtype: float64"
      ]
     },
     "execution_count": 265,
     "metadata": {},
     "output_type": "execute_result"
    }
   ],
   "source": [
    "data['floors_total'].describe()"
   ]
  },
  {
   "cell_type": "code",
   "execution_count": 266,
   "metadata": {},
   "outputs": [
    {
     "data": {
      "image/png": "[encoded data removed]",
      "text/plain": [
       "<Figure size 432x288 with 1 Axes>"
      ]
     },
     "metadata": {
      "needs_background": "light"
     },
     "output_type": "display_data"
    }
   ],
   "source": [
    "plt.hist(data['floors_total'], bins=100, range=(1,30))\n",
    "plt.grid(True)\n",
    "plt.title('зависимость квартир в продаже от общего количество этажей в доме')\n",
    "plt.xlabel('этаж')\n",
    "plt.ylabel('количество квартир')\n",
    "plt.show()"
   ]
  },
  {
   "cell_type": "markdown",
   "metadata": {},
   "source": [
    "Conclusion:\n",
    "\n",
    "The highest number of listings for apartments are in buildings with 5 and 9 floors."
   ]
  },
  {
   "cell_type": "markdown",
   "metadata": {},
   "source": [
    "Distance to the city center in meters"
   ]
  },
  {
   "cell_type": "code",
   "execution_count": 267,
   "metadata": {},
   "outputs": [
    {
     "data": {
      "text/plain": [
       "count    16548.000000\n",
       "mean     14224.502478\n",
       "std       8651.597902\n",
       "min        181.000000\n",
       "25%       9289.000000\n",
       "50%      13094.500000\n",
       "75%      16268.000000\n",
       "max      65968.000000\n",
       "Name: city_centers_nearest, dtype: float64"
      ]
     },
     "execution_count": 267,
     "metadata": {},
     "output_type": "execute_result"
    }
   ],
   "source": [
    "data['city_centers_nearest'].describe()"
   ]
  },
  {
   "cell_type": "code",
   "execution_count": 268,
   "metadata": {},
   "outputs": [
    {
     "data": {
      "image/png": "[encoded data removed]",
      "text/plain": [
       "<Figure size 432x288 with 1 Axes>"
      ]
     },
     "metadata": {
      "needs_background": "light"
     },
     "output_type": "display_data"
    }
   ],
   "source": [
    "plt.hist(data['city_centers_nearest'], bins=100, range=(0,25000))\n",
    "plt.grid(True)\n",
    "plt.title('зависимость квартир в продаже от центра удаленности от центра города')\n",
    "plt.xlabel('расстояние до центра города (метров)')\n",
    "plt.ylabel('количество квартир')\n",
    "plt.show()"
   ]
  },
  {
   "cell_type": "markdown",
   "metadata": {},
   "source": [
    "Conclusion:\n",
    "\n",
    "The highest number of listings for sale are in residential districts, particularly at distances of 12,000 to 15,000 meters from the city center, as well as at a distance of 5,000 meters from the city center."
   ]
  },
  {
   "cell_type": "markdown",
   "metadata": {},
   "source": [
    "Distance to the nearest park"
   ]
  },
  {
   "cell_type": "code",
   "execution_count": 269,
   "metadata": {},
   "outputs": [
    {
     "data": {
      "text/plain": [
       "count    21343.000000\n",
       "mean       168.476175\n",
       "std        305.852739\n",
       "min          0.000000\n",
       "25%          0.000000\n",
       "50%          0.000000\n",
       "75%        306.000000\n",
       "max       3190.000000\n",
       "Name: parks_nearest, dtype: float64"
      ]
     },
     "execution_count": 269,
     "metadata": {},
     "output_type": "execute_result"
    }
   ],
   "source": [
    "data['parks_nearest'].describe()"
   ]
  },
  {
   "cell_type": "code",
   "execution_count": 270,
   "metadata": {},
   "outputs": [
    {
     "data": {
      "image/png": "[encoded data removed]",
      "text/plain": [
       "<Figure size 432x288 with 1 Axes>"
      ]
     },
     "metadata": {
      "needs_background": "light"
     },
     "output_type": "display_data"
    }
   ],
   "source": [
    "plt.hist(data['parks_nearest'], bins=100, range=(100,800))\n",
    "plt.grid(True)\n",
    "plt.title('зависимость квартир в продаже от удаленности от парка')\n",
    "plt.xlabel('расстояние до марка (метров)')\n",
    "plt.ylabel('количество квартир')\n",
    "plt.show()"
   ]
  },
  {
   "cell_type": "markdown",
   "metadata": {},
   "source": [
    "Conclusion:\n",
    "\n",
    "The number of listings does not vary significantly based on the distance to the nearest park. The average distance to the park is approximately 200 to 700 meters."
   ]
  },
  {
   "cell_type": "markdown",
   "metadata": {},
   "source": [
    "**Оverall Conclusion for the Section:**\n",
    "\n",
    "On the market, the largest supply of apartments falls within the total area range of 40 to 69 square meters, with a peak around 52 square meters.\n",
    "\n",
    "The majority of apartments for sale have a living area of approximately 18 square meters and 30 square meters.\n",
    "\n",
    "There is a notable trend towards offering apartments with kitchen areas of 6 to 10 square meters.\n",
    "\n",
    "From the histogram, it is evident that the most common price range for properties is between 3 to 5 million rubles.\n",
    "\n",
    "Among the listings, there are the most offers for 1 to 3-room apartments.\n",
    "\n",
    "Ceiling heights mostly range around 2.6 meters in the majority of listings.\n",
    "\n",
    "Apartments on the first and last floors are less preferred.\n",
    "\n",
    "The highest number of listings for sale are in buildings with 5 and 9 floors, predominantly located in residential areas on the outskirts of the city, with a significant concentration at a distance of 5,000 meters from the city center.\n",
    "\n",
    "The number of listings does not vary significantly based on the distance to the nearest park, with the average distance being approximately 200 to 700 meters.\n",
    "\n",
    "In conclusion: The average listing is a 52-square-meter apartment in a five-story building with a kitchen area of 6 square meters, ceiling height of 2.6 meters, 1 to 3 rooms, located around 13 km from the city center."
   ]
  },
  {
   "cell_type": "markdown",
   "metadata": {},
   "source": [
    "## The speed of apartment sales"
   ]
  },
  {
   "cell_type": "code",
   "execution_count": 271,
   "metadata": {},
   "outputs": [
    {
     "name": "stdout",
     "output_type": "stream",
     "text": [
      "count    21343.000000\n",
      "mean       159.607693\n",
      "std        216.149617\n",
      "min          0.000000\n",
      "25%         21.000000\n",
      "50%         78.000000\n",
      "75%        204.000000\n",
      "max       1580.000000\n",
      "Name: days_exposition, dtype: float64\n"
     ]
    }
   ],
   "source": [
    "print(data['days_exposition'].describe())"
   ]
  },
  {
   "cell_type": "code",
   "execution_count": 272,
   "metadata": {},
   "outputs": [
    {
     "data": {
      "image/png": "[encoded data removed]",
      "text/plain": [
       "<Figure size 432x288 with 1 Axes>"
      ]
     },
     "metadata": {
      "needs_background": "light"
     },
     "output_type": "display_data"
    }
   ],
   "source": [
    "plt.hist(data['days_exposition'], range=(0,250), bins=100, )\n",
    "plt.grid(True)\n",
    "plt.title('распределение количества продаж по времени')\n",
    "plt.xlabel('сколько дней было размещено объявление (от публикации до снятия)')\n",
    "plt.ylabel('количество объявлений')\n",
    "plt.show()"
   ]
  },
  {
   "cell_type": "markdown",
   "metadata": {},
   "source": [
    "В выводе по времени продажи квартир:\n",
    "\n",
    "Среднее время продажи квартиры составляет 156 дней, однако медианное значение составляет 74 дня, что более точно отражает среднее время продажи, не учитывая выбросы и нестандартные значения.\n",
    "\n",
    "В среднем, продажа типичной квартиры занимает от 2 до 3 месяцев, в зависимости от таких факторов, как площадь, цена и удаленность от центра.\n",
    "\n",
    "Быстрыми продажами можно считать те, которые происходят в первом квартиле времени продаж (около 30 дней), а необычно долгими — продажи, которые занимают более 199 дней (после третьего квартиля)."
   ]
  },
  {
   "cell_type": "markdown",
   "metadata": {},
   "source": [
    "## Determining factors influencing the total price of the property.\n",
    "\n",
    "examine if the price ('last_price') depends on:\n",
    "\n",
    "- Total area ('total_area')\n",
    "- Living area ('living_area')\n",
    "- Kitchen area ('kitchen_area')\n",
    "- Number of rooms ('rooms')\n",
    "- Floor type (first, last, other)\n",
    "- Date of publication (day of the week, month, year)\n",
    "\n",
    "\n",
    "\n",
    "\n",
    "\n"
   ]
  },
  {
   "cell_type": "code",
   "execution_count": 273,
   "metadata": {},
   "outputs": [
    {
     "data": {
      "text/plain": [
       "total_images            0.111832\n",
       "last_price              1.000000\n",
       "total_area              0.697314\n",
       "rooms                   0.391024\n",
       "ceiling_height          0.075586\n",
       "floors_total            0.000237\n",
       "living_area             0.612169\n",
       "floor                   0.032337\n",
       "studio                       NaN\n",
       "open_plan                    NaN\n",
       "kitchen_area            0.520362\n",
       "balcony                 0.007225\n",
       "airports_nearest       -0.028578\n",
       "city_centers_nearest   -0.225768\n",
       "parks_around_3000       0.209801\n",
       "parks_nearest           0.123682\n",
       "ponds_around_3000       0.172559\n",
       "ponds_nearest           0.094853\n",
       "days_exposition         0.054583\n",
       "sum_areas               0.657699\n",
       "exceeds_total_area     -0.005271\n",
       "ponds_around3000        0.223849\n",
       "price_square_meter      0.736277\n",
       "day_publication        -0.000655\n",
       "month_publication      -0.000806\n",
       "year_publication       -0.040369\n",
       "distance_city_center   -0.226293\n",
       "Name: last_price, dtype: float64"
      ]
     },
     "execution_count": 273,
     "metadata": {},
     "output_type": "execute_result"
    }
   ],
   "source": [
    "data.corr()['last_price']"
   ]
  },
  {
   "cell_type": "code",
   "execution_count": 274,
   "metadata": {},
   "outputs": [
    {
     "name": "stdout",
     "output_type": "stream",
     "text": [
      "                   last_price  living_area  total_area  kitchen_area  \\\n",
      "last_price           1.000000     0.612169    0.697314      0.520362   \n",
      "living_area          0.612169     1.000000    0.942023      0.435720   \n",
      "total_area           0.697314     0.942023    1.000000      0.609248   \n",
      "kitchen_area         0.520362     0.435720    0.609248      1.000000   \n",
      "rooms                0.391024     0.843739    0.765909      0.270342   \n",
      "floor                0.032337    -0.088382   -0.014704      0.136545   \n",
      "day_publication     -0.000655     0.000115   -0.000203      0.002552   \n",
      "month_publication   -0.000806    -0.001309    0.003974      0.002476   \n",
      "year_publication    -0.040369    -0.067163   -0.076173     -0.054781   \n",
      "\n",
      "                      rooms     floor  day_publication  month_publication  \\\n",
      "last_price         0.391024  0.032337        -0.000655          -0.000806   \n",
      "living_area        0.843739 -0.088382         0.000115          -0.001309   \n",
      "total_area         0.765909 -0.014704        -0.000203           0.003974   \n",
      "kitchen_area       0.270342  0.136545         0.002552           0.002476   \n",
      "rooms              1.000000 -0.142219         0.000866          -0.002283   \n",
      "floor             -0.142219  1.000000         0.000805           0.020066   \n",
      "day_publication    0.000866  0.000805         1.000000          -0.022394   \n",
      "month_publication -0.002283  0.020066        -0.022394           1.000000   \n",
      "year_publication  -0.053384  0.009917        -0.020657          -0.258613   \n",
      "\n",
      "                   year_publication  \n",
      "last_price                -0.040369  \n",
      "living_area               -0.067163  \n",
      "total_area                -0.076173  \n",
      "kitchen_area              -0.054781  \n",
      "rooms                     -0.053384  \n",
      "floor                      0.009917  \n",
      "day_publication           -0.020657  \n",
      "month_publication         -0.258613  \n",
      "year_publication           1.000000  \n"
     ]
    }
   ],
   "source": [
    "correlation_matrix = data[['last_price', 'living_area', 'total_area', 'kitchen_area', 'rooms', 'floor', 'day_publication', 'month_publication', 'year_publication']].corr()\n",
    "\n",
    "print(correlation_matrix)"
   ]
  },
  {
   "cell_type": "code",
   "execution_count": 275,
   "metadata": {},
   "outputs": [
    {
     "data": {
      "text/html": [
       "<style  type=\"text/css\" >\n",
       "#T_faa90_row0_col0,#T_faa90_row1_col1,#T_faa90_row2_col2,#T_faa90_row3_col3,#T_faa90_row4_col4,#T_faa90_row5_col5,#T_faa90_row6_col6,#T_faa90_row7_col7,#T_faa90_row8_col8{\n",
       "            background-color:  yellow;\n",
       "        }#T_faa90_row4_col5,#T_faa90_row5_col1,#T_faa90_row5_col4,#T_faa90_row7_col6,#T_faa90_row7_col8,#T_faa90_row8_col0,#T_faa90_row8_col2,#T_faa90_row8_col3,#T_faa90_row8_col7{\n",
       "            background-color:  lightblue;\n",
       "        }</style><table id=\"T_faa90_\" ><thead>    <tr>        <th class=\"blank level0\" ></th>        <th class=\"col_heading level0 col0\" >last_price</th>        <th class=\"col_heading level0 col1\" >living_area</th>        <th class=\"col_heading level0 col2\" >total_area</th>        <th class=\"col_heading level0 col3\" >kitchen_area</th>        <th class=\"col_heading level0 col4\" >rooms</th>        <th class=\"col_heading level0 col5\" >floor</th>        <th class=\"col_heading level0 col6\" >day_publication</th>        <th class=\"col_heading level0 col7\" >month_publication</th>        <th class=\"col_heading level0 col8\" >year_publication</th>    </tr></thead><tbody>\n",
       "                <tr>\n",
       "                        <th id=\"T_faa90_level0_row0\" class=\"row_heading level0 row0\" >last_price</th>\n",
       "                        <td id=\"T_faa90_row0_col0\" class=\"data row0 col0\" >1.000000</td>\n",
       "                        <td id=\"T_faa90_row0_col1\" class=\"data row0 col1\" >0.612169</td>\n",
       "                        <td id=\"T_faa90_row0_col2\" class=\"data row0 col2\" >0.697314</td>\n",
       "                        <td id=\"T_faa90_row0_col3\" class=\"data row0 col3\" >0.520362</td>\n",
       "                        <td id=\"T_faa90_row0_col4\" class=\"data row0 col4\" >0.391024</td>\n",
       "                        <td id=\"T_faa90_row0_col5\" class=\"data row0 col5\" >0.032337</td>\n",
       "                        <td id=\"T_faa90_row0_col6\" class=\"data row0 col6\" >-0.000655</td>\n",
       "                        <td id=\"T_faa90_row0_col7\" class=\"data row0 col7\" >-0.000806</td>\n",
       "                        <td id=\"T_faa90_row0_col8\" class=\"data row0 col8\" >-0.040369</td>\n",
       "            </tr>\n",
       "            <tr>\n",
       "                        <th id=\"T_faa90_level0_row1\" class=\"row_heading level0 row1\" >living_area</th>\n",
       "                        <td id=\"T_faa90_row1_col0\" class=\"data row1 col0\" >0.612169</td>\n",
       "                        <td id=\"T_faa90_row1_col1\" class=\"data row1 col1\" >1.000000</td>\n",
       "                        <td id=\"T_faa90_row1_col2\" class=\"data row1 col2\" >0.942023</td>\n",
       "                        <td id=\"T_faa90_row1_col3\" class=\"data row1 col3\" >0.435720</td>\n",
       "                        <td id=\"T_faa90_row1_col4\" class=\"data row1 col4\" >0.843739</td>\n",
       "                        <td id=\"T_faa90_row1_col5\" class=\"data row1 col5\" >-0.088382</td>\n",
       "                        <td id=\"T_faa90_row1_col6\" class=\"data row1 col6\" >0.000115</td>\n",
       "                        <td id=\"T_faa90_row1_col7\" class=\"data row1 col7\" >-0.001309</td>\n",
       "                        <td id=\"T_faa90_row1_col8\" class=\"data row1 col8\" >-0.067163</td>\n",
       "            </tr>\n",
       "            <tr>\n",
       "                        <th id=\"T_faa90_level0_row2\" class=\"row_heading level0 row2\" >total_area</th>\n",
       "                        <td id=\"T_faa90_row2_col0\" class=\"data row2 col0\" >0.697314</td>\n",
       "                        <td id=\"T_faa90_row2_col1\" class=\"data row2 col1\" >0.942023</td>\n",
       "                        <td id=\"T_faa90_row2_col2\" class=\"data row2 col2\" >1.000000</td>\n",
       "                        <td id=\"T_faa90_row2_col3\" class=\"data row2 col3\" >0.609248</td>\n",
       "                        <td id=\"T_faa90_row2_col4\" class=\"data row2 col4\" >0.765909</td>\n",
       "                        <td id=\"T_faa90_row2_col5\" class=\"data row2 col5\" >-0.014704</td>\n",
       "                        <td id=\"T_faa90_row2_col6\" class=\"data row2 col6\" >-0.000203</td>\n",
       "                        <td id=\"T_faa90_row2_col7\" class=\"data row2 col7\" >0.003974</td>\n",
       "                        <td id=\"T_faa90_row2_col8\" class=\"data row2 col8\" >-0.076173</td>\n",
       "            </tr>\n",
       "            <tr>\n",
       "                        <th id=\"T_faa90_level0_row3\" class=\"row_heading level0 row3\" >kitchen_area</th>\n",
       "                        <td id=\"T_faa90_row3_col0\" class=\"data row3 col0\" >0.520362</td>\n",
       "                        <td id=\"T_faa90_row3_col1\" class=\"data row3 col1\" >0.435720</td>\n",
       "                        <td id=\"T_faa90_row3_col2\" class=\"data row3 col2\" >0.609248</td>\n",
       "                        <td id=\"T_faa90_row3_col3\" class=\"data row3 col3\" >1.000000</td>\n",
       "                        <td id=\"T_faa90_row3_col4\" class=\"data row3 col4\" >0.270342</td>\n",
       "                        <td id=\"T_faa90_row3_col5\" class=\"data row3 col5\" >0.136545</td>\n",
       "                        <td id=\"T_faa90_row3_col6\" class=\"data row3 col6\" >0.002552</td>\n",
       "                        <td id=\"T_faa90_row3_col7\" class=\"data row3 col7\" >0.002476</td>\n",
       "                        <td id=\"T_faa90_row3_col8\" class=\"data row3 col8\" >-0.054781</td>\n",
       "            </tr>\n",
       "            <tr>\n",
       "                        <th id=\"T_faa90_level0_row4\" class=\"row_heading level0 row4\" >rooms</th>\n",
       "                        <td id=\"T_faa90_row4_col0\" class=\"data row4 col0\" >0.391024</td>\n",
       "                        <td id=\"T_faa90_row4_col1\" class=\"data row4 col1\" >0.843739</td>\n",
       "                        <td id=\"T_faa90_row4_col2\" class=\"data row4 col2\" >0.765909</td>\n",
       "                        <td id=\"T_faa90_row4_col3\" class=\"data row4 col3\" >0.270342</td>\n",
       "                        <td id=\"T_faa90_row4_col4\" class=\"data row4 col4\" >1.000000</td>\n",
       "                        <td id=\"T_faa90_row4_col5\" class=\"data row4 col5\" >-0.142219</td>\n",
       "                        <td id=\"T_faa90_row4_col6\" class=\"data row4 col6\" >0.000866</td>\n",
       "                        <td id=\"T_faa90_row4_col7\" class=\"data row4 col7\" >-0.002283</td>\n",
       "                        <td id=\"T_faa90_row4_col8\" class=\"data row4 col8\" >-0.053384</td>\n",
       "            </tr>\n",
       "            <tr>\n",
       "                        <th id=\"T_faa90_level0_row5\" class=\"row_heading level0 row5\" >floor</th>\n",
       "                        <td id=\"T_faa90_row5_col0\" class=\"data row5 col0\" >0.032337</td>\n",
       "                        <td id=\"T_faa90_row5_col1\" class=\"data row5 col1\" >-0.088382</td>\n",
       "                        <td id=\"T_faa90_row5_col2\" class=\"data row5 col2\" >-0.014704</td>\n",
       "                        <td id=\"T_faa90_row5_col3\" class=\"data row5 col3\" >0.136545</td>\n",
       "                        <td id=\"T_faa90_row5_col4\" class=\"data row5 col4\" >-0.142219</td>\n",
       "                        <td id=\"T_faa90_row5_col5\" class=\"data row5 col5\" >1.000000</td>\n",
       "                        <td id=\"T_faa90_row5_col6\" class=\"data row5 col6\" >0.000805</td>\n",
       "                        <td id=\"T_faa90_row5_col7\" class=\"data row5 col7\" >0.020066</td>\n",
       "                        <td id=\"T_faa90_row5_col8\" class=\"data row5 col8\" >0.009917</td>\n",
       "            </tr>\n",
       "            <tr>\n",
       "                        <th id=\"T_faa90_level0_row6\" class=\"row_heading level0 row6\" >day_publication</th>\n",
       "                        <td id=\"T_faa90_row6_col0\" class=\"data row6 col0\" >-0.000655</td>\n",
       "                        <td id=\"T_faa90_row6_col1\" class=\"data row6 col1\" >0.000115</td>\n",
       "                        <td id=\"T_faa90_row6_col2\" class=\"data row6 col2\" >-0.000203</td>\n",
       "                        <td id=\"T_faa90_row6_col3\" class=\"data row6 col3\" >0.002552</td>\n",
       "                        <td id=\"T_faa90_row6_col4\" class=\"data row6 col4\" >0.000866</td>\n",
       "                        <td id=\"T_faa90_row6_col5\" class=\"data row6 col5\" >0.000805</td>\n",
       "                        <td id=\"T_faa90_row6_col6\" class=\"data row6 col6\" >1.000000</td>\n",
       "                        <td id=\"T_faa90_row6_col7\" class=\"data row6 col7\" >-0.022394</td>\n",
       "                        <td id=\"T_faa90_row6_col8\" class=\"data row6 col8\" >-0.020657</td>\n",
       "            </tr>\n",
       "            <tr>\n",
       "                        <th id=\"T_faa90_level0_row7\" class=\"row_heading level0 row7\" >month_publication</th>\n",
       "                        <td id=\"T_faa90_row7_col0\" class=\"data row7 col0\" >-0.000806</td>\n",
       "                        <td id=\"T_faa90_row7_col1\" class=\"data row7 col1\" >-0.001309</td>\n",
       "                        <td id=\"T_faa90_row7_col2\" class=\"data row7 col2\" >0.003974</td>\n",
       "                        <td id=\"T_faa90_row7_col3\" class=\"data row7 col3\" >0.002476</td>\n",
       "                        <td id=\"T_faa90_row7_col4\" class=\"data row7 col4\" >-0.002283</td>\n",
       "                        <td id=\"T_faa90_row7_col5\" class=\"data row7 col5\" >0.020066</td>\n",
       "                        <td id=\"T_faa90_row7_col6\" class=\"data row7 col6\" >-0.022394</td>\n",
       "                        <td id=\"T_faa90_row7_col7\" class=\"data row7 col7\" >1.000000</td>\n",
       "                        <td id=\"T_faa90_row7_col8\" class=\"data row7 col8\" >-0.258613</td>\n",
       "            </tr>\n",
       "            <tr>\n",
       "                        <th id=\"T_faa90_level0_row8\" class=\"row_heading level0 row8\" >year_publication</th>\n",
       "                        <td id=\"T_faa90_row8_col0\" class=\"data row8 col0\" >-0.040369</td>\n",
       "                        <td id=\"T_faa90_row8_col1\" class=\"data row8 col1\" >-0.067163</td>\n",
       "                        <td id=\"T_faa90_row8_col2\" class=\"data row8 col2\" >-0.076173</td>\n",
       "                        <td id=\"T_faa90_row8_col3\" class=\"data row8 col3\" >-0.054781</td>\n",
       "                        <td id=\"T_faa90_row8_col4\" class=\"data row8 col4\" >-0.053384</td>\n",
       "                        <td id=\"T_faa90_row8_col5\" class=\"data row8 col5\" >0.009917</td>\n",
       "                        <td id=\"T_faa90_row8_col6\" class=\"data row8 col6\" >-0.020657</td>\n",
       "                        <td id=\"T_faa90_row8_col7\" class=\"data row8 col7\" >-0.258613</td>\n",
       "                        <td id=\"T_faa90_row8_col8\" class=\"data row8 col8\" >1.000000</td>\n",
       "            </tr>\n",
       "    </tbody></table>"
      ],
      "text/plain": [
       "<pandas.io.formats.style.Styler at 0x7face7d074f0>"
      ]
     },
     "execution_count": 275,
     "metadata": {},
     "output_type": "execute_result"
    }
   ],
   "source": [
    "def highlight_max(s):\n",
    "    is_max = s == s.max()\n",
    "    return ['background-color: yellow' if v else '' for v in is_max]\n",
    "\n",
    "def highlight_min(s):\n",
    "    is_min = s == s.min()\n",
    "    return ['background-color: lightblue' if v else '' for v in is_min]\n",
    "\n",
    "# Применяем стилизацию к DataFrame\n",
    "styled_corr = correlation_matrix.style.apply(highlight_max, axis=0).apply(highlight_min, axis=0)\n",
    "styled_corr"
   ]
  },
  {
   "cell_type": "markdown",
   "metadata": {},
   "source": [
    "Preprocess the data and remove outliers"
   ]
  },
  {
   "cell_type": "code",
   "execution_count": 276,
   "metadata": {
    "scrolled": true
   },
   "outputs": [
    {
     "data": {
      "image/png": "[encoded data removed]",
      "text/plain": [
       "<Figure size 648x648 with 1 Axes>"
      ]
     },
     "metadata": {
      "needs_background": "light"
     },
     "output_type": "display_data"
    },
    {
     "data": {
      "image/png": "[encoded data removed]",
      "text/plain": [
       "<Figure size 648x648 with 1 Axes>"
      ]
     },
     "metadata": {
      "needs_background": "light"
     },
     "output_type": "display_data"
    },
    {
     "data": {
      "image/png": "[encoded data removed]",
      "text/plain": [
       "<Figure size 648x648 with 1 Axes>"
      ]
     },
     "metadata": {
      "needs_background": "light"
     },
     "output_type": "display_data"
    },
    {
     "data": {
      "image/png": "[encoded data removed]",
      "text/plain": [
       "<Figure size 648x648 with 1 Axes>"
      ]
     },
     "metadata": {
      "needs_background": "light"
     },
     "output_type": "display_data"
    },
    {
     "data": {
      "image/png": "[encoded data removed]",
      "text/plain": [
       "<Figure size 648x648 with 1 Axes>"
      ]
     },
     "metadata": {
      "needs_background": "light"
     },
     "output_type": "display_data"
    },
    {
     "data": {
      "image/png": "[encoded data removed]",
      "text/plain": [
       "<Figure size 648x648 with 1 Axes>"
      ]
     },
     "metadata": {
      "needs_background": "light"
     },
     "output_type": "display_data"
    }
   ],
   "source": [
    "columns = ['days_exposition','rooms','total_area', 'city_centers_nearest', 'kitchen_area', 'living_area']\n",
    "\n",
    "for column in columns:\n",
    "    data.boxplot(column,figsize=(9,9))\n",
    "    plt.show()"
   ]
  },
  {
   "cell_type": "code",
   "execution_count": 277,
   "metadata": {},
   "outputs": [],
   "source": [
    "data = data.query('rooms < 6 and total_area < 250')"
   ]
  },
  {
   "cell_type": "code",
   "execution_count": 278,
   "metadata": {},
   "outputs": [
    {
     "data": {
      "text/plain": [
       "total_images            0.125288\n",
       "last_price              1.000000\n",
       "total_area              0.663118\n",
       "rooms                   0.366323\n",
       "ceiling_height          0.080443\n",
       "floors_total            0.029178\n",
       "living_area             0.559452\n",
       "floor                   0.043660\n",
       "studio                       NaN\n",
       "open_plan                    NaN\n",
       "kitchen_area            0.522867\n",
       "balcony                 0.020489\n",
       "airports_nearest       -0.031434\n",
       "city_centers_nearest   -0.263624\n",
       "parks_around_3000       0.254899\n",
       "parks_nearest           0.166359\n",
       "ponds_around_3000       0.194506\n",
       "ponds_nearest           0.118934\n",
       "days_exposition         0.054945\n",
       "sum_areas               0.631073\n",
       "exceeds_total_area     -0.004006\n",
       "ponds_around3000        0.260299\n",
       "price_square_meter      0.806440\n",
       "day_publication        -0.001348\n",
       "month_publication       0.000636\n",
       "year_publication       -0.040875\n",
       "distance_city_center   -0.264401\n",
       "Name: last_price, dtype: float64"
      ]
     },
     "execution_count": 278,
     "metadata": {},
     "output_type": "execute_result"
    }
   ],
   "source": [
    "data.corr()['last_price']"
   ]
  },
  {
   "cell_type": "markdown",
   "metadata": {},
   "source": [
    "The price of the apartment directly depends on the number of rooms and the total and living area of the apartment."
   ]
  },
  {
   "cell_type": "markdown",
   "metadata": {},
   "source": [
    "Examine the dependence of the apartment price on the following factors:\n",
    "\n",
    "- Total area\n",
    "- Living area\n",
    "- Number of rooms\n",
    "- Floor type\n",
    "- Date of publication (month, year)"
   ]
  },
  {
   "cell_type": "code",
   "execution_count": 279,
   "metadata": {},
   "outputs": [
    {
     "data": {
      "image/png": "[encoded data removed]",
      "text/plain": [
       "<Figure size 360x360 with 1 Axes>"
      ]
     },
     "metadata": {
      "needs_background": "light"
     },
     "output_type": "display_data"
    }
   ],
   "source": [
    "(\n",
    "    data.pivot_table(index='total_area', values='last_price')\n",
    "    .plot(grid=True, style='o', figsize=(5, 5))\n",
    ")\n",
    "plt.title('зависимость цены от общей площади')\n",
    "plt.show()"
   ]
  },
  {
   "cell_type": "code",
   "execution_count": 280,
   "metadata": {},
   "outputs": [
    {
     "data": {
      "image/png": "[encoded data removed]",
      "text/plain": [
       "<Figure size 360x360 with 1 Axes>"
      ]
     },
     "metadata": {
      "needs_background": "light"
     },
     "output_type": "display_data"
    }
   ],
   "source": [
    "(\n",
    "    data.pivot_table(index='living_area', values='last_price')\n",
    "    .plot(grid=True, style='o', figsize=(5, 5))\n",
    ")\n",
    "plt.title('зависимость цены от жилой площади')\n",
    "plt.show()"
   ]
  },
  {
   "cell_type": "code",
   "execution_count": 281,
   "metadata": {},
   "outputs": [
    {
     "data": {
      "image/png": "[encoded data removed]",
      "text/plain": [
       "<Figure size 360x360 with 1 Axes>"
      ]
     },
     "metadata": {
      "needs_background": "light"
     },
     "output_type": "display_data"
    }
   ],
   "source": [
    "(\n",
    "    data.pivot_table(index='rooms', values='last_price')\n",
    "    .plot(grid=True, style='o-', figsize=(5, 5))\n",
    ")\n",
    "plt.title('зависимость цены от числа комнат')\n",
    "plt.show()"
   ]
  },
  {
   "cell_type": "code",
   "execution_count": 282,
   "metadata": {
    "scrolled": true
   },
   "outputs": [
    {
     "data": {
      "image/png": "[encoded data removed]",
      "text/plain": [
       "<Figure size 360x360 with 1 Axes>"
      ]
     },
     "metadata": {
      "needs_background": "light"
     },
     "output_type": "display_data"
    }
   ],
   "source": [
    "(\n",
    "    data.pivot_table(index='floor_group', values='last_price')\n",
    "    .plot(grid=True, style='o-', figsize=(5, 5))\n",
    ")\n",
    "plt.title('зависимость цены типа этажа расположения')\n",
    "plt.show()"
   ]
  },
  {
   "cell_type": "code",
   "execution_count": 283,
   "metadata": {},
   "outputs": [
    {
     "data": {
      "image/png": "[encoded data removed]",
      "text/plain": [
       "<Figure size 360x360 with 1 Axes>"
      ]
     },
     "metadata": {
      "needs_background": "light"
     },
     "output_type": "display_data"
    }
   ],
   "source": [
    "(\n",
    "    data.pivot_table(index='day_publication', values='last_price', aggfunc='median')\n",
    "    .plot(grid=True, style='o-', figsize=(5, 5))\n",
    ")\n",
    "plt.title('зависимость цены от дня публикации')\n",
    "plt.show()"
   ]
  },
  {
   "cell_type": "code",
   "execution_count": 284,
   "metadata": {},
   "outputs": [
    {
     "data": {
      "image/png": "[encoded data removed]",
      "text/plain": [
       "<Figure size 360x360 with 1 Axes>"
      ]
     },
     "metadata": {
      "needs_background": "light"
     },
     "output_type": "display_data"
    }
   ],
   "source": [
    "(\n",
    "    data.pivot_table(index='month_publication', values='last_price', aggfunc='median')\n",
    "    .plot(grid=True, style='o-', figsize=(5, 5))\n",
    ")\n",
    "plt.title('зависимость цены от месяца публикации')\n",
    "plt.show()"
   ]
  },
  {
   "cell_type": "code",
   "execution_count": 285,
   "metadata": {
    "scrolled": true
   },
   "outputs": [
    {
     "data": {
      "image/png": "[encoded data removed]",
      "text/plain": [
       "<Figure size 360x360 with 1 Axes>"
      ]
     },
     "metadata": {
      "needs_background": "light"
     },
     "output_type": "display_data"
    }
   ],
   "source": [
    "(\n",
    "    data.pivot_table(index='year_publication', values='last_price')\n",
    "    .plot(grid=True, style='o-', figsize=(5, 5))\n",
    ")\n",
    "plt.title('зависимость цены от года публикации')\n",
    "plt.show()"
   ]
  },
  {
   "cell_type": "markdown",
   "metadata": {},
   "source": [
    "Conclusion:\n",
    "The graphs clearly show the following trends:\n",
    "\n",
    "- With an increase in total and living area, as well as the number of rooms, the price of apartments tends to rise.\n",
    "- Apartments on the first floor generally have lower prices, which is understandable given the older housing stock in 5 and 9-story buildings where these apartments are typically located.\n",
    "- The price decrease for apartments on the top floor is less pronounced.\n",
    "- Regarding the date of publication, there is typically an increase in prices from autumn to winter, reflecting seasonal trends where sellers may adjust prices.\n",
    "- Looking at the year of publication, the peak in prices in 2014 coincides with economic crises, followed by a decline. From 2018 onwards, there has been a gradual increase in prices, possibly influenced by lower mortgage interest rates and various buyer support programs introduced during this period.  \n",
    "\n",
    "These trends provide insights into the factors influencing apartment prices and the dynamics of the real estate market over time."
   ]
  },
  {
   "cell_type": "markdown",
   "metadata": {},
   "source": [
    "Check what % of data is removed during outlier and anomaly removal"
   ]
  },
  {
   "cell_type": "code",
   "execution_count": 286,
   "metadata": {},
   "outputs": [
    {
     "name": "stdout",
     "output_type": "stream",
     "text": [
      "<class 'pandas.core.frame.DataFrame'>\n",
      "Int64Index: 21126 entries, 0 to 23698\n",
      "Data columns (total 31 columns):\n",
      " #   Column                Non-Null Count  Dtype         \n",
      "---  ------                --------------  -----         \n",
      " 0   total_images          21126 non-null  int64         \n",
      " 1   last_price            21126 non-null  int64         \n",
      " 2   total_area            21126 non-null  float64       \n",
      " 3   first_day_exposition  21126 non-null  datetime64[ns]\n",
      " 4   rooms                 21126 non-null  int64         \n",
      " 5   ceiling_height        21126 non-null  float64       \n",
      " 6   floors_total          21126 non-null  float64       \n",
      " 7   living_area           21126 non-null  float64       \n",
      " 8   floor                 21126 non-null  int64         \n",
      " 9   is_apartment          21126 non-null  object        \n",
      " 10  studio                21126 non-null  bool          \n",
      " 11  open_plan             21126 non-null  bool          \n",
      " 12  kitchen_area          21126 non-null  float64       \n",
      " 13  balcony               21126 non-null  float64       \n",
      " 14  locality_name         21126 non-null  object        \n",
      " 15  airports_nearest      16316 non-null  float64       \n",
      " 16  city_centers_nearest  16335 non-null  float64       \n",
      " 17  parks_around_3000     21126 non-null  int64         \n",
      " 18  parks_nearest         21126 non-null  int64         \n",
      " 19  ponds_around_3000     16336 non-null  float64       \n",
      " 20  ponds_nearest         21126 non-null  int64         \n",
      " 21  days_exposition       21126 non-null  float64       \n",
      " 22  sum_areas             21126 non-null  float64       \n",
      " 23  exceeds_total_area    21126 non-null  bool          \n",
      " 24  ponds_around3000      21126 non-null  int64         \n",
      " 25  price_square_meter    21126 non-null  float64       \n",
      " 26  day_publication       21126 non-null  int64         \n",
      " 27  month_publication     21126 non-null  int64         \n",
      " 28  year_publication      21126 non-null  int64         \n",
      " 29  floor_group           21126 non-null  object        \n",
      " 30  distance_city_center  16335 non-null  float64       \n",
      "dtypes: bool(3), datetime64[ns](1), float64(13), int64(11), object(3)\n",
      "memory usage: 4.7+ MB\n"
     ]
    }
   ],
   "source": [
    "data.info()"
   ]
  },
  {
   "cell_type": "code",
   "execution_count": 287,
   "metadata": {},
   "outputs": [
    {
     "name": "stdout",
     "output_type": "stream",
     "text": [
      "Процент удаленных данных: 10.86%\n"
     ]
    }
   ],
   "source": [
    "# Количество строк в исходном DataFrame\n",
    "initial_count = 23699  \n",
    "\n",
    "# Количество строк в итоговом DataFrame после обработки\n",
    "final_count = 21126  \n",
    "\n",
    "# Расчет процента удаленных данных\n",
    "percentage_removed = ((initial_count - final_count) / initial_count) * 100\n",
    "\n",
    "print(f\"Процент удаленных данных: {percentage_removed:.2f}%\")"
   ]
  },
  {
   "cell_type": "markdown",
   "metadata": {},
   "source": [
    "## Top 10 cities with the most advertisements"
   ]
  },
  {
   "cell_type": "markdown",
   "metadata": {},
   "source": [
    "Select 10 localities with the largest number of advertisements."
   ]
  },
  {
   "cell_type": "code",
   "execution_count": 288,
   "metadata": {},
   "outputs": [
    {
     "name": "stdout",
     "output_type": "stream",
     "text": [
      "санкт-петербург    14099\n",
      "мурино               480\n",
      "шушары               397\n",
      "кудрово              387\n",
      "всеволожск           357\n",
      "пушкин               335\n",
      "колпино              321\n",
      "гатчина              294\n",
      "парголово            289\n",
      "выборг               201\n",
      "Name: locality_name, dtype: int64\n"
     ]
    }
   ],
   "source": [
    "# Шаг 1: Найти 10 самых популярных значений в locality_name\n",
    "data_top = data['locality_name'].value_counts().head(10)\n",
    "print (data_top)"
   ]
  },
  {
   "cell_type": "code",
   "execution_count": 289,
   "metadata": {},
   "outputs": [],
   "source": [
    "# Шаг 2: Отфильтровать строки, где locality_name находится среди 10 самых популярных значений\n",
    "data_top_10 = data.query('locality_name in @data_top.index')"
   ]
  },
  {
   "cell_type": "markdown",
   "metadata": {},
   "source": [
    "Calculate the average price per square meter in the top 10 populated areas"
   ]
  },
  {
   "cell_type": "code",
   "execution_count": 290,
   "metadata": {},
   "outputs": [
    {
     "name": "stdout",
     "output_type": "stream",
     "text": [
      "locality_name\n",
      "выборг              58365.453383\n",
      "гатчина             68692.933639\n",
      "всеволожск          69029.150056\n",
      "колпино             75129.845452\n",
      "шушары              78413.737078\n",
      "мурино              85614.742312\n",
      "парголово           90691.341972\n",
      "кудрово             95242.175917\n",
      "пушкин             103352.162925\n",
      "санкт-петербург    113476.059511\n",
      "Name: price_square_meter, dtype: float64\n"
     ]
    }
   ],
   "source": [
    "data_top_10 = data_top_10.groupby('locality_name')['price_square_meter'].mean()\n",
    "# Сортировка по возрастанию средней цены за квадратный метр\n",
    "data_top_10 = data_top_10.sort_values(ascending=True)\n",
    "\n",
    "# Вывод результата\n",
    "print(data_top_10)"
   ]
  },
  {
   "cell_type": "markdown",
   "metadata": {},
   "source": [
    "The average price per square meter in the specified localities is about 80 thousand rubles (excluding St. Petersburg and Pushkin, where the average price per square meter is 100 thousand rubles)."
   ]
  },
  {
   "cell_type": "code",
   "execution_count": 291,
   "metadata": {},
   "outputs": [
    {
     "name": "stdout",
     "output_type": "stream",
     "text": [
      "         locality_name  price_square_meter  last_price\n",
      "0               выборг        58365.453383     4010000\n",
      "1               выборг        58365.453383     4898000\n",
      "2               выборг        58365.453383     1850000\n",
      "3               выборг        58365.453383     1690000\n",
      "4               выборг        58365.453383     1950000\n",
      "...                ...                 ...         ...\n",
      "17155  санкт-петербург       113476.059511     3550000\n",
      "17156  санкт-петербург       113476.059511     5500000\n",
      "17157  санкт-петербург       113476.059511     9470000\n",
      "17158  санкт-петербург       113476.059511     9700000\n",
      "17159  санкт-петербург       113476.059511    11475000\n",
      "\n",
      "[17160 rows x 3 columns]\n"
     ]
    }
   ],
   "source": [
    "data_top_10 = pd.merge(data_top_10, data[['locality_name', 'last_price']], on='locality_name', how='left')\n",
    "\n",
    "print(data_top_10)"
   ]
  },
  {
   "cell_type": "markdown",
   "metadata": {},
   "source": [
    "Let's highlight apartments in Saint Petersburg 'locality_name'"
   ]
  },
  {
   "cell_type": "code",
   "execution_count": 292,
   "metadata": {
    "scrolled": true
   },
   "outputs": [
    {
     "data": {
      "image/png": "[encoded data removed]",
      "text/plain": [
       "<Figure size 720x360 with 1 Axes>"
      ]
     },
     "metadata": {
      "needs_background": "light"
     },
     "output_type": "display_data"
    }
   ],
   "source": [
    "(\n",
    "    data.query('locality_name == \"санкт-петербург\"')\n",
    "    .pivot_table(index='distance_city_center', values='last_price')\n",
    "    .plot(grid=True, style='o-', xlim=(0,15), figsize=(10, 5))\n",
    ")\n",
    "\n",
    "plt.title('зависимость цены от удаления от центра города в Санкт-Петербурге')\n",
    "plt.xlabel('расстояние от центра города (километр)')\n",
    "plt.ylabel('цена (млн. руб.)')\n",
    "plt.show()"
   ]
  },
  {
   "cell_type": "code",
   "execution_count": 293,
   "metadata": {},
   "outputs": [
    {
     "name": "stdout",
     "output_type": "stream",
     "text": [
      "                       last_price\n",
      "distance_city_center             \n",
      "0.0                   27146922.00\n",
      "1.0                   19297072.15\n",
      "2.0                   15869965.69\n",
      "3.0                    9961604.16\n",
      "4.0                   10887610.06\n",
      "5.0                   11775446.17\n",
      "6.0                   12729646.81\n",
      "7.0                   13612348.67\n",
      "8.0                    9202626.25\n",
      "9.0                    6958211.77\n"
     ]
    }
   ],
   "source": [
    "# Определяем функцию для форматирования числовых значений\n",
    "def format_price(x):\n",
    "    return f'{x:.2f}'  # Два знака после запятой\n",
    "\n",
    "# Создаем сводную таблицу с отформатированными значениями\n",
    "pivot_table = data.query('locality_name == \"санкт-петербург\" and distance_city_center < 10') \\\n",
    "                  .pivot_table(values='last_price', index='distance_city_center') \\\n",
    "                  .apply(lambda x: x.apply(format_price))  # Применяем функцию форматирования\n",
    "\n",
    "print(pivot_table)"
   ]
  },
  {
   "cell_type": "markdown",
   "metadata": {},
   "source": [
    "As expected, the most expensive apartments are in the city center and their cost decreases with increasing distance."
   ]
  },
  {
   "cell_type": "markdown",
   "metadata": {
    "id": "h7VpzkIDAwb-"
   },
   "source": [
    "## General conclusion"
   ]
  },
  {
   "cell_type": "markdown",
   "metadata": {},
   "source": [
    "In the process of studying the advertisements for the sale of apartments, the following stages were completed and conclusions were made::\n",
    "\n",
    "1. In the process of data preprocessing:\n",
    "- renamed the column name, filled in obvious gaps in the table, rounded off the values ​​to significant values, changed the data type in accordance with the data in the columns;\n",
    "- calculated and added a column with the price of one square meter of the object;\n",
    "- allocated data on the day, month and year of publication of the advertisement in separate columns;\n",
    "- added information on the floor of the apartment (first, last, other) to the table;\n",
    "- calculated and allocated information on the distance to the city center in km in a separate column.\n",
    "\n",
    "2. In general, the following conclusions can be made about the advertisements:\n",
    "- most often presented for sale are 1, 2 and 3-room apartments in 5 and 9-story buildings with a total area of ​​40 to 69 sq. m., a kitchen area of ​​6 and 8 sq. m. m, ceiling height of 2.50 - 2.60 meters, the price of the object is 3 - 5 million rubles;\n",
    "- the least frequently presented offers for sale of apartments on the first and last floors. The number of such offers is slightly more than 25% of the total number of offers;\n",
    "- the largest number of offers for sale of apartments in residential areas (at a distance of 12,000 -15,000 meters), as well as at a distance of 5,000 meters from the city center.\n",
    "\n",
    "At the same time, the number of offers for sale does not greatly depend on the distance from the nearest park. The average distance to the park is ~ 200 - 700 meters.\n",
    "\n",
    "\n",
    "3. The average time to sell an apartment is ~ 156 days, with the median value being 74 days, which more accurately characterizes the average time to sell, as it does not depend on outliers and non-standard values.\n",
    "\n",
    "On average, the sale of an average apartment takes 2-3 months, depending on related factors (area, price, distance from the center).\n",
    "\n",
    "Fast sales can be considered sales that took place in the first quartile (~ 30 days), and unusually long sales after 199 days or more (after the 3rd quartile).\n",
    "\n",
    "4. With the increase in the total and living area, as well as the number of rooms, the cost of apartments also increases. The price of apartments on the first floor drops sharply. The price of apartments on the top floor decreases less obviously. In general, this trend is understandable, given that most of the offers are apartments in 5 and 9-story buildings - this is an old housing stock and it is obvious that it is impossible to sell apartments on the first floor at the same price as on another floor.\n",
    "\n",
    "Seasonal dependence of the cost of apartments:\n",
    "- usually in the fall and before winter there is an increase in sales, so sellers begin to raise the price.\n",
    "\n",
    "- dependence on the year of sale - everything is obvious here. In 2014, the peak of the cost due to the economic crisis, then a decrease, and then in 2018 again an increase due to a gradual decrease in %% rates on mortgages in the lending market as a whole, as well as the beginning and gradual development of various support programs for buyers (mortgages for young families at a lower %% rate).\n",
    "\n",
    "5. Among the 10 localities with the largest number of ads, the average price per square meter is about 80 thousand rubles (excluding St. Petersburg and Pushkin, where the average price per square meter is 100 thousand rubles).\n",
    "\n",
    "6. The highest average cost per square meter, as expected, is in St. Petersburg, followed by Pushkin. The lowest cost per square meter is in Metallostroy, Krasnoe Selo and Murino, which is also obvious (distance from St. Petersburg/unfavorable environment (Murino)).\n",
    "\n",
    "7. As for advertisements for the sale of apartments in St. Petersburg, everything is also obvious here - in the center, apartments are more expensive, and the further away, the price decreases. \n"
   ]
  }
 ],
 "metadata": {
  "ExecuteTimeLog": [
   {
    "duration": 1012,
    "start_time": "2024-06-05T08:38:49.165Z"
   },
   {
    "duration": 85,
    "start_time": "2024-06-05T08:45:43.606Z"
   },
   {
    "duration": 85,
    "start_time": "2024-06-05T08:50:08.309Z"
   },
   {
    "duration": 95,
    "start_time": "2024-06-05T08:50:57.317Z"
   },
   {
    "duration": 88,
    "start_time": "2024-06-05T08:51:24.321Z"
   },
   {
    "duration": 93,
    "start_time": "2024-06-05T08:52:14.386Z"
   },
   {
    "duration": 69,
    "start_time": "2024-06-05T08:58:27.571Z"
   },
   {
    "duration": 47,
    "start_time": "2024-06-05T08:58:40.855Z"
   },
   {
    "duration": 34,
    "start_time": "2024-06-05T09:25:53.349Z"
   },
   {
    "duration": 107,
    "start_time": "2024-06-05T09:25:58.780Z"
   },
   {
    "duration": 33,
    "start_time": "2024-06-05T09:26:08.511Z"
   },
   {
    "duration": 21,
    "start_time": "2024-06-05T09:27:47.024Z"
   },
   {
    "duration": 33,
    "start_time": "2024-06-05T09:28:20.185Z"
   },
   {
    "duration": 52,
    "start_time": "2024-06-05T09:28:54.529Z"
   },
   {
    "duration": 3125,
    "start_time": "2024-06-05T09:31:19.505Z"
   },
   {
    "duration": 8,
    "start_time": "2024-06-05T10:15:52.728Z"
   },
   {
    "duration": 9,
    "start_time": "2024-06-05T10:22:25.647Z"
   },
   {
    "duration": 9,
    "start_time": "2024-06-05T10:22:39.107Z"
   },
   {
    "duration": 8,
    "start_time": "2024-06-05T11:22:02.811Z"
   },
   {
    "duration": 3,
    "start_time": "2024-06-05T11:22:19.491Z"
   },
   {
    "duration": 7,
    "start_time": "2024-06-05T11:29:20.127Z"
   },
   {
    "duration": 6,
    "start_time": "2024-06-05T11:29:27.379Z"
   },
   {
    "duration": 7,
    "start_time": "2024-06-05T11:37:26.306Z"
   },
   {
    "duration": 13,
    "start_time": "2024-06-05T11:54:15.586Z"
   },
   {
    "duration": 4,
    "start_time": "2024-06-05T12:03:32.663Z"
   },
   {
    "duration": 3,
    "start_time": "2024-06-05T12:06:54.272Z"
   },
   {
    "duration": 7,
    "start_time": "2024-06-05T12:07:34.115Z"
   },
   {
    "duration": 4,
    "start_time": "2024-06-05T12:33:10.826Z"
   },
   {
    "duration": 52,
    "start_time": "2024-06-05T12:36:52.027Z"
   },
   {
    "duration": 4,
    "start_time": "2024-06-05T12:37:03.954Z"
   },
   {
    "duration": 3,
    "start_time": "2024-06-05T12:41:52.177Z"
   },
   {
    "duration": 39,
    "start_time": "2024-06-05T12:42:20.455Z"
   },
   {
    "duration": 37,
    "start_time": "2024-06-05T12:43:02.202Z"
   },
   {
    "duration": 11,
    "start_time": "2024-06-05T12:56:56.015Z"
   },
   {
    "duration": 4,
    "start_time": "2024-06-05T14:15:13.458Z"
   },
   {
    "duration": 39,
    "start_time": "2024-06-05T14:15:35.929Z"
   },
   {
    "duration": 38,
    "start_time": "2024-06-05T14:15:57.587Z"
   },
   {
    "duration": 37,
    "start_time": "2024-06-05T14:16:07.918Z"
   },
   {
    "duration": 38,
    "start_time": "2024-06-05T14:16:29.201Z"
   },
   {
    "duration": 11,
    "start_time": "2024-06-05T14:16:35.559Z"
   },
   {
    "duration": 3,
    "start_time": "2024-06-05T14:16:36.772Z"
   },
   {
    "duration": 37,
    "start_time": "2024-06-05T14:16:38.044Z"
   },
   {
    "duration": 5,
    "start_time": "2024-06-05T14:20:35.215Z"
   },
   {
    "duration": 4,
    "start_time": "2024-06-05T14:22:17.358Z"
   },
   {
    "duration": 5,
    "start_time": "2024-06-05T14:56:24.299Z"
   },
   {
    "duration": 35,
    "start_time": "2024-06-05T14:58:36.498Z"
   },
   {
    "duration": 5,
    "start_time": "2024-06-05T15:11:22.606Z"
   },
   {
    "duration": 5,
    "start_time": "2024-06-05T15:18:54.941Z"
   },
   {
    "duration": 38,
    "start_time": "2024-06-05T15:19:02.643Z"
   },
   {
    "duration": 5,
    "start_time": "2024-06-05T15:19:31.744Z"
   },
   {
    "duration": 5,
    "start_time": "2024-06-05T15:23:11.160Z"
   },
   {
    "duration": 5,
    "start_time": "2024-06-05T15:26:05.861Z"
   },
   {
    "duration": 8,
    "start_time": "2024-06-05T15:27:57.042Z"
   },
   {
    "duration": 4,
    "start_time": "2024-06-05T15:35:00.700Z"
   },
   {
    "duration": 37,
    "start_time": "2024-06-05T15:35:09.877Z"
   },
   {
    "duration": 3,
    "start_time": "2024-06-05T15:35:31.490Z"
   },
   {
    "duration": 3,
    "start_time": "2024-06-05T15:37:47.619Z"
   },
   {
    "duration": 107,
    "start_time": "2024-06-05T15:37:47.627Z"
   },
   {
    "duration": 19,
    "start_time": "2024-06-05T15:37:47.736Z"
   },
   {
    "duration": 33,
    "start_time": "2024-06-05T15:37:47.757Z"
   },
   {
    "duration": 2973,
    "start_time": "2024-06-05T15:37:47.791Z"
   },
   {
    "duration": 12,
    "start_time": "2024-06-05T15:37:50.767Z"
   },
   {
    "duration": 58,
    "start_time": "2024-06-05T15:37:50.781Z"
   },
   {
    "duration": 14,
    "start_time": "2024-06-05T15:37:50.841Z"
   },
   {
    "duration": 22,
    "start_time": "2024-06-05T15:37:50.857Z"
   },
   {
    "duration": 15,
    "start_time": "2024-06-05T15:37:50.880Z"
   },
   {
    "duration": 17,
    "start_time": "2024-06-05T15:37:50.897Z"
   },
   {
    "duration": 19,
    "start_time": "2024-06-05T15:37:50.916Z"
   },
   {
    "duration": 7,
    "start_time": "2024-06-05T15:37:50.938Z"
   },
   {
    "duration": 57,
    "start_time": "2024-06-05T15:37:50.946Z"
   },
   {
    "duration": 11,
    "start_time": "2024-06-05T15:37:51.006Z"
   },
   {
    "duration": 27,
    "start_time": "2024-06-05T15:37:51.018Z"
   },
   {
    "duration": 15,
    "start_time": "2024-06-05T15:37:51.047Z"
   },
   {
    "duration": 24,
    "start_time": "2024-06-05T15:37:51.064Z"
   },
   {
    "duration": 17,
    "start_time": "2024-06-05T15:37:51.090Z"
   },
   {
    "duration": 6,
    "start_time": "2024-06-05T15:37:51.109Z"
   },
   {
    "duration": 8,
    "start_time": "2024-06-05T15:37:51.116Z"
   },
   {
    "duration": 9,
    "start_time": "2024-06-05T15:37:51.126Z"
   },
   {
    "duration": 10,
    "start_time": "2024-06-05T15:37:51.136Z"
   },
   {
    "duration": 20,
    "start_time": "2024-06-05T15:37:51.147Z"
   },
   {
    "duration": 11,
    "start_time": "2024-06-05T15:37:51.169Z"
   },
   {
    "duration": 7,
    "start_time": "2024-06-05T15:38:08.588Z"
   },
   {
    "duration": 9,
    "start_time": "2024-06-05T15:38:15.895Z"
   },
   {
    "duration": 708,
    "start_time": "2024-06-05T15:48:44.011Z"
   },
   {
    "duration": 6,
    "start_time": "2024-06-05T15:48:57.958Z"
   },
   {
    "duration": 11,
    "start_time": "2024-06-05T15:51:55.660Z"
   },
   {
    "duration": 227,
    "start_time": "2024-06-05T16:08:15.269Z"
   },
   {
    "duration": 263,
    "start_time": "2024-06-05T16:08:36.066Z"
   },
   {
    "duration": 5,
    "start_time": "2024-06-05T16:09:22.138Z"
   },
   {
    "duration": 960,
    "start_time": "2024-06-06T07:09:41.101Z"
   },
   {
    "duration": 268,
    "start_time": "2024-06-06T07:09:42.063Z"
   },
   {
    "duration": 28,
    "start_time": "2024-06-06T07:09:42.332Z"
   },
   {
    "duration": 44,
    "start_time": "2024-06-06T07:09:42.362Z"
   },
   {
    "duration": 3874,
    "start_time": "2024-06-06T07:09:42.408Z"
   },
   {
    "duration": 15,
    "start_time": "2024-06-06T07:09:46.285Z"
   },
   {
    "duration": 49,
    "start_time": "2024-06-06T07:09:46.302Z"
   },
   {
    "duration": 4,
    "start_time": "2024-06-06T07:09:46.353Z"
   },
   {
    "duration": 10,
    "start_time": "2024-06-06T07:09:46.359Z"
   },
   {
    "duration": 17,
    "start_time": "2024-06-06T07:09:46.370Z"
   },
   {
    "duration": 20,
    "start_time": "2024-06-06T07:09:46.389Z"
   },
   {
    "duration": 6,
    "start_time": "2024-06-06T07:09:46.411Z"
   },
   {
    "duration": 56,
    "start_time": "2024-06-06T07:09:46.420Z"
   },
   {
    "duration": 116,
    "start_time": "2024-06-06T07:09:46.479Z"
   },
   {
    "duration": 31,
    "start_time": "2024-06-06T07:09:46.598Z"
   },
   {
    "duration": 57,
    "start_time": "2024-06-06T07:09:46.631Z"
   },
   {
    "duration": 13,
    "start_time": "2024-06-06T07:09:46.690Z"
   },
   {
    "duration": 5,
    "start_time": "2024-06-06T07:09:46.705Z"
   },
   {
    "duration": 11,
    "start_time": "2024-06-06T07:09:46.712Z"
   },
   {
    "duration": 31,
    "start_time": "2024-06-06T07:09:46.724Z"
   },
   {
    "duration": 20,
    "start_time": "2024-06-06T07:09:46.757Z"
   },
   {
    "duration": 23,
    "start_time": "2024-06-06T07:09:46.779Z"
   },
   {
    "duration": 16,
    "start_time": "2024-06-06T07:09:46.804Z"
   },
   {
    "duration": 13,
    "start_time": "2024-06-06T07:09:46.822Z"
   },
   {
    "duration": 18,
    "start_time": "2024-06-06T07:09:46.837Z"
   },
   {
    "duration": 20,
    "start_time": "2024-06-06T07:09:46.857Z"
   },
   {
    "duration": 6,
    "start_time": "2024-06-06T07:09:46.880Z"
   },
   {
    "duration": 28,
    "start_time": "2024-06-06T07:09:46.888Z"
   },
   {
    "duration": 322,
    "start_time": "2024-06-06T07:09:46.918Z"
   },
   {
    "duration": 38,
    "start_time": "2024-06-06T07:24:53.635Z"
   },
   {
    "duration": 7,
    "start_time": "2024-06-06T07:42:06.898Z"
   },
   {
    "duration": 20,
    "start_time": "2024-06-06T07:42:18.456Z"
   },
   {
    "duration": 6,
    "start_time": "2024-06-06T07:44:12.592Z"
   },
   {
    "duration": 3,
    "start_time": "2024-06-06T07:44:19.918Z"
   },
   {
    "duration": 127,
    "start_time": "2024-06-06T07:44:19.925Z"
   },
   {
    "duration": 29,
    "start_time": "2024-06-06T07:44:20.054Z"
   },
   {
    "duration": 41,
    "start_time": "2024-06-06T07:44:20.085Z"
   },
   {
    "duration": 3812,
    "start_time": "2024-06-06T07:44:20.161Z"
   },
   {
    "duration": 11,
    "start_time": "2024-06-06T07:44:23.976Z"
   },
   {
    "duration": 12,
    "start_time": "2024-06-06T07:44:23.988Z"
   },
   {
    "duration": 4,
    "start_time": "2024-06-06T07:44:24.002Z"
   },
   {
    "duration": 9,
    "start_time": "2024-06-06T07:44:24.007Z"
   },
   {
    "duration": 43,
    "start_time": "2024-06-06T07:44:24.018Z"
   },
   {
    "duration": 6,
    "start_time": "2024-06-06T07:44:24.064Z"
   },
   {
    "duration": 12,
    "start_time": "2024-06-06T07:44:24.071Z"
   },
   {
    "duration": 6,
    "start_time": "2024-06-06T07:44:24.085Z"
   },
   {
    "duration": 47,
    "start_time": "2024-06-06T07:44:24.093Z"
   },
   {
    "duration": 29,
    "start_time": "2024-06-06T07:44:24.142Z"
   },
   {
    "duration": 5,
    "start_time": "2024-06-06T07:44:24.173Z"
   },
   {
    "duration": 7,
    "start_time": "2024-06-06T07:44:24.180Z"
   },
   {
    "duration": 8,
    "start_time": "2024-06-06T07:44:24.189Z"
   },
   {
    "duration": 20,
    "start_time": "2024-06-06T07:44:24.198Z"
   },
   {
    "duration": 7,
    "start_time": "2024-06-06T07:44:24.220Z"
   },
   {
    "duration": 8,
    "start_time": "2024-06-06T07:44:24.229Z"
   },
   {
    "duration": 26,
    "start_time": "2024-06-06T07:44:24.239Z"
   },
   {
    "duration": 10,
    "start_time": "2024-06-06T07:44:24.267Z"
   },
   {
    "duration": 6,
    "start_time": "2024-06-06T07:44:24.279Z"
   },
   {
    "duration": 23,
    "start_time": "2024-06-06T07:44:24.287Z"
   },
   {
    "duration": 14,
    "start_time": "2024-06-06T07:44:24.312Z"
   },
   {
    "duration": 11,
    "start_time": "2024-06-06T07:44:24.328Z"
   },
   {
    "duration": 35,
    "start_time": "2024-06-06T07:44:24.341Z"
   },
   {
    "duration": 298,
    "start_time": "2024-06-06T07:44:24.380Z"
   },
   {
    "duration": 15,
    "start_time": "2024-06-06T07:44:24.680Z"
   },
   {
    "duration": 9,
    "start_time": "2024-06-06T08:29:21.499Z"
   },
   {
    "duration": 13,
    "start_time": "2024-06-06T08:36:11.626Z"
   },
   {
    "duration": 5,
    "start_time": "2024-06-06T08:36:32.005Z"
   },
   {
    "duration": 6,
    "start_time": "2024-06-06T08:36:39.945Z"
   },
   {
    "duration": 5,
    "start_time": "2024-06-06T08:37:21.102Z"
   },
   {
    "duration": 111,
    "start_time": "2024-06-06T08:41:05.796Z"
   },
   {
    "duration": 370,
    "start_time": "2024-06-06T08:47:47.125Z"
   },
   {
    "duration": 262,
    "start_time": "2024-06-06T08:47:59.199Z"
   },
   {
    "duration": 275,
    "start_time": "2024-06-06T08:48:33.547Z"
   },
   {
    "duration": 24,
    "start_time": "2024-06-06T08:51:09.955Z"
   },
   {
    "duration": 18,
    "start_time": "2024-06-06T08:52:04.636Z"
   },
   {
    "duration": 4,
    "start_time": "2024-06-06T09:05:06.223Z"
   },
   {
    "duration": 388,
    "start_time": "2024-06-06T09:07:06.847Z"
   },
   {
    "duration": 15,
    "start_time": "2024-06-06T09:07:38.048Z"
   },
   {
    "duration": 3,
    "start_time": "2024-06-06T09:08:11.536Z"
   },
   {
    "duration": 496,
    "start_time": "2024-06-06T09:08:15.046Z"
   },
   {
    "duration": 16,
    "start_time": "2024-06-06T09:08:41.936Z"
   },
   {
    "duration": 10,
    "start_time": "2024-06-06T09:17:22.516Z"
   },
   {
    "duration": 6,
    "start_time": "2024-06-06T09:17:48.596Z"
   },
   {
    "duration": 16,
    "start_time": "2024-06-06T09:19:19.546Z"
   },
   {
    "duration": 10,
    "start_time": "2024-06-06T09:20:06.886Z"
   },
   {
    "duration": 11,
    "start_time": "2024-06-06T09:20:29.995Z"
   },
   {
    "duration": 12,
    "start_time": "2024-06-06T10:10:41.721Z"
   },
   {
    "duration": 13,
    "start_time": "2024-06-06T10:15:29.831Z"
   },
   {
    "duration": 276,
    "start_time": "2024-06-06T10:15:57.028Z"
   },
   {
    "duration": 52,
    "start_time": "2024-06-06T13:13:43.393Z"
   },
   {
    "duration": 830,
    "start_time": "2024-06-06T13:14:01.250Z"
   },
   {
    "duration": 309,
    "start_time": "2024-06-06T13:14:02.082Z"
   },
   {
    "duration": 27,
    "start_time": "2024-06-06T13:14:02.392Z"
   },
   {
    "duration": 46,
    "start_time": "2024-06-06T13:14:02.421Z"
   },
   {
    "duration": 3868,
    "start_time": "2024-06-06T13:14:02.468Z"
   },
   {
    "duration": 10,
    "start_time": "2024-06-06T13:14:06.337Z"
   },
   {
    "duration": 11,
    "start_time": "2024-06-06T13:14:06.348Z"
   },
   {
    "duration": 4,
    "start_time": "2024-06-06T13:14:06.361Z"
   },
   {
    "duration": 8,
    "start_time": "2024-06-06T13:14:06.367Z"
   },
   {
    "duration": 10,
    "start_time": "2024-06-06T13:14:06.377Z"
   },
   {
    "duration": 21,
    "start_time": "2024-06-06T13:14:06.388Z"
   },
   {
    "duration": 28,
    "start_time": "2024-06-06T13:14:06.411Z"
   },
   {
    "duration": 30,
    "start_time": "2024-06-06T13:14:06.440Z"
   },
   {
    "duration": 47,
    "start_time": "2024-06-06T13:14:06.471Z"
   },
   {
    "duration": 12,
    "start_time": "2024-06-06T13:14:06.519Z"
   },
   {
    "duration": 7,
    "start_time": "2024-06-06T13:14:06.532Z"
   },
   {
    "duration": 13,
    "start_time": "2024-06-06T13:14:06.540Z"
   },
   {
    "duration": 13,
    "start_time": "2024-06-06T13:14:06.555Z"
   },
   {
    "duration": 11,
    "start_time": "2024-06-06T13:14:06.569Z"
   },
   {
    "duration": 13,
    "start_time": "2024-06-06T13:14:06.581Z"
   },
   {
    "duration": 6,
    "start_time": "2024-06-06T13:14:06.596Z"
   },
   {
    "duration": 5,
    "start_time": "2024-06-06T13:14:06.604Z"
   },
   {
    "duration": 23,
    "start_time": "2024-06-06T13:14:06.611Z"
   },
   {
    "duration": 12,
    "start_time": "2024-06-06T13:14:06.636Z"
   },
   {
    "duration": 8,
    "start_time": "2024-06-06T13:14:06.658Z"
   },
   {
    "duration": 12,
    "start_time": "2024-06-06T13:14:06.668Z"
   },
   {
    "duration": 6,
    "start_time": "2024-06-06T13:14:06.681Z"
   },
   {
    "duration": 26,
    "start_time": "2024-06-06T13:14:06.690Z"
   },
   {
    "duration": 262,
    "start_time": "2024-06-06T13:14:06.718Z"
   },
   {
    "duration": 15,
    "start_time": "2024-06-06T13:14:06.982Z"
   },
   {
    "duration": 8,
    "start_time": "2024-06-06T13:14:06.998Z"
   },
   {
    "duration": 13,
    "start_time": "2024-06-06T13:14:07.007Z"
   },
   {
    "duration": 34,
    "start_time": "2024-06-06T13:14:07.022Z"
   },
   {
    "duration": 6,
    "start_time": "2024-06-06T13:14:07.058Z"
   },
   {
    "duration": 6,
    "start_time": "2024-06-06T13:14:07.066Z"
   },
   {
    "duration": 6,
    "start_time": "2024-06-06T13:14:07.074Z"
   },
   {
    "duration": 382,
    "start_time": "2024-06-06T13:14:07.082Z"
   },
   {
    "duration": 6,
    "start_time": "2024-06-06T13:14:07.466Z"
   },
   {
    "duration": 11,
    "start_time": "2024-06-06T13:14:07.474Z"
   },
   {
    "duration": 275,
    "start_time": "2024-06-06T13:14:07.487Z"
   },
   {
    "duration": 9,
    "start_time": "2024-06-06T13:14:07.776Z"
   },
   {
    "duration": 275,
    "start_time": "2024-06-06T13:25:01.841Z"
   },
   {
    "duration": 250,
    "start_time": "2024-06-06T13:25:47.929Z"
   },
   {
    "duration": 421,
    "start_time": "2024-06-06T13:26:56.792Z"
   },
   {
    "duration": 270,
    "start_time": "2024-06-06T13:27:20.495Z"
   },
   {
    "duration": 9,
    "start_time": "2024-06-06T13:33:51.136Z"
   },
   {
    "duration": 251,
    "start_time": "2024-06-06T13:35:10.197Z"
   },
   {
    "duration": 265,
    "start_time": "2024-06-06T13:39:45.039Z"
   },
   {
    "duration": 254,
    "start_time": "2024-06-06T13:40:01.847Z"
   },
   {
    "duration": 382,
    "start_time": "2024-06-06T13:40:30.044Z"
   },
   {
    "duration": 251,
    "start_time": "2024-06-06T13:40:48.870Z"
   },
   {
    "duration": 291,
    "start_time": "2024-06-06T13:43:24.935Z"
   },
   {
    "duration": 292,
    "start_time": "2024-06-06T13:43:52.308Z"
   },
   {
    "duration": 264,
    "start_time": "2024-06-06T13:46:39.299Z"
   },
   {
    "duration": 259,
    "start_time": "2024-06-06T13:46:54.815Z"
   },
   {
    "duration": 489,
    "start_time": "2024-06-06T13:53:07.528Z"
   },
   {
    "duration": 12,
    "start_time": "2024-06-06T13:53:44.773Z"
   },
   {
    "duration": 341,
    "start_time": "2024-06-06T13:55:14.555Z"
   },
   {
    "duration": 273,
    "start_time": "2024-06-06T13:56:28.923Z"
   },
   {
    "duration": 260,
    "start_time": "2024-06-06T13:57:21.071Z"
   },
   {
    "duration": 279,
    "start_time": "2024-06-06T13:57:30.547Z"
   },
   {
    "duration": 344,
    "start_time": "2024-06-06T13:58:01.778Z"
   },
   {
    "duration": 251,
    "start_time": "2024-06-06T13:59:09.781Z"
   },
   {
    "duration": 39,
    "start_time": "2024-06-06T14:10:48.366Z"
   },
   {
    "duration": 154,
    "start_time": "2024-06-06T14:11:01.964Z"
   },
   {
    "duration": 9,
    "start_time": "2024-06-06T14:15:48.331Z"
   },
   {
    "duration": 202,
    "start_time": "2024-06-06T14:22:23.945Z"
   },
   {
    "duration": 190,
    "start_time": "2024-06-06T14:22:35.432Z"
   },
   {
    "duration": 199,
    "start_time": "2024-06-06T14:23:12.134Z"
   },
   {
    "duration": 209,
    "start_time": "2024-06-06T14:23:22.820Z"
   },
   {
    "duration": 220,
    "start_time": "2024-06-06T14:23:42.793Z"
   },
   {
    "duration": 192,
    "start_time": "2024-06-06T14:23:54.367Z"
   },
   {
    "duration": 206,
    "start_time": "2024-06-06T14:24:08.105Z"
   },
   {
    "duration": 310,
    "start_time": "2024-06-06T14:26:21.322Z"
   },
   {
    "duration": 769,
    "start_time": "2024-06-07T05:55:52.026Z"
   },
   {
    "duration": 240,
    "start_time": "2024-06-07T05:55:52.796Z"
   },
   {
    "duration": 23,
    "start_time": "2024-06-07T05:55:53.037Z"
   },
   {
    "duration": 37,
    "start_time": "2024-06-07T05:55:53.061Z"
   },
   {
    "duration": 3356,
    "start_time": "2024-06-07T05:55:53.100Z"
   },
   {
    "duration": 9,
    "start_time": "2024-06-07T05:55:56.458Z"
   },
   {
    "duration": 10,
    "start_time": "2024-06-07T05:55:56.468Z"
   },
   {
    "duration": 3,
    "start_time": "2024-06-07T05:55:56.480Z"
   },
   {
    "duration": 19,
    "start_time": "2024-06-07T05:55:56.484Z"
   },
   {
    "duration": 18,
    "start_time": "2024-06-07T05:55:56.505Z"
   },
   {
    "duration": 17,
    "start_time": "2024-06-07T05:55:56.525Z"
   },
   {
    "duration": 4,
    "start_time": "2024-06-07T05:55:56.544Z"
   },
   {
    "duration": 9,
    "start_time": "2024-06-07T05:55:56.549Z"
   },
   {
    "duration": 51,
    "start_time": "2024-06-07T05:55:56.561Z"
   },
   {
    "duration": 20,
    "start_time": "2024-06-07T05:55:56.614Z"
   },
   {
    "duration": 6,
    "start_time": "2024-06-07T05:55:56.636Z"
   },
   {
    "duration": 21,
    "start_time": "2024-06-07T05:55:56.644Z"
   },
   {
    "duration": 5,
    "start_time": "2024-06-07T05:55:56.667Z"
   },
   {
    "duration": 9,
    "start_time": "2024-06-07T05:55:56.673Z"
   },
   {
    "duration": 6,
    "start_time": "2024-06-07T05:55:56.683Z"
   },
   {
    "duration": 11,
    "start_time": "2024-06-07T05:55:56.690Z"
   },
   {
    "duration": 5,
    "start_time": "2024-06-07T05:55:56.703Z"
   },
   {
    "duration": 4,
    "start_time": "2024-06-07T05:55:56.710Z"
   },
   {
    "duration": 6,
    "start_time": "2024-06-07T05:55:56.716Z"
   },
   {
    "duration": 9,
    "start_time": "2024-06-07T05:55:56.724Z"
   },
   {
    "duration": 32,
    "start_time": "2024-06-07T05:55:56.735Z"
   },
   {
    "duration": 5,
    "start_time": "2024-06-07T05:55:56.768Z"
   },
   {
    "duration": 141,
    "start_time": "2024-06-07T05:55:56.774Z"
   },
   {
    "duration": 221,
    "start_time": "2024-06-07T05:55:56.917Z"
   },
   {
    "duration": 13,
    "start_time": "2024-06-07T05:55:57.140Z"
   },
   {
    "duration": 14,
    "start_time": "2024-06-07T05:55:57.154Z"
   },
   {
    "duration": 10,
    "start_time": "2024-06-07T05:55:57.170Z"
   },
   {
    "duration": 4,
    "start_time": "2024-06-07T05:55:57.181Z"
   },
   {
    "duration": 5,
    "start_time": "2024-06-07T05:55:57.186Z"
   },
   {
    "duration": 5,
    "start_time": "2024-06-07T05:55:57.192Z"
   },
   {
    "duration": 4,
    "start_time": "2024-06-07T05:55:57.198Z"
   },
   {
    "duration": 342,
    "start_time": "2024-06-07T05:55:57.204Z"
   },
   {
    "duration": 7,
    "start_time": "2024-06-07T05:55:57.548Z"
   },
   {
    "duration": 9,
    "start_time": "2024-06-07T05:55:57.564Z"
   },
   {
    "duration": 245,
    "start_time": "2024-06-07T05:55:57.575Z"
   },
   {
    "duration": 8,
    "start_time": "2024-06-07T05:55:57.824Z"
   },
   {
    "duration": 244,
    "start_time": "2024-06-07T05:55:57.834Z"
   },
   {
    "duration": 8,
    "start_time": "2024-06-07T05:55:58.079Z"
   },
   {
    "duration": 245,
    "start_time": "2024-06-07T05:55:58.088Z"
   },
   {
    "duration": 8,
    "start_time": "2024-06-07T05:55:58.335Z"
   },
   {
    "duration": 355,
    "start_time": "2024-06-07T05:55:58.344Z"
   },
   {
    "duration": 137,
    "start_time": "2024-06-07T05:55:58.700Z"
   },
   {
    "duration": 8,
    "start_time": "2024-06-07T05:55:58.838Z"
   },
   {
    "duration": 246,
    "start_time": "2024-06-07T05:55:58.848Z"
   },
   {
    "duration": 74,
    "start_time": "2024-06-07T09:55:15.155Z"
   },
   {
    "duration": 23,
    "start_time": "2024-06-07T09:55:41.088Z"
   },
   {
    "duration": 139,
    "start_time": "2024-06-07T09:57:26.671Z"
   },
   {
    "duration": 162,
    "start_time": "2024-06-07T09:59:33.797Z"
   },
   {
    "duration": 68,
    "start_time": "2024-06-07T10:02:32.804Z"
   },
   {
    "duration": 163,
    "start_time": "2024-06-07T10:04:09.019Z"
   },
   {
    "duration": 8,
    "start_time": "2024-06-07T10:15:46.405Z"
   },
   {
    "duration": 10,
    "start_time": "2024-06-07T10:15:57.059Z"
   },
   {
    "duration": 229,
    "start_time": "2024-06-07T10:17:11.681Z"
   },
   {
    "duration": 312,
    "start_time": "2024-06-07T10:17:38.584Z"
   },
   {
    "duration": 13,
    "start_time": "2024-06-07T11:16:58.526Z"
   },
   {
    "duration": 14,
    "start_time": "2024-06-07T11:17:58.876Z"
   },
   {
    "duration": 252,
    "start_time": "2024-06-07T11:18:23.724Z"
   },
   {
    "duration": 9,
    "start_time": "2024-06-07T11:21:00.687Z"
   },
   {
    "duration": 10,
    "start_time": "2024-06-07T11:21:44.403Z"
   },
   {
    "duration": 261,
    "start_time": "2024-06-07T11:21:56.985Z"
   },
   {
    "duration": 11,
    "start_time": "2024-06-07T12:43:35.139Z"
   },
   {
    "duration": 14,
    "start_time": "2024-06-07T12:44:39.192Z"
   },
   {
    "duration": 1093,
    "start_time": "2024-06-07T12:44:56.401Z"
   },
   {
    "duration": 134,
    "start_time": "2024-06-07T12:45:14.254Z"
   },
   {
    "duration": 238,
    "start_time": "2024-06-07T12:45:47.761Z"
   },
   {
    "duration": 226,
    "start_time": "2024-06-07T12:46:25.091Z"
   },
   {
    "duration": 19,
    "start_time": "2024-06-07T13:17:45.301Z"
   },
   {
    "duration": 22,
    "start_time": "2024-06-07T13:22:02.926Z"
   },
   {
    "duration": 15,
    "start_time": "2024-06-07T13:22:37.934Z"
   },
   {
    "duration": 15,
    "start_time": "2024-06-07T13:25:16.437Z"
   },
   {
    "duration": 15,
    "start_time": "2024-06-07T13:25:33.367Z"
   },
   {
    "duration": 23,
    "start_time": "2024-06-07T13:41:50.129Z"
   },
   {
    "duration": 14,
    "start_time": "2024-06-07T13:42:07.144Z"
   },
   {
    "duration": 3,
    "start_time": "2024-06-07T13:42:15.369Z"
   },
   {
    "duration": 8,
    "start_time": "2024-06-07T13:42:28.231Z"
   },
   {
    "duration": 562,
    "start_time": "2024-06-07T13:43:40.704Z"
   },
   {
    "duration": 25,
    "start_time": "2024-06-07T13:46:58.815Z"
   },
   {
    "duration": 16,
    "start_time": "2024-06-07T13:47:10.107Z"
   },
   {
    "duration": 34,
    "start_time": "2024-06-07T13:47:15.751Z"
   },
   {
    "duration": 31,
    "start_time": "2024-06-07T13:47:57.265Z"
   },
   {
    "duration": 29,
    "start_time": "2024-06-07T13:48:02.709Z"
   },
   {
    "duration": 17,
    "start_time": "2024-06-07T13:50:33.722Z"
   },
   {
    "duration": 55,
    "start_time": "2024-06-07T14:13:29.279Z"
   },
   {
    "duration": 25,
    "start_time": "2024-06-07T14:14:09.875Z"
   },
   {
    "duration": 15,
    "start_time": "2024-06-07T14:14:39.019Z"
   },
   {
    "duration": 35,
    "start_time": "2024-06-07T14:15:19.735Z"
   },
   {
    "duration": 29,
    "start_time": "2024-06-07T14:15:27.328Z"
   },
   {
    "duration": 21,
    "start_time": "2024-06-07T14:16:13.550Z"
   },
   {
    "duration": 30,
    "start_time": "2024-06-07T14:16:26.814Z"
   },
   {
    "duration": 28,
    "start_time": "2024-06-07T14:21:52.866Z"
   },
   {
    "duration": 15,
    "start_time": "2024-06-07T14:21:56.283Z"
   },
   {
    "duration": 32,
    "start_time": "2024-06-07T14:21:57.704Z"
   },
   {
    "duration": 10,
    "start_time": "2024-06-07T14:24:07.146Z"
   },
   {
    "duration": 140,
    "start_time": "2024-06-07T14:24:34.090Z"
   },
   {
    "duration": 137,
    "start_time": "2024-06-07T14:26:00.301Z"
   },
   {
    "duration": 154,
    "start_time": "2024-06-07T14:26:05.056Z"
   },
   {
    "duration": 157,
    "start_time": "2024-06-07T14:27:04.581Z"
   },
   {
    "duration": 16,
    "start_time": "2024-06-07T14:28:19.494Z"
   },
   {
    "duration": 243,
    "start_time": "2024-06-07T14:28:36.262Z"
   },
   {
    "duration": 159,
    "start_time": "2024-06-07T14:31:01.778Z"
   },
   {
    "duration": 174,
    "start_time": "2024-06-07T14:31:22.641Z"
   },
   {
    "duration": 15,
    "start_time": "2024-06-07T14:32:49.427Z"
   },
   {
    "duration": 176,
    "start_time": "2024-06-07T14:33:59.755Z"
   },
   {
    "duration": 164,
    "start_time": "2024-06-07T14:37:01.144Z"
   },
   {
    "duration": 162,
    "start_time": "2024-06-07T14:38:37.038Z"
   },
   {
    "duration": 3,
    "start_time": "2024-06-07T14:44:50.697Z"
   },
   {
    "duration": 9,
    "start_time": "2024-06-07T14:45:43.338Z"
   },
   {
    "duration": 766,
    "start_time": "2024-06-09T06:45:52.738Z"
   },
   {
    "duration": 278,
    "start_time": "2024-06-09T06:45:53.509Z"
   },
   {
    "duration": 24,
    "start_time": "2024-06-09T06:45:53.789Z"
   },
   {
    "duration": 40,
    "start_time": "2024-06-09T06:45:53.816Z"
   },
   {
    "duration": 2988,
    "start_time": "2024-06-09T06:45:53.858Z"
   },
   {
    "duration": 8,
    "start_time": "2024-06-09T06:45:56.847Z"
   },
   {
    "duration": 15,
    "start_time": "2024-06-09T06:45:56.856Z"
   },
   {
    "duration": 31,
    "start_time": "2024-06-09T06:45:56.872Z"
   },
   {
    "duration": 26,
    "start_time": "2024-06-09T06:45:56.904Z"
   },
   {
    "duration": 14,
    "start_time": "2024-06-09T06:45:56.932Z"
   },
   {
    "duration": 17,
    "start_time": "2024-06-09T06:45:56.948Z"
   },
   {
    "duration": 19,
    "start_time": "2024-06-09T06:45:56.966Z"
   },
   {
    "duration": 24,
    "start_time": "2024-06-09T06:45:56.986Z"
   },
   {
    "duration": 69,
    "start_time": "2024-06-09T06:45:57.012Z"
   },
   {
    "duration": 18,
    "start_time": "2024-06-09T06:45:57.083Z"
   },
   {
    "duration": 14,
    "start_time": "2024-06-09T06:45:57.102Z"
   },
   {
    "duration": 42,
    "start_time": "2024-06-09T06:45:57.118Z"
   },
   {
    "duration": 10,
    "start_time": "2024-06-09T06:45:57.162Z"
   },
   {
    "duration": 17,
    "start_time": "2024-06-09T06:45:57.174Z"
   },
   {
    "duration": 23,
    "start_time": "2024-06-09T06:45:57.193Z"
   },
   {
    "duration": 18,
    "start_time": "2024-06-09T06:45:57.217Z"
   },
   {
    "duration": 36,
    "start_time": "2024-06-09T06:45:57.237Z"
   },
   {
    "duration": 17,
    "start_time": "2024-06-09T06:45:57.275Z"
   },
   {
    "duration": 22,
    "start_time": "2024-06-09T06:45:57.294Z"
   },
   {
    "duration": 19,
    "start_time": "2024-06-09T06:45:57.317Z"
   },
   {
    "duration": 41,
    "start_time": "2024-06-09T06:45:57.337Z"
   },
   {
    "duration": 21,
    "start_time": "2024-06-09T06:45:57.379Z"
   },
   {
    "duration": 38,
    "start_time": "2024-06-09T06:45:57.404Z"
   },
   {
    "duration": 272,
    "start_time": "2024-06-09T06:45:57.444Z"
   },
   {
    "duration": 16,
    "start_time": "2024-06-09T06:45:57.718Z"
   },
   {
    "duration": 20,
    "start_time": "2024-06-09T06:45:57.736Z"
   },
   {
    "duration": 25,
    "start_time": "2024-06-09T06:45:57.757Z"
   },
   {
    "duration": 11,
    "start_time": "2024-06-09T06:45:57.784Z"
   },
   {
    "duration": 13,
    "start_time": "2024-06-09T06:45:57.796Z"
   },
   {
    "duration": 26,
    "start_time": "2024-06-09T06:45:57.811Z"
   },
   {
    "duration": 14,
    "start_time": "2024-06-09T06:45:57.838Z"
   },
   {
    "duration": 358,
    "start_time": "2024-06-09T06:45:57.853Z"
   },
   {
    "duration": 8,
    "start_time": "2024-06-09T06:45:58.213Z"
   },
   {
    "duration": 16,
    "start_time": "2024-06-09T06:45:58.222Z"
   },
   {
    "duration": 219,
    "start_time": "2024-06-09T06:45:58.240Z"
   },
   {
    "duration": 7,
    "start_time": "2024-06-09T06:45:58.460Z"
   },
   {
    "duration": 211,
    "start_time": "2024-06-09T06:45:58.468Z"
   },
   {
    "duration": 7,
    "start_time": "2024-06-09T06:45:58.681Z"
   },
   {
    "duration": 212,
    "start_time": "2024-06-09T06:45:58.690Z"
   },
   {
    "duration": 9,
    "start_time": "2024-06-09T06:45:58.904Z"
   },
   {
    "duration": 312,
    "start_time": "2024-06-09T06:45:58.914Z"
   },
   {
    "duration": 167,
    "start_time": "2024-06-09T06:45:59.228Z"
   },
   {
    "duration": 18,
    "start_time": "2024-06-09T06:45:59.396Z"
   },
   {
    "duration": 220,
    "start_time": "2024-06-09T06:45:59.416Z"
   },
   {
    "duration": 185,
    "start_time": "2024-06-09T06:45:59.638Z"
   },
   {
    "duration": 153,
    "start_time": "2024-06-09T06:45:59.825Z"
   },
   {
    "duration": 7,
    "start_time": "2024-06-09T06:45:59.980Z"
   },
   {
    "duration": 255,
    "start_time": "2024-06-09T06:45:59.988Z"
   },
   {
    "duration": 9,
    "start_time": "2024-06-09T06:46:00.244Z"
   },
   {
    "duration": 270,
    "start_time": "2024-06-09T06:46:00.255Z"
   },
   {
    "duration": 8,
    "start_time": "2024-06-09T06:46:00.526Z"
   },
   {
    "duration": 319,
    "start_time": "2024-06-09T06:46:00.535Z"
   },
   {
    "duration": 7,
    "start_time": "2024-06-09T06:46:00.856Z"
   },
   {
    "duration": 277,
    "start_time": "2024-06-09T06:46:00.865Z"
   },
   {
    "duration": 15,
    "start_time": "2024-06-09T06:46:01.144Z"
   },
   {
    "duration": 96,
    "start_time": "2024-06-09T06:46:01.160Z"
   },
   {
    "duration": 25,
    "start_time": "2024-06-09T06:46:01.258Z"
   },
   {
    "duration": 50,
    "start_time": "2024-06-09T06:46:01.285Z"
   },
   {
    "duration": 46,
    "start_time": "2024-06-09T06:46:01.336Z"
   },
   {
    "duration": 178,
    "start_time": "2024-06-09T06:46:01.384Z"
   },
   {
    "duration": 139,
    "start_time": "2024-06-09T06:46:01.565Z"
   },
   {
    "duration": 121,
    "start_time": "2024-06-09T06:46:01.708Z"
   },
   {
    "duration": 126,
    "start_time": "2024-06-09T06:46:01.831Z"
   },
   {
    "duration": 246,
    "start_time": "2024-06-09T06:46:01.959Z"
   },
   {
    "duration": 138,
    "start_time": "2024-06-09T06:46:02.206Z"
   },
   {
    "duration": 222,
    "start_time": "2024-06-09T06:52:08.107Z"
   },
   {
    "duration": 2,
    "start_time": "2024-06-09T06:53:02.875Z"
   },
   {
    "duration": 131,
    "start_time": "2024-06-09T06:53:02.880Z"
   },
   {
    "duration": 68,
    "start_time": "2024-06-09T06:53:03.013Z"
   },
   {
    "duration": 44,
    "start_time": "2024-06-09T06:53:03.082Z"
   },
   {
    "duration": 2801,
    "start_time": "2024-06-09T06:53:03.128Z"
   },
   {
    "duration": 8,
    "start_time": "2024-06-09T06:53:05.930Z"
   },
   {
    "duration": 37,
    "start_time": "2024-06-09T06:53:05.939Z"
   },
   {
    "duration": 6,
    "start_time": "2024-06-09T06:53:05.977Z"
   },
   {
    "duration": 4,
    "start_time": "2024-06-09T06:53:05.985Z"
   },
   {
    "duration": 24,
    "start_time": "2024-06-09T06:53:05.990Z"
   },
   {
    "duration": 8,
    "start_time": "2024-06-09T06:53:06.017Z"
   },
   {
    "duration": 14,
    "start_time": "2024-06-09T06:53:06.026Z"
   },
   {
    "duration": 13,
    "start_time": "2024-06-09T06:53:06.042Z"
   },
   {
    "duration": 56,
    "start_time": "2024-06-09T06:53:06.057Z"
   },
   {
    "duration": 10,
    "start_time": "2024-06-09T06:53:06.114Z"
   },
   {
    "duration": 8,
    "start_time": "2024-06-09T06:53:06.125Z"
   },
   {
    "duration": 15,
    "start_time": "2024-06-09T06:53:06.134Z"
   },
   {
    "duration": 5,
    "start_time": "2024-06-09T06:53:06.151Z"
   },
   {
    "duration": 8,
    "start_time": "2024-06-09T06:53:06.157Z"
   },
   {
    "duration": 15,
    "start_time": "2024-06-09T06:53:06.166Z"
   },
   {
    "duration": 10,
    "start_time": "2024-06-09T06:53:06.182Z"
   },
   {
    "duration": 17,
    "start_time": "2024-06-09T06:53:06.193Z"
   },
   {
    "duration": 5,
    "start_time": "2024-06-09T06:53:06.212Z"
   },
   {
    "duration": 25,
    "start_time": "2024-06-09T06:53:06.218Z"
   },
   {
    "duration": 17,
    "start_time": "2024-06-09T06:53:06.244Z"
   },
   {
    "duration": 8,
    "start_time": "2024-06-09T06:53:06.262Z"
   },
   {
    "duration": 4,
    "start_time": "2024-06-09T06:53:06.272Z"
   },
   {
    "duration": 10,
    "start_time": "2024-06-09T06:53:06.278Z"
   },
   {
    "duration": 233,
    "start_time": "2024-06-09T06:53:06.291Z"
   },
   {
    "duration": 12,
    "start_time": "2024-06-09T06:53:06.526Z"
   },
   {
    "duration": 6,
    "start_time": "2024-06-09T06:53:06.539Z"
   },
   {
    "duration": 17,
    "start_time": "2024-06-09T06:53:06.546Z"
   },
   {
    "duration": 4,
    "start_time": "2024-06-09T06:53:06.564Z"
   },
   {
    "duration": 7,
    "start_time": "2024-06-09T06:53:06.569Z"
   },
   {
    "duration": 4,
    "start_time": "2024-06-09T06:53:06.577Z"
   },
   {
    "duration": 2,
    "start_time": "2024-06-09T06:53:06.583Z"
   },
   {
    "duration": 321,
    "start_time": "2024-06-09T06:53:06.609Z"
   },
   {
    "duration": 5,
    "start_time": "2024-06-09T06:53:06.931Z"
   },
   {
    "duration": 10,
    "start_time": "2024-06-09T06:53:06.937Z"
   },
   {
    "duration": 215,
    "start_time": "2024-06-09T06:53:06.948Z"
   },
   {
    "duration": 7,
    "start_time": "2024-06-09T06:53:07.164Z"
   },
   {
    "duration": 324,
    "start_time": "2024-06-09T06:53:07.172Z"
   },
   {
    "duration": 15,
    "start_time": "2024-06-09T06:53:07.498Z"
   },
   {
    "duration": 214,
    "start_time": "2024-06-09T06:53:07.515Z"
   },
   {
    "duration": 7,
    "start_time": "2024-06-09T06:53:07.730Z"
   },
   {
    "duration": 214,
    "start_time": "2024-06-09T06:53:07.739Z"
   },
   {
    "duration": 135,
    "start_time": "2024-06-09T06:53:07.954Z"
   },
   {
    "duration": 18,
    "start_time": "2024-06-09T06:53:08.091Z"
   },
   {
    "duration": 201,
    "start_time": "2024-06-09T06:53:08.111Z"
   },
   {
    "duration": 138,
    "start_time": "2024-06-09T06:53:08.313Z"
   },
   {
    "duration": 151,
    "start_time": "2024-06-09T06:53:08.453Z"
   },
   {
    "duration": 7,
    "start_time": "2024-06-09T06:53:08.608Z"
   },
   {
    "duration": 262,
    "start_time": "2024-06-09T06:53:08.616Z"
   },
   {
    "duration": 9,
    "start_time": "2024-06-09T06:53:08.879Z"
   },
   {
    "duration": 215,
    "start_time": "2024-06-09T06:53:08.889Z"
   },
   {
    "duration": 8,
    "start_time": "2024-06-09T06:53:09.108Z"
   },
   {
    "duration": 250,
    "start_time": "2024-06-09T06:53:09.117Z"
   },
   {
    "duration": 7,
    "start_time": "2024-06-09T06:53:09.368Z"
   },
   {
    "duration": 235,
    "start_time": "2024-06-09T06:53:09.376Z"
   },
   {
    "duration": 15,
    "start_time": "2024-06-09T06:53:09.612Z"
   },
   {
    "duration": 26,
    "start_time": "2024-06-09T06:53:09.628Z"
   },
   {
    "duration": 25,
    "start_time": "2024-06-09T06:53:09.655Z"
   },
   {
    "duration": 42,
    "start_time": "2024-06-09T06:53:09.682Z"
   },
   {
    "duration": 26,
    "start_time": "2024-06-09T06:53:09.725Z"
   },
   {
    "duration": 149,
    "start_time": "2024-06-09T06:53:09.752Z"
   },
   {
    "duration": 143,
    "start_time": "2024-06-09T06:53:09.903Z"
   },
   {
    "duration": 175,
    "start_time": "2024-06-09T06:53:10.048Z"
   },
   {
    "duration": 238,
    "start_time": "2024-06-09T06:53:10.224Z"
   },
   {
    "duration": 149,
    "start_time": "2024-06-09T06:53:10.463Z"
   },
   {
    "duration": 132,
    "start_time": "2024-06-09T06:53:10.614Z"
   },
   {
    "duration": 217,
    "start_time": "2024-06-09T07:01:04.157Z"
   },
   {
    "duration": 514,
    "start_time": "2024-06-09T07:05:17.940Z"
   },
   {
    "duration": 760,
    "start_time": "2024-06-09T07:08:17.513Z"
   },
   {
    "duration": 737,
    "start_time": "2024-06-09T07:15:36.802Z"
   },
   {
    "duration": 30,
    "start_time": "2024-06-09T07:17:57.336Z"
   },
   {
    "duration": 27,
    "start_time": "2024-06-09T07:18:08.114Z"
   },
   {
    "duration": 8,
    "start_time": "2024-06-09T07:18:53.404Z"
   },
   {
    "duration": 33,
    "start_time": "2024-06-09T07:20:57.982Z"
   },
   {
    "duration": 32,
    "start_time": "2024-06-09T07:21:38.663Z"
   },
   {
    "duration": 55,
    "start_time": "2024-06-09T07:28:20.735Z"
   },
   {
    "duration": 138,
    "start_time": "2024-06-09T10:48:20.909Z"
   },
   {
    "duration": 5,
    "start_time": "2024-06-09T11:13:00.231Z"
   },
   {
    "duration": 8,
    "start_time": "2024-06-09T11:13:18.908Z"
   },
   {
    "duration": 4,
    "start_time": "2024-06-09T11:13:39.701Z"
   },
   {
    "duration": 70,
    "start_time": "2024-06-09T11:13:57.581Z"
   },
   {
    "duration": 8,
    "start_time": "2024-06-09T11:17:44.042Z"
   },
   {
    "duration": 8,
    "start_time": "2024-06-09T11:18:50.967Z"
   },
   {
    "duration": 10,
    "start_time": "2024-06-09T11:23:21.626Z"
   },
   {
    "duration": 15,
    "start_time": "2024-06-09T11:25:14.804Z"
   },
   {
    "duration": 10,
    "start_time": "2024-06-09T11:25:33.914Z"
   },
   {
    "duration": 2,
    "start_time": "2024-06-09T11:25:39.014Z"
   },
   {
    "duration": 91,
    "start_time": "2024-06-09T11:25:39.018Z"
   },
   {
    "duration": 20,
    "start_time": "2024-06-09T11:25:39.111Z"
   },
   {
    "duration": 37,
    "start_time": "2024-06-09T11:25:39.133Z"
   },
   {
    "duration": 2859,
    "start_time": "2024-06-09T11:25:39.172Z"
   },
   {
    "duration": 7,
    "start_time": "2024-06-09T11:25:42.033Z"
   },
   {
    "duration": 8,
    "start_time": "2024-06-09T11:25:42.042Z"
   },
   {
    "duration": 3,
    "start_time": "2024-06-09T11:25:42.051Z"
   },
   {
    "duration": 4,
    "start_time": "2024-06-09T11:25:42.055Z"
   },
   {
    "duration": 7,
    "start_time": "2024-06-09T11:25:42.060Z"
   },
   {
    "duration": 21,
    "start_time": "2024-06-09T11:25:42.069Z"
   },
   {
    "duration": 18,
    "start_time": "2024-06-09T11:25:42.091Z"
   },
   {
    "duration": 3,
    "start_time": "2024-06-09T11:25:42.110Z"
   },
   {
    "duration": 35,
    "start_time": "2024-06-09T11:25:42.115Z"
   },
   {
    "duration": 11,
    "start_time": "2024-06-09T11:25:42.151Z"
   },
   {
    "duration": 4,
    "start_time": "2024-06-09T11:25:42.163Z"
   },
   {
    "duration": 3,
    "start_time": "2024-06-09T11:25:42.169Z"
   },
   {
    "duration": 12,
    "start_time": "2024-06-09T11:25:42.173Z"
   },
   {
    "duration": 23,
    "start_time": "2024-06-09T11:25:42.187Z"
   },
   {
    "duration": 7,
    "start_time": "2024-06-09T11:25:42.212Z"
   },
   {
    "duration": 9,
    "start_time": "2024-06-09T11:25:42.220Z"
   },
   {
    "duration": 6,
    "start_time": "2024-06-09T11:25:42.230Z"
   },
   {
    "duration": 4,
    "start_time": "2024-06-09T11:25:42.237Z"
   },
   {
    "duration": 8,
    "start_time": "2024-06-09T11:25:42.243Z"
   },
   {
    "duration": 7,
    "start_time": "2024-06-09T11:25:42.252Z"
   },
   {
    "duration": 8,
    "start_time": "2024-06-09T11:25:42.260Z"
   },
   {
    "duration": 5,
    "start_time": "2024-06-09T11:25:42.269Z"
   },
   {
    "duration": 11,
    "start_time": "2024-06-09T11:25:42.275Z"
   },
   {
    "duration": 226,
    "start_time": "2024-06-09T11:25:42.310Z"
   },
   {
    "duration": 13,
    "start_time": "2024-06-09T11:25:42.537Z"
   },
   {
    "duration": 6,
    "start_time": "2024-06-09T11:25:42.551Z"
   },
   {
    "duration": 13,
    "start_time": "2024-06-09T11:25:42.558Z"
   },
   {
    "duration": 4,
    "start_time": "2024-06-09T11:25:42.573Z"
   },
   {
    "duration": 4,
    "start_time": "2024-06-09T11:25:42.578Z"
   },
   {
    "duration": 26,
    "start_time": "2024-06-09T11:25:42.584Z"
   },
   {
    "duration": 4,
    "start_time": "2024-06-09T11:25:42.612Z"
   },
   {
    "duration": 319,
    "start_time": "2024-06-09T11:25:42.617Z"
   },
   {
    "duration": 6,
    "start_time": "2024-06-09T11:25:42.937Z"
   },
   {
    "duration": 7,
    "start_time": "2024-06-09T11:25:42.945Z"
   },
   {
    "duration": 230,
    "start_time": "2024-06-09T11:25:42.954Z"
   },
   {
    "duration": 7,
    "start_time": "2024-06-09T11:25:43.186Z"
   },
   {
    "duration": 316,
    "start_time": "2024-06-09T11:25:43.195Z"
   },
   {
    "duration": 7,
    "start_time": "2024-06-09T11:25:43.513Z"
   },
   {
    "duration": 232,
    "start_time": "2024-06-09T11:25:43.521Z"
   },
   {
    "duration": 8,
    "start_time": "2024-06-09T11:25:43.754Z"
   },
   {
    "duration": 211,
    "start_time": "2024-06-09T11:25:43.763Z"
   },
   {
    "duration": 135,
    "start_time": "2024-06-09T11:25:43.975Z"
   },
   {
    "duration": 7,
    "start_time": "2024-06-09T11:25:44.112Z"
   },
   {
    "duration": 175,
    "start_time": "2024-06-09T11:25:44.120Z"
   },
   {
    "duration": 139,
    "start_time": "2024-06-09T11:25:44.297Z"
   },
   {
    "duration": 159,
    "start_time": "2024-06-09T11:25:44.437Z"
   },
   {
    "duration": 15,
    "start_time": "2024-06-09T11:25:44.597Z"
   },
   {
    "duration": 277,
    "start_time": "2024-06-09T11:25:44.613Z"
   },
   {
    "duration": 8,
    "start_time": "2024-06-09T11:25:44.891Z"
   },
   {
    "duration": 222,
    "start_time": "2024-06-09T11:25:44.901Z"
   },
   {
    "duration": 8,
    "start_time": "2024-06-09T11:25:45.124Z"
   },
   {
    "duration": 231,
    "start_time": "2024-06-09T11:25:45.133Z"
   },
   {
    "duration": 6,
    "start_time": "2024-06-09T11:25:45.366Z"
   },
   {
    "duration": 220,
    "start_time": "2024-06-09T11:25:45.373Z"
   },
   {
    "duration": 47,
    "start_time": "2024-06-09T11:25:45.594Z"
   },
   {
    "duration": 14,
    "start_time": "2024-06-09T11:25:45.642Z"
   },
   {
    "duration": 33,
    "start_time": "2024-06-09T11:25:45.657Z"
   },
   {
    "duration": 742,
    "start_time": "2024-06-09T11:25:45.691Z"
   },
   {
    "duration": 7,
    "start_time": "2024-06-09T11:25:46.434Z"
   },
   {
    "duration": 30,
    "start_time": "2024-06-09T11:25:46.443Z"
   },
   {
    "duration": 136,
    "start_time": "2024-06-09T11:25:46.475Z"
   },
   {
    "duration": 142,
    "start_time": "2024-06-09T11:25:46.612Z"
   },
   {
    "duration": 137,
    "start_time": "2024-06-09T11:25:46.755Z"
   },
   {
    "duration": 131,
    "start_time": "2024-06-09T11:25:46.894Z"
   },
   {
    "duration": 133,
    "start_time": "2024-06-09T11:25:47.026Z"
   },
   {
    "duration": 148,
    "start_time": "2024-06-09T11:25:47.161Z"
   },
   {
    "duration": 141,
    "start_time": "2024-06-09T11:25:47.310Z"
   },
   {
    "duration": 5,
    "start_time": "2024-06-09T11:25:47.453Z"
   },
   {
    "duration": 9,
    "start_time": "2024-06-09T11:25:47.459Z"
   },
   {
    "duration": 6,
    "start_time": "2024-06-09T11:25:47.469Z"
   },
   {
    "duration": 13,
    "start_time": "2024-06-09T11:30:54.510Z"
   },
   {
    "duration": 11,
    "start_time": "2024-06-09T11:31:34.228Z"
   },
   {
    "duration": 14,
    "start_time": "2024-06-09T11:31:52.237Z"
   },
   {
    "duration": 18,
    "start_time": "2024-06-09T11:35:36.409Z"
   },
   {
    "duration": 8,
    "start_time": "2024-06-09T11:35:52.234Z"
   },
   {
    "duration": 14,
    "start_time": "2024-06-09T11:36:30.420Z"
   },
   {
    "duration": 208,
    "start_time": "2024-06-09T11:36:45.000Z"
   },
   {
    "duration": 5,
    "start_time": "2024-06-09T11:43:53.923Z"
   },
   {
    "duration": 3,
    "start_time": "2024-06-09T11:46:03.479Z"
   },
   {
    "duration": 141,
    "start_time": "2024-06-09T11:46:03.484Z"
   },
   {
    "duration": 20,
    "start_time": "2024-06-09T11:46:03.626Z"
   },
   {
    "duration": 35,
    "start_time": "2024-06-09T11:46:03.648Z"
   },
   {
    "duration": 2949,
    "start_time": "2024-06-09T11:46:03.685Z"
   },
   {
    "duration": 13,
    "start_time": "2024-06-09T11:46:06.636Z"
   },
   {
    "duration": 26,
    "start_time": "2024-06-09T11:46:06.651Z"
   },
   {
    "duration": 38,
    "start_time": "2024-06-09T11:46:06.678Z"
   },
   {
    "duration": 20,
    "start_time": "2024-06-09T11:46:06.718Z"
   },
   {
    "duration": 33,
    "start_time": "2024-06-09T11:46:06.739Z"
   },
   {
    "duration": 8,
    "start_time": "2024-06-09T11:46:06.775Z"
   },
   {
    "duration": 31,
    "start_time": "2024-06-09T11:46:06.785Z"
   },
   {
    "duration": 25,
    "start_time": "2024-06-09T11:46:06.817Z"
   },
   {
    "duration": 65,
    "start_time": "2024-06-09T11:46:06.843Z"
   },
   {
    "duration": 12,
    "start_time": "2024-06-09T11:46:06.909Z"
   },
   {
    "duration": 19,
    "start_time": "2024-06-09T11:46:06.923Z"
   },
   {
    "duration": 13,
    "start_time": "2024-06-09T11:46:06.943Z"
   },
   {
    "duration": 12,
    "start_time": "2024-06-09T11:46:06.957Z"
   },
   {
    "duration": 6,
    "start_time": "2024-06-09T11:46:06.970Z"
   },
   {
    "duration": 8,
    "start_time": "2024-06-09T11:46:06.977Z"
   },
   {
    "duration": 11,
    "start_time": "2024-06-09T11:46:06.986Z"
   },
   {
    "duration": 16,
    "start_time": "2024-06-09T11:46:06.999Z"
   },
   {
    "duration": 24,
    "start_time": "2024-06-09T11:46:07.017Z"
   },
   {
    "duration": 19,
    "start_time": "2024-06-09T11:46:07.042Z"
   },
   {
    "duration": 3,
    "start_time": "2024-06-09T11:46:07.062Z"
   },
   {
    "duration": 28,
    "start_time": "2024-06-09T11:46:07.066Z"
   },
   {
    "duration": 5,
    "start_time": "2024-06-09T11:46:07.096Z"
   },
   {
    "duration": 27,
    "start_time": "2024-06-09T11:46:07.102Z"
   },
   {
    "duration": 228,
    "start_time": "2024-06-09T11:46:07.133Z"
   },
   {
    "duration": 12,
    "start_time": "2024-06-09T11:46:07.362Z"
   },
   {
    "duration": 6,
    "start_time": "2024-06-09T11:46:07.376Z"
   },
   {
    "duration": 26,
    "start_time": "2024-06-09T11:46:07.383Z"
   },
   {
    "duration": 7,
    "start_time": "2024-06-09T11:46:07.410Z"
   },
   {
    "duration": 13,
    "start_time": "2024-06-09T11:46:07.419Z"
   },
   {
    "duration": 4,
    "start_time": "2024-06-09T11:46:07.434Z"
   },
   {
    "duration": 3,
    "start_time": "2024-06-09T11:46:07.440Z"
   },
   {
    "duration": 360,
    "start_time": "2024-06-09T11:46:07.445Z"
   },
   {
    "duration": 6,
    "start_time": "2024-06-09T11:46:07.806Z"
   },
   {
    "duration": 18,
    "start_time": "2024-06-09T11:46:07.814Z"
   },
   {
    "duration": 224,
    "start_time": "2024-06-09T11:46:07.833Z"
   },
   {
    "duration": 7,
    "start_time": "2024-06-09T11:46:08.059Z"
   },
   {
    "duration": 370,
    "start_time": "2024-06-09T11:46:08.068Z"
   },
   {
    "duration": 7,
    "start_time": "2024-06-09T11:46:08.440Z"
   },
   {
    "duration": 222,
    "start_time": "2024-06-09T11:46:08.448Z"
   },
   {
    "duration": 7,
    "start_time": "2024-06-09T11:46:08.672Z"
   },
   {
    "duration": 208,
    "start_time": "2024-06-09T11:46:08.680Z"
   },
   {
    "duration": 137,
    "start_time": "2024-06-09T11:46:08.889Z"
   },
   {
    "duration": 7,
    "start_time": "2024-06-09T11:46:09.028Z"
   },
   {
    "duration": 175,
    "start_time": "2024-06-09T11:46:09.036Z"
   },
   {
    "duration": 146,
    "start_time": "2024-06-09T11:46:09.213Z"
   },
   {
    "duration": 172,
    "start_time": "2024-06-09T11:46:09.361Z"
   },
   {
    "duration": 8,
    "start_time": "2024-06-09T11:46:09.534Z"
   },
   {
    "duration": 312,
    "start_time": "2024-06-09T11:46:09.543Z"
   },
   {
    "duration": 8,
    "start_time": "2024-06-09T11:46:09.857Z"
   },
   {
    "duration": 245,
    "start_time": "2024-06-09T11:46:09.866Z"
   },
   {
    "duration": 8,
    "start_time": "2024-06-09T11:46:10.112Z"
   },
   {
    "duration": 232,
    "start_time": "2024-06-09T11:46:10.121Z"
   },
   {
    "duration": 7,
    "start_time": "2024-06-09T11:46:10.354Z"
   },
   {
    "duration": 217,
    "start_time": "2024-06-09T11:46:10.362Z"
   },
   {
    "duration": 53,
    "start_time": "2024-06-09T11:46:10.581Z"
   },
   {
    "duration": 13,
    "start_time": "2024-06-09T11:46:10.636Z"
   },
   {
    "duration": 52,
    "start_time": "2024-06-09T11:46:10.650Z"
   },
   {
    "duration": 783,
    "start_time": "2024-06-09T11:46:10.703Z"
   },
   {
    "duration": 9,
    "start_time": "2024-06-09T11:46:11.487Z"
   },
   {
    "duration": 44,
    "start_time": "2024-06-09T11:46:11.498Z"
   },
   {
    "duration": 141,
    "start_time": "2024-06-09T11:46:11.543Z"
   },
   {
    "duration": 144,
    "start_time": "2024-06-09T11:46:11.685Z"
   },
   {
    "duration": 135,
    "start_time": "2024-06-09T11:46:11.830Z"
   },
   {
    "duration": 143,
    "start_time": "2024-06-09T11:46:11.967Z"
   },
   {
    "duration": 129,
    "start_time": "2024-06-09T11:46:12.111Z"
   },
   {
    "duration": 140,
    "start_time": "2024-06-09T11:46:12.241Z"
   },
   {
    "duration": 142,
    "start_time": "2024-06-09T11:46:12.382Z"
   },
   {
    "duration": 5,
    "start_time": "2024-06-09T11:46:12.526Z"
   },
   {
    "duration": 10,
    "start_time": "2024-06-09T11:46:12.532Z"
   },
   {
    "duration": 29,
    "start_time": "2024-06-09T11:46:12.543Z"
   },
   {
    "duration": 5,
    "start_time": "2024-06-09T11:54:17.806Z"
   },
   {
    "duration": 2,
    "start_time": "2024-06-09T11:54:42.728Z"
   },
   {
    "duration": 100,
    "start_time": "2024-06-09T11:54:42.732Z"
   },
   {
    "duration": 18,
    "start_time": "2024-06-09T11:54:42.834Z"
   },
   {
    "duration": 57,
    "start_time": "2024-06-09T11:54:42.853Z"
   },
   {
    "duration": 2899,
    "start_time": "2024-06-09T11:54:42.912Z"
   },
   {
    "duration": 9,
    "start_time": "2024-06-09T11:54:45.813Z"
   },
   {
    "duration": 26,
    "start_time": "2024-06-09T11:54:45.824Z"
   },
   {
    "duration": 3,
    "start_time": "2024-06-09T11:54:45.851Z"
   },
   {
    "duration": 6,
    "start_time": "2024-06-09T11:54:45.856Z"
   },
   {
    "duration": 11,
    "start_time": "2024-06-09T11:54:45.863Z"
   },
   {
    "duration": 17,
    "start_time": "2024-06-09T11:54:45.877Z"
   },
   {
    "duration": 8,
    "start_time": "2024-06-09T11:54:45.895Z"
   },
   {
    "duration": 5,
    "start_time": "2024-06-09T11:54:45.904Z"
   },
   {
    "duration": 3,
    "start_time": "2024-06-09T11:54:45.910Z"
   },
   {
    "duration": 39,
    "start_time": "2024-06-09T11:54:45.915Z"
   },
   {
    "duration": 9,
    "start_time": "2024-06-09T11:54:45.956Z"
   },
   {
    "duration": 12,
    "start_time": "2024-06-09T11:54:45.967Z"
   },
   {
    "duration": 7,
    "start_time": "2024-06-09T11:54:45.981Z"
   },
   {
    "duration": 12,
    "start_time": "2024-06-09T11:54:45.990Z"
   },
   {
    "duration": 19,
    "start_time": "2024-06-09T11:54:46.003Z"
   },
   {
    "duration": 20,
    "start_time": "2024-06-09T11:54:46.023Z"
   },
   {
    "duration": 19,
    "start_time": "2024-06-09T11:54:46.045Z"
   },
   {
    "duration": 6,
    "start_time": "2024-06-09T11:54:46.066Z"
   },
   {
    "duration": 16,
    "start_time": "2024-06-09T11:54:46.073Z"
   },
   {
    "duration": 7,
    "start_time": "2024-06-09T11:54:46.090Z"
   },
   {
    "duration": 8,
    "start_time": "2024-06-09T11:54:46.098Z"
   },
   {
    "duration": 12,
    "start_time": "2024-06-09T11:54:46.107Z"
   },
   {
    "duration": 5,
    "start_time": "2024-06-09T11:54:46.120Z"
   },
   {
    "duration": 12,
    "start_time": "2024-06-09T11:54:46.129Z"
   },
   {
    "duration": 237,
    "start_time": "2024-06-09T11:54:46.142Z"
   },
   {
    "duration": 13,
    "start_time": "2024-06-09T11:54:46.380Z"
   },
   {
    "duration": 16,
    "start_time": "2024-06-09T11:54:46.394Z"
   },
   {
    "duration": 18,
    "start_time": "2024-06-09T11:54:46.411Z"
   },
   {
    "duration": 6,
    "start_time": "2024-06-09T11:54:46.430Z"
   },
   {
    "duration": 10,
    "start_time": "2024-06-09T11:54:46.437Z"
   },
   {
    "duration": 7,
    "start_time": "2024-06-09T11:54:46.448Z"
   },
   {
    "duration": 5,
    "start_time": "2024-06-09T11:54:46.456Z"
   },
   {
    "duration": 326,
    "start_time": "2024-06-09T11:54:46.462Z"
   },
   {
    "duration": 7,
    "start_time": "2024-06-09T11:54:46.790Z"
   },
   {
    "duration": 22,
    "start_time": "2024-06-09T11:54:46.799Z"
   },
   {
    "duration": 260,
    "start_time": "2024-06-09T11:54:46.823Z"
   },
   {
    "duration": 7,
    "start_time": "2024-06-09T11:54:47.085Z"
   },
   {
    "duration": 226,
    "start_time": "2024-06-09T11:54:47.093Z"
   },
   {
    "duration": 8,
    "start_time": "2024-06-09T11:54:47.320Z"
   },
   {
    "duration": 344,
    "start_time": "2024-06-09T11:54:47.329Z"
   },
   {
    "duration": 7,
    "start_time": "2024-06-09T11:54:47.674Z"
   },
   {
    "duration": 209,
    "start_time": "2024-06-09T11:54:47.682Z"
   },
   {
    "duration": 140,
    "start_time": "2024-06-09T11:54:47.892Z"
   },
   {
    "duration": 8,
    "start_time": "2024-06-09T11:54:48.034Z"
   },
   {
    "duration": 180,
    "start_time": "2024-06-09T11:54:48.044Z"
   },
   {
    "duration": 151,
    "start_time": "2024-06-09T11:54:48.226Z"
   },
   {
    "duration": 178,
    "start_time": "2024-06-09T11:54:48.379Z"
   },
   {
    "duration": 9,
    "start_time": "2024-06-09T11:54:48.558Z"
   },
   {
    "duration": 222,
    "start_time": "2024-06-09T11:54:48.568Z"
   },
   {
    "duration": 8,
    "start_time": "2024-06-09T11:54:48.792Z"
   },
   {
    "duration": 270,
    "start_time": "2024-06-09T11:54:48.809Z"
   },
   {
    "duration": 8,
    "start_time": "2024-06-09T11:54:49.080Z"
   },
   {
    "duration": 226,
    "start_time": "2024-06-09T11:54:49.089Z"
   },
   {
    "duration": 6,
    "start_time": "2024-06-09T11:54:49.316Z"
   },
   {
    "duration": 224,
    "start_time": "2024-06-09T11:54:49.324Z"
   },
   {
    "duration": 47,
    "start_time": "2024-06-09T11:54:49.549Z"
   },
   {
    "duration": 15,
    "start_time": "2024-06-09T11:54:49.609Z"
   },
   {
    "duration": 27,
    "start_time": "2024-06-09T11:54:49.625Z"
   },
   {
    "duration": 805,
    "start_time": "2024-06-09T11:54:49.654Z"
   },
   {
    "duration": 9,
    "start_time": "2024-06-09T11:54:50.461Z"
   },
   {
    "duration": 44,
    "start_time": "2024-06-09T11:54:50.472Z"
   },
   {
    "duration": 136,
    "start_time": "2024-06-09T11:54:50.517Z"
   },
   {
    "duration": 133,
    "start_time": "2024-06-09T11:54:50.654Z"
   },
   {
    "duration": 134,
    "start_time": "2024-06-09T11:54:50.788Z"
   },
   {
    "duration": 131,
    "start_time": "2024-06-09T11:54:50.924Z"
   },
   {
    "duration": 129,
    "start_time": "2024-06-09T11:54:51.057Z"
   },
   {
    "duration": 163,
    "start_time": "2024-06-09T11:54:51.188Z"
   },
   {
    "duration": 171,
    "start_time": "2024-06-09T11:54:51.353Z"
   },
   {
    "duration": 5,
    "start_time": "2024-06-09T11:54:51.526Z"
   },
   {
    "duration": 39,
    "start_time": "2024-06-09T11:54:51.533Z"
   },
   {
    "duration": 12,
    "start_time": "2024-06-09T11:54:51.574Z"
   },
   {
    "duration": 11,
    "start_time": "2024-06-09T12:01:13.383Z"
   },
   {
    "duration": 762,
    "start_time": "2024-06-09T12:01:33.367Z"
   },
   {
    "duration": 53,
    "start_time": "2024-06-09T12:04:42.239Z"
   },
   {
    "duration": 14,
    "start_time": "2024-06-09T12:05:48.432Z"
   },
   {
    "duration": 16,
    "start_time": "2024-06-09T12:06:08.619Z"
   },
   {
    "duration": 8,
    "start_time": "2024-06-09T12:06:26.897Z"
   },
   {
    "duration": 13,
    "start_time": "2024-06-09T12:06:49.949Z"
   },
   {
    "duration": 18,
    "start_time": "2024-06-09T12:08:52.720Z"
   },
   {
    "duration": 11,
    "start_time": "2024-06-09T12:09:25.399Z"
   },
   {
    "duration": 12,
    "start_time": "2024-06-09T12:09:33.048Z"
   },
   {
    "duration": 14,
    "start_time": "2024-06-09T12:09:51.185Z"
   },
   {
    "duration": 9,
    "start_time": "2024-06-09T12:10:01.307Z"
   },
   {
    "duration": 5,
    "start_time": "2024-06-09T12:12:31.667Z"
   },
   {
    "duration": 7,
    "start_time": "2024-06-09T12:13:28.236Z"
   },
   {
    "duration": 6,
    "start_time": "2024-06-09T12:14:41.236Z"
   },
   {
    "duration": 9,
    "start_time": "2024-06-09T12:17:36.944Z"
   },
   {
    "duration": 6,
    "start_time": "2024-06-09T12:20:37.265Z"
   },
   {
    "duration": 8,
    "start_time": "2024-06-09T12:21:26.733Z"
   },
   {
    "duration": 7,
    "start_time": "2024-06-09T12:22:12.897Z"
   },
   {
    "duration": 7,
    "start_time": "2024-06-09T12:22:21.329Z"
   },
   {
    "duration": 7,
    "start_time": "2024-06-09T12:23:59.835Z"
   },
   {
    "duration": 55,
    "start_time": "2024-06-09T12:26:25.417Z"
   },
   {
    "duration": 9,
    "start_time": "2024-06-09T12:57:06.104Z"
   },
   {
    "duration": 13,
    "start_time": "2024-06-09T12:57:39.664Z"
   },
   {
    "duration": 16,
    "start_time": "2024-06-09T12:58:04.466Z"
   },
   {
    "duration": 3,
    "start_time": "2024-06-09T13:02:04.938Z"
   },
   {
    "duration": 3,
    "start_time": "2024-06-09T13:04:32.815Z"
   },
   {
    "duration": 119,
    "start_time": "2024-06-09T13:04:32.820Z"
   },
   {
    "duration": 18,
    "start_time": "2024-06-09T13:04:32.941Z"
   },
   {
    "duration": 60,
    "start_time": "2024-06-09T13:04:32.961Z"
   },
   {
    "duration": 2924,
    "start_time": "2024-06-09T13:04:33.023Z"
   },
   {
    "duration": 8,
    "start_time": "2024-06-09T13:04:35.949Z"
   },
   {
    "duration": 12,
    "start_time": "2024-06-09T13:04:35.958Z"
   },
   {
    "duration": 3,
    "start_time": "2024-06-09T13:04:35.971Z"
   },
   {
    "duration": 8,
    "start_time": "2024-06-09T13:04:35.975Z"
   },
   {
    "duration": 19,
    "start_time": "2024-06-09T13:04:35.984Z"
   },
   {
    "duration": 34,
    "start_time": "2024-06-09T13:04:36.006Z"
   },
   {
    "duration": 7,
    "start_time": "2024-06-09T13:04:36.041Z"
   },
   {
    "duration": 7,
    "start_time": "2024-06-09T13:04:36.050Z"
   },
   {
    "duration": 4,
    "start_time": "2024-06-09T13:04:36.059Z"
   },
   {
    "duration": 42,
    "start_time": "2024-06-09T13:04:36.064Z"
   },
   {
    "duration": 10,
    "start_time": "2024-06-09T13:04:36.108Z"
   },
   {
    "duration": 4,
    "start_time": "2024-06-09T13:04:36.119Z"
   },
   {
    "duration": 9,
    "start_time": "2024-06-09T13:04:36.124Z"
   },
   {
    "duration": 10,
    "start_time": "2024-06-09T13:04:36.134Z"
   },
   {
    "duration": 6,
    "start_time": "2024-06-09T13:04:36.145Z"
   },
   {
    "duration": 12,
    "start_time": "2024-06-09T13:04:36.152Z"
   },
   {
    "duration": 12,
    "start_time": "2024-06-09T13:04:36.166Z"
   },
   {
    "duration": 5,
    "start_time": "2024-06-09T13:04:36.179Z"
   },
   {
    "duration": 7,
    "start_time": "2024-06-09T13:04:36.185Z"
   },
   {
    "duration": 17,
    "start_time": "2024-06-09T13:04:36.193Z"
   },
   {
    "duration": 3,
    "start_time": "2024-06-09T13:04:36.211Z"
   },
   {
    "duration": 8,
    "start_time": "2024-06-09T13:04:36.215Z"
   },
   {
    "duration": 5,
    "start_time": "2024-06-09T13:04:36.225Z"
   },
   {
    "duration": 11,
    "start_time": "2024-06-09T13:04:36.234Z"
   },
   {
    "duration": 257,
    "start_time": "2024-06-09T13:04:36.247Z"
   },
   {
    "duration": 12,
    "start_time": "2024-06-09T13:04:36.506Z"
   },
   {
    "duration": 5,
    "start_time": "2024-06-09T13:04:36.520Z"
   },
   {
    "duration": 16,
    "start_time": "2024-06-09T13:04:36.526Z"
   },
   {
    "duration": 5,
    "start_time": "2024-06-09T13:04:36.543Z"
   },
   {
    "duration": 3,
    "start_time": "2024-06-09T13:04:36.549Z"
   },
   {
    "duration": 4,
    "start_time": "2024-06-09T13:04:36.554Z"
   },
   {
    "duration": 3,
    "start_time": "2024-06-09T13:04:36.559Z"
   },
   {
    "duration": 352,
    "start_time": "2024-06-09T13:04:36.563Z"
   },
   {
    "duration": 5,
    "start_time": "2024-06-09T13:04:36.916Z"
   },
   {
    "duration": 10,
    "start_time": "2024-06-09T13:04:36.922Z"
   },
   {
    "duration": 225,
    "start_time": "2024-06-09T13:04:36.933Z"
   },
   {
    "duration": 9,
    "start_time": "2024-06-09T13:04:37.159Z"
   },
   {
    "duration": 223,
    "start_time": "2024-06-09T13:04:37.170Z"
   },
   {
    "duration": 15,
    "start_time": "2024-06-09T13:04:37.395Z"
   },
   {
    "duration": 347,
    "start_time": "2024-06-09T13:04:37.411Z"
   },
   {
    "duration": 7,
    "start_time": "2024-06-09T13:04:37.759Z"
   },
   {
    "duration": 212,
    "start_time": "2024-06-09T13:04:37.767Z"
   },
   {
    "duration": 138,
    "start_time": "2024-06-09T13:04:37.980Z"
   },
   {
    "duration": 7,
    "start_time": "2024-06-09T13:04:38.120Z"
   },
   {
    "duration": 182,
    "start_time": "2024-06-09T13:04:38.128Z"
   },
   {
    "duration": 139,
    "start_time": "2024-06-09T13:04:38.311Z"
   },
   {
    "duration": 166,
    "start_time": "2024-06-09T13:04:38.451Z"
   },
   {
    "duration": 8,
    "start_time": "2024-06-09T13:04:38.619Z"
   },
   {
    "duration": 229,
    "start_time": "2024-06-09T13:04:38.629Z"
   },
   {
    "duration": 8,
    "start_time": "2024-06-09T13:04:38.860Z"
   },
   {
    "duration": 285,
    "start_time": "2024-06-09T13:04:38.869Z"
   },
   {
    "duration": 9,
    "start_time": "2024-06-09T13:04:39.156Z"
   },
   {
    "duration": 230,
    "start_time": "2024-06-09T13:04:39.166Z"
   },
   {
    "duration": 11,
    "start_time": "2024-06-09T13:04:39.398Z"
   },
   {
    "duration": 254,
    "start_time": "2024-06-09T13:04:39.410Z"
   },
   {
    "duration": 52,
    "start_time": "2024-06-09T13:04:39.666Z"
   },
   {
    "duration": 14,
    "start_time": "2024-06-09T13:04:39.721Z"
   },
   {
    "duration": 40,
    "start_time": "2024-06-09T13:04:39.737Z"
   },
   {
    "duration": 736,
    "start_time": "2024-06-09T13:04:39.778Z"
   },
   {
    "duration": 11,
    "start_time": "2024-06-09T13:04:40.516Z"
   },
   {
    "duration": 32,
    "start_time": "2024-06-09T13:04:40.529Z"
   },
   {
    "duration": 214,
    "start_time": "2024-06-09T13:04:40.563Z"
   },
   {
    "duration": 133,
    "start_time": "2024-06-09T13:04:40.778Z"
   },
   {
    "duration": 135,
    "start_time": "2024-06-09T13:04:40.912Z"
   },
   {
    "duration": 134,
    "start_time": "2024-06-09T13:04:41.048Z"
   },
   {
    "duration": 137,
    "start_time": "2024-06-09T13:04:41.183Z"
   },
   {
    "duration": 140,
    "start_time": "2024-06-09T13:04:41.321Z"
   },
   {
    "duration": 149,
    "start_time": "2024-06-09T13:04:41.463Z"
   },
   {
    "duration": 5,
    "start_time": "2024-06-09T13:04:41.614Z"
   },
   {
    "duration": 13,
    "start_time": "2024-06-09T13:04:41.620Z"
   },
   {
    "duration": 8,
    "start_time": "2024-06-09T13:04:41.634Z"
   },
   {
    "duration": 7,
    "start_time": "2024-06-09T13:04:41.643Z"
   },
   {
    "duration": 12,
    "start_time": "2024-06-09T13:04:41.652Z"
   },
   {
    "duration": 5,
    "start_time": "2024-06-09T13:04:51.569Z"
   },
   {
    "duration": 4,
    "start_time": "2024-06-09T13:05:25.846Z"
   },
   {
    "duration": 4,
    "start_time": "2024-06-09T13:25:57.999Z"
   },
   {
    "duration": 9,
    "start_time": "2024-06-09T13:28:39.991Z"
   },
   {
    "duration": 13,
    "start_time": "2024-06-09T13:35:31.073Z"
   },
   {
    "duration": 5,
    "start_time": "2024-06-09T13:35:53.802Z"
   },
   {
    "duration": 7,
    "start_time": "2024-06-09T13:36:04.280Z"
   },
   {
    "duration": 2,
    "start_time": "2024-06-09T13:51:33.556Z"
   },
   {
    "duration": 115,
    "start_time": "2024-06-09T13:51:33.561Z"
   },
   {
    "duration": 33,
    "start_time": "2024-06-09T13:51:33.677Z"
   },
   {
    "duration": 33,
    "start_time": "2024-06-09T13:51:33.711Z"
   },
   {
    "duration": 2942,
    "start_time": "2024-06-09T13:51:33.745Z"
   },
   {
    "duration": 8,
    "start_time": "2024-06-09T13:51:36.688Z"
   },
   {
    "duration": 11,
    "start_time": "2024-06-09T13:51:36.709Z"
   },
   {
    "duration": 13,
    "start_time": "2024-06-09T13:51:36.721Z"
   },
   {
    "duration": 30,
    "start_time": "2024-06-09T13:51:36.735Z"
   },
   {
    "duration": 22,
    "start_time": "2024-06-09T13:51:36.766Z"
   },
   {
    "duration": 12,
    "start_time": "2024-06-09T13:51:36.791Z"
   },
   {
    "duration": 47,
    "start_time": "2024-06-09T13:51:36.805Z"
   },
   {
    "duration": 33,
    "start_time": "2024-06-09T13:51:36.853Z"
   },
   {
    "duration": 19,
    "start_time": "2024-06-09T13:51:36.888Z"
   },
   {
    "duration": 50,
    "start_time": "2024-06-09T13:51:36.909Z"
   },
   {
    "duration": 10,
    "start_time": "2024-06-09T13:51:36.961Z"
   },
   {
    "duration": 12,
    "start_time": "2024-06-09T13:51:36.973Z"
   },
   {
    "duration": 5,
    "start_time": "2024-06-09T13:51:36.987Z"
   },
   {
    "duration": 16,
    "start_time": "2024-06-09T13:51:36.993Z"
   },
   {
    "duration": 20,
    "start_time": "2024-06-09T13:51:37.011Z"
   },
   {
    "duration": 17,
    "start_time": "2024-06-09T13:51:37.032Z"
   },
   {
    "duration": 17,
    "start_time": "2024-06-09T13:51:37.051Z"
   },
   {
    "duration": 16,
    "start_time": "2024-06-09T13:51:37.070Z"
   },
   {
    "duration": 5,
    "start_time": "2024-06-09T13:51:37.088Z"
   },
   {
    "duration": 15,
    "start_time": "2024-06-09T13:51:37.094Z"
   },
   {
    "duration": 3,
    "start_time": "2024-06-09T13:51:37.110Z"
   },
   {
    "duration": 12,
    "start_time": "2024-06-09T13:51:37.115Z"
   },
   {
    "duration": 8,
    "start_time": "2024-06-09T13:51:37.129Z"
   },
   {
    "duration": 19,
    "start_time": "2024-06-09T13:51:37.141Z"
   },
   {
    "duration": 228,
    "start_time": "2024-06-09T13:51:37.161Z"
   },
   {
    "duration": 19,
    "start_time": "2024-06-09T13:51:37.390Z"
   },
   {
    "duration": 6,
    "start_time": "2024-06-09T13:51:37.410Z"
   },
   {
    "duration": 8,
    "start_time": "2024-06-09T13:51:37.418Z"
   },
   {
    "duration": 15,
    "start_time": "2024-06-09T13:51:37.427Z"
   },
   {
    "duration": 9,
    "start_time": "2024-06-09T13:51:37.443Z"
   },
   {
    "duration": 3,
    "start_time": "2024-06-09T13:51:37.453Z"
   },
   {
    "duration": 30,
    "start_time": "2024-06-09T13:51:37.458Z"
   },
   {
    "duration": 343,
    "start_time": "2024-06-09T13:51:37.490Z"
   },
   {
    "duration": 6,
    "start_time": "2024-06-09T13:51:37.834Z"
   },
   {
    "duration": 8,
    "start_time": "2024-06-09T13:51:37.841Z"
   },
   {
    "duration": 221,
    "start_time": "2024-06-09T13:51:37.850Z"
   },
   {
    "duration": 7,
    "start_time": "2024-06-09T13:51:38.072Z"
   },
   {
    "duration": 220,
    "start_time": "2024-06-09T13:51:38.080Z"
   },
   {
    "duration": 11,
    "start_time": "2024-06-09T13:51:38.301Z"
   },
   {
    "duration": 234,
    "start_time": "2024-06-09T13:51:38.313Z"
   },
   {
    "duration": 8,
    "start_time": "2024-06-09T13:51:38.548Z"
   },
   {
    "duration": 337,
    "start_time": "2024-06-09T13:51:38.558Z"
   },
   {
    "duration": 134,
    "start_time": "2024-06-09T13:51:38.897Z"
   },
   {
    "duration": 7,
    "start_time": "2024-06-09T13:51:39.033Z"
   },
   {
    "duration": 179,
    "start_time": "2024-06-09T13:51:39.041Z"
   },
   {
    "duration": 137,
    "start_time": "2024-06-09T13:51:39.221Z"
   },
   {
    "duration": 159,
    "start_time": "2024-06-09T13:51:39.360Z"
   },
   {
    "duration": 7,
    "start_time": "2024-06-09T13:51:39.521Z"
   },
   {
    "duration": 270,
    "start_time": "2024-06-09T13:51:39.529Z"
   },
   {
    "duration": 14,
    "start_time": "2024-06-09T13:51:39.800Z"
   },
   {
    "duration": 229,
    "start_time": "2024-06-09T13:51:39.815Z"
   },
   {
    "duration": 8,
    "start_time": "2024-06-09T13:51:40.046Z"
   },
   {
    "duration": 299,
    "start_time": "2024-06-09T13:51:40.055Z"
   },
   {
    "duration": 6,
    "start_time": "2024-06-09T13:51:40.355Z"
   },
   {
    "duration": 213,
    "start_time": "2024-06-09T13:51:40.363Z"
   },
   {
    "duration": 52,
    "start_time": "2024-06-09T13:51:40.578Z"
   },
   {
    "duration": 14,
    "start_time": "2024-06-09T13:51:40.631Z"
   },
   {
    "duration": 40,
    "start_time": "2024-06-09T13:51:40.646Z"
   },
   {
    "duration": 690,
    "start_time": "2024-06-09T13:51:40.687Z"
   },
   {
    "duration": 8,
    "start_time": "2024-06-09T13:51:41.379Z"
   },
   {
    "duration": 48,
    "start_time": "2024-06-09T13:51:41.388Z"
   },
   {
    "duration": 137,
    "start_time": "2024-06-09T13:51:41.438Z"
   },
   {
    "duration": 201,
    "start_time": "2024-06-09T13:51:41.577Z"
   },
   {
    "duration": 158,
    "start_time": "2024-06-09T13:51:41.780Z"
   },
   {
    "duration": 134,
    "start_time": "2024-06-09T13:51:41.939Z"
   },
   {
    "duration": 138,
    "start_time": "2024-06-09T13:51:42.075Z"
   },
   {
    "duration": 142,
    "start_time": "2024-06-09T13:51:42.215Z"
   },
   {
    "duration": 137,
    "start_time": "2024-06-09T13:51:42.358Z"
   },
   {
    "duration": 5,
    "start_time": "2024-06-09T13:51:42.497Z"
   },
   {
    "duration": 12,
    "start_time": "2024-06-09T13:51:42.503Z"
   },
   {
    "duration": 8,
    "start_time": "2024-06-09T13:51:42.516Z"
   },
   {
    "duration": 8,
    "start_time": "2024-06-09T13:55:55.383Z"
   },
   {
    "duration": 8,
    "start_time": "2024-06-09T13:56:54.473Z"
   },
   {
    "duration": 7,
    "start_time": "2024-06-09T13:59:30.192Z"
   },
   {
    "duration": 8,
    "start_time": "2024-06-09T14:01:16.478Z"
   },
   {
    "duration": 7,
    "start_time": "2024-06-09T14:02:07.448Z"
   },
   {
    "duration": 9,
    "start_time": "2024-06-09T14:03:33.391Z"
   },
   {
    "duration": 5,
    "start_time": "2024-06-09T14:04:54.428Z"
   },
   {
    "duration": 7,
    "start_time": "2024-06-09T14:10:22.838Z"
   },
   {
    "duration": 8,
    "start_time": "2024-06-09T14:11:02.043Z"
   },
   {
    "duration": 12,
    "start_time": "2024-06-09T14:13:35.671Z"
   },
   {
    "duration": 19,
    "start_time": "2024-06-09T14:18:17.706Z"
   },
   {
    "duration": 13,
    "start_time": "2024-06-09T14:19:16.702Z"
   },
   {
    "duration": 186,
    "start_time": "2024-06-09T14:29:33.311Z"
   },
   {
    "duration": 172,
    "start_time": "2024-06-09T14:31:32.263Z"
   },
   {
    "duration": 928,
    "start_time": "2024-06-09T14:35:04.683Z"
   },
   {
    "duration": 167,
    "start_time": "2024-06-09T14:35:28.246Z"
   },
   {
    "duration": 201,
    "start_time": "2024-06-09T14:37:06.550Z"
   },
   {
    "duration": 227,
    "start_time": "2024-06-09T14:39:14.185Z"
   },
   {
    "duration": 7,
    "start_time": "2024-06-09T14:48:49.947Z"
   },
   {
    "duration": 68,
    "start_time": "2024-06-09T14:50:17.078Z"
   },
   {
    "duration": 177,
    "start_time": "2024-06-09T14:50:57.007Z"
   },
   {
    "duration": 174,
    "start_time": "2024-06-09T14:53:29.920Z"
   },
   {
    "duration": 172,
    "start_time": "2024-06-09T14:57:00.174Z"
   },
   {
    "duration": 21,
    "start_time": "2024-06-09T14:58:14.339Z"
   },
   {
    "duration": 190,
    "start_time": "2024-06-09T14:58:21.381Z"
   },
   {
    "duration": 17,
    "start_time": "2024-06-09T15:08:05.796Z"
   },
   {
    "duration": 166,
    "start_time": "2024-06-09T15:09:58.801Z"
   },
   {
    "duration": 165,
    "start_time": "2024-06-09T15:10:09.258Z"
   },
   {
    "duration": 3,
    "start_time": "2024-06-09T15:10:23.913Z"
   },
   {
    "duration": 185,
    "start_time": "2024-06-09T15:10:49.477Z"
   },
   {
    "duration": 19,
    "start_time": "2024-06-09T15:11:52.224Z"
   },
   {
    "duration": 16,
    "start_time": "2024-06-09T15:12:29.868Z"
   },
   {
    "duration": 26,
    "start_time": "2024-06-09T15:12:37.314Z"
   },
   {
    "duration": 17,
    "start_time": "2024-06-09T15:12:52.473Z"
   },
   {
    "duration": 176,
    "start_time": "2024-06-09T15:17:25.796Z"
   },
   {
    "duration": 203,
    "start_time": "2024-06-09T15:17:40.593Z"
   },
   {
    "duration": 21,
    "start_time": "2024-06-09T15:17:54.519Z"
   },
   {
    "duration": 3,
    "start_time": "2024-06-09T15:18:31.338Z"
   },
   {
    "duration": 129,
    "start_time": "2024-06-09T15:18:31.343Z"
   },
   {
    "duration": 46,
    "start_time": "2024-06-09T15:18:31.473Z"
   },
   {
    "duration": 41,
    "start_time": "2024-06-09T15:18:31.522Z"
   },
   {
    "duration": 2945,
    "start_time": "2024-06-09T15:18:31.564Z"
   },
   {
    "duration": 8,
    "start_time": "2024-06-09T15:18:34.511Z"
   },
   {
    "duration": 29,
    "start_time": "2024-06-09T15:18:34.520Z"
   },
   {
    "duration": 22,
    "start_time": "2024-06-09T15:18:34.551Z"
   },
   {
    "duration": 25,
    "start_time": "2024-06-09T15:18:34.575Z"
   },
   {
    "duration": 6,
    "start_time": "2024-06-09T15:18:34.601Z"
   },
   {
    "duration": 25,
    "start_time": "2024-06-09T15:18:34.609Z"
   },
   {
    "duration": 32,
    "start_time": "2024-06-09T15:18:34.635Z"
   },
   {
    "duration": 22,
    "start_time": "2024-06-09T15:18:34.669Z"
   },
   {
    "duration": 49,
    "start_time": "2024-06-09T15:18:34.693Z"
   },
   {
    "duration": 57,
    "start_time": "2024-06-09T15:18:34.743Z"
   },
   {
    "duration": 10,
    "start_time": "2024-06-09T15:18:34.802Z"
   },
   {
    "duration": 37,
    "start_time": "2024-06-09T15:18:34.813Z"
   },
   {
    "duration": 35,
    "start_time": "2024-06-09T15:18:34.851Z"
   },
   {
    "duration": 13,
    "start_time": "2024-06-09T15:18:34.888Z"
   },
   {
    "duration": 13,
    "start_time": "2024-06-09T15:18:34.902Z"
   },
   {
    "duration": 11,
    "start_time": "2024-06-09T15:18:34.916Z"
   },
   {
    "duration": 5,
    "start_time": "2024-06-09T15:18:34.928Z"
   },
   {
    "duration": 11,
    "start_time": "2024-06-09T15:18:34.935Z"
   },
   {
    "duration": 26,
    "start_time": "2024-06-09T15:18:34.951Z"
   },
   {
    "duration": 17,
    "start_time": "2024-06-09T15:18:34.979Z"
   },
   {
    "duration": 7,
    "start_time": "2024-06-09T15:18:34.997Z"
   },
   {
    "duration": 57,
    "start_time": "2024-06-09T15:18:35.005Z"
   },
   {
    "duration": 59,
    "start_time": "2024-06-09T15:18:35.063Z"
   },
   {
    "duration": 15,
    "start_time": "2024-06-09T15:18:35.123Z"
   },
   {
    "duration": 264,
    "start_time": "2024-06-09T15:18:35.139Z"
   },
   {
    "duration": 13,
    "start_time": "2024-06-09T15:18:35.405Z"
   },
   {
    "duration": 6,
    "start_time": "2024-06-09T15:18:35.420Z"
   },
   {
    "duration": 21,
    "start_time": "2024-06-09T15:18:35.427Z"
   },
   {
    "duration": 5,
    "start_time": "2024-06-09T15:18:35.449Z"
   },
   {
    "duration": 23,
    "start_time": "2024-06-09T15:18:35.455Z"
   },
   {
    "duration": 17,
    "start_time": "2024-06-09T15:18:35.480Z"
   },
   {
    "duration": 9,
    "start_time": "2024-06-09T15:18:35.498Z"
   },
   {
    "duration": 321,
    "start_time": "2024-06-09T15:18:35.509Z"
   },
   {
    "duration": 5,
    "start_time": "2024-06-09T15:18:35.831Z"
   },
   {
    "duration": 25,
    "start_time": "2024-06-09T15:18:35.837Z"
   },
   {
    "duration": 221,
    "start_time": "2024-06-09T15:18:35.863Z"
   },
   {
    "duration": 7,
    "start_time": "2024-06-09T15:18:36.086Z"
   },
   {
    "duration": 217,
    "start_time": "2024-06-09T15:18:36.094Z"
   },
   {
    "duration": 7,
    "start_time": "2024-06-09T15:18:36.312Z"
   },
   {
    "duration": 355,
    "start_time": "2024-06-09T15:18:36.320Z"
   },
   {
    "duration": 7,
    "start_time": "2024-06-09T15:18:36.676Z"
   },
   {
    "duration": 234,
    "start_time": "2024-06-09T15:18:36.685Z"
   },
   {
    "duration": 143,
    "start_time": "2024-06-09T15:18:36.921Z"
   },
   {
    "duration": 7,
    "start_time": "2024-06-09T15:18:37.066Z"
   },
   {
    "duration": 181,
    "start_time": "2024-06-09T15:18:37.075Z"
   },
   {
    "duration": 147,
    "start_time": "2024-06-09T15:18:37.258Z"
   },
   {
    "duration": 162,
    "start_time": "2024-06-09T15:18:37.409Z"
   },
   {
    "duration": 7,
    "start_time": "2024-06-09T15:18:37.572Z"
   },
   {
    "duration": 220,
    "start_time": "2024-06-09T15:18:37.580Z"
   },
   {
    "duration": 13,
    "start_time": "2024-06-09T15:18:37.802Z"
   },
   {
    "duration": 295,
    "start_time": "2024-06-09T15:18:37.816Z"
   },
   {
    "duration": 8,
    "start_time": "2024-06-09T15:18:38.112Z"
   },
   {
    "duration": 234,
    "start_time": "2024-06-09T15:18:38.122Z"
   },
   {
    "duration": 7,
    "start_time": "2024-06-09T15:18:38.357Z"
   },
   {
    "duration": 237,
    "start_time": "2024-06-09T15:18:38.365Z"
   },
   {
    "duration": 46,
    "start_time": "2024-06-09T15:18:38.604Z"
   },
   {
    "duration": 13,
    "start_time": "2024-06-09T15:18:38.652Z"
   },
   {
    "duration": 42,
    "start_time": "2024-06-09T15:18:38.667Z"
   },
   {
    "duration": 764,
    "start_time": "2024-06-09T15:18:38.711Z"
   },
   {
    "duration": 11,
    "start_time": "2024-06-09T15:18:39.477Z"
   },
   {
    "duration": 47,
    "start_time": "2024-06-09T15:18:39.490Z"
   },
   {
    "duration": 163,
    "start_time": "2024-06-09T15:18:39.538Z"
   },
   {
    "duration": 143,
    "start_time": "2024-06-09T15:18:39.702Z"
   },
   {
    "duration": 140,
    "start_time": "2024-06-09T15:18:39.850Z"
   },
   {
    "duration": 152,
    "start_time": "2024-06-09T15:18:39.991Z"
   },
   {
    "duration": 154,
    "start_time": "2024-06-09T15:18:40.145Z"
   },
   {
    "duration": 137,
    "start_time": "2024-06-09T15:18:40.300Z"
   },
   {
    "duration": 140,
    "start_time": "2024-06-09T15:18:40.438Z"
   },
   {
    "duration": 5,
    "start_time": "2024-06-09T15:18:40.580Z"
   },
   {
    "duration": 9,
    "start_time": "2024-06-09T15:18:40.586Z"
   },
   {
    "duration": 19,
    "start_time": "2024-06-09T15:18:40.596Z"
   },
   {
    "duration": 11,
    "start_time": "2024-06-09T15:18:40.616Z"
   },
   {
    "duration": 12,
    "start_time": "2024-06-09T15:18:40.629Z"
   },
   {
    "duration": 185,
    "start_time": "2024-06-09T15:18:40.642Z"
   },
   {
    "duration": 17,
    "start_time": "2024-06-09T15:18:40.828Z"
   },
   {
    "duration": 16,
    "start_time": "2024-06-09T15:29:18.848Z"
   },
   {
    "duration": 115,
    "start_time": "2024-06-09T15:30:01.188Z"
   },
   {
    "duration": 15,
    "start_time": "2024-06-09T15:30:19.344Z"
   },
   {
    "duration": 60,
    "start_time": "2024-06-09T15:32:10.160Z"
   },
   {
    "duration": 15,
    "start_time": "2024-06-09T15:36:01.313Z"
   },
   {
    "duration": 23,
    "start_time": "2024-06-09T15:37:00.206Z"
   },
   {
    "duration": 61,
    "start_time": "2024-06-09T15:38:47.420Z"
   },
   {
    "duration": 164,
    "start_time": "2024-06-09T15:38:55.106Z"
   },
   {
    "duration": 16,
    "start_time": "2024-06-09T15:38:59.737Z"
   },
   {
    "duration": 6,
    "start_time": "2024-06-09T15:47:21.369Z"
   },
   {
    "duration": 3,
    "start_time": "2024-06-09T15:47:35.779Z"
   },
   {
    "duration": 122,
    "start_time": "2024-06-09T15:47:35.784Z"
   },
   {
    "duration": 18,
    "start_time": "2024-06-09T15:47:35.908Z"
   },
   {
    "duration": 33,
    "start_time": "2024-06-09T15:47:35.927Z"
   },
   {
    "duration": 2907,
    "start_time": "2024-06-09T15:47:35.962Z"
   },
   {
    "duration": 8,
    "start_time": "2024-06-09T15:47:38.870Z"
   },
   {
    "duration": 9,
    "start_time": "2024-06-09T15:47:38.879Z"
   },
   {
    "duration": 2,
    "start_time": "2024-06-09T15:47:38.889Z"
   },
   {
    "duration": 3,
    "start_time": "2024-06-09T15:47:38.909Z"
   },
   {
    "duration": 19,
    "start_time": "2024-06-09T15:47:38.913Z"
   },
   {
    "duration": 16,
    "start_time": "2024-06-09T15:47:38.933Z"
   },
   {
    "duration": 8,
    "start_time": "2024-06-09T15:47:38.950Z"
   },
   {
    "duration": 11,
    "start_time": "2024-06-09T15:47:38.960Z"
   },
   {
    "duration": 14,
    "start_time": "2024-06-09T15:47:38.972Z"
   },
   {
    "duration": 37,
    "start_time": "2024-06-09T15:47:38.987Z"
   },
   {
    "duration": 9,
    "start_time": "2024-06-09T15:47:39.026Z"
   },
   {
    "duration": 15,
    "start_time": "2024-06-09T15:47:39.037Z"
   },
   {
    "duration": 15,
    "start_time": "2024-06-09T15:47:39.053Z"
   },
   {
    "duration": 17,
    "start_time": "2024-06-09T15:47:39.069Z"
   },
   {
    "duration": 11,
    "start_time": "2024-06-09T15:47:39.087Z"
   },
   {
    "duration": 12,
    "start_time": "2024-06-09T15:47:39.099Z"
   },
   {
    "duration": 14,
    "start_time": "2024-06-09T15:47:39.112Z"
   },
   {
    "duration": 23,
    "start_time": "2024-06-09T15:47:39.127Z"
   },
   {
    "duration": 4,
    "start_time": "2024-06-09T15:47:39.153Z"
   },
   {
    "duration": 6,
    "start_time": "2024-06-09T15:47:39.158Z"
   },
   {
    "duration": 15,
    "start_time": "2024-06-09T15:47:39.165Z"
   },
   {
    "duration": 39,
    "start_time": "2024-06-09T15:47:39.181Z"
   },
   {
    "duration": 14,
    "start_time": "2024-06-09T15:47:39.222Z"
   },
   {
    "duration": 13,
    "start_time": "2024-06-09T15:47:39.237Z"
   },
   {
    "duration": 228,
    "start_time": "2024-06-09T15:47:39.252Z"
   },
   {
    "duration": 27,
    "start_time": "2024-06-09T15:47:39.482Z"
   },
   {
    "duration": 8,
    "start_time": "2024-06-09T15:47:39.510Z"
   },
   {
    "duration": 28,
    "start_time": "2024-06-09T15:47:39.519Z"
   },
   {
    "duration": 5,
    "start_time": "2024-06-09T15:47:39.549Z"
   },
   {
    "duration": 4,
    "start_time": "2024-06-09T15:47:39.555Z"
   },
   {
    "duration": 4,
    "start_time": "2024-06-09T15:47:39.560Z"
   },
   {
    "duration": 5,
    "start_time": "2024-06-09T15:47:39.565Z"
   },
   {
    "duration": 325,
    "start_time": "2024-06-09T15:47:39.571Z"
   },
   {
    "duration": 13,
    "start_time": "2024-06-09T15:47:39.897Z"
   },
   {
    "duration": 7,
    "start_time": "2024-06-09T15:47:39.912Z"
   },
   {
    "duration": 214,
    "start_time": "2024-06-09T15:47:39.920Z"
   },
   {
    "duration": 8,
    "start_time": "2024-06-09T15:47:40.135Z"
   },
   {
    "duration": 340,
    "start_time": "2024-06-09T15:47:40.144Z"
   },
   {
    "duration": 7,
    "start_time": "2024-06-09T15:47:40.486Z"
   },
   {
    "duration": 251,
    "start_time": "2024-06-09T15:47:40.494Z"
   },
   {
    "duration": 7,
    "start_time": "2024-06-09T15:47:40.747Z"
   },
   {
    "duration": 212,
    "start_time": "2024-06-09T15:47:40.755Z"
   },
   {
    "duration": 145,
    "start_time": "2024-06-09T15:47:40.969Z"
   },
   {
    "duration": 9,
    "start_time": "2024-06-09T15:47:41.116Z"
   },
   {
    "duration": 184,
    "start_time": "2024-06-09T15:47:41.127Z"
   },
   {
    "duration": 134,
    "start_time": "2024-06-09T15:47:41.312Z"
   },
   {
    "duration": 181,
    "start_time": "2024-06-09T15:47:41.448Z"
   },
   {
    "duration": 7,
    "start_time": "2024-06-09T15:47:41.630Z"
   },
   {
    "duration": 286,
    "start_time": "2024-06-09T15:47:41.639Z"
   },
   {
    "duration": 8,
    "start_time": "2024-06-09T15:47:41.927Z"
   },
   {
    "duration": 222,
    "start_time": "2024-06-09T15:47:41.936Z"
   },
   {
    "duration": 6,
    "start_time": "2024-06-09T15:47:42.160Z"
   },
   {
    "duration": 221,
    "start_time": "2024-06-09T15:47:42.168Z"
   },
   {
    "duration": 6,
    "start_time": "2024-06-09T15:47:42.390Z"
   },
   {
    "duration": 228,
    "start_time": "2024-06-09T15:47:42.397Z"
   },
   {
    "duration": 51,
    "start_time": "2024-06-09T15:47:42.626Z"
   },
   {
    "duration": 15,
    "start_time": "2024-06-09T15:47:42.678Z"
   },
   {
    "duration": 31,
    "start_time": "2024-06-09T15:47:42.709Z"
   },
   {
    "duration": 781,
    "start_time": "2024-06-09T15:47:42.742Z"
   },
   {
    "duration": 10,
    "start_time": "2024-06-09T15:47:43.525Z"
   },
   {
    "duration": 51,
    "start_time": "2024-06-09T15:47:43.537Z"
   },
   {
    "duration": 127,
    "start_time": "2024-06-09T15:47:43.590Z"
   },
   {
    "duration": 131,
    "start_time": "2024-06-09T15:47:43.718Z"
   },
   {
    "duration": 142,
    "start_time": "2024-06-09T15:47:43.855Z"
   },
   {
    "duration": 132,
    "start_time": "2024-06-09T15:47:43.999Z"
   },
   {
    "duration": 132,
    "start_time": "2024-06-09T15:47:44.132Z"
   },
   {
    "duration": 164,
    "start_time": "2024-06-09T15:47:44.266Z"
   },
   {
    "duration": 150,
    "start_time": "2024-06-09T15:47:44.432Z"
   },
   {
    "duration": 6,
    "start_time": "2024-06-09T15:47:44.583Z"
   },
   {
    "duration": 28,
    "start_time": "2024-06-09T15:47:44.591Z"
   },
   {
    "duration": 23,
    "start_time": "2024-06-09T15:47:44.621Z"
   },
   {
    "duration": 18,
    "start_time": "2024-06-09T15:47:44.645Z"
   },
   {
    "duration": 14,
    "start_time": "2024-06-09T15:47:44.664Z"
   },
   {
    "duration": 165,
    "start_time": "2024-06-09T15:47:44.679Z"
   },
   {
    "duration": 16,
    "start_time": "2024-06-09T15:47:44.845Z"
   },
   {
    "duration": 5,
    "start_time": "2024-06-09T15:49:00.321Z"
   },
   {
    "duration": 2,
    "start_time": "2024-06-09T15:49:49.168Z"
   },
   {
    "duration": 114,
    "start_time": "2024-06-09T15:49:49.171Z"
   },
   {
    "duration": 30,
    "start_time": "2024-06-09T15:49:49.287Z"
   },
   {
    "duration": 34,
    "start_time": "2024-06-09T15:49:49.318Z"
   },
   {
    "duration": 2923,
    "start_time": "2024-06-09T15:49:49.354Z"
   },
   {
    "duration": 7,
    "start_time": "2024-06-09T15:49:52.279Z"
   },
   {
    "duration": 26,
    "start_time": "2024-06-09T15:49:52.288Z"
   },
   {
    "duration": 7,
    "start_time": "2024-06-09T15:49:52.316Z"
   },
   {
    "duration": 57,
    "start_time": "2024-06-09T15:49:52.325Z"
   },
   {
    "duration": 6,
    "start_time": "2024-06-09T15:49:52.383Z"
   },
   {
    "duration": 8,
    "start_time": "2024-06-09T15:49:52.391Z"
   },
   {
    "duration": 28,
    "start_time": "2024-06-09T15:49:52.400Z"
   },
   {
    "duration": 23,
    "start_time": "2024-06-09T15:49:52.429Z"
   },
   {
    "duration": 3,
    "start_time": "2024-06-09T15:49:52.454Z"
   },
   {
    "duration": 53,
    "start_time": "2024-06-09T15:49:52.458Z"
   },
   {
    "duration": 10,
    "start_time": "2024-06-09T15:49:52.513Z"
   },
   {
    "duration": 34,
    "start_time": "2024-06-09T15:49:52.524Z"
   },
   {
    "duration": 30,
    "start_time": "2024-06-09T15:49:52.559Z"
   },
   {
    "duration": 48,
    "start_time": "2024-06-09T15:49:52.590Z"
   },
   {
    "duration": 34,
    "start_time": "2024-06-09T15:49:52.639Z"
   },
   {
    "duration": 37,
    "start_time": "2024-06-09T15:49:52.675Z"
   },
   {
    "duration": 42,
    "start_time": "2024-06-09T15:49:52.713Z"
   },
   {
    "duration": 31,
    "start_time": "2024-06-09T15:49:52.756Z"
   },
   {
    "duration": 44,
    "start_time": "2024-06-09T15:49:52.789Z"
   },
   {
    "duration": 41,
    "start_time": "2024-06-09T15:49:52.834Z"
   },
   {
    "duration": 61,
    "start_time": "2024-06-09T15:49:52.876Z"
   },
   {
    "duration": 20,
    "start_time": "2024-06-09T15:49:52.938Z"
   },
   {
    "duration": 8,
    "start_time": "2024-06-09T15:49:52.960Z"
   },
   {
    "duration": 22,
    "start_time": "2024-06-09T15:49:52.973Z"
   },
   {
    "duration": 293,
    "start_time": "2024-06-09T15:49:52.996Z"
   },
   {
    "duration": 20,
    "start_time": "2024-06-09T15:49:53.291Z"
   },
   {
    "duration": 8,
    "start_time": "2024-06-09T15:49:53.312Z"
   },
   {
    "duration": 42,
    "start_time": "2024-06-09T15:49:53.322Z"
   },
   {
    "duration": 10,
    "start_time": "2024-06-09T15:49:53.365Z"
   },
   {
    "duration": 25,
    "start_time": "2024-06-09T15:49:53.376Z"
   },
   {
    "duration": 37,
    "start_time": "2024-06-09T15:49:53.403Z"
   },
   {
    "duration": 30,
    "start_time": "2024-06-09T15:49:53.442Z"
   },
   {
    "duration": 365,
    "start_time": "2024-06-09T15:49:53.473Z"
   },
   {
    "duration": 6,
    "start_time": "2024-06-09T15:49:53.839Z"
   },
   {
    "duration": 14,
    "start_time": "2024-06-09T15:49:53.846Z"
   },
   {
    "duration": 213,
    "start_time": "2024-06-09T15:49:53.861Z"
   },
   {
    "duration": 7,
    "start_time": "2024-06-09T15:49:54.075Z"
   },
   {
    "duration": 335,
    "start_time": "2024-06-09T15:49:54.083Z"
   },
   {
    "duration": 7,
    "start_time": "2024-06-09T15:49:54.419Z"
   },
   {
    "duration": 253,
    "start_time": "2024-06-09T15:49:54.427Z"
   },
   {
    "duration": 8,
    "start_time": "2024-06-09T15:49:54.681Z"
   },
   {
    "duration": 216,
    "start_time": "2024-06-09T15:49:54.690Z"
   },
   {
    "duration": 135,
    "start_time": "2024-06-09T15:49:54.908Z"
   },
   {
    "duration": 7,
    "start_time": "2024-06-09T15:49:55.045Z"
   },
   {
    "duration": 186,
    "start_time": "2024-06-09T15:49:55.053Z"
   },
   {
    "duration": 138,
    "start_time": "2024-06-09T15:49:55.241Z"
   },
   {
    "duration": 156,
    "start_time": "2024-06-09T15:49:55.381Z"
   },
   {
    "duration": 8,
    "start_time": "2024-06-09T15:49:55.538Z"
   },
   {
    "duration": 291,
    "start_time": "2024-06-09T15:49:55.547Z"
   },
   {
    "duration": 8,
    "start_time": "2024-06-09T15:49:55.839Z"
   },
   {
    "duration": 237,
    "start_time": "2024-06-09T15:49:55.848Z"
   },
   {
    "duration": 7,
    "start_time": "2024-06-09T15:49:56.086Z"
   },
   {
    "duration": 221,
    "start_time": "2024-06-09T15:49:56.094Z"
   },
   {
    "duration": 8,
    "start_time": "2024-06-09T15:49:56.316Z"
   },
   {
    "duration": 230,
    "start_time": "2024-06-09T15:49:56.325Z"
   },
   {
    "duration": 53,
    "start_time": "2024-06-09T15:49:56.557Z"
   },
   {
    "duration": 15,
    "start_time": "2024-06-09T15:49:56.612Z"
   },
   {
    "duration": 27,
    "start_time": "2024-06-09T15:49:56.629Z"
   },
   {
    "duration": 807,
    "start_time": "2024-06-09T15:49:56.657Z"
   },
   {
    "duration": 11,
    "start_time": "2024-06-09T15:49:57.466Z"
   },
   {
    "duration": 52,
    "start_time": "2024-06-09T15:49:57.479Z"
   },
   {
    "duration": 135,
    "start_time": "2024-06-09T15:49:57.532Z"
   },
   {
    "duration": 133,
    "start_time": "2024-06-09T15:49:57.669Z"
   },
   {
    "duration": 132,
    "start_time": "2024-06-09T15:49:57.804Z"
   },
   {
    "duration": 135,
    "start_time": "2024-06-09T15:49:57.937Z"
   },
   {
    "duration": 138,
    "start_time": "2024-06-09T15:49:58.073Z"
   },
   {
    "duration": 144,
    "start_time": "2024-06-09T15:49:58.212Z"
   },
   {
    "duration": 146,
    "start_time": "2024-06-09T15:49:58.357Z"
   },
   {
    "duration": 7,
    "start_time": "2024-06-09T15:49:58.508Z"
   },
   {
    "duration": 18,
    "start_time": "2024-06-09T15:49:58.516Z"
   },
   {
    "duration": 7,
    "start_time": "2024-06-09T15:49:58.535Z"
   },
   {
    "duration": 14,
    "start_time": "2024-06-09T15:49:58.543Z"
   },
   {
    "duration": 13,
    "start_time": "2024-06-09T15:49:58.558Z"
   },
   {
    "duration": 177,
    "start_time": "2024-06-09T15:49:58.572Z"
   },
   {
    "duration": 15,
    "start_time": "2024-06-09T15:49:58.751Z"
   },
   {
    "duration": 51,
    "start_time": "2024-06-09T20:17:41.685Z"
   },
   {
    "duration": 670,
    "start_time": "2024-06-09T20:18:47.525Z"
   },
   {
    "duration": 239,
    "start_time": "2024-06-09T20:18:48.196Z"
   },
   {
    "duration": 25,
    "start_time": "2024-06-09T20:18:48.437Z"
   },
   {
    "duration": 41,
    "start_time": "2024-06-09T20:18:48.465Z"
   },
   {
    "duration": 3585,
    "start_time": "2024-06-09T20:18:48.508Z"
   },
   {
    "duration": 10,
    "start_time": "2024-06-09T20:18:52.095Z"
   },
   {
    "duration": 10,
    "start_time": "2024-06-09T20:18:52.107Z"
   },
   {
    "duration": 3,
    "start_time": "2024-06-09T20:18:52.118Z"
   },
   {
    "duration": 7,
    "start_time": "2024-06-09T20:18:52.123Z"
   },
   {
    "duration": 5,
    "start_time": "2024-06-09T20:18:52.133Z"
   },
   {
    "duration": 13,
    "start_time": "2024-06-09T20:18:52.139Z"
   },
   {
    "duration": 33,
    "start_time": "2024-06-09T20:18:52.153Z"
   },
   {
    "duration": 9,
    "start_time": "2024-06-09T20:18:52.188Z"
   },
   {
    "duration": 34,
    "start_time": "2024-06-09T20:18:52.199Z"
   },
   {
    "duration": 48,
    "start_time": "2024-06-09T20:18:52.235Z"
   },
   {
    "duration": 12,
    "start_time": "2024-06-09T20:18:52.285Z"
   },
   {
    "duration": 8,
    "start_time": "2024-06-09T20:18:52.299Z"
   },
   {
    "duration": 4,
    "start_time": "2024-06-09T20:18:52.309Z"
   },
   {
    "duration": 31,
    "start_time": "2024-06-09T20:18:52.315Z"
   },
   {
    "duration": 6,
    "start_time": "2024-06-09T20:18:52.347Z"
   },
   {
    "duration": 9,
    "start_time": "2024-06-09T20:18:52.355Z"
   },
   {
    "duration": 20,
    "start_time": "2024-06-09T20:18:52.365Z"
   },
   {
    "duration": 13,
    "start_time": "2024-06-09T20:18:52.386Z"
   },
   {
    "duration": 17,
    "start_time": "2024-06-09T20:18:52.400Z"
   },
   {
    "duration": 5,
    "start_time": "2024-06-09T20:18:52.419Z"
   },
   {
    "duration": 6,
    "start_time": "2024-06-09T20:18:52.425Z"
   },
   {
    "duration": 11,
    "start_time": "2024-06-09T20:18:52.433Z"
   },
   {
    "duration": 9,
    "start_time": "2024-06-09T20:18:52.448Z"
   },
   {
    "duration": 33,
    "start_time": "2024-06-09T20:18:52.459Z"
   },
   {
    "duration": 272,
    "start_time": "2024-06-09T20:18:52.494Z"
   },
   {
    "duration": 17,
    "start_time": "2024-06-09T20:18:52.767Z"
   },
   {
    "duration": 7,
    "start_time": "2024-06-09T20:18:52.785Z"
   },
   {
    "duration": 23,
    "start_time": "2024-06-09T20:18:52.793Z"
   },
   {
    "duration": 7,
    "start_time": "2024-06-09T20:18:52.818Z"
   },
   {
    "duration": 7,
    "start_time": "2024-06-09T20:18:52.826Z"
   },
   {
    "duration": 7,
    "start_time": "2024-06-09T20:18:52.834Z"
   },
   {
    "duration": 6,
    "start_time": "2024-06-09T20:18:52.843Z"
   },
   {
    "duration": 375,
    "start_time": "2024-06-09T20:18:52.850Z"
   },
   {
    "duration": 6,
    "start_time": "2024-06-09T20:18:53.226Z"
   },
   {
    "duration": 9,
    "start_time": "2024-06-09T20:18:53.234Z"
   },
   {
    "duration": 276,
    "start_time": "2024-06-09T20:18:53.245Z"
   },
   {
    "duration": 9,
    "start_time": "2024-06-09T20:18:53.522Z"
   },
   {
    "duration": 273,
    "start_time": "2024-06-09T20:18:53.532Z"
   },
   {
    "duration": 9,
    "start_time": "2024-06-09T20:18:53.806Z"
   },
   {
    "duration": 282,
    "start_time": "2024-06-09T20:18:53.816Z"
   },
   {
    "duration": 8,
    "start_time": "2024-06-09T20:18:54.100Z"
   },
   {
    "duration": 448,
    "start_time": "2024-06-09T20:18:54.110Z"
   },
   {
    "duration": 170,
    "start_time": "2024-06-09T20:18:54.560Z"
   },
   {
    "duration": 9,
    "start_time": "2024-06-09T20:18:54.731Z"
   },
   {
    "duration": 215,
    "start_time": "2024-06-09T20:18:54.742Z"
   },
   {
    "duration": 156,
    "start_time": "2024-06-09T20:18:54.958Z"
   },
   {
    "duration": 190,
    "start_time": "2024-06-09T20:18:55.116Z"
   },
   {
    "duration": 9,
    "start_time": "2024-06-09T20:18:55.307Z"
   },
   {
    "duration": 264,
    "start_time": "2024-06-09T20:18:55.318Z"
   },
   {
    "duration": 10,
    "start_time": "2024-06-09T20:18:55.584Z"
   },
   {
    "duration": 277,
    "start_time": "2024-06-09T20:18:55.596Z"
   },
   {
    "duration": 13,
    "start_time": "2024-06-09T20:18:55.875Z"
   },
   {
    "duration": 372,
    "start_time": "2024-06-09T20:18:55.889Z"
   },
   {
    "duration": 8,
    "start_time": "2024-06-09T20:18:56.263Z"
   },
   {
    "duration": 269,
    "start_time": "2024-06-09T20:18:56.283Z"
   },
   {
    "duration": 52,
    "start_time": "2024-06-09T20:18:56.554Z"
   },
   {
    "duration": 14,
    "start_time": "2024-06-09T20:18:56.608Z"
   },
   {
    "duration": 74,
    "start_time": "2024-06-09T20:18:56.624Z"
   },
   {
    "duration": 821,
    "start_time": "2024-06-09T20:18:56.700Z"
   },
   {
    "duration": 92,
    "start_time": "2024-06-09T20:18:57.524Z"
   },
   {
    "duration": 38,
    "start_time": "2024-06-09T20:18:57.618Z"
   },
   {
    "duration": 177,
    "start_time": "2024-06-09T20:18:57.658Z"
   },
   {
    "duration": 197,
    "start_time": "2024-06-09T20:18:57.837Z"
   },
   {
    "duration": 174,
    "start_time": "2024-06-09T20:18:58.036Z"
   },
   {
    "duration": 148,
    "start_time": "2024-06-09T20:18:58.212Z"
   },
   {
    "duration": 160,
    "start_time": "2024-06-09T20:18:58.362Z"
   },
   {
    "duration": 160,
    "start_time": "2024-06-09T20:18:58.524Z"
   },
   {
    "duration": 155,
    "start_time": "2024-06-09T20:18:58.685Z"
   },
   {
    "duration": 6,
    "start_time": "2024-06-09T20:18:58.841Z"
   },
   {
    "duration": 10,
    "start_time": "2024-06-09T20:18:58.848Z"
   },
   {
    "duration": 8,
    "start_time": "2024-06-09T20:18:58.859Z"
   },
   {
    "duration": 14,
    "start_time": "2024-06-09T20:18:58.882Z"
   },
   {
    "duration": 13,
    "start_time": "2024-06-09T20:18:58.898Z"
   },
   {
    "duration": 210,
    "start_time": "2024-06-09T20:18:58.912Z"
   },
   {
    "duration": 18,
    "start_time": "2024-06-09T20:18:59.123Z"
   },
   {
    "duration": 22,
    "start_time": "2024-06-09T20:19:15.385Z"
   },
   {
    "duration": 56,
    "start_time": "2024-06-10T10:28:24.907Z"
   },
   {
    "duration": 935,
    "start_time": "2024-06-10T10:28:37.142Z"
   },
   {
    "duration": 244,
    "start_time": "2024-06-10T10:28:38.079Z"
   },
   {
    "duration": 27,
    "start_time": "2024-06-10T10:28:38.324Z"
   },
   {
    "duration": 40,
    "start_time": "2024-06-10T10:28:38.353Z"
   },
   {
    "duration": 3799,
    "start_time": "2024-06-10T10:28:38.395Z"
   },
   {
    "duration": 10,
    "start_time": "2024-06-10T10:28:42.196Z"
   },
   {
    "duration": 39,
    "start_time": "2024-06-10T10:28:42.208Z"
   },
   {
    "duration": 5,
    "start_time": "2024-06-10T10:28:42.249Z"
   },
   {
    "duration": 24,
    "start_time": "2024-06-10T10:28:42.255Z"
   },
   {
    "duration": 12,
    "start_time": "2024-06-10T10:28:42.280Z"
   },
   {
    "duration": 11,
    "start_time": "2024-06-10T10:28:42.294Z"
   },
   {
    "duration": 8,
    "start_time": "2024-06-10T10:28:42.307Z"
   },
   {
    "duration": 27,
    "start_time": "2024-06-10T10:28:42.317Z"
   },
   {
    "duration": 5,
    "start_time": "2024-06-10T10:28:42.347Z"
   },
   {
    "duration": 58,
    "start_time": "2024-06-10T10:28:42.354Z"
   },
   {
    "duration": 12,
    "start_time": "2024-06-10T10:28:42.414Z"
   },
   {
    "duration": 17,
    "start_time": "2024-06-10T10:28:42.428Z"
   },
   {
    "duration": 76,
    "start_time": "2024-06-10T10:28:42.447Z"
   },
   {
    "duration": 28,
    "start_time": "2024-06-10T10:28:42.525Z"
   },
   {
    "duration": 7,
    "start_time": "2024-06-10T10:28:42.555Z"
   },
   {
    "duration": 8,
    "start_time": "2024-06-10T10:28:42.563Z"
   },
   {
    "duration": 7,
    "start_time": "2024-06-10T10:28:42.573Z"
   },
   {
    "duration": 7,
    "start_time": "2024-06-10T10:28:42.581Z"
   },
   {
    "duration": 6,
    "start_time": "2024-06-10T10:28:42.590Z"
   },
   {
    "duration": 21,
    "start_time": "2024-06-10T10:28:42.597Z"
   },
   {
    "duration": 11,
    "start_time": "2024-06-10T10:28:42.620Z"
   },
   {
    "duration": 20,
    "start_time": "2024-06-10T10:28:42.632Z"
   },
   {
    "duration": 8,
    "start_time": "2024-06-10T10:28:42.654Z"
   },
   {
    "duration": 18,
    "start_time": "2024-06-10T10:28:42.663Z"
   },
   {
    "duration": 280,
    "start_time": "2024-06-10T10:28:42.683Z"
   },
   {
    "duration": 22,
    "start_time": "2024-06-10T10:28:42.966Z"
   },
   {
    "duration": 8,
    "start_time": "2024-06-10T10:28:42.990Z"
   },
   {
    "duration": 14,
    "start_time": "2024-06-10T10:28:43.000Z"
   },
   {
    "duration": 17,
    "start_time": "2024-06-10T10:28:43.016Z"
   },
   {
    "duration": 9,
    "start_time": "2024-06-10T10:28:43.035Z"
   },
   {
    "duration": 24,
    "start_time": "2024-06-10T10:28:43.061Z"
   },
   {
    "duration": 5,
    "start_time": "2024-06-10T10:28:43.087Z"
   },
   {
    "duration": 352,
    "start_time": "2024-06-10T10:28:43.094Z"
   },
   {
    "duration": 14,
    "start_time": "2024-06-10T10:28:43.448Z"
   },
   {
    "duration": 8,
    "start_time": "2024-06-10T10:28:43.464Z"
   },
   {
    "duration": 274,
    "start_time": "2024-06-10T10:28:43.477Z"
   },
   {
    "duration": 9,
    "start_time": "2024-06-10T10:28:43.760Z"
   },
   {
    "duration": 266,
    "start_time": "2024-06-10T10:28:43.771Z"
   },
   {
    "duration": 9,
    "start_time": "2024-06-10T10:28:44.038Z"
   },
   {
    "duration": 274,
    "start_time": "2024-06-10T10:28:44.048Z"
   },
   {
    "duration": 11,
    "start_time": "2024-06-10T10:28:44.324Z"
   },
   {
    "duration": 532,
    "start_time": "2024-06-10T10:28:44.337Z"
   },
   {
    "duration": 171,
    "start_time": "2024-06-10T10:28:44.871Z"
   },
   {
    "duration": 9,
    "start_time": "2024-06-10T10:28:45.044Z"
   },
   {
    "duration": 212,
    "start_time": "2024-06-10T10:28:45.061Z"
   },
   {
    "duration": 159,
    "start_time": "2024-06-10T10:28:45.275Z"
   },
   {
    "duration": 190,
    "start_time": "2024-06-10T10:28:45.435Z"
   },
   {
    "duration": 9,
    "start_time": "2024-06-10T10:28:45.627Z"
   },
   {
    "duration": 280,
    "start_time": "2024-06-10T10:28:45.637Z"
   },
   {
    "duration": 10,
    "start_time": "2024-06-10T10:28:45.919Z"
   },
   {
    "duration": 306,
    "start_time": "2024-06-10T10:28:45.931Z"
   },
   {
    "duration": 9,
    "start_time": "2024-06-10T10:28:46.239Z"
   },
   {
    "duration": 374,
    "start_time": "2024-06-10T10:28:46.260Z"
   },
   {
    "duration": 8,
    "start_time": "2024-06-10T10:28:46.635Z"
   },
   {
    "duration": 278,
    "start_time": "2024-06-10T10:28:46.645Z"
   },
   {
    "duration": 49,
    "start_time": "2024-06-10T10:28:46.925Z"
   },
   {
    "duration": 15,
    "start_time": "2024-06-10T10:28:46.976Z"
   },
   {
    "duration": 95,
    "start_time": "2024-06-10T10:28:46.993Z"
   },
   {
    "duration": 851,
    "start_time": "2024-06-10T10:28:47.090Z"
   },
   {
    "duration": 102,
    "start_time": "2024-06-10T10:28:47.943Z"
   },
   {
    "duration": 41,
    "start_time": "2024-06-10T10:28:48.047Z"
   },
   {
    "duration": 177,
    "start_time": "2024-06-10T10:28:48.090Z"
   },
   {
    "duration": 165,
    "start_time": "2024-06-10T10:28:48.269Z"
   },
   {
    "duration": 169,
    "start_time": "2024-06-10T10:28:48.436Z"
   },
   {
    "duration": 161,
    "start_time": "2024-06-10T10:28:48.607Z"
   },
   {
    "duration": 161,
    "start_time": "2024-06-10T10:28:48.770Z"
   },
   {
    "duration": 172,
    "start_time": "2024-06-10T10:28:48.933Z"
   },
   {
    "duration": 180,
    "start_time": "2024-06-10T10:28:49.107Z"
   },
   {
    "duration": 8,
    "start_time": "2024-06-10T10:28:49.289Z"
   },
   {
    "duration": 20,
    "start_time": "2024-06-10T10:28:49.299Z"
   },
   {
    "duration": 18,
    "start_time": "2024-06-10T10:28:49.321Z"
   },
   {
    "duration": 20,
    "start_time": "2024-06-10T10:28:49.341Z"
   },
   {
    "duration": 15,
    "start_time": "2024-06-10T10:28:49.362Z"
   },
   {
    "duration": 229,
    "start_time": "2024-06-10T10:28:49.378Z"
   },
   {
    "duration": 18,
    "start_time": "2024-06-10T10:28:49.609Z"
   },
   {
    "duration": 8,
    "start_time": "2024-06-10T11:01:25.240Z"
   },
   {
    "duration": 3,
    "start_time": "2024-06-10T11:01:30.019Z"
   },
   {
    "duration": 159,
    "start_time": "2024-06-10T11:01:30.024Z"
   },
   {
    "duration": 23,
    "start_time": "2024-06-10T11:01:30.185Z"
   },
   {
    "duration": 94,
    "start_time": "2024-06-10T11:01:30.210Z"
   },
   {
    "duration": 3812,
    "start_time": "2024-06-10T11:01:30.307Z"
   },
   {
    "duration": 11,
    "start_time": "2024-06-10T11:01:34.121Z"
   },
   {
    "duration": 34,
    "start_time": "2024-06-10T11:01:34.134Z"
   },
   {
    "duration": 4,
    "start_time": "2024-06-10T11:01:34.169Z"
   },
   {
    "duration": 5,
    "start_time": "2024-06-10T11:01:34.174Z"
   },
   {
    "duration": 14,
    "start_time": "2024-06-10T11:01:34.181Z"
   },
   {
    "duration": 10,
    "start_time": "2024-06-10T11:01:34.198Z"
   },
   {
    "duration": 11,
    "start_time": "2024-06-10T11:01:34.210Z"
   },
   {
    "duration": 9,
    "start_time": "2024-06-10T11:01:34.222Z"
   },
   {
    "duration": 36,
    "start_time": "2024-06-10T11:01:34.233Z"
   },
   {
    "duration": 4,
    "start_time": "2024-06-10T11:01:34.271Z"
   },
   {
    "duration": 47,
    "start_time": "2024-06-10T11:01:34.277Z"
   },
   {
    "duration": 14,
    "start_time": "2024-06-10T11:01:34.325Z"
   },
   {
    "duration": 12,
    "start_time": "2024-06-10T11:01:34.362Z"
   },
   {
    "duration": 6,
    "start_time": "2024-06-10T11:01:34.376Z"
   },
   {
    "duration": 15,
    "start_time": "2024-06-10T11:01:34.385Z"
   },
   {
    "duration": 7,
    "start_time": "2024-06-10T11:01:34.402Z"
   },
   {
    "duration": 8,
    "start_time": "2024-06-10T11:01:34.411Z"
   },
   {
    "duration": 12,
    "start_time": "2024-06-10T11:01:34.421Z"
   },
   {
    "duration": 7,
    "start_time": "2024-06-10T11:01:34.461Z"
   },
   {
    "duration": 1459,
    "start_time": "2024-06-10T11:01:34.469Z"
   },
   {
    "duration": 0,
    "start_time": "2024-06-10T11:01:35.932Z"
   },
   {
    "duration": 0,
    "start_time": "2024-06-10T11:01:35.933Z"
   },
   {
    "duration": 0,
    "start_time": "2024-06-10T11:01:35.935Z"
   },
   {
    "duration": 0,
    "start_time": "2024-06-10T11:01:35.937Z"
   },
   {
    "duration": 0,
    "start_time": "2024-06-10T11:01:35.939Z"
   },
   {
    "duration": 0,
    "start_time": "2024-06-10T11:01:35.940Z"
   },
   {
    "duration": 1,
    "start_time": "2024-06-10T11:01:35.941Z"
   },
   {
    "duration": 0,
    "start_time": "2024-06-10T11:01:35.943Z"
   },
   {
    "duration": 0,
    "start_time": "2024-06-10T11:01:35.945Z"
   },
   {
    "duration": 0,
    "start_time": "2024-06-10T11:01:35.946Z"
   },
   {
    "duration": 0,
    "start_time": "2024-06-10T11:01:35.947Z"
   },
   {
    "duration": 0,
    "start_time": "2024-06-10T11:01:35.948Z"
   },
   {
    "duration": 0,
    "start_time": "2024-06-10T11:01:35.949Z"
   },
   {
    "duration": 0,
    "start_time": "2024-06-10T11:01:35.950Z"
   },
   {
    "duration": 0,
    "start_time": "2024-06-10T11:01:35.951Z"
   },
   {
    "duration": 0,
    "start_time": "2024-06-10T11:01:35.952Z"
   },
   {
    "duration": 0,
    "start_time": "2024-06-10T11:01:35.953Z"
   },
   {
    "duration": 0,
    "start_time": "2024-06-10T11:01:35.954Z"
   },
   {
    "duration": 0,
    "start_time": "2024-06-10T11:01:35.956Z"
   },
   {
    "duration": 0,
    "start_time": "2024-06-10T11:01:35.957Z"
   },
   {
    "duration": 0,
    "start_time": "2024-06-10T11:01:35.959Z"
   },
   {
    "duration": 0,
    "start_time": "2024-06-10T11:01:35.960Z"
   },
   {
    "duration": 0,
    "start_time": "2024-06-10T11:01:35.961Z"
   },
   {
    "duration": 0,
    "start_time": "2024-06-10T11:01:35.963Z"
   },
   {
    "duration": 0,
    "start_time": "2024-06-10T11:01:35.964Z"
   },
   {
    "duration": 0,
    "start_time": "2024-06-10T11:01:35.966Z"
   },
   {
    "duration": 0,
    "start_time": "2024-06-10T11:01:35.968Z"
   },
   {
    "duration": 0,
    "start_time": "2024-06-10T11:01:35.969Z"
   },
   {
    "duration": 0,
    "start_time": "2024-06-10T11:01:35.971Z"
   },
   {
    "duration": 0,
    "start_time": "2024-06-10T11:01:35.973Z"
   },
   {
    "duration": 0,
    "start_time": "2024-06-10T11:01:35.974Z"
   },
   {
    "duration": 0,
    "start_time": "2024-06-10T11:01:35.976Z"
   },
   {
    "duration": 0,
    "start_time": "2024-06-10T11:01:35.977Z"
   },
   {
    "duration": 0,
    "start_time": "2024-06-10T11:01:35.979Z"
   },
   {
    "duration": 0,
    "start_time": "2024-06-10T11:01:35.981Z"
   },
   {
    "duration": 0,
    "start_time": "2024-06-10T11:01:35.982Z"
   },
   {
    "duration": 0,
    "start_time": "2024-06-10T11:01:35.984Z"
   },
   {
    "duration": 0,
    "start_time": "2024-06-10T11:01:35.985Z"
   },
   {
    "duration": 0,
    "start_time": "2024-06-10T11:01:35.987Z"
   },
   {
    "duration": 0,
    "start_time": "2024-06-10T11:01:35.988Z"
   },
   {
    "duration": 0,
    "start_time": "2024-06-10T11:01:35.990Z"
   },
   {
    "duration": 0,
    "start_time": "2024-06-10T11:01:35.992Z"
   },
   {
    "duration": 0,
    "start_time": "2024-06-10T11:01:35.993Z"
   },
   {
    "duration": 0,
    "start_time": "2024-06-10T11:01:35.995Z"
   },
   {
    "duration": 0,
    "start_time": "2024-06-10T11:01:35.996Z"
   },
   {
    "duration": 0,
    "start_time": "2024-06-10T11:01:35.998Z"
   },
   {
    "duration": 0,
    "start_time": "2024-06-10T11:01:35.999Z"
   },
   {
    "duration": 0,
    "start_time": "2024-06-10T11:01:36.001Z"
   },
   {
    "duration": 0,
    "start_time": "2024-06-10T11:01:36.061Z"
   },
   {
    "duration": 0,
    "start_time": "2024-06-10T11:01:36.063Z"
   },
   {
    "duration": 0,
    "start_time": "2024-06-10T11:01:36.065Z"
   },
   {
    "duration": 0,
    "start_time": "2024-06-10T11:01:36.067Z"
   },
   {
    "duration": 0,
    "start_time": "2024-06-10T11:01:36.068Z"
   },
   {
    "duration": 0,
    "start_time": "2024-06-10T11:01:36.069Z"
   },
   {
    "duration": 0,
    "start_time": "2024-06-10T11:01:36.074Z"
   },
   {
    "duration": 0,
    "start_time": "2024-06-10T11:01:36.075Z"
   },
   {
    "duration": 5,
    "start_time": "2024-06-10T11:03:06.095Z"
   },
   {
    "duration": 5,
    "start_time": "2024-06-10T11:05:41.263Z"
   },
   {
    "duration": 5,
    "start_time": "2024-06-10T11:06:00.218Z"
   },
   {
    "duration": 24,
    "start_time": "2024-06-10T11:06:20.191Z"
   },
   {
    "duration": 4,
    "start_time": "2024-06-10T11:18:26.378Z"
   },
   {
    "duration": 4,
    "start_time": "2024-06-10T11:18:27.491Z"
   },
   {
    "duration": 30,
    "start_time": "2024-06-10T11:18:29.850Z"
   },
   {
    "duration": 4,
    "start_time": "2024-06-10T11:18:45.677Z"
   },
   {
    "duration": 4,
    "start_time": "2024-06-10T11:18:47.534Z"
   },
   {
    "duration": 22,
    "start_time": "2024-06-10T11:18:48.494Z"
   },
   {
    "duration": 5,
    "start_time": "2024-06-10T11:22:07.056Z"
   },
   {
    "duration": 3,
    "start_time": "2024-06-10T11:22:07.750Z"
   },
   {
    "duration": 20,
    "start_time": "2024-06-10T11:22:08.958Z"
   },
   {
    "duration": 3,
    "start_time": "2024-06-10T11:26:44.399Z"
   },
   {
    "duration": 130,
    "start_time": "2024-06-10T11:26:44.403Z"
   },
   {
    "duration": 43,
    "start_time": "2024-06-10T11:26:44.535Z"
   },
   {
    "duration": 43,
    "start_time": "2024-06-10T11:26:44.579Z"
   },
   {
    "duration": 3864,
    "start_time": "2024-06-10T11:26:44.624Z"
   },
   {
    "duration": 9,
    "start_time": "2024-06-10T11:26:48.490Z"
   },
   {
    "duration": 26,
    "start_time": "2024-06-10T11:26:48.501Z"
   },
   {
    "duration": 3,
    "start_time": "2024-06-10T11:26:48.529Z"
   },
   {
    "duration": 10,
    "start_time": "2024-06-10T11:26:48.533Z"
   },
   {
    "duration": 4,
    "start_time": "2024-06-10T11:26:48.545Z"
   },
   {
    "duration": 4,
    "start_time": "2024-06-10T11:26:48.561Z"
   },
   {
    "duration": 11,
    "start_time": "2024-06-10T11:26:48.567Z"
   },
   {
    "duration": 6,
    "start_time": "2024-06-10T11:26:48.579Z"
   },
   {
    "duration": 16,
    "start_time": "2024-06-10T11:26:48.586Z"
   },
   {
    "duration": 64,
    "start_time": "2024-06-10T11:26:48.604Z"
   },
   {
    "duration": 47,
    "start_time": "2024-06-10T11:26:48.669Z"
   },
   {
    "duration": 12,
    "start_time": "2024-06-10T11:26:48.718Z"
   },
   {
    "duration": 4,
    "start_time": "2024-06-10T11:26:48.732Z"
   },
   {
    "duration": 7,
    "start_time": "2024-06-10T11:26:48.738Z"
   },
   {
    "duration": 15,
    "start_time": "2024-06-10T11:26:48.746Z"
   },
   {
    "duration": 4,
    "start_time": "2024-06-10T11:26:48.763Z"
   },
   {
    "duration": 23,
    "start_time": "2024-06-10T11:26:48.768Z"
   },
   {
    "duration": 11,
    "start_time": "2024-06-10T11:26:48.793Z"
   },
   {
    "duration": 6,
    "start_time": "2024-06-10T11:26:48.806Z"
   },
   {
    "duration": 16,
    "start_time": "2024-06-10T11:26:48.814Z"
   },
   {
    "duration": 33,
    "start_time": "2024-06-10T11:26:48.831Z"
   },
   {
    "duration": 5,
    "start_time": "2024-06-10T11:26:48.866Z"
   },
   {
    "duration": 5,
    "start_time": "2024-06-10T11:26:48.872Z"
   },
   {
    "duration": 22,
    "start_time": "2024-06-10T11:26:48.882Z"
   },
   {
    "duration": 14,
    "start_time": "2024-06-10T11:26:48.906Z"
   },
   {
    "duration": 11,
    "start_time": "2024-06-10T11:26:48.922Z"
   },
   {
    "duration": 6,
    "start_time": "2024-06-10T11:26:48.935Z"
   },
   {
    "duration": 28,
    "start_time": "2024-06-10T11:26:48.942Z"
   },
   {
    "duration": 261,
    "start_time": "2024-06-10T11:26:48.972Z"
   },
   {
    "duration": 16,
    "start_time": "2024-06-10T11:26:49.235Z"
   },
   {
    "duration": 8,
    "start_time": "2024-06-10T11:26:49.260Z"
   },
   {
    "duration": 12,
    "start_time": "2024-06-10T11:26:49.270Z"
   },
   {
    "duration": 5,
    "start_time": "2024-06-10T11:26:49.284Z"
   },
   {
    "duration": 8,
    "start_time": "2024-06-10T11:26:49.291Z"
   },
   {
    "duration": 18,
    "start_time": "2024-06-10T11:26:49.301Z"
   },
   {
    "duration": 5,
    "start_time": "2024-06-10T11:26:49.321Z"
   },
   {
    "duration": 546,
    "start_time": "2024-06-10T11:26:49.328Z"
   },
   {
    "duration": 6,
    "start_time": "2024-06-10T11:26:49.876Z"
   },
   {
    "duration": 9,
    "start_time": "2024-06-10T11:26:49.883Z"
   },
   {
    "duration": 272,
    "start_time": "2024-06-10T11:26:49.893Z"
   },
   {
    "duration": 9,
    "start_time": "2024-06-10T11:26:50.166Z"
   },
   {
    "duration": 265,
    "start_time": "2024-06-10T11:26:50.177Z"
   },
   {
    "duration": 9,
    "start_time": "2024-06-10T11:26:50.443Z"
   },
   {
    "duration": 260,
    "start_time": "2024-06-10T11:26:50.460Z"
   },
   {
    "duration": 10,
    "start_time": "2024-06-10T11:26:50.722Z"
   },
   {
    "duration": 269,
    "start_time": "2024-06-10T11:26:50.733Z"
   },
   {
    "duration": 169,
    "start_time": "2024-06-10T11:26:51.003Z"
   },
   {
    "duration": 10,
    "start_time": "2024-06-10T11:26:51.174Z"
   },
   {
    "duration": 241,
    "start_time": "2024-06-10T11:26:51.186Z"
   },
   {
    "duration": 245,
    "start_time": "2024-06-10T11:26:51.429Z"
   },
   {
    "duration": 220,
    "start_time": "2024-06-10T11:26:51.677Z"
   },
   {
    "duration": 11,
    "start_time": "2024-06-10T11:26:51.899Z"
   },
   {
    "duration": 291,
    "start_time": "2024-06-10T11:26:51.912Z"
   },
   {
    "duration": 10,
    "start_time": "2024-06-10T11:26:52.205Z"
   },
   {
    "duration": 285,
    "start_time": "2024-06-10T11:26:52.217Z"
   },
   {
    "duration": 9,
    "start_time": "2024-06-10T11:26:52.504Z"
   },
   {
    "duration": 292,
    "start_time": "2024-06-10T11:26:52.514Z"
   },
   {
    "duration": 9,
    "start_time": "2024-06-10T11:26:52.807Z"
   },
   {
    "duration": 298,
    "start_time": "2024-06-10T11:26:52.817Z"
   },
   {
    "duration": 58,
    "start_time": "2024-06-10T11:26:53.116Z"
   },
   {
    "duration": 16,
    "start_time": "2024-06-10T11:26:53.176Z"
   },
   {
    "duration": 30,
    "start_time": "2024-06-10T11:26:53.194Z"
   },
   {
    "duration": 936,
    "start_time": "2024-06-10T11:26:53.226Z"
   },
   {
    "duration": 11,
    "start_time": "2024-06-10T11:26:54.164Z"
   },
   {
    "duration": 41,
    "start_time": "2024-06-10T11:26:54.176Z"
   },
   {
    "duration": 190,
    "start_time": "2024-06-10T11:26:54.219Z"
   },
   {
    "duration": 175,
    "start_time": "2024-06-10T11:26:54.411Z"
   },
   {
    "duration": 187,
    "start_time": "2024-06-10T11:26:54.588Z"
   },
   {
    "duration": 157,
    "start_time": "2024-06-10T11:26:54.777Z"
   },
   {
    "duration": 158,
    "start_time": "2024-06-10T11:26:54.935Z"
   },
   {
    "duration": 162,
    "start_time": "2024-06-10T11:26:55.095Z"
   },
   {
    "duration": 237,
    "start_time": "2024-06-10T11:26:55.261Z"
   },
   {
    "duration": 7,
    "start_time": "2024-06-10T11:26:55.499Z"
   },
   {
    "duration": 11,
    "start_time": "2024-06-10T11:26:55.507Z"
   },
   {
    "duration": 8,
    "start_time": "2024-06-10T11:26:55.520Z"
   },
   {
    "duration": 38,
    "start_time": "2024-06-10T11:26:55.530Z"
   },
   {
    "duration": 15,
    "start_time": "2024-06-10T11:26:55.570Z"
   },
   {
    "duration": 207,
    "start_time": "2024-06-10T11:26:55.591Z"
   },
   {
    "duration": 18,
    "start_time": "2024-06-10T11:26:55.799Z"
   },
   {
    "duration": 9,
    "start_time": "2024-06-10T11:36:32.182Z"
   },
   {
    "duration": 14,
    "start_time": "2024-06-10T11:38:17.637Z"
   },
   {
    "duration": 4,
    "start_time": "2024-06-10T11:44:14.358Z"
   },
   {
    "duration": 14,
    "start_time": "2024-06-10T12:30:46.828Z"
   },
   {
    "duration": 8,
    "start_time": "2024-06-10T12:31:18.561Z"
   },
   {
    "duration": 3,
    "start_time": "2024-06-10T12:31:36.588Z"
   },
   {
    "duration": 132,
    "start_time": "2024-06-10T12:31:36.593Z"
   },
   {
    "duration": 43,
    "start_time": "2024-06-10T12:31:36.727Z"
   },
   {
    "duration": 40,
    "start_time": "2024-06-10T12:31:36.772Z"
   },
   {
    "duration": 3654,
    "start_time": "2024-06-10T12:31:36.814Z"
   },
   {
    "duration": 10,
    "start_time": "2024-06-10T12:31:40.470Z"
   },
   {
    "duration": 16,
    "start_time": "2024-06-10T12:31:40.482Z"
   },
   {
    "duration": 17,
    "start_time": "2024-06-10T12:31:40.500Z"
   },
   {
    "duration": 30,
    "start_time": "2024-06-10T12:31:40.520Z"
   },
   {
    "duration": 12,
    "start_time": "2024-06-10T12:31:40.552Z"
   },
   {
    "duration": 38,
    "start_time": "2024-06-10T12:31:40.566Z"
   },
   {
    "duration": 39,
    "start_time": "2024-06-10T12:31:40.606Z"
   },
   {
    "duration": 8,
    "start_time": "2024-06-10T12:31:40.647Z"
   },
   {
    "duration": 82,
    "start_time": "2024-06-10T12:31:40.657Z"
   },
   {
    "duration": 14,
    "start_time": "2024-06-10T12:31:40.741Z"
   },
   {
    "duration": 20,
    "start_time": "2024-06-10T12:31:40.757Z"
   },
   {
    "duration": 23,
    "start_time": "2024-06-10T12:31:40.779Z"
   },
   {
    "duration": 54,
    "start_time": "2024-06-10T12:31:40.804Z"
   },
   {
    "duration": 14,
    "start_time": "2024-06-10T12:31:40.860Z"
   },
   {
    "duration": 36,
    "start_time": "2024-06-10T12:31:40.875Z"
   },
   {
    "duration": 5,
    "start_time": "2024-06-10T12:31:40.913Z"
   },
   {
    "duration": 6,
    "start_time": "2024-06-10T12:31:40.919Z"
   },
   {
    "duration": 15,
    "start_time": "2024-06-10T12:31:40.926Z"
   },
   {
    "duration": 28,
    "start_time": "2024-06-10T12:31:40.945Z"
   },
   {
    "duration": 12,
    "start_time": "2024-06-10T12:31:40.974Z"
   },
   {
    "duration": 6,
    "start_time": "2024-06-10T12:31:40.987Z"
   },
   {
    "duration": 16,
    "start_time": "2024-06-10T12:31:40.995Z"
   },
   {
    "duration": 11,
    "start_time": "2024-06-10T12:31:41.013Z"
   },
   {
    "duration": 15,
    "start_time": "2024-06-10T12:31:41.026Z"
   },
   {
    "duration": 5,
    "start_time": "2024-06-10T12:31:41.042Z"
   },
   {
    "duration": 12,
    "start_time": "2024-06-10T12:31:41.049Z"
   },
   {
    "duration": 14,
    "start_time": "2024-06-10T12:31:41.063Z"
   },
   {
    "duration": 30,
    "start_time": "2024-06-10T12:31:41.079Z"
   },
   {
    "duration": 7,
    "start_time": "2024-06-10T12:31:41.113Z"
   },
   {
    "duration": 15,
    "start_time": "2024-06-10T12:31:41.121Z"
   },
   {
    "duration": 270,
    "start_time": "2024-06-10T12:31:41.138Z"
   },
   {
    "duration": 16,
    "start_time": "2024-06-10T12:31:41.410Z"
   },
   {
    "duration": 7,
    "start_time": "2024-06-10T12:31:41.427Z"
   },
   {
    "duration": 32,
    "start_time": "2024-06-10T12:31:41.436Z"
   },
   {
    "duration": 5,
    "start_time": "2024-06-10T12:31:41.470Z"
   },
   {
    "duration": 7,
    "start_time": "2024-06-10T12:31:41.476Z"
   },
   {
    "duration": 13,
    "start_time": "2024-06-10T12:31:41.485Z"
   },
   {
    "duration": 5,
    "start_time": "2024-06-10T12:31:41.500Z"
   },
   {
    "duration": 369,
    "start_time": "2024-06-10T12:31:41.506Z"
   },
   {
    "duration": 8,
    "start_time": "2024-06-10T12:31:41.878Z"
   },
   {
    "duration": 22,
    "start_time": "2024-06-10T12:31:41.888Z"
   },
   {
    "duration": 448,
    "start_time": "2024-06-10T12:31:41.912Z"
   },
   {
    "duration": 11,
    "start_time": "2024-06-10T12:31:42.362Z"
   },
   {
    "duration": 273,
    "start_time": "2024-06-10T12:31:42.375Z"
   },
   {
    "duration": 14,
    "start_time": "2024-06-10T12:31:42.650Z"
   },
   {
    "duration": 301,
    "start_time": "2024-06-10T12:31:42.666Z"
   },
   {
    "duration": 9,
    "start_time": "2024-06-10T12:31:42.969Z"
   },
   {
    "duration": 259,
    "start_time": "2024-06-10T12:31:42.980Z"
   },
   {
    "duration": 162,
    "start_time": "2024-06-10T12:31:43.240Z"
   },
   {
    "duration": 10,
    "start_time": "2024-06-10T12:31:43.403Z"
   },
   {
    "duration": 217,
    "start_time": "2024-06-10T12:31:43.415Z"
   },
   {
    "duration": 169,
    "start_time": "2024-06-10T12:31:43.634Z"
   },
   {
    "duration": 293,
    "start_time": "2024-06-10T12:31:43.805Z"
   },
   {
    "duration": 11,
    "start_time": "2024-06-10T12:31:44.100Z"
   },
   {
    "duration": 312,
    "start_time": "2024-06-10T12:31:44.112Z"
   },
   {
    "duration": 13,
    "start_time": "2024-06-10T12:31:44.426Z"
   },
   {
    "duration": 318,
    "start_time": "2024-06-10T12:31:44.441Z"
   },
   {
    "duration": 9,
    "start_time": "2024-06-10T12:31:44.760Z"
   },
   {
    "duration": 283,
    "start_time": "2024-06-10T12:31:44.770Z"
   },
   {
    "duration": 12,
    "start_time": "2024-06-10T12:31:45.054Z"
   },
   {
    "duration": 267,
    "start_time": "2024-06-10T12:31:45.067Z"
   },
   {
    "duration": 51,
    "start_time": "2024-06-10T12:31:45.336Z"
   },
   {
    "duration": 14,
    "start_time": "2024-06-10T12:31:45.389Z"
   },
   {
    "duration": 29,
    "start_time": "2024-06-10T12:31:45.409Z"
   },
   {
    "duration": 976,
    "start_time": "2024-06-10T12:31:45.440Z"
   },
   {
    "duration": 10,
    "start_time": "2024-06-10T12:31:46.418Z"
   },
   {
    "duration": 47,
    "start_time": "2024-06-10T12:31:46.430Z"
   },
   {
    "duration": 164,
    "start_time": "2024-06-10T12:31:46.478Z"
   },
   {
    "duration": 170,
    "start_time": "2024-06-10T12:31:46.643Z"
   },
   {
    "duration": 165,
    "start_time": "2024-06-10T12:31:46.815Z"
   },
   {
    "duration": 187,
    "start_time": "2024-06-10T12:31:46.982Z"
   },
   {
    "duration": 161,
    "start_time": "2024-06-10T12:31:47.171Z"
   },
   {
    "duration": 190,
    "start_time": "2024-06-10T12:31:47.334Z"
   },
   {
    "duration": 179,
    "start_time": "2024-06-10T12:31:47.526Z"
   },
   {
    "duration": 17,
    "start_time": "2024-06-10T12:31:47.707Z"
   },
   {
    "duration": 53,
    "start_time": "2024-06-10T12:31:47.727Z"
   },
   {
    "duration": 17,
    "start_time": "2024-06-10T12:31:47.782Z"
   },
   {
    "duration": 25,
    "start_time": "2024-06-10T12:31:47.801Z"
   },
   {
    "duration": 10,
    "start_time": "2024-06-10T12:31:47.828Z"
   },
   {
    "duration": 120,
    "start_time": "2024-06-10T12:31:47.840Z"
   },
   {
    "duration": 20,
    "start_time": "2024-06-10T12:31:47.962Z"
   },
   {
    "duration": 230,
    "start_time": "2024-06-10T12:31:47.984Z"
   },
   {
    "duration": 17,
    "start_time": "2024-06-10T12:31:48.216Z"
   },
   {
    "duration": 3,
    "start_time": "2024-06-10T12:34:44.456Z"
   },
   {
    "duration": 110,
    "start_time": "2024-06-10T12:34:44.461Z"
   },
   {
    "duration": 22,
    "start_time": "2024-06-10T12:34:44.572Z"
   },
   {
    "duration": 38,
    "start_time": "2024-06-10T12:34:44.596Z"
   },
   {
    "duration": 3724,
    "start_time": "2024-06-10T12:34:44.637Z"
   },
   {
    "duration": 11,
    "start_time": "2024-06-10T12:34:48.362Z"
   },
   {
    "duration": 17,
    "start_time": "2024-06-10T12:34:48.375Z"
   },
   {
    "duration": 8,
    "start_time": "2024-06-10T12:34:48.394Z"
   },
   {
    "duration": 21,
    "start_time": "2024-06-10T12:34:48.404Z"
   },
   {
    "duration": 6,
    "start_time": "2024-06-10T12:34:48.427Z"
   },
   {
    "duration": 40,
    "start_time": "2024-06-10T12:34:48.435Z"
   },
   {
    "duration": 9,
    "start_time": "2024-06-10T12:34:48.477Z"
   },
   {
    "duration": 18,
    "start_time": "2024-06-10T12:34:48.488Z"
   },
   {
    "duration": 11,
    "start_time": "2024-06-10T12:34:48.509Z"
   },
   {
    "duration": 13,
    "start_time": "2024-06-10T12:34:48.522Z"
   },
   {
    "duration": 10,
    "start_time": "2024-06-10T12:34:48.536Z"
   },
   {
    "duration": 4,
    "start_time": "2024-06-10T12:34:48.548Z"
   },
   {
    "duration": 49,
    "start_time": "2024-06-10T12:34:48.553Z"
   },
   {
    "duration": 13,
    "start_time": "2024-06-10T12:34:48.603Z"
   },
   {
    "duration": 9,
    "start_time": "2024-06-10T12:34:48.618Z"
   },
   {
    "duration": 6,
    "start_time": "2024-06-10T12:34:48.628Z"
   },
   {
    "duration": 8,
    "start_time": "2024-06-10T12:34:48.635Z"
   },
   {
    "duration": 5,
    "start_time": "2024-06-10T12:34:48.661Z"
   },
   {
    "duration": 25,
    "start_time": "2024-06-10T12:34:48.667Z"
   },
   {
    "duration": 12,
    "start_time": "2024-06-10T12:34:48.694Z"
   },
   {
    "duration": 19,
    "start_time": "2024-06-10T12:34:48.708Z"
   },
   {
    "duration": 8,
    "start_time": "2024-06-10T12:34:48.729Z"
   },
   {
    "duration": 26,
    "start_time": "2024-06-10T12:34:48.739Z"
   },
   {
    "duration": 7,
    "start_time": "2024-06-10T12:34:48.767Z"
   },
   {
    "duration": 11,
    "start_time": "2024-06-10T12:34:48.777Z"
   },
   {
    "duration": 9,
    "start_time": "2024-06-10T12:34:48.790Z"
   },
   {
    "duration": 7,
    "start_time": "2024-06-10T12:34:48.800Z"
   },
   {
    "duration": 17,
    "start_time": "2024-06-10T12:34:48.809Z"
   },
   {
    "duration": 10,
    "start_time": "2024-06-10T12:34:48.828Z"
   },
   {
    "duration": 28,
    "start_time": "2024-06-10T12:34:48.845Z"
   },
   {
    "duration": 289,
    "start_time": "2024-06-10T12:34:48.875Z"
   },
   {
    "duration": 8,
    "start_time": "2024-06-10T12:34:49.166Z"
   },
   {
    "duration": 13,
    "start_time": "2024-06-10T12:34:49.176Z"
   },
   {
    "duration": 4,
    "start_time": "2024-06-10T12:34:49.191Z"
   },
   {
    "duration": 21,
    "start_time": "2024-06-10T12:34:49.196Z"
   },
   {
    "duration": 34,
    "start_time": "2024-06-10T12:34:49.222Z"
   },
   {
    "duration": 3,
    "start_time": "2024-06-10T12:34:49.258Z"
   },
   {
    "duration": 342,
    "start_time": "2024-06-10T12:34:49.263Z"
   },
   {
    "duration": 7,
    "start_time": "2024-06-10T12:34:49.607Z"
   },
   {
    "duration": 17,
    "start_time": "2024-06-10T12:34:49.615Z"
   },
   {
    "duration": 489,
    "start_time": "2024-06-10T12:34:49.633Z"
   },
   {
    "duration": 9,
    "start_time": "2024-06-10T12:34:50.124Z"
   },
   {
    "duration": 291,
    "start_time": "2024-06-10T12:34:50.135Z"
   },
   {
    "duration": 10,
    "start_time": "2024-06-10T12:34:50.427Z"
   },
   {
    "duration": 295,
    "start_time": "2024-06-10T12:34:50.438Z"
   },
   {
    "duration": 8,
    "start_time": "2024-06-10T12:34:50.735Z"
   },
   {
    "duration": 281,
    "start_time": "2024-06-10T12:34:50.745Z"
   },
   {
    "duration": 164,
    "start_time": "2024-06-10T12:34:51.028Z"
   },
   {
    "duration": 8,
    "start_time": "2024-06-10T12:34:51.194Z"
   },
   {
    "duration": 219,
    "start_time": "2024-06-10T12:34:51.204Z"
   },
   {
    "duration": 165,
    "start_time": "2024-06-10T12:34:51.425Z"
   },
   {
    "duration": 196,
    "start_time": "2024-06-10T12:34:51.592Z"
   },
   {
    "duration": 13,
    "start_time": "2024-06-10T12:34:51.790Z"
   },
   {
    "duration": 408,
    "start_time": "2024-06-10T12:34:51.805Z"
   },
   {
    "duration": 11,
    "start_time": "2024-06-10T12:34:52.215Z"
   },
   {
    "duration": 298,
    "start_time": "2024-06-10T12:34:52.228Z"
   },
   {
    "duration": 10,
    "start_time": "2024-06-10T12:34:52.528Z"
   },
   {
    "duration": 302,
    "start_time": "2024-06-10T12:34:52.540Z"
   },
   {
    "duration": 17,
    "start_time": "2024-06-10T12:34:52.845Z"
   },
   {
    "duration": 345,
    "start_time": "2024-06-10T12:34:52.864Z"
   },
   {
    "duration": 58,
    "start_time": "2024-06-10T12:34:53.211Z"
   },
   {
    "duration": 16,
    "start_time": "2024-06-10T12:34:53.270Z"
   },
   {
    "duration": 59,
    "start_time": "2024-06-10T12:34:53.288Z"
   },
   {
    "duration": 988,
    "start_time": "2024-06-10T12:34:53.349Z"
   },
   {
    "duration": 10,
    "start_time": "2024-06-10T12:34:54.339Z"
   },
   {
    "duration": 52,
    "start_time": "2024-06-10T12:34:54.351Z"
   },
   {
    "duration": 155,
    "start_time": "2024-06-10T12:34:54.405Z"
   },
   {
    "duration": 165,
    "start_time": "2024-06-10T12:34:54.562Z"
   },
   {
    "duration": 169,
    "start_time": "2024-06-10T12:34:54.728Z"
   },
   {
    "duration": 161,
    "start_time": "2024-06-10T12:34:54.899Z"
   },
   {
    "duration": 161,
    "start_time": "2024-06-10T12:34:55.062Z"
   },
   {
    "duration": 173,
    "start_time": "2024-06-10T12:34:55.225Z"
   },
   {
    "duration": 183,
    "start_time": "2024-06-10T12:34:55.400Z"
   },
   {
    "duration": 15,
    "start_time": "2024-06-10T12:34:55.585Z"
   },
   {
    "duration": 15,
    "start_time": "2024-06-10T12:34:55.601Z"
   },
   {
    "duration": 46,
    "start_time": "2024-06-10T12:34:55.617Z"
   },
   {
    "duration": 28,
    "start_time": "2024-06-10T12:34:55.665Z"
   },
   {
    "duration": 30,
    "start_time": "2024-06-10T12:34:55.695Z"
   },
   {
    "duration": 37,
    "start_time": "2024-06-10T12:34:55.727Z"
   },
   {
    "duration": 26,
    "start_time": "2024-06-10T12:34:55.767Z"
   },
   {
    "duration": 216,
    "start_time": "2024-06-10T12:34:55.795Z"
   },
   {
    "duration": 19,
    "start_time": "2024-06-10T12:34:56.013Z"
   },
   {
    "duration": 22,
    "start_time": "2024-06-10T12:43:06.577Z"
   },
   {
    "duration": 17,
    "start_time": "2024-06-10T12:44:54.256Z"
   },
   {
    "duration": 30,
    "start_time": "2024-06-10T12:46:03.981Z"
   },
   {
    "duration": 9,
    "start_time": "2024-06-10T12:46:29.036Z"
   },
   {
    "duration": 29,
    "start_time": "2024-06-10T12:47:52.647Z"
   },
   {
    "duration": 313,
    "start_time": "2024-06-10T12:47:57.667Z"
   },
   {
    "duration": 3,
    "start_time": "2024-06-10T12:48:03.708Z"
   },
   {
    "duration": 121,
    "start_time": "2024-06-10T12:48:03.713Z"
   },
   {
    "duration": 48,
    "start_time": "2024-06-10T12:48:03.836Z"
   },
   {
    "duration": 80,
    "start_time": "2024-06-10T12:48:03.886Z"
   },
   {
    "duration": 3793,
    "start_time": "2024-06-10T12:48:03.968Z"
   },
   {
    "duration": 10,
    "start_time": "2024-06-10T12:48:07.762Z"
   },
   {
    "duration": 19,
    "start_time": "2024-06-10T12:48:07.773Z"
   },
   {
    "duration": 8,
    "start_time": "2024-06-10T12:48:07.794Z"
   },
   {
    "duration": 47,
    "start_time": "2024-06-10T12:48:07.805Z"
   },
   {
    "duration": 4,
    "start_time": "2024-06-10T12:48:07.855Z"
   },
   {
    "duration": 22,
    "start_time": "2024-06-10T12:48:07.861Z"
   },
   {
    "duration": 31,
    "start_time": "2024-06-10T12:48:07.885Z"
   },
   {
    "duration": 9,
    "start_time": "2024-06-10T12:48:07.918Z"
   },
   {
    "duration": 11,
    "start_time": "2024-06-10T12:48:07.929Z"
   },
   {
    "duration": 14,
    "start_time": "2024-06-10T12:48:07.942Z"
   },
   {
    "duration": 11,
    "start_time": "2024-06-10T12:48:07.958Z"
   },
   {
    "duration": 4,
    "start_time": "2024-06-10T12:48:07.971Z"
   },
   {
    "duration": 46,
    "start_time": "2024-06-10T12:48:07.977Z"
   },
   {
    "duration": 36,
    "start_time": "2024-06-10T12:48:08.025Z"
   },
   {
    "duration": 12,
    "start_time": "2024-06-10T12:48:08.063Z"
   },
   {
    "duration": 6,
    "start_time": "2024-06-10T12:48:08.077Z"
   },
   {
    "duration": 6,
    "start_time": "2024-06-10T12:48:08.084Z"
   },
   {
    "duration": 5,
    "start_time": "2024-06-10T12:48:08.092Z"
   },
   {
    "duration": 22,
    "start_time": "2024-06-10T12:48:08.101Z"
   },
   {
    "duration": 11,
    "start_time": "2024-06-10T12:48:08.125Z"
   },
   {
    "duration": 30,
    "start_time": "2024-06-10T12:48:08.138Z"
   },
   {
    "duration": 9,
    "start_time": "2024-06-10T12:48:08.169Z"
   },
   {
    "duration": 7,
    "start_time": "2024-06-10T12:48:08.180Z"
   },
   {
    "duration": 6,
    "start_time": "2024-06-10T12:48:08.203Z"
   },
   {
    "duration": 7,
    "start_time": "2024-06-10T12:48:08.211Z"
   },
   {
    "duration": 19,
    "start_time": "2024-06-10T12:48:08.220Z"
   },
   {
    "duration": 20,
    "start_time": "2024-06-10T12:48:08.241Z"
   },
   {
    "duration": 23,
    "start_time": "2024-06-10T12:48:08.263Z"
   },
   {
    "duration": 12,
    "start_time": "2024-06-10T12:48:08.288Z"
   },
   {
    "duration": 18,
    "start_time": "2024-06-10T12:48:08.302Z"
   },
   {
    "duration": 262,
    "start_time": "2024-06-10T12:48:08.322Z"
   },
   {
    "duration": 9,
    "start_time": "2024-06-10T12:48:08.587Z"
   },
   {
    "duration": 104,
    "start_time": "2024-06-10T12:48:08.598Z"
   },
   {
    "duration": 13,
    "start_time": "2024-06-10T12:48:08.704Z"
   },
   {
    "duration": 89,
    "start_time": "2024-06-10T12:48:08.719Z"
   },
   {
    "duration": 18,
    "start_time": "2024-06-10T12:48:08.810Z"
   },
   {
    "duration": 12,
    "start_time": "2024-06-10T12:48:08.830Z"
   },
   {
    "duration": 337,
    "start_time": "2024-06-10T12:48:08.843Z"
   },
   {
    "duration": 6,
    "start_time": "2024-06-10T12:48:09.182Z"
   },
   {
    "duration": 19,
    "start_time": "2024-06-10T12:48:09.190Z"
   },
   {
    "duration": 443,
    "start_time": "2024-06-10T12:48:09.211Z"
   },
   {
    "duration": 13,
    "start_time": "2024-06-10T12:48:09.656Z"
   },
   {
    "duration": 279,
    "start_time": "2024-06-10T12:48:09.671Z"
   },
   {
    "duration": 10,
    "start_time": "2024-06-10T12:48:09.952Z"
   },
   {
    "duration": 284,
    "start_time": "2024-06-10T12:48:09.963Z"
   },
   {
    "duration": 16,
    "start_time": "2024-06-10T12:48:10.250Z"
   },
   {
    "duration": 281,
    "start_time": "2024-06-10T12:48:10.268Z"
   },
   {
    "duration": 184,
    "start_time": "2024-06-10T12:48:10.551Z"
   },
   {
    "duration": 9,
    "start_time": "2024-06-10T12:48:10.737Z"
   },
   {
    "duration": 266,
    "start_time": "2024-06-10T12:48:10.761Z"
   },
   {
    "duration": 171,
    "start_time": "2024-06-10T12:48:11.029Z"
   },
   {
    "duration": 199,
    "start_time": "2024-06-10T12:48:11.201Z"
   },
   {
    "duration": 10,
    "start_time": "2024-06-10T12:48:11.401Z"
   },
   {
    "duration": 430,
    "start_time": "2024-06-10T12:48:11.413Z"
   },
   {
    "duration": 23,
    "start_time": "2024-06-10T12:48:11.845Z"
   },
   {
    "duration": 297,
    "start_time": "2024-06-10T12:48:11.870Z"
   },
   {
    "duration": 9,
    "start_time": "2024-06-10T12:48:12.169Z"
   },
   {
    "duration": 327,
    "start_time": "2024-06-10T12:48:12.180Z"
   },
   {
    "duration": 8,
    "start_time": "2024-06-10T12:48:12.508Z"
   },
   {
    "duration": 278,
    "start_time": "2024-06-10T12:48:12.518Z"
   },
   {
    "duration": 65,
    "start_time": "2024-06-10T12:48:12.797Z"
   },
   {
    "duration": 17,
    "start_time": "2024-06-10T12:48:12.864Z"
   },
   {
    "duration": 34,
    "start_time": "2024-06-10T12:48:12.882Z"
   },
   {
    "duration": 978,
    "start_time": "2024-06-10T12:48:12.922Z"
   },
   {
    "duration": 12,
    "start_time": "2024-06-10T12:48:13.902Z"
   },
   {
    "duration": 54,
    "start_time": "2024-06-10T12:48:13.917Z"
   },
   {
    "duration": 193,
    "start_time": "2024-06-10T12:48:13.973Z"
   },
   {
    "duration": 193,
    "start_time": "2024-06-10T12:48:14.168Z"
   },
   {
    "duration": 169,
    "start_time": "2024-06-10T12:48:14.362Z"
   },
   {
    "duration": 170,
    "start_time": "2024-06-10T12:48:14.533Z"
   },
   {
    "duration": 173,
    "start_time": "2024-06-10T12:48:14.705Z"
   },
   {
    "duration": 213,
    "start_time": "2024-06-10T12:48:14.880Z"
   },
   {
    "duration": 170,
    "start_time": "2024-06-10T12:48:15.095Z"
   },
   {
    "duration": 20,
    "start_time": "2024-06-10T12:48:15.267Z"
   },
   {
    "duration": 34,
    "start_time": "2024-06-10T12:48:15.290Z"
   },
   {
    "duration": 53,
    "start_time": "2024-06-10T12:48:15.326Z"
   },
   {
    "duration": 25,
    "start_time": "2024-06-10T12:48:15.381Z"
   },
   {
    "duration": 19,
    "start_time": "2024-06-10T12:48:15.408Z"
   },
   {
    "duration": 55,
    "start_time": "2024-06-10T12:48:15.429Z"
   },
   {
    "duration": 17,
    "start_time": "2024-06-10T12:48:15.485Z"
   },
   {
    "duration": 24,
    "start_time": "2024-06-10T12:48:15.504Z"
   },
   {
    "duration": 231,
    "start_time": "2024-06-10T12:48:15.530Z"
   },
   {
    "duration": 22,
    "start_time": "2024-06-10T12:48:15.763Z"
   },
   {
    "duration": 67,
    "start_time": "2024-06-10T12:50:23.294Z"
   },
   {
    "duration": 46,
    "start_time": "2024-06-11T13:25:13.181Z"
   },
   {
    "duration": 799,
    "start_time": "2024-06-11T13:26:22.687Z"
   },
   {
    "duration": 240,
    "start_time": "2024-06-11T13:26:23.489Z"
   },
   {
    "duration": 37,
    "start_time": "2024-06-11T13:26:23.731Z"
   },
   {
    "duration": 55,
    "start_time": "2024-06-11T13:26:23.770Z"
   },
   {
    "duration": 3698,
    "start_time": "2024-06-11T13:26:23.845Z"
   },
   {
    "duration": 10,
    "start_time": "2024-06-11T13:26:27.544Z"
   },
   {
    "duration": 94,
    "start_time": "2024-06-11T13:26:27.555Z"
   },
   {
    "duration": 8,
    "start_time": "2024-06-11T13:26:27.651Z"
   },
   {
    "duration": 21,
    "start_time": "2024-06-11T13:26:27.661Z"
   },
   {
    "duration": 2,
    "start_time": "2024-06-11T13:26:27.685Z"
   },
   {
    "duration": 4,
    "start_time": "2024-06-11T13:26:27.689Z"
   },
   {
    "duration": 9,
    "start_time": "2024-06-11T13:26:27.694Z"
   },
   {
    "duration": 5,
    "start_time": "2024-06-11T13:26:27.704Z"
   },
   {
    "duration": 17,
    "start_time": "2024-06-11T13:26:27.710Z"
   },
   {
    "duration": 6,
    "start_time": "2024-06-11T13:26:27.745Z"
   },
   {
    "duration": 15,
    "start_time": "2024-06-11T13:26:27.753Z"
   },
   {
    "duration": 4,
    "start_time": "2024-06-11T13:26:27.769Z"
   },
   {
    "duration": 45,
    "start_time": "2024-06-11T13:26:27.775Z"
   },
   {
    "duration": 35,
    "start_time": "2024-06-11T13:26:27.821Z"
   },
   {
    "duration": 10,
    "start_time": "2024-06-11T13:26:27.857Z"
   },
   {
    "duration": 19,
    "start_time": "2024-06-11T13:26:27.869Z"
   },
   {
    "duration": 3,
    "start_time": "2024-06-11T13:26:27.890Z"
   },
   {
    "duration": 5,
    "start_time": "2024-06-11T13:26:27.895Z"
   },
   {
    "duration": 31,
    "start_time": "2024-06-11T13:26:27.902Z"
   },
   {
    "duration": 9,
    "start_time": "2024-06-11T13:26:27.935Z"
   },
   {
    "duration": 15,
    "start_time": "2024-06-11T13:26:27.945Z"
   },
   {
    "duration": 7,
    "start_time": "2024-06-11T13:26:27.961Z"
   },
   {
    "duration": 4,
    "start_time": "2024-06-11T13:26:27.973Z"
   },
   {
    "duration": 7,
    "start_time": "2024-06-11T13:26:27.978Z"
   },
   {
    "duration": 5,
    "start_time": "2024-06-11T13:26:27.986Z"
   },
   {
    "duration": 4,
    "start_time": "2024-06-11T13:26:27.992Z"
   },
   {
    "duration": 4,
    "start_time": "2024-06-11T13:26:27.998Z"
   },
   {
    "duration": 12,
    "start_time": "2024-06-11T13:26:28.003Z"
   },
   {
    "duration": 29,
    "start_time": "2024-06-11T13:26:28.017Z"
   },
   {
    "duration": 13,
    "start_time": "2024-06-11T13:26:28.048Z"
   },
   {
    "duration": 274,
    "start_time": "2024-06-11T13:26:28.063Z"
   },
   {
    "duration": 12,
    "start_time": "2024-06-11T13:26:28.339Z"
   },
   {
    "duration": 16,
    "start_time": "2024-06-11T13:26:28.352Z"
   },
   {
    "duration": 5,
    "start_time": "2024-06-11T13:26:28.370Z"
   },
   {
    "duration": 6,
    "start_time": "2024-06-11T13:26:28.376Z"
   },
   {
    "duration": 6,
    "start_time": "2024-06-11T13:26:28.384Z"
   },
   {
    "duration": 5,
    "start_time": "2024-06-11T13:26:28.392Z"
   },
   {
    "duration": 399,
    "start_time": "2024-06-11T13:26:28.399Z"
   },
   {
    "duration": 7,
    "start_time": "2024-06-11T13:26:28.799Z"
   },
   {
    "duration": 20,
    "start_time": "2024-06-11T13:26:28.808Z"
   },
   {
    "duration": 255,
    "start_time": "2024-06-11T13:26:28.830Z"
   },
   {
    "duration": 8,
    "start_time": "2024-06-11T13:26:29.086Z"
   },
   {
    "duration": 249,
    "start_time": "2024-06-11T13:26:29.096Z"
   },
   {
    "duration": 8,
    "start_time": "2024-06-11T13:26:29.346Z"
   },
   {
    "duration": 255,
    "start_time": "2024-06-11T13:26:29.356Z"
   },
   {
    "duration": 8,
    "start_time": "2024-06-11T13:26:29.613Z"
   },
   {
    "duration": 461,
    "start_time": "2024-06-11T13:26:29.623Z"
   },
   {
    "duration": 188,
    "start_time": "2024-06-11T13:26:30.085Z"
   },
   {
    "duration": 12,
    "start_time": "2024-06-11T13:26:30.274Z"
   },
   {
    "duration": 303,
    "start_time": "2024-06-11T13:26:30.287Z"
   },
   {
    "duration": 170,
    "start_time": "2024-06-11T13:26:30.592Z"
   },
   {
    "duration": 176,
    "start_time": "2024-06-11T13:26:30.765Z"
   },
   {
    "duration": 50,
    "start_time": "2024-06-11T13:26:30.943Z"
   },
   {
    "duration": 318,
    "start_time": "2024-06-11T13:26:30.995Z"
   },
   {
    "duration": 9,
    "start_time": "2024-06-11T13:26:31.314Z"
   },
   {
    "duration": 368,
    "start_time": "2024-06-11T13:26:31.324Z"
   },
   {
    "duration": 7,
    "start_time": "2024-06-11T13:26:31.694Z"
   },
   {
    "duration": 455,
    "start_time": "2024-06-11T13:26:31.703Z"
   },
   {
    "duration": 9,
    "start_time": "2024-06-11T13:26:32.159Z"
   },
   {
    "duration": 277,
    "start_time": "2024-06-11T13:26:32.170Z"
   },
   {
    "duration": 47,
    "start_time": "2024-06-11T13:26:32.450Z"
   },
   {
    "duration": 14,
    "start_time": "2024-06-11T13:26:32.499Z"
   },
   {
    "duration": 84,
    "start_time": "2024-06-11T13:26:32.515Z"
   },
   {
    "duration": 853,
    "start_time": "2024-06-11T13:26:32.600Z"
   },
   {
    "duration": 107,
    "start_time": "2024-06-11T13:26:33.455Z"
   },
   {
    "duration": 133,
    "start_time": "2024-06-11T13:26:33.566Z"
   },
   {
    "duration": 159,
    "start_time": "2024-06-11T13:26:33.700Z"
   },
   {
    "duration": 173,
    "start_time": "2024-06-11T13:26:33.861Z"
   },
   {
    "duration": 155,
    "start_time": "2024-06-11T13:26:34.036Z"
   },
   {
    "duration": 165,
    "start_time": "2024-06-11T13:26:34.193Z"
   },
   {
    "duration": 159,
    "start_time": "2024-06-11T13:26:34.360Z"
   },
   {
    "duration": 152,
    "start_time": "2024-06-11T13:26:34.521Z"
   },
   {
    "duration": 155,
    "start_time": "2024-06-11T13:26:34.675Z"
   },
   {
    "duration": 36,
    "start_time": "2024-06-11T13:26:34.832Z"
   },
   {
    "duration": 4,
    "start_time": "2024-06-11T13:26:34.870Z"
   },
   {
    "duration": 13,
    "start_time": "2024-06-11T13:26:34.875Z"
   },
   {
    "duration": 7,
    "start_time": "2024-06-11T13:26:34.893Z"
   },
   {
    "duration": 8,
    "start_time": "2024-06-11T13:26:34.901Z"
   },
   {
    "duration": 17,
    "start_time": "2024-06-11T13:26:34.911Z"
   },
   {
    "duration": 48,
    "start_time": "2024-06-11T13:26:34.930Z"
   },
   {
    "duration": 20,
    "start_time": "2024-06-11T13:26:34.980Z"
   },
   {
    "duration": 195,
    "start_time": "2024-06-11T13:26:35.002Z"
   },
   {
    "duration": 18,
    "start_time": "2024-06-11T13:26:35.199Z"
   },
   {
    "duration": 3,
    "start_time": "2024-06-11T13:28:27.846Z"
   },
   {
    "duration": 3,
    "start_time": "2024-06-11T13:40:05.587Z"
   },
   {
    "duration": 107,
    "start_time": "2024-06-11T13:40:05.592Z"
   },
   {
    "duration": 19,
    "start_time": "2024-06-11T13:40:05.701Z"
   },
   {
    "duration": 53,
    "start_time": "2024-06-11T13:40:05.722Z"
   },
   {
    "duration": 3304,
    "start_time": "2024-06-11T13:40:05.777Z"
   },
   {
    "duration": 10,
    "start_time": "2024-06-11T13:40:09.082Z"
   },
   {
    "duration": 18,
    "start_time": "2024-06-11T13:40:09.093Z"
   },
   {
    "duration": 5,
    "start_time": "2024-06-11T13:40:09.113Z"
   },
   {
    "duration": 12,
    "start_time": "2024-06-11T13:40:09.120Z"
   },
   {
    "duration": 3,
    "start_time": "2024-06-11T13:40:09.146Z"
   },
   {
    "duration": 5,
    "start_time": "2024-06-11T13:40:09.151Z"
   },
   {
    "duration": 12,
    "start_time": "2024-06-11T13:40:09.158Z"
   },
   {
    "duration": 15,
    "start_time": "2024-06-11T13:40:09.171Z"
   },
   {
    "duration": 14,
    "start_time": "2024-06-11T13:40:09.187Z"
   },
   {
    "duration": 7,
    "start_time": "2024-06-11T13:40:09.202Z"
   },
   {
    "duration": 11,
    "start_time": "2024-06-11T13:40:09.210Z"
   },
   {
    "duration": 3,
    "start_time": "2024-06-11T13:40:09.222Z"
   },
   {
    "duration": 46,
    "start_time": "2024-06-11T13:40:09.227Z"
   },
   {
    "duration": 18,
    "start_time": "2024-06-11T13:40:09.275Z"
   },
   {
    "duration": 9,
    "start_time": "2024-06-11T13:40:09.294Z"
   },
   {
    "duration": 10,
    "start_time": "2024-06-11T13:40:09.305Z"
   },
   {
    "duration": 4,
    "start_time": "2024-06-11T13:40:09.317Z"
   },
   {
    "duration": 9,
    "start_time": "2024-06-11T13:40:09.322Z"
   },
   {
    "duration": 29,
    "start_time": "2024-06-11T13:40:09.332Z"
   },
   {
    "duration": 10,
    "start_time": "2024-06-11T13:40:09.363Z"
   },
   {
    "duration": 16,
    "start_time": "2024-06-11T13:40:09.374Z"
   },
   {
    "duration": 7,
    "start_time": "2024-06-11T13:40:09.391Z"
   },
   {
    "duration": 5,
    "start_time": "2024-06-11T13:40:09.399Z"
   },
   {
    "duration": 4,
    "start_time": "2024-06-11T13:40:09.407Z"
   },
   {
    "duration": 31,
    "start_time": "2024-06-11T13:40:09.413Z"
   },
   {
    "duration": 14,
    "start_time": "2024-06-11T13:40:09.446Z"
   },
   {
    "duration": 3,
    "start_time": "2024-06-11T13:40:09.461Z"
   },
   {
    "duration": 15,
    "start_time": "2024-06-11T13:40:09.465Z"
   },
   {
    "duration": 29,
    "start_time": "2024-06-11T13:40:09.482Z"
   },
   {
    "duration": 14,
    "start_time": "2024-06-11T13:40:09.512Z"
   },
   {
    "duration": 224,
    "start_time": "2024-06-11T13:40:09.528Z"
   },
   {
    "duration": 6,
    "start_time": "2024-06-11T13:40:09.754Z"
   },
   {
    "duration": 23,
    "start_time": "2024-06-11T13:40:09.761Z"
   },
   {
    "duration": 5,
    "start_time": "2024-06-11T13:40:09.785Z"
   },
   {
    "duration": 19,
    "start_time": "2024-06-11T13:40:09.791Z"
   },
   {
    "duration": 9,
    "start_time": "2024-06-11T13:40:09.811Z"
   },
   {
    "duration": 6,
    "start_time": "2024-06-11T13:40:09.822Z"
   },
   {
    "duration": 306,
    "start_time": "2024-06-11T13:40:09.829Z"
   },
   {
    "duration": 9,
    "start_time": "2024-06-11T13:40:10.137Z"
   },
   {
    "duration": 8,
    "start_time": "2024-06-11T13:40:10.147Z"
   },
   {
    "duration": 247,
    "start_time": "2024-06-11T13:40:10.156Z"
   },
   {
    "duration": 10,
    "start_time": "2024-06-11T13:40:10.405Z"
   },
   {
    "duration": 243,
    "start_time": "2024-06-11T13:40:10.417Z"
   },
   {
    "duration": 8,
    "start_time": "2024-06-11T13:40:10.661Z"
   },
   {
    "duration": 407,
    "start_time": "2024-06-11T13:40:10.670Z"
   },
   {
    "duration": 7,
    "start_time": "2024-06-11T13:40:11.079Z"
   },
   {
    "duration": 231,
    "start_time": "2024-06-11T13:40:11.088Z"
   },
   {
    "duration": 142,
    "start_time": "2024-06-11T13:40:11.320Z"
   },
   {
    "duration": 8,
    "start_time": "2024-06-11T13:40:11.464Z"
   },
   {
    "duration": 197,
    "start_time": "2024-06-11T13:40:11.473Z"
   },
   {
    "duration": 141,
    "start_time": "2024-06-11T13:40:11.671Z"
   },
   {
    "duration": 181,
    "start_time": "2024-06-11T13:40:11.814Z"
   },
   {
    "duration": 10,
    "start_time": "2024-06-11T13:40:11.997Z"
   },
   {
    "duration": 261,
    "start_time": "2024-06-11T13:40:12.008Z"
   },
   {
    "duration": 10,
    "start_time": "2024-06-11T13:40:12.271Z"
   },
   {
    "duration": 328,
    "start_time": "2024-06-11T13:40:12.283Z"
   },
   {
    "duration": 8,
    "start_time": "2024-06-11T13:40:12.612Z"
   },
   {
    "duration": 262,
    "start_time": "2024-06-11T13:40:12.621Z"
   },
   {
    "duration": 7,
    "start_time": "2024-06-11T13:40:12.885Z"
   },
   {
    "duration": 254,
    "start_time": "2024-06-11T13:40:12.893Z"
   },
   {
    "duration": 47,
    "start_time": "2024-06-11T13:40:13.149Z"
   },
   {
    "duration": 13,
    "start_time": "2024-06-11T13:40:13.198Z"
   },
   {
    "duration": 45,
    "start_time": "2024-06-11T13:40:13.213Z"
   },
   {
    "duration": 748,
    "start_time": "2024-06-11T13:40:13.260Z"
   },
   {
    "duration": 11,
    "start_time": "2024-06-11T13:40:14.009Z"
   },
   {
    "duration": 62,
    "start_time": "2024-06-11T13:40:14.021Z"
   },
   {
    "duration": 192,
    "start_time": "2024-06-11T13:40:14.085Z"
   },
   {
    "duration": 148,
    "start_time": "2024-06-11T13:40:14.278Z"
   },
   {
    "duration": 142,
    "start_time": "2024-06-11T13:40:14.427Z"
   },
   {
    "duration": 135,
    "start_time": "2024-06-11T13:40:14.571Z"
   },
   {
    "duration": 146,
    "start_time": "2024-06-11T13:40:14.707Z"
   },
   {
    "duration": 146,
    "start_time": "2024-06-11T13:40:14.854Z"
   },
   {
    "duration": 156,
    "start_time": "2024-06-11T13:40:15.002Z"
   },
   {
    "duration": 17,
    "start_time": "2024-06-11T13:40:15.160Z"
   },
   {
    "duration": 4,
    "start_time": "2024-06-11T13:40:15.178Z"
   },
   {
    "duration": 24,
    "start_time": "2024-06-11T13:40:15.184Z"
   },
   {
    "duration": 29,
    "start_time": "2024-06-11T13:40:15.210Z"
   },
   {
    "duration": 23,
    "start_time": "2024-06-11T13:40:15.246Z"
   },
   {
    "duration": 14,
    "start_time": "2024-06-11T13:40:15.270Z"
   },
   {
    "duration": 20,
    "start_time": "2024-06-11T13:40:15.285Z"
   },
   {
    "duration": 20,
    "start_time": "2024-06-11T13:40:15.307Z"
   },
   {
    "duration": 169,
    "start_time": "2024-06-11T13:40:15.329Z"
   },
   {
    "duration": 19,
    "start_time": "2024-06-11T13:40:15.500Z"
   },
   {
    "duration": 3,
    "start_time": "2024-06-11T13:42:42.379Z"
   },
   {
    "duration": 12,
    "start_time": "2024-06-11T14:38:13.258Z"
   },
   {
    "duration": 3,
    "start_time": "2024-06-11T14:39:09.420Z"
   },
   {
    "duration": 126,
    "start_time": "2024-06-11T14:39:09.424Z"
   },
   {
    "duration": 22,
    "start_time": "2024-06-11T14:39:09.551Z"
   },
   {
    "duration": 36,
    "start_time": "2024-06-11T14:39:09.575Z"
   },
   {
    "duration": 3245,
    "start_time": "2024-06-11T14:39:09.612Z"
   },
   {
    "duration": 9,
    "start_time": "2024-06-11T14:39:12.859Z"
   },
   {
    "duration": 14,
    "start_time": "2024-06-11T14:39:12.870Z"
   },
   {
    "duration": 7,
    "start_time": "2024-06-11T14:39:12.885Z"
   },
   {
    "duration": 21,
    "start_time": "2024-06-11T14:39:12.894Z"
   },
   {
    "duration": 4,
    "start_time": "2024-06-11T14:39:12.916Z"
   },
   {
    "duration": 24,
    "start_time": "2024-06-11T14:39:12.921Z"
   },
   {
    "duration": 7,
    "start_time": "2024-06-11T14:39:12.947Z"
   },
   {
    "duration": 21,
    "start_time": "2024-06-11T14:39:12.955Z"
   },
   {
    "duration": 9,
    "start_time": "2024-06-11T14:39:12.978Z"
   },
   {
    "duration": 10,
    "start_time": "2024-06-11T14:39:12.988Z"
   },
   {
    "duration": 8,
    "start_time": "2024-06-11T14:39:13.000Z"
   },
   {
    "duration": 3,
    "start_time": "2024-06-11T14:39:13.009Z"
   },
   {
    "duration": 48,
    "start_time": "2024-06-11T14:39:13.014Z"
   },
   {
    "duration": 11,
    "start_time": "2024-06-11T14:39:13.063Z"
   },
   {
    "duration": 6,
    "start_time": "2024-06-11T14:39:13.075Z"
   },
   {
    "duration": 6,
    "start_time": "2024-06-11T14:39:13.082Z"
   },
   {
    "duration": 3,
    "start_time": "2024-06-11T14:39:13.091Z"
   },
   {
    "duration": 3,
    "start_time": "2024-06-11T14:39:13.095Z"
   },
   {
    "duration": 44,
    "start_time": "2024-06-11T14:39:13.102Z"
   },
   {
    "duration": 10,
    "start_time": "2024-06-11T14:39:13.148Z"
   },
   {
    "duration": 12,
    "start_time": "2024-06-11T14:39:13.159Z"
   },
   {
    "duration": 8,
    "start_time": "2024-06-11T14:39:13.172Z"
   },
   {
    "duration": 25,
    "start_time": "2024-06-11T14:39:13.181Z"
   },
   {
    "duration": 21,
    "start_time": "2024-06-11T14:39:13.207Z"
   },
   {
    "duration": 18,
    "start_time": "2024-06-11T14:39:13.229Z"
   },
   {
    "duration": 13,
    "start_time": "2024-06-11T14:39:13.248Z"
   },
   {
    "duration": 3,
    "start_time": "2024-06-11T14:39:13.263Z"
   },
   {
    "duration": 14,
    "start_time": "2024-06-11T14:39:13.267Z"
   },
   {
    "duration": 5,
    "start_time": "2024-06-11T14:39:13.282Z"
   },
   {
    "duration": 12,
    "start_time": "2024-06-11T14:39:13.289Z"
   },
   {
    "duration": 232,
    "start_time": "2024-06-11T14:39:13.303Z"
   },
   {
    "duration": 10,
    "start_time": "2024-06-11T14:39:13.536Z"
   },
   {
    "duration": 11,
    "start_time": "2024-06-11T14:39:13.547Z"
   },
   {
    "duration": 4,
    "start_time": "2024-06-11T14:39:13.559Z"
   },
   {
    "duration": 5,
    "start_time": "2024-06-11T14:39:13.565Z"
   },
   {
    "duration": 4,
    "start_time": "2024-06-11T14:39:13.572Z"
   },
   {
    "duration": 3,
    "start_time": "2024-06-11T14:39:13.578Z"
   },
   {
    "duration": 364,
    "start_time": "2024-06-11T14:39:13.582Z"
   },
   {
    "duration": 7,
    "start_time": "2024-06-11T14:39:13.948Z"
   },
   {
    "duration": 20,
    "start_time": "2024-06-11T14:39:13.956Z"
   },
   {
    "duration": 247,
    "start_time": "2024-06-11T14:39:13.978Z"
   },
   {
    "duration": 8,
    "start_time": "2024-06-11T14:39:14.226Z"
   },
   {
    "duration": 259,
    "start_time": "2024-06-11T14:39:14.245Z"
   },
   {
    "duration": 7,
    "start_time": "2024-06-11T14:39:14.506Z"
   },
   {
    "duration": 377,
    "start_time": "2024-06-11T14:39:14.515Z"
   },
   {
    "duration": 7,
    "start_time": "2024-06-11T14:39:14.894Z"
   },
   {
    "duration": 234,
    "start_time": "2024-06-11T14:39:14.902Z"
   },
   {
    "duration": 155,
    "start_time": "2024-06-11T14:39:15.138Z"
   },
   {
    "duration": 8,
    "start_time": "2024-06-11T14:39:15.294Z"
   },
   {
    "duration": 196,
    "start_time": "2024-06-11T14:39:15.303Z"
   },
   {
    "duration": 150,
    "start_time": "2024-06-11T14:39:15.501Z"
   },
   {
    "duration": 164,
    "start_time": "2024-06-11T14:39:15.653Z"
   },
   {
    "duration": 8,
    "start_time": "2024-06-11T14:39:15.819Z"
   },
   {
    "duration": 250,
    "start_time": "2024-06-11T14:39:15.828Z"
   },
   {
    "duration": 8,
    "start_time": "2024-06-11T14:39:16.079Z"
   },
   {
    "duration": 305,
    "start_time": "2024-06-11T14:39:16.088Z"
   },
   {
    "duration": 7,
    "start_time": "2024-06-11T14:39:16.395Z"
   },
   {
    "duration": 257,
    "start_time": "2024-06-11T14:39:16.404Z"
   },
   {
    "duration": 7,
    "start_time": "2024-06-11T14:39:16.662Z"
   },
   {
    "duration": 265,
    "start_time": "2024-06-11T14:39:16.670Z"
   },
   {
    "duration": 59,
    "start_time": "2024-06-11T14:39:16.936Z"
   },
   {
    "duration": 14,
    "start_time": "2024-06-11T14:39:16.996Z"
   },
   {
    "duration": 40,
    "start_time": "2024-06-11T14:39:17.011Z"
   },
   {
    "duration": 778,
    "start_time": "2024-06-11T14:39:17.055Z"
   },
   {
    "duration": 16,
    "start_time": "2024-06-11T14:39:17.835Z"
   },
   {
    "duration": 59,
    "start_time": "2024-06-11T14:39:17.853Z"
   },
   {
    "duration": 245,
    "start_time": "2024-06-11T14:39:17.914Z"
   },
   {
    "duration": 160,
    "start_time": "2024-06-11T14:39:18.160Z"
   },
   {
    "duration": 156,
    "start_time": "2024-06-11T14:39:18.321Z"
   },
   {
    "duration": 135,
    "start_time": "2024-06-11T14:39:18.478Z"
   },
   {
    "duration": 147,
    "start_time": "2024-06-11T14:39:18.615Z"
   },
   {
    "duration": 164,
    "start_time": "2024-06-11T14:39:18.763Z"
   },
   {
    "duration": 138,
    "start_time": "2024-06-11T14:39:18.929Z"
   },
   {
    "duration": 15,
    "start_time": "2024-06-11T14:39:19.068Z"
   },
   {
    "duration": 25,
    "start_time": "2024-06-11T14:39:19.084Z"
   },
   {
    "duration": 48,
    "start_time": "2024-06-11T14:39:19.111Z"
   },
   {
    "duration": 38,
    "start_time": "2024-06-11T14:39:19.160Z"
   },
   {
    "duration": 15,
    "start_time": "2024-06-11T14:39:19.200Z"
   },
   {
    "duration": 15,
    "start_time": "2024-06-11T14:39:19.217Z"
   },
   {
    "duration": 19,
    "start_time": "2024-06-11T14:39:19.233Z"
   },
   {
    "duration": 177,
    "start_time": "2024-06-11T14:39:19.254Z"
   },
   {
    "duration": 23,
    "start_time": "2024-06-11T14:39:19.432Z"
   },
   {
    "duration": 4,
    "start_time": "2024-06-11T14:44:51.868Z"
   },
   {
    "duration": 8,
    "start_time": "2024-06-11T14:45:00.440Z"
   },
   {
    "duration": 10,
    "start_time": "2024-06-11T14:45:04.668Z"
   },
   {
    "duration": 10,
    "start_time": "2024-06-11T14:45:06.799Z"
   },
   {
    "duration": 16,
    "start_time": "2024-06-11T14:45:09.585Z"
   },
   {
    "duration": 19,
    "start_time": "2024-06-11T14:45:10.467Z"
   },
   {
    "duration": 158,
    "start_time": "2024-06-11T14:45:36.316Z"
   },
   {
    "duration": 22,
    "start_time": "2024-06-11T14:45:37.534Z"
   },
   {
    "duration": 10,
    "start_time": "2024-06-11T14:48:14.292Z"
   },
   {
    "duration": 3,
    "start_time": "2024-06-11T14:48:51.695Z"
   },
   {
    "duration": 147,
    "start_time": "2024-06-11T14:48:51.699Z"
   },
   {
    "duration": 20,
    "start_time": "2024-06-11T14:48:51.848Z"
   },
   {
    "duration": 37,
    "start_time": "2024-06-11T14:48:51.870Z"
   },
   {
    "duration": 3247,
    "start_time": "2024-06-11T14:48:51.908Z"
   },
   {
    "duration": 11,
    "start_time": "2024-06-11T14:48:55.156Z"
   },
   {
    "duration": 17,
    "start_time": "2024-06-11T14:48:55.174Z"
   },
   {
    "duration": 13,
    "start_time": "2024-06-11T14:48:55.192Z"
   },
   {
    "duration": 18,
    "start_time": "2024-06-11T14:48:55.207Z"
   },
   {
    "duration": 20,
    "start_time": "2024-06-11T14:48:55.227Z"
   },
   {
    "duration": 5,
    "start_time": "2024-06-11T14:48:55.250Z"
   },
   {
    "duration": 6,
    "start_time": "2024-06-11T14:48:55.257Z"
   },
   {
    "duration": 31,
    "start_time": "2024-06-11T14:48:55.264Z"
   },
   {
    "duration": 9,
    "start_time": "2024-06-11T14:48:55.296Z"
   },
   {
    "duration": 5,
    "start_time": "2024-06-11T14:48:55.306Z"
   },
   {
    "duration": 14,
    "start_time": "2024-06-11T14:48:55.313Z"
   },
   {
    "duration": 4,
    "start_time": "2024-06-11T14:48:55.328Z"
   },
   {
    "duration": 38,
    "start_time": "2024-06-11T14:48:55.333Z"
   },
   {
    "duration": 11,
    "start_time": "2024-06-11T14:48:55.373Z"
   },
   {
    "duration": 23,
    "start_time": "2024-06-11T14:48:55.385Z"
   },
   {
    "duration": 3,
    "start_time": "2024-06-11T14:48:55.409Z"
   },
   {
    "duration": 4,
    "start_time": "2024-06-11T14:48:55.414Z"
   },
   {
    "duration": 28,
    "start_time": "2024-06-11T14:48:55.419Z"
   },
   {
    "duration": 11,
    "start_time": "2024-06-11T14:48:55.448Z"
   },
   {
    "duration": 6,
    "start_time": "2024-06-11T14:48:55.460Z"
   },
   {
    "duration": 11,
    "start_time": "2024-06-11T14:48:55.468Z"
   },
   {
    "duration": 12,
    "start_time": "2024-06-11T14:48:55.481Z"
   },
   {
    "duration": 10,
    "start_time": "2024-06-11T14:48:55.495Z"
   },
   {
    "duration": 10,
    "start_time": "2024-06-11T14:48:55.509Z"
   },
   {
    "duration": 6,
    "start_time": "2024-06-11T14:48:55.520Z"
   },
   {
    "duration": 3,
    "start_time": "2024-06-11T14:48:55.528Z"
   },
   {
    "duration": 19,
    "start_time": "2024-06-11T14:48:55.533Z"
   },
   {
    "duration": 5,
    "start_time": "2024-06-11T14:48:55.553Z"
   },
   {
    "duration": 12,
    "start_time": "2024-06-11T14:48:55.560Z"
   },
   {
    "duration": 211,
    "start_time": "2024-06-11T14:48:55.573Z"
   },
   {
    "duration": 6,
    "start_time": "2024-06-11T14:48:55.786Z"
   },
   {
    "duration": 10,
    "start_time": "2024-06-11T14:48:55.794Z"
   },
   {
    "duration": 4,
    "start_time": "2024-06-11T14:48:55.806Z"
   },
   {
    "duration": 12,
    "start_time": "2024-06-11T14:48:55.811Z"
   },
   {
    "duration": 23,
    "start_time": "2024-06-11T14:48:55.824Z"
   },
   {
    "duration": 3,
    "start_time": "2024-06-11T14:48:55.848Z"
   },
   {
    "duration": 282,
    "start_time": "2024-06-11T14:48:55.853Z"
   },
   {
    "duration": 8,
    "start_time": "2024-06-11T14:48:56.137Z"
   },
   {
    "duration": 8,
    "start_time": "2024-06-11T14:48:56.147Z"
   },
   {
    "duration": 242,
    "start_time": "2024-06-11T14:48:56.156Z"
   },
   {
    "duration": 8,
    "start_time": "2024-06-11T14:48:56.400Z"
   },
   {
    "duration": 258,
    "start_time": "2024-06-11T14:48:56.410Z"
   },
   {
    "duration": 10,
    "start_time": "2024-06-11T14:48:56.670Z"
   },
   {
    "duration": 386,
    "start_time": "2024-06-11T14:48:56.682Z"
   },
   {
    "duration": 9,
    "start_time": "2024-06-11T14:48:57.070Z"
   },
   {
    "duration": 250,
    "start_time": "2024-06-11T14:48:57.080Z"
   },
   {
    "duration": 146,
    "start_time": "2024-06-11T14:48:57.331Z"
   },
   {
    "duration": 8,
    "start_time": "2024-06-11T14:48:57.479Z"
   },
   {
    "duration": 195,
    "start_time": "2024-06-11T14:48:57.488Z"
   },
   {
    "duration": 174,
    "start_time": "2024-06-11T14:48:57.684Z"
   },
   {
    "duration": 165,
    "start_time": "2024-06-11T14:48:57.859Z"
   },
   {
    "duration": 20,
    "start_time": "2024-06-11T14:48:58.026Z"
   },
   {
    "duration": 259,
    "start_time": "2024-06-11T14:48:58.047Z"
   },
   {
    "duration": 8,
    "start_time": "2024-06-11T14:48:58.307Z"
   },
   {
    "duration": 317,
    "start_time": "2024-06-11T14:48:58.316Z"
   },
   {
    "duration": 11,
    "start_time": "2024-06-11T14:48:58.635Z"
   },
   {
    "duration": 256,
    "start_time": "2024-06-11T14:48:58.647Z"
   },
   {
    "duration": 8,
    "start_time": "2024-06-11T14:48:58.904Z"
   },
   {
    "duration": 264,
    "start_time": "2024-06-11T14:48:58.913Z"
   },
   {
    "duration": 43,
    "start_time": "2024-06-11T14:48:59.179Z"
   },
   {
    "duration": 31,
    "start_time": "2024-06-11T14:48:59.223Z"
   },
   {
    "duration": 49,
    "start_time": "2024-06-11T14:48:59.256Z"
   },
   {
    "duration": 806,
    "start_time": "2024-06-11T14:48:59.308Z"
   },
   {
    "duration": 9,
    "start_time": "2024-06-11T14:49:00.116Z"
   },
   {
    "duration": 125,
    "start_time": "2024-06-11T14:49:00.127Z"
   },
   {
    "duration": 151,
    "start_time": "2024-06-11T14:49:00.255Z"
   },
   {
    "duration": 148,
    "start_time": "2024-06-11T14:49:00.408Z"
   },
   {
    "duration": 152,
    "start_time": "2024-06-11T14:49:00.558Z"
   },
   {
    "duration": 157,
    "start_time": "2024-06-11T14:49:00.712Z"
   },
   {
    "duration": 150,
    "start_time": "2024-06-11T14:49:00.871Z"
   },
   {
    "duration": 166,
    "start_time": "2024-06-11T14:49:01.023Z"
   },
   {
    "duration": 146,
    "start_time": "2024-06-11T14:49:01.190Z"
   },
   {
    "duration": 18,
    "start_time": "2024-06-11T14:49:01.337Z"
   },
   {
    "duration": 59,
    "start_time": "2024-06-11T14:49:01.357Z"
   },
   {
    "duration": 103,
    "start_time": "2024-06-11T14:49:01.418Z"
   },
   {
    "duration": 67,
    "start_time": "2024-06-11T14:49:01.523Z"
   },
   {
    "duration": 119,
    "start_time": "2024-06-11T14:49:01.592Z"
   },
   {
    "duration": 153,
    "start_time": "2024-06-11T14:49:01.716Z"
   },
   {
    "duration": 60,
    "start_time": "2024-06-11T14:49:01.870Z"
   },
   {
    "duration": 299,
    "start_time": "2024-06-11T14:49:01.932Z"
   },
   {
    "duration": 23,
    "start_time": "2024-06-11T14:49:02.233Z"
   },
   {
    "duration": 20,
    "start_time": "2024-06-11T14:58:21.564Z"
   },
   {
    "duration": 46,
    "start_time": "2024-06-11T14:58:33.454Z"
   },
   {
    "duration": 616,
    "start_time": "2024-06-11T15:01:05.285Z"
   },
   {
    "duration": 227,
    "start_time": "2024-06-11T15:01:05.903Z"
   },
   {
    "duration": 26,
    "start_time": "2024-06-11T15:01:06.132Z"
   },
   {
    "duration": 38,
    "start_time": "2024-06-11T15:01:06.160Z"
   },
   {
    "duration": 3423,
    "start_time": "2024-06-11T15:01:06.200Z"
   },
   {
    "duration": 9,
    "start_time": "2024-06-11T15:01:09.625Z"
   },
   {
    "duration": 33,
    "start_time": "2024-06-11T15:01:09.636Z"
   },
   {
    "duration": 29,
    "start_time": "2024-06-11T15:01:09.671Z"
   },
   {
    "duration": 53,
    "start_time": "2024-06-11T15:01:09.701Z"
   },
   {
    "duration": 37,
    "start_time": "2024-06-11T15:01:09.756Z"
   },
   {
    "duration": 14,
    "start_time": "2024-06-11T15:01:09.794Z"
   },
   {
    "duration": 35,
    "start_time": "2024-06-11T15:01:09.810Z"
   },
   {
    "duration": 16,
    "start_time": "2024-06-11T15:01:09.847Z"
   },
   {
    "duration": 37,
    "start_time": "2024-06-11T15:01:09.865Z"
   },
   {
    "duration": 42,
    "start_time": "2024-06-11T15:01:09.904Z"
   },
   {
    "duration": 28,
    "start_time": "2024-06-11T15:01:09.947Z"
   },
   {
    "duration": 43,
    "start_time": "2024-06-11T15:01:09.977Z"
   },
   {
    "duration": 94,
    "start_time": "2024-06-11T15:01:10.022Z"
   },
   {
    "duration": 11,
    "start_time": "2024-06-11T15:01:10.118Z"
   },
   {
    "duration": 34,
    "start_time": "2024-06-11T15:01:10.131Z"
   },
   {
    "duration": 25,
    "start_time": "2024-06-11T15:01:10.167Z"
   },
   {
    "duration": 36,
    "start_time": "2024-06-11T15:01:10.194Z"
   },
   {
    "duration": 37,
    "start_time": "2024-06-11T15:01:10.232Z"
   },
   {
    "duration": 38,
    "start_time": "2024-06-11T15:01:10.271Z"
   },
   {
    "duration": 26,
    "start_time": "2024-06-11T15:01:10.311Z"
   },
   {
    "duration": 40,
    "start_time": "2024-06-11T15:01:10.339Z"
   },
   {
    "duration": 25,
    "start_time": "2024-06-11T15:01:10.380Z"
   },
   {
    "duration": 27,
    "start_time": "2024-06-11T15:01:10.409Z"
   },
   {
    "duration": 36,
    "start_time": "2024-06-11T15:01:10.438Z"
   },
   {
    "duration": 30,
    "start_time": "2024-06-11T15:01:10.475Z"
   },
   {
    "duration": 23,
    "start_time": "2024-06-11T15:01:10.507Z"
   },
   {
    "duration": 59,
    "start_time": "2024-06-11T15:01:10.532Z"
   },
   {
    "duration": 29,
    "start_time": "2024-06-11T15:01:10.593Z"
   },
   {
    "duration": 31,
    "start_time": "2024-06-11T15:01:10.624Z"
   },
   {
    "duration": 226,
    "start_time": "2024-06-11T15:01:10.657Z"
   },
   {
    "duration": 7,
    "start_time": "2024-06-11T15:01:10.884Z"
   },
   {
    "duration": 39,
    "start_time": "2024-06-11T15:01:10.892Z"
   },
   {
    "duration": 54,
    "start_time": "2024-06-11T15:01:10.933Z"
   },
   {
    "duration": 47,
    "start_time": "2024-06-11T15:01:10.988Z"
   },
   {
    "duration": 40,
    "start_time": "2024-06-11T15:01:11.036Z"
   },
   {
    "duration": 33,
    "start_time": "2024-06-11T15:01:11.078Z"
   },
   {
    "duration": 324,
    "start_time": "2024-06-11T15:01:11.112Z"
   },
   {
    "duration": 13,
    "start_time": "2024-06-11T15:01:11.437Z"
   },
   {
    "duration": 34,
    "start_time": "2024-06-11T15:01:11.452Z"
   },
   {
    "duration": 335,
    "start_time": "2024-06-11T15:01:11.488Z"
   },
   {
    "duration": 22,
    "start_time": "2024-06-11T15:01:11.824Z"
   },
   {
    "duration": 262,
    "start_time": "2024-06-11T15:01:11.847Z"
   },
   {
    "duration": 8,
    "start_time": "2024-06-11T15:01:12.111Z"
   },
   {
    "duration": 252,
    "start_time": "2024-06-11T15:01:12.121Z"
   },
   {
    "duration": 9,
    "start_time": "2024-06-11T15:01:12.374Z"
   },
   {
    "duration": 442,
    "start_time": "2024-06-11T15:01:12.384Z"
   },
   {
    "duration": 162,
    "start_time": "2024-06-11T15:01:12.828Z"
   },
   {
    "duration": 10,
    "start_time": "2024-06-11T15:01:12.992Z"
   },
   {
    "duration": 298,
    "start_time": "2024-06-11T15:01:13.003Z"
   },
   {
    "duration": 174,
    "start_time": "2024-06-11T15:01:13.303Z"
   },
   {
    "duration": 182,
    "start_time": "2024-06-11T15:01:13.479Z"
   },
   {
    "duration": 9,
    "start_time": "2024-06-11T15:01:13.663Z"
   },
   {
    "duration": 265,
    "start_time": "2024-06-11T15:01:13.673Z"
   },
   {
    "duration": 13,
    "start_time": "2024-06-11T15:01:13.940Z"
   },
   {
    "duration": 265,
    "start_time": "2024-06-11T15:01:13.954Z"
   },
   {
    "duration": 9,
    "start_time": "2024-06-11T15:01:14.220Z"
   },
   {
    "duration": 347,
    "start_time": "2024-06-11T15:01:14.231Z"
   },
   {
    "duration": 9,
    "start_time": "2024-06-11T15:01:14.580Z"
   },
   {
    "duration": 274,
    "start_time": "2024-06-11T15:01:14.590Z"
   },
   {
    "duration": 43,
    "start_time": "2024-06-11T15:01:14.865Z"
   },
   {
    "duration": 13,
    "start_time": "2024-06-11T15:01:14.910Z"
   },
   {
    "duration": 81,
    "start_time": "2024-06-11T15:01:14.924Z"
   },
   {
    "duration": 764,
    "start_time": "2024-06-11T15:01:15.006Z"
   },
   {
    "duration": 81,
    "start_time": "2024-06-11T15:01:15.772Z"
   },
   {
    "duration": 48,
    "start_time": "2024-06-11T15:01:15.855Z"
   },
   {
    "duration": 164,
    "start_time": "2024-06-11T15:01:15.905Z"
   },
   {
    "duration": 163,
    "start_time": "2024-06-11T15:01:16.071Z"
   },
   {
    "duration": 183,
    "start_time": "2024-06-11T15:01:16.236Z"
   },
   {
    "duration": 156,
    "start_time": "2024-06-11T15:01:16.421Z"
   },
   {
    "duration": 156,
    "start_time": "2024-06-11T15:01:16.579Z"
   },
   {
    "duration": 164,
    "start_time": "2024-06-11T15:01:16.737Z"
   },
   {
    "duration": 158,
    "start_time": "2024-06-11T15:01:16.902Z"
   },
   {
    "duration": 15,
    "start_time": "2024-06-11T15:01:17.062Z"
   },
   {
    "duration": 10,
    "start_time": "2024-06-11T15:01:17.079Z"
   },
   {
    "duration": 31,
    "start_time": "2024-06-11T15:01:17.091Z"
   },
   {
    "duration": 7,
    "start_time": "2024-06-11T15:01:17.124Z"
   },
   {
    "duration": 35,
    "start_time": "2024-06-11T15:01:17.136Z"
   },
   {
    "duration": 57,
    "start_time": "2024-06-11T15:01:17.172Z"
   },
   {
    "duration": 0,
    "start_time": "2024-06-11T15:01:17.230Z"
   },
   {
    "duration": 0,
    "start_time": "2024-06-11T15:01:17.232Z"
   },
   {
    "duration": 0,
    "start_time": "2024-06-11T15:01:17.233Z"
   },
   {
    "duration": 11,
    "start_time": "2024-06-11T15:02:37.397Z"
   },
   {
    "duration": 11,
    "start_time": "2024-06-11T15:03:42.749Z"
   },
   {
    "duration": 9,
    "start_time": "2024-06-11T15:05:36.683Z"
   },
   {
    "duration": 3,
    "start_time": "2024-06-11T15:05:54.226Z"
   },
   {
    "duration": 117,
    "start_time": "2024-06-11T15:05:54.230Z"
   },
   {
    "duration": 24,
    "start_time": "2024-06-11T15:05:54.349Z"
   },
   {
    "duration": 71,
    "start_time": "2024-06-11T15:05:54.376Z"
   },
   {
    "duration": 3346,
    "start_time": "2024-06-11T15:05:54.448Z"
   },
   {
    "duration": 9,
    "start_time": "2024-06-11T15:05:57.796Z"
   },
   {
    "duration": 21,
    "start_time": "2024-06-11T15:05:57.807Z"
   },
   {
    "duration": 18,
    "start_time": "2024-06-11T15:05:57.830Z"
   },
   {
    "duration": 13,
    "start_time": "2024-06-11T15:05:57.850Z"
   },
   {
    "duration": 8,
    "start_time": "2024-06-11T15:05:57.865Z"
   },
   {
    "duration": 8,
    "start_time": "2024-06-11T15:05:57.875Z"
   },
   {
    "duration": 11,
    "start_time": "2024-06-11T15:05:57.884Z"
   },
   {
    "duration": 6,
    "start_time": "2024-06-11T15:05:57.896Z"
   },
   {
    "duration": 9,
    "start_time": "2024-06-11T15:05:57.903Z"
   },
   {
    "duration": 5,
    "start_time": "2024-06-11T15:05:57.914Z"
   },
   {
    "duration": 33,
    "start_time": "2024-06-11T15:05:57.920Z"
   },
   {
    "duration": 4,
    "start_time": "2024-06-11T15:05:57.954Z"
   },
   {
    "duration": 56,
    "start_time": "2024-06-11T15:05:57.960Z"
   },
   {
    "duration": 30,
    "start_time": "2024-06-11T15:05:58.018Z"
   },
   {
    "duration": 46,
    "start_time": "2024-06-11T15:05:58.049Z"
   },
   {
    "duration": 10,
    "start_time": "2024-06-11T15:05:58.097Z"
   },
   {
    "duration": 9,
    "start_time": "2024-06-11T15:05:58.108Z"
   },
   {
    "duration": 23,
    "start_time": "2024-06-11T15:05:58.118Z"
   },
   {
    "duration": 11,
    "start_time": "2024-06-11T15:05:58.144Z"
   },
   {
    "duration": 20,
    "start_time": "2024-06-11T15:05:58.157Z"
   },
   {
    "duration": 11,
    "start_time": "2024-06-11T15:05:58.179Z"
   },
   {
    "duration": 9,
    "start_time": "2024-06-11T15:05:58.192Z"
   },
   {
    "duration": 11,
    "start_time": "2024-06-11T15:05:58.203Z"
   },
   {
    "duration": 23,
    "start_time": "2024-06-11T15:05:58.216Z"
   },
   {
    "duration": 8,
    "start_time": "2024-06-11T15:05:58.241Z"
   },
   {
    "duration": 5,
    "start_time": "2024-06-11T15:05:58.250Z"
   },
   {
    "duration": 10,
    "start_time": "2024-06-11T15:05:58.256Z"
   },
   {
    "duration": 6,
    "start_time": "2024-06-11T15:05:58.268Z"
   },
   {
    "duration": 28,
    "start_time": "2024-06-11T15:05:58.275Z"
   },
   {
    "duration": 216,
    "start_time": "2024-06-11T15:05:58.305Z"
   },
   {
    "duration": 7,
    "start_time": "2024-06-11T15:05:58.523Z"
   },
   {
    "duration": 24,
    "start_time": "2024-06-11T15:05:58.532Z"
   },
   {
    "duration": 4,
    "start_time": "2024-06-11T15:05:58.558Z"
   },
   {
    "duration": 12,
    "start_time": "2024-06-11T15:05:58.564Z"
   },
   {
    "duration": 5,
    "start_time": "2024-06-11T15:05:58.577Z"
   },
   {
    "duration": 16,
    "start_time": "2024-06-11T15:05:58.584Z"
   },
   {
    "duration": 300,
    "start_time": "2024-06-11T15:05:58.601Z"
   },
   {
    "duration": 7,
    "start_time": "2024-06-11T15:05:58.902Z"
   },
   {
    "duration": 23,
    "start_time": "2024-06-11T15:05:58.911Z"
   },
   {
    "duration": 260,
    "start_time": "2024-06-11T15:05:58.935Z"
   },
   {
    "duration": 8,
    "start_time": "2024-06-11T15:05:59.197Z"
   },
   {
    "duration": 261,
    "start_time": "2024-06-11T15:05:59.207Z"
   },
   {
    "duration": 9,
    "start_time": "2024-06-11T15:05:59.469Z"
   },
   {
    "duration": 281,
    "start_time": "2024-06-11T15:05:59.480Z"
   },
   {
    "duration": 9,
    "start_time": "2024-06-11T15:05:59.762Z"
   },
   {
    "duration": 456,
    "start_time": "2024-06-11T15:05:59.772Z"
   },
   {
    "duration": 161,
    "start_time": "2024-06-11T15:06:00.229Z"
   },
   {
    "duration": 9,
    "start_time": "2024-06-11T15:06:00.391Z"
   },
   {
    "duration": 228,
    "start_time": "2024-06-11T15:06:00.402Z"
   },
   {
    "duration": 153,
    "start_time": "2024-06-11T15:06:00.631Z"
   },
   {
    "duration": 193,
    "start_time": "2024-06-11T15:06:00.786Z"
   },
   {
    "duration": 9,
    "start_time": "2024-06-11T15:06:00.981Z"
   },
   {
    "duration": 394,
    "start_time": "2024-06-11T15:06:00.991Z"
   },
   {
    "duration": 9,
    "start_time": "2024-06-11T15:06:01.387Z"
   },
   {
    "duration": 274,
    "start_time": "2024-06-11T15:06:01.398Z"
   },
   {
    "duration": 9,
    "start_time": "2024-06-11T15:06:01.674Z"
   },
   {
    "duration": 396,
    "start_time": "2024-06-11T15:06:01.685Z"
   },
   {
    "duration": 8,
    "start_time": "2024-06-11T15:06:02.083Z"
   },
   {
    "duration": 332,
    "start_time": "2024-06-11T15:06:02.092Z"
   },
   {
    "duration": 52,
    "start_time": "2024-06-11T15:06:02.426Z"
   },
   {
    "duration": 14,
    "start_time": "2024-06-11T15:06:02.479Z"
   },
   {
    "duration": 29,
    "start_time": "2024-06-11T15:06:02.495Z"
   },
   {
    "duration": 780,
    "start_time": "2024-06-11T15:06:02.545Z"
   },
   {
    "duration": 17,
    "start_time": "2024-06-11T15:06:03.329Z"
   },
   {
    "duration": 43,
    "start_time": "2024-06-11T15:06:03.348Z"
   },
   {
    "duration": 166,
    "start_time": "2024-06-11T15:06:03.392Z"
   },
   {
    "duration": 238,
    "start_time": "2024-06-11T15:06:03.560Z"
   },
   {
    "duration": 171,
    "start_time": "2024-06-11T15:06:03.800Z"
   },
   {
    "duration": 176,
    "start_time": "2024-06-11T15:06:03.973Z"
   },
   {
    "duration": 169,
    "start_time": "2024-06-11T15:06:04.150Z"
   },
   {
    "duration": 167,
    "start_time": "2024-06-11T15:06:04.320Z"
   },
   {
    "duration": 154,
    "start_time": "2024-06-11T15:06:04.488Z"
   },
   {
    "duration": 15,
    "start_time": "2024-06-11T15:06:04.645Z"
   },
   {
    "duration": 9,
    "start_time": "2024-06-11T15:06:04.661Z"
   },
   {
    "duration": 19,
    "start_time": "2024-06-11T15:06:04.672Z"
   },
   {
    "duration": 16,
    "start_time": "2024-06-11T15:06:04.693Z"
   },
   {
    "duration": 28,
    "start_time": "2024-06-11T15:06:04.710Z"
   },
   {
    "duration": 8,
    "start_time": "2024-06-11T15:06:04.739Z"
   },
   {
    "duration": 0,
    "start_time": "2024-06-11T15:06:04.748Z"
   },
   {
    "duration": 0,
    "start_time": "2024-06-11T15:06:04.749Z"
   },
   {
    "duration": 0,
    "start_time": "2024-06-11T15:06:04.750Z"
   },
   {
    "duration": 8,
    "start_time": "2024-06-11T15:07:21.864Z"
   },
   {
    "duration": 15,
    "start_time": "2024-06-11T15:09:34.329Z"
   },
   {
    "duration": 170,
    "start_time": "2024-06-11T15:11:57.509Z"
   },
   {
    "duration": 17,
    "start_time": "2024-06-11T15:12:02.504Z"
   },
   {
    "duration": 8,
    "start_time": "2024-06-11T15:14:55.402Z"
   },
   {
    "duration": 15,
    "start_time": "2024-06-11T15:15:08.262Z"
   },
   {
    "duration": 4,
    "start_time": "2024-06-11T15:18:02.894Z"
   },
   {
    "duration": 6,
    "start_time": "2024-06-11T15:19:41.522Z"
   },
   {
    "duration": 3,
    "start_time": "2024-06-11T15:19:48.209Z"
   },
   {
    "duration": 102,
    "start_time": "2024-06-11T15:19:48.214Z"
   },
   {
    "duration": 41,
    "start_time": "2024-06-11T15:19:48.317Z"
   },
   {
    "duration": 40,
    "start_time": "2024-06-11T15:19:48.361Z"
   },
   {
    "duration": 3308,
    "start_time": "2024-06-11T15:19:48.403Z"
   },
   {
    "duration": 9,
    "start_time": "2024-06-11T15:19:51.713Z"
   },
   {
    "duration": 29,
    "start_time": "2024-06-11T15:19:51.724Z"
   },
   {
    "duration": 6,
    "start_time": "2024-06-11T15:19:51.755Z"
   },
   {
    "duration": 53,
    "start_time": "2024-06-11T15:19:51.763Z"
   },
   {
    "duration": 12,
    "start_time": "2024-06-11T15:19:51.818Z"
   },
   {
    "duration": 20,
    "start_time": "2024-06-11T15:19:51.831Z"
   },
   {
    "duration": 57,
    "start_time": "2024-06-11T15:19:51.852Z"
   },
   {
    "duration": 37,
    "start_time": "2024-06-11T15:19:51.911Z"
   },
   {
    "duration": 12,
    "start_time": "2024-06-11T15:19:51.950Z"
   },
   {
    "duration": 11,
    "start_time": "2024-06-11T15:19:51.963Z"
   },
   {
    "duration": 31,
    "start_time": "2024-06-11T15:19:51.976Z"
   },
   {
    "duration": 45,
    "start_time": "2024-06-11T15:19:52.009Z"
   },
   {
    "duration": 12,
    "start_time": "2024-06-11T15:19:52.056Z"
   },
   {
    "duration": 101,
    "start_time": "2024-06-11T15:19:52.069Z"
   },
   {
    "duration": 14,
    "start_time": "2024-06-11T15:19:52.172Z"
   },
   {
    "duration": 30,
    "start_time": "2024-06-11T15:19:52.187Z"
   },
   {
    "duration": 13,
    "start_time": "2024-06-11T15:19:52.218Z"
   },
   {
    "duration": 18,
    "start_time": "2024-06-11T15:19:52.232Z"
   },
   {
    "duration": 36,
    "start_time": "2024-06-11T15:19:52.253Z"
   },
   {
    "duration": 10,
    "start_time": "2024-06-11T15:19:52.290Z"
   },
   {
    "duration": 19,
    "start_time": "2024-06-11T15:19:52.301Z"
   },
   {
    "duration": 19,
    "start_time": "2024-06-11T15:19:52.321Z"
   },
   {
    "duration": 1166,
    "start_time": "2024-06-11T15:19:52.342Z"
   },
   {
    "duration": 0,
    "start_time": "2024-06-11T15:19:53.510Z"
   },
   {
    "duration": 0,
    "start_time": "2024-06-11T15:19:53.512Z"
   },
   {
    "duration": 0,
    "start_time": "2024-06-11T15:19:53.513Z"
   },
   {
    "duration": 0,
    "start_time": "2024-06-11T15:19:53.514Z"
   },
   {
    "duration": 0,
    "start_time": "2024-06-11T15:19:53.516Z"
   },
   {
    "duration": 0,
    "start_time": "2024-06-11T15:19:53.517Z"
   },
   {
    "duration": 0,
    "start_time": "2024-06-11T15:19:53.518Z"
   },
   {
    "duration": 0,
    "start_time": "2024-06-11T15:19:53.519Z"
   },
   {
    "duration": 0,
    "start_time": "2024-06-11T15:19:53.520Z"
   },
   {
    "duration": 0,
    "start_time": "2024-06-11T15:19:53.521Z"
   },
   {
    "duration": 0,
    "start_time": "2024-06-11T15:19:53.522Z"
   },
   {
    "duration": 0,
    "start_time": "2024-06-11T15:19:53.523Z"
   },
   {
    "duration": 0,
    "start_time": "2024-06-11T15:19:53.524Z"
   },
   {
    "duration": 0,
    "start_time": "2024-06-11T15:19:53.525Z"
   },
   {
    "duration": 0,
    "start_time": "2024-06-11T15:19:53.526Z"
   },
   {
    "duration": 0,
    "start_time": "2024-06-11T15:19:53.527Z"
   },
   {
    "duration": 0,
    "start_time": "2024-06-11T15:19:53.528Z"
   },
   {
    "duration": 0,
    "start_time": "2024-06-11T15:19:53.529Z"
   },
   {
    "duration": 0,
    "start_time": "2024-06-11T15:19:53.530Z"
   },
   {
    "duration": 0,
    "start_time": "2024-06-11T15:19:53.531Z"
   },
   {
    "duration": 0,
    "start_time": "2024-06-11T15:19:53.532Z"
   },
   {
    "duration": 0,
    "start_time": "2024-06-11T15:19:53.533Z"
   },
   {
    "duration": 0,
    "start_time": "2024-06-11T15:19:53.534Z"
   },
   {
    "duration": 0,
    "start_time": "2024-06-11T15:19:53.535Z"
   },
   {
    "duration": 0,
    "start_time": "2024-06-11T15:19:53.536Z"
   },
   {
    "duration": 0,
    "start_time": "2024-06-11T15:19:53.537Z"
   },
   {
    "duration": 0,
    "start_time": "2024-06-11T15:19:53.538Z"
   },
   {
    "duration": 0,
    "start_time": "2024-06-11T15:19:53.539Z"
   },
   {
    "duration": 0,
    "start_time": "2024-06-11T15:19:53.540Z"
   },
   {
    "duration": 0,
    "start_time": "2024-06-11T15:19:53.541Z"
   },
   {
    "duration": 0,
    "start_time": "2024-06-11T15:19:53.542Z"
   },
   {
    "duration": 0,
    "start_time": "2024-06-11T15:19:53.543Z"
   },
   {
    "duration": 0,
    "start_time": "2024-06-11T15:19:53.544Z"
   },
   {
    "duration": 0,
    "start_time": "2024-06-11T15:19:53.545Z"
   },
   {
    "duration": 0,
    "start_time": "2024-06-11T15:19:53.546Z"
   },
   {
    "duration": 0,
    "start_time": "2024-06-11T15:19:53.547Z"
   },
   {
    "duration": 0,
    "start_time": "2024-06-11T15:19:53.548Z"
   },
   {
    "duration": 0,
    "start_time": "2024-06-11T15:19:53.549Z"
   },
   {
    "duration": 0,
    "start_time": "2024-06-11T15:19:53.549Z"
   },
   {
    "duration": 0,
    "start_time": "2024-06-11T15:19:53.550Z"
   },
   {
    "duration": 0,
    "start_time": "2024-06-11T15:19:53.552Z"
   },
   {
    "duration": 0,
    "start_time": "2024-06-11T15:19:53.553Z"
   },
   {
    "duration": 0,
    "start_time": "2024-06-11T15:19:53.554Z"
   },
   {
    "duration": 0,
    "start_time": "2024-06-11T15:19:53.554Z"
   },
   {
    "duration": 0,
    "start_time": "2024-06-11T15:19:53.555Z"
   },
   {
    "duration": 0,
    "start_time": "2024-06-11T15:19:53.556Z"
   },
   {
    "duration": 1,
    "start_time": "2024-06-11T15:19:53.557Z"
   },
   {
    "duration": 0,
    "start_time": "2024-06-11T15:19:53.558Z"
   },
   {
    "duration": 0,
    "start_time": "2024-06-11T15:19:53.559Z"
   },
   {
    "duration": 0,
    "start_time": "2024-06-11T15:19:53.560Z"
   },
   {
    "duration": 0,
    "start_time": "2024-06-11T15:19:53.561Z"
   },
   {
    "duration": 0,
    "start_time": "2024-06-11T15:19:53.562Z"
   },
   {
    "duration": 0,
    "start_time": "2024-06-11T15:19:53.563Z"
   },
   {
    "duration": 0,
    "start_time": "2024-06-11T15:19:53.563Z"
   },
   {
    "duration": 0,
    "start_time": "2024-06-11T15:19:53.565Z"
   },
   {
    "duration": 0,
    "start_time": "2024-06-11T15:19:53.565Z"
   },
   {
    "duration": 0,
    "start_time": "2024-06-11T15:19:53.566Z"
   },
   {
    "duration": 0,
    "start_time": "2024-06-11T15:19:53.567Z"
   },
   {
    "duration": 5,
    "start_time": "2024-06-11T15:23:35.944Z"
   },
   {
    "duration": 3,
    "start_time": "2024-06-11T15:23:45.656Z"
   },
   {
    "duration": 123,
    "start_time": "2024-06-11T15:23:45.660Z"
   },
   {
    "duration": 19,
    "start_time": "2024-06-11T15:23:45.785Z"
   },
   {
    "duration": 70,
    "start_time": "2024-06-11T15:23:45.806Z"
   },
   {
    "duration": 3362,
    "start_time": "2024-06-11T15:23:45.878Z"
   },
   {
    "duration": 11,
    "start_time": "2024-06-11T15:23:49.241Z"
   },
   {
    "duration": 20,
    "start_time": "2024-06-11T15:23:49.254Z"
   },
   {
    "duration": 13,
    "start_time": "2024-06-11T15:23:49.275Z"
   },
   {
    "duration": 32,
    "start_time": "2024-06-11T15:23:49.290Z"
   },
   {
    "duration": 13,
    "start_time": "2024-06-11T15:23:49.324Z"
   },
   {
    "duration": 26,
    "start_time": "2024-06-11T15:23:49.338Z"
   },
   {
    "duration": 17,
    "start_time": "2024-06-11T15:23:49.366Z"
   },
   {
    "duration": 32,
    "start_time": "2024-06-11T15:23:49.385Z"
   },
   {
    "duration": 32,
    "start_time": "2024-06-11T15:23:49.419Z"
   },
   {
    "duration": 41,
    "start_time": "2024-06-11T15:23:49.453Z"
   },
   {
    "duration": 50,
    "start_time": "2024-06-11T15:23:49.497Z"
   },
   {
    "duration": 13,
    "start_time": "2024-06-11T15:23:49.549Z"
   },
   {
    "duration": 24,
    "start_time": "2024-06-11T15:23:49.564Z"
   },
   {
    "duration": 66,
    "start_time": "2024-06-11T15:23:49.589Z"
   },
   {
    "duration": 21,
    "start_time": "2024-06-11T15:23:49.657Z"
   },
   {
    "duration": 37,
    "start_time": "2024-06-11T15:23:49.680Z"
   },
   {
    "duration": 19,
    "start_time": "2024-06-11T15:23:49.718Z"
   },
   {
    "duration": 21,
    "start_time": "2024-06-11T15:23:49.739Z"
   },
   {
    "duration": 40,
    "start_time": "2024-06-11T15:23:49.765Z"
   },
   {
    "duration": 22,
    "start_time": "2024-06-11T15:23:49.807Z"
   },
   {
    "duration": 27,
    "start_time": "2024-06-11T15:23:49.830Z"
   },
   {
    "duration": 34,
    "start_time": "2024-06-11T15:23:49.858Z"
   },
   {
    "duration": 68,
    "start_time": "2024-06-11T15:23:49.894Z"
   },
   {
    "duration": 38,
    "start_time": "2024-06-11T15:23:49.963Z"
   },
   {
    "duration": 23,
    "start_time": "2024-06-11T15:23:50.002Z"
   },
   {
    "duration": 33,
    "start_time": "2024-06-11T15:23:50.027Z"
   },
   {
    "duration": 63,
    "start_time": "2024-06-11T15:23:50.062Z"
   },
   {
    "duration": 41,
    "start_time": "2024-06-11T15:23:50.126Z"
   },
   {
    "duration": 9,
    "start_time": "2024-06-11T15:23:50.168Z"
   },
   {
    "duration": 15,
    "start_time": "2024-06-11T15:23:50.179Z"
   },
   {
    "duration": 203,
    "start_time": "2024-06-11T15:23:50.196Z"
   },
   {
    "duration": 7,
    "start_time": "2024-06-11T15:23:50.400Z"
   },
   {
    "duration": 12,
    "start_time": "2024-06-11T15:23:50.408Z"
   },
   {
    "duration": 4,
    "start_time": "2024-06-11T15:23:50.421Z"
   },
   {
    "duration": 4,
    "start_time": "2024-06-11T15:23:50.445Z"
   },
   {
    "duration": 19,
    "start_time": "2024-06-11T15:23:50.451Z"
   },
   {
    "duration": 9,
    "start_time": "2024-06-11T15:23:50.471Z"
   },
   {
    "duration": 279,
    "start_time": "2024-06-11T15:23:50.481Z"
   },
   {
    "duration": 6,
    "start_time": "2024-06-11T15:23:50.761Z"
   },
   {
    "duration": 10,
    "start_time": "2024-06-11T15:23:50.768Z"
   },
   {
    "duration": 383,
    "start_time": "2024-06-11T15:23:50.780Z"
   },
   {
    "duration": 8,
    "start_time": "2024-06-11T15:23:51.164Z"
   },
   {
    "duration": 249,
    "start_time": "2024-06-11T15:23:51.174Z"
   },
   {
    "duration": 8,
    "start_time": "2024-06-11T15:23:51.424Z"
   },
   {
    "duration": 255,
    "start_time": "2024-06-11T15:23:51.433Z"
   },
   {
    "duration": 8,
    "start_time": "2024-06-11T15:23:51.689Z"
   },
   {
    "duration": 231,
    "start_time": "2024-06-11T15:23:51.698Z"
   },
   {
    "duration": 144,
    "start_time": "2024-06-11T15:23:51.930Z"
   },
   {
    "duration": 8,
    "start_time": "2024-06-11T15:23:52.075Z"
   },
   {
    "duration": 274,
    "start_time": "2024-06-11T15:23:52.084Z"
   },
   {
    "duration": 165,
    "start_time": "2024-06-11T15:23:52.359Z"
   },
   {
    "duration": 273,
    "start_time": "2024-06-11T15:23:52.526Z"
   },
   {
    "duration": 9,
    "start_time": "2024-06-11T15:23:52.800Z"
   },
   {
    "duration": 261,
    "start_time": "2024-06-11T15:23:52.811Z"
   },
   {
    "duration": 9,
    "start_time": "2024-06-11T15:23:53.073Z"
   },
   {
    "duration": 255,
    "start_time": "2024-06-11T15:23:53.083Z"
   },
   {
    "duration": 12,
    "start_time": "2024-06-11T15:23:53.339Z"
   },
   {
    "duration": 272,
    "start_time": "2024-06-11T15:23:53.352Z"
   },
   {
    "duration": 7,
    "start_time": "2024-06-11T15:23:53.626Z"
   },
   {
    "duration": 264,
    "start_time": "2024-06-11T15:23:53.634Z"
   },
   {
    "duration": 54,
    "start_time": "2024-06-11T15:23:53.899Z"
   },
   {
    "duration": 14,
    "start_time": "2024-06-11T15:23:53.955Z"
   },
   {
    "duration": 30,
    "start_time": "2024-06-11T15:23:53.971Z"
   },
   {
    "duration": 826,
    "start_time": "2024-06-11T15:23:54.006Z"
   },
   {
    "duration": 12,
    "start_time": "2024-06-11T15:23:54.833Z"
   },
   {
    "duration": 41,
    "start_time": "2024-06-11T15:23:54.846Z"
   },
   {
    "duration": 149,
    "start_time": "2024-06-11T15:23:54.889Z"
   },
   {
    "duration": 146,
    "start_time": "2024-06-11T15:23:55.039Z"
   },
   {
    "duration": 159,
    "start_time": "2024-06-11T15:23:55.186Z"
   },
   {
    "duration": 142,
    "start_time": "2024-06-11T15:23:55.346Z"
   },
   {
    "duration": 177,
    "start_time": "2024-06-11T15:23:55.489Z"
   },
   {
    "duration": 156,
    "start_time": "2024-06-11T15:23:55.668Z"
   },
   {
    "duration": 140,
    "start_time": "2024-06-11T15:23:55.825Z"
   },
   {
    "duration": 16,
    "start_time": "2024-06-11T15:23:55.967Z"
   },
   {
    "duration": 10,
    "start_time": "2024-06-11T15:23:55.985Z"
   },
   {
    "duration": 23,
    "start_time": "2024-06-11T15:23:55.997Z"
   },
   {
    "duration": 86,
    "start_time": "2024-06-11T15:23:56.022Z"
   },
   {
    "duration": 8,
    "start_time": "2024-06-11T15:23:56.109Z"
   },
   {
    "duration": 55,
    "start_time": "2024-06-11T15:23:56.119Z"
   },
   {
    "duration": 164,
    "start_time": "2024-06-11T15:23:56.176Z"
   },
   {
    "duration": 16,
    "start_time": "2024-06-11T15:23:56.345Z"
   },
   {
    "duration": 63,
    "start_time": "2024-06-11T15:24:58.285Z"
   }
  ],
  "colab": {
   "provenance": []
  },
  "kernelspec": {
   "display_name": "Python 3 (ipykernel)",
   "language": "python",
   "name": "python3"
  },
  "language_info": {
   "codemirror_mode": {
    "name": "ipython",
    "version": 3
   },
   "file_extension": ".py",
   "mimetype": "text/x-python",
   "name": "python",
   "nbconvert_exporter": "python",
   "pygments_lexer": "ipython3",
   "version": "3.9.5"
  },
  "toc": {
   "base_numbering": 1,
   "nav_menu": {},
   "number_sections": true,
   "sideBar": true,
   "skip_h1_title": true,
   "title_cell": "Table of Contents",
   "title_sidebar": "Contents",
   "toc_cell": false,
   "toc_position": {},
   "toc_section_display": true,
   "toc_window_display": false
  }
 },
 "nbformat": 4,
 "nbformat_minor": 1
}
