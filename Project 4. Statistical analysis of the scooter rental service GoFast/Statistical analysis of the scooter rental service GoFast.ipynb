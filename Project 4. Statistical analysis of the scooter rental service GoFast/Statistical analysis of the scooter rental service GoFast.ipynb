{
 "cells": [
  {
   "cell_type": "markdown",
   "id": "56fbc693",
   "metadata": {},
   "source": [
    "<div class=\"alert alert-block alert-warning\" style=\"font-size: 24px;\">\n",
    "    <b>Project: Statistical analysis of the scooter rental service GoFast</b>\n",
    "\n",
    "\n",
    "Table of contents\n",
    "\n",
    "- [Chapter 1. Loading Data](#Step-1.-Loading-Data)\n",
    "- [Chapter 2. Preprocessing Data](#Step-2.-Preprocessing-Data)\n",
    "- [Chapter 3. Exploratory Data Analysis](#Step-3.-Exploratory-Data-Analysis) \n",
    "- [Chapter 4. Combining Data](#Step-4.-Combining-Data)\n",
    "- [Chapter 5. Revenue Calculation](#Step-5.-Revenue-Calculation)\n",
    "- [Chapter 6. Hypothesis Testing](#Step-6.-Hypothesis-Testing)\n",
    "</div>"
   ]
  },
  {
   "cell_type": "markdown",
   "id": "28fef45c",
   "metadata": {},
   "source": [
    "**Project Description:**\n",
    "\n",
    "Analyze the data he popular scooter rental service **GoFast** and test some hypotheses that can help the business grow.  \n",
    "To travel around the city, GoFast users use a mobile application. The service can be used:\n",
    "- without a subscription\n",
    "- no subscription fee;\n",
    "- the cost of one minute of travel is 8 rubles;\n",
    "- the cost of the start (beginning of the trip) is 50 rubles;\n",
    "- with an Ultra subscription\n",
    "- the subscription fee is 199 rubles per month;\n",
    "- the cost of one minute of travel is 6 rubles;\n",
    "- the cost of the start is free."
   ]
  },
  {
   "cell_type": "code",
   "execution_count": 4,
   "id": "154f9dfa",
   "metadata": {},
   "outputs": [],
   "source": [
    "import pandas as pd\n",
    "import matplotlib.pyplot as plt\n",
    "import numpy as np\n",
    "\n",
    "from scipy import stats as st\n",
    "from scipy.stats import binom"
   ]
  },
  {
   "cell_type": "markdown",
   "id": "7240c2f8",
   "metadata": {},
   "source": [
    "#### Chapter 1. Loading Data"
   ]
  },
  {
   "cell_type": "code",
   "execution_count": 5,
   "id": "d5641395",
   "metadata": {},
   "outputs": [],
   "source": [
    "#Считываем CSV-файлы с данными с помощью библиотеки pandas и сохраните их в датафреймы.\n",
    "users_go = pd.read_csv('/datasets/users_go.csv')\n",
    "riders_go = pd.read_csv('/datasets/rides_go.csv')\n",
    "subscriptions_go = pd.read_csv('/datasets/subscriptions_go.csv')"
   ]
  },
  {
   "cell_type": "code",
   "execution_count": 6,
   "id": "e54f00b8",
   "metadata": {},
   "outputs": [],
   "source": [
    "# Изучаем общую информацию о каждом датафрейме."
   ]
  },
  {
   "cell_type": "code",
   "execution_count": 7,
   "id": "498b1b91",
   "metadata": {},
   "outputs": [
    {
     "name": "stdout",
     "output_type": "stream",
     "text": [
      "<class 'pandas.core.frame.DataFrame'>\n",
      "RangeIndex: 1565 entries, 0 to 1564\n",
      "Data columns (total 5 columns):\n",
      " #   Column             Non-Null Count  Dtype \n",
      "---  ------             --------------  ----- \n",
      " 0   user_id            1565 non-null   int64 \n",
      " 1   name               1565 non-null   object\n",
      " 2   age                1565 non-null   int64 \n",
      " 3   city               1565 non-null   object\n",
      " 4   subscription_type  1565 non-null   object\n",
      "dtypes: int64(2), object(3)\n",
      "memory usage: 61.3+ KB\n",
      "<class 'pandas.core.frame.DataFrame'>\n",
      "RangeIndex: 18068 entries, 0 to 18067\n",
      "Data columns (total 4 columns):\n",
      " #   Column    Non-Null Count  Dtype  \n",
      "---  ------    --------------  -----  \n",
      " 0   user_id   18068 non-null  int64  \n",
      " 1   distance  18068 non-null  float64\n",
      " 2   duration  18068 non-null  float64\n",
      " 3   date      18068 non-null  object \n",
      "dtypes: float64(2), int64(1), object(1)\n",
      "memory usage: 564.8+ KB\n",
      "<class 'pandas.core.frame.DataFrame'>\n",
      "RangeIndex: 2 entries, 0 to 1\n",
      "Data columns (total 4 columns):\n",
      " #   Column             Non-Null Count  Dtype \n",
      "---  ------             --------------  ----- \n",
      " 0   subscription_type  2 non-null      object\n",
      " 1   minute_price       2 non-null      int64 \n",
      " 2   start_ride_price   2 non-null      int64 \n",
      " 3   subscription_fee   2 non-null      int64 \n",
      "dtypes: int64(3), object(1)\n",
      "memory usage: 192.0+ bytes\n"
     ]
    }
   ],
   "source": [
    "users_go.info()\n",
    "riders_go.info()\n",
    "subscriptions_go.info()"
   ]
  },
  {
   "cell_type": "code",
   "execution_count": 8,
   "id": "8d4a2db3",
   "metadata": {},
   "outputs": [
    {
     "data": {
      "text/html": [
       "<div>\n",
       "<style scoped>\n",
       "    .dataframe tbody tr th:only-of-type {\n",
       "        vertical-align: middle;\n",
       "    }\n",
       "\n",
       "    .dataframe tbody tr th {\n",
       "        vertical-align: top;\n",
       "    }\n",
       "\n",
       "    .dataframe thead th {\n",
       "        text-align: right;\n",
       "    }\n",
       "</style>\n",
       "<table border=\"1\" class=\"dataframe\">\n",
       "  <thead>\n",
       "    <tr style=\"text-align: right;\">\n",
       "      <th></th>\n",
       "      <th>user_id</th>\n",
       "      <th>name</th>\n",
       "      <th>age</th>\n",
       "      <th>city</th>\n",
       "      <th>subscription_type</th>\n",
       "    </tr>\n",
       "  </thead>\n",
       "  <tbody>\n",
       "    <tr>\n",
       "      <th>0</th>\n",
       "      <td>1</td>\n",
       "      <td>Кира</td>\n",
       "      <td>22</td>\n",
       "      <td>Тюмень</td>\n",
       "      <td>ultra</td>\n",
       "    </tr>\n",
       "    <tr>\n",
       "      <th>1</th>\n",
       "      <td>2</td>\n",
       "      <td>Станислав</td>\n",
       "      <td>31</td>\n",
       "      <td>Омск</td>\n",
       "      <td>ultra</td>\n",
       "    </tr>\n",
       "    <tr>\n",
       "      <th>2</th>\n",
       "      <td>3</td>\n",
       "      <td>Алексей</td>\n",
       "      <td>20</td>\n",
       "      <td>Москва</td>\n",
       "      <td>ultra</td>\n",
       "    </tr>\n",
       "    <tr>\n",
       "      <th>3</th>\n",
       "      <td>4</td>\n",
       "      <td>Константин</td>\n",
       "      <td>26</td>\n",
       "      <td>Ростов-на-Дону</td>\n",
       "      <td>ultra</td>\n",
       "    </tr>\n",
       "    <tr>\n",
       "      <th>4</th>\n",
       "      <td>5</td>\n",
       "      <td>Адель</td>\n",
       "      <td>28</td>\n",
       "      <td>Омск</td>\n",
       "      <td>ultra</td>\n",
       "    </tr>\n",
       "  </tbody>\n",
       "</table>\n",
       "</div>"
      ],
      "text/plain": [
       "   user_id        name  age            city subscription_type\n",
       "0        1        Кира   22          Тюмень             ultra\n",
       "1        2   Станислав   31            Омск             ultra\n",
       "2        3     Алексей   20          Москва             ultra\n",
       "3        4  Константин   26  Ростов-на-Дону             ultra\n",
       "4        5       Адель   28            Омск             ultra"
      ]
     },
     "execution_count": 8,
     "metadata": {},
     "output_type": "execute_result"
    }
   ],
   "source": [
    "users_go.head()"
   ]
  },
  {
   "cell_type": "code",
   "execution_count": 9,
   "id": "70fbe2d7",
   "metadata": {},
   "outputs": [
    {
     "data": {
      "text/html": [
       "<div>\n",
       "<style scoped>\n",
       "    .dataframe tbody tr th:only-of-type {\n",
       "        vertical-align: middle;\n",
       "    }\n",
       "\n",
       "    .dataframe tbody tr th {\n",
       "        vertical-align: top;\n",
       "    }\n",
       "\n",
       "    .dataframe thead th {\n",
       "        text-align: right;\n",
       "    }\n",
       "</style>\n",
       "<table border=\"1\" class=\"dataframe\">\n",
       "  <thead>\n",
       "    <tr style=\"text-align: right;\">\n",
       "      <th></th>\n",
       "      <th>user_id</th>\n",
       "      <th>distance</th>\n",
       "      <th>duration</th>\n",
       "      <th>date</th>\n",
       "    </tr>\n",
       "  </thead>\n",
       "  <tbody>\n",
       "    <tr>\n",
       "      <th>0</th>\n",
       "      <td>1</td>\n",
       "      <td>4409.919140</td>\n",
       "      <td>25.599769</td>\n",
       "      <td>2021-01-01</td>\n",
       "    </tr>\n",
       "    <tr>\n",
       "      <th>1</th>\n",
       "      <td>1</td>\n",
       "      <td>2617.592153</td>\n",
       "      <td>15.816871</td>\n",
       "      <td>2021-01-18</td>\n",
       "    </tr>\n",
       "    <tr>\n",
       "      <th>2</th>\n",
       "      <td>1</td>\n",
       "      <td>754.159807</td>\n",
       "      <td>6.232113</td>\n",
       "      <td>2021-04-20</td>\n",
       "    </tr>\n",
       "    <tr>\n",
       "      <th>3</th>\n",
       "      <td>1</td>\n",
       "      <td>2694.783254</td>\n",
       "      <td>18.511000</td>\n",
       "      <td>2021-08-11</td>\n",
       "    </tr>\n",
       "    <tr>\n",
       "      <th>4</th>\n",
       "      <td>1</td>\n",
       "      <td>4028.687306</td>\n",
       "      <td>26.265803</td>\n",
       "      <td>2021-08-28</td>\n",
       "    </tr>\n",
       "  </tbody>\n",
       "</table>\n",
       "</div>"
      ],
      "text/plain": [
       "   user_id     distance   duration        date\n",
       "0        1  4409.919140  25.599769  2021-01-01\n",
       "1        1  2617.592153  15.816871  2021-01-18\n",
       "2        1   754.159807   6.232113  2021-04-20\n",
       "3        1  2694.783254  18.511000  2021-08-11\n",
       "4        1  4028.687306  26.265803  2021-08-28"
      ]
     },
     "execution_count": 9,
     "metadata": {},
     "output_type": "execute_result"
    }
   ],
   "source": [
    "riders_go.head()"
   ]
  },
  {
   "cell_type": "code",
   "execution_count": 10,
   "id": "35e1691b",
   "metadata": {},
   "outputs": [
    {
     "data": {
      "text/html": [
       "<div>\n",
       "<style scoped>\n",
       "    .dataframe tbody tr th:only-of-type {\n",
       "        vertical-align: middle;\n",
       "    }\n",
       "\n",
       "    .dataframe tbody tr th {\n",
       "        vertical-align: top;\n",
       "    }\n",
       "\n",
       "    .dataframe thead th {\n",
       "        text-align: right;\n",
       "    }\n",
       "</style>\n",
       "<table border=\"1\" class=\"dataframe\">\n",
       "  <thead>\n",
       "    <tr style=\"text-align: right;\">\n",
       "      <th></th>\n",
       "      <th>subscription_type</th>\n",
       "      <th>minute_price</th>\n",
       "      <th>start_ride_price</th>\n",
       "      <th>subscription_fee</th>\n",
       "    </tr>\n",
       "  </thead>\n",
       "  <tbody>\n",
       "    <tr>\n",
       "      <th>0</th>\n",
       "      <td>free</td>\n",
       "      <td>8</td>\n",
       "      <td>50</td>\n",
       "      <td>0</td>\n",
       "    </tr>\n",
       "    <tr>\n",
       "      <th>1</th>\n",
       "      <td>ultra</td>\n",
       "      <td>6</td>\n",
       "      <td>0</td>\n",
       "      <td>199</td>\n",
       "    </tr>\n",
       "  </tbody>\n",
       "</table>\n",
       "</div>"
      ],
      "text/plain": [
       "  subscription_type  minute_price  start_ride_price  subscription_fee\n",
       "0              free             8                50                 0\n",
       "1             ultra             6                 0               199"
      ]
     },
     "execution_count": 10,
     "metadata": {},
     "output_type": "execute_result"
    }
   ],
   "source": [
    "subscriptions_go.head()"
   ]
  },
  {
   "cell_type": "markdown",
   "id": "01c0ad54",
   "metadata": {},
   "source": [
    "**Output:**\n",
    "\n",
    "**users_go** - 1565 entries, no gaps, 31 obvious duplicates.\n",
    "\n",
    "**riders_go** - 18068 entries, no gaps, no obvious duplicates.\n",
    "\n",
    "**subscriptions_go** - 2 entries, no gaps, no obvious duplicates."
   ]
  },
  {
   "cell_type": "markdown",
   "id": "d2cc9cf9",
   "metadata": {},
   "source": [
    "#### Chapter 2. Preprocessing Data"
   ]
  },
  {
   "cell_type": "markdown",
   "id": "0749c2f3",
   "metadata": {},
   "source": [
    "2.1 We will find duplicates and remove them"
   ]
  },
  {
   "cell_type": "code",
   "execution_count": 11,
   "id": "e31a0353",
   "metadata": {},
   "outputs": [
    {
     "data": {
      "text/plain": [
       "31"
      ]
     },
     "execution_count": 11,
     "metadata": {},
     "output_type": "execute_result"
    }
   ],
   "source": [
    "users_go.duplicated().sum()"
   ]
  },
  {
   "cell_type": "code",
   "execution_count": 12,
   "id": "e08e4780",
   "metadata": {},
   "outputs": [
    {
     "name": "stdout",
     "output_type": "stream",
     "text": [
      "дубликаты после удаления: 0\n"
     ]
    }
   ],
   "source": [
    "users_go = users_go.drop_duplicates().reset_index(drop = True)\n",
    "print('дубликаты после удаления:', users_go.duplicated().sum())"
   ]
  },
  {
   "cell_type": "code",
   "execution_count": 13,
   "id": "e7649452",
   "metadata": {},
   "outputs": [
    {
     "data": {
      "text/plain": [
       "0"
      ]
     },
     "execution_count": 13,
     "metadata": {},
     "output_type": "execute_result"
    }
   ],
   "source": [
    "riders_go.duplicated().sum()"
   ]
  },
  {
   "cell_type": "code",
   "execution_count": 14,
   "id": "e17d944a",
   "metadata": {},
   "outputs": [
    {
     "data": {
      "text/plain": [
       "0"
      ]
     },
     "execution_count": 14,
     "metadata": {},
     "output_type": "execute_result"
    }
   ],
   "source": [
    "subscriptions_go.duplicated().sum()"
   ]
  },
  {
   "cell_type": "markdown",
   "id": "024f4755",
   "metadata": {},
   "source": [
    "2.2 Let's look at the number of gaps in the tables"
   ]
  },
  {
   "cell_type": "code",
   "execution_count": 15,
   "id": "48e38d9d",
   "metadata": {},
   "outputs": [
    {
     "data": {
      "text/plain": [
       "user_id              0\n",
       "name                 0\n",
       "age                  0\n",
       "city                 0\n",
       "subscription_type    0\n",
       "dtype: int64"
      ]
     },
     "execution_count": 15,
     "metadata": {},
     "output_type": "execute_result"
    }
   ],
   "source": [
    "users_go.isna().sum()"
   ]
  },
  {
   "cell_type": "code",
   "execution_count": 16,
   "id": "3c7d6628",
   "metadata": {},
   "outputs": [
    {
     "data": {
      "text/plain": [
       "user_id     0\n",
       "distance    0\n",
       "duration    0\n",
       "date        0\n",
       "dtype: int64"
      ]
     },
     "execution_count": 16,
     "metadata": {},
     "output_type": "execute_result"
    }
   ],
   "source": [
    "riders_go.isna().sum()"
   ]
  },
  {
   "cell_type": "code",
   "execution_count": 17,
   "id": "624fc72a",
   "metadata": {},
   "outputs": [
    {
     "data": {
      "text/plain": [
       "subscription_type    0\n",
       "minute_price         0\n",
       "start_ride_price     0\n",
       "subscription_fee     0\n",
       "dtype: int64"
      ]
     },
     "execution_count": 17,
     "metadata": {},
     "output_type": "execute_result"
    }
   ],
   "source": [
    "subscriptions_go.isna().sum()"
   ]
  },
  {
   "cell_type": "markdown",
   "id": "1981a2bf",
   "metadata": {},
   "source": [
    "2.3 Let's look at the columns and change the data type where possible  \n",
    "2.3.1 Let's convert the date column in the **riders_go** table to the date type."
   ]
  },
  {
   "cell_type": "code",
   "execution_count": 18,
   "id": "9d8c1fb6",
   "metadata": {},
   "outputs": [],
   "source": [
    "riders_go['date'] = pd.to_datetime(riders_go['date'], format = '%Y-%m-%d')"
   ]
  },
  {
   "cell_type": "code",
   "execution_count": 19,
   "id": "76fc8805",
   "metadata": {},
   "outputs": [
    {
     "data": {
      "text/plain": [
       "0   2021-01-01\n",
       "1   2021-01-18\n",
       "2   2021-04-20\n",
       "3   2021-08-11\n",
       "4   2021-08-28\n",
       "5   2021-10-09\n",
       "6   2021-10-19\n",
       "7   2021-11-06\n",
       "8   2021-11-14\n",
       "9   2021-11-22\n",
       "Name: date, dtype: datetime64[ns]"
      ]
     },
     "execution_count": 19,
     "metadata": {},
     "output_type": "execute_result"
    }
   ],
   "source": [
    "riders_go['date'].head(10)"
   ]
  },
  {
   "cell_type": "markdown",
   "id": "8b345bb9",
   "metadata": {},
   "source": [
    "2.3.2 Add the month number"
   ]
  },
  {
   "cell_type": "code",
   "execution_count": 20,
   "id": "d9c4e1bf",
   "metadata": {},
   "outputs": [
    {
     "data": {
      "text/plain": [
       "array([2021])"
      ]
     },
     "execution_count": 20,
     "metadata": {},
     "output_type": "execute_result"
    }
   ],
   "source": [
    "riders_go['date'].dt.year.unique()"
   ]
  },
  {
   "cell_type": "code",
   "execution_count": 21,
   "id": "4057abcf",
   "metadata": {},
   "outputs": [],
   "source": [
    "riders_go['month'] = riders_go['date'].dt.month"
   ]
  },
  {
   "cell_type": "code",
   "execution_count": 22,
   "id": "46cefdb7",
   "metadata": {},
   "outputs": [
    {
     "data": {
      "text/plain": [
       "0     1\n",
       "1     1\n",
       "2     4\n",
       "3     8\n",
       "4     8\n",
       "5    10\n",
       "6    10\n",
       "7    11\n",
       "8    11\n",
       "9    11\n",
       "Name: month, dtype: int64"
      ]
     },
     "execution_count": 22,
     "metadata": {},
     "output_type": "execute_result"
    }
   ],
   "source": [
    "riders_go['month'].head(10)"
   ]
  },
  {
   "cell_type": "markdown",
   "id": "ccb69933",
   "metadata": {},
   "source": [
    "**Conclusions for Chapter 2**\n",
    "\n",
    "There are no missing data in the tables.\n",
    "\n",
    "There are duplicates among users, duplicate rows have been deleted.\n",
    "\n",
    "Added a month column with the month number."
   ]
  },
  {
   "cell_type": "markdown",
   "id": "cf1c66db",
   "metadata": {},
   "source": [
    "#### Chapter 3. Exploratory Data Analysis"
   ]
  },
  {
   "cell_type": "markdown",
   "id": "f0d3d2e0",
   "metadata": {},
   "source": [
    "Let's build histograms of significant data"
   ]
  },
  {
   "cell_type": "markdown",
   "id": "b071ef44",
   "metadata": {},
   "source": [
    "3.1 Distribution of user age"
   ]
  },
  {
   "cell_type": "code",
   "execution_count": 23,
   "id": "c765c939",
   "metadata": {
    "scrolled": true
   },
   "outputs": [
    {
     "data": {
      "image/png": "[encoded data removed]",
      "text/plain": [
       "<Figure size 432x288 with 1 Axes>"
      ]
     },
     "metadata": {
      "needs_background": "light"
     },
     "output_type": "display_data"
    }
   ],
   "source": [
    "plt.hist(users_go['age'], bins=50)\n",
    "plt.axvspan(23, 27, color='red', alpha=0.5)\n",
    "plt.title('Распределение возраста пользователей')\n",
    "plt.xlabel('Возраст (лет)')\n",
    "plt.ylabel('Количество')\n",
    "plt.grid(True)\n",
    "plt.show()"
   ]
  },
  {
   "cell_type": "code",
   "execution_count": 24,
   "id": "84b286f0",
   "metadata": {},
   "outputs": [
    {
     "name": "stdout",
     "output_type": "stream",
     "text": [
      "Среднее значение возраста пользователей 24.9\n"
     ]
    },
    {
     "data": {
      "text/plain": [
       "count    1534.000000\n",
       "mean       24.903520\n",
       "std         4.572367\n",
       "min        12.000000\n",
       "25%        22.000000\n",
       "50%        25.000000\n",
       "75%        28.000000\n",
       "max        43.000000\n",
       "Name: age, dtype: float64"
      ]
     },
     "execution_count": 24,
     "metadata": {},
     "output_type": "execute_result"
    }
   ],
   "source": [
    "print('Среднее значение возраста пользователей', users_go['age'].mean().round(1))\n",
    "users_go['age'].describe()"
   ]
  },
  {
   "cell_type": "markdown",
   "id": "3d130b73",
   "metadata": {},
   "source": [
    "- The most frequent clients are people aged 19 to 33\n",
    "- The average age of users is 25"
   ]
  },
  {
   "cell_type": "markdown",
   "id": "6689657b",
   "metadata": {},
   "source": [
    "3.2 Frequency of occurrence of cities"
   ]
  },
  {
   "cell_type": "code",
   "execution_count": 25,
   "id": "c38b89ca",
   "metadata": {},
   "outputs": [
    {
     "data": {
      "image/png": "[encoded data removed]",
      "text/plain": [
       "<Figure size 720x360 with 1 Axes>"
      ]
     },
     "metadata": {
      "needs_background": "light"
     },
     "output_type": "display_data"
    }
   ],
   "source": [
    "(\n",
    "    users_go.pivot_table(index='city', values='user_id', aggfunc='count').sort_values(by='user_id', ascending=True)\n",
    "    .plot(kind='barh', grid=True, figsize=(10, 5))\n",
    ")\n",
    "plt.title('Количество пользователей по городам')\n",
    "plt.ylabel('Города')\n",
    "plt.xlabel('Количество пользователей')\n",
    "\n",
    "plt.show()"
   ]
  },
  {
   "cell_type": "code",
   "execution_count": 26,
   "id": "5a7c9f66",
   "metadata": {},
   "outputs": [
    {
     "name": "stdout",
     "output_type": "stream",
     "text": [
      "Количество пользователей по городам \n"
     ]
    },
    {
     "data": {
      "text/html": [
       "<div>\n",
       "<style scoped>\n",
       "    .dataframe tbody tr th:only-of-type {\n",
       "        vertical-align: middle;\n",
       "    }\n",
       "\n",
       "    .dataframe tbody tr th {\n",
       "        vertical-align: top;\n",
       "    }\n",
       "\n",
       "    .dataframe thead th {\n",
       "        text-align: right;\n",
       "    }\n",
       "</style>\n",
       "<table border=\"1\" class=\"dataframe\">\n",
       "  <thead>\n",
       "    <tr style=\"text-align: right;\">\n",
       "      <th></th>\n",
       "      <th>user_id</th>\n",
       "    </tr>\n",
       "    <tr>\n",
       "      <th>city</th>\n",
       "      <th></th>\n",
       "    </tr>\n",
       "  </thead>\n",
       "  <tbody>\n",
       "    <tr>\n",
       "      <th>Пятигорск</th>\n",
       "      <td>219</td>\n",
       "    </tr>\n",
       "    <tr>\n",
       "      <th>Екатеринбург</th>\n",
       "      <td>204</td>\n",
       "    </tr>\n",
       "    <tr>\n",
       "      <th>Ростов-на-Дону</th>\n",
       "      <td>198</td>\n",
       "    </tr>\n",
       "    <tr>\n",
       "      <th>Краснодар</th>\n",
       "      <td>193</td>\n",
       "    </tr>\n",
       "    <tr>\n",
       "      <th>Сочи</th>\n",
       "      <td>189</td>\n",
       "    </tr>\n",
       "    <tr>\n",
       "      <th>Омск</th>\n",
       "      <td>183</td>\n",
       "    </tr>\n",
       "    <tr>\n",
       "      <th>Тюмень</th>\n",
       "      <td>180</td>\n",
       "    </tr>\n",
       "    <tr>\n",
       "      <th>Москва</th>\n",
       "      <td>168</td>\n",
       "    </tr>\n",
       "  </tbody>\n",
       "</table>\n",
       "</div>"
      ],
      "text/plain": [
       "                user_id\n",
       "city                   \n",
       "Пятигорск           219\n",
       "Екатеринбург        204\n",
       "Ростов-на-Дону      198\n",
       "Краснодар           193\n",
       "Сочи                189\n",
       "Омск                183\n",
       "Тюмень              180\n",
       "Москва              168"
      ]
     },
     "execution_count": 26,
     "metadata": {},
     "output_type": "execute_result"
    }
   ],
   "source": [
    "print('Количество пользователей по городам ') \n",
    "users_go.pivot_table(index='city', values='user_id', aggfunc='count').sort_values(by='user_id', ascending=False)"
   ]
  },
  {
   "cell_type": "markdown",
   "id": "240e9ecd",
   "metadata": {},
   "source": [
    "3.3 Distribution of trip lengths"
   ]
  },
  {
   "cell_type": "code",
   "execution_count": 27,
   "id": "ef42fc49",
   "metadata": {},
   "outputs": [
    {
     "data": {
      "image/png": "[encoded data removed]",
      "text/plain": [
       "<Figure size 432x288 with 1 Axes>"
      ]
     },
     "metadata": {
      "needs_background": "light"
     },
     "output_type": "display_data"
    }
   ],
   "source": [
    "plt.hist(riders_go['distance'], bins=100)\n",
    "plt.axvspan(3000, 3200, color='red', alpha=0.5)\n",
    "plt.title('Распределение протяженности поездок')\n",
    "plt.xlabel('Расстояние (метров)')\n",
    "plt.ylabel('Количество')\n",
    "plt.grid(True) \n",
    "plt.show()"
   ]
  },
  {
   "cell_type": "code",
   "execution_count": 28,
   "id": "fcf06f6b",
   "metadata": {},
   "outputs": [
    {
     "name": "stdout",
     "output_type": "stream",
     "text": [
      "Среднее расстояние (метры) 3070.7\n"
     ]
    },
    {
     "data": {
      "text/plain": [
       "count    18068.000000\n",
       "mean      3070.659976\n",
       "std       1116.831209\n",
       "min          0.855683\n",
       "25%       2543.226360\n",
       "50%       3133.609994\n",
       "75%       3776.222735\n",
       "max       7211.007745\n",
       "Name: distance, dtype: float64"
      ]
     },
     "execution_count": 28,
     "metadata": {},
     "output_type": "execute_result"
    }
   ],
   "source": [
    "print('Среднее расстояние (метры)', riders_go['distance'].mean().round(1))\n",
    "riders_go['distance'].describe()"
   ]
  },
  {
   "cell_type": "markdown",
   "id": "6d1bd956",
   "metadata": {},
   "source": [
    "The resulting graph shows two peaks:\n",
    "\n",
    "up to 1 km. Probably, the scooter was rented to get to some nearby object, or the scooter was discharged/got into a zone where the scooter's movement is blocked.\n",
    "\n",
    "The most common trips were 2-5 km long.\n",
    "\n",
    "The average trip length is 3 km."
   ]
  },
  {
   "cell_type": "markdown",
   "id": "1dee3a79",
   "metadata": {},
   "source": [
    "3.4 Duration of trips"
   ]
  },
  {
   "cell_type": "code",
   "execution_count": 29,
   "id": "a326aeb2",
   "metadata": {},
   "outputs": [
    {
     "data": {
      "image/png": "[encoded data removed]",
      "text/plain": [
       "<Figure size 432x288 with 1 Axes>"
      ]
     },
     "metadata": {
      "needs_background": "light"
     },
     "output_type": "display_data"
    }
   ],
   "source": [
    "plt.hist(riders_go['duration'], bins=100)\n",
    "plt.title('Распределение длительности поездок')\n",
    "plt.axvspan(17, 19, color='red', alpha=0.5)\n",
    "plt.xlabel('Продолжительность (минут)')\n",
    "plt.ylabel('Количество')\n",
    "plt.grid(True)\n",
    "plt.show()"
   ]
  },
  {
   "cell_type": "code",
   "execution_count": 30,
   "id": "487d4356",
   "metadata": {},
   "outputs": [
    {
     "name": "stdout",
     "output_type": "stream",
     "text": [
      "Средняя продолжительность (минуты) 17.8\n"
     ]
    },
    {
     "data": {
      "text/plain": [
       "count    18068.000000\n",
       "mean        17.805011\n",
       "std          6.091051\n",
       "min          0.500000\n",
       "25%         13.597563\n",
       "50%         17.678395\n",
       "75%         21.724800\n",
       "max         40.823963\n",
       "Name: duration, dtype: float64"
      ]
     },
     "execution_count": 30,
     "metadata": {},
     "output_type": "execute_result"
    }
   ],
   "source": [
    "print('Средняя продолжительность (минуты)', riders_go['duration'].mean().round(1))\n",
    "riders_go['duration'].describe()"
   ]
  },
  {
   "cell_type": "markdown",
   "id": "22f6e058",
   "metadata": {},
   "source": [
    "The trip duration graph, like the length graph, shows a peak with small values. It can be explained by the same reasons.\n",
    "\n",
    "The trip generally lasts 8-28 minutes.\n",
    "The average trip duration is 18 minutes."
   ]
  },
  {
   "cell_type": "markdown",
   "id": "80ecff1e",
   "metadata": {},
   "source": [
    "3.5 Ratio of subscribed and unsubscribed users"
   ]
  },
  {
   "cell_type": "code",
   "execution_count": 31,
   "id": "cee98f02",
   "metadata": {},
   "outputs": [
    {
     "name": "stdout",
     "output_type": "stream",
     "text": [
      "Число пользователей без подписки: 835\n",
      "Число пользователей с подпиской: 699\n"
     ]
    },
    {
     "data": {
      "image/png": "[encoded data removed]",
      "text/plain": [
       "<Figure size 432x288 with 1 Axes>"
      ]
     },
     "metadata": {},
     "output_type": "display_data"
    }
   ],
   "source": [
    "#Посмотрим соотношение пользователей с подпиской (ultra) и без (free)\n",
    "\n",
    "ultra_count = (users_go['subscription_type'] == 'ultra').sum()\n",
    "free_count = (users_go['subscription_type'] == 'free').sum()\n",
    "print('Число пользователей без подписки:', free_count)\n",
    "print('Число пользователей с подпиской:', ultra_count)\n",
    "\n",
    "vals = [835, 699]\n",
    "labels = [\"free\", \"ultra\"]\n",
    "plt.pie(vals, labels=labels, autopct='%1.1f%%')\n",
    "plt.title(\"Соотношение пользователей с подпиской и без\")\n",
    "plt.show()"
   ]
  },
  {
   "cell_type": "markdown",
   "id": "5f9b56f8",
   "metadata": {},
   "source": [
    "**Conclusions:**\n",
    "\n",
    "- The main users are people from 19 to 33 years old\n",
    "\n",
    "- The distribution of users by cities is +- the same:\n",
    "\n",
    "- The top 3 cities by the number of users: Pyatigorsk, Yekaterinburg, Rostov-on-Don.\n",
    "- The smallest number of users is in Moscow.\n",
    "- Users with a free tariff predominate (54%)\n",
    "- Length of trips:\n",
    "\n",
    "up to 1 km. They probably rented a scooter to get to some nearby object, or the scooter ran out of battery/got into an area where the scooter's movement is blocked.\n",
    "\n",
    "The most common trips were 2-5 km long."
   ]
  },
  {
   "cell_type": "markdown",
   "id": "1b5d7903",
   "metadata": {},
   "source": [
    "#### Chapter 4. Combining Data"
   ]
  },
  {
   "cell_type": "markdown",
   "id": "05cbf17f",
   "metadata": {},
   "source": [
    "4.1 Let's combine all three tables into one"
   ]
  },
  {
   "cell_type": "code",
   "execution_count": 32,
   "id": "d16ecf89",
   "metadata": {},
   "outputs": [
    {
     "data": {
      "text/html": [
       "<div>\n",
       "<style scoped>\n",
       "    .dataframe tbody tr th:only-of-type {\n",
       "        vertical-align: middle;\n",
       "    }\n",
       "\n",
       "    .dataframe tbody tr th {\n",
       "        vertical-align: top;\n",
       "    }\n",
       "\n",
       "    .dataframe thead th {\n",
       "        text-align: right;\n",
       "    }\n",
       "</style>\n",
       "<table border=\"1\" class=\"dataframe\">\n",
       "  <thead>\n",
       "    <tr style=\"text-align: right;\">\n",
       "      <th></th>\n",
       "      <th>user_id</th>\n",
       "      <th>name</th>\n",
       "      <th>age</th>\n",
       "      <th>city</th>\n",
       "      <th>subscription_type</th>\n",
       "      <th>distance</th>\n",
       "      <th>duration</th>\n",
       "      <th>date</th>\n",
       "      <th>month</th>\n",
       "      <th>minute_price</th>\n",
       "      <th>start_ride_price</th>\n",
       "      <th>subscription_fee</th>\n",
       "    </tr>\n",
       "  </thead>\n",
       "  <tbody>\n",
       "    <tr>\n",
       "      <th>0</th>\n",
       "      <td>1</td>\n",
       "      <td>Кира</td>\n",
       "      <td>22</td>\n",
       "      <td>Тюмень</td>\n",
       "      <td>ultra</td>\n",
       "      <td>4409.919140</td>\n",
       "      <td>26.0</td>\n",
       "      <td>2021-01-01</td>\n",
       "      <td>1</td>\n",
       "      <td>6</td>\n",
       "      <td>0</td>\n",
       "      <td>199</td>\n",
       "    </tr>\n",
       "    <tr>\n",
       "      <th>1</th>\n",
       "      <td>1</td>\n",
       "      <td>Кира</td>\n",
       "      <td>22</td>\n",
       "      <td>Тюмень</td>\n",
       "      <td>ultra</td>\n",
       "      <td>2617.592153</td>\n",
       "      <td>16.0</td>\n",
       "      <td>2021-01-18</td>\n",
       "      <td>1</td>\n",
       "      <td>6</td>\n",
       "      <td>0</td>\n",
       "      <td>199</td>\n",
       "    </tr>\n",
       "    <tr>\n",
       "      <th>2</th>\n",
       "      <td>1</td>\n",
       "      <td>Кира</td>\n",
       "      <td>22</td>\n",
       "      <td>Тюмень</td>\n",
       "      <td>ultra</td>\n",
       "      <td>754.159807</td>\n",
       "      <td>7.0</td>\n",
       "      <td>2021-04-20</td>\n",
       "      <td>4</td>\n",
       "      <td>6</td>\n",
       "      <td>0</td>\n",
       "      <td>199</td>\n",
       "    </tr>\n",
       "    <tr>\n",
       "      <th>3</th>\n",
       "      <td>1</td>\n",
       "      <td>Кира</td>\n",
       "      <td>22</td>\n",
       "      <td>Тюмень</td>\n",
       "      <td>ultra</td>\n",
       "      <td>2694.783254</td>\n",
       "      <td>19.0</td>\n",
       "      <td>2021-08-11</td>\n",
       "      <td>8</td>\n",
       "      <td>6</td>\n",
       "      <td>0</td>\n",
       "      <td>199</td>\n",
       "    </tr>\n",
       "    <tr>\n",
       "      <th>4</th>\n",
       "      <td>1</td>\n",
       "      <td>Кира</td>\n",
       "      <td>22</td>\n",
       "      <td>Тюмень</td>\n",
       "      <td>ultra</td>\n",
       "      <td>4028.687306</td>\n",
       "      <td>27.0</td>\n",
       "      <td>2021-08-28</td>\n",
       "      <td>8</td>\n",
       "      <td>6</td>\n",
       "      <td>0</td>\n",
       "      <td>199</td>\n",
       "    </tr>\n",
       "    <tr>\n",
       "      <th>...</th>\n",
       "      <td>...</td>\n",
       "      <td>...</td>\n",
       "      <td>...</td>\n",
       "      <td>...</td>\n",
       "      <td>...</td>\n",
       "      <td>...</td>\n",
       "      <td>...</td>\n",
       "      <td>...</td>\n",
       "      <td>...</td>\n",
       "      <td>...</td>\n",
       "      <td>...</td>\n",
       "      <td>...</td>\n",
       "    </tr>\n",
       "    <tr>\n",
       "      <th>18063</th>\n",
       "      <td>1534</td>\n",
       "      <td>Альберт</td>\n",
       "      <td>25</td>\n",
       "      <td>Краснодар</td>\n",
       "      <td>free</td>\n",
       "      <td>3781.098080</td>\n",
       "      <td>20.0</td>\n",
       "      <td>2021-11-04</td>\n",
       "      <td>11</td>\n",
       "      <td>8</td>\n",
       "      <td>50</td>\n",
       "      <td>0</td>\n",
       "    </tr>\n",
       "    <tr>\n",
       "      <th>18064</th>\n",
       "      <td>1534</td>\n",
       "      <td>Альберт</td>\n",
       "      <td>25</td>\n",
       "      <td>Краснодар</td>\n",
       "      <td>free</td>\n",
       "      <td>2840.423057</td>\n",
       "      <td>22.0</td>\n",
       "      <td>2021-11-16</td>\n",
       "      <td>11</td>\n",
       "      <td>8</td>\n",
       "      <td>50</td>\n",
       "      <td>0</td>\n",
       "    </tr>\n",
       "    <tr>\n",
       "      <th>18065</th>\n",
       "      <td>1534</td>\n",
       "      <td>Альберт</td>\n",
       "      <td>25</td>\n",
       "      <td>Краснодар</td>\n",
       "      <td>free</td>\n",
       "      <td>3826.185507</td>\n",
       "      <td>19.0</td>\n",
       "      <td>2021-11-18</td>\n",
       "      <td>11</td>\n",
       "      <td>8</td>\n",
       "      <td>50</td>\n",
       "      <td>0</td>\n",
       "    </tr>\n",
       "    <tr>\n",
       "      <th>18066</th>\n",
       "      <td>1534</td>\n",
       "      <td>Альберт</td>\n",
       "      <td>25</td>\n",
       "      <td>Краснодар</td>\n",
       "      <td>free</td>\n",
       "      <td>2902.308661</td>\n",
       "      <td>17.0</td>\n",
       "      <td>2021-11-27</td>\n",
       "      <td>11</td>\n",
       "      <td>8</td>\n",
       "      <td>50</td>\n",
       "      <td>0</td>\n",
       "    </tr>\n",
       "    <tr>\n",
       "      <th>18067</th>\n",
       "      <td>1534</td>\n",
       "      <td>Альберт</td>\n",
       "      <td>25</td>\n",
       "      <td>Краснодар</td>\n",
       "      <td>free</td>\n",
       "      <td>2371.711192</td>\n",
       "      <td>16.0</td>\n",
       "      <td>2021-12-29</td>\n",
       "      <td>12</td>\n",
       "      <td>8</td>\n",
       "      <td>50</td>\n",
       "      <td>0</td>\n",
       "    </tr>\n",
       "  </tbody>\n",
       "</table>\n",
       "<p>18068 rows × 12 columns</p>\n",
       "</div>"
      ],
      "text/plain": [
       "       user_id     name  age       city subscription_type     distance  \\\n",
       "0            1     Кира   22     Тюмень             ultra  4409.919140   \n",
       "1            1     Кира   22     Тюмень             ultra  2617.592153   \n",
       "2            1     Кира   22     Тюмень             ultra   754.159807   \n",
       "3            1     Кира   22     Тюмень             ultra  2694.783254   \n",
       "4            1     Кира   22     Тюмень             ultra  4028.687306   \n",
       "...        ...      ...  ...        ...               ...          ...   \n",
       "18063     1534  Альберт   25  Краснодар              free  3781.098080   \n",
       "18064     1534  Альберт   25  Краснодар              free  2840.423057   \n",
       "18065     1534  Альберт   25  Краснодар              free  3826.185507   \n",
       "18066     1534  Альберт   25  Краснодар              free  2902.308661   \n",
       "18067     1534  Альберт   25  Краснодар              free  2371.711192   \n",
       "\n",
       "       duration       date  month  minute_price  start_ride_price  \\\n",
       "0          26.0 2021-01-01      1             6                 0   \n",
       "1          16.0 2021-01-18      1             6                 0   \n",
       "2           7.0 2021-04-20      4             6                 0   \n",
       "3          19.0 2021-08-11      8             6                 0   \n",
       "4          27.0 2021-08-28      8             6                 0   \n",
       "...         ...        ...    ...           ...               ...   \n",
       "18063      20.0 2021-11-04     11             8                50   \n",
       "18064      22.0 2021-11-16     11             8                50   \n",
       "18065      19.0 2021-11-18     11             8                50   \n",
       "18066      17.0 2021-11-27     11             8                50   \n",
       "18067      16.0 2021-12-29     12             8                50   \n",
       "\n",
       "       subscription_fee  \n",
       "0                   199  \n",
       "1                   199  \n",
       "2                   199  \n",
       "3                   199  \n",
       "4                   199  \n",
       "...                 ...  \n",
       "18063                 0  \n",
       "18064                 0  \n",
       "18065                 0  \n",
       "18066                 0  \n",
       "18067                 0  \n",
       "\n",
       "[18068 rows x 12 columns]"
      ]
     },
     "metadata": {},
     "output_type": "display_data"
    },
    {
     "name": "stdout",
     "output_type": "stream",
     "text": [
      "user_id     18068\n",
      "distance    18068\n",
      "duration    18068\n",
      "date        18068\n",
      "month       18068\n",
      "dtype: int64\n"
     ]
    }
   ],
   "source": [
    "data1 = users_go.merge(riders_go)\n",
    "data = data1.merge(subscriptions_go)\n",
    "\n",
    "# применяет функцию np.ceil() к столбцу duration таблицы data, \n",
    "# округляя все значения до ближайшего большего целого числа.\n",
    "\n",
    "data['duration'] = np.ceil(data['duration']) \n",
    "\n",
    "# display(data) выводит таблицу data в удобочитаемом формате\n",
    "display(data)\n",
    "\n",
    "# выводит количество непустых значений в каждом столбце таблицы riders_go\n",
    "print(riders_go.count())"
   ]
  },
  {
   "cell_type": "code",
   "execution_count": 33,
   "id": "1a0ac167",
   "metadata": {},
   "outputs": [
    {
     "data": {
      "text/plain": [
       "user_id              0\n",
       "name                 0\n",
       "age                  0\n",
       "city                 0\n",
       "subscription_type    0\n",
       "distance             0\n",
       "duration             0\n",
       "date                 0\n",
       "month                0\n",
       "minute_price         0\n",
       "start_ride_price     0\n",
       "subscription_fee     0\n",
       "dtype: int64"
      ]
     },
     "execution_count": 33,
     "metadata": {},
     "output_type": "execute_result"
    }
   ],
   "source": [
    "data.isna().sum()"
   ]
  },
  {
   "cell_type": "markdown",
   "id": "8f3f3884",
   "metadata": {},
   "source": [
    "4.2 Let's create two more dataframes from the dataframe created in step 4.1  \n",
    "4.2.1 with data about users without a subscription"
   ]
  },
  {
   "cell_type": "code",
   "execution_count": 34,
   "id": "6eab17a5",
   "metadata": {},
   "outputs": [
    {
     "data": {
      "text/html": [
       "<div>\n",
       "<style scoped>\n",
       "    .dataframe tbody tr th:only-of-type {\n",
       "        vertical-align: middle;\n",
       "    }\n",
       "\n",
       "    .dataframe tbody tr th {\n",
       "        vertical-align: top;\n",
       "    }\n",
       "\n",
       "    .dataframe thead th {\n",
       "        text-align: right;\n",
       "    }\n",
       "</style>\n",
       "<table border=\"1\" class=\"dataframe\">\n",
       "  <thead>\n",
       "    <tr style=\"text-align: right;\">\n",
       "      <th></th>\n",
       "      <th>user_id</th>\n",
       "      <th>name</th>\n",
       "      <th>age</th>\n",
       "      <th>city</th>\n",
       "      <th>subscription_type</th>\n",
       "      <th>distance</th>\n",
       "      <th>duration</th>\n",
       "      <th>date</th>\n",
       "      <th>month</th>\n",
       "      <th>minute_price</th>\n",
       "      <th>start_ride_price</th>\n",
       "      <th>subscription_fee</th>\n",
       "    </tr>\n",
       "  </thead>\n",
       "  <tbody>\n",
       "    <tr>\n",
       "      <th>6500</th>\n",
       "      <td>700</td>\n",
       "      <td>Айдар</td>\n",
       "      <td>22</td>\n",
       "      <td>Омск</td>\n",
       "      <td>free</td>\n",
       "      <td>2515.690719</td>\n",
       "      <td>15.0</td>\n",
       "      <td>2021-01-02</td>\n",
       "      <td>1</td>\n",
       "      <td>8</td>\n",
       "      <td>50</td>\n",
       "      <td>0</td>\n",
       "    </tr>\n",
       "    <tr>\n",
       "      <th>6501</th>\n",
       "      <td>700</td>\n",
       "      <td>Айдар</td>\n",
       "      <td>22</td>\n",
       "      <td>Омск</td>\n",
       "      <td>free</td>\n",
       "      <td>846.932642</td>\n",
       "      <td>17.0</td>\n",
       "      <td>2021-02-01</td>\n",
       "      <td>2</td>\n",
       "      <td>8</td>\n",
       "      <td>50</td>\n",
       "      <td>0</td>\n",
       "    </tr>\n",
       "    <tr>\n",
       "      <th>6502</th>\n",
       "      <td>700</td>\n",
       "      <td>Айдар</td>\n",
       "      <td>22</td>\n",
       "      <td>Омск</td>\n",
       "      <td>free</td>\n",
       "      <td>4004.434142</td>\n",
       "      <td>21.0</td>\n",
       "      <td>2021-02-04</td>\n",
       "      <td>2</td>\n",
       "      <td>8</td>\n",
       "      <td>50</td>\n",
       "      <td>0</td>\n",
       "    </tr>\n",
       "    <tr>\n",
       "      <th>6503</th>\n",
       "      <td>700</td>\n",
       "      <td>Айдар</td>\n",
       "      <td>22</td>\n",
       "      <td>Омск</td>\n",
       "      <td>free</td>\n",
       "      <td>1205.911290</td>\n",
       "      <td>10.0</td>\n",
       "      <td>2021-02-10</td>\n",
       "      <td>2</td>\n",
       "      <td>8</td>\n",
       "      <td>50</td>\n",
       "      <td>0</td>\n",
       "    </tr>\n",
       "    <tr>\n",
       "      <th>6504</th>\n",
       "      <td>700</td>\n",
       "      <td>Айдар</td>\n",
       "      <td>22</td>\n",
       "      <td>Омск</td>\n",
       "      <td>free</td>\n",
       "      <td>3047.379435</td>\n",
       "      <td>18.0</td>\n",
       "      <td>2021-02-14</td>\n",
       "      <td>2</td>\n",
       "      <td>8</td>\n",
       "      <td>50</td>\n",
       "      <td>0</td>\n",
       "    </tr>\n",
       "  </tbody>\n",
       "</table>\n",
       "</div>"
      ],
      "text/plain": [
       "      user_id   name  age  city subscription_type     distance  duration  \\\n",
       "6500      700  Айдар   22  Омск              free  2515.690719      15.0   \n",
       "6501      700  Айдар   22  Омск              free   846.932642      17.0   \n",
       "6502      700  Айдар   22  Омск              free  4004.434142      21.0   \n",
       "6503      700  Айдар   22  Омск              free  1205.911290      10.0   \n",
       "6504      700  Айдар   22  Омск              free  3047.379435      18.0   \n",
       "\n",
       "           date  month  minute_price  start_ride_price  subscription_fee  \n",
       "6500 2021-01-02      1             8                50                 0  \n",
       "6501 2021-02-01      2             8                50                 0  \n",
       "6502 2021-02-04      2             8                50                 0  \n",
       "6503 2021-02-10      2             8                50                 0  \n",
       "6504 2021-02-14      2             8                50                 0  "
      ]
     },
     "execution_count": 34,
     "metadata": {},
     "output_type": "execute_result"
    }
   ],
   "source": [
    "data_free = data[data['subscription_type'] == 'free']\n",
    "data_free.head()"
   ]
  },
  {
   "cell_type": "markdown",
   "id": "551e1355",
   "metadata": {},
   "source": [
    "4.2.2 with data about users with a subscription"
   ]
  },
  {
   "cell_type": "code",
   "execution_count": 35,
   "id": "6d296021",
   "metadata": {},
   "outputs": [
    {
     "data": {
      "text/html": [
       "<div>\n",
       "<style scoped>\n",
       "    .dataframe tbody tr th:only-of-type {\n",
       "        vertical-align: middle;\n",
       "    }\n",
       "\n",
       "    .dataframe tbody tr th {\n",
       "        vertical-align: top;\n",
       "    }\n",
       "\n",
       "    .dataframe thead th {\n",
       "        text-align: right;\n",
       "    }\n",
       "</style>\n",
       "<table border=\"1\" class=\"dataframe\">\n",
       "  <thead>\n",
       "    <tr style=\"text-align: right;\">\n",
       "      <th></th>\n",
       "      <th>user_id</th>\n",
       "      <th>name</th>\n",
       "      <th>age</th>\n",
       "      <th>city</th>\n",
       "      <th>subscription_type</th>\n",
       "      <th>distance</th>\n",
       "      <th>duration</th>\n",
       "      <th>date</th>\n",
       "      <th>month</th>\n",
       "      <th>minute_price</th>\n",
       "      <th>start_ride_price</th>\n",
       "      <th>subscription_fee</th>\n",
       "    </tr>\n",
       "  </thead>\n",
       "  <tbody>\n",
       "    <tr>\n",
       "      <th>0</th>\n",
       "      <td>1</td>\n",
       "      <td>Кира</td>\n",
       "      <td>22</td>\n",
       "      <td>Тюмень</td>\n",
       "      <td>ultra</td>\n",
       "      <td>4409.919140</td>\n",
       "      <td>26.0</td>\n",
       "      <td>2021-01-01</td>\n",
       "      <td>1</td>\n",
       "      <td>6</td>\n",
       "      <td>0</td>\n",
       "      <td>199</td>\n",
       "    </tr>\n",
       "    <tr>\n",
       "      <th>1</th>\n",
       "      <td>1</td>\n",
       "      <td>Кира</td>\n",
       "      <td>22</td>\n",
       "      <td>Тюмень</td>\n",
       "      <td>ultra</td>\n",
       "      <td>2617.592153</td>\n",
       "      <td>16.0</td>\n",
       "      <td>2021-01-18</td>\n",
       "      <td>1</td>\n",
       "      <td>6</td>\n",
       "      <td>0</td>\n",
       "      <td>199</td>\n",
       "    </tr>\n",
       "    <tr>\n",
       "      <th>2</th>\n",
       "      <td>1</td>\n",
       "      <td>Кира</td>\n",
       "      <td>22</td>\n",
       "      <td>Тюмень</td>\n",
       "      <td>ultra</td>\n",
       "      <td>754.159807</td>\n",
       "      <td>7.0</td>\n",
       "      <td>2021-04-20</td>\n",
       "      <td>4</td>\n",
       "      <td>6</td>\n",
       "      <td>0</td>\n",
       "      <td>199</td>\n",
       "    </tr>\n",
       "    <tr>\n",
       "      <th>3</th>\n",
       "      <td>1</td>\n",
       "      <td>Кира</td>\n",
       "      <td>22</td>\n",
       "      <td>Тюмень</td>\n",
       "      <td>ultra</td>\n",
       "      <td>2694.783254</td>\n",
       "      <td>19.0</td>\n",
       "      <td>2021-08-11</td>\n",
       "      <td>8</td>\n",
       "      <td>6</td>\n",
       "      <td>0</td>\n",
       "      <td>199</td>\n",
       "    </tr>\n",
       "    <tr>\n",
       "      <th>4</th>\n",
       "      <td>1</td>\n",
       "      <td>Кира</td>\n",
       "      <td>22</td>\n",
       "      <td>Тюмень</td>\n",
       "      <td>ultra</td>\n",
       "      <td>4028.687306</td>\n",
       "      <td>27.0</td>\n",
       "      <td>2021-08-28</td>\n",
       "      <td>8</td>\n",
       "      <td>6</td>\n",
       "      <td>0</td>\n",
       "      <td>199</td>\n",
       "    </tr>\n",
       "  </tbody>\n",
       "</table>\n",
       "</div>"
      ],
      "text/plain": [
       "   user_id  name  age    city subscription_type     distance  duration  \\\n",
       "0        1  Кира   22  Тюмень             ultra  4409.919140      26.0   \n",
       "1        1  Кира   22  Тюмень             ultra  2617.592153      16.0   \n",
       "2        1  Кира   22  Тюмень             ultra   754.159807       7.0   \n",
       "3        1  Кира   22  Тюмень             ultra  2694.783254      19.0   \n",
       "4        1  Кира   22  Тюмень             ultra  4028.687306      27.0   \n",
       "\n",
       "        date  month  minute_price  start_ride_price  subscription_fee  \n",
       "0 2021-01-01      1             6                 0               199  \n",
       "1 2021-01-18      1             6                 0               199  \n",
       "2 2021-04-20      4             6                 0               199  \n",
       "3 2021-08-11      8             6                 0               199  \n",
       "4 2021-08-28      8             6                 0               199  "
      ]
     },
     "execution_count": 35,
     "metadata": {},
     "output_type": "execute_result"
    }
   ],
   "source": [
    "data_ultra = data[data['subscription_type'] == 'ultra']\n",
    "data_ultra.head()"
   ]
  },
  {
   "cell_type": "code",
   "execution_count": 36,
   "id": "9bae3339",
   "metadata": {},
   "outputs": [
    {
     "name": "stdout",
     "output_type": "stream",
     "text": [
      "Разделение успешно\n"
     ]
    }
   ],
   "source": [
    "if len(data) == (len(data_free) + len(data_ultra)):\n",
    "    print('Разделение успешно')\n",
    "else:\n",
    "    print('ВНИМАНИЕ проверь код')"
   ]
  },
  {
   "cell_type": "markdown",
   "id": "e4018139",
   "metadata": {},
   "source": [
    "4.3 Let's look at the distance and time of trips, as well as their age, for users of both categories."
   ]
  },
  {
   "cell_type": "code",
   "execution_count": 37,
   "id": "fb004725",
   "metadata": {
    "scrolled": true
   },
   "outputs": [
    {
     "data": {
      "image/png": "[encoded data removed]",
      "text/plain": [
       "<Figure size 432x288 with 1 Axes>"
      ]
     },
     "metadata": {
      "needs_background": "light"
     },
     "output_type": "display_data"
    }
   ],
   "source": [
    "plt.hist([data_free['distance'], data_ultra['distance']], bins=50, label=['free', 'ultra'])\n",
    "plt.legend(loc='upper right')\n",
    "plt.title('Количество поездок в зависимости расстояния поездки')\n",
    "plt.xlabel('Расстояние в метрах')\n",
    "plt.ylabel('Количество поездок')\n",
    "plt.show()"
   ]
  },
  {
   "cell_type": "code",
   "execution_count": 38,
   "id": "9c34c7fd",
   "metadata": {
    "scrolled": false
   },
   "outputs": [
    {
     "data": {
      "image/png": "[encoded data removed]",
      "text/plain": [
       "<Figure size 432x288 with 1 Axes>"
      ]
     },
     "metadata": {
      "needs_background": "light"
     },
     "output_type": "display_data"
    }
   ],
   "source": [
    "plt.hist([data_free['duration'], data_ultra['duration']], bins=30, label=['free', 'ultra'])\n",
    "plt.legend(loc='upper right')\n",
    "plt.title('Количество поездок в зависимости от продолжительности')\n",
    "plt.xlabel('продолжительность поездки')\n",
    "plt.ylabel('Количество поездок')\n",
    "plt.show()"
   ]
  },
  {
   "cell_type": "code",
   "execution_count": 39,
   "id": "9cc4459e",
   "metadata": {},
   "outputs": [
    {
     "data": {
      "text/plain": [
       "count    11568.000000\n",
       "mean      3045.495282\n",
       "std       1246.173806\n",
       "min          0.855683\n",
       "25%       2366.562689\n",
       "50%       3114.648465\n",
       "75%       3905.697894\n",
       "max       7211.007745\n",
       "Name: distance, dtype: float64"
      ]
     },
     "execution_count": 39,
     "metadata": {},
     "output_type": "execute_result"
    }
   ],
   "source": [
    "data_free['distance'].describe()"
   ]
  },
  {
   "cell_type": "code",
   "execution_count": 40,
   "id": "d7788c8b",
   "metadata": {},
   "outputs": [
    {
     "data": {
      "text/plain": [
       "count    6500.000000\n",
       "mean     3115.445388\n",
       "std       836.895330\n",
       "min       244.210438\n",
       "25%      2785.444017\n",
       "50%      3148.637229\n",
       "75%      3560.574425\n",
       "max      5699.769662\n",
       "Name: distance, dtype: float64"
      ]
     },
     "execution_count": 40,
     "metadata": {},
     "output_type": "execute_result"
    }
   ],
   "source": [
    "data_ultra['distance'].describe()"
   ]
  },
  {
   "cell_type": "code",
   "execution_count": 41,
   "id": "91bef4ff",
   "metadata": {},
   "outputs": [
    {
     "data": {
      "text/plain": [
       "count    11568.000000\n",
       "mean        17.890992\n",
       "std          6.330250\n",
       "min          1.000000\n",
       "25%         13.000000\n",
       "50%         18.000000\n",
       "75%         22.000000\n",
       "max         35.000000\n",
       "Name: duration, dtype: float64"
      ]
     },
     "execution_count": 41,
     "metadata": {},
     "output_type": "execute_result"
    }
   ],
   "source": [
    "data_free['duration'].describe()"
   ]
  },
  {
   "cell_type": "code",
   "execution_count": 42,
   "id": "6a9f4e6f",
   "metadata": {},
   "outputs": [
    {
     "data": {
      "text/plain": [
       "count    6500.000000\n",
       "mean       19.037692\n",
       "std         5.577439\n",
       "min         4.000000\n",
       "25%        15.000000\n",
       "50%        19.000000\n",
       "75%        22.000000\n",
       "max        41.000000\n",
       "Name: duration, dtype: float64"
      ]
     },
     "execution_count": 42,
     "metadata": {},
     "output_type": "execute_result"
    }
   ],
   "source": [
    "data_ultra['duration'].describe()"
   ]
  },
  {
   "cell_type": "code",
   "execution_count": 43,
   "id": "43cf6c0a",
   "metadata": {},
   "outputs": [
    {
     "data": {
      "text/plain": [
       "count    11568.000000\n",
       "mean        24.893326\n",
       "std          4.481100\n",
       "min         12.000000\n",
       "25%         22.000000\n",
       "50%         25.000000\n",
       "75%         28.000000\n",
       "max         43.000000\n",
       "Name: age, dtype: float64"
      ]
     },
     "execution_count": 43,
     "metadata": {},
     "output_type": "execute_result"
    }
   ],
   "source": [
    "data_free['age'].describe()"
   ]
  },
  {
   "cell_type": "code",
   "execution_count": 44,
   "id": "02e5922e",
   "metadata": {},
   "outputs": [
    {
     "data": {
      "text/plain": [
       "count    6500.000000\n",
       "mean       24.892615\n",
       "std         4.757208\n",
       "min        12.000000\n",
       "25%        22.000000\n",
       "50%        25.000000\n",
       "75%        28.000000\n",
       "max        38.000000\n",
       "Name: age, dtype: float64"
      ]
     },
     "execution_count": 44,
     "metadata": {},
     "output_type": "execute_result"
    }
   ],
   "source": [
    "data_ultra['age'].describe()"
   ]
  },
  {
   "cell_type": "markdown",
   "id": "7f7748de",
   "metadata": {},
   "source": [
    "**4.5 Conclusion on combining and visualizing data of users without a free subscription and with an ultra subscription**\n",
    "\n",
    "Visualization of the created datasets of the dependence of the number of trips over a certain distance and descriptive statistics for users without a \"free\" subscription and with an \"ultra\" subscription indicates that the subscription affects:\n",
    "- *average and median values* of trip distance:\n",
    "- median value:\n",
    "(without a subscription 3114 meters, with a subscription 3148 meters);\n",
    "- average value:\n",
    "(without a subscription 3045 meters, with a subscription 3115 meters).\n",
    "\n",
    "- *average and median values* of trip time:\n",
    "- median value:\n",
    "(without a subscription 18 min, with a subscription 19 min);\n",
    "- average value:\n",
    "(without a subscription 17 min, with a subscription 19 min).\n",
    "\n",
    "The subscription somewhat affects the distance of trips and the travel time."
   ]
  },
  {
   "cell_type": "markdown",
   "id": "e25bb425",
   "metadata": {},
   "source": [
    "#### Chapter 5. Revenue Calculation"
   ]
  },
  {
   "cell_type": "markdown",
   "id": "5f8e3d80",
   "metadata": {},
   "source": [
    "5.1 Let's create a dataframe with aggregated trip data based on the dataframe with merged data from step 4 and find:\n",
    "- total distance;\n",
    "- number of trips;\n",
    "- total time for each user for each month."
   ]
  },
  {
   "cell_type": "code",
   "execution_count": 45,
   "id": "f0a7d8ad",
   "metadata": {},
   "outputs": [],
   "source": [
    "# Создание сводной таблицы:\n",
    "# index=('user_id', 'month'): группировка по user_id и month.\n",
    "#values=...: перечислены столбцы, которые будут агрегированы.\n",
    "#aggfunc=...: определяет функции агрегации для каждого столбца:\n",
    "\n",
    "    #для distance: count и sum — подсчитывает количество поездок и суммирует расстояния.\n",
    "    #для duration: sum — суммирует продолжительность поездок.\n",
    "    #для minute_price, start_ride_price и subscription_fee: mean — вычисляет средние значения.\n",
    "    \n",
    "users_months_income = data.pivot_table(\n",
    "    index=('user_id', 'month'), \n",
    "    values=(\n",
    "        'distance', \n",
    "        'duration', \n",
    "        'minute_price', \n",
    "        'start_ride_price',\n",
    "        'subscription_fee',\n",
    "        'subscription_type'\n",
    "    ), \n",
    "    aggfunc=({\n",
    "        'distance': {'count', 'sum'}, \n",
    "        'duration': 'sum',\n",
    "        'minute_price': 'mean',\n",
    "        'start_ride_price': 'mean',\n",
    "        'subscription_fee': 'mean',\n",
    "        'subscription_type': 'first'\n",
    "    })\n",
    ")"
   ]
  },
  {
   "cell_type": "code",
   "execution_count": 46,
   "id": "fb07ef74",
   "metadata": {},
   "outputs": [],
   "source": [
    "#Переименование столбцов\n",
    "\n",
    "users_months_income.columns = [\n",
    "    'count', 'distance', \n",
    "    'duration', \n",
    "    'minute_price',\n",
    "    'start_ride_price', \n",
    "    'subscription_fee',\n",
    "    'subscription_type'\n",
    "]"
   ]
  },
  {
   "cell_type": "code",
   "execution_count": 47,
   "id": "eab1092d",
   "metadata": {},
   "outputs": [
    {
     "data": {
      "text/html": [
       "<div>\n",
       "<style scoped>\n",
       "    .dataframe tbody tr th:only-of-type {\n",
       "        vertical-align: middle;\n",
       "    }\n",
       "\n",
       "    .dataframe tbody tr th {\n",
       "        vertical-align: top;\n",
       "    }\n",
       "\n",
       "    .dataframe thead th {\n",
       "        text-align: right;\n",
       "    }\n",
       "</style>\n",
       "<table border=\"1\" class=\"dataframe\">\n",
       "  <thead>\n",
       "    <tr style=\"text-align: right;\">\n",
       "      <th></th>\n",
       "      <th></th>\n",
       "      <th>count</th>\n",
       "      <th>distance</th>\n",
       "      <th>duration</th>\n",
       "      <th>minute_price</th>\n",
       "      <th>start_ride_price</th>\n",
       "      <th>subscription_fee</th>\n",
       "      <th>subscription_type</th>\n",
       "    </tr>\n",
       "    <tr>\n",
       "      <th>user_id</th>\n",
       "      <th>month</th>\n",
       "      <th></th>\n",
       "      <th></th>\n",
       "      <th></th>\n",
       "      <th></th>\n",
       "      <th></th>\n",
       "      <th></th>\n",
       "      <th></th>\n",
       "    </tr>\n",
       "  </thead>\n",
       "  <tbody>\n",
       "    <tr>\n",
       "      <th rowspan=\"5\" valign=\"top\">1</th>\n",
       "      <th>1</th>\n",
       "      <td>2</td>\n",
       "      <td>7027.511294</td>\n",
       "      <td>42.0</td>\n",
       "      <td>6</td>\n",
       "      <td>0</td>\n",
       "      <td>199</td>\n",
       "      <td>ultra</td>\n",
       "    </tr>\n",
       "    <tr>\n",
       "      <th>4</th>\n",
       "      <td>1</td>\n",
       "      <td>754.159807</td>\n",
       "      <td>7.0</td>\n",
       "      <td>6</td>\n",
       "      <td>0</td>\n",
       "      <td>199</td>\n",
       "      <td>ultra</td>\n",
       "    </tr>\n",
       "    <tr>\n",
       "      <th>8</th>\n",
       "      <td>2</td>\n",
       "      <td>6723.470560</td>\n",
       "      <td>46.0</td>\n",
       "      <td>6</td>\n",
       "      <td>0</td>\n",
       "      <td>199</td>\n",
       "      <td>ultra</td>\n",
       "    </tr>\n",
       "    <tr>\n",
       "      <th>10</th>\n",
       "      <td>2</td>\n",
       "      <td>5809.911100</td>\n",
       "      <td>32.0</td>\n",
       "      <td>6</td>\n",
       "      <td>0</td>\n",
       "      <td>199</td>\n",
       "      <td>ultra</td>\n",
       "    </tr>\n",
       "    <tr>\n",
       "      <th>11</th>\n",
       "      <td>3</td>\n",
       "      <td>7003.499363</td>\n",
       "      <td>56.0</td>\n",
       "      <td>6</td>\n",
       "      <td>0</td>\n",
       "      <td>199</td>\n",
       "      <td>ultra</td>\n",
       "    </tr>\n",
       "  </tbody>\n",
       "</table>\n",
       "</div>"
      ],
      "text/plain": [
       "               count     distance  duration  minute_price  start_ride_price  \\\n",
       "user_id month                                                                 \n",
       "1       1          2  7027.511294      42.0             6                 0   \n",
       "        4          1   754.159807       7.0             6                 0   \n",
       "        8          2  6723.470560      46.0             6                 0   \n",
       "        10         2  5809.911100      32.0             6                 0   \n",
       "        11         3  7003.499363      56.0             6                 0   \n",
       "\n",
       "               subscription_fee subscription_type  \n",
       "user_id month                                      \n",
       "1       1                   199             ultra  \n",
       "        4                   199             ultra  \n",
       "        8                   199             ultra  \n",
       "        10                  199             ultra  \n",
       "        11                  199             ultra  "
      ]
     },
     "execution_count": 47,
     "metadata": {},
     "output_type": "execute_result"
    }
   ],
   "source": [
    "users_months_income.head()"
   ]
  },
  {
   "cell_type": "markdown",
   "id": "afc19434",
   "metadata": {},
   "source": [
    "5.2 Let's add a column to the dataframe with the monthly revenue generated by each user."
   ]
  },
  {
   "cell_type": "code",
   "execution_count": 48,
   "id": "08e7b6a1",
   "metadata": {},
   "outputs": [
    {
     "name": "stdout",
     "output_type": "stream",
     "text": [
      "Выручка за 2021 год составила : 3878641.0 руб.\n"
     ]
    }
   ],
   "source": [
    "users_months_income['revenue'] = (\n",
    "users_months_income['start_ride_price']*users_months_income['count']+\n",
    "users_months_income['minute_price']*users_months_income['duration']+\n",
    "users_months_income['subscription_fee'])\n",
    "\n",
    "print ('Выручка за 2021 год составила :',users_months_income['revenue'].sum(), 'руб.')"
   ]
  },
  {
   "cell_type": "markdown",
   "id": "59d3f451",
   "metadata": {},
   "source": [
    "The revenue of the scooter rental service \"GoFast\" for the year amounted to 3,878,641.0 rubles."
   ]
  },
  {
   "cell_type": "markdown",
   "id": "f11618bb",
   "metadata": {},
   "source": [
    "#### Chapter 6. Hypothesis Testing"
   ]
  },
  {
   "cell_type": "markdown",
   "id": "95e24d0e",
   "metadata": {},
   "source": [
    "6.1 Let's check whether users with a subscription spend more time on trips.\n",
    "If so, then users with a subscription may be \"more profitable\" for the company.\n",
    "\n",
    "- Null hypothesis (H0): The average duration of trips with an ultra subscription and without (free) is equal to\n",
    "- Alternative hypothesis (H1): The average duration of trips with an ultra subscription is longer than the duration of trips without subscriptions (free)."
   ]
  },
  {
   "cell_type": "code",
   "execution_count": 49,
   "id": "b8cfad02",
   "metadata": {},
   "outputs": [
    {
     "name": "stdout",
     "output_type": "stream",
     "text": [
      "2.4959453720736625e-34\n",
      "Отвергаем нулевую гипотезу\n"
     ]
    }
   ],
   "source": [
    "ultra = data_ultra['duration'] \n",
    "\n",
    "free = data_free['duration']\n",
    "\n",
    "results = st.ttest_ind(ultra, \n",
    "                       free,\n",
    "                       alternative = 'greater')\n",
    "\n",
    "alpha = .05\n",
    "\n",
    "print(results.pvalue)\n",
    "\n",
    "if results.pvalue < alpha:\n",
    "    print('Отвергаем нулевую гипотезу')\n",
    "else:\n",
    "    print('Не удалось отвергнуть нулевую гипотезу')"
   ]
  },
  {
   "cell_type": "markdown",
   "id": "9e27520b",
   "metadata": {},
   "source": [
    "The null hypothesis is rejected, we can conclude that the average duration of a trip with a subscription is longer than the duration of trips without a subscription."
   ]
  },
  {
   "cell_type": "markdown",
   "id": "73a9760c",
   "metadata": {},
   "source": [
    "6.2 The optimal distance in terms of scooter wear and tear and the average distance that users with a subscription travel in one trip does not exceed 3,130 meters."
   ]
  },
  {
   "cell_type": "markdown",
   "id": "17944748",
   "metadata": {},
   "source": [
    "- Null hypothesis (H0): The average trip distance with the ultra subscription is equal to the optimal distance of 3130 meters.\n",
    "- Alternative hypothesis (H1): The average trip distance with the ultra subscription is greater than the optimal distance of 3130 meters."
   ]
  },
  {
   "cell_type": "code",
   "execution_count": 50,
   "id": "cab68ed1",
   "metadata": {},
   "outputs": [
    {
     "name": "stdout",
     "output_type": "stream",
     "text": [
      "0.9195368847849785\n",
      "Не получилось отвергнуть нулевую гипотезу\n"
     ]
    }
   ],
   "source": [
    "distance = 3130\n",
    "alpha = 0.05\n",
    "\n",
    "results = st.ttest_1samp(\n",
    "    data_ultra['distance'], \n",
    "    distance,\n",
    "    alternative='greater')\n",
    "\n",
    "print(results.pvalue)\n",
    "\n",
    "if results.pvalue < alpha:\n",
    "    print('Отвергаем нулевую гипотезу')\n",
    "else:\n",
    "    print('Не получилось отвергнуть нулевую гипотезу')"
   ]
  },
  {
   "cell_type": "markdown",
   "id": "e87919db",
   "metadata": {},
   "source": [
    "The null hypothesis was not rejected and therefore there is reason to believe that the average travel distance of users with a subscription does not exceed the optimal distance of 3130 meters in terms of scooter wear."
   ]
  },
  {
   "cell_type": "markdown",
   "id": "199b5eda",
   "metadata": {},
   "source": [
    "6.3. Let's test the hypothesis of whether monthly revenue from users with a monthly subscription will be higher than revenue from users without a subscription."
   ]
  },
  {
   "cell_type": "markdown",
   "id": "b3605659",
   "metadata": {},
   "source": [
    "- Null hypothesis (H0): Monthly revenue from users with a subscription is equal to monthly revenue from users without a subscription.\n",
    "- Alternative hypothesis (H1): Monthly revenue from users with a subscription is greater than monthly revenue from users without a subscription."
   ]
  },
  {
   "cell_type": "code",
   "execution_count": 51,
   "id": "9c5dce54",
   "metadata": {},
   "outputs": [
    {
     "name": "stdout",
     "output_type": "stream",
     "text": [
      "1.8850394384715216e-31\n",
      "Отвергаем нулевую гипотезу\n"
     ]
    }
   ],
   "source": [
    "# Проведение t-теста для двух независимых выборок:\n",
    "\n",
    "results = st.ttest_ind(\n",
    "    users_months_income.loc[users_months_income['subscription_fee'] > 0, 'revenue'], \n",
    "    users_months_income.loc[users_months_income['subscription_fee'] == 0, 'revenue'], \n",
    "    equal_var=True, \n",
    "    alternative='greater')\n",
    "\n",
    "#Вывод значения p-value:\n",
    "print(results.pvalue)\n",
    "\n",
    "alpha = 0.05\n",
    "if results.pvalue < alpha:\n",
    "    print('Отвергаем нулевую гипотезу')\n",
    "else:\n",
    "    print('Не получилось отвергнуть нулевую гипотезу')"
   ]
  },
  {
   "cell_type": "markdown",
   "id": "80c4ab8c",
   "metadata": {},
   "source": [
    "We tested the hypothesis and can say that revenue from users with an ultra subscription exceeds revenue from users without a subscription."
   ]
  },
  {
   "cell_type": "markdown",
   "id": "0ae0d150",
   "metadata": {},
   "source": [
    "6.4 Let's look at the situation: the service's technical team updated the servers with which the mobile application interacts. They hope that because of this, the number of requests to technical support has significantly decreased.\n",
    "A certain file contains data for each user on the number of requests before and after the update. What test would you need to verify this hypothesis?"
   ]
  },
  {
   "cell_type": "markdown",
   "id": "8e8f2fee",
   "metadata": {},
   "source": [
    "To test the hypothesis that the number of support requests has significantly decreased after the server upgrade, a **paired t-test** is required. This test compares the means of two related samples (before and after the upgrade) for the same user.\n",
    "\n",
    "A paired t-test is used because the data on the number of requests before and after the server upgrade belong to the same users. It takes into account the dependence between the samples and evaluates whether there is a statistically significant difference between the means of the two related groups.\n",
    "\n",
    "Example code for performing a paired t-test using the scipy.stats library:\n"
   ]
  },
  {
   "cell_type": "markdown",
   "id": "575abb8d",
   "metadata": {},
   "source": [
    "```python\n",
    "\n",
    "from scipy import stats\n",
    "\n",
    "# Предположим, что у вас есть данные в виде двух массивов или серий pandas:\n",
    "# before_updates и after_updates - это количество обращений до и после обновления соответственно.\n",
    "\n",
    "before_updates = [количество обращений до обновления для каждого пользователя]\n",
    "after_updates = [количество обращений после обновления для каждого пользователя]\n",
    "\n",
    "# Проведение парного t-теста\n",
    "results = stats.ttest_rel(before_updates, after_updates, alternative='less')\n",
    "\n",
    "# Вывод значения p-value\n",
    "print('p-value:', results.pvalue)\n",
    "\n",
    "# Уровень значимости\n",
    "alpha = 0.05\n",
    "if results.pvalue < alpha:\n",
    "    print('Отвергаем нулевую гипотезу: количество обращений в техподдержку снизилось.')\n",
    "else:\n",
    "    print('Не получилось отвергнуть нулевую гипотезу: нет значимого снижения количества обращений в техподдержку.')\n",
    "```"
   ]
  },
  {
   "cell_type": "markdown",
   "id": "774278b3",
   "metadata": {},
   "source": [
    "**General conclusion**\n",
    "\n",
    "**1. Loaded data**\n",
    "\n",
    "Studied tables:\n",
    "\n",
    "users_go - this table contains 1565 records, no gaps, 31 obvious duplicates.\n",
    "\n",
    "users_go - this table contains 18068 records, no gaps, no obvious duplicates.\n",
    "\n",
    "subscriptions_go - this table contains 2 records, no gaps, no obvious duplicates.\n",
    "\n",
    "Column names are normal.\n",
    "\n",
    "Data is considered complete and sufficient for research.\n",
    "\n",
    "**2. Pre-processed data**\n",
    "\n",
    "In users_go data - deleted detected duplicates;\n",
    "converted date column in riders_go table to date type;\n",
    "created month column with month number from date;\n",
    "did not make any changes in subscriptions_go data.\n",
    "\n",
    "**3. Conducted an exploratory analysis of the data**\n",
    "\n",
    "It was found that the scooter rental service is used most in Pyatigorsk, Yekaterinburg, Rostov-on-Don. And the smallest number of users is in Moscow.\n",
    "\n",
    "The number of users without a subscription (free) 54.4% exceeds the number of users with a subscription (ultra) 45.6%.\n",
    "\n",
    "The main users are people from 19 to 33 years old\n",
    "\n",
    "**4. Combined the data**\n",
    "\n",
    "At this stage, we found that the most frequent trips were 2-5 km long.\n",
    "\n",
    "We found a surge in trips up to 1 km long. Probably, they rented a scooter to get to some nearby object, or the scooter ran out of battery / got into an area where the scooter's movement is blocked.\n",
    "\n",
    "It was found that the subscription affects the average and median values ​​​​of the trip distance:\n",
    "\n",
    "median value:\n",
    "(without a subscription 3114 meters, with a subscription 3148 meters);\n",
    "average value: (without subscription 3045 meters, with subscription 3115 meters).\n",
    "on average and median travel time values:\n",
    "\n",
    "median value: (without subscription 18 min, with subscription 19 min);\n",
    "average value: (without subscription 17 min, with subscription 19 min).\n",
    "\n",
    "That is, the subscription affects the distance of trips and the travel time.\n",
    "\n",
    "**5. Revenue calculation**\n",
    "\n",
    "We calculated that the revenue of the scooter rental service \"GoFast\" for the year was 3,878,641.0.0 rubles.\n",
    "\n",
    "**6. Hypothesis testing**\n",
    "\n",
    "We tested a number of hypotheses, as a result of which there is reason to assume that:\n",
    "- the average duration of a ride with a subscription is longer than the duration of rides without a subscription;\n",
    "- monthly revenue from users with an ultra subscription exceeds revenue from users without a subscription.\n",
    "\n",
    "At the same time, it is likely that users without a subscription \"only\" bring in more revenue, because there are more of them.\n",
    "\n",
    "**Thus, based on the fact that monthly revenue from users with an ultra subscription exceeds revenue from users without a subscription, the marketing and sales departments should focus on attracting customers so that they also use a subscription when renting scooters.**\n",
    "\n"
   ]
  }
 ],
 "metadata": {
  "ExecuteTimeLog": [
   {
    "duration": 883,
    "start_time": "2024-06-28T12:17:49.729Z"
   },
   {
    "duration": 81,
    "start_time": "2024-06-28T12:17:53.636Z"
   },
   {
    "duration": 101,
    "start_time": "2024-06-28T12:19:34.617Z"
   },
   {
    "duration": 112,
    "start_time": "2024-06-28T12:24:42.847Z"
   },
   {
    "duration": 76,
    "start_time": "2024-06-28T12:25:02.560Z"
   },
   {
    "duration": 522,
    "start_time": "2024-06-28T12:26:24.616Z"
   },
   {
    "duration": 69,
    "start_time": "2024-06-28T12:32:32.821Z"
   },
   {
    "duration": 65,
    "start_time": "2024-06-28T12:34:05.980Z"
   },
   {
    "duration": 25,
    "start_time": "2024-06-28T12:34:22.597Z"
   },
   {
    "duration": 11,
    "start_time": "2024-06-28T12:35:25.489Z"
   },
   {
    "duration": 12,
    "start_time": "2024-06-28T12:35:40.996Z"
   },
   {
    "duration": 8,
    "start_time": "2024-06-28T12:35:55.089Z"
   },
   {
    "duration": 7,
    "start_time": "2024-06-28T12:36:09.219Z"
   },
   {
    "duration": 9,
    "start_time": "2024-06-28T13:43:56.926Z"
   },
   {
    "duration": 9,
    "start_time": "2024-06-28T13:44:24.546Z"
   },
   {
    "duration": 5,
    "start_time": "2024-06-28T13:44:53.033Z"
   },
   {
    "duration": 12,
    "start_time": "2024-06-28T13:45:14.938Z"
   },
   {
    "duration": 1241,
    "start_time": "2024-06-30T09:14:32.484Z"
   },
   {
    "duration": 308,
    "start_time": "2024-06-30T09:14:33.727Z"
   },
   {
    "duration": 3,
    "start_time": "2024-06-30T09:14:34.036Z"
   },
   {
    "duration": 34,
    "start_time": "2024-06-30T09:14:34.041Z"
   },
   {
    "duration": 10,
    "start_time": "2024-06-30T09:14:34.077Z"
   },
   {
    "duration": 16,
    "start_time": "2024-06-30T09:14:34.088Z"
   },
   {
    "duration": 37,
    "start_time": "2024-06-30T09:14:34.105Z"
   },
   {
    "duration": 17,
    "start_time": "2024-06-30T09:14:34.143Z"
   },
   {
    "duration": 18,
    "start_time": "2024-06-30T09:14:34.162Z"
   },
   {
    "duration": 4,
    "start_time": "2024-06-30T09:14:34.182Z"
   },
   {
    "duration": 788,
    "start_time": "2024-06-30T09:34:40.576Z"
   },
   {
    "duration": 236,
    "start_time": "2024-06-30T09:35:13.952Z"
   },
   {
    "duration": 96,
    "start_time": "2024-06-30T09:35:37.644Z"
   },
   {
    "duration": 261,
    "start_time": "2024-06-30T09:39:49.606Z"
   },
   {
    "duration": 191,
    "start_time": "2024-06-30T09:40:28.753Z"
   },
   {
    "duration": 243,
    "start_time": "2024-06-30T09:40:36.712Z"
   },
   {
    "duration": 10,
    "start_time": "2024-06-30T09:41:30.729Z"
   },
   {
    "duration": 331,
    "start_time": "2024-06-30T09:41:58.375Z"
   },
   {
    "duration": 12,
    "start_time": "2024-06-30T09:45:03.624Z"
   },
   {
    "duration": 19,
    "start_time": "2024-06-30T09:45:24.489Z"
   },
   {
    "duration": 8,
    "start_time": "2024-06-30T09:48:45.233Z"
   },
   {
    "duration": 5,
    "start_time": "2024-06-30T09:49:49.615Z"
   },
   {
    "duration": 162,
    "start_time": "2024-06-30T09:50:08.873Z"
   },
   {
    "duration": 15,
    "start_time": "2024-06-30T09:51:54.021Z"
   },
   {
    "duration": 166,
    "start_time": "2024-06-30T09:52:00.936Z"
   },
   {
    "duration": 186,
    "start_time": "2024-06-30T09:53:07.881Z"
   },
   {
    "duration": 193,
    "start_time": "2024-06-30T09:58:20.323Z"
   },
   {
    "duration": 182,
    "start_time": "2024-06-30T09:58:27.076Z"
   },
   {
    "duration": 238,
    "start_time": "2024-06-30T10:03:39.525Z"
   },
   {
    "duration": 240,
    "start_time": "2024-06-30T10:03:43.009Z"
   },
   {
    "duration": 10,
    "start_time": "2024-06-30T10:05:24.542Z"
   },
   {
    "duration": 4967,
    "start_time": "2024-06-30T10:05:43.941Z"
   },
   {
    "duration": 4907,
    "start_time": "2024-06-30T10:06:16.867Z"
   },
   {
    "duration": 5,
    "start_time": "2024-06-30T10:08:39.606Z"
   },
   {
    "duration": 770,
    "start_time": "2024-06-30T10:10:00.361Z"
   },
   {
    "duration": 803,
    "start_time": "2024-06-30T10:11:29.797Z"
   },
   {
    "duration": 3,
    "start_time": "2024-06-30T10:14:12.959Z"
   },
   {
    "duration": 70,
    "start_time": "2024-06-30T10:14:12.964Z"
   },
   {
    "duration": 3,
    "start_time": "2024-06-30T10:14:13.035Z"
   },
   {
    "duration": 31,
    "start_time": "2024-06-30T10:14:13.039Z"
   },
   {
    "duration": 12,
    "start_time": "2024-06-30T10:14:13.072Z"
   },
   {
    "duration": 21,
    "start_time": "2024-06-30T10:14:13.085Z"
   },
   {
    "duration": 15,
    "start_time": "2024-06-30T10:14:13.108Z"
   },
   {
    "duration": 92,
    "start_time": "2024-06-30T10:14:13.124Z"
   },
   {
    "duration": 21,
    "start_time": "2024-06-30T10:14:13.218Z"
   },
   {
    "duration": 6,
    "start_time": "2024-06-30T10:14:13.241Z"
   },
   {
    "duration": 196,
    "start_time": "2024-06-30T10:14:13.249Z"
   },
   {
    "duration": 274,
    "start_time": "2024-06-30T10:14:13.447Z"
   },
   {
    "duration": 5,
    "start_time": "2024-06-30T10:14:13.724Z"
   },
   {
    "duration": 266,
    "start_time": "2024-06-30T10:14:13.731Z"
   },
   {
    "duration": 238,
    "start_time": "2024-06-30T10:14:13.999Z"
   },
   {
    "duration": 745,
    "start_time": "2024-06-30T10:14:14.239Z"
   },
   {
    "duration": 6,
    "start_time": "2024-06-30T10:14:56.736Z"
   },
   {
    "duration": 88,
    "start_time": "2024-06-30T10:15:55.969Z"
   },
   {
    "duration": 4,
    "start_time": "2024-06-30T10:18:08.713Z"
   },
   {
    "duration": 5,
    "start_time": "2024-06-30T10:18:30.401Z"
   },
   {
    "duration": 4,
    "start_time": "2024-06-30T10:19:17.099Z"
   },
   {
    "duration": 6,
    "start_time": "2024-06-30T10:19:19.880Z"
   },
   {
    "duration": 245,
    "start_time": "2024-06-30T10:25:56.316Z"
   },
   {
    "duration": 245,
    "start_time": "2024-06-30T10:26:03.542Z"
   },
   {
    "duration": 350,
    "start_time": "2024-06-30T10:26:55.404Z"
   },
   {
    "duration": 76,
    "start_time": "2024-06-30T10:27:43.102Z"
   },
   {
    "duration": 181,
    "start_time": "2024-06-30T10:27:56.679Z"
   },
   {
    "duration": 316,
    "start_time": "2024-06-30T10:28:12.077Z"
   },
   {
    "duration": 7,
    "start_time": "2024-06-30T10:32:21.999Z"
   },
   {
    "duration": 8,
    "start_time": "2024-06-30T10:32:24.446Z"
   },
   {
    "duration": 4,
    "start_time": "2024-06-30T10:32:31.209Z"
   },
   {
    "duration": 146,
    "start_time": "2024-06-30T10:32:31.214Z"
   },
   {
    "duration": 43,
    "start_time": "2024-06-30T10:32:31.362Z"
   },
   {
    "duration": 55,
    "start_time": "2024-06-30T10:32:31.407Z"
   },
   {
    "duration": 47,
    "start_time": "2024-06-30T10:32:31.464Z"
   },
   {
    "duration": 168,
    "start_time": "2024-06-30T10:32:31.513Z"
   },
   {
    "duration": 49,
    "start_time": "2024-06-30T10:32:31.683Z"
   },
   {
    "duration": 31,
    "start_time": "2024-06-30T10:32:31.733Z"
   },
   {
    "duration": 38,
    "start_time": "2024-06-30T10:32:31.766Z"
   },
   {
    "duration": 15,
    "start_time": "2024-06-30T10:32:31.805Z"
   },
   {
    "duration": 209,
    "start_time": "2024-06-30T10:32:31.821Z"
   },
   {
    "duration": 4,
    "start_time": "2024-06-30T10:32:32.032Z"
   },
   {
    "duration": 15,
    "start_time": "2024-06-30T10:32:32.037Z"
   },
   {
    "duration": 191,
    "start_time": "2024-06-30T10:32:32.055Z"
   },
   {
    "duration": 10,
    "start_time": "2024-06-30T10:32:32.248Z"
   },
   {
    "duration": 274,
    "start_time": "2024-06-30T10:32:32.260Z"
   },
   {
    "duration": 266,
    "start_time": "2024-06-30T10:32:32.535Z"
   },
   {
    "duration": 6,
    "start_time": "2024-06-30T10:32:32.803Z"
   },
   {
    "duration": 205,
    "start_time": "2024-06-30T10:32:32.811Z"
   },
   {
    "duration": 6,
    "start_time": "2024-06-30T10:32:33.018Z"
   },
   {
    "duration": 8,
    "start_time": "2024-06-30T10:32:33.026Z"
   },
   {
    "duration": 1162,
    "start_time": "2024-06-30T14:23:22.154Z"
   },
   {
    "duration": 220,
    "start_time": "2024-06-30T14:23:23.317Z"
   },
   {
    "duration": 3,
    "start_time": "2024-06-30T14:23:23.538Z"
   },
   {
    "duration": 24,
    "start_time": "2024-06-30T14:23:23.544Z"
   },
   {
    "duration": 11,
    "start_time": "2024-06-30T14:23:23.570Z"
   },
   {
    "duration": 9,
    "start_time": "2024-06-30T14:23:23.583Z"
   },
   {
    "duration": 8,
    "start_time": "2024-06-30T14:23:23.593Z"
   },
   {
    "duration": 13,
    "start_time": "2024-06-30T14:23:23.603Z"
   },
   {
    "duration": 11,
    "start_time": "2024-06-30T14:23:23.618Z"
   },
   {
    "duration": 5,
    "start_time": "2024-06-30T14:23:23.631Z"
   },
   {
    "duration": 178,
    "start_time": "2024-06-30T14:23:23.637Z"
   },
   {
    "duration": 4,
    "start_time": "2024-06-30T14:23:23.816Z"
   },
   {
    "duration": 5,
    "start_time": "2024-06-30T14:23:23.821Z"
   },
   {
    "duration": 170,
    "start_time": "2024-06-30T14:23:23.827Z"
   },
   {
    "duration": 5,
    "start_time": "2024-06-30T14:23:23.999Z"
   },
   {
    "duration": 209,
    "start_time": "2024-06-30T14:23:24.011Z"
   },
   {
    "duration": 209,
    "start_time": "2024-06-30T14:23:24.222Z"
   },
   {
    "duration": 4,
    "start_time": "2024-06-30T14:23:24.433Z"
   },
   {
    "duration": 94,
    "start_time": "2024-06-30T14:23:24.438Z"
   },
   {
    "duration": 6,
    "start_time": "2024-06-30T14:23:24.533Z"
   },
   {
    "duration": 16,
    "start_time": "2024-06-30T14:23:24.540Z"
   },
   {
    "duration": 326,
    "start_time": "2024-06-30T14:39:03.802Z"
   },
   {
    "duration": 320,
    "start_time": "2024-06-30T14:39:24.260Z"
   },
   {
    "duration": 271,
    "start_time": "2024-06-30T14:39:42.719Z"
   },
   {
    "duration": 30,
    "start_time": "2024-06-30T14:48:43.220Z"
   },
   {
    "duration": 32,
    "start_time": "2024-06-30T14:51:16.112Z"
   },
   {
    "duration": 28,
    "start_time": "2024-06-30T14:52:04.997Z"
   },
   {
    "duration": 30,
    "start_time": "2024-06-30T14:52:21.922Z"
   },
   {
    "duration": 8,
    "start_time": "2024-06-30T14:54:53.708Z"
   },
   {
    "duration": 3,
    "start_time": "2024-06-30T14:54:58.326Z"
   },
   {
    "duration": 67,
    "start_time": "2024-06-30T14:54:58.331Z"
   },
   {
    "duration": 2,
    "start_time": "2024-06-30T14:54:58.400Z"
   },
   {
    "duration": 36,
    "start_time": "2024-06-30T14:54:58.403Z"
   },
   {
    "duration": 9,
    "start_time": "2024-06-30T14:54:58.442Z"
   },
   {
    "duration": 13,
    "start_time": "2024-06-30T14:54:58.452Z"
   },
   {
    "duration": 8,
    "start_time": "2024-06-30T14:54:58.467Z"
   },
   {
    "duration": 5,
    "start_time": "2024-06-30T14:54:58.477Z"
   },
   {
    "duration": 30,
    "start_time": "2024-06-30T14:54:58.483Z"
   },
   {
    "duration": 14,
    "start_time": "2024-06-30T14:54:58.515Z"
   },
   {
    "duration": 6,
    "start_time": "2024-06-30T14:54:58.530Z"
   },
   {
    "duration": 309,
    "start_time": "2024-06-30T14:54:58.538Z"
   },
   {
    "duration": 5,
    "start_time": "2024-06-30T14:54:58.850Z"
   },
   {
    "duration": 7,
    "start_time": "2024-06-30T14:54:58.856Z"
   },
   {
    "duration": 175,
    "start_time": "2024-06-30T14:54:58.865Z"
   },
   {
    "duration": 4,
    "start_time": "2024-06-30T14:54:59.042Z"
   },
   {
    "duration": 228,
    "start_time": "2024-06-30T14:54:59.048Z"
   },
   {
    "duration": 213,
    "start_time": "2024-06-30T14:54:59.277Z"
   },
   {
    "duration": 5,
    "start_time": "2024-06-30T14:54:59.491Z"
   },
   {
    "duration": 92,
    "start_time": "2024-06-30T14:54:59.497Z"
   },
   {
    "duration": 4,
    "start_time": "2024-06-30T14:54:59.591Z"
   },
   {
    "duration": 22,
    "start_time": "2024-06-30T14:54:59.596Z"
   },
   {
    "duration": 37,
    "start_time": "2024-06-30T14:54:59.620Z"
   },
   {
    "duration": 8,
    "start_time": "2024-06-30T15:09:19.223Z"
   },
   {
    "duration": 91,
    "start_time": "2024-06-30T15:12:02.566Z"
   },
   {
    "duration": 6,
    "start_time": "2024-06-30T15:12:12.539Z"
   },
   {
    "duration": 7,
    "start_time": "2024-06-30T15:12:23.838Z"
   },
   {
    "duration": 4,
    "start_time": "2024-06-30T15:12:31.059Z"
   },
   {
    "duration": 5,
    "start_time": "2024-06-30T15:16:29.899Z"
   },
   {
    "duration": 4,
    "start_time": "2024-06-30T15:17:07.248Z"
   },
   {
    "duration": 4,
    "start_time": "2024-06-30T15:17:10.178Z"
   },
   {
    "duration": 253,
    "start_time": "2024-06-30T15:28:27.259Z"
   },
   {
    "duration": 4,
    "start_time": "2024-06-30T15:30:24.280Z"
   },
   {
    "duration": 342,
    "start_time": "2024-06-30T15:30:47.711Z"
   },
   {
    "duration": 4,
    "start_time": "2024-06-30T15:31:03.446Z"
   },
   {
    "duration": 4,
    "start_time": "2024-06-30T15:31:29.161Z"
   },
   {
    "duration": 154,
    "start_time": "2024-06-30T15:32:27.750Z"
   },
   {
    "duration": 5,
    "start_time": "2024-06-30T15:33:26.469Z"
   },
   {
    "duration": 209,
    "start_time": "2024-06-30T15:34:14.848Z"
   },
   {
    "duration": 333,
    "start_time": "2024-06-30T15:34:49.772Z"
   },
   {
    "duration": 207,
    "start_time": "2024-06-30T15:36:57.334Z"
   },
   {
    "duration": 6,
    "start_time": "2024-06-30T15:38:13.483Z"
   },
   {
    "duration": 88,
    "start_time": "2024-06-30T15:40:26.468Z"
   },
   {
    "duration": 8,
    "start_time": "2024-06-30T15:43:28.183Z"
   },
   {
    "duration": 8,
    "start_time": "2024-06-30T15:43:54.697Z"
   },
   {
    "duration": 3,
    "start_time": "2024-06-30T16:01:54.784Z"
   },
   {
    "duration": 74,
    "start_time": "2024-06-30T16:01:54.788Z"
   },
   {
    "duration": 2,
    "start_time": "2024-06-30T16:01:54.863Z"
   },
   {
    "duration": 29,
    "start_time": "2024-06-30T16:01:54.867Z"
   },
   {
    "duration": 6,
    "start_time": "2024-06-30T16:01:54.897Z"
   },
   {
    "duration": 7,
    "start_time": "2024-06-30T16:01:54.904Z"
   },
   {
    "duration": 6,
    "start_time": "2024-06-30T16:01:54.912Z"
   },
   {
    "duration": 6,
    "start_time": "2024-06-30T16:01:54.920Z"
   },
   {
    "duration": 7,
    "start_time": "2024-06-30T16:01:54.929Z"
   },
   {
    "duration": 11,
    "start_time": "2024-06-30T16:01:54.938Z"
   },
   {
    "duration": 4,
    "start_time": "2024-06-30T16:01:54.951Z"
   },
   {
    "duration": 60,
    "start_time": "2024-06-30T16:01:54.957Z"
   },
   {
    "duration": 8,
    "start_time": "2024-06-30T16:01:55.019Z"
   },
   {
    "duration": 9,
    "start_time": "2024-06-30T16:01:55.029Z"
   },
   {
    "duration": 28,
    "start_time": "2024-06-30T16:01:55.039Z"
   },
   {
    "duration": 8,
    "start_time": "2024-06-30T16:01:55.069Z"
   },
   {
    "duration": 6,
    "start_time": "2024-06-30T16:01:55.079Z"
   },
   {
    "duration": 13,
    "start_time": "2024-06-30T16:01:55.086Z"
   },
   {
    "duration": 273,
    "start_time": "2024-06-30T16:01:55.101Z"
   },
   {
    "duration": 4,
    "start_time": "2024-06-30T16:01:55.375Z"
   },
   {
    "duration": 5,
    "start_time": "2024-06-30T16:01:55.380Z"
   },
   {
    "duration": 246,
    "start_time": "2024-06-30T16:01:55.386Z"
   },
   {
    "duration": 6,
    "start_time": "2024-06-30T16:01:55.634Z"
   },
   {
    "duration": 327,
    "start_time": "2024-06-30T16:01:55.643Z"
   },
   {
    "duration": 208,
    "start_time": "2024-06-30T16:01:55.972Z"
   },
   {
    "duration": 5,
    "start_time": "2024-06-30T16:01:56.182Z"
   },
   {
    "duration": 104,
    "start_time": "2024-06-30T16:01:56.188Z"
   },
   {
    "duration": 9,
    "start_time": "2024-06-30T16:01:56.294Z"
   },
   {
    "duration": 15,
    "start_time": "2024-06-30T16:01:56.304Z"
   },
   {
    "duration": 8,
    "start_time": "2024-06-30T16:04:40.679Z"
   },
   {
    "duration": 234,
    "start_time": "2024-06-30T16:05:10.649Z"
   },
   {
    "duration": 320,
    "start_time": "2024-06-30T16:05:23.226Z"
   },
   {
    "duration": 229,
    "start_time": "2024-06-30T16:05:28.953Z"
   },
   {
    "duration": 9,
    "start_time": "2024-06-30T16:09:29.692Z"
   },
   {
    "duration": 334,
    "start_time": "2024-06-30T16:09:52.065Z"
   },
   {
    "duration": 6,
    "start_time": "2024-06-30T16:11:05.915Z"
   },
   {
    "duration": 5,
    "start_time": "2024-06-30T16:11:41.652Z"
   },
   {
    "duration": 5,
    "start_time": "2024-06-30T16:12:24.325Z"
   },
   {
    "duration": 5,
    "start_time": "2024-06-30T16:13:56.035Z"
   },
   {
    "duration": 144,
    "start_time": "2024-06-30T16:14:24.054Z"
   },
   {
    "duration": 1304,
    "start_time": "2024-07-01T06:53:27.318Z"
   },
   {
    "duration": 202,
    "start_time": "2024-07-01T06:53:28.624Z"
   },
   {
    "duration": 3,
    "start_time": "2024-07-01T06:53:28.827Z"
   },
   {
    "duration": 138,
    "start_time": "2024-07-01T06:53:28.831Z"
   },
   {
    "duration": 14,
    "start_time": "2024-07-01T06:53:28.971Z"
   },
   {
    "duration": 9,
    "start_time": "2024-07-01T06:53:28.987Z"
   },
   {
    "duration": 19,
    "start_time": "2024-07-01T06:53:28.997Z"
   },
   {
    "duration": 7,
    "start_time": "2024-07-01T06:53:29.017Z"
   },
   {
    "duration": 35,
    "start_time": "2024-07-01T06:53:29.026Z"
   },
   {
    "duration": 9,
    "start_time": "2024-07-01T06:53:29.063Z"
   },
   {
    "duration": 4,
    "start_time": "2024-07-01T06:53:29.074Z"
   },
   {
    "duration": 34,
    "start_time": "2024-07-01T06:53:29.079Z"
   },
   {
    "duration": 11,
    "start_time": "2024-07-01T06:53:29.115Z"
   },
   {
    "duration": 8,
    "start_time": "2024-07-01T06:53:29.127Z"
   },
   {
    "duration": 32,
    "start_time": "2024-07-01T06:53:29.137Z"
   },
   {
    "duration": 8,
    "start_time": "2024-07-01T06:53:29.171Z"
   },
   {
    "duration": 17,
    "start_time": "2024-07-01T06:53:29.180Z"
   },
   {
    "duration": 20,
    "start_time": "2024-07-01T06:53:29.198Z"
   },
   {
    "duration": 369,
    "start_time": "2024-07-01T06:53:29.219Z"
   },
   {
    "duration": 8,
    "start_time": "2024-07-01T06:53:29.590Z"
   },
   {
    "duration": 7,
    "start_time": "2024-07-01T06:53:29.599Z"
   },
   {
    "duration": 6,
    "start_time": "2024-07-01T06:53:29.607Z"
   },
   {
    "duration": 212,
    "start_time": "2024-07-01T06:53:29.614Z"
   },
   {
    "duration": 9,
    "start_time": "2024-07-01T06:53:29.827Z"
   },
   {
    "duration": 348,
    "start_time": "2024-07-01T06:53:29.838Z"
   },
   {
    "duration": 9,
    "start_time": "2024-07-01T06:53:30.188Z"
   },
   {
    "duration": 253,
    "start_time": "2024-07-01T06:53:30.198Z"
   },
   {
    "duration": 5,
    "start_time": "2024-07-01T06:53:30.454Z"
   },
   {
    "duration": 155,
    "start_time": "2024-07-01T06:53:30.465Z"
   },
   {
    "duration": 9,
    "start_time": "2024-07-01T06:53:30.621Z"
   },
   {
    "duration": 54,
    "start_time": "2024-07-01T06:53:30.632Z"
   },
   {
    "duration": 420,
    "start_time": "2024-07-01T06:59:00.718Z"
   },
   {
    "duration": 9,
    "start_time": "2024-07-01T07:01:59.006Z"
   },
   {
    "duration": 9,
    "start_time": "2024-07-01T07:02:14.997Z"
   },
   {
    "duration": 12,
    "start_time": "2024-07-01T07:19:59.208Z"
   },
   {
    "duration": 89,
    "start_time": "2024-07-01T07:21:35.183Z"
   },
   {
    "duration": 16,
    "start_time": "2024-07-01T07:21:49.103Z"
   },
   {
    "duration": 14,
    "start_time": "2024-07-01T07:22:55.684Z"
   },
   {
    "duration": 14,
    "start_time": "2024-07-01T07:23:11.633Z"
   },
   {
    "duration": 3,
    "start_time": "2024-07-01T07:24:10.721Z"
   },
   {
    "duration": 3,
    "start_time": "2024-07-01T07:24:30.281Z"
   },
   {
    "duration": 241,
    "start_time": "2024-07-01T07:25:17.739Z"
   },
   {
    "duration": 201,
    "start_time": "2024-07-01T07:27:03.912Z"
   },
   {
    "duration": 193,
    "start_time": "2024-07-01T07:27:54.483Z"
   },
   {
    "duration": 194,
    "start_time": "2024-07-01T07:29:10.766Z"
   },
   {
    "duration": 191,
    "start_time": "2024-07-01T07:30:20.303Z"
   },
   {
    "duration": 8,
    "start_time": "2024-07-01T07:32:44.629Z"
   },
   {
    "duration": 9,
    "start_time": "2024-07-01T07:34:05.630Z"
   },
   {
    "duration": 8,
    "start_time": "2024-07-01T07:34:29.607Z"
   },
   {
    "duration": 7,
    "start_time": "2024-07-01T07:34:59.709Z"
   },
   {
    "duration": 7,
    "start_time": "2024-07-01T07:36:25.016Z"
   },
   {
    "duration": 8,
    "start_time": "2024-07-01T07:36:28.192Z"
   },
   {
    "duration": 12,
    "start_time": "2024-07-01T08:41:16.304Z"
   },
   {
    "duration": 127,
    "start_time": "2024-07-01T08:41:47.394Z"
   },
   {
    "duration": 32,
    "start_time": "2024-07-01T08:43:59.608Z"
   },
   {
    "duration": 3,
    "start_time": "2024-07-01T08:44:52.106Z"
   },
   {
    "duration": 9,
    "start_time": "2024-07-01T08:44:54.431Z"
   },
   {
    "duration": 31,
    "start_time": "2024-07-01T08:46:27.285Z"
   },
   {
    "duration": 11,
    "start_time": "2024-07-01T08:46:30.002Z"
   },
   {
    "duration": 3,
    "start_time": "2024-07-01T08:47:41.607Z"
   },
   {
    "duration": 9,
    "start_time": "2024-07-01T08:47:44.971Z"
   },
   {
    "duration": 8,
    "start_time": "2024-07-01T08:55:34.841Z"
   },
   {
    "duration": 9,
    "start_time": "2024-07-01T08:56:13.636Z"
   },
   {
    "duration": 1135,
    "start_time": "2024-07-01T08:56:38.418Z"
   },
   {
    "duration": 33,
    "start_time": "2024-07-01T08:58:57.420Z"
   },
   {
    "duration": 3,
    "start_time": "2024-07-01T08:59:07.718Z"
   },
   {
    "duration": 10,
    "start_time": "2024-07-01T08:59:16.554Z"
   },
   {
    "duration": 7,
    "start_time": "2024-07-01T08:59:57.769Z"
   },
   {
    "duration": 10,
    "start_time": "2024-07-01T09:15:37.837Z"
   },
   {
    "duration": 5,
    "start_time": "2024-07-01T09:18:46.635Z"
   },
   {
    "duration": 5,
    "start_time": "2024-07-01T09:24:10.756Z"
   },
   {
    "duration": 12,
    "start_time": "2024-07-01T11:58:38.944Z"
   },
   {
    "duration": 59,
    "start_time": "2024-07-01T12:11:25.712Z"
   },
   {
    "duration": 3,
    "start_time": "2024-07-01T12:11:50.423Z"
   },
   {
    "duration": 131,
    "start_time": "2024-07-01T12:11:50.428Z"
   },
   {
    "duration": 4,
    "start_time": "2024-07-01T12:11:50.561Z"
   },
   {
    "duration": 41,
    "start_time": "2024-07-01T12:11:50.567Z"
   },
   {
    "duration": 11,
    "start_time": "2024-07-01T12:11:50.610Z"
   },
   {
    "duration": 57,
    "start_time": "2024-07-01T12:11:50.623Z"
   },
   {
    "duration": 12,
    "start_time": "2024-07-01T12:11:50.682Z"
   },
   {
    "duration": 8,
    "start_time": "2024-07-01T12:11:50.696Z"
   },
   {
    "duration": 7,
    "start_time": "2024-07-01T12:11:50.706Z"
   },
   {
    "duration": 32,
    "start_time": "2024-07-01T12:11:50.714Z"
   },
   {
    "duration": 8,
    "start_time": "2024-07-01T12:11:50.747Z"
   },
   {
    "duration": 57,
    "start_time": "2024-07-01T12:11:50.756Z"
   },
   {
    "duration": 9,
    "start_time": "2024-07-01T12:11:50.814Z"
   },
   {
    "duration": 7,
    "start_time": "2024-07-01T12:11:50.825Z"
   },
   {
    "duration": 26,
    "start_time": "2024-07-01T12:11:50.833Z"
   },
   {
    "duration": 44,
    "start_time": "2024-07-01T12:11:50.860Z"
   },
   {
    "duration": 5,
    "start_time": "2024-07-01T12:11:50.905Z"
   },
   {
    "duration": 12,
    "start_time": "2024-07-01T12:11:50.911Z"
   },
   {
    "duration": 325,
    "start_time": "2024-07-01T12:11:50.924Z"
   },
   {
    "duration": 19,
    "start_time": "2024-07-01T12:11:51.250Z"
   },
   {
    "duration": 51,
    "start_time": "2024-07-01T12:11:51.270Z"
   },
   {
    "duration": 6,
    "start_time": "2024-07-01T12:11:51.323Z"
   },
   {
    "duration": 183,
    "start_time": "2024-07-01T12:11:51.330Z"
   },
   {
    "duration": 6,
    "start_time": "2024-07-01T12:11:51.516Z"
   },
   {
    "duration": 388,
    "start_time": "2024-07-01T12:11:51.524Z"
   },
   {
    "duration": 9,
    "start_time": "2024-07-01T12:11:51.914Z"
   },
   {
    "duration": 400,
    "start_time": "2024-07-01T12:11:51.925Z"
   },
   {
    "duration": 10,
    "start_time": "2024-07-01T12:11:52.326Z"
   },
   {
    "duration": 110,
    "start_time": "2024-07-01T12:11:52.337Z"
   },
   {
    "duration": 16,
    "start_time": "2024-07-01T12:11:52.449Z"
   },
   {
    "duration": 60,
    "start_time": "2024-07-01T12:11:52.467Z"
   },
   {
    "duration": 25,
    "start_time": "2024-07-01T12:11:52.529Z"
   },
   {
    "duration": 37,
    "start_time": "2024-07-01T12:11:52.555Z"
   },
   {
    "duration": 14,
    "start_time": "2024-07-01T12:11:52.593Z"
   },
   {
    "duration": 5,
    "start_time": "2024-07-01T12:11:52.608Z"
   },
   {
    "duration": 250,
    "start_time": "2024-07-01T12:11:52.615Z"
   },
   {
    "duration": 306,
    "start_time": "2024-07-01T12:11:52.867Z"
   },
   {
    "duration": 202,
    "start_time": "2024-07-01T12:11:53.174Z"
   },
   {
    "duration": 7,
    "start_time": "2024-07-01T12:11:53.377Z"
   },
   {
    "duration": 10,
    "start_time": "2024-07-01T12:11:53.386Z"
   },
   {
    "duration": 10,
    "start_time": "2024-07-01T12:11:53.398Z"
   },
   {
    "duration": 25,
    "start_time": "2024-07-01T12:11:53.409Z"
   },
   {
    "duration": 9,
    "start_time": "2024-07-01T12:11:53.436Z"
   },
   {
    "duration": 24,
    "start_time": "2024-07-01T12:11:53.446Z"
   },
   {
    "duration": 41,
    "start_time": "2024-07-01T12:11:53.471Z"
   },
   {
    "duration": 3,
    "start_time": "2024-07-01T12:11:53.513Z"
   },
   {
    "duration": 71,
    "start_time": "2024-07-01T12:11:53.518Z"
   },
   {
    "duration": 97,
    "start_time": "2024-07-01T12:11:53.590Z"
   },
   {
    "duration": 8,
    "start_time": "2024-07-01T12:11:53.690Z"
   },
   {
    "duration": 26,
    "start_time": "2024-07-01T12:11:53.700Z"
   },
   {
    "duration": 10,
    "start_time": "2024-07-01T12:11:53.728Z"
   },
   {
    "duration": 63,
    "start_time": "2024-07-01T12:11:53.740Z"
   },
   {
    "duration": 4,
    "start_time": "2024-07-01T14:18:13.997Z"
   },
   {
    "duration": 85,
    "start_time": "2024-07-01T14:18:14.003Z"
   },
   {
    "duration": 3,
    "start_time": "2024-07-01T14:18:14.090Z"
   },
   {
    "duration": 120,
    "start_time": "2024-07-01T14:18:14.094Z"
   },
   {
    "duration": 9,
    "start_time": "2024-07-01T14:18:14.216Z"
   },
   {
    "duration": 10,
    "start_time": "2024-07-01T14:18:14.226Z"
   },
   {
    "duration": 11,
    "start_time": "2024-07-01T14:18:14.238Z"
   },
   {
    "duration": 11,
    "start_time": "2024-07-01T14:18:14.251Z"
   },
   {
    "duration": 6,
    "start_time": "2024-07-01T14:18:14.264Z"
   },
   {
    "duration": 9,
    "start_time": "2024-07-01T14:18:14.272Z"
   },
   {
    "duration": 5,
    "start_time": "2024-07-01T14:18:14.283Z"
   },
   {
    "duration": 35,
    "start_time": "2024-07-01T14:18:14.289Z"
   },
   {
    "duration": 8,
    "start_time": "2024-07-01T14:18:14.326Z"
   },
   {
    "duration": 29,
    "start_time": "2024-07-01T14:18:14.336Z"
   },
   {
    "duration": 5,
    "start_time": "2024-07-01T14:18:14.366Z"
   },
   {
    "duration": 7,
    "start_time": "2024-07-01T14:18:14.373Z"
   },
   {
    "duration": 4,
    "start_time": "2024-07-01T14:18:14.382Z"
   },
   {
    "duration": 4,
    "start_time": "2024-07-01T14:18:14.388Z"
   },
   {
    "duration": 276,
    "start_time": "2024-07-01T14:18:14.393Z"
   },
   {
    "duration": 8,
    "start_time": "2024-07-01T14:18:14.671Z"
   },
   {
    "duration": 19,
    "start_time": "2024-07-01T14:18:14.680Z"
   },
   {
    "duration": 7,
    "start_time": "2024-07-01T14:18:14.700Z"
   },
   {
    "duration": 170,
    "start_time": "2024-07-01T14:18:14.708Z"
   },
   {
    "duration": 7,
    "start_time": "2024-07-01T14:18:14.879Z"
   },
   {
    "duration": 369,
    "start_time": "2024-07-01T14:18:14.887Z"
   },
   {
    "duration": 12,
    "start_time": "2024-07-01T14:18:15.258Z"
   },
   {
    "duration": 406,
    "start_time": "2024-07-01T14:18:15.271Z"
   },
   {
    "duration": 10,
    "start_time": "2024-07-01T14:18:15.679Z"
   },
   {
    "duration": 101,
    "start_time": "2024-07-01T14:18:15.690Z"
   },
   {
    "duration": 8,
    "start_time": "2024-07-01T14:18:15.792Z"
   },
   {
    "duration": 16,
    "start_time": "2024-07-01T14:18:15.801Z"
   },
   {
    "duration": 37,
    "start_time": "2024-07-01T14:18:15.819Z"
   },
   {
    "duration": 38,
    "start_time": "2024-07-01T14:18:15.857Z"
   },
   {
    "duration": 13,
    "start_time": "2024-07-01T14:18:15.897Z"
   },
   {
    "duration": 7,
    "start_time": "2024-07-01T14:18:15.911Z"
   },
   {
    "duration": 327,
    "start_time": "2024-07-01T14:18:15.920Z"
   },
   {
    "duration": 203,
    "start_time": "2024-07-01T14:18:16.251Z"
   },
   {
    "duration": 197,
    "start_time": "2024-07-01T14:18:16.456Z"
   },
   {
    "duration": 13,
    "start_time": "2024-07-01T14:18:16.654Z"
   },
   {
    "duration": 16,
    "start_time": "2024-07-01T14:18:16.668Z"
   },
   {
    "duration": 8,
    "start_time": "2024-07-01T14:18:16.686Z"
   },
   {
    "duration": 12,
    "start_time": "2024-07-01T14:18:16.695Z"
   },
   {
    "duration": 14,
    "start_time": "2024-07-01T14:18:16.708Z"
   },
   {
    "duration": 16,
    "start_time": "2024-07-01T14:18:16.723Z"
   },
   {
    "duration": 34,
    "start_time": "2024-07-01T14:18:16.740Z"
   },
   {
    "duration": 2,
    "start_time": "2024-07-01T14:18:16.776Z"
   },
   {
    "duration": 21,
    "start_time": "2024-07-01T14:18:16.780Z"
   },
   {
    "duration": 12,
    "start_time": "2024-07-01T14:18:16.803Z"
   },
   {
    "duration": 8,
    "start_time": "2024-07-01T14:18:16.817Z"
   },
   {
    "duration": 30,
    "start_time": "2024-07-01T14:18:16.826Z"
   },
   {
    "duration": 36,
    "start_time": "2024-07-01T14:18:16.858Z"
   },
   {
    "duration": 71,
    "start_time": "2024-07-01T14:18:16.895Z"
   },
   {
    "duration": 3,
    "start_time": "2024-07-01T14:32:33.859Z"
   },
   {
    "duration": 68,
    "start_time": "2024-07-01T14:32:33.864Z"
   },
   {
    "duration": 3,
    "start_time": "2024-07-01T14:32:33.933Z"
   },
   {
    "duration": 28,
    "start_time": "2024-07-01T14:32:33.937Z"
   },
   {
    "duration": 9,
    "start_time": "2024-07-01T14:32:33.968Z"
   },
   {
    "duration": 21,
    "start_time": "2024-07-01T14:32:33.979Z"
   },
   {
    "duration": 13,
    "start_time": "2024-07-01T14:32:34.001Z"
   },
   {
    "duration": 5,
    "start_time": "2024-07-01T14:32:34.016Z"
   },
   {
    "duration": 7,
    "start_time": "2024-07-01T14:32:34.022Z"
   },
   {
    "duration": 11,
    "start_time": "2024-07-01T14:32:34.030Z"
   },
   {
    "duration": 20,
    "start_time": "2024-07-01T14:32:34.045Z"
   },
   {
    "duration": 33,
    "start_time": "2024-07-01T14:32:34.067Z"
   },
   {
    "duration": 10,
    "start_time": "2024-07-01T14:32:34.101Z"
   },
   {
    "duration": 8,
    "start_time": "2024-07-01T14:32:34.112Z"
   },
   {
    "duration": 10,
    "start_time": "2024-07-01T14:32:34.121Z"
   },
   {
    "duration": 100,
    "start_time": "2024-07-01T14:32:34.133Z"
   },
   {
    "duration": 12,
    "start_time": "2024-07-01T14:32:34.235Z"
   },
   {
    "duration": 6,
    "start_time": "2024-07-01T14:32:34.248Z"
   },
   {
    "duration": 279,
    "start_time": "2024-07-01T14:32:34.256Z"
   },
   {
    "duration": 8,
    "start_time": "2024-07-01T14:32:34.536Z"
   },
   {
    "duration": 19,
    "start_time": "2024-07-01T14:32:34.546Z"
   },
   {
    "duration": 4,
    "start_time": "2024-07-01T14:32:34.566Z"
   },
   {
    "duration": 166,
    "start_time": "2024-07-01T14:32:34.571Z"
   },
   {
    "duration": 6,
    "start_time": "2024-07-01T14:32:34.738Z"
   },
   {
    "duration": 336,
    "start_time": "2024-07-01T14:32:34.745Z"
   },
   {
    "duration": 8,
    "start_time": "2024-07-01T14:32:35.083Z"
   },
   {
    "duration": 421,
    "start_time": "2024-07-01T14:32:35.093Z"
   },
   {
    "duration": 8,
    "start_time": "2024-07-01T14:32:35.516Z"
   },
   {
    "duration": 99,
    "start_time": "2024-07-01T14:32:35.527Z"
   },
   {
    "duration": 8,
    "start_time": "2024-07-01T14:32:35.628Z"
   },
   {
    "duration": 11,
    "start_time": "2024-07-01T14:32:35.638Z"
   },
   {
    "duration": 28,
    "start_time": "2024-07-01T14:32:35.650Z"
   },
   {
    "duration": 33,
    "start_time": "2024-07-01T14:32:35.680Z"
   },
   {
    "duration": 14,
    "start_time": "2024-07-01T14:32:35.715Z"
   },
   {
    "duration": 3,
    "start_time": "2024-07-01T14:32:35.731Z"
   },
   {
    "duration": 276,
    "start_time": "2024-07-01T14:32:35.735Z"
   },
   {
    "duration": 208,
    "start_time": "2024-07-01T14:32:36.012Z"
   },
   {
    "duration": 215,
    "start_time": "2024-07-01T14:32:36.221Z"
   },
   {
    "duration": 7,
    "start_time": "2024-07-01T14:32:36.437Z"
   },
   {
    "duration": 6,
    "start_time": "2024-07-01T14:32:36.446Z"
   },
   {
    "duration": 7,
    "start_time": "2024-07-01T14:32:36.464Z"
   },
   {
    "duration": 8,
    "start_time": "2024-07-01T14:32:36.472Z"
   },
   {
    "duration": 6,
    "start_time": "2024-07-01T14:32:36.482Z"
   },
   {
    "duration": 7,
    "start_time": "2024-07-01T14:32:36.490Z"
   },
   {
    "duration": 33,
    "start_time": "2024-07-01T14:32:36.498Z"
   },
   {
    "duration": 3,
    "start_time": "2024-07-01T14:32:36.532Z"
   },
   {
    "duration": 36,
    "start_time": "2024-07-01T14:32:36.536Z"
   },
   {
    "duration": 6,
    "start_time": "2024-07-01T14:32:36.574Z"
   },
   {
    "duration": 5,
    "start_time": "2024-07-01T14:32:36.582Z"
   },
   {
    "duration": 5,
    "start_time": "2024-07-01T14:32:36.588Z"
   },
   {
    "duration": 8,
    "start_time": "2024-07-01T14:32:36.594Z"
   },
   {
    "duration": 57,
    "start_time": "2024-07-01T14:32:36.603Z"
   },
   {
    "duration": 1123,
    "start_time": "2024-07-01T14:51:51.140Z"
   },
   {
    "duration": 70,
    "start_time": "2024-07-01T14:51:52.265Z"
   },
   {
    "duration": 2,
    "start_time": "2024-07-01T14:51:52.337Z"
   },
   {
    "duration": 25,
    "start_time": "2024-07-01T14:51:52.341Z"
   },
   {
    "duration": 12,
    "start_time": "2024-07-01T14:51:52.368Z"
   },
   {
    "duration": 8,
    "start_time": "2024-07-01T14:51:52.382Z"
   },
   {
    "duration": 8,
    "start_time": "2024-07-01T14:51:52.392Z"
   },
   {
    "duration": 5,
    "start_time": "2024-07-01T14:51:52.402Z"
   },
   {
    "duration": 8,
    "start_time": "2024-07-01T14:51:52.409Z"
   },
   {
    "duration": 9,
    "start_time": "2024-07-01T14:51:52.418Z"
   },
   {
    "duration": 4,
    "start_time": "2024-07-01T14:51:52.429Z"
   },
   {
    "duration": 70,
    "start_time": "2024-07-01T14:51:52.435Z"
   },
   {
    "duration": 11,
    "start_time": "2024-07-01T14:51:52.506Z"
   },
   {
    "duration": 7,
    "start_time": "2024-07-01T14:51:52.520Z"
   },
   {
    "duration": 6,
    "start_time": "2024-07-01T14:51:52.529Z"
   },
   {
    "duration": 10,
    "start_time": "2024-07-01T14:51:52.536Z"
   },
   {
    "duration": 5,
    "start_time": "2024-07-01T14:51:52.547Z"
   },
   {
    "duration": 5,
    "start_time": "2024-07-01T14:51:52.554Z"
   },
   {
    "duration": 350,
    "start_time": "2024-07-01T14:51:52.560Z"
   },
   {
    "duration": 9,
    "start_time": "2024-07-01T14:51:52.911Z"
   },
   {
    "duration": 4,
    "start_time": "2024-07-01T14:51:52.922Z"
   },
   {
    "duration": 6,
    "start_time": "2024-07-01T14:51:52.928Z"
   },
   {
    "duration": 233,
    "start_time": "2024-07-01T14:51:52.936Z"
   },
   {
    "duration": 7,
    "start_time": "2024-07-01T14:51:53.171Z"
   },
   {
    "duration": 378,
    "start_time": "2024-07-01T14:51:53.180Z"
   },
   {
    "duration": 10,
    "start_time": "2024-07-01T14:51:53.560Z"
   },
   {
    "duration": 378,
    "start_time": "2024-07-01T14:51:53.571Z"
   },
   {
    "duration": 10,
    "start_time": "2024-07-01T14:51:53.950Z"
   },
   {
    "duration": 113,
    "start_time": "2024-07-01T14:51:53.961Z"
   },
   {
    "duration": 0,
    "start_time": "2024-07-01T14:51:54.076Z"
   },
   {
    "duration": 0,
    "start_time": "2024-07-01T14:51:54.077Z"
   },
   {
    "duration": 0,
    "start_time": "2024-07-01T14:51:54.078Z"
   },
   {
    "duration": 0,
    "start_time": "2024-07-01T14:51:54.079Z"
   },
   {
    "duration": 0,
    "start_time": "2024-07-01T14:51:54.080Z"
   },
   {
    "duration": 0,
    "start_time": "2024-07-01T14:51:54.081Z"
   },
   {
    "duration": 0,
    "start_time": "2024-07-01T14:51:54.082Z"
   },
   {
    "duration": 0,
    "start_time": "2024-07-01T14:51:54.083Z"
   },
   {
    "duration": 0,
    "start_time": "2024-07-01T14:51:54.084Z"
   },
   {
    "duration": 0,
    "start_time": "2024-07-01T14:51:54.100Z"
   },
   {
    "duration": 0,
    "start_time": "2024-07-01T14:51:54.101Z"
   },
   {
    "duration": 0,
    "start_time": "2024-07-01T14:51:54.102Z"
   },
   {
    "duration": 0,
    "start_time": "2024-07-01T14:51:54.103Z"
   },
   {
    "duration": 0,
    "start_time": "2024-07-01T14:51:54.104Z"
   },
   {
    "duration": 0,
    "start_time": "2024-07-01T14:51:54.105Z"
   },
   {
    "duration": 0,
    "start_time": "2024-07-01T14:51:54.106Z"
   },
   {
    "duration": 0,
    "start_time": "2024-07-01T14:51:54.107Z"
   },
   {
    "duration": 0,
    "start_time": "2024-07-01T14:51:54.108Z"
   },
   {
    "duration": 0,
    "start_time": "2024-07-01T14:51:54.109Z"
   },
   {
    "duration": 0,
    "start_time": "2024-07-01T14:51:54.110Z"
   },
   {
    "duration": 0,
    "start_time": "2024-07-01T14:51:54.110Z"
   },
   {
    "duration": 0,
    "start_time": "2024-07-01T14:51:54.111Z"
   },
   {
    "duration": 0,
    "start_time": "2024-07-01T14:51:54.112Z"
   },
   {
    "duration": 68,
    "start_time": "2024-07-01T18:09:59.832Z"
   },
   {
    "duration": 425,
    "start_time": "2024-07-01T18:14:27.029Z"
   },
   {
    "duration": 377,
    "start_time": "2024-07-01T18:14:28.186Z"
   },
   {
    "duration": 3,
    "start_time": "2024-07-01T18:14:29.267Z"
   },
   {
    "duration": 459,
    "start_time": "2024-07-01T18:14:30.179Z"
   },
   {
    "duration": 3,
    "start_time": "2024-07-01T18:14:30.826Z"
   },
   {
    "duration": 199,
    "start_time": "2024-07-01T18:16:50.439Z"
   },
   {
    "duration": 3,
    "start_time": "2024-07-01T18:16:51.796Z"
   },
   {
    "duration": 26,
    "start_time": "2024-07-01T18:17:40.509Z"
   },
   {
    "duration": 8,
    "start_time": "2024-07-01T18:22:19.480Z"
   },
   {
    "duration": 8,
    "start_time": "2024-07-01T18:22:20.907Z"
   },
   {
    "duration": 11,
    "start_time": "2024-07-01T18:22:22.628Z"
   },
   {
    "duration": 5,
    "start_time": "2024-07-01T18:22:23.459Z"
   },
   {
    "duration": 5,
    "start_time": "2024-07-01T18:24:18.117Z"
   },
   {
    "duration": 8,
    "start_time": "2024-07-01T18:24:33.787Z"
   },
   {
    "duration": 6,
    "start_time": "2024-07-01T18:25:00.385Z"
   },
   {
    "duration": 7,
    "start_time": "2024-07-01T18:28:18.312Z"
   },
   {
    "duration": 5,
    "start_time": "2024-07-01T18:28:41.165Z"
   },
   {
    "duration": 6,
    "start_time": "2024-07-01T18:30:01.712Z"
   },
   {
    "duration": 5,
    "start_time": "2024-07-01T18:31:21.681Z"
   },
   {
    "duration": 5,
    "start_time": "2024-07-01T18:31:50.725Z"
   },
   {
    "duration": 43,
    "start_time": "2024-07-01T18:39:00.538Z"
   },
   {
    "duration": 13,
    "start_time": "2024-07-01T18:41:28.605Z"
   },
   {
    "duration": 67,
    "start_time": "2024-07-01T18:42:20.622Z"
   },
   {
    "duration": 10,
    "start_time": "2024-07-01T18:45:35.328Z"
   },
   {
    "duration": 339,
    "start_time": "2024-07-01T18:49:32.741Z"
   },
   {
    "duration": 476,
    "start_time": "2024-07-01T18:50:12.772Z"
   },
   {
    "duration": 427,
    "start_time": "2024-07-01T18:51:01.484Z"
   },
   {
    "duration": 327,
    "start_time": "2024-07-01T18:51:37.521Z"
   },
   {
    "duration": 311,
    "start_time": "2024-07-01T18:52:01.336Z"
   },
   {
    "duration": 311,
    "start_time": "2024-07-01T18:53:15.662Z"
   },
   {
    "duration": 387,
    "start_time": "2024-07-01T18:54:03.127Z"
   },
   {
    "duration": 10,
    "start_time": "2024-07-01T18:54:38.243Z"
   },
   {
    "duration": 8,
    "start_time": "2024-07-01T18:54:51.111Z"
   },
   {
    "duration": 10,
    "start_time": "2024-07-01T18:56:08.542Z"
   },
   {
    "duration": 9,
    "start_time": "2024-07-01T18:56:53.285Z"
   },
   {
    "duration": 4,
    "start_time": "2024-07-01T18:57:03.051Z"
   },
   {
    "duration": 4,
    "start_time": "2024-07-01T18:57:06.667Z"
   },
   {
    "duration": 184,
    "start_time": "2024-07-01T19:01:13.075Z"
   },
   {
    "duration": 190,
    "start_time": "2024-07-01T19:02:49.642Z"
   },
   {
    "duration": 172,
    "start_time": "2024-07-01T19:03:25.289Z"
   },
   {
    "duration": 14,
    "start_time": "2024-07-01T19:03:32.881Z"
   },
   {
    "duration": 71,
    "start_time": "2024-07-01T19:05:05.343Z"
   },
   {
    "duration": 384,
    "start_time": "2024-07-01T19:08:17.167Z"
   },
   {
    "duration": 11,
    "start_time": "2024-07-01T19:08:39.970Z"
   },
   {
    "duration": 394,
    "start_time": "2024-07-01T19:09:50.417Z"
   },
   {
    "duration": 405,
    "start_time": "2024-07-01T19:10:23.917Z"
   },
   {
    "duration": 118,
    "start_time": "2024-07-01T19:12:33.757Z"
   },
   {
    "duration": 102,
    "start_time": "2024-07-01T19:13:54.014Z"
   },
   {
    "duration": 168,
    "start_time": "2024-07-01T19:14:13.388Z"
   },
   {
    "duration": 77,
    "start_time": "2024-07-01T19:16:57.803Z"
   },
   {
    "duration": 6,
    "start_time": "2024-07-01T19:24:43.740Z"
   },
   {
    "duration": 7,
    "start_time": "2024-07-01T19:24:44.621Z"
   },
   {
    "duration": 8,
    "start_time": "2024-07-01T19:26:03.714Z"
   },
   {
    "duration": 8,
    "start_time": "2024-07-01T19:26:04.612Z"
   },
   {
    "duration": 9,
    "start_time": "2024-07-01T19:28:05.044Z"
   },
   {
    "duration": 9,
    "start_time": "2024-07-01T19:28:13.699Z"
   },
   {
    "duration": 792,
    "start_time": "2024-07-01T19:28:43.953Z"
   },
   {
    "duration": 39,
    "start_time": "2024-07-01T19:32:05.807Z"
   },
   {
    "duration": 9,
    "start_time": "2024-07-01T19:32:21.026Z"
   },
   {
    "duration": 18,
    "start_time": "2024-07-01T19:32:31.063Z"
   },
   {
    "duration": 14,
    "start_time": "2024-07-01T19:32:38.434Z"
   },
   {
    "duration": 4,
    "start_time": "2024-07-01T19:32:46.613Z"
   },
   {
    "duration": 277,
    "start_time": "2024-07-01T19:33:00.253Z"
   },
   {
    "duration": 334,
    "start_time": "2024-07-01T19:33:13.282Z"
   },
   {
    "duration": 232,
    "start_time": "2024-07-01T19:33:22.638Z"
   },
   {
    "duration": 9,
    "start_time": "2024-07-01T19:33:26.695Z"
   },
   {
    "duration": 12,
    "start_time": "2024-07-01T19:33:28.099Z"
   },
   {
    "duration": 10,
    "start_time": "2024-07-01T19:33:32.049Z"
   },
   {
    "duration": 9,
    "start_time": "2024-07-01T19:33:32.778Z"
   },
   {
    "duration": 9,
    "start_time": "2024-07-01T19:33:33.984Z"
   },
   {
    "duration": 8,
    "start_time": "2024-07-01T19:33:34.649Z"
   },
   {
    "duration": 42,
    "start_time": "2024-07-01T19:34:28.621Z"
   },
   {
    "duration": 4,
    "start_time": "2024-07-01T19:34:30.466Z"
   },
   {
    "duration": 13,
    "start_time": "2024-07-01T19:34:31.813Z"
   },
   {
    "duration": 8,
    "start_time": "2024-07-01T19:34:40.329Z"
   },
   {
    "duration": 8,
    "start_time": "2024-07-01T19:34:47.879Z"
   },
   {
    "duration": 5,
    "start_time": "2024-07-01T19:34:51.516Z"
   },
   {
    "duration": 10,
    "start_time": "2024-07-01T19:34:54.412Z"
   },
   {
    "duration": 7,
    "start_time": "2024-07-01T19:35:32.875Z"
   },
   {
    "duration": 58,
    "start_time": "2024-07-01T19:35:39.604Z"
   },
   {
    "duration": 429,
    "start_time": "2024-07-01T19:38:56.527Z"
   },
   {
    "duration": 275,
    "start_time": "2024-07-01T19:38:56.958Z"
   },
   {
    "duration": 2,
    "start_time": "2024-07-01T19:38:57.235Z"
   },
   {
    "duration": 479,
    "start_time": "2024-07-01T19:38:57.239Z"
   },
   {
    "duration": 3,
    "start_time": "2024-07-01T19:38:57.720Z"
   },
   {
    "duration": 80,
    "start_time": "2024-07-01T19:38:57.724Z"
   },
   {
    "duration": 2,
    "start_time": "2024-07-01T19:38:57.806Z"
   },
   {
    "duration": 29,
    "start_time": "2024-07-01T19:38:57.810Z"
   },
   {
    "duration": 19,
    "start_time": "2024-07-01T19:38:57.841Z"
   },
   {
    "duration": 42,
    "start_time": "2024-07-01T19:38:57.863Z"
   },
   {
    "duration": 34,
    "start_time": "2024-07-01T19:38:57.907Z"
   },
   {
    "duration": 16,
    "start_time": "2024-07-01T19:38:57.943Z"
   },
   {
    "duration": 16,
    "start_time": "2024-07-01T19:38:57.961Z"
   },
   {
    "duration": 60,
    "start_time": "2024-07-01T19:38:57.979Z"
   },
   {
    "duration": 8,
    "start_time": "2024-07-01T19:38:58.041Z"
   },
   {
    "duration": 11,
    "start_time": "2024-07-01T19:38:58.051Z"
   },
   {
    "duration": 9,
    "start_time": "2024-07-01T19:38:58.063Z"
   },
   {
    "duration": 15,
    "start_time": "2024-07-01T19:38:58.073Z"
   },
   {
    "duration": 10,
    "start_time": "2024-07-01T19:38:58.090Z"
   },
   {
    "duration": 5,
    "start_time": "2024-07-01T19:38:58.101Z"
   },
   {
    "duration": 8,
    "start_time": "2024-07-01T19:38:58.108Z"
   },
   {
    "duration": 6,
    "start_time": "2024-07-01T19:38:58.118Z"
   },
   {
    "duration": 5,
    "start_time": "2024-07-01T19:38:58.126Z"
   },
   {
    "duration": 351,
    "start_time": "2024-07-01T19:38:58.133Z"
   },
   {
    "duration": 9,
    "start_time": "2024-07-01T19:38:58.486Z"
   },
   {
    "duration": 194,
    "start_time": "2024-07-01T19:38:58.497Z"
   },
   {
    "duration": 13,
    "start_time": "2024-07-01T19:38:58.693Z"
   },
   {
    "duration": 400,
    "start_time": "2024-07-01T19:38:58.711Z"
   },
   {
    "duration": 11,
    "start_time": "2024-07-01T19:38:59.113Z"
   },
   {
    "duration": 382,
    "start_time": "2024-07-01T19:38:59.126Z"
   },
   {
    "duration": 101,
    "start_time": "2024-07-01T19:38:59.510Z"
   },
   {
    "duration": 0,
    "start_time": "2024-07-01T19:38:59.613Z"
   },
   {
    "duration": 0,
    "start_time": "2024-07-01T19:38:59.614Z"
   },
   {
    "duration": 0,
    "start_time": "2024-07-01T19:38:59.616Z"
   },
   {
    "duration": 0,
    "start_time": "2024-07-01T19:38:59.617Z"
   },
   {
    "duration": 0,
    "start_time": "2024-07-01T19:38:59.618Z"
   },
   {
    "duration": 0,
    "start_time": "2024-07-01T19:38:59.619Z"
   },
   {
    "duration": 0,
    "start_time": "2024-07-01T19:38:59.620Z"
   },
   {
    "duration": 0,
    "start_time": "2024-07-01T19:38:59.621Z"
   },
   {
    "duration": 0,
    "start_time": "2024-07-01T19:38:59.623Z"
   },
   {
    "duration": 0,
    "start_time": "2024-07-01T19:38:59.624Z"
   },
   {
    "duration": 0,
    "start_time": "2024-07-01T19:38:59.625Z"
   },
   {
    "duration": 0,
    "start_time": "2024-07-01T19:38:59.627Z"
   },
   {
    "duration": 0,
    "start_time": "2024-07-01T19:38:59.628Z"
   },
   {
    "duration": 0,
    "start_time": "2024-07-01T19:38:59.630Z"
   },
   {
    "duration": 0,
    "start_time": "2024-07-01T19:38:59.661Z"
   },
   {
    "duration": 0,
    "start_time": "2024-07-01T19:38:59.663Z"
   },
   {
    "duration": 0,
    "start_time": "2024-07-01T19:38:59.664Z"
   },
   {
    "duration": 0,
    "start_time": "2024-07-01T19:38:59.666Z"
   },
   {
    "duration": 0,
    "start_time": "2024-07-01T19:38:59.668Z"
   },
   {
    "duration": 0,
    "start_time": "2024-07-01T19:38:59.669Z"
   },
   {
    "duration": 0,
    "start_time": "2024-07-01T19:38:59.671Z"
   },
   {
    "duration": 0,
    "start_time": "2024-07-01T19:38:59.672Z"
   },
   {
    "duration": 0,
    "start_time": "2024-07-01T19:38:59.674Z"
   },
   {
    "duration": 2,
    "start_time": "2024-07-01T19:39:22.950Z"
   },
   {
    "duration": 37,
    "start_time": "2024-07-01T19:39:22.955Z"
   },
   {
    "duration": 4,
    "start_time": "2024-07-01T19:39:22.994Z"
   },
   {
    "duration": 3,
    "start_time": "2024-07-01T19:39:23.000Z"
   },
   {
    "duration": 8,
    "start_time": "2024-07-01T19:39:23.006Z"
   },
   {
    "duration": 68,
    "start_time": "2024-07-01T19:39:23.016Z"
   },
   {
    "duration": 2,
    "start_time": "2024-07-01T19:39:23.086Z"
   },
   {
    "duration": 30,
    "start_time": "2024-07-01T19:39:23.090Z"
   },
   {
    "duration": 9,
    "start_time": "2024-07-01T19:39:23.122Z"
   },
   {
    "duration": 8,
    "start_time": "2024-07-01T19:39:23.133Z"
   },
   {
    "duration": 22,
    "start_time": "2024-07-01T19:39:23.143Z"
   },
   {
    "duration": 6,
    "start_time": "2024-07-01T19:39:23.167Z"
   },
   {
    "duration": 9,
    "start_time": "2024-07-01T19:39:23.175Z"
   },
   {
    "duration": 8,
    "start_time": "2024-07-01T19:39:23.187Z"
   },
   {
    "duration": 5,
    "start_time": "2024-07-01T19:39:23.196Z"
   },
   {
    "duration": 6,
    "start_time": "2024-07-01T19:39:23.202Z"
   },
   {
    "duration": 12,
    "start_time": "2024-07-01T19:39:23.209Z"
   },
   {
    "duration": 38,
    "start_time": "2024-07-01T19:39:23.223Z"
   },
   {
    "duration": 7,
    "start_time": "2024-07-01T19:39:23.263Z"
   },
   {
    "duration": 5,
    "start_time": "2024-07-01T19:39:23.271Z"
   },
   {
    "duration": 7,
    "start_time": "2024-07-01T19:39:23.278Z"
   },
   {
    "duration": 5,
    "start_time": "2024-07-01T19:39:23.286Z"
   },
   {
    "duration": 6,
    "start_time": "2024-07-01T19:39:23.292Z"
   },
   {
    "duration": 387,
    "start_time": "2024-07-01T19:39:23.300Z"
   },
   {
    "duration": 10,
    "start_time": "2024-07-01T19:39:23.689Z"
   },
   {
    "duration": 208,
    "start_time": "2024-07-01T19:39:23.700Z"
   },
   {
    "duration": 14,
    "start_time": "2024-07-01T19:39:23.909Z"
   },
   {
    "duration": 515,
    "start_time": "2024-07-01T19:39:23.925Z"
   },
   {
    "duration": 9,
    "start_time": "2024-07-01T19:39:24.442Z"
   },
   {
    "duration": 382,
    "start_time": "2024-07-01T19:39:24.453Z"
   },
   {
    "duration": 8,
    "start_time": "2024-07-01T19:39:24.837Z"
   },
   {
    "duration": 0,
    "start_time": "2024-07-01T19:39:24.847Z"
   },
   {
    "duration": 0,
    "start_time": "2024-07-01T19:39:24.860Z"
   },
   {
    "duration": 0,
    "start_time": "2024-07-01T19:39:24.862Z"
   },
   {
    "duration": 0,
    "start_time": "2024-07-01T19:39:24.863Z"
   },
   {
    "duration": 0,
    "start_time": "2024-07-01T19:39:24.864Z"
   },
   {
    "duration": 0,
    "start_time": "2024-07-01T19:39:24.865Z"
   },
   {
    "duration": 0,
    "start_time": "2024-07-01T19:39:24.865Z"
   },
   {
    "duration": 0,
    "start_time": "2024-07-01T19:39:24.867Z"
   },
   {
    "duration": 0,
    "start_time": "2024-07-01T19:39:24.868Z"
   },
   {
    "duration": 0,
    "start_time": "2024-07-01T19:39:24.869Z"
   },
   {
    "duration": 0,
    "start_time": "2024-07-01T19:39:24.870Z"
   },
   {
    "duration": 0,
    "start_time": "2024-07-01T19:39:24.871Z"
   },
   {
    "duration": 0,
    "start_time": "2024-07-01T19:39:24.872Z"
   },
   {
    "duration": 0,
    "start_time": "2024-07-01T19:39:24.873Z"
   },
   {
    "duration": 0,
    "start_time": "2024-07-01T19:39:24.874Z"
   },
   {
    "duration": 0,
    "start_time": "2024-07-01T19:39:24.875Z"
   },
   {
    "duration": 0,
    "start_time": "2024-07-01T19:39:24.876Z"
   },
   {
    "duration": 0,
    "start_time": "2024-07-01T19:39:24.877Z"
   },
   {
    "duration": 0,
    "start_time": "2024-07-01T19:39:24.878Z"
   },
   {
    "duration": 0,
    "start_time": "2024-07-01T19:39:24.879Z"
   },
   {
    "duration": 0,
    "start_time": "2024-07-01T19:39:24.880Z"
   },
   {
    "duration": 0,
    "start_time": "2024-07-01T19:39:24.881Z"
   },
   {
    "duration": 0,
    "start_time": "2024-07-01T19:39:24.882Z"
   },
   {
    "duration": 10,
    "start_time": "2024-07-01T19:40:41.979Z"
   },
   {
    "duration": 363,
    "start_time": "2024-07-01T19:40:51.216Z"
   },
   {
    "duration": 274,
    "start_time": "2024-07-01T19:40:51.581Z"
   },
   {
    "duration": 5,
    "start_time": "2024-07-01T19:40:51.857Z"
   },
   {
    "duration": 562,
    "start_time": "2024-07-01T19:40:51.864Z"
   },
   {
    "duration": 3,
    "start_time": "2024-07-01T19:40:52.427Z"
   },
   {
    "duration": 82,
    "start_time": "2024-07-01T19:40:52.432Z"
   },
   {
    "duration": 2,
    "start_time": "2024-07-01T19:40:52.516Z"
   },
   {
    "duration": 42,
    "start_time": "2024-07-01T19:40:52.519Z"
   },
   {
    "duration": 11,
    "start_time": "2024-07-01T19:40:52.562Z"
   },
   {
    "duration": 10,
    "start_time": "2024-07-01T19:40:52.576Z"
   },
   {
    "duration": 22,
    "start_time": "2024-07-01T19:40:52.588Z"
   },
   {
    "duration": 21,
    "start_time": "2024-07-01T19:40:52.612Z"
   },
   {
    "duration": 30,
    "start_time": "2024-07-01T19:40:52.635Z"
   },
   {
    "duration": 20,
    "start_time": "2024-07-01T19:40:52.667Z"
   },
   {
    "duration": 10,
    "start_time": "2024-07-01T19:40:52.689Z"
   },
   {
    "duration": 15,
    "start_time": "2024-07-01T19:40:52.701Z"
   },
   {
    "duration": 30,
    "start_time": "2024-07-01T19:40:52.717Z"
   },
   {
    "duration": 19,
    "start_time": "2024-07-01T19:40:52.748Z"
   },
   {
    "duration": 18,
    "start_time": "2024-07-01T19:40:52.769Z"
   },
   {
    "duration": 19,
    "start_time": "2024-07-01T19:40:52.789Z"
   },
   {
    "duration": 16,
    "start_time": "2024-07-01T19:40:52.810Z"
   },
   {
    "duration": 13,
    "start_time": "2024-07-01T19:40:52.828Z"
   },
   {
    "duration": 30,
    "start_time": "2024-07-01T19:40:52.843Z"
   },
   {
    "duration": 311,
    "start_time": "2024-07-01T19:40:52.875Z"
   },
   {
    "duration": 10,
    "start_time": "2024-07-01T19:40:53.187Z"
   },
   {
    "duration": 227,
    "start_time": "2024-07-01T19:40:53.198Z"
   },
   {
    "duration": 14,
    "start_time": "2024-07-01T19:40:53.426Z"
   },
   {
    "duration": 494,
    "start_time": "2024-07-01T19:40:53.460Z"
   },
   {
    "duration": 13,
    "start_time": "2024-07-01T19:40:53.956Z"
   },
   {
    "duration": 456,
    "start_time": "2024-07-01T19:40:53.970Z"
   },
   {
    "duration": 10,
    "start_time": "2024-07-01T19:40:54.428Z"
   },
   {
    "duration": 91,
    "start_time": "2024-07-01T19:40:54.439Z"
   },
   {
    "duration": 50,
    "start_time": "2024-07-01T19:40:54.532Z"
   },
   {
    "duration": 8,
    "start_time": "2024-07-01T19:40:54.584Z"
   },
   {
    "duration": 36,
    "start_time": "2024-07-01T19:40:54.594Z"
   },
   {
    "duration": 13,
    "start_time": "2024-07-01T19:40:54.631Z"
   },
   {
    "duration": 15,
    "start_time": "2024-07-01T19:40:54.646Z"
   },
   {
    "duration": 289,
    "start_time": "2024-07-01T19:40:54.663Z"
   },
   {
    "duration": 314,
    "start_time": "2024-07-01T19:40:54.961Z"
   },
   {
    "duration": 237,
    "start_time": "2024-07-01T19:40:55.277Z"
   },
   {
    "duration": 8,
    "start_time": "2024-07-01T19:40:55.515Z"
   },
   {
    "duration": 16,
    "start_time": "2024-07-01T19:40:55.525Z"
   },
   {
    "duration": 18,
    "start_time": "2024-07-01T19:40:55.542Z"
   },
   {
    "duration": 10,
    "start_time": "2024-07-01T19:40:55.562Z"
   },
   {
    "duration": 9,
    "start_time": "2024-07-01T19:40:55.573Z"
   },
   {
    "duration": 12,
    "start_time": "2024-07-01T19:40:55.584Z"
   },
   {
    "duration": 37,
    "start_time": "2024-07-01T19:40:55.598Z"
   },
   {
    "duration": 27,
    "start_time": "2024-07-01T19:40:55.636Z"
   },
   {
    "duration": 18,
    "start_time": "2024-07-01T19:40:55.665Z"
   },
   {
    "duration": 7,
    "start_time": "2024-07-01T19:40:55.685Z"
   },
   {
    "duration": 6,
    "start_time": "2024-07-01T19:40:55.693Z"
   },
   {
    "duration": 13,
    "start_time": "2024-07-01T19:40:55.701Z"
   },
   {
    "duration": 17,
    "start_time": "2024-07-01T19:40:55.716Z"
   },
   {
    "duration": 85,
    "start_time": "2024-07-01T19:40:55.735Z"
   },
   {
    "duration": 335,
    "start_time": "2024-07-02T01:10:14.455Z"
   },
   {
    "duration": 202,
    "start_time": "2024-07-02T01:10:14.791Z"
   },
   {
    "duration": 3,
    "start_time": "2024-07-02T01:10:14.994Z"
   },
   {
    "duration": 428,
    "start_time": "2024-07-02T01:10:14.999Z"
   },
   {
    "duration": 3,
    "start_time": "2024-07-02T01:10:15.429Z"
   },
   {
    "duration": 76,
    "start_time": "2024-07-02T01:10:15.433Z"
   },
   {
    "duration": 3,
    "start_time": "2024-07-02T01:10:15.511Z"
   },
   {
    "duration": 26,
    "start_time": "2024-07-02T01:10:15.516Z"
   },
   {
    "duration": 13,
    "start_time": "2024-07-02T01:10:15.543Z"
   },
   {
    "duration": 112,
    "start_time": "2024-07-02T01:10:15.559Z"
   },
   {
    "duration": 154,
    "start_time": "2024-07-02T01:10:15.673Z"
   },
   {
    "duration": 88,
    "start_time": "2024-07-02T01:10:15.828Z"
   },
   {
    "duration": 14,
    "start_time": "2024-07-02T01:10:15.918Z"
   },
   {
    "duration": 10,
    "start_time": "2024-07-02T01:10:15.934Z"
   },
   {
    "duration": 5,
    "start_time": "2024-07-02T01:10:15.946Z"
   },
   {
    "duration": 6,
    "start_time": "2024-07-02T01:10:15.953Z"
   },
   {
    "duration": 12,
    "start_time": "2024-07-02T01:10:15.961Z"
   },
   {
    "duration": 5,
    "start_time": "2024-07-02T01:10:15.974Z"
   },
   {
    "duration": 30,
    "start_time": "2024-07-02T01:10:15.981Z"
   },
   {
    "duration": 10,
    "start_time": "2024-07-02T01:10:16.013Z"
   },
   {
    "duration": 6,
    "start_time": "2024-07-02T01:10:16.025Z"
   },
   {
    "duration": 4,
    "start_time": "2024-07-02T01:10:16.032Z"
   },
   {
    "duration": 5,
    "start_time": "2024-07-02T01:10:16.038Z"
   },
   {
    "duration": 267,
    "start_time": "2024-07-02T01:10:16.044Z"
   },
   {
    "duration": 7,
    "start_time": "2024-07-02T01:10:16.312Z"
   },
   {
    "duration": 207,
    "start_time": "2024-07-02T01:10:16.321Z"
   },
   {
    "duration": 12,
    "start_time": "2024-07-02T01:10:16.529Z"
   },
   {
    "duration": 379,
    "start_time": "2024-07-02T01:10:16.544Z"
   },
   {
    "duration": 8,
    "start_time": "2024-07-02T01:10:16.924Z"
   },
   {
    "duration": 310,
    "start_time": "2024-07-02T01:10:16.933Z"
   },
   {
    "duration": 8,
    "start_time": "2024-07-02T01:10:17.244Z"
   },
   {
    "duration": 88,
    "start_time": "2024-07-02T01:10:17.253Z"
   },
   {
    "duration": 33,
    "start_time": "2024-07-02T01:10:17.343Z"
   },
   {
    "duration": 7,
    "start_time": "2024-07-02T01:10:17.378Z"
   },
   {
    "duration": 41,
    "start_time": "2024-07-02T01:10:17.387Z"
   },
   {
    "duration": 16,
    "start_time": "2024-07-02T01:10:17.431Z"
   },
   {
    "duration": 4,
    "start_time": "2024-07-02T01:10:17.448Z"
   },
   {
    "duration": 261,
    "start_time": "2024-07-02T01:10:17.454Z"
   },
   {
    "duration": 254,
    "start_time": "2024-07-02T01:10:17.717Z"
   },
   {
    "duration": 183,
    "start_time": "2024-07-02T01:10:17.972Z"
   },
   {
    "duration": 7,
    "start_time": "2024-07-02T01:10:18.157Z"
   },
   {
    "duration": 6,
    "start_time": "2024-07-02T01:10:18.165Z"
   },
   {
    "duration": 6,
    "start_time": "2024-07-02T01:10:18.173Z"
   },
   {
    "duration": 7,
    "start_time": "2024-07-02T01:10:18.180Z"
   },
   {
    "duration": 7,
    "start_time": "2024-07-02T01:10:18.209Z"
   },
   {
    "duration": 15,
    "start_time": "2024-07-02T01:10:18.217Z"
   },
   {
    "duration": 32,
    "start_time": "2024-07-02T01:10:18.233Z"
   },
   {
    "duration": 2,
    "start_time": "2024-07-02T01:10:18.267Z"
   },
   {
    "duration": 14,
    "start_time": "2024-07-02T01:10:18.271Z"
   },
   {
    "duration": 32,
    "start_time": "2024-07-02T01:10:18.287Z"
   },
   {
    "duration": 13,
    "start_time": "2024-07-02T01:10:18.320Z"
   },
   {
    "duration": 16,
    "start_time": "2024-07-02T01:10:18.335Z"
   },
   {
    "duration": 14,
    "start_time": "2024-07-02T01:10:18.352Z"
   },
   {
    "duration": 63,
    "start_time": "2024-07-02T01:10:18.368Z"
   },
   {
    "duration": 104,
    "start_time": "2024-07-02T01:16:59.292Z"
   },
   {
    "duration": 4,
    "start_time": "2024-07-02T01:17:05.995Z"
   },
   {
    "duration": 382,
    "start_time": "2024-07-02T01:22:25.272Z"
   },
   {
    "duration": 213,
    "start_time": "2024-07-02T01:22:25.656Z"
   },
   {
    "duration": 2,
    "start_time": "2024-07-02T01:22:25.871Z"
   },
   {
    "duration": 460,
    "start_time": "2024-07-02T01:22:25.874Z"
   },
   {
    "duration": 2,
    "start_time": "2024-07-02T01:22:26.343Z"
   },
   {
    "duration": 80,
    "start_time": "2024-07-02T01:22:26.348Z"
   },
   {
    "duration": 3,
    "start_time": "2024-07-02T01:22:26.430Z"
   },
   {
    "duration": 21,
    "start_time": "2024-07-02T01:22:26.435Z"
   },
   {
    "duration": 14,
    "start_time": "2024-07-02T01:22:26.457Z"
   },
   {
    "duration": 7,
    "start_time": "2024-07-02T01:22:26.472Z"
   },
   {
    "duration": 6,
    "start_time": "2024-07-02T01:22:26.480Z"
   },
   {
    "duration": 8,
    "start_time": "2024-07-02T01:22:26.488Z"
   },
   {
    "duration": 7,
    "start_time": "2024-07-02T01:22:26.509Z"
   },
   {
    "duration": 13,
    "start_time": "2024-07-02T01:22:26.519Z"
   },
   {
    "duration": 13,
    "start_time": "2024-07-02T01:22:26.534Z"
   },
   {
    "duration": 12,
    "start_time": "2024-07-02T01:22:26.549Z"
   },
   {
    "duration": 10,
    "start_time": "2024-07-02T01:22:26.562Z"
   },
   {
    "duration": 6,
    "start_time": "2024-07-02T01:22:26.573Z"
   },
   {
    "duration": 7,
    "start_time": "2024-07-02T01:22:26.581Z"
   },
   {
    "duration": 4,
    "start_time": "2024-07-02T01:22:26.589Z"
   },
   {
    "duration": 5,
    "start_time": "2024-07-02T01:22:26.609Z"
   },
   {
    "duration": 22,
    "start_time": "2024-07-02T01:22:26.615Z"
   },
   {
    "duration": 6,
    "start_time": "2024-07-02T01:22:26.638Z"
   },
   {
    "duration": 257,
    "start_time": "2024-07-02T01:22:26.645Z"
   },
   {
    "duration": 8,
    "start_time": "2024-07-02T01:22:26.909Z"
   },
   {
    "duration": 189,
    "start_time": "2024-07-02T01:22:26.918Z"
   },
   {
    "duration": 11,
    "start_time": "2024-07-02T01:22:27.109Z"
   },
   {
    "duration": 323,
    "start_time": "2024-07-02T01:22:27.121Z"
   },
   {
    "duration": 10,
    "start_time": "2024-07-02T01:22:27.446Z"
   },
   {
    "duration": 380,
    "start_time": "2024-07-02T01:22:27.457Z"
   },
   {
    "duration": 8,
    "start_time": "2024-07-02T01:22:27.839Z"
   },
   {
    "duration": 93,
    "start_time": "2024-07-02T01:22:27.848Z"
   },
   {
    "duration": 40,
    "start_time": "2024-07-02T01:22:27.943Z"
   },
   {
    "duration": 25,
    "start_time": "2024-07-02T01:22:27.985Z"
   },
   {
    "duration": 15,
    "start_time": "2024-07-02T01:22:28.011Z"
   },
   {
    "duration": 12,
    "start_time": "2024-07-02T01:22:28.028Z"
   },
   {
    "duration": 2,
    "start_time": "2024-07-02T01:22:28.042Z"
   },
   {
    "duration": 252,
    "start_time": "2024-07-02T01:22:28.046Z"
   },
   {
    "duration": 246,
    "start_time": "2024-07-02T01:22:28.299Z"
   },
   {
    "duration": 185,
    "start_time": "2024-07-02T01:22:28.547Z"
   },
   {
    "duration": 7,
    "start_time": "2024-07-02T01:22:28.735Z"
   },
   {
    "duration": 11,
    "start_time": "2024-07-02T01:22:28.744Z"
   },
   {
    "duration": 14,
    "start_time": "2024-07-02T01:22:28.756Z"
   },
   {
    "duration": 7,
    "start_time": "2024-07-02T01:22:28.771Z"
   },
   {
    "duration": 12,
    "start_time": "2024-07-02T01:22:28.779Z"
   },
   {
    "duration": 22,
    "start_time": "2024-07-02T01:22:28.793Z"
   },
   {
    "duration": 32,
    "start_time": "2024-07-02T01:22:28.816Z"
   },
   {
    "duration": 2,
    "start_time": "2024-07-02T01:22:28.850Z"
   },
   {
    "duration": 12,
    "start_time": "2024-07-02T01:22:28.853Z"
   },
   {
    "duration": 6,
    "start_time": "2024-07-02T01:22:28.866Z"
   },
   {
    "duration": 5,
    "start_time": "2024-07-02T01:22:28.874Z"
   },
   {
    "duration": 5,
    "start_time": "2024-07-02T01:22:28.880Z"
   },
   {
    "duration": 28,
    "start_time": "2024-07-02T01:22:28.885Z"
   },
   {
    "duration": 52,
    "start_time": "2024-07-02T01:22:28.915Z"
   },
   {
    "duration": 678,
    "start_time": "2024-07-02T06:08:28.368Z"
   },
   {
    "duration": 444,
    "start_time": "2024-07-02T06:08:31.562Z"
   },
   {
    "duration": 2,
    "start_time": "2024-07-02T06:08:33.494Z"
   },
   {
    "duration": 102,
    "start_time": "2024-07-02T09:22:05.157Z"
   },
   {
    "duration": 9,
    "start_time": "2024-07-02T09:22:13.553Z"
   },
   {
    "duration": 3,
    "start_time": "2024-07-02T09:22:36.713Z"
   },
   {
    "duration": 81,
    "start_time": "2024-07-02T09:22:36.718Z"
   },
   {
    "duration": 72,
    "start_time": "2024-07-02T09:22:36.804Z"
   },
   {
    "duration": 298,
    "start_time": "2024-07-02T09:22:36.877Z"
   },
   {
    "duration": 2,
    "start_time": "2024-07-02T09:22:37.178Z"
   },
   {
    "duration": 30,
    "start_time": "2024-07-02T09:22:37.181Z"
   },
   {
    "duration": 17,
    "start_time": "2024-07-02T09:22:37.212Z"
   },
   {
    "duration": 16,
    "start_time": "2024-07-02T09:22:37.230Z"
   },
   {
    "duration": 13,
    "start_time": "2024-07-02T09:22:37.247Z"
   },
   {
    "duration": 7,
    "start_time": "2024-07-02T09:22:37.261Z"
   },
   {
    "duration": 7,
    "start_time": "2024-07-02T09:22:37.269Z"
   },
   {
    "duration": 13,
    "start_time": "2024-07-02T09:22:37.277Z"
   },
   {
    "duration": 7,
    "start_time": "2024-07-02T09:22:37.292Z"
   },
   {
    "duration": 16,
    "start_time": "2024-07-02T09:22:37.302Z"
   },
   {
    "duration": 9,
    "start_time": "2024-07-02T09:22:37.319Z"
   },
   {
    "duration": 15,
    "start_time": "2024-07-02T09:22:37.329Z"
   },
   {
    "duration": 9,
    "start_time": "2024-07-02T09:22:37.346Z"
   },
   {
    "duration": 5,
    "start_time": "2024-07-02T09:22:37.356Z"
   },
   {
    "duration": 7,
    "start_time": "2024-07-02T09:22:37.362Z"
   },
   {
    "duration": 19,
    "start_time": "2024-07-02T09:22:37.370Z"
   },
   {
    "duration": 6,
    "start_time": "2024-07-02T09:22:37.391Z"
   },
   {
    "duration": 425,
    "start_time": "2024-07-02T09:22:37.398Z"
   },
   {
    "duration": 8,
    "start_time": "2024-07-02T09:22:37.825Z"
   },
   {
    "duration": 219,
    "start_time": "2024-07-02T09:22:37.834Z"
   },
   {
    "duration": 13,
    "start_time": "2024-07-02T09:22:38.054Z"
   },
   {
    "duration": 350,
    "start_time": "2024-07-02T09:22:38.069Z"
   },
   {
    "duration": 10,
    "start_time": "2024-07-02T09:22:38.421Z"
   },
   {
    "duration": 369,
    "start_time": "2024-07-02T09:22:38.433Z"
   },
   {
    "duration": 11,
    "start_time": "2024-07-02T09:22:38.806Z"
   },
   {
    "duration": 131,
    "start_time": "2024-07-02T09:22:38.819Z"
   },
   {
    "duration": 41,
    "start_time": "2024-07-02T09:22:38.952Z"
   },
   {
    "duration": 11,
    "start_time": "2024-07-02T09:22:38.995Z"
   },
   {
    "duration": 41,
    "start_time": "2024-07-02T09:22:39.008Z"
   },
   {
    "duration": 16,
    "start_time": "2024-07-02T09:22:39.050Z"
   },
   {
    "duration": 24,
    "start_time": "2024-07-02T09:22:39.068Z"
   },
   {
    "duration": 268,
    "start_time": "2024-07-02T09:22:39.093Z"
   },
   {
    "duration": 271,
    "start_time": "2024-07-02T09:22:39.363Z"
   },
   {
    "duration": 200,
    "start_time": "2024-07-02T09:22:39.636Z"
   },
   {
    "duration": 7,
    "start_time": "2024-07-02T09:22:39.838Z"
   },
   {
    "duration": 23,
    "start_time": "2024-07-02T09:22:39.846Z"
   },
   {
    "duration": 8,
    "start_time": "2024-07-02T09:22:39.871Z"
   },
   {
    "duration": 8,
    "start_time": "2024-07-02T09:22:39.881Z"
   },
   {
    "duration": 16,
    "start_time": "2024-07-02T09:22:39.891Z"
   },
   {
    "duration": 84,
    "start_time": "2024-07-02T09:22:39.909Z"
   },
   {
    "duration": 42,
    "start_time": "2024-07-02T09:22:39.994Z"
   },
   {
    "duration": 9,
    "start_time": "2024-07-02T09:22:40.037Z"
   },
   {
    "duration": 226,
    "start_time": "2024-07-02T09:22:40.047Z"
   },
   {
    "duration": 8,
    "start_time": "2024-07-02T09:22:40.274Z"
   },
   {
    "duration": 12,
    "start_time": "2024-07-02T09:22:40.283Z"
   },
   {
    "duration": 5,
    "start_time": "2024-07-02T09:22:40.297Z"
   },
   {
    "duration": 9,
    "start_time": "2024-07-02T09:22:40.305Z"
   },
   {
    "duration": 52,
    "start_time": "2024-07-02T09:22:40.315Z"
   },
   {
    "duration": 210,
    "start_time": "2024-07-02T09:23:29.540Z"
   },
   {
    "duration": 218,
    "start_time": "2024-07-02T09:24:12.527Z"
   },
   {
    "duration": 249,
    "start_time": "2024-07-02T09:24:23.281Z"
   },
   {
    "duration": 90,
    "start_time": "2024-07-02T09:30:00.668Z"
   },
   {
    "duration": 37,
    "start_time": "2024-07-02T09:30:29.461Z"
   },
   {
    "duration": 41,
    "start_time": "2024-07-02T09:35:11.319Z"
   },
   {
    "duration": 32,
    "start_time": "2024-07-02T09:35:15.712Z"
   },
   {
    "duration": 3,
    "start_time": "2024-07-02T09:35:18.659Z"
   },
   {
    "duration": 37,
    "start_time": "2024-07-02T10:13:36.869Z"
   },
   {
    "duration": 3,
    "start_time": "2024-07-02T10:13:38.010Z"
   },
   {
    "duration": 10,
    "start_time": "2024-07-02T10:14:02.789Z"
   },
   {
    "duration": 53,
    "start_time": "2024-07-02T12:15:40.761Z"
   },
   {
    "duration": 57,
    "start_time": "2024-07-02T12:15:55.636Z"
   },
   {
    "duration": 684,
    "start_time": "2024-07-02T12:29:31.562Z"
   },
   {
    "duration": 503,
    "start_time": "2024-07-02T12:29:32.248Z"
   },
   {
    "duration": 2,
    "start_time": "2024-07-02T12:29:32.753Z"
   },
   {
    "duration": 85,
    "start_time": "2024-07-02T12:29:32.757Z"
   },
   {
    "duration": 2,
    "start_time": "2024-07-02T12:29:32.844Z"
   },
   {
    "duration": 39,
    "start_time": "2024-07-02T12:29:32.848Z"
   },
   {
    "duration": 20,
    "start_time": "2024-07-02T12:29:32.888Z"
   },
   {
    "duration": 10,
    "start_time": "2024-07-02T12:29:32.912Z"
   },
   {
    "duration": 10,
    "start_time": "2024-07-02T12:29:32.923Z"
   },
   {
    "duration": 9,
    "start_time": "2024-07-02T12:29:32.935Z"
   },
   {
    "duration": 8,
    "start_time": "2024-07-02T12:29:32.945Z"
   },
   {
    "duration": 16,
    "start_time": "2024-07-02T12:29:32.954Z"
   },
   {
    "duration": 23,
    "start_time": "2024-07-02T12:29:32.972Z"
   },
   {
    "duration": 8,
    "start_time": "2024-07-02T12:29:32.999Z"
   },
   {
    "duration": 7,
    "start_time": "2024-07-02T12:29:33.009Z"
   },
   {
    "duration": 4,
    "start_time": "2024-07-02T12:29:33.018Z"
   },
   {
    "duration": 13,
    "start_time": "2024-07-02T12:29:33.024Z"
   },
   {
    "duration": 5,
    "start_time": "2024-07-02T12:29:33.039Z"
   },
   {
    "duration": 15,
    "start_time": "2024-07-02T12:29:33.045Z"
   },
   {
    "duration": 4,
    "start_time": "2024-07-02T12:29:33.061Z"
   },
   {
    "duration": 24,
    "start_time": "2024-07-02T12:29:33.066Z"
   },
   {
    "duration": 321,
    "start_time": "2024-07-02T12:29:33.093Z"
   },
   {
    "duration": 9,
    "start_time": "2024-07-02T12:29:33.415Z"
   },
   {
    "duration": 211,
    "start_time": "2024-07-02T12:29:33.425Z"
   },
   {
    "duration": 11,
    "start_time": "2024-07-02T12:29:33.637Z"
   },
   {
    "duration": 373,
    "start_time": "2024-07-02T12:29:33.650Z"
   },
   {
    "duration": 10,
    "start_time": "2024-07-02T12:29:34.024Z"
   },
   {
    "duration": 396,
    "start_time": "2024-07-02T12:29:34.035Z"
   },
   {
    "duration": 10,
    "start_time": "2024-07-02T12:29:34.432Z"
   },
   {
    "duration": 89,
    "start_time": "2024-07-02T12:29:34.443Z"
   },
   {
    "duration": 34,
    "start_time": "2024-07-02T12:29:34.533Z"
   },
   {
    "duration": 21,
    "start_time": "2024-07-02T12:29:34.569Z"
   },
   {
    "duration": 22,
    "start_time": "2024-07-02T12:29:34.592Z"
   },
   {
    "duration": 42,
    "start_time": "2024-07-02T12:29:34.615Z"
   },
   {
    "duration": 6,
    "start_time": "2024-07-02T12:29:34.658Z"
   },
   {
    "duration": 276,
    "start_time": "2024-07-02T12:29:34.665Z"
   },
   {
    "duration": 297,
    "start_time": "2024-07-02T12:29:34.942Z"
   },
   {
    "duration": 221,
    "start_time": "2024-07-02T12:29:35.240Z"
   },
   {
    "duration": 7,
    "start_time": "2024-07-02T12:29:35.463Z"
   },
   {
    "duration": 30,
    "start_time": "2024-07-02T12:29:35.471Z"
   },
   {
    "duration": 10,
    "start_time": "2024-07-02T12:29:35.507Z"
   },
   {
    "duration": 7,
    "start_time": "2024-07-02T12:29:35.518Z"
   },
   {
    "duration": 7,
    "start_time": "2024-07-02T12:29:35.526Z"
   },
   {
    "duration": 10,
    "start_time": "2024-07-02T12:29:35.534Z"
   },
   {
    "duration": 73,
    "start_time": "2024-07-02T12:29:35.545Z"
   },
   {
    "duration": 3,
    "start_time": "2024-07-02T12:29:35.619Z"
   },
   {
    "duration": 13,
    "start_time": "2024-07-02T12:29:35.623Z"
   },
   {
    "duration": 10,
    "start_time": "2024-07-02T12:29:35.637Z"
   },
   {
    "duration": 16,
    "start_time": "2024-07-02T12:29:35.648Z"
   },
   {
    "duration": 19,
    "start_time": "2024-07-02T12:29:35.665Z"
   },
   {
    "duration": 66,
    "start_time": "2024-07-02T12:29:35.685Z"
   },
   {
    "duration": 203,
    "start_time": "2024-07-02T12:39:39.506Z"
   },
   {
    "duration": 233,
    "start_time": "2024-07-02T12:43:23.955Z"
   },
   {
    "duration": 5,
    "start_time": "2024-07-02T12:51:49.950Z"
   },
   {
    "duration": 614,
    "start_time": "2024-07-02T12:52:54.841Z"
   },
   {
    "duration": 474,
    "start_time": "2024-07-02T12:52:55.457Z"
   },
   {
    "duration": 3,
    "start_time": "2024-07-02T12:52:55.933Z"
   },
   {
    "duration": 86,
    "start_time": "2024-07-02T12:52:55.938Z"
   },
   {
    "duration": 2,
    "start_time": "2024-07-02T12:52:56.026Z"
   },
   {
    "duration": 29,
    "start_time": "2024-07-02T12:52:56.029Z"
   },
   {
    "duration": 11,
    "start_time": "2024-07-02T12:52:56.060Z"
   },
   {
    "duration": 11,
    "start_time": "2024-07-02T12:52:56.072Z"
   },
   {
    "duration": 22,
    "start_time": "2024-07-02T12:52:56.085Z"
   },
   {
    "duration": 39,
    "start_time": "2024-07-02T12:52:56.109Z"
   },
   {
    "duration": 19,
    "start_time": "2024-07-02T12:52:56.150Z"
   },
   {
    "duration": 8,
    "start_time": "2024-07-02T12:52:56.171Z"
   },
   {
    "duration": 4,
    "start_time": "2024-07-02T12:52:56.180Z"
   },
   {
    "duration": 11,
    "start_time": "2024-07-02T12:52:56.188Z"
   },
   {
    "duration": 19,
    "start_time": "2024-07-02T12:52:56.201Z"
   },
   {
    "duration": 11,
    "start_time": "2024-07-02T12:52:56.221Z"
   },
   {
    "duration": 11,
    "start_time": "2024-07-02T12:52:56.233Z"
   },
   {
    "duration": 19,
    "start_time": "2024-07-02T12:52:56.246Z"
   },
   {
    "duration": 85,
    "start_time": "2024-07-02T12:52:56.266Z"
   },
   {
    "duration": 5,
    "start_time": "2024-07-02T12:52:56.352Z"
   },
   {
    "duration": 5,
    "start_time": "2024-07-02T12:52:56.358Z"
   },
   {
    "duration": 350,
    "start_time": "2024-07-02T12:52:56.364Z"
   },
   {
    "duration": 7,
    "start_time": "2024-07-02T12:52:56.716Z"
   },
   {
    "duration": 193,
    "start_time": "2024-07-02T12:52:56.725Z"
   },
   {
    "duration": 11,
    "start_time": "2024-07-02T12:52:56.920Z"
   },
   {
    "duration": 406,
    "start_time": "2024-07-02T12:52:56.933Z"
   },
   {
    "duration": 8,
    "start_time": "2024-07-02T12:52:57.341Z"
   },
   {
    "duration": 388,
    "start_time": "2024-07-02T12:52:57.350Z"
   },
   {
    "duration": 9,
    "start_time": "2024-07-02T12:52:57.740Z"
   },
   {
    "duration": 117,
    "start_time": "2024-07-02T12:52:57.750Z"
   },
   {
    "duration": 46,
    "start_time": "2024-07-02T12:52:57.868Z"
   },
   {
    "duration": 16,
    "start_time": "2024-07-02T12:52:57.916Z"
   },
   {
    "duration": 38,
    "start_time": "2024-07-02T12:52:57.933Z"
   },
   {
    "duration": 72,
    "start_time": "2024-07-02T12:52:57.973Z"
   },
   {
    "duration": 34,
    "start_time": "2024-07-02T12:52:58.046Z"
   },
   {
    "duration": 284,
    "start_time": "2024-07-02T12:52:58.082Z"
   },
   {
    "duration": 290,
    "start_time": "2024-07-02T12:52:58.368Z"
   },
   {
    "duration": 199,
    "start_time": "2024-07-02T12:52:58.659Z"
   },
   {
    "duration": 7,
    "start_time": "2024-07-02T12:52:58.860Z"
   },
   {
    "duration": 22,
    "start_time": "2024-07-02T12:52:58.868Z"
   },
   {
    "duration": 65,
    "start_time": "2024-07-02T12:52:58.896Z"
   },
   {
    "duration": 16,
    "start_time": "2024-07-02T12:52:58.963Z"
   },
   {
    "duration": 47,
    "start_time": "2024-07-02T12:52:58.980Z"
   },
   {
    "duration": 110,
    "start_time": "2024-07-02T12:52:59.028Z"
   },
   {
    "duration": 47,
    "start_time": "2024-07-02T12:52:59.139Z"
   },
   {
    "duration": 3,
    "start_time": "2024-07-02T12:52:59.187Z"
   },
   {
    "duration": 35,
    "start_time": "2024-07-02T12:52:59.192Z"
   },
   {
    "duration": 6,
    "start_time": "2024-07-02T12:52:59.228Z"
   },
   {
    "duration": 16,
    "start_time": "2024-07-02T12:52:59.235Z"
   },
   {
    "duration": 9,
    "start_time": "2024-07-02T12:52:59.253Z"
   },
   {
    "duration": 8,
    "start_time": "2024-07-02T12:52:59.263Z"
   },
   {
    "duration": 155,
    "start_time": "2024-07-02T12:59:44.926Z"
   },
   {
    "duration": 188,
    "start_time": "2024-07-02T13:00:18.510Z"
   },
   {
    "duration": 239,
    "start_time": "2024-07-02T13:27:11.202Z"
   },
   {
    "duration": 193,
    "start_time": "2024-07-02T13:32:05.819Z"
   },
   {
    "duration": 602,
    "start_time": "2024-07-02T13:36:06.195Z"
   },
   {
    "duration": 435,
    "start_time": "2024-07-02T13:36:06.799Z"
   },
   {
    "duration": 2,
    "start_time": "2024-07-02T13:36:07.236Z"
   },
   {
    "duration": 87,
    "start_time": "2024-07-02T13:36:07.241Z"
   },
   {
    "duration": 2,
    "start_time": "2024-07-02T13:36:07.330Z"
   },
   {
    "duration": 42,
    "start_time": "2024-07-02T13:36:07.334Z"
   },
   {
    "duration": 13,
    "start_time": "2024-07-02T13:36:07.378Z"
   },
   {
    "duration": 31,
    "start_time": "2024-07-02T13:36:07.393Z"
   },
   {
    "duration": 49,
    "start_time": "2024-07-02T13:36:07.426Z"
   },
   {
    "duration": 19,
    "start_time": "2024-07-02T13:36:07.479Z"
   },
   {
    "duration": 9,
    "start_time": "2024-07-02T13:36:07.500Z"
   },
   {
    "duration": 8,
    "start_time": "2024-07-02T13:36:07.512Z"
   },
   {
    "duration": 20,
    "start_time": "2024-07-02T13:36:07.521Z"
   },
   {
    "duration": 117,
    "start_time": "2024-07-02T13:36:07.543Z"
   },
   {
    "duration": 14,
    "start_time": "2024-07-02T13:36:07.662Z"
   },
   {
    "duration": 13,
    "start_time": "2024-07-02T13:36:07.677Z"
   },
   {
    "duration": 20,
    "start_time": "2024-07-02T13:36:07.692Z"
   },
   {
    "duration": 13,
    "start_time": "2024-07-02T13:36:07.713Z"
   },
   {
    "duration": 13,
    "start_time": "2024-07-02T13:36:07.728Z"
   },
   {
    "duration": 18,
    "start_time": "2024-07-02T13:36:07.742Z"
   },
   {
    "duration": 5,
    "start_time": "2024-07-02T13:36:07.762Z"
   },
   {
    "duration": 307,
    "start_time": "2024-07-02T13:36:07.769Z"
   },
   {
    "duration": 18,
    "start_time": "2024-07-02T13:36:08.078Z"
   },
   {
    "duration": 276,
    "start_time": "2024-07-02T13:36:08.098Z"
   },
   {
    "duration": 19,
    "start_time": "2024-07-02T13:36:08.376Z"
   },
   {
    "duration": 436,
    "start_time": "2024-07-02T13:36:08.396Z"
   },
   {
    "duration": 9,
    "start_time": "2024-07-02T13:36:08.834Z"
   },
   {
    "duration": 372,
    "start_time": "2024-07-02T13:36:08.847Z"
   },
   {
    "duration": 9,
    "start_time": "2024-07-02T13:36:09.220Z"
   },
   {
    "duration": 119,
    "start_time": "2024-07-02T13:36:09.230Z"
   },
   {
    "duration": 41,
    "start_time": "2024-07-02T13:36:09.350Z"
   },
   {
    "duration": 10,
    "start_time": "2024-07-02T13:36:09.392Z"
   },
   {
    "duration": 17,
    "start_time": "2024-07-02T13:36:09.404Z"
   },
   {
    "duration": 12,
    "start_time": "2024-07-02T13:36:09.422Z"
   },
   {
    "duration": 3,
    "start_time": "2024-07-02T13:36:09.435Z"
   },
   {
    "duration": 270,
    "start_time": "2024-07-02T13:36:09.439Z"
   },
   {
    "duration": 267,
    "start_time": "2024-07-02T13:36:09.711Z"
   },
   {
    "duration": 191,
    "start_time": "2024-07-02T13:36:09.979Z"
   },
   {
    "duration": 7,
    "start_time": "2024-07-02T13:36:10.171Z"
   },
   {
    "duration": 38,
    "start_time": "2024-07-02T13:36:10.180Z"
   },
   {
    "duration": 26,
    "start_time": "2024-07-02T13:36:10.220Z"
   },
   {
    "duration": 6,
    "start_time": "2024-07-02T13:36:10.248Z"
   },
   {
    "duration": 7,
    "start_time": "2024-07-02T13:36:10.255Z"
   },
   {
    "duration": 6,
    "start_time": "2024-07-02T13:36:10.263Z"
   },
   {
    "duration": 38,
    "start_time": "2024-07-02T13:36:10.271Z"
   },
   {
    "duration": 3,
    "start_time": "2024-07-02T13:36:10.310Z"
   },
   {
    "duration": 12,
    "start_time": "2024-07-02T13:36:10.314Z"
   },
   {
    "duration": 5,
    "start_time": "2024-07-02T13:36:10.327Z"
   },
   {
    "duration": 16,
    "start_time": "2024-07-02T13:36:10.334Z"
   },
   {
    "duration": 6,
    "start_time": "2024-07-02T13:36:10.351Z"
   },
   {
    "duration": 7,
    "start_time": "2024-07-02T13:36:10.358Z"
   },
   {
    "duration": 5,
    "start_time": "2024-07-02T13:38:56.890Z"
   },
   {
    "duration": 3,
    "start_time": "2024-07-02T13:39:15.962Z"
   },
   {
    "duration": 180,
    "start_time": "2024-07-02T13:40:49.481Z"
   },
   {
    "duration": 265,
    "start_time": "2024-07-02T13:43:36.203Z"
   },
   {
    "duration": 323,
    "start_time": "2024-07-02T13:44:24.391Z"
   },
   {
    "duration": 665,
    "start_time": "2024-07-02T13:44:52.071Z"
   },
   {
    "duration": 458,
    "start_time": "2024-07-02T13:44:52.737Z"
   },
   {
    "duration": 3,
    "start_time": "2024-07-02T13:44:53.196Z"
   },
   {
    "duration": 102,
    "start_time": "2024-07-02T13:44:53.201Z"
   },
   {
    "duration": 2,
    "start_time": "2024-07-02T13:44:53.304Z"
   },
   {
    "duration": 60,
    "start_time": "2024-07-02T13:44:53.307Z"
   },
   {
    "duration": 29,
    "start_time": "2024-07-02T13:44:53.368Z"
   },
   {
    "duration": 49,
    "start_time": "2024-07-02T13:44:53.399Z"
   },
   {
    "duration": 31,
    "start_time": "2024-07-02T13:44:53.449Z"
   },
   {
    "duration": 30,
    "start_time": "2024-07-02T13:44:53.482Z"
   },
   {
    "duration": 25,
    "start_time": "2024-07-02T13:44:53.513Z"
   },
   {
    "duration": 35,
    "start_time": "2024-07-02T13:44:53.540Z"
   },
   {
    "duration": 15,
    "start_time": "2024-07-02T13:44:53.577Z"
   },
   {
    "duration": 121,
    "start_time": "2024-07-02T13:44:53.593Z"
   },
   {
    "duration": 13,
    "start_time": "2024-07-02T13:44:53.715Z"
   },
   {
    "duration": 14,
    "start_time": "2024-07-02T13:44:53.729Z"
   },
   {
    "duration": 32,
    "start_time": "2024-07-02T13:44:53.744Z"
   },
   {
    "duration": 12,
    "start_time": "2024-07-02T13:44:53.778Z"
   },
   {
    "duration": 40,
    "start_time": "2024-07-02T13:44:53.792Z"
   },
   {
    "duration": 21,
    "start_time": "2024-07-02T13:44:53.834Z"
   },
   {
    "duration": 24,
    "start_time": "2024-07-02T13:44:53.857Z"
   },
   {
    "duration": 299,
    "start_time": "2024-07-02T13:44:53.882Z"
   },
   {
    "duration": 14,
    "start_time": "2024-07-02T13:44:54.182Z"
   },
   {
    "duration": 193,
    "start_time": "2024-07-02T13:44:54.197Z"
   },
   {
    "duration": 12,
    "start_time": "2024-07-02T13:44:54.391Z"
   },
   {
    "duration": 487,
    "start_time": "2024-07-02T13:44:54.404Z"
   },
   {
    "duration": 8,
    "start_time": "2024-07-02T13:44:54.893Z"
   },
   {
    "duration": 337,
    "start_time": "2024-07-02T13:44:54.905Z"
   },
   {
    "duration": 9,
    "start_time": "2024-07-02T13:44:55.243Z"
   },
   {
    "duration": 107,
    "start_time": "2024-07-02T13:44:55.253Z"
   },
   {
    "duration": 46,
    "start_time": "2024-07-02T13:44:55.361Z"
   },
   {
    "duration": 10,
    "start_time": "2024-07-02T13:44:55.409Z"
   },
   {
    "duration": 29,
    "start_time": "2024-07-02T13:44:55.420Z"
   },
   {
    "duration": 21,
    "start_time": "2024-07-02T13:44:55.450Z"
   },
   {
    "duration": 3,
    "start_time": "2024-07-02T13:44:55.473Z"
   },
   {
    "duration": 247,
    "start_time": "2024-07-02T13:44:55.490Z"
   },
   {
    "duration": 272,
    "start_time": "2024-07-02T13:44:55.739Z"
   },
   {
    "duration": 191,
    "start_time": "2024-07-02T13:44:56.012Z"
   },
   {
    "duration": 7,
    "start_time": "2024-07-02T13:44:56.205Z"
   },
   {
    "duration": 123,
    "start_time": "2024-07-02T13:44:56.214Z"
   },
   {
    "duration": 33,
    "start_time": "2024-07-02T13:44:56.339Z"
   },
   {
    "duration": 27,
    "start_time": "2024-07-02T13:44:56.373Z"
   },
   {
    "duration": 25,
    "start_time": "2024-07-02T13:44:56.401Z"
   },
   {
    "duration": 79,
    "start_time": "2024-07-02T13:44:56.427Z"
   },
   {
    "duration": 57,
    "start_time": "2024-07-02T13:44:56.507Z"
   },
   {
    "duration": 3,
    "start_time": "2024-07-02T13:44:56.566Z"
   },
   {
    "duration": 38,
    "start_time": "2024-07-02T13:44:56.570Z"
   },
   {
    "duration": 24,
    "start_time": "2024-07-02T13:44:56.609Z"
   },
   {
    "duration": 5,
    "start_time": "2024-07-02T13:44:56.635Z"
   },
   {
    "duration": 33,
    "start_time": "2024-07-02T13:44:56.641Z"
   },
   {
    "duration": 33,
    "start_time": "2024-07-02T13:44:56.675Z"
   },
   {
    "duration": 563,
    "start_time": "2024-07-02T13:46:19.438Z"
   },
   {
    "duration": 450,
    "start_time": "2024-07-02T13:46:20.003Z"
   },
   {
    "duration": 3,
    "start_time": "2024-07-02T13:46:20.454Z"
   },
   {
    "duration": 107,
    "start_time": "2024-07-02T13:46:20.458Z"
   },
   {
    "duration": 2,
    "start_time": "2024-07-02T13:46:20.567Z"
   },
   {
    "duration": 38,
    "start_time": "2024-07-02T13:46:20.570Z"
   },
   {
    "duration": 10,
    "start_time": "2024-07-02T13:46:20.609Z"
   },
   {
    "duration": 7,
    "start_time": "2024-07-02T13:46:20.620Z"
   },
   {
    "duration": 23,
    "start_time": "2024-07-02T13:46:20.629Z"
   },
   {
    "duration": 14,
    "start_time": "2024-07-02T13:46:20.653Z"
   },
   {
    "duration": 7,
    "start_time": "2024-07-02T13:46:20.668Z"
   },
   {
    "duration": 8,
    "start_time": "2024-07-02T13:46:20.676Z"
   },
   {
    "duration": 5,
    "start_time": "2024-07-02T13:46:20.685Z"
   },
   {
    "duration": 22,
    "start_time": "2024-07-02T13:46:20.692Z"
   },
   {
    "duration": 10,
    "start_time": "2024-07-02T13:46:20.715Z"
   },
   {
    "duration": 5,
    "start_time": "2024-07-02T13:46:20.726Z"
   },
   {
    "duration": 10,
    "start_time": "2024-07-02T13:46:20.732Z"
   },
   {
    "duration": 4,
    "start_time": "2024-07-02T13:46:20.744Z"
   },
   {
    "duration": 20,
    "start_time": "2024-07-02T13:46:20.749Z"
   },
   {
    "duration": 4,
    "start_time": "2024-07-02T13:46:20.770Z"
   },
   {
    "duration": 11,
    "start_time": "2024-07-02T13:46:20.775Z"
   },
   {
    "duration": 289,
    "start_time": "2024-07-02T13:46:20.787Z"
   },
   {
    "duration": 16,
    "start_time": "2024-07-02T13:46:21.077Z"
   },
   {
    "duration": 186,
    "start_time": "2024-07-02T13:46:21.095Z"
   },
   {
    "duration": 11,
    "start_time": "2024-07-02T13:46:21.283Z"
   },
   {
    "duration": 326,
    "start_time": "2024-07-02T13:46:21.295Z"
   },
   {
    "duration": 8,
    "start_time": "2024-07-02T13:46:21.623Z"
   },
   {
    "duration": 385,
    "start_time": "2024-07-02T13:46:21.632Z"
   },
   {
    "duration": 8,
    "start_time": "2024-07-02T13:46:22.018Z"
   },
   {
    "duration": 88,
    "start_time": "2024-07-02T13:46:22.029Z"
   },
   {
    "duration": 41,
    "start_time": "2024-07-02T13:46:22.119Z"
   },
   {
    "duration": 58,
    "start_time": "2024-07-02T13:46:22.161Z"
   },
   {
    "duration": 43,
    "start_time": "2024-07-02T13:46:22.220Z"
   },
   {
    "duration": 43,
    "start_time": "2024-07-02T13:46:22.264Z"
   },
   {
    "duration": 18,
    "start_time": "2024-07-02T13:46:22.308Z"
   },
   {
    "duration": 252,
    "start_time": "2024-07-02T13:46:22.327Z"
   },
   {
    "duration": 264,
    "start_time": "2024-07-02T13:46:22.581Z"
   },
   {
    "duration": 7,
    "start_time": "2024-07-02T13:46:22.846Z"
   },
   {
    "duration": 9,
    "start_time": "2024-07-02T13:46:22.855Z"
   },
   {
    "duration": 34,
    "start_time": "2024-07-02T13:46:22.865Z"
   },
   {
    "duration": 18,
    "start_time": "2024-07-02T13:46:22.903Z"
   },
   {
    "duration": 65,
    "start_time": "2024-07-02T13:46:22.923Z"
   },
   {
    "duration": 24,
    "start_time": "2024-07-02T13:46:22.990Z"
   },
   {
    "duration": 52,
    "start_time": "2024-07-02T13:46:23.015Z"
   },
   {
    "duration": 3,
    "start_time": "2024-07-02T13:46:23.068Z"
   },
   {
    "duration": 27,
    "start_time": "2024-07-02T13:46:23.078Z"
   },
   {
    "duration": 17,
    "start_time": "2024-07-02T13:46:23.107Z"
   },
   {
    "duration": 6,
    "start_time": "2024-07-02T13:46:23.126Z"
   },
   {
    "duration": 20,
    "start_time": "2024-07-02T13:46:23.133Z"
   },
   {
    "duration": 36,
    "start_time": "2024-07-02T13:46:23.154Z"
   },
   {
    "duration": 566,
    "start_time": "2024-07-02T15:35:57.566Z"
   },
   {
    "duration": 442,
    "start_time": "2024-07-02T15:35:58.134Z"
   },
   {
    "duration": 3,
    "start_time": "2024-07-02T15:35:58.577Z"
   },
   {
    "duration": 77,
    "start_time": "2024-07-02T15:35:58.581Z"
   },
   {
    "duration": 2,
    "start_time": "2024-07-02T15:35:58.660Z"
   },
   {
    "duration": 27,
    "start_time": "2024-07-02T15:35:58.663Z"
   },
   {
    "duration": 11,
    "start_time": "2024-07-02T15:35:58.691Z"
   },
   {
    "duration": 10,
    "start_time": "2024-07-02T15:35:58.703Z"
   },
   {
    "duration": 18,
    "start_time": "2024-07-02T15:35:58.714Z"
   },
   {
    "duration": 24,
    "start_time": "2024-07-02T15:35:58.735Z"
   },
   {
    "duration": 27,
    "start_time": "2024-07-02T15:35:58.760Z"
   },
   {
    "duration": 8,
    "start_time": "2024-07-02T15:35:58.789Z"
   },
   {
    "duration": 4,
    "start_time": "2024-07-02T15:35:58.799Z"
   },
   {
    "duration": 17,
    "start_time": "2024-07-02T15:35:58.805Z"
   },
   {
    "duration": 10,
    "start_time": "2024-07-02T15:35:58.824Z"
   },
   {
    "duration": 24,
    "start_time": "2024-07-02T15:35:58.835Z"
   },
   {
    "duration": 20,
    "start_time": "2024-07-02T15:35:58.861Z"
   },
   {
    "duration": 5,
    "start_time": "2024-07-02T15:35:58.882Z"
   },
   {
    "duration": 12,
    "start_time": "2024-07-02T15:35:58.889Z"
   },
   {
    "duration": 4,
    "start_time": "2024-07-02T15:35:58.903Z"
   },
   {
    "duration": 7,
    "start_time": "2024-07-02T15:35:58.909Z"
   },
   {
    "duration": 303,
    "start_time": "2024-07-02T15:35:58.917Z"
   },
   {
    "duration": 9,
    "start_time": "2024-07-02T15:35:59.222Z"
   },
   {
    "duration": 177,
    "start_time": "2024-07-02T15:35:59.233Z"
   },
   {
    "duration": 21,
    "start_time": "2024-07-02T15:35:59.411Z"
   },
   {
    "duration": 334,
    "start_time": "2024-07-02T15:35:59.433Z"
   },
   {
    "duration": 9,
    "start_time": "2024-07-02T15:35:59.768Z"
   },
   {
    "duration": 368,
    "start_time": "2024-07-02T15:35:59.780Z"
   },
   {
    "duration": 10,
    "start_time": "2024-07-02T15:36:00.149Z"
   },
   {
    "duration": 119,
    "start_time": "2024-07-02T15:36:00.160Z"
   },
   {
    "duration": 43,
    "start_time": "2024-07-02T15:36:00.281Z"
   },
   {
    "duration": 16,
    "start_time": "2024-07-02T15:36:00.325Z"
   },
   {
    "duration": 71,
    "start_time": "2024-07-02T15:36:00.342Z"
   },
   {
    "duration": 99,
    "start_time": "2024-07-02T15:36:00.415Z"
   },
   {
    "duration": 23,
    "start_time": "2024-07-02T15:36:00.516Z"
   },
   {
    "duration": 313,
    "start_time": "2024-07-02T15:36:00.541Z"
   },
   {
    "duration": 281,
    "start_time": "2024-07-02T15:36:00.856Z"
   },
   {
    "duration": 7,
    "start_time": "2024-07-02T15:36:01.139Z"
   },
   {
    "duration": 114,
    "start_time": "2024-07-02T15:36:01.147Z"
   },
   {
    "duration": 62,
    "start_time": "2024-07-02T15:36:01.263Z"
   },
   {
    "duration": 92,
    "start_time": "2024-07-02T15:36:01.327Z"
   },
   {
    "duration": 59,
    "start_time": "2024-07-02T15:36:01.421Z"
   },
   {
    "duration": 161,
    "start_time": "2024-07-02T15:36:01.482Z"
   },
   {
    "duration": 302,
    "start_time": "2024-07-02T15:36:01.645Z"
   },
   {
    "duration": 13,
    "start_time": "2024-07-02T15:36:01.949Z"
   },
   {
    "duration": 64,
    "start_time": "2024-07-02T15:36:01.963Z"
   },
   {
    "duration": 70,
    "start_time": "2024-07-02T15:36:02.029Z"
   },
   {
    "duration": 16,
    "start_time": "2024-07-02T15:36:02.101Z"
   },
   {
    "duration": 26,
    "start_time": "2024-07-02T15:36:02.119Z"
   },
   {
    "duration": 248,
    "start_time": "2024-07-02T15:36:02.147Z"
   },
   {
    "duration": 2,
    "start_time": "2024-07-02T15:37:59.881Z"
   },
   {
    "duration": 2,
    "start_time": "2024-07-02T15:38:10.237Z"
   },
   {
    "duration": 729,
    "start_time": "2024-07-02T16:13:38.789Z"
   },
   {
    "duration": 390,
    "start_time": "2024-07-02T16:13:39.520Z"
   },
   {
    "duration": 2,
    "start_time": "2024-07-02T16:13:39.911Z"
   },
   {
    "duration": 12,
    "start_time": "2024-07-02T16:13:39.914Z"
   },
   {
    "duration": 206,
    "start_time": "2024-07-02T16:13:39.927Z"
   },
   {
    "duration": 2,
    "start_time": "2024-07-02T16:13:40.134Z"
   },
   {
    "duration": 24,
    "start_time": "2024-07-02T16:13:40.138Z"
   },
   {
    "duration": 10,
    "start_time": "2024-07-02T16:13:40.164Z"
   },
   {
    "duration": 9,
    "start_time": "2024-07-02T16:13:40.175Z"
   },
   {
    "duration": 12,
    "start_time": "2024-07-02T16:13:40.185Z"
   },
   {
    "duration": 8,
    "start_time": "2024-07-02T16:13:40.199Z"
   },
   {
    "duration": 7,
    "start_time": "2024-07-02T16:13:40.208Z"
   },
   {
    "duration": 7,
    "start_time": "2024-07-02T16:13:40.216Z"
   },
   {
    "duration": 4,
    "start_time": "2024-07-02T16:13:40.225Z"
   },
   {
    "duration": 13,
    "start_time": "2024-07-02T16:13:40.230Z"
   },
   {
    "duration": 5,
    "start_time": "2024-07-02T16:13:40.244Z"
   },
   {
    "duration": 6,
    "start_time": "2024-07-02T16:13:40.250Z"
   },
   {
    "duration": 7,
    "start_time": "2024-07-02T16:13:40.257Z"
   },
   {
    "duration": 4,
    "start_time": "2024-07-02T16:13:40.265Z"
   },
   {
    "duration": 35,
    "start_time": "2024-07-02T16:13:40.270Z"
   },
   {
    "duration": 7,
    "start_time": "2024-07-02T16:13:40.306Z"
   },
   {
    "duration": 5,
    "start_time": "2024-07-02T16:13:40.314Z"
   },
   {
    "duration": 299,
    "start_time": "2024-07-02T16:13:40.320Z"
   },
   {
    "duration": 7,
    "start_time": "2024-07-02T16:13:40.621Z"
   },
   {
    "duration": 178,
    "start_time": "2024-07-02T16:13:40.629Z"
   },
   {
    "duration": 11,
    "start_time": "2024-07-02T16:13:40.808Z"
   },
   {
    "duration": 303,
    "start_time": "2024-07-02T16:13:40.820Z"
   },
   {
    "duration": 8,
    "start_time": "2024-07-02T16:13:41.124Z"
   },
   {
    "duration": 360,
    "start_time": "2024-07-02T16:13:41.133Z"
   },
   {
    "duration": 12,
    "start_time": "2024-07-02T16:13:41.495Z"
   },
   {
    "duration": 63,
    "start_time": "2024-07-02T16:13:41.509Z"
   },
   {
    "duration": 51,
    "start_time": "2024-07-02T16:13:41.574Z"
   },
   {
    "duration": 7,
    "start_time": "2024-07-02T16:13:41.627Z"
   },
   {
    "duration": 14,
    "start_time": "2024-07-02T16:13:41.635Z"
   },
   {
    "duration": 12,
    "start_time": "2024-07-02T16:13:41.650Z"
   },
   {
    "duration": 5,
    "start_time": "2024-07-02T16:13:41.663Z"
   },
   {
    "duration": 262,
    "start_time": "2024-07-02T16:13:41.669Z"
   },
   {
    "duration": 261,
    "start_time": "2024-07-02T16:13:41.933Z"
   },
   {
    "duration": 7,
    "start_time": "2024-07-02T16:13:42.202Z"
   },
   {
    "duration": 7,
    "start_time": "2024-07-02T16:13:42.211Z"
   },
   {
    "duration": 7,
    "start_time": "2024-07-02T16:13:42.221Z"
   },
   {
    "duration": 5,
    "start_time": "2024-07-02T16:13:42.229Z"
   },
   {
    "duration": 9,
    "start_time": "2024-07-02T16:13:42.235Z"
   },
   {
    "duration": 14,
    "start_time": "2024-07-02T16:13:42.245Z"
   },
   {
    "duration": 54,
    "start_time": "2024-07-02T16:13:42.260Z"
   },
   {
    "duration": 2,
    "start_time": "2024-07-02T16:13:42.316Z"
   },
   {
    "duration": 10,
    "start_time": "2024-07-02T16:13:42.319Z"
   },
   {
    "duration": 5,
    "start_time": "2024-07-02T16:13:42.331Z"
   },
   {
    "duration": 5,
    "start_time": "2024-07-02T16:13:42.337Z"
   },
   {
    "duration": 6,
    "start_time": "2024-07-02T16:13:42.344Z"
   },
   {
    "duration": 22,
    "start_time": "2024-07-02T16:13:42.351Z"
   }
  ],
  "kernelspec": {
   "display_name": "Python 3 (ipykernel)",
   "language": "python",
   "name": "python3"
  },
  "language_info": {
   "codemirror_mode": {
    "name": "ipython",
    "version": 3
   },
   "file_extension": ".py",
   "mimetype": "text/x-python",
   "name": "python",
   "nbconvert_exporter": "python",
   "pygments_lexer": "ipython3",
   "version": "3.9.5"
  },
  "toc": {
   "base_numbering": 1,
   "nav_menu": {},
   "number_sections": true,
   "sideBar": true,
   "skip_h1_title": true,
   "title_cell": "Table of Contents",
   "title_sidebar": "Contents",
   "toc_cell": false,
   "toc_position": {},
   "toc_section_display": true,
   "toc_window_display": false
  }
 },
 "nbformat": 4,
 "nbformat_minor": 5
}
