{
 "cells": [
  {
   "cell_type": "markdown",
   "metadata": {
    "deletable": false,
    "editable": false,
    "id": "E0vqbgi9ay0H"
   },
   "source": [
    "# Яндекс Музыка"
   ]
  },
  {
   "cell_type": "markdown",
   "metadata": {
    "deletable": false,
    "editable": false,
    "id": "VUC88oWjTJw2"
   },
   "source": [
    "Сравнение Москвы и Петербурга окружено мифами. Например:\n",
    " * Москва — мегаполис, подчинённый жёсткому ритму рабочей недели;\n",
    " * Петербург — культурная столица, со своими вкусами.\n",
    "\n",
    "На данных Яндекс Музыки вы сравните поведение пользователей двух столиц.\n",
    "\n",
    "**Цель исследования** — проверьте три гипотезы:\n",
    "1. Активность пользователей зависит от дня недели. Причём в Москве и Петербурге это проявляется по-разному.\n",
    "2. В понедельник утром в Москве преобладают одни жанры, а в Петербурге — другие. Так же и вечером пятницы преобладают разные жанры — в зависимости от города.\n",
    "3. Москва и Петербург предпочитают разные жанры музыки. В Москве чаще слушают поп-музыку, в Петербурге — русский рэп.\n",
    "\n",
    "**Ход исследования**\n",
    "\n",
    "Данные о поведении пользователей вы получите из файла `yandex_music_project.csv`. О качестве данных ничего не известно. Поэтому перед проверкой гипотез понадобится обзор данных.\n",
    "\n",
    "Вы проверите данные на ошибки и оцените их влияние на исследование. Затем, на этапе предобработки вы поищете возможность исправить самые критичные ошибки данных.\n",
    "\n",
    "Таким образом, исследование пройдёт в три этапа:\n",
    " 1. Обзор данных.\n",
    " 2. Предобработка данных.\n",
    " 3. Проверка гипотез.\n",
    "\n"
   ]
  },
  {
   "cell_type": "markdown",
   "metadata": {
    "deletable": false,
    "editable": false,
    "id": "Ml1hmfXC_Zcs"
   },
   "source": [
    "## Обзор данных\n",
    "\n",
    "Составьте первое представление о данных Яндекс Музыки.\n",
    "\n",
    "\n"
   ]
  },
  {
   "cell_type": "markdown",
   "metadata": {
    "deletable": false,
    "editable": false,
    "id": "57eAOGIz_Zcs",
    "tags": [
     "start_task"
    ]
   },
   "source": [
    "**Задание 1**"
   ]
  },
  {
   "cell_type": "code",
   "execution_count": 96,
   "metadata": {
    "deletable": false,
    "id": "AXN7PHPN_Zcs"
   },
   "outputs": [],
   "source": [
    "import pandas as pd # импорт библиотеки pandas"
   ]
  },
  {
   "cell_type": "markdown",
   "metadata": {
    "deletable": false,
    "editable": false,
    "id": "SG23P8tt_Zcs",
    "tags": [
     "start_task"
    ]
   },
   "source": [
    "**Задание 2**"
   ]
  },
  {
   "cell_type": "code",
   "execution_count": 97,
   "metadata": {
    "deletable": false,
    "id": "fFVu7vqh_Zct",
    "scrolled": false
   },
   "outputs": [],
   "source": [
    "df = pd.read_csv('/datasets/yandex_music_project.csv') # чтение файла с данными и сохранение в df"
   ]
  },
  {
   "cell_type": "markdown",
   "metadata": {
    "deletable": false,
    "editable": false,
    "id": "rDoOMd3uTqnZ",
    "tags": [
     "start_task"
    ]
   },
   "source": [
    "**Задание 3**"
   ]
  },
  {
   "cell_type": "code",
   "execution_count": 98,
   "metadata": {
    "deletable": false,
    "id": "oWTVX3gW_Zct"
   },
   "outputs": [
    {
     "data": {
      "text/html": [
       "<div>\n",
       "<style scoped>\n",
       "    .dataframe tbody tr th:only-of-type {\n",
       "        vertical-align: middle;\n",
       "    }\n",
       "\n",
       "    .dataframe tbody tr th {\n",
       "        vertical-align: top;\n",
       "    }\n",
       "\n",
       "    .dataframe thead th {\n",
       "        text-align: right;\n",
       "    }\n",
       "</style>\n",
       "<table border=\"1\" class=\"dataframe\">\n",
       "  <thead>\n",
       "    <tr style=\"text-align: right;\">\n",
       "      <th></th>\n",
       "      <th>userID</th>\n",
       "      <th>Track</th>\n",
       "      <th>artist</th>\n",
       "      <th>genre</th>\n",
       "      <th>City</th>\n",
       "      <th>time</th>\n",
       "      <th>Day</th>\n",
       "    </tr>\n",
       "  </thead>\n",
       "  <tbody>\n",
       "    <tr>\n",
       "      <th>0</th>\n",
       "      <td>FFB692EC</td>\n",
       "      <td>Kamigata To Boots</td>\n",
       "      <td>The Mass Missile</td>\n",
       "      <td>rock</td>\n",
       "      <td>Saint-Petersburg</td>\n",
       "      <td>20:28:33</td>\n",
       "      <td>Wednesday</td>\n",
       "    </tr>\n",
       "    <tr>\n",
       "      <th>1</th>\n",
       "      <td>55204538</td>\n",
       "      <td>Delayed Because of Accident</td>\n",
       "      <td>Andreas Rönnberg</td>\n",
       "      <td>rock</td>\n",
       "      <td>Moscow</td>\n",
       "      <td>14:07:09</td>\n",
       "      <td>Friday</td>\n",
       "    </tr>\n",
       "    <tr>\n",
       "      <th>2</th>\n",
       "      <td>20EC38</td>\n",
       "      <td>Funiculì funiculà</td>\n",
       "      <td>Mario Lanza</td>\n",
       "      <td>pop</td>\n",
       "      <td>Saint-Petersburg</td>\n",
       "      <td>20:58:07</td>\n",
       "      <td>Wednesday</td>\n",
       "    </tr>\n",
       "    <tr>\n",
       "      <th>3</th>\n",
       "      <td>A3DD03C9</td>\n",
       "      <td>Dragons in the Sunset</td>\n",
       "      <td>Fire + Ice</td>\n",
       "      <td>folk</td>\n",
       "      <td>Saint-Petersburg</td>\n",
       "      <td>08:37:09</td>\n",
       "      <td>Monday</td>\n",
       "    </tr>\n",
       "    <tr>\n",
       "      <th>4</th>\n",
       "      <td>E2DC1FAE</td>\n",
       "      <td>Soul People</td>\n",
       "      <td>Space Echo</td>\n",
       "      <td>dance</td>\n",
       "      <td>Moscow</td>\n",
       "      <td>08:34:34</td>\n",
       "      <td>Monday</td>\n",
       "    </tr>\n",
       "    <tr>\n",
       "      <th>5</th>\n",
       "      <td>842029A1</td>\n",
       "      <td>Преданная</td>\n",
       "      <td>IMPERVTOR</td>\n",
       "      <td>rusrap</td>\n",
       "      <td>Saint-Petersburg</td>\n",
       "      <td>13:09:41</td>\n",
       "      <td>Friday</td>\n",
       "    </tr>\n",
       "    <tr>\n",
       "      <th>6</th>\n",
       "      <td>4CB90AA5</td>\n",
       "      <td>True</td>\n",
       "      <td>Roman Messer</td>\n",
       "      <td>dance</td>\n",
       "      <td>Moscow</td>\n",
       "      <td>13:00:07</td>\n",
       "      <td>Wednesday</td>\n",
       "    </tr>\n",
       "    <tr>\n",
       "      <th>7</th>\n",
       "      <td>F03E1C1F</td>\n",
       "      <td>Feeling This Way</td>\n",
       "      <td>Polina Griffith</td>\n",
       "      <td>dance</td>\n",
       "      <td>Moscow</td>\n",
       "      <td>20:47:49</td>\n",
       "      <td>Wednesday</td>\n",
       "    </tr>\n",
       "    <tr>\n",
       "      <th>8</th>\n",
       "      <td>8FA1D3BE</td>\n",
       "      <td>И вновь продолжается бой</td>\n",
       "      <td>NaN</td>\n",
       "      <td>ruspop</td>\n",
       "      <td>Moscow</td>\n",
       "      <td>09:17:40</td>\n",
       "      <td>Friday</td>\n",
       "    </tr>\n",
       "    <tr>\n",
       "      <th>9</th>\n",
       "      <td>E772D5C0</td>\n",
       "      <td>Pessimist</td>\n",
       "      <td>NaN</td>\n",
       "      <td>dance</td>\n",
       "      <td>Saint-Petersburg</td>\n",
       "      <td>21:20:49</td>\n",
       "      <td>Wednesday</td>\n",
       "    </tr>\n",
       "  </tbody>\n",
       "</table>\n",
       "</div>"
      ],
      "text/plain": [
       "     userID                        Track            artist   genre  \\\n",
       "0  FFB692EC            Kamigata To Boots  The Mass Missile    rock   \n",
       "1  55204538  Delayed Because of Accident  Andreas Rönnberg    rock   \n",
       "2    20EC38            Funiculì funiculà       Mario Lanza     pop   \n",
       "3  A3DD03C9        Dragons in the Sunset        Fire + Ice    folk   \n",
       "4  E2DC1FAE                  Soul People        Space Echo   dance   \n",
       "5  842029A1                    Преданная         IMPERVTOR  rusrap   \n",
       "6  4CB90AA5                         True      Roman Messer   dance   \n",
       "7  F03E1C1F             Feeling This Way   Polina Griffith   dance   \n",
       "8  8FA1D3BE     И вновь продолжается бой               NaN  ruspop   \n",
       "9  E772D5C0                    Pessimist               NaN   dance   \n",
       "\n",
       "             City        time        Day  \n",
       "0  Saint-Petersburg  20:28:33  Wednesday  \n",
       "1            Moscow  14:07:09     Friday  \n",
       "2  Saint-Petersburg  20:58:07  Wednesday  \n",
       "3  Saint-Petersburg  08:37:09     Monday  \n",
       "4            Moscow  08:34:34     Monday  \n",
       "5  Saint-Petersburg  13:09:41     Friday  \n",
       "6            Moscow  13:00:07  Wednesday  \n",
       "7            Moscow  20:47:49  Wednesday  \n",
       "8            Moscow  09:17:40     Friday  \n",
       "9  Saint-Petersburg  21:20:49  Wednesday  "
      ]
     },
     "execution_count": 98,
     "metadata": {},
     "output_type": "execute_result"
    }
   ],
   "source": [
    "df.head(10) # получение первых 10 строк таблицы df"
   ]
  },
  {
   "cell_type": "markdown",
   "metadata": {
    "deletable": false,
    "editable": false,
    "id": "EO73Kwic_Zct",
    "tags": [
     "start_task"
    ]
   },
   "source": [
    "**Задание 4**"
   ]
  },
  {
   "cell_type": "code",
   "execution_count": 99,
   "metadata": {
    "deletable": false,
    "id": "DSf2kIb-_Zct"
   },
   "outputs": [
    {
     "name": "stdout",
     "output_type": "stream",
     "text": [
      "<class 'pandas.core.frame.DataFrame'>\n",
      "RangeIndex: 65079 entries, 0 to 65078\n",
      "Data columns (total 7 columns):\n",
      " #   Column    Non-Null Count  Dtype \n",
      "---  ------    --------------  ----- \n",
      " 0     userID  65079 non-null  object\n",
      " 1   Track     63848 non-null  object\n",
      " 2   artist    57876 non-null  object\n",
      " 3   genre     63881 non-null  object\n",
      " 4     City    65079 non-null  object\n",
      " 5   time      65079 non-null  object\n",
      " 6   Day       65079 non-null  object\n",
      "dtypes: object(7)\n",
      "memory usage: 3.5+ MB\n"
     ]
    }
   ],
   "source": [
    "df.info() # получение общей информации о данных в таблице df"
   ]
  },
  {
   "cell_type": "markdown",
   "metadata": {
    "deletable": false,
    "editable": false,
    "id": "TaQ2Iwbr_Zct"
   },
   "source": [
    "Количество значений в столбцах различается. Значит, в данных есть пропущенные значения."
   ]
  },
  {
   "cell_type": "markdown",
   "metadata": {
    "deletable": false,
    "editable": false,
    "id": "4P0UCWzswgEm",
    "tags": [
     "start_task"
    ]
   },
   "source": [
    "**Задание 5**"
   ]
  },
  {
   "cell_type": "code",
   "execution_count": 100,
   "metadata": {
    "id": "c137-ZstwgEm"
   },
   "outputs": [],
   "source": [
    "# 1. В анализируемой таблице семь столбцов. \n",
    "# Тип данных во всех столбцах — object.\n",
    "\n",
    "#Таблица содержит слеоующие данные:\n",
    "\n",
    "#userID — идентификатор пользователя;\n",
    "#Track — название трека;\n",
    "#artist — имя исполнителя;\n",
    "#genre — название жанра;\n",
    "#City — город пользователя;\n",
    "#time — время начала прослушивания;\n",
    "#Day — день недели.\n",
    "\n",
    "#Названиях колонок содержат три нарушения:\n",
    "\n",
    "#Строчные буквы сочетаются с прописными.\n",
    "#Встречаются пробелы.\n",
    "#Используется CamelCase.\n",
    "#Количество значений в столбцах различается, следовательно в данных есть пропущенные значения"
   ]
  },
  {
   "cell_type": "markdown",
   "metadata": {
    "deletable": false,
    "editable": false,
    "id": "MCB6-dXG_Zct"
   },
   "source": [
    "**Выводы**\n",
    "\n",
    "В каждой строке таблицы — данные о прослушанном треке. Часть колонок описывает саму композицию: название, исполнителя и жанр. Остальные данные рассказывают о пользователе: из какого он города, когда он слушал музыку.\n",
    "\n",
    "Предварительно можно утверждать, что данных достаточно для проверки гипотез. Но встречаются пропуски в данных, а в названиях колонок — расхождения с хорошим стилем.\n",
    "\n",
    "Чтобы двигаться дальше, нужно устранить проблемы в данных."
   ]
  },
  {
   "cell_type": "markdown",
   "metadata": {
    "deletable": false,
    "editable": false,
    "id": "SjYF6Ub9_Zct"
   },
   "source": [
    "## Предобработка данных"
   ]
  },
  {
   "cell_type": "markdown",
   "metadata": {
    "deletable": false,
    "editable": false,
    "id": "dIaKXr29_Zct",
    "tags": [
     "start_task"
    ]
   },
   "source": [
    "### Переименование столбцов\n",
    "\n",
    "**Задание 6**"
   ]
  },
  {
   "cell_type": "code",
   "execution_count": 101,
   "metadata": {
    "deletable": false,
    "id": "oKOTdF_Q_Zct"
   },
   "outputs": [
    {
     "data": {
      "text/plain": [
       "Index(['  userID', 'Track', 'artist', 'genre', '  City  ', 'time', 'Day'], dtype='object')"
      ]
     },
     "execution_count": 101,
     "metadata": {},
     "output_type": "execute_result"
    }
   ],
   "source": [
    "df.columns # перечень названий столбцов таблицы df"
   ]
  },
  {
   "cell_type": "markdown",
   "metadata": {
    "deletable": false,
    "editable": false,
    "id": "zj5534cv_Zct",
    "tags": [
     "start_task"
    ]
   },
   "source": [
    "**Задание 7**"
   ]
  },
  {
   "cell_type": "code",
   "execution_count": 102,
   "metadata": {
    "deletable": false,
    "id": "ISlFqs5y_Zct"
   },
   "outputs": [],
   "source": [
    "df = df.rename(columns={'  userID': 'user_id', 'Track':'track', 'artist':'artist', 'genre':'genre', '  City  ': 'city', 'time':'time', 'Day':'day'}) # переименование столбцов"
   ]
  },
  {
   "cell_type": "markdown",
   "metadata": {
    "deletable": false,
    "editable": false,
    "id": "1dqbh00J_Zct",
    "tags": [
     "start_task"
    ]
   },
   "source": [
    "**Задание 8**"
   ]
  },
  {
   "cell_type": "code",
   "execution_count": 103,
   "metadata": {
    "deletable": false,
    "id": "d4NOAmTW_Zct",
    "scrolled": true
   },
   "outputs": [
    {
     "name": "stdout",
     "output_type": "stream",
     "text": [
      "Index(['user_id', 'track', 'artist', 'genre', 'city', 'time', 'day'], dtype='object')\n"
     ]
    }
   ],
   "source": [
    "print (df.columns) # проверка результатов - перечень названий столбцов"
   ]
  },
  {
   "cell_type": "markdown",
   "metadata": {
    "deletable": false,
    "editable": false,
    "id": "5ISfbcfY_Zct",
    "tags": [
     "start_task"
    ]
   },
   "source": [
    "### Обработка пропущенных значений\n",
    "\n",
    "**Задание 9**"
   ]
  },
  {
   "cell_type": "code",
   "execution_count": 104,
   "metadata": {
    "deletable": false,
    "id": "RskX29qr_Zct"
   },
   "outputs": [
    {
     "data": {
      "text/plain": [
       "user_id       0\n",
       "track      1231\n",
       "artist     7203\n",
       "genre      1198\n",
       "city          0\n",
       "time          0\n",
       "day           0\n",
       "dtype: int64"
      ]
     },
     "execution_count": 104,
     "metadata": {},
     "output_type": "execute_result"
    }
   ],
   "source": [
    "df.isna().sum() # подсчёт пропусков"
   ]
  },
  {
   "cell_type": "markdown",
   "metadata": {
    "deletable": false,
    "editable": false,
    "id": "fSv2laPA_Zct",
    "tags": [
     "start_task"
    ]
   },
   "source": [
    "**Задание 10**"
   ]
  },
  {
   "cell_type": "code",
   "execution_count": 105,
   "metadata": {
    "deletable": false,
    "id": "KplB5qWs_Zct"
   },
   "outputs": [],
   "source": [
    "columns_to_fill = ['track', 'artist', 'genre']\n",
    "\n",
    "for column in columns_to_fill:\n",
    "    df[column] = df[column].fillna('unknown')  # замена пропущенных значений на 'unknown'"
   ]
  },
  {
   "cell_type": "markdown",
   "metadata": {
    "deletable": false,
    "editable": false,
    "id": "Ilsm-MZo_Zct",
    "tags": [
     "start_task"
    ]
   },
   "source": [
    "**Задание 11**"
   ]
  },
  {
   "cell_type": "code",
   "execution_count": 106,
   "metadata": {
    "deletable": false,
    "id": "Tq4nYRX4_Zct"
   },
   "outputs": [
    {
     "data": {
      "text/plain": [
       "user_id    0\n",
       "track      0\n",
       "artist     0\n",
       "genre      0\n",
       "city       0\n",
       "time       0\n",
       "day        0\n",
       "dtype: int64"
      ]
     },
     "execution_count": 106,
     "metadata": {},
     "output_type": "execute_result"
    }
   ],
   "source": [
    "df.isna().sum() # проверка на отсутствие пропусков"
   ]
  },
  {
   "cell_type": "markdown",
   "metadata": {
    "deletable": false,
    "editable": false,
    "id": "BWKRtBJ3_Zct",
    "tags": [
     "start_task"
    ]
   },
   "source": [
    "### Обработка дубликатов\n",
    "\n",
    "**Задание 12**"
   ]
  },
  {
   "cell_type": "code",
   "execution_count": 107,
   "metadata": {
    "deletable": false,
    "id": "36eES_S0_Zct"
   },
   "outputs": [
    {
     "name": "stdout",
     "output_type": "stream",
     "text": [
      "3826\n"
     ]
    }
   ],
   "source": [
    "print (df.duplicated().sum()) # подсчёт явных дубликатов"
   ]
  },
  {
   "cell_type": "markdown",
   "metadata": {
    "deletable": false,
    "editable": false,
    "id": "Ot25h6XR_Zct",
    "tags": [
     "start_task"
    ]
   },
   "source": [
    "**Задание 13**"
   ]
  },
  {
   "cell_type": "code",
   "execution_count": 108,
   "metadata": {
    "deletable": false,
    "id": "exFHq6tt_Zct"
   },
   "outputs": [],
   "source": [
    "df = df.drop_duplicates().reset_index(drop=True) # удаление явных дубликатов, создание новых индексов и удаление старых"
   ]
  },
  {
   "cell_type": "markdown",
   "metadata": {
    "deletable": false,
    "editable": false,
    "id": "Im2YwBEG_Zct",
    "tags": [
     "start_task"
    ]
   },
   "source": [
    "**Задание 14**"
   ]
  },
  {
   "cell_type": "code",
   "execution_count": 109,
   "metadata": {
    "deletable": false,
    "id": "-8PuNWQ0_Zct"
   },
   "outputs": [
    {
     "data": {
      "text/plain": [
       "0"
      ]
     },
     "execution_count": 109,
     "metadata": {},
     "output_type": "execute_result"
    }
   ],
   "source": [
    "df.duplicated().sum() # проверка на отсутствие явных дубликатов"
   ]
  },
  {
   "cell_type": "markdown",
   "metadata": {
    "deletable": false,
    "editable": false,
    "id": "eSjWwsOh_Zct",
    "tags": [
     "start_task"
    ]
   },
   "source": [
    "**Задание 15**"
   ]
  },
  {
   "cell_type": "code",
   "execution_count": 110,
   "metadata": {
    "deletable": false,
    "id": "JIUcqzZN_Zct"
   },
   "outputs": [
    {
     "data": {
      "text/plain": [
       "['acid',\n",
       " 'acoustic',\n",
       " 'action',\n",
       " 'adult',\n",
       " 'africa',\n",
       " 'afrikaans',\n",
       " 'alternative',\n",
       " 'alternativepunk',\n",
       " 'ambient',\n",
       " 'americana',\n",
       " 'animated',\n",
       " 'anime',\n",
       " 'arabesk',\n",
       " 'arabic',\n",
       " 'arena',\n",
       " 'argentinetango',\n",
       " 'art',\n",
       " 'audiobook',\n",
       " 'author',\n",
       " 'avantgarde',\n",
       " 'axé',\n",
       " 'baile',\n",
       " 'balkan',\n",
       " 'beats',\n",
       " 'bigroom',\n",
       " 'black',\n",
       " 'bluegrass',\n",
       " 'blues',\n",
       " 'bollywood',\n",
       " 'bossa',\n",
       " 'brazilian',\n",
       " 'breakbeat',\n",
       " 'breaks',\n",
       " 'broadway',\n",
       " 'cantautori',\n",
       " 'cantopop',\n",
       " 'canzone',\n",
       " 'caribbean',\n",
       " 'caucasian',\n",
       " 'celtic',\n",
       " 'chamber',\n",
       " 'chanson',\n",
       " 'children',\n",
       " 'chill',\n",
       " 'chinese',\n",
       " 'choral',\n",
       " 'christian',\n",
       " 'christmas',\n",
       " 'classical',\n",
       " 'classicmetal',\n",
       " 'club',\n",
       " 'colombian',\n",
       " 'comedy',\n",
       " 'conjazz',\n",
       " 'contemporary',\n",
       " 'country',\n",
       " 'cuban',\n",
       " 'dance',\n",
       " 'dancehall',\n",
       " 'dancepop',\n",
       " 'dark',\n",
       " 'death',\n",
       " 'deep',\n",
       " 'deutschrock',\n",
       " 'deutschspr',\n",
       " 'dirty',\n",
       " 'disco',\n",
       " 'dnb',\n",
       " 'documentary',\n",
       " 'downbeat',\n",
       " 'downtempo',\n",
       " 'drum',\n",
       " 'dub',\n",
       " 'dubstep',\n",
       " 'eastern',\n",
       " 'easy',\n",
       " 'electronic',\n",
       " 'electropop',\n",
       " 'emo',\n",
       " 'entehno',\n",
       " 'epicmetal',\n",
       " 'estrada',\n",
       " 'ethnic',\n",
       " 'eurofolk',\n",
       " 'european',\n",
       " 'experimental',\n",
       " 'extrememetal',\n",
       " 'fado',\n",
       " 'fairytail',\n",
       " 'film',\n",
       " 'fitness',\n",
       " 'flamenco',\n",
       " 'folk',\n",
       " 'folklore',\n",
       " 'folkmetal',\n",
       " 'folkrock',\n",
       " 'folktronica',\n",
       " 'forró',\n",
       " 'frankreich',\n",
       " 'französisch',\n",
       " 'french',\n",
       " 'funk',\n",
       " 'future',\n",
       " 'gangsta',\n",
       " 'garage',\n",
       " 'german',\n",
       " 'ghazal',\n",
       " 'gitarre',\n",
       " 'glitch',\n",
       " 'gospel',\n",
       " 'gothic',\n",
       " 'grime',\n",
       " 'grunge',\n",
       " 'gypsy',\n",
       " 'handsup',\n",
       " \"hard'n'heavy\",\n",
       " 'hardcore',\n",
       " 'hardstyle',\n",
       " 'hardtechno',\n",
       " 'hip',\n",
       " 'hip-hop',\n",
       " 'hiphop',\n",
       " 'historisch',\n",
       " 'holiday',\n",
       " 'hop',\n",
       " 'horror',\n",
       " 'house',\n",
       " 'hymn',\n",
       " 'idm',\n",
       " 'independent',\n",
       " 'indian',\n",
       " 'indie',\n",
       " 'indipop',\n",
       " 'industrial',\n",
       " 'inspirational',\n",
       " 'instrumental',\n",
       " 'international',\n",
       " 'irish',\n",
       " 'jam',\n",
       " 'japanese',\n",
       " 'jazz',\n",
       " 'jewish',\n",
       " 'jpop',\n",
       " 'jungle',\n",
       " 'k-pop',\n",
       " 'karadeniz',\n",
       " 'karaoke',\n",
       " 'kayokyoku',\n",
       " 'korean',\n",
       " 'laiko',\n",
       " 'latin',\n",
       " 'latino',\n",
       " 'leftfield',\n",
       " 'local',\n",
       " 'lounge',\n",
       " 'loungeelectronic',\n",
       " 'lovers',\n",
       " 'malaysian',\n",
       " 'mandopop',\n",
       " 'marschmusik',\n",
       " 'meditative',\n",
       " 'mediterranean',\n",
       " 'melodic',\n",
       " 'metal',\n",
       " 'metalcore',\n",
       " 'mexican',\n",
       " 'middle',\n",
       " 'minimal',\n",
       " 'miscellaneous',\n",
       " 'modern',\n",
       " 'mood',\n",
       " 'mpb',\n",
       " 'muslim',\n",
       " 'native',\n",
       " 'neoklassik',\n",
       " 'neue',\n",
       " 'new',\n",
       " 'newage',\n",
       " 'newwave',\n",
       " 'nu',\n",
       " 'nujazz',\n",
       " 'numetal',\n",
       " 'oceania',\n",
       " 'old',\n",
       " 'opera',\n",
       " 'orchestral',\n",
       " 'other',\n",
       " 'piano',\n",
       " 'podcasts',\n",
       " 'pop',\n",
       " 'popdance',\n",
       " 'popelectronic',\n",
       " 'popeurodance',\n",
       " 'poprussian',\n",
       " 'post',\n",
       " 'posthardcore',\n",
       " 'postrock',\n",
       " 'power',\n",
       " 'progmetal',\n",
       " 'progressive',\n",
       " 'psychedelic',\n",
       " 'punjabi',\n",
       " 'punk',\n",
       " 'quebecois',\n",
       " 'ragga',\n",
       " 'ram',\n",
       " 'rancheras',\n",
       " 'rap',\n",
       " 'rave',\n",
       " 'reggae',\n",
       " 'reggaeton',\n",
       " 'regional',\n",
       " 'relax',\n",
       " 'religious',\n",
       " 'retro',\n",
       " 'rhythm',\n",
       " 'rnb',\n",
       " 'rnr',\n",
       " 'rock',\n",
       " 'rockabilly',\n",
       " 'rockalternative',\n",
       " 'rockindie',\n",
       " 'rockother',\n",
       " 'romance',\n",
       " 'roots',\n",
       " 'ruspop',\n",
       " 'rusrap',\n",
       " 'rusrock',\n",
       " 'russian',\n",
       " 'salsa',\n",
       " 'samba',\n",
       " 'scenic',\n",
       " 'schlager',\n",
       " 'self',\n",
       " 'sertanejo',\n",
       " 'shanson',\n",
       " 'shoegazing',\n",
       " 'showtunes',\n",
       " 'singer',\n",
       " 'ska',\n",
       " 'skarock',\n",
       " 'slow',\n",
       " 'smooth',\n",
       " 'soft',\n",
       " 'soul',\n",
       " 'soulful',\n",
       " 'sound',\n",
       " 'soundtrack',\n",
       " 'southern',\n",
       " 'specialty',\n",
       " 'speech',\n",
       " 'spiritual',\n",
       " 'sport',\n",
       " 'stonerrock',\n",
       " 'surf',\n",
       " 'swing',\n",
       " 'synthpop',\n",
       " 'synthrock',\n",
       " 'sängerportrait',\n",
       " 'tango',\n",
       " 'tanzorchester',\n",
       " 'taraftar',\n",
       " 'tatar',\n",
       " 'tech',\n",
       " 'techno',\n",
       " 'teen',\n",
       " 'thrash',\n",
       " 'top',\n",
       " 'traditional',\n",
       " 'tradjazz',\n",
       " 'trance',\n",
       " 'tribal',\n",
       " 'trip',\n",
       " 'triphop',\n",
       " 'tropical',\n",
       " 'türk',\n",
       " 'türkçe',\n",
       " 'ukrrock',\n",
       " 'unknown',\n",
       " 'urban',\n",
       " 'uzbek',\n",
       " 'variété',\n",
       " 'vi',\n",
       " 'videogame',\n",
       " 'vocal',\n",
       " 'western',\n",
       " 'world',\n",
       " 'worldbeat',\n",
       " 'ïîï',\n",
       " 'электроника']"
      ]
     },
     "execution_count": 110,
     "metadata": {},
     "output_type": "execute_result"
    }
   ],
   "source": [
    "sorted(df['genre'].unique()) # просмотр уникальных отсортированных названий жанров"
   ]
  },
  {
   "cell_type": "markdown",
   "metadata": {
    "deletable": false,
    "editable": false,
    "id": "qej-Qmuo_Zct",
    "tags": [
     "start_task"
    ]
   },
   "source": [
    "**Задание 16**"
   ]
  },
  {
   "cell_type": "code",
   "execution_count": 111,
   "metadata": {
    "deletable": false,
    "id": "ErNDkmns_Zct"
   },
   "outputs": [],
   "source": [
    "df['genre'] = df['genre'].replace(['hip', 'hop', 'hip-hop'], 'hiphop') # устранение неявных дубликатов"
   ]
  },
  {
   "cell_type": "markdown",
   "metadata": {
    "deletable": false,
    "editable": false,
    "id": "zQKF16_RG15m",
    "tags": [
     "start_task"
    ]
   },
   "source": [
    "**Задание 17**"
   ]
  },
  {
   "cell_type": "code",
   "execution_count": 112,
   "metadata": {
    "deletable": false,
    "id": "wvixALnFG15m"
   },
   "outputs": [
    {
     "data": {
      "text/plain": [
       "['acid',\n",
       " 'acoustic',\n",
       " 'action',\n",
       " 'adult',\n",
       " 'africa',\n",
       " 'afrikaans',\n",
       " 'alternative',\n",
       " 'alternativepunk',\n",
       " 'ambient',\n",
       " 'americana',\n",
       " 'animated',\n",
       " 'anime',\n",
       " 'arabesk',\n",
       " 'arabic',\n",
       " 'arena',\n",
       " 'argentinetango',\n",
       " 'art',\n",
       " 'audiobook',\n",
       " 'author',\n",
       " 'avantgarde',\n",
       " 'axé',\n",
       " 'baile',\n",
       " 'balkan',\n",
       " 'beats',\n",
       " 'bigroom',\n",
       " 'black',\n",
       " 'bluegrass',\n",
       " 'blues',\n",
       " 'bollywood',\n",
       " 'bossa',\n",
       " 'brazilian',\n",
       " 'breakbeat',\n",
       " 'breaks',\n",
       " 'broadway',\n",
       " 'cantautori',\n",
       " 'cantopop',\n",
       " 'canzone',\n",
       " 'caribbean',\n",
       " 'caucasian',\n",
       " 'celtic',\n",
       " 'chamber',\n",
       " 'chanson',\n",
       " 'children',\n",
       " 'chill',\n",
       " 'chinese',\n",
       " 'choral',\n",
       " 'christian',\n",
       " 'christmas',\n",
       " 'classical',\n",
       " 'classicmetal',\n",
       " 'club',\n",
       " 'colombian',\n",
       " 'comedy',\n",
       " 'conjazz',\n",
       " 'contemporary',\n",
       " 'country',\n",
       " 'cuban',\n",
       " 'dance',\n",
       " 'dancehall',\n",
       " 'dancepop',\n",
       " 'dark',\n",
       " 'death',\n",
       " 'deep',\n",
       " 'deutschrock',\n",
       " 'deutschspr',\n",
       " 'dirty',\n",
       " 'disco',\n",
       " 'dnb',\n",
       " 'documentary',\n",
       " 'downbeat',\n",
       " 'downtempo',\n",
       " 'drum',\n",
       " 'dub',\n",
       " 'dubstep',\n",
       " 'eastern',\n",
       " 'easy',\n",
       " 'electronic',\n",
       " 'electropop',\n",
       " 'emo',\n",
       " 'entehno',\n",
       " 'epicmetal',\n",
       " 'estrada',\n",
       " 'ethnic',\n",
       " 'eurofolk',\n",
       " 'european',\n",
       " 'experimental',\n",
       " 'extrememetal',\n",
       " 'fado',\n",
       " 'fairytail',\n",
       " 'film',\n",
       " 'fitness',\n",
       " 'flamenco',\n",
       " 'folk',\n",
       " 'folklore',\n",
       " 'folkmetal',\n",
       " 'folkrock',\n",
       " 'folktronica',\n",
       " 'forró',\n",
       " 'frankreich',\n",
       " 'französisch',\n",
       " 'french',\n",
       " 'funk',\n",
       " 'future',\n",
       " 'gangsta',\n",
       " 'garage',\n",
       " 'german',\n",
       " 'ghazal',\n",
       " 'gitarre',\n",
       " 'glitch',\n",
       " 'gospel',\n",
       " 'gothic',\n",
       " 'grime',\n",
       " 'grunge',\n",
       " 'gypsy',\n",
       " 'handsup',\n",
       " \"hard'n'heavy\",\n",
       " 'hardcore',\n",
       " 'hardstyle',\n",
       " 'hardtechno',\n",
       " 'hiphop',\n",
       " 'historisch',\n",
       " 'holiday',\n",
       " 'horror',\n",
       " 'house',\n",
       " 'hymn',\n",
       " 'idm',\n",
       " 'independent',\n",
       " 'indian',\n",
       " 'indie',\n",
       " 'indipop',\n",
       " 'industrial',\n",
       " 'inspirational',\n",
       " 'instrumental',\n",
       " 'international',\n",
       " 'irish',\n",
       " 'jam',\n",
       " 'japanese',\n",
       " 'jazz',\n",
       " 'jewish',\n",
       " 'jpop',\n",
       " 'jungle',\n",
       " 'k-pop',\n",
       " 'karadeniz',\n",
       " 'karaoke',\n",
       " 'kayokyoku',\n",
       " 'korean',\n",
       " 'laiko',\n",
       " 'latin',\n",
       " 'latino',\n",
       " 'leftfield',\n",
       " 'local',\n",
       " 'lounge',\n",
       " 'loungeelectronic',\n",
       " 'lovers',\n",
       " 'malaysian',\n",
       " 'mandopop',\n",
       " 'marschmusik',\n",
       " 'meditative',\n",
       " 'mediterranean',\n",
       " 'melodic',\n",
       " 'metal',\n",
       " 'metalcore',\n",
       " 'mexican',\n",
       " 'middle',\n",
       " 'minimal',\n",
       " 'miscellaneous',\n",
       " 'modern',\n",
       " 'mood',\n",
       " 'mpb',\n",
       " 'muslim',\n",
       " 'native',\n",
       " 'neoklassik',\n",
       " 'neue',\n",
       " 'new',\n",
       " 'newage',\n",
       " 'newwave',\n",
       " 'nu',\n",
       " 'nujazz',\n",
       " 'numetal',\n",
       " 'oceania',\n",
       " 'old',\n",
       " 'opera',\n",
       " 'orchestral',\n",
       " 'other',\n",
       " 'piano',\n",
       " 'podcasts',\n",
       " 'pop',\n",
       " 'popdance',\n",
       " 'popelectronic',\n",
       " 'popeurodance',\n",
       " 'poprussian',\n",
       " 'post',\n",
       " 'posthardcore',\n",
       " 'postrock',\n",
       " 'power',\n",
       " 'progmetal',\n",
       " 'progressive',\n",
       " 'psychedelic',\n",
       " 'punjabi',\n",
       " 'punk',\n",
       " 'quebecois',\n",
       " 'ragga',\n",
       " 'ram',\n",
       " 'rancheras',\n",
       " 'rap',\n",
       " 'rave',\n",
       " 'reggae',\n",
       " 'reggaeton',\n",
       " 'regional',\n",
       " 'relax',\n",
       " 'religious',\n",
       " 'retro',\n",
       " 'rhythm',\n",
       " 'rnb',\n",
       " 'rnr',\n",
       " 'rock',\n",
       " 'rockabilly',\n",
       " 'rockalternative',\n",
       " 'rockindie',\n",
       " 'rockother',\n",
       " 'romance',\n",
       " 'roots',\n",
       " 'ruspop',\n",
       " 'rusrap',\n",
       " 'rusrock',\n",
       " 'russian',\n",
       " 'salsa',\n",
       " 'samba',\n",
       " 'scenic',\n",
       " 'schlager',\n",
       " 'self',\n",
       " 'sertanejo',\n",
       " 'shanson',\n",
       " 'shoegazing',\n",
       " 'showtunes',\n",
       " 'singer',\n",
       " 'ska',\n",
       " 'skarock',\n",
       " 'slow',\n",
       " 'smooth',\n",
       " 'soft',\n",
       " 'soul',\n",
       " 'soulful',\n",
       " 'sound',\n",
       " 'soundtrack',\n",
       " 'southern',\n",
       " 'specialty',\n",
       " 'speech',\n",
       " 'spiritual',\n",
       " 'sport',\n",
       " 'stonerrock',\n",
       " 'surf',\n",
       " 'swing',\n",
       " 'synthpop',\n",
       " 'synthrock',\n",
       " 'sängerportrait',\n",
       " 'tango',\n",
       " 'tanzorchester',\n",
       " 'taraftar',\n",
       " 'tatar',\n",
       " 'tech',\n",
       " 'techno',\n",
       " 'teen',\n",
       " 'thrash',\n",
       " 'top',\n",
       " 'traditional',\n",
       " 'tradjazz',\n",
       " 'trance',\n",
       " 'tribal',\n",
       " 'trip',\n",
       " 'triphop',\n",
       " 'tropical',\n",
       " 'türk',\n",
       " 'türkçe',\n",
       " 'ukrrock',\n",
       " 'unknown',\n",
       " 'urban',\n",
       " 'uzbek',\n",
       " 'variété',\n",
       " 'vi',\n",
       " 'videogame',\n",
       " 'vocal',\n",
       " 'western',\n",
       " 'world',\n",
       " 'worldbeat',\n",
       " 'ïîï',\n",
       " 'электроника']"
      ]
     },
     "execution_count": 112,
     "metadata": {},
     "output_type": "execute_result"
    }
   ],
   "source": [
    "# проверка на отсутствие неявных дубликатов\n",
    "sorted(df['genre'].unique()) "
   ]
  },
  {
   "cell_type": "markdown",
   "metadata": {
    "deletable": false,
    "editable": false,
    "id": "jz6a9-7HQUDd"
   },
   "source": [
    "**Выводы**\n",
    "\n",
    "Предобработка обнаружила три проблемы в данных:\n",
    "\n",
    "- нарушения в стиле заголовков,\n",
    "- пропущенные значения,\n",
    "- дубликаты — явные и неявные.\n",
    "\n",
    "Вы исправили заголовки, чтобы упростить работу с таблицей. Без дубликатов исследование станет более точным.\n",
    "\n",
    "Пропущенные значения вы заменили на `'unknown'`. Ещё предстоит увидеть, не повредят ли исследованию пропуски в колонке `genre`.\n",
    "\n",
    "Теперь можно перейти к проверке гипотез."
   ]
  },
  {
   "cell_type": "markdown",
   "metadata": {
    "deletable": false,
    "editable": false,
    "id": "WttZHXH0SqKk"
   },
   "source": [
    "## Проверка гипотез"
   ]
  },
  {
   "cell_type": "markdown",
   "metadata": {
    "deletable": false,
    "editable": false,
    "id": "Im936VVi_Zcu"
   },
   "source": [
    "### Сравнение поведения пользователей двух столиц"
   ]
  },
  {
   "cell_type": "markdown",
   "metadata": {
    "deletable": false,
    "editable": false,
    "id": "nwt_MuaL_Zcu"
   },
   "source": [
    "Первая гипотеза утверждает, что пользователи по-разному слушают музыку в Москве и Санкт-Петербурге. Проверим это предположение по данным о трёх днях недели — понедельнике, среде и пятнице. Для этого:\n",
    "\n",
    "* Разделим пользователей Москвы и Санкт-Петербурга.\n",
    "* Сравним, сколько треков послушала каждая группа пользователей в понедельник, среду и пятницу.\n"
   ]
  },
  {
   "cell_type": "markdown",
   "metadata": {
    "deletable": false,
    "id": "8Dw_YMmT_Zcu",
    "tags": [
     "start_task"
    ]
   },
   "source": [
    "**Задание 18**\n",
    "\n"
   ]
  },
  {
   "cell_type": "code",
   "execution_count": 113,
   "metadata": {
    "deletable": false,
    "id": "0_Qs96oh_Zcu",
    "scrolled": true
   },
   "outputs": [
    {
     "name": "stdout",
     "output_type": "stream",
     "text": [
      "city\n",
      "Moscow              42741\n",
      "Saint-Petersburg    18512\n",
      "Name: user_id, dtype: int64\n"
     ]
    }
   ],
   "source": [
    "# подсчёт прослушиваний в каждом городе\n",
    "city_grouping = df.groupby('city')['user_id'].count()\n",
    "print (city_grouping)"
   ]
  },
  {
   "cell_type": "markdown",
   "metadata": {
    "id": "dzli3w8o_Zcu",
    "tags": [
     "start_task"
    ]
   },
   "source": [
    "**Задание 19**\n"
   ]
  },
  {
   "cell_type": "code",
   "execution_count": 114,
   "metadata": {
    "deletable": false,
    "id": "uZMKjiJz_Zcu"
   },
   "outputs": [
    {
     "name": "stdout",
     "output_type": "stream",
     "text": [
      "day\n",
      "Friday       21840\n",
      "Monday       21354\n",
      "Wednesday    18059\n",
      "Name: user_id, dtype: int64\n"
     ]
    }
   ],
   "source": [
    "# подсчёт прослушиваний в каждый из трёх дней\n",
    "city_grouping = df.groupby('day')['user_id'].count()\n",
    "print (city_grouping)"
   ]
  },
  {
   "cell_type": "markdown",
   "metadata": {
    "deletable": false,
    "editable": false,
    "id": "POzs8bGa_Zcu",
    "tags": [
     "start_task"
    ]
   },
   "source": [
    "**Задание 20**"
   ]
  },
  {
   "cell_type": "code",
   "execution_count": 115,
   "metadata": {
    "deletable": false,
    "id": "Nz3GdQB1_Zcu"
   },
   "outputs": [],
   "source": [
    "def number_tracks(day, city):\n",
    "    track_list = df[df['day'] == day] # выберите только строки df со значением переменной day в столбце day\n",
    "    track_list = track_list[track_list['city'] == city] # выберите только строки track_list со значением переменной city в столбце city\n",
    "    track_list_count = track_list['user_id'].count() # вызовите метод подсчета строк для track_list и выберите столбец user_id\n",
    "    return track_list_count # верните значение track_list_count из функции"
   ]
  },
  {
   "cell_type": "markdown",
   "metadata": {
    "deletable": false,
    "editable": false,
    "id": "ytf7xFrFJQ2r",
    "tags": [
     "start_task"
    ]
   },
   "source": [
    "**Задание 21**"
   ]
  },
  {
   "cell_type": "code",
   "execution_count": 116,
   "metadata": {
    "deletable": false,
    "id": "rJcRATNQ_Zcu"
   },
   "outputs": [
    {
     "data": {
      "text/plain": [
       "15740"
      ]
     },
     "execution_count": 116,
     "metadata": {},
     "output_type": "execute_result"
    }
   ],
   "source": [
    "# количество прослушиваний в Москве по понедельникам\n",
    "number_tracks('Monday', 'Moscow')"
   ]
  },
  {
   "cell_type": "code",
   "execution_count": 117,
   "metadata": {
    "deletable": false,
    "id": "hq_ncZ5T_Zcu"
   },
   "outputs": [
    {
     "data": {
      "text/plain": [
       "5614"
      ]
     },
     "execution_count": 117,
     "metadata": {},
     "output_type": "execute_result"
    }
   ],
   "source": [
    "# количество прослушиваний в Санкт-Петербурге по понедельникам\n",
    "number_tracks('Monday', 'Saint-Petersburg')"
   ]
  },
  {
   "cell_type": "code",
   "execution_count": 118,
   "metadata": {
    "deletable": false,
    "id": "_NTy2VPU_Zcu"
   },
   "outputs": [
    {
     "data": {
      "text/plain": [
       "11056"
      ]
     },
     "execution_count": 118,
     "metadata": {},
     "output_type": "execute_result"
    }
   ],
   "source": [
    "# количество прослушиваний в Москве по средам\n",
    "number_tracks('Wednesday', 'Moscow')"
   ]
  },
  {
   "cell_type": "code",
   "execution_count": 119,
   "metadata": {
    "deletable": false,
    "id": "j2y3TAwo_Zcu"
   },
   "outputs": [
    {
     "data": {
      "text/plain": [
       "7003"
      ]
     },
     "execution_count": 119,
     "metadata": {},
     "output_type": "execute_result"
    }
   ],
   "source": [
    "# количество прослушиваний в Санкт-Петербурге по средам\n",
    "number_tracks('Wednesday', 'Saint-Petersburg')"
   ]
  },
  {
   "cell_type": "code",
   "execution_count": 120,
   "metadata": {
    "deletable": false,
    "id": "vYDw5u_K_Zcu"
   },
   "outputs": [
    {
     "data": {
      "text/plain": [
       "15945"
      ]
     },
     "execution_count": 120,
     "metadata": {},
     "output_type": "execute_result"
    }
   ],
   "source": [
    "# количество прослушиваний в Москве по пятницам\n",
    "number_tracks('Friday', 'Moscow')"
   ]
  },
  {
   "cell_type": "code",
   "execution_count": 121,
   "metadata": {
    "deletable": false,
    "id": "8_yzFtW3_Zcu"
   },
   "outputs": [
    {
     "data": {
      "text/plain": [
       "5895"
      ]
     },
     "execution_count": 121,
     "metadata": {},
     "output_type": "execute_result"
    }
   ],
   "source": [
    "# количество прослушиваний в Санкт-Петербурге по пятницам\n",
    "number_tracks('Friday', 'Saint-Petersburg')"
   ]
  },
  {
   "cell_type": "markdown",
   "metadata": {
    "deletable": false,
    "editable": false,
    "id": "7QXffbO-_Zcu",
    "tags": [
     "start_task"
    ]
   },
   "source": [
    "**Задание 22**"
   ]
  },
  {
   "cell_type": "code",
   "execution_count": 122,
   "metadata": {
    "deletable": false,
    "id": "APAcLpOr_Zcu"
   },
   "outputs": [
    {
     "data": {
      "text/html": [
       "<div>\n",
       "<style scoped>\n",
       "    .dataframe tbody tr th:only-of-type {\n",
       "        vertical-align: middle;\n",
       "    }\n",
       "\n",
       "    .dataframe tbody tr th {\n",
       "        vertical-align: top;\n",
       "    }\n",
       "\n",
       "    .dataframe thead th {\n",
       "        text-align: right;\n",
       "    }\n",
       "</style>\n",
       "<table border=\"1\" class=\"dataframe\">\n",
       "  <thead>\n",
       "    <tr style=\"text-align: right;\">\n",
       "      <th></th>\n",
       "      <th>city</th>\n",
       "      <th>monday</th>\n",
       "      <th>wednesday</th>\n",
       "      <th>friday</th>\n",
       "    </tr>\n",
       "  </thead>\n",
       "  <tbody>\n",
       "    <tr>\n",
       "      <th>0</th>\n",
       "      <td>Moscow</td>\n",
       "      <td>15740</td>\n",
       "      <td>11056</td>\n",
       "      <td>15945</td>\n",
       "    </tr>\n",
       "    <tr>\n",
       "      <th>1</th>\n",
       "      <td>Saint-Petersburg</td>\n",
       "      <td>5614</td>\n",
       "      <td>7003</td>\n",
       "      <td>5895</td>\n",
       "    </tr>\n",
       "  </tbody>\n",
       "</table>\n",
       "</div>"
      ],
      "text/plain": [
       "               city  monday  wednesday  friday\n",
       "0            Moscow   15740      11056   15945\n",
       "1  Saint-Petersburg    5614       7003    5895"
      ]
     },
     "metadata": {},
     "output_type": "display_data"
    }
   ],
   "source": [
    "# создание таблицы с результатами\n",
    "number_track_results = [['Moscow',15740,11056, 15945],['Saint-Petersburg',5614, 7003, 5895]]\n",
    "headers = ['city', 'monday', 'wednesday', 'friday']\n",
    "# вывод таблицы на экран\n",
    "output = pd.DataFrame(data=number_track_results, columns=headers) \n",
    "display(output)"
   ]
  },
  {
   "cell_type": "markdown",
   "metadata": {
    "deletable": false,
    "editable": false,
    "id": "-EgPIHYu_Zcu"
   },
   "source": [
    "**Выводы**\n",
    "\n",
    "Данные показывают разницу поведения пользователей:\n",
    "\n",
    "- В Москве пик прослушиваний приходится на понедельник и пятницу, а в среду заметен спад.\n",
    "- В Петербурге, наоборот, больше слушают музыку по средам. Активность в понедельник и пятницу здесь почти в равной мере уступает среде.\n",
    "\n",
    "Значит, данные говорят в пользу первой гипотезы."
   ]
  },
  {
   "cell_type": "markdown",
   "metadata": {
    "deletable": false,
    "editable": false,
    "id": "atZAxtq4_Zcu"
   },
   "source": [
    "### Музыка в начале и в конце недели"
   ]
  },
  {
   "cell_type": "markdown",
   "metadata": {
    "deletable": false,
    "editable": false,
    "id": "eXrQqXFH_Zcu"
   },
   "source": [
    "Согласно второй гипотезе, утром в понедельник в Москве преобладают одни жанры, а в Петербурге — другие. Так же и вечером пятницы преобладают разные жанры — в зависимости от города."
   ]
  },
  {
   "cell_type": "markdown",
   "metadata": {
    "deletable": false,
    "editable": false,
    "id": "S8UcW6Hw_Zcu",
    "tags": [
     "start_task"
    ]
   },
   "source": [
    "**Задание 23**"
   ]
  },
  {
   "cell_type": "code",
   "execution_count": 127,
   "metadata": {
    "deletable": false,
    "id": "qeaFfM_P_Zcu"
   },
   "outputs": [],
   "source": [
    "# получение таблицы moscow_general из тех строк таблицы df, для которых значение в \n",
    "# столбце 'city' равно 'Moscow'\n",
    "\n",
    "moscow_general = df[df['city'] == 'Moscow']"
   ]
  },
  {
   "cell_type": "code",
   "execution_count": 128,
   "metadata": {
    "deletable": false,
    "id": "ORaVRKto_Zcu"
   },
   "outputs": [],
   "source": [
    "# получение таблицы spb_general из тех строк таблицы df, для которых значение в \n",
    "# столбце 'city' равно 'Saint-Petersburg'\n",
    "\n",
    "spb_general = df[df['city'] == 'Saint-Petersburg']\n"
   ]
  },
  {
   "cell_type": "markdown",
   "metadata": {
    "deletable": false,
    "editable": false,
    "id": "MEJV-CX2_Zcu",
    "tags": [
     "start_task"
    ]
   },
   "source": [
    "**Задание 24**"
   ]
  },
  {
   "cell_type": "code",
   "execution_count": 133,
   "metadata": {
    "deletable": false,
    "id": "laJT9BYl_Zcu"
   },
   "outputs": [],
   "source": [
    "def genre_weekday(table, day, time1, time2):\n",
    "    # последовательная фильтрация\n",
    "    # 1. оставляем в genre_df только те строки df, у которых день равен day\n",
    "    genre_df = table[table['day'] == day] # ваш код здесь\n",
    "    \n",
    "    # 2. оставляем в genre_df только те строки genre_df, у которых время меньше time2\n",
    "    genre_df = genre_df[genre_df['time'] < time2]  # ваш код здесь\n",
    "    \n",
    "    # 3. оставляем в genre_df только те строки genre_df, у которых время больше time1\n",
    "    genre_df = genre_df[genre_df['time'] > time1]  # ваш код здесь\n",
    "    \n",
    "    # сгруппируем отфильтрованный датафрейм по столбцу с названиями жанров, возьмём \n",
    "    # столбец genre и посчитаем кол-во строк для каждого жанра методом count()\n",
    "    genre_df_count = genre_df.groupby('genre')['artist'].count()  # ваш код здесь\n",
    "    \n",
    "    # отсортируем результат по убыванию (чтобы в начале Series оказались самые \n",
    "    # популярные жанры)\n",
    "    genre_df_sorted = genre_df_count.sort_values(ascending=False) # ваш код здесь\n",
    "    \n",
    "    # вернём Series с 10 самыми популярными жанрами в указанный отрезок времени \n",
    "    # заданного дня\n",
    "    return genre_df_sorted.head(10)"
   ]
  },
  {
   "cell_type": "markdown",
   "metadata": {
    "deletable": false,
    "editable": false,
    "id": "la2s2_PF_Zcu",
    "tags": [
     "start_task"
    ]
   },
   "source": [
    "**Задание 25**"
   ]
  },
  {
   "cell_type": "code",
   "execution_count": 134,
   "metadata": {
    "deletable": false,
    "id": "yz7itPUQ_Zcu",
    "scrolled": true
   },
   "outputs": [
    {
     "data": {
      "text/plain": [
       "genre\n",
       "pop            781\n",
       "dance          549\n",
       "electronic     480\n",
       "rock           474\n",
       "hiphop         286\n",
       "ruspop         186\n",
       "world          181\n",
       "rusrap         175\n",
       "alternative    164\n",
       "unknown        161\n",
       "Name: artist, dtype: int64"
      ]
     },
     "execution_count": 134,
     "metadata": {},
     "output_type": "execute_result"
    }
   ],
   "source": [
    "# вызов функции для утра понедельника в Москве (вместо df — таблица moscow_general)\n",
    "\n",
    "genre_weekday(moscow_general, 'Monday', '07:00', '11:00')\n"
   ]
  },
  {
   "cell_type": "code",
   "execution_count": 135,
   "metadata": {
    "deletable": false,
    "id": "kwUcHPdy_Zcu"
   },
   "outputs": [
    {
     "data": {
      "text/plain": [
       "genre\n",
       "pop            218\n",
       "dance          182\n",
       "rock           162\n",
       "electronic     147\n",
       "hiphop          80\n",
       "ruspop          64\n",
       "alternative     58\n",
       "rusrap          55\n",
       "jazz            44\n",
       "classical       40\n",
       "Name: artist, dtype: int64"
      ]
     },
     "execution_count": 135,
     "metadata": {},
     "output_type": "execute_result"
    }
   ],
   "source": [
    "# вызов функции для утра понедельника в Петербурге (вместо df — таблица spb_general)\n",
    "genre_weekday(spb_general, 'Monday', '07:00', '11:00')"
   ]
  },
  {
   "cell_type": "code",
   "execution_count": 136,
   "metadata": {
    "deletable": false,
    "id": "EzXVRE1o_Zcu"
   },
   "outputs": [
    {
     "data": {
      "text/plain": [
       "genre\n",
       "pop            713\n",
       "rock           517\n",
       "dance          495\n",
       "electronic     482\n",
       "hiphop         273\n",
       "world          208\n",
       "ruspop         170\n",
       "alternative    163\n",
       "classical      163\n",
       "rusrap         142\n",
       "Name: artist, dtype: int64"
      ]
     },
     "execution_count": 136,
     "metadata": {},
     "output_type": "execute_result"
    }
   ],
   "source": [
    "# вызов функции для вечера пятницы в Москве\n",
    "\n",
    "genre_weekday(moscow_general, 'Friday', '17:00', '23:00')"
   ]
  },
  {
   "cell_type": "code",
   "execution_count": 137,
   "metadata": {
    "deletable": false,
    "id": "JZaEKu5v_Zcu"
   },
   "outputs": [
    {
     "data": {
      "text/plain": [
       "genre\n",
       "pop            256\n",
       "electronic     216\n",
       "rock           216\n",
       "dance          210\n",
       "hiphop          97\n",
       "alternative     63\n",
       "jazz            61\n",
       "classical       60\n",
       "rusrap          59\n",
       "world           54\n",
       "Name: artist, dtype: int64"
      ]
     },
     "execution_count": 137,
     "metadata": {},
     "output_type": "execute_result"
    }
   ],
   "source": [
    "# вызов функции для вечера пятницы в Петербурге\n",
    "genre_weekday(spb_general, 'Friday', '17:00', '23:00')"
   ]
  },
  {
   "cell_type": "markdown",
   "metadata": {
    "deletable": false,
    "editable": false,
    "id": "wrCe4MNX_Zcu"
   },
   "source": [
    "**Выводы**\n",
    "\n",
    "Если сравнить топ-10 жанров в понедельник утром, можно сделать такие выводы:\n",
    "\n",
    "1. В Москве и Петербурге слушают похожую музыку. Единственное различие — в московский рейтинг вошёл жанр “world”, а в петербургский — джаз и классика.\n",
    "\n",
    "2. В Москве пропущенных значений оказалось так много, что значение `'unknown'` заняло десятое место среди самых популярных жанров. Значит, пропущенные значения занимают существенную долю в данных и угрожают достоверности исследования.\n",
    "\n",
    "Вечер пятницы не меняет эту картину. Некоторые жанры поднимаются немного выше, другие спускаются, но в целом топ-10 остаётся тем же самым.\n",
    "\n",
    "Таким образом, вторая гипотеза подтвердилась лишь частично:\n",
    "* Пользователи слушают похожую музыку в начале недели и в конце.\n",
    "* Разница между Москвой и Петербургом не слишком выражена. В Москве чаще слушают русскую популярную музыку, в Петербурге — джаз.\n",
    "\n",
    "Однако пропуски в данных ставят под сомнение этот результат. В Москве их так много, что рейтинг топ-10 мог бы выглядеть иначе, если бы не утерянные  данные о жанрах."
   ]
  },
  {
   "cell_type": "markdown",
   "metadata": {
    "deletable": false,
    "editable": false,
    "id": "JolODAqr_Zcu"
   },
   "source": [
    "### Жанровые предпочтения в Москве и Петербурге\n",
    "\n",
    "Гипотеза: Петербург — столица рэпа, музыку этого жанра там слушают чаще, чем в Москве.  А Москва — город контрастов, в котором, тем не менее, преобладает поп-музыка."
   ]
  },
  {
   "cell_type": "markdown",
   "metadata": {
    "deletable": false,
    "editable": false,
    "id": "DlegSvaT_Zcu",
    "tags": [
     "start_task"
    ]
   },
   "source": [
    "**Задание 26**"
   ]
  },
  {
   "cell_type": "code",
   "execution_count": null,
   "metadata": {
    "deletable": false,
    "id": "r19lIPke_Zcu"
   },
   "outputs": [],
   "source": [
    "# одной строкой: группировка таблицы moscow_general по столбцу 'genre', выбор столбца `genre`, подсчёт числа значений 'genre' методом count(), сохранение в moscow_genres\n",
    "# сортировка получившегося Series в порядке убывания и сохранение обратно в moscow_genres\n",
    "\n",
    "moscow_genres = moscow_general.groupby('genre')['genre'].count().sort_values(ascending=False)"
   ]
  },
  {
   "cell_type": "markdown",
   "metadata": {
    "deletable": false,
    "editable": false,
    "id": "6kMuomxTiIr8",
    "tags": [
     "start_task"
    ]
   },
   "source": [
    "**Задание 27**"
   ]
  },
  {
   "cell_type": "code",
   "execution_count": 146,
   "metadata": {
    "deletable": false,
    "id": "WhCSooF8_Zcv"
   },
   "outputs": [
    {
     "data": {
      "text/html": [
       "<div>\n",
       "<style scoped>\n",
       "    .dataframe tbody tr th:only-of-type {\n",
       "        vertical-align: middle;\n",
       "    }\n",
       "\n",
       "    .dataframe tbody tr th {\n",
       "        vertical-align: top;\n",
       "    }\n",
       "\n",
       "    .dataframe thead th {\n",
       "        text-align: right;\n",
       "    }\n",
       "</style>\n",
       "<table border=\"1\" class=\"dataframe\">\n",
       "  <thead>\n",
       "    <tr style=\"text-align: right;\">\n",
       "      <th></th>\n",
       "      <th>user_id</th>\n",
       "      <th>track</th>\n",
       "      <th>artist</th>\n",
       "      <th>genre</th>\n",
       "      <th>city</th>\n",
       "      <th>time</th>\n",
       "      <th>day</th>\n",
       "    </tr>\n",
       "  </thead>\n",
       "  <tbody>\n",
       "    <tr>\n",
       "      <th>1</th>\n",
       "      <td>55204538</td>\n",
       "      <td>Delayed Because of Accident</td>\n",
       "      <td>Andreas Rönnberg</td>\n",
       "      <td>rock</td>\n",
       "      <td>Moscow</td>\n",
       "      <td>14:07:09</td>\n",
       "      <td>Friday</td>\n",
       "    </tr>\n",
       "    <tr>\n",
       "      <th>4</th>\n",
       "      <td>E2DC1FAE</td>\n",
       "      <td>Soul People</td>\n",
       "      <td>Space Echo</td>\n",
       "      <td>dance</td>\n",
       "      <td>Moscow</td>\n",
       "      <td>08:34:34</td>\n",
       "      <td>Monday</td>\n",
       "    </tr>\n",
       "    <tr>\n",
       "      <th>6</th>\n",
       "      <td>4CB90AA5</td>\n",
       "      <td>True</td>\n",
       "      <td>Roman Messer</td>\n",
       "      <td>dance</td>\n",
       "      <td>Moscow</td>\n",
       "      <td>13:00:07</td>\n",
       "      <td>Wednesday</td>\n",
       "    </tr>\n",
       "    <tr>\n",
       "      <th>7</th>\n",
       "      <td>F03E1C1F</td>\n",
       "      <td>Feeling This Way</td>\n",
       "      <td>Polina Griffith</td>\n",
       "      <td>dance</td>\n",
       "      <td>Moscow</td>\n",
       "      <td>20:47:49</td>\n",
       "      <td>Wednesday</td>\n",
       "    </tr>\n",
       "    <tr>\n",
       "      <th>8</th>\n",
       "      <td>8FA1D3BE</td>\n",
       "      <td>И вновь продолжается бой</td>\n",
       "      <td>unknown</td>\n",
       "      <td>ruspop</td>\n",
       "      <td>Moscow</td>\n",
       "      <td>09:17:40</td>\n",
       "      <td>Friday</td>\n",
       "    </tr>\n",
       "    <tr>\n",
       "      <th>10</th>\n",
       "      <td>BC5A3A29</td>\n",
       "      <td>Gool la Mita</td>\n",
       "      <td>Shireen Abdul Wahab</td>\n",
       "      <td>world</td>\n",
       "      <td>Moscow</td>\n",
       "      <td>14:08:42</td>\n",
       "      <td>Monday</td>\n",
       "    </tr>\n",
       "    <tr>\n",
       "      <th>11</th>\n",
       "      <td>8B5192C0</td>\n",
       "      <td>Is There Anybody Out There? (Panoramic Paralys...</td>\n",
       "      <td>Pink Floyd Floydhead</td>\n",
       "      <td>electronic</td>\n",
       "      <td>Moscow</td>\n",
       "      <td>13:47:49</td>\n",
       "      <td>Monday</td>\n",
       "    </tr>\n",
       "    <tr>\n",
       "      <th>12</th>\n",
       "      <td>FF3FD2BD</td>\n",
       "      <td>Мина син генэ кирэк</td>\n",
       "      <td>Ильдар Хакимов</td>\n",
       "      <td>pop</td>\n",
       "      <td>Moscow</td>\n",
       "      <td>09:19:49</td>\n",
       "      <td>Monday</td>\n",
       "    </tr>\n",
       "    <tr>\n",
       "      <th>13</th>\n",
       "      <td>CC782B0F</td>\n",
       "      <td>After School Special</td>\n",
       "      <td>Detroit Grand Pubahs</td>\n",
       "      <td>dance</td>\n",
       "      <td>Moscow</td>\n",
       "      <td>20:04:12</td>\n",
       "      <td>Friday</td>\n",
       "    </tr>\n",
       "    <tr>\n",
       "      <th>15</th>\n",
       "      <td>E3C5756F</td>\n",
       "      <td>unknown</td>\n",
       "      <td>unknown</td>\n",
       "      <td>unknown</td>\n",
       "      <td>Moscow</td>\n",
       "      <td>09:24:51</td>\n",
       "      <td>Monday</td>\n",
       "    </tr>\n",
       "  </tbody>\n",
       "</table>\n",
       "</div>"
      ],
      "text/plain": [
       "     user_id                                              track  \\\n",
       "1   55204538                        Delayed Because of Accident   \n",
       "4   E2DC1FAE                                        Soul People   \n",
       "6   4CB90AA5                                               True   \n",
       "7   F03E1C1F                                   Feeling This Way   \n",
       "8   8FA1D3BE                           И вновь продолжается бой   \n",
       "10  BC5A3A29                                       Gool la Mita   \n",
       "11  8B5192C0  Is There Anybody Out There? (Panoramic Paralys...   \n",
       "12  FF3FD2BD                                Мина син генэ кирэк   \n",
       "13  CC782B0F                               After School Special   \n",
       "15  E3C5756F                                            unknown   \n",
       "\n",
       "                  artist       genre    city      time        day  \n",
       "1       Andreas Rönnberg        rock  Moscow  14:07:09     Friday  \n",
       "4             Space Echo       dance  Moscow  08:34:34     Monday  \n",
       "6           Roman Messer       dance  Moscow  13:00:07  Wednesday  \n",
       "7        Polina Griffith       dance  Moscow  20:47:49  Wednesday  \n",
       "8                unknown      ruspop  Moscow  09:17:40     Friday  \n",
       "10   Shireen Abdul Wahab       world  Moscow  14:08:42     Monday  \n",
       "11  Pink Floyd Floydhead  electronic  Moscow  13:47:49     Monday  \n",
       "12        Ильдар Хакимов         pop  Moscow  09:19:49     Monday  \n",
       "13  Detroit Grand Pubahs       dance  Moscow  20:04:12     Friday  \n",
       "15               unknown     unknown  Moscow  09:24:51     Monday  "
      ]
     },
     "execution_count": 146,
     "metadata": {},
     "output_type": "execute_result"
    }
   ],
   "source": [
    "moscow_genres.head(10)\n",
    "\n",
    " # просмотр первых 10 строк moscow_genres"
   ]
  },
  {
   "cell_type": "markdown",
   "metadata": {
    "deletable": false,
    "editable": false,
    "id": "cnPG2vnN_Zcv",
    "tags": [
     "start_task"
    ]
   },
   "source": [
    "**Задание 28**"
   ]
  },
  {
   "cell_type": "code",
   "execution_count": 147,
   "metadata": {
    "deletable": false,
    "id": "gluLIpE7_Zcv"
   },
   "outputs": [],
   "source": [
    "# одной строкой: группировка таблицы spb_general по столбцу 'genre', выбор столбца `genre`, подсчёт числа значений 'genre' методом count(), сохранение в spb_genres\n",
    "# сортировка получившегося Series в порядке убывания и сохранение обратно в spb_genres\n",
    "\n",
    "spb_genres = spb_general.groupby('genre')['genre'].count().sort_values(ascending=False)"
   ]
  },
  {
   "cell_type": "markdown",
   "metadata": {
    "deletable": false,
    "editable": false,
    "id": "5Doha_ODgyQ8",
    "tags": [
     "start_task"
    ]
   },
   "source": [
    "**Задание 29**"
   ]
  },
  {
   "cell_type": "code",
   "execution_count": 148,
   "metadata": {
    "deletable": false,
    "id": "uaGJHjVU_Zcv"
   },
   "outputs": [
    {
     "data": {
      "text/plain": [
       "genre\n",
       "pop            2431\n",
       "dance          1932\n",
       "rock           1879\n",
       "electronic     1736\n",
       "hiphop          960\n",
       "alternative     649\n",
       "classical       646\n",
       "rusrap          564\n",
       "ruspop          538\n",
       "world           515\n",
       "Name: genre, dtype: int64"
      ]
     },
     "execution_count": 148,
     "metadata": {},
     "output_type": "execute_result"
    }
   ],
   "source": [
    "# просмотр первых 10 строк spb_genres\n",
    "spb_genres.head(10)"
   ]
  },
  {
   "cell_type": "markdown",
   "metadata": {
    "deletable": false,
    "editable": false,
    "id": "RY51YJYu_Zcv"
   },
   "source": [
    "**Выводы**"
   ]
  },
  {
   "cell_type": "markdown",
   "metadata": {
    "deletable": false,
    "editable": false,
    "id": "nVhnJEm__Zcv"
   },
   "source": [
    "Гипотеза частично подтвердилась:\n",
    "* Поп-музыка — самый популярный жанр в Москве, как и предполагала гипотеза. Более того, в топ-10 жанров встречается близкий жанр — русская популярная музыка.\n",
    "* Вопреки ожиданиям, рэп одинаково популярен в Москве и Петербурге.\n"
   ]
  },
  {
   "cell_type": "markdown",
   "metadata": {
    "deletable": false,
    "editable": false,
    "id": "ykKQ0N65_Zcv"
   },
   "source": [
    "## Итоги исследования"
   ]
  },
  {
   "cell_type": "markdown",
   "metadata": {
    "deletable": false,
    "editable": false,
    "id": "tjUwbHb3_Zcv"
   },
   "source": [
    "Вы проверили три гипотезы и установили:\n",
    "\n",
    "1. День недели по-разному влияет на активность пользователей в Москве и Петербурге.\n",
    "\n",
    "Первая гипотеза полностью подтвердилась.\n",
    "\n",
    "2. Музыкальные предпочтения не сильно меняются в течение недели — будь то Москва или Петербург. Небольшие различия заметны в начале недели, по понедельникам:\n",
    "* в Москве слушают музыку жанра “world”,\n",
    "* в Петербурге — джаз и классику.\n",
    "\n",
    "Таким образом, вторая гипотеза подтвердилась лишь отчасти. Этот результат мог оказаться иным, если бы не пропуски в данных.\n",
    "\n",
    "3. Во вкусах пользователей Москвы и Петербурга больше общего, чем различий. Вопреки ожиданиям, предпочтения жанров в Петербурге напоминают московские.\n",
    "\n",
    "Третья гипотеза не подтвердилась. Если различия в предпочтениях и существуют, на основной массе пользователей они незаметны.\n",
    "\n",
    "**На практике исследования содержат проверки статистических гипотез.**\n",
    "Из части данных одного сервиса невозможно сделать какие-то выводы о всех пользователях сервиса без методов статистики.\n",
    "Проверки статистических гипотез покажут, насколько они достоверны, исходя из имеющихся данных.\n",
    "С методами проверок гипотез вы ещё познакомитесь в следующих темах."
   ]
  }
 ],
 "metadata": {
  "ExecuteTimeLog": [
   {
    "duration": 441,
    "start_time": "2024-05-03T11:51:00.772Z"
   },
   {
    "duration": 68,
    "start_time": "2024-05-03T11:58:06.828Z"
   },
   {
    "duration": 71,
    "start_time": "2024-05-03T12:00:27.964Z"
   },
   {
    "duration": 14,
    "start_time": "2024-05-03T12:03:49.155Z"
   },
   {
    "duration": 6,
    "start_time": "2024-05-03T12:04:05.130Z"
   },
   {
    "duration": 14,
    "start_time": "2024-05-03T12:07:41.835Z"
   },
   {
    "duration": 15,
    "start_time": "2024-05-03T13:13:05.705Z"
   },
   {
    "duration": 13,
    "start_time": "2024-05-03T13:13:58.978Z"
   },
   {
    "duration": 14,
    "start_time": "2024-05-03T13:14:52.647Z"
   },
   {
    "duration": 7,
    "start_time": "2024-05-03T13:15:05.001Z"
   },
   {
    "duration": 50,
    "start_time": "2024-05-03T13:21:26.377Z"
   },
   {
    "duration": 6,
    "start_time": "2024-05-03T13:21:50.659Z"
   },
   {
    "duration": 6,
    "start_time": "2024-05-03T13:23:14.249Z"
   },
   {
    "duration": 6,
    "start_time": "2024-05-03T13:25:26.081Z"
   },
   {
    "duration": 425,
    "start_time": "2024-05-03T13:28:47.475Z"
   },
   {
    "duration": 3,
    "start_time": "2024-05-03T13:29:29.452Z"
   },
   {
    "duration": 37,
    "start_time": "2024-05-03T13:29:33.590Z"
   },
   {
    "duration": 203,
    "start_time": "2024-05-03T13:33:42.064Z"
   },
   {
    "duration": 26,
    "start_time": "2024-05-03T13:33:55.905Z"
   },
   {
    "duration": 8,
    "start_time": "2024-05-03T13:55:32.396Z"
   },
   {
    "duration": 8,
    "start_time": "2024-05-03T13:55:46.972Z"
   },
   {
    "duration": 10,
    "start_time": "2024-05-03T13:57:00.684Z"
   },
   {
    "duration": 38,
    "start_time": "2024-05-03T15:53:01.205Z"
   },
   {
    "duration": 6,
    "start_time": "2024-05-05T06:48:07.082Z"
   },
   {
    "duration": 8,
    "start_time": "2024-05-05T06:48:17.714Z"
   },
   {
    "duration": 7,
    "start_time": "2024-05-05T06:51:16.636Z"
   },
   {
    "duration": 7,
    "start_time": "2024-05-05T06:51:22.020Z"
   },
   {
    "duration": 7,
    "start_time": "2024-05-05T06:51:26.179Z"
   },
   {
    "duration": 400,
    "start_time": "2024-05-05T06:51:32.929Z"
   },
   {
    "duration": 287,
    "start_time": "2024-05-05T06:51:35.739Z"
   },
   {
    "duration": 24,
    "start_time": "2024-05-05T06:51:38.451Z"
   },
   {
    "duration": 32,
    "start_time": "2024-05-05T06:51:42.599Z"
   },
   {
    "duration": 64,
    "start_time": "2024-05-05T06:51:49.471Z"
   },
   {
    "duration": 4,
    "start_time": "2024-05-05T06:51:57.481Z"
   },
   {
    "duration": 13,
    "start_time": "2024-05-05T06:52:28.857Z"
   },
   {
    "duration": 15,
    "start_time": "2024-05-05T06:56:16.067Z"
   },
   {
    "duration": 12,
    "start_time": "2024-05-05T06:56:34.891Z"
   },
   {
    "duration": 14,
    "start_time": "2024-05-05T06:56:47.453Z"
   },
   {
    "duration": 3,
    "start_time": "2024-05-05T06:57:58.166Z"
   },
   {
    "duration": 9,
    "start_time": "2024-05-05T06:58:20.838Z"
   },
   {
    "duration": 68,
    "start_time": "2024-05-05T06:59:28.840Z"
   },
   {
    "duration": 10,
    "start_time": "2024-05-05T07:00:27.504Z"
   },
   {
    "duration": 4,
    "start_time": "2024-05-05T07:00:34.663Z"
   },
   {
    "duration": 8,
    "start_time": "2024-05-05T07:01:23.611Z"
   },
   {
    "duration": 4,
    "start_time": "2024-05-05T07:01:26.752Z"
   },
   {
    "duration": 8,
    "start_time": "2024-05-05T07:01:48.378Z"
   },
   {
    "duration": 4,
    "start_time": "2024-05-05T07:01:51.916Z"
   },
   {
    "duration": 11,
    "start_time": "2024-05-05T07:02:24.633Z"
   },
   {
    "duration": 3,
    "start_time": "2024-05-05T07:02:33.050Z"
   },
   {
    "duration": 4,
    "start_time": "2024-05-05T07:03:02.689Z"
   },
   {
    "duration": 10,
    "start_time": "2024-05-05T07:03:30.169Z"
   },
   {
    "duration": 3,
    "start_time": "2024-05-05T07:03:33.989Z"
   },
   {
    "duration": 47,
    "start_time": "2024-05-05T13:28:45.241Z"
   },
   {
    "duration": 405,
    "start_time": "2024-05-05T13:28:51.239Z"
   },
   {
    "duration": 247,
    "start_time": "2024-05-05T13:28:53.880Z"
   },
   {
    "duration": 22,
    "start_time": "2024-05-05T13:28:55.431Z"
   },
   {
    "duration": 31,
    "start_time": "2024-05-05T13:28:56.876Z"
   },
   {
    "duration": 3,
    "start_time": "2024-05-05T13:28:59.104Z"
   },
   {
    "duration": 3,
    "start_time": "2024-05-05T13:29:02.285Z"
   },
   {
    "duration": 11,
    "start_time": "2024-05-05T13:29:06.504Z"
   },
   {
    "duration": 4,
    "start_time": "2024-05-05T13:29:08.086Z"
   },
   {
    "duration": 7,
    "start_time": "2024-05-05T13:52:58.506Z"
   },
   {
    "duration": 29,
    "start_time": "2024-05-05T13:53:37.680Z"
   },
   {
    "duration": 30,
    "start_time": "2024-05-05T14:02:37.622Z"
   },
   {
    "duration": 9,
    "start_time": "2024-05-05T14:02:57.717Z"
   },
   {
    "duration": 8,
    "start_time": "2024-05-05T14:03:19.038Z"
   },
   {
    "duration": 7,
    "start_time": "2024-05-05T14:06:23.353Z"
   },
   {
    "duration": 10,
    "start_time": "2024-05-05T14:07:07.672Z"
   },
   {
    "duration": 21,
    "start_time": "2024-05-05T14:24:24.924Z"
   },
   {
    "duration": 27,
    "start_time": "2024-05-05T14:24:52.336Z"
   },
   {
    "duration": 39,
    "start_time": "2024-05-06T08:59:18.853Z"
   },
   {
    "duration": 322,
    "start_time": "2024-05-06T08:59:23.735Z"
   },
   {
    "duration": 207,
    "start_time": "2024-05-06T08:59:25.921Z"
   },
   {
    "duration": 14,
    "start_time": "2024-05-06T08:59:27.033Z"
   },
   {
    "duration": 22,
    "start_time": "2024-05-06T08:59:28.357Z"
   },
   {
    "duration": 2,
    "start_time": "2024-05-06T08:59:30.336Z"
   },
   {
    "duration": 3,
    "start_time": "2024-05-06T09:08:30.130Z"
   },
   {
    "duration": 10,
    "start_time": "2024-05-06T09:08:31.707Z"
   },
   {
    "duration": 4,
    "start_time": "2024-05-06T09:08:32.984Z"
   },
   {
    "duration": 19,
    "start_time": "2024-05-06T09:08:38.190Z"
   },
   {
    "duration": 13,
    "start_time": "2024-05-06T09:08:42.282Z"
   },
   {
    "duration": 19,
    "start_time": "2024-05-06T09:08:44.071Z"
   },
   {
    "duration": 56,
    "start_time": "2024-05-06T09:50:44.836Z"
   },
   {
    "duration": 58,
    "start_time": "2024-05-06T12:13:13.527Z"
   },
   {
    "duration": 59,
    "start_time": "2024-05-06T12:13:30.861Z"
   },
   {
    "duration": 59,
    "start_time": "2024-05-06T12:19:22.263Z"
   },
   {
    "duration": 46,
    "start_time": "2024-05-06T12:19:41.950Z"
   },
   {
    "duration": 9,
    "start_time": "2024-05-06T12:24:04.502Z"
   },
   {
    "duration": 10,
    "start_time": "2024-05-06T14:14:24.314Z"
   },
   {
    "duration": 9,
    "start_time": "2024-05-06T14:19:30.237Z"
   },
   {
    "duration": 12,
    "start_time": "2024-05-06T14:20:01.623Z"
   },
   {
    "duration": 11,
    "start_time": "2024-05-06T14:21:26.050Z"
   },
   {
    "duration": 3,
    "start_time": "2024-05-06T15:58:52.105Z"
   },
   {
    "duration": 14,
    "start_time": "2024-05-06T16:00:47.496Z"
   },
   {
    "duration": 12,
    "start_time": "2024-05-06T16:00:50.194Z"
   },
   {
    "duration": 12,
    "start_time": "2024-05-06T16:00:51.210Z"
   },
   {
    "duration": 11,
    "start_time": "2024-05-06T16:00:51.882Z"
   },
   {
    "duration": 13,
    "start_time": "2024-05-06T16:00:52.529Z"
   },
   {
    "duration": 12,
    "start_time": "2024-05-06T16:00:55.017Z"
   },
   {
    "duration": 26,
    "start_time": "2024-05-06T16:08:47.096Z"
   },
   {
    "duration": 7,
    "start_time": "2024-05-06T16:08:57.799Z"
   },
   {
    "duration": 7,
    "start_time": "2024-05-06T16:09:06.906Z"
   },
   {
    "duration": 7,
    "start_time": "2024-05-06T16:09:29.117Z"
   },
   {
    "duration": 45,
    "start_time": "2024-05-06T16:33:34.787Z"
   },
   {
    "duration": 4,
    "start_time": "2024-05-06T17:00:36.079Z"
   },
   {
    "duration": 4,
    "start_time": "2024-05-06T17:00:40.705Z"
   },
   {
    "duration": 5,
    "start_time": "2024-05-06T17:01:23.890Z"
   },
   {
    "duration": 3,
    "start_time": "2024-05-06T17:01:37.602Z"
   },
   {
    "duration": 5,
    "start_time": "2024-05-06T17:09:46.789Z"
   },
   {
    "duration": 6,
    "start_time": "2024-05-06T17:10:04.858Z"
   },
   {
    "duration": 5,
    "start_time": "2024-05-06T17:12:21.411Z"
   },
   {
    "duration": 8,
    "start_time": "2024-05-06T17:13:40.423Z"
   },
   {
    "duration": 2,
    "start_time": "2024-05-06T17:13:45.948Z"
   },
   {
    "duration": 135,
    "start_time": "2024-05-06T17:13:48.613Z"
   },
   {
    "duration": 8,
    "start_time": "2024-05-06T17:13:52.578Z"
   },
   {
    "duration": 1088,
    "start_time": "2024-05-06T17:14:00.322Z"
   },
   {
    "duration": 17,
    "start_time": "2024-05-06T17:14:05.544Z"
   },
   {
    "duration": 988,
    "start_time": "2024-05-06T17:14:08.876Z"
   },
   {
    "duration": 17,
    "start_time": "2024-05-06T17:14:23.422Z"
   },
   {
    "duration": 3,
    "start_time": "2024-05-06T17:14:40.295Z"
   },
   {
    "duration": 20,
    "start_time": "2024-05-06T17:14:48.966Z"
   },
   {
    "duration": 4,
    "start_time": "2024-05-06T17:14:54.358Z"
   },
   {
    "duration": 8,
    "start_time": "2024-05-06T17:14:56.643Z"
   },
   {
    "duration": 4,
    "start_time": "2024-05-06T17:14:59.384Z"
   },
   {
    "duration": 18,
    "start_time": "2024-05-06T17:15:02.494Z"
   },
   {
    "duration": 13,
    "start_time": "2024-05-06T17:15:05.363Z"
   },
   {
    "duration": 19,
    "start_time": "2024-05-06T17:15:08.735Z"
   },
   {
    "duration": 52,
    "start_time": "2024-05-06T17:15:25.734Z"
   },
   {
    "duration": 62,
    "start_time": "2024-05-06T17:15:29.237Z"
   },
   {
    "duration": 46,
    "start_time": "2024-05-06T17:15:33.931Z"
   },
   {
    "duration": 9,
    "start_time": "2024-05-06T17:15:50.618Z"
   },
   {
    "duration": 8,
    "start_time": "2024-05-06T17:15:56.288Z"
   },
   {
    "duration": 8,
    "start_time": "2024-05-06T17:16:01.105Z"
   },
   {
    "duration": 10,
    "start_time": "2024-05-06T17:16:07.552Z"
   },
   {
    "duration": 12,
    "start_time": "2024-05-06T17:16:10.681Z"
   },
   {
    "duration": 3,
    "start_time": "2024-05-06T17:16:13.638Z"
   },
   {
    "duration": 12,
    "start_time": "2024-05-06T17:16:16.776Z"
   },
   {
    "duration": 11,
    "start_time": "2024-05-06T17:16:17.660Z"
   },
   {
    "duration": 10,
    "start_time": "2024-05-06T17:16:18.384Z"
   },
   {
    "duration": 11,
    "start_time": "2024-05-06T17:16:19.153Z"
   },
   {
    "duration": 12,
    "start_time": "2024-05-06T17:16:19.701Z"
   },
   {
    "duration": 14,
    "start_time": "2024-05-06T17:16:20.232Z"
   },
   {
    "duration": 7,
    "start_time": "2024-05-06T17:16:21.889Z"
   },
   {
    "duration": 7,
    "start_time": "2024-05-06T17:16:25.125Z"
   },
   {
    "duration": 7,
    "start_time": "2024-05-06T17:16:26.173Z"
   },
   {
    "duration": 4,
    "start_time": "2024-05-06T17:16:27.910Z"
   },
   {
    "duration": 7,
    "start_time": "2024-05-06T17:16:31.192Z"
   },
   {
    "duration": 450,
    "start_time": "2024-05-07T04:21:24.450Z"
   },
   {
    "duration": 282,
    "start_time": "2024-05-07T04:21:24.903Z"
   },
   {
    "duration": 19,
    "start_time": "2024-05-07T04:21:25.186Z"
   },
   {
    "duration": 35,
    "start_time": "2024-05-07T04:21:25.207Z"
   },
   {
    "duration": 3,
    "start_time": "2024-05-07T04:21:25.244Z"
   },
   {
    "duration": 18,
    "start_time": "2024-05-07T04:21:25.249Z"
   },
   {
    "duration": 17,
    "start_time": "2024-05-07T04:21:25.273Z"
   },
   {
    "duration": 4,
    "start_time": "2024-05-07T04:21:25.292Z"
   },
   {
    "duration": 35,
    "start_time": "2024-05-07T04:21:25.297Z"
   },
   {
    "duration": 22,
    "start_time": "2024-05-07T04:21:25.334Z"
   },
   {
    "duration": 42,
    "start_time": "2024-05-07T04:21:25.357Z"
   },
   {
    "duration": 86,
    "start_time": "2024-05-07T04:21:25.400Z"
   },
   {
    "duration": 96,
    "start_time": "2024-05-07T04:21:25.488Z"
   },
   {
    "duration": 66,
    "start_time": "2024-05-07T04:21:25.587Z"
   },
   {
    "duration": 24,
    "start_time": "2024-05-07T04:21:25.655Z"
   },
   {
    "duration": 11,
    "start_time": "2024-05-07T04:21:25.681Z"
   },
   {
    "duration": 17,
    "start_time": "2024-05-07T04:21:25.694Z"
   },
   {
    "duration": 22,
    "start_time": "2024-05-07T04:21:25.713Z"
   },
   {
    "duration": 14,
    "start_time": "2024-05-07T04:21:25.737Z"
   },
   {
    "duration": 20,
    "start_time": "2024-05-07T04:21:25.753Z"
   },
   {
    "duration": 19,
    "start_time": "2024-05-07T04:21:25.775Z"
   },
   {
    "duration": 15,
    "start_time": "2024-05-07T04:21:25.795Z"
   },
   {
    "duration": 15,
    "start_time": "2024-05-07T04:21:25.812Z"
   },
   {
    "duration": 46,
    "start_time": "2024-05-07T04:21:25.828Z"
   },
   {
    "duration": 19,
    "start_time": "2024-05-07T04:21:25.876Z"
   },
   {
    "duration": 20,
    "start_time": "2024-05-07T04:21:25.897Z"
   },
   {
    "duration": 14,
    "start_time": "2024-05-07T04:21:25.919Z"
   },
   {
    "duration": 18,
    "start_time": "2024-05-07T04:21:25.934Z"
   },
   {
    "duration": 28,
    "start_time": "2024-05-07T04:21:25.953Z"
   },
   {
    "duration": 5,
    "start_time": "2024-05-07T04:21:25.982Z"
   },
   {
    "duration": 86,
    "start_time": "2024-05-07T04:21:25.988Z"
   },
   {
    "duration": 0,
    "start_time": "2024-05-07T04:21:26.077Z"
   },
   {
    "duration": 0,
    "start_time": "2024-05-07T04:21:26.078Z"
   },
   {
    "duration": 0,
    "start_time": "2024-05-07T04:21:26.079Z"
   },
   {
    "duration": 0,
    "start_time": "2024-05-07T04:21:26.081Z"
   },
   {
    "duration": 0,
    "start_time": "2024-05-07T04:21:26.082Z"
   },
   {
    "duration": 0,
    "start_time": "2024-05-07T04:21:26.084Z"
   },
   {
    "duration": 0,
    "start_time": "2024-05-07T04:21:26.085Z"
   },
   {
    "duration": 19,
    "start_time": "2024-05-07T04:33:56.004Z"
   },
   {
    "duration": 3,
    "start_time": "2024-05-07T04:34:53.848Z"
   },
   {
    "duration": 274,
    "start_time": "2024-05-07T04:34:53.853Z"
   },
   {
    "duration": 11,
    "start_time": "2024-05-07T04:34:54.129Z"
   },
   {
    "duration": 56,
    "start_time": "2024-05-07T04:34:54.142Z"
   },
   {
    "duration": 8,
    "start_time": "2024-05-07T04:34:54.200Z"
   },
   {
    "duration": 22,
    "start_time": "2024-05-07T04:34:54.210Z"
   },
   {
    "duration": 15,
    "start_time": "2024-05-07T04:34:54.234Z"
   },
   {
    "duration": 19,
    "start_time": "2024-05-07T04:34:54.251Z"
   },
   {
    "duration": 57,
    "start_time": "2024-05-07T04:34:54.272Z"
   },
   {
    "duration": 41,
    "start_time": "2024-05-07T04:34:54.330Z"
   },
   {
    "duration": 35,
    "start_time": "2024-05-07T04:34:54.374Z"
   },
   {
    "duration": 82,
    "start_time": "2024-05-07T04:34:54.410Z"
   },
   {
    "duration": 82,
    "start_time": "2024-05-07T04:34:54.494Z"
   },
   {
    "duration": 74,
    "start_time": "2024-05-07T04:34:54.577Z"
   },
   {
    "duration": 27,
    "start_time": "2024-05-07T04:34:54.653Z"
   },
   {
    "duration": 16,
    "start_time": "2024-05-07T04:34:54.682Z"
   },
   {
    "duration": 55,
    "start_time": "2024-05-07T04:34:54.699Z"
   },
   {
    "duration": 21,
    "start_time": "2024-05-07T04:34:54.756Z"
   },
   {
    "duration": 21,
    "start_time": "2024-05-07T04:34:54.778Z"
   },
   {
    "duration": 7,
    "start_time": "2024-05-07T04:34:54.800Z"
   },
   {
    "duration": 38,
    "start_time": "2024-05-07T04:34:54.809Z"
   },
   {
    "duration": 21,
    "start_time": "2024-05-07T04:34:54.849Z"
   },
   {
    "duration": 22,
    "start_time": "2024-05-07T04:34:54.872Z"
   },
   {
    "duration": 51,
    "start_time": "2024-05-07T04:34:54.896Z"
   },
   {
    "duration": 19,
    "start_time": "2024-05-07T04:34:54.949Z"
   },
   {
    "duration": 16,
    "start_time": "2024-05-07T04:34:54.969Z"
   },
   {
    "duration": 10,
    "start_time": "2024-05-07T04:34:54.987Z"
   },
   {
    "duration": 15,
    "start_time": "2024-05-07T04:34:54.998Z"
   },
   {
    "duration": 14,
    "start_time": "2024-05-07T04:34:55.017Z"
   },
   {
    "duration": 8,
    "start_time": "2024-05-07T04:34:55.033Z"
   },
   {
    "duration": 42,
    "start_time": "2024-05-07T04:34:55.043Z"
   },
   {
    "duration": 0,
    "start_time": "2024-05-07T04:34:55.086Z"
   },
   {
    "duration": 0,
    "start_time": "2024-05-07T04:34:55.088Z"
   },
   {
    "duration": 0,
    "start_time": "2024-05-07T04:34:55.089Z"
   },
   {
    "duration": 0,
    "start_time": "2024-05-07T04:34:55.090Z"
   },
   {
    "duration": 1,
    "start_time": "2024-05-07T04:34:55.091Z"
   },
   {
    "duration": 0,
    "start_time": "2024-05-07T04:34:55.093Z"
   },
   {
    "duration": 0,
    "start_time": "2024-05-07T04:34:55.094Z"
   },
   {
    "duration": 2,
    "start_time": "2024-05-07T04:35:48.399Z"
   },
   {
    "duration": 196,
    "start_time": "2024-05-07T04:35:48.403Z"
   },
   {
    "duration": 11,
    "start_time": "2024-05-07T04:35:48.600Z"
   },
   {
    "duration": 40,
    "start_time": "2024-05-07T04:35:48.613Z"
   },
   {
    "duration": 8,
    "start_time": "2024-05-07T04:35:48.656Z"
   },
   {
    "duration": 8,
    "start_time": "2024-05-07T04:35:48.665Z"
   },
   {
    "duration": 7,
    "start_time": "2024-05-07T04:35:48.675Z"
   },
   {
    "duration": 5,
    "start_time": "2024-05-07T04:35:48.683Z"
   },
   {
    "duration": 36,
    "start_time": "2024-05-07T04:35:48.689Z"
   },
   {
    "duration": 21,
    "start_time": "2024-05-07T04:35:48.726Z"
   },
   {
    "duration": 49,
    "start_time": "2024-05-07T04:35:48.749Z"
   },
   {
    "duration": 99,
    "start_time": "2024-05-07T04:35:48.799Z"
   },
   {
    "duration": 80,
    "start_time": "2024-05-07T04:35:48.899Z"
   },
   {
    "duration": 65,
    "start_time": "2024-05-07T04:35:48.984Z"
   },
   {
    "duration": 24,
    "start_time": "2024-05-07T04:35:49.051Z"
   },
   {
    "duration": 12,
    "start_time": "2024-05-07T04:35:49.077Z"
   },
   {
    "duration": 19,
    "start_time": "2024-05-07T04:35:49.091Z"
   },
   {
    "duration": 16,
    "start_time": "2024-05-07T04:35:49.112Z"
   },
   {
    "duration": 17,
    "start_time": "2024-05-07T04:35:49.130Z"
   },
   {
    "duration": 25,
    "start_time": "2024-05-07T04:35:49.149Z"
   },
   {
    "duration": 29,
    "start_time": "2024-05-07T04:35:49.176Z"
   },
   {
    "duration": 15,
    "start_time": "2024-05-07T04:35:49.207Z"
   },
   {
    "duration": 21,
    "start_time": "2024-05-07T04:35:49.224Z"
   },
   {
    "duration": 34,
    "start_time": "2024-05-07T04:35:49.247Z"
   },
   {
    "duration": 19,
    "start_time": "2024-05-07T04:35:49.282Z"
   },
   {
    "duration": 17,
    "start_time": "2024-05-07T04:35:49.302Z"
   },
   {
    "duration": 9,
    "start_time": "2024-05-07T04:35:49.320Z"
   },
   {
    "duration": 45,
    "start_time": "2024-05-07T04:35:49.330Z"
   },
   {
    "duration": 11,
    "start_time": "2024-05-07T04:35:49.376Z"
   },
   {
    "duration": 5,
    "start_time": "2024-05-07T04:35:49.389Z"
   },
   {
    "duration": 18,
    "start_time": "2024-05-07T04:35:49.396Z"
   },
   {
    "duration": 0,
    "start_time": "2024-05-07T04:35:49.415Z"
   },
   {
    "duration": 0,
    "start_time": "2024-05-07T04:35:49.417Z"
   },
   {
    "duration": 0,
    "start_time": "2024-05-07T04:35:49.418Z"
   },
   {
    "duration": 0,
    "start_time": "2024-05-07T04:35:49.419Z"
   },
   {
    "duration": 0,
    "start_time": "2024-05-07T04:35:49.420Z"
   },
   {
    "duration": 0,
    "start_time": "2024-05-07T04:35:49.422Z"
   },
   {
    "duration": 0,
    "start_time": "2024-05-07T04:35:49.424Z"
   },
   {
    "duration": 16,
    "start_time": "2024-05-07T04:36:02.725Z"
   },
   {
    "duration": 3,
    "start_time": "2024-05-07T04:51:11.986Z"
   },
   {
    "duration": 192,
    "start_time": "2024-05-07T04:51:11.991Z"
   },
   {
    "duration": 11,
    "start_time": "2024-05-07T04:51:12.184Z"
   },
   {
    "duration": 40,
    "start_time": "2024-05-07T04:51:12.197Z"
   },
   {
    "duration": 3,
    "start_time": "2024-05-07T04:51:12.239Z"
   },
   {
    "duration": 10,
    "start_time": "2024-05-07T04:51:12.244Z"
   },
   {
    "duration": 21,
    "start_time": "2024-05-07T04:51:12.255Z"
   },
   {
    "duration": 7,
    "start_time": "2024-05-07T04:51:12.277Z"
   },
   {
    "duration": 30,
    "start_time": "2024-05-07T04:51:12.285Z"
   },
   {
    "duration": 19,
    "start_time": "2024-05-07T04:51:12.317Z"
   },
   {
    "duration": 50,
    "start_time": "2024-05-07T04:51:12.338Z"
   },
   {
    "duration": 75,
    "start_time": "2024-05-07T04:51:12.390Z"
   },
   {
    "duration": 73,
    "start_time": "2024-05-07T04:51:12.466Z"
   },
   {
    "duration": 76,
    "start_time": "2024-05-07T04:51:12.543Z"
   },
   {
    "duration": 11,
    "start_time": "2024-05-07T04:51:12.621Z"
   },
   {
    "duration": 12,
    "start_time": "2024-05-07T04:51:12.633Z"
   },
   {
    "duration": 28,
    "start_time": "2024-05-07T04:51:12.647Z"
   },
   {
    "duration": 13,
    "start_time": "2024-05-07T04:51:12.677Z"
   },
   {
    "duration": 11,
    "start_time": "2024-05-07T04:51:12.692Z"
   },
   {
    "duration": 4,
    "start_time": "2024-05-07T04:51:12.704Z"
   },
   {
    "duration": 17,
    "start_time": "2024-05-07T04:51:12.709Z"
   },
   {
    "duration": 46,
    "start_time": "2024-05-07T04:51:12.728Z"
   },
   {
    "duration": 15,
    "start_time": "2024-05-07T04:51:12.775Z"
   },
   {
    "duration": 28,
    "start_time": "2024-05-07T04:51:12.792Z"
   },
   {
    "duration": 19,
    "start_time": "2024-05-07T04:51:12.821Z"
   },
   {
    "duration": 15,
    "start_time": "2024-05-07T04:51:12.841Z"
   },
   {
    "duration": 22,
    "start_time": "2024-05-07T04:51:12.857Z"
   },
   {
    "duration": 25,
    "start_time": "2024-05-07T04:51:12.880Z"
   },
   {
    "duration": 22,
    "start_time": "2024-05-07T04:51:12.907Z"
   },
   {
    "duration": 15,
    "start_time": "2024-05-07T04:51:12.931Z"
   },
   {
    "duration": 11,
    "start_time": "2024-05-07T04:51:12.948Z"
   },
   {
    "duration": 0,
    "start_time": "2024-05-07T04:51:12.961Z"
   },
   {
    "duration": 0,
    "start_time": "2024-05-07T04:51:12.962Z"
   },
   {
    "duration": 0,
    "start_time": "2024-05-07T04:51:12.963Z"
   },
   {
    "duration": 0,
    "start_time": "2024-05-07T04:51:12.964Z"
   },
   {
    "duration": 0,
    "start_time": "2024-05-07T04:51:12.965Z"
   },
   {
    "duration": 0,
    "start_time": "2024-05-07T04:51:12.966Z"
   },
   {
    "duration": 0,
    "start_time": "2024-05-07T04:51:12.973Z"
   },
   {
    "duration": 11,
    "start_time": "2024-05-07T04:51:31.763Z"
   },
   {
    "duration": 11,
    "start_time": "2024-05-07T04:51:35.039Z"
   },
   {
    "duration": 5,
    "start_time": "2024-05-07T04:52:00.288Z"
   },
   {
    "duration": 9,
    "start_time": "2024-05-07T04:54:48.794Z"
   },
   {
    "duration": 8,
    "start_time": "2024-05-07T04:55:59.579Z"
   },
   {
    "duration": 13,
    "start_time": "2024-05-07T05:01:51.496Z"
   },
   {
    "duration": 5,
    "start_time": "2024-05-07T05:10:41.826Z"
   },
   {
    "duration": 18,
    "start_time": "2024-05-07T05:10:47.104Z"
   },
   {
    "duration": 17,
    "start_time": "2024-05-07T05:11:47.115Z"
   },
   {
    "duration": 19,
    "start_time": "2024-05-07T05:12:06.383Z"
   },
   {
    "duration": 13,
    "start_time": "2024-05-07T05:12:09.492Z"
   },
   {
    "duration": 8,
    "start_time": "2024-05-07T05:46:14.915Z"
   },
   {
    "duration": 11,
    "start_time": "2024-05-07T05:46:50.009Z"
   },
   {
    "duration": 6,
    "start_time": "2024-05-07T05:47:40.465Z"
   },
   {
    "duration": 6,
    "start_time": "2024-05-07T05:48:10.488Z"
   },
   {
    "duration": 7,
    "start_time": "2024-05-07T05:51:29.679Z"
   },
   {
    "duration": 12,
    "start_time": "2024-05-07T05:56:41.031Z"
   },
   {
    "duration": 7,
    "start_time": "2024-05-07T05:59:50.671Z"
   },
   {
    "duration": 4,
    "start_time": "2024-05-07T05:59:58.034Z"
   },
   {
    "duration": 11,
    "start_time": "2024-05-07T06:05:45.434Z"
   },
   {
    "duration": 10,
    "start_time": "2024-05-07T06:06:05.728Z"
   },
   {
    "duration": 5,
    "start_time": "2024-05-07T06:06:08.414Z"
   }
  ],
  "celltoolbar": "Отсутствует",
  "colab": {
   "collapsed_sections": [
    "E0vqbgi9ay0H",
    "VUC88oWjTJw2"
   ],
   "provenance": []
  },
  "kernelspec": {
   "display_name": "Python 3 (ipykernel)",
   "language": "python",
   "name": "python3"
  },
  "language_info": {
   "codemirror_mode": {
    "name": "ipython",
    "version": 3
   },
   "file_extension": ".py",
   "mimetype": "text/x-python",
   "name": "python",
   "nbconvert_exporter": "python",
   "pygments_lexer": "ipython3",
   "version": "3.9.5"
  },
  "toc": {
   "base_numbering": 1,
   "nav_menu": {
    "height": "215px",
    "width": "403px"
   },
   "number_sections": true,
   "sideBar": true,
   "skip_h1_title": true,
   "title_cell": "Table of Contents",
   "title_sidebar": "Contents",
   "toc_cell": false,
   "toc_position": {
    "height": "calc(100% - 180px)",
    "left": "10px",
    "top": "150px",
    "width": "285.825px"
   },
   "toc_section_display": true,
   "toc_window_display": false
  }
 },
 "nbformat": 4,
 "nbformat_minor": 1
}
